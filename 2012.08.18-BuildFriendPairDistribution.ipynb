{
 "metadata": {
  "name": "2012.08.18-BuildFriendPairDistribution"
 },
 "nbformat": 3,
 "nbformat_minor": 0,
 "worksheets": [
  {
   "cells": [
    {
     "cell_type": "code",
     "collapsed": false,
     "input": [
      "import numpy as np"
     ],
     "language": "python",
     "metadata": {},
     "outputs": [],
     "prompt_number": 1
    },
    {
     "cell_type": "markdown",
     "metadata": {},
     "source": [
      "Load the ratings file which we created earlier."
     ]
    },
    {
     "cell_type": "code",
     "collapsed": false,
     "input": [
      "import pickle\n",
      "with open(\"ratings.pickle\", \"rb\") as ratings_file:\n",
      "    ratings = pickle.load(ratings_file)"
     ],
     "language": "python",
     "metadata": {},
     "outputs": [],
     "prompt_number": 2
    },
    {
     "cell_type": "code",
     "collapsed": false,
     "input": [
      "ratings.keys()"
     ],
     "language": "python",
     "metadata": {},
     "outputs": [
      {
       "output_type": "pyout",
       "prompt_number": 3,
       "text": [
        "['Y', 'bizs', 'R', 'friends']"
       ]
      }
     ],
     "prompt_number": 3
    },
    {
     "cell_type": "code",
     "collapsed": false,
     "input": [
      "ratings[\"Y\"].shape"
     ],
     "language": "python",
     "metadata": {},
     "outputs": [
      {
       "output_type": "pyout",
       "prompt_number": 4,
       "text": [
        "(10614, 86)"
       ]
      }
     ],
     "prompt_number": 4
    },
    {
     "cell_type": "code",
     "collapsed": false,
     "input": [
      "ratings[\"R\"].shape"
     ],
     "language": "python",
     "metadata": {},
     "outputs": [
      {
       "output_type": "pyout",
       "prompt_number": 5,
       "text": [
        "(10614, 86)"
       ]
      }
     ],
     "prompt_number": 5
    },
    {
     "cell_type": "code",
     "collapsed": false,
     "input": [
      "len(ratings[\"bizs\"])"
     ],
     "language": "python",
     "metadata": {},
     "outputs": [
      {
       "output_type": "pyout",
       "prompt_number": 6,
       "text": [
        "10614"
       ]
      }
     ],
     "prompt_number": 6
    },
    {
     "cell_type": "code",
     "collapsed": false,
     "input": [
      "len(ratings[\"friends\"])"
     ],
     "language": "python",
     "metadata": {},
     "outputs": [
      {
       "output_type": "pyout",
       "prompt_number": 7,
       "text": [
        "86"
       ]
      }
     ],
     "prompt_number": 7
    },
    {
     "cell_type": "markdown",
     "metadata": {},
     "source": [
      "Ratings contains:\n",
      "\n",
      "Y:\n",
      "    The actual ratings.\n",
      "\n",
      "R:\n",
      "    Is this there a rating present or not?\n",
      "\n",
      "bizs:\n",
      "    List of businesses.\n",
      "\n",
      "friends:\n",
      "List of friends (of Alex M.: userid:3DhX5D5lXijHFcm4WGtaRKng http://www.yelp.com/user_details?userid=hX5D5lXijHFcm4WGtaRKng)."
     ]
    },
    {
     "cell_type": "code",
     "collapsed": false,
     "input": [
      "friends = ratings[\"friends\"]"
     ],
     "language": "python",
     "metadata": {},
     "outputs": [],
     "prompt_number": 8
    },
    {
     "cell_type": "code",
     "collapsed": false,
     "input": [
      "friends.index(\"reviews\\\\hX5D5lXijHFcm4WGtaRKng.json\")"
     ],
     "language": "python",
     "metadata": {},
     "outputs": [
      {
       "output_type": "pyout",
       "prompt_number": 9,
       "text": [
        "39"
       ]
      }
     ],
     "prompt_number": 9
    },
    {
     "cell_type": "markdown",
     "metadata": {},
     "source": [
      "Alex M. is index=39 in the friends list. Let's find all the places where she has made a rating."
     ]
    },
    {
     "cell_type": "code",
     "collapsed": false,
     "input": [
      "bluebonnet = ratings[\"R\"][:,39]\n",
      "print \"Alex M. has rated\", bluebonnet.sum(), \"businesses\"\n",
      "bluebonnet_bizs = np.array(ratings[\"bizs\"])[bluebonnet]"
     ],
     "language": "python",
     "metadata": {},
     "outputs": [
      {
       "output_type": "stream",
       "stream": "stdout",
       "text": [
        "Alex M. has rated 259 businesses\n"
       ]
      }
     ],
     "prompt_number": 10
    },
    {
     "cell_type": "markdown",
     "metadata": {},
     "source": [
      "Now let's find all the places where both she and at least one of here friends have rated."
     ]
    },
    {
     "cell_type": "code",
     "collapsed": false,
     "input": [
      "bluebonnet_and_friends = (ratings[\"R\"].sum(axis=1) > 1) & bluebonnet\n",
      "bluebonnet_and_friends_bizs = np.array(ratings[\"bizs\"])[bluebonnet_and_friends]\n",
      "print \"Alex M. has\", len(bluebonnet_and_friends_bizs), \"ratings in common with her friends\""
     ],
     "language": "python",
     "metadata": {},
     "outputs": [
      {
       "output_type": "stream",
       "stream": "stdout",
       "text": [
        "Alex M. has 158 ratings in common with her friends\n"
       ]
      }
     ],
     "prompt_number": 11
    },
    {
     "cell_type": "code",
     "collapsed": false,
     "input": [
      "bluebonnet_and_friends.shape"
     ],
     "language": "python",
     "metadata": {},
     "outputs": [
      {
       "output_type": "pyout",
       "prompt_number": 12,
       "text": [
        "(10614,)"
       ]
      }
     ],
     "prompt_number": 12
    },
    {
     "cell_type": "code",
     "collapsed": false,
     "input": [
      "friend_review_similarity_matrix = np.zeros((5, 5), dtype=np.int32)"
     ],
     "language": "python",
     "metadata": {},
     "outputs": [],
     "prompt_number": 13
    },
    {
     "cell_type": "code",
     "collapsed": false,
     "input": [
      "similar_ratings = ratings[\"Y\"][bluebonnet_and_friends, :]\n",
      "bluebonnet_ratings = similar_ratings[:,39]"
     ],
     "language": "python",
     "metadata": {},
     "outputs": [],
     "prompt_number": 14
    },
    {
     "cell_type": "markdown",
     "metadata": {},
     "source": [
      "I'm having trouble thinking of a better way of finding 'similar' ratings, so I'll just loop through all possible ratings pairs and construct the matrix that way."
     ]
    },
    {
     "cell_type": "code",
     "collapsed": false,
     "input": [
      "for biz_i in xrange(similar_ratings.shape[0]):\n",
      "    for friend_i in xrange(similar_ratings.shape[1]):\n",
      "        # skip Alex M.\n",
      "        if friend_i == 39:\n",
      "            continue\n",
      "        # skip non-ratings\n",
      "        if similar_ratings[biz_i, friend_i] == 0:\n",
      "            continue\n",
      "        # add to frsm matrix\n",
      "        friend_review_similarity_matrix[\n",
      "            int(similar_ratings[biz_i, friend_i]) - 1,\n",
      "            int(bluebonnet_ratings[biz_i]) - 1] += 1"
     ],
     "language": "python",
     "metadata": {},
     "outputs": [],
     "prompt_number": 15
    },
    {
     "cell_type": "code",
     "collapsed": false,
     "input": [
      "friend_review_similarity_matrix"
     ],
     "language": "python",
     "metadata": {},
     "outputs": [
      {
       "output_type": "pyout",
       "prompt_number": 16,
       "text": [
        "array([[  8,   4,   2,   2,   1],\n",
        "       [  5,  15,  15,  11,   5],\n",
        "       [ 18,  30,  44,  57,  24],\n",
        "       [ 26,  63,  81, 130,  76],\n",
        "       [ 13,  18,  34,  92,  61]], dtype=int32)"
       ]
      }
     ],
     "prompt_number": 16
    },
    {
     "cell_type": "markdown",
     "metadata": {},
     "source": [
      "For this experiment, we want only the friends' ratings to influence our predictions, so we will start with uniform prior distributions. That is to say, we assume the probability of each rating by Alex M. is the same for each business."
     ]
    },
    {
     "cell_type": "code",
     "collapsed": false,
     "input": [
      "predicted_bluebonnet_ratings = np.ones((ratings[\"Y\"].shape[0], 5)) / 5"
     ],
     "language": "python",
     "metadata": {},
     "outputs": [],
     "prompt_number": 17
    },
    {
     "cell_type": "code",
     "collapsed": false,
     "input": [
      "predicted_bluebonnet_ratings.shape"
     ],
     "language": "python",
     "metadata": {},
     "outputs": [
      {
       "output_type": "pyout",
       "prompt_number": 18,
       "text": [
        "(10614, 5)"
       ]
      }
     ],
     "prompt_number": 18
    },
    {
     "cell_type": "markdown",
     "metadata": {},
     "source": [
      "Next, we wish to go through each valid rating and update our predictions.\n",
      "\n",
      "We will do this by constructing a conditional probability distribution: what is the probability the Alex M. will rate at value n given her friend rated value k?\n",
      "\n",
      "I still need to think more about what the actual events are that I'm using here. Sloppy thinking about events is how I get probablilty questions incorrect."
     ]
    },
    {
     "cell_type": "code",
     "collapsed": false,
     "input": [
      "# create probability distributions for friend rating given Alex M. rating.\n",
      "frsm_conditional = friend_review_similarity_matrix * 1.0 / np.tile(friend_review_similarity_matrix.sum(axis=0), (5, 1))\n",
      "frsm_friend_conditional = friend_review_similarity_matrix.sum(axis=1)\n",
      "frsm_friend_conditional = frsm_friend_conditional * 1.0 / frsm_friend_conditional.sum()"
     ],
     "language": "python",
     "metadata": {},
     "outputs": [],
     "prompt_number": 19
    },
    {
     "cell_type": "code",
     "collapsed": false,
     "input": [
      "Y = ratings[\"Y\"]\n",
      "predicted_bluebonnet_ratings = np.ones((ratings[\"Y\"].shape[0], 5)) / 5\n",
      "for biz_i in xrange(Y.shape[0]):\n",
      "    for friend_i in xrange(Y.shape[1]):\n",
      "        # skip Alex M.\n",
      "        if friend_i == 39:\n",
      "            continue\n",
      "        # skip non-ratings\n",
      "        friend_rating = int(Y[biz_i, friend_i])\n",
      "        if friend_rating == 0:\n",
      "            continue\n",
      "        # construct a conditional probabilities for Alex M. ratings, given this friend's rating\n",
      "        # I know something is screwy here, but I need to figure out what I'm doing first\n",
      "        # So, it is ok to divide by the sum.\n",
      "        # The sum is the \"marginal likelihood\" which is to say, the probability of friend's rating independent of the hypothesis\n",
      "        predicted_bluebonnet_ratings[biz_i,:] = predicted_bluebonnet_ratings[biz_i,:] * frsm_conditional[friend_rating-1,:] # / frsm_friend_conditional[friend_rating-1]\n",
      "        predicted_bluebonnet_ratings[biz_i,:] /= predicted_bluebonnet_ratings[biz_i,:].sum()"
     ],
     "language": "python",
     "metadata": {},
     "outputs": [],
     "prompt_number": 20
    },
    {
     "cell_type": "code",
     "collapsed": false,
     "input": [
      "bizs = np.array(ratings[\"bizs\"])\n",
      "bizs[predicted_bluebonnet_ratings[:,4] > 0.8]"
     ],
     "language": "python",
     "metadata": {},
     "outputs": [
      {
       "output_type": "pyout",
       "prompt_number": 21,
       "text": [
        "array([u'/biz/uchi-austin',\n",
        "       u'/biz/yelp-lift-off-party-ninety-proof-austin',\n",
        "       u'/biz/p%C3%A9ch%C3%A9-austin-3',\n",
        "       u'/biz/austin-bergstrom-international-airport-austin-3',\n",
        "       u'/biz/screw-your-resolutions-elite-event-at-gibson-austin',\n",
        "       u'/biz/alamo-drafthouse-cinema-austin-6',\n",
        "       u'/biz/yelp-elite-event-finn-and-porter-austin',\n",
        "       u'/biz/yelp-elite-event-the-highball-austin',\n",
        "       u'/biz/hotel-san-jos%C3%A9-austin-2'], \n",
        "      dtype='<U76')"
       ]
      }
     ],
     "prompt_number": 21
    },
    {
     "cell_type": "markdown",
     "metadata": {},
     "source": [
      "So, I want to limit it to non-events. Also, I should filter out places where Alex M. has already reviewed."
     ]
    },
    {
     "cell_type": "code",
     "collapsed": false,
     "input": [
      "unreviewed_bizs = ratings[\"R\"][:,39] != True"
     ],
     "language": "python",
     "metadata": {},
     "outputs": [],
     "prompt_number": 26
    },
    {
     "cell_type": "code",
     "collapsed": false,
     "input": [
      "possible_bizs = bizs[(predicted_bluebonnet_ratings[:,4] > 0.5) & unreviewed_bizs]\n",
      "possible_bizs_ratings = predicted_bluebonnet_ratings[(predicted_bluebonnet_ratings[:,4] > 0.5) & unreviewed_bizs,:]"
     ],
     "language": "python",
     "metadata": {},
     "outputs": [],
     "prompt_number": 29
    },
    {
     "cell_type": "code",
     "collapsed": false,
     "input": [
      "sorted_possible_bizs = sorted(zip(possible_bizs, possible_bizs_ratings), key=lambda row: row[1][4]) "
     ],
     "language": "python",
     "metadata": {},
     "outputs": [],
     "prompt_number": 30
    },
    {
     "cell_type": "code",
     "collapsed": false,
     "input": [
      "sorted_possible_bizs.reverse()"
     ],
     "language": "python",
     "metadata": {},
     "outputs": [],
     "prompt_number": 39
    },
    {
     "cell_type": "code",
     "collapsed": false,
     "input": [
      "sorted_filtered_possible_bizs = [(biz, rat) for biz, rat in sorted_possible_bizs if \"event\" not in biz and \"yelp\" not in biz and \"pubcrawl\" not in biz]"
     ],
     "language": "python",
     "metadata": {},
     "outputs": [],
     "prompt_number": 44
    },
    {
     "cell_type": "code",
     "collapsed": false,
     "input": [
      "sorted_filtered_possible_bizs[:30]"
     ],
     "language": "python",
     "metadata": {},
     "outputs": [
      {
       "output_type": "pyout",
       "prompt_number": 47,
       "text": [
        "[(u'/biz/uchi-austin',\n",
        "  array([  3.35057862e-05,   8.16481832e-07,   1.11941350e-04,\n",
        "         1.21587208e-01,   8.78266529e-01])),\n",
        " (u'/biz/alamo-drafthouse-cinema-austin-6',\n",
        "  array([  4.33160945e-05,   2.41010488e-06,   2.13596026e-04,\n",
        "         1.33115334e-01,   8.66625344e-01])),\n",
        " (u'/biz/hotel-san-jos%C3%A9-austin-2',\n",
        "  array([  2.83821310e-04,   7.43044357e-05,   1.52347955e-03,\n",
        "         1.66246608e-01,   8.31871786e-01])),\n",
        " (u'/biz/austin-bergstrom-international-airport-austin-3',\n",
        "  array([  2.83821310e-04,   7.43044357e-05,   1.52347955e-03,\n",
        "         1.66246608e-01,   8.31871786e-01])),\n",
        " (u'/biz/p%C3%A9ch%C3%A9-austin-3',\n",
        "  array([  5.42897389e-04,   1.90635445e-04,   2.80148592e-03,\n",
        "         1.87441557e-01,   8.09023424e-01])),\n",
        " (u'/biz/draught-house-pub-and-brewery-austin',\n",
        "  array([  2.76572545e-04,   4.29961667e-04,   5.02143169e-03,\n",
        "         2.14973977e-01,   7.79298057e-01])),\n",
        " (u'/biz/big-top-candy-shop-austin',\n",
        "  array([  8.67586081e-04,   9.17740898e-05,   2.38000910e-03,\n",
        "         2.24017698e-01,   7.72642933e-01])),\n",
        " (u'/biz/continental-club-austin',\n",
        "  array([  1.87296129e-03,   3.97159718e-04,   4.88413238e-03,\n",
        "         2.21340909e-01,   7.71504838e-01])),\n",
        " (u'/biz/perrys-steakhouse-and-grille-austin',\n",
        "  array([  2.28282898e-03,   3.71011933e-04,   4.80435353e-03,\n",
        "         2.25071793e-01,   7.67470012e-01])),\n",
        " (u'/biz/red-bud-isle-park-austin',\n",
        "  array([  2.78189808e-03,   3.46524407e-04,   4.72504288e-03,\n",
        "         2.28825130e-01,   7.63321405e-01])),\n",
        " (u'/biz/an-evening-with-finn-and-porter-austin',\n",
        "  array([  2.78189808e-03,   3.46524407e-04,   4.72504288e-03,\n",
        "         2.28825130e-01,   7.63321405e-01])),\n",
        " (u'/biz/trio-austin-2',\n",
        "  array([  1.10656865e-03,   2.67267289e-04,   4.48040788e-03,\n",
        "         2.41968502e-01,   7.52177254e-01])),\n",
        " (u'/biz/sugar-mamas-bakeshop-austin-3',\n",
        "  array([ 0.00290212,  0.00107693,  0.00901467,  0.24231112,  0.74469517])),\n",
        " (u'/biz/town-lake-metropolitan-parks-austin',\n",
        "  array([ 0.00430502,  0.00093844,  0.00870996,  0.25018625,  0.73586033])),\n",
        " (u'/biz/buenos-aires-caf%C3%A9-austin-10',\n",
        "  array([ 0.00342984,  0.00153288,  0.0132232 ,  0.25623021,  0.72558386])),\n",
        " (u'/biz/gourdoughs-austin',\n",
        "  array([  1.71179741e-03,   7.23532196e-04,   8.25596157e-03,\n",
        "         2.64459011e-01,   7.24849697e-01])),\n",
        " (u'/biz/paggi-house-austin',\n",
        "  array([  9.67060852e-04,   1.56281845e-04,   3.95985675e-03,\n",
        "         2.72340030e-01,   7.22576770e-01])),\n",
        " (u'/biz/the-salt-lick-bbq-driftwood',\n",
        "  array([ 0.01931054,  0.00729463,  0.01741966,  0.23907493,  0.71690024])),\n",
        " (u'/biz/roaring-fork-austin-3',\n",
        "  array([ 0.00446046,  0.00289663,  0.01650406,  0.26312607,  0.71301278])),\n",
        " (u'/biz/whip-in-austin',\n",
        "  array([ 0.00542993,  0.00270262,  0.01621466,  0.26723469,  0.7084181 ])),\n",
        " (u'/biz/barton-springs-pool-austin',\n",
        "  array([  3.76039656e-03,   5.48468369e-04,   7.69415219e-03,\n",
        "         2.81448463e-01,   7.06548520e-01])),\n",
        " (u'/biz/peter-pan-mini-golf-austin',\n",
        "  array([ 0.00803864,  0.00235033,  0.01563516,  0.27536638,  0.69860949])),\n",
        " (u'/biz/tiffs-treats-austin',\n",
        "  array([ 0.00456471,  0.00883095,  0.03088831,  0.27333356,  0.68238247])),\n",
        " (u'/biz/mars-restaurant-and-bar-austin',\n",
        "  array([ 0.00473602,  0.00157722,  0.01430255,  0.30018511,  0.67919911])),\n",
        " (u'/biz/house-wine-austin',\n",
        "  array([ 0.00676581,  0.00768901,  0.02981995,  0.2819872 ,  0.67373803])),\n",
        " (u'/biz/torchys-tacos-austin-3',\n",
        "  array([ 0.00823227,  0.00717048,  0.02928258,  0.28624887,  0.6690658 ])),\n",
        " (u'/biz/runtex-austin',\n",
        "  array([ 0.01217003,  0.00622696,  0.02819599,  0.29454079,  0.65886623])),\n",
        " (u'/biz/amys-ice-creams-austin',\n",
        "  array([ 0.01217003,  0.00622696,  0.02819599,  0.29454079,  0.65886623])),\n",
        " (u'/biz/emerald-city-press-austin',\n",
        "  array([ 0.01478428,  0.0057978 ,  0.02764388,  0.29851693,  0.65325711])),\n",
        " (u'/biz/botanitas-austin',\n",
        "  array([ 0.01478428,  0.0057978 ,  0.02764388,  0.29851693,  0.65325711]))]"
       ]
      }
     ],
     "prompt_number": 47
    },
    {
     "cell_type": "code",
     "collapsed": false,
     "input": [],
     "language": "python",
     "metadata": {},
     "outputs": []
    }
   ],
   "metadata": {}
  }
 ]
}