{
 "metadata": {
  "name": "2012.09.09-ExtractRatings"
 },
 "nbformat": 3,
 "nbformat_minor": 0,
 "worksheets": [
  {
   "cells": [
    {
     "cell_type": "code",
     "collapsed": false,
     "input": [
      "import lxml\n",
      "import lxml.html\n",
      "import json\n",
      "import os.path\n",
      "import re\n",
      "import glob\n",
      "import cPickle as pickle"
     ],
     "language": "python",
     "metadata": {},
     "outputs": [],
     "prompt_number": 35
    },
    {
     "cell_type": "code",
     "collapsed": false,
     "input": [
      "with open(\"data/friends.json\") as f:\n",
      "    friends = json.load(f)\n",
      "with open(\"data/friend-of-friend.json\") as f:\n",
      "    friends_of_friends = json.load(f)"
     ],
     "language": "python",
     "metadata": {},
     "outputs": [],
     "prompt_number": 4
    },
    {
     "cell_type": "code",
     "collapsed": false,
     "input": [
      "persons = set(friends)\n",
      "persons.update(set(friends_of_friends))\n",
      "persons.add(\"hX5D5lXijHFcm4WGtaRKng\")"
     ],
     "language": "python",
     "metadata": {},
     "outputs": [],
     "prompt_number": 16
    },
    {
     "cell_type": "code",
     "collapsed": false,
     "input": [
      "len(persons)"
     ],
     "language": "python",
     "metadata": {},
     "outputs": [
      {
       "output_type": "pyout",
       "prompt_number": 17,
       "text": [
        "486"
       ]
      }
     ],
     "prompt_number": 17
    },
    {
     "cell_type": "code",
     "collapsed": false,
     "input": [
      "review_directories = [\"data/reviews-html\", \"data/reviews-friends-html\", \"data/reviews-friends-of-friends-html\"]\n",
      "ratings = []\n",
      "for review_dir in review_directories:\n",
      "    for filepath in glob.glob(os.path.join(review_dir, \"*.html\")):\n",
      "        person_id = filepath.split(\"/\")[-1].split(\".\")[0]\n",
      "        with open(filepath) as f:\n",
      "            html = lxml.html.fromstring(\"\".join(f.readlines()))\n",
      "        for review in html.cssselect(\"div.review\"):\n",
      "            biz = review.cssselect(\"div.biz_info h4 a\")[0].get(\"href\")\n",
      "            biz = re.sub(r\"#.*\", \"\", biz)\n",
      "            rating_str = review.cssselect(\"div.rating img\")[0].get(\"alt\")\n",
      "            rating = float(rating_str.split()[0])\n",
      "            ratings.append((biz, person_id, rating))\n"
     ],
     "language": "python",
     "metadata": {},
     "outputs": [],
     "prompt_number": 30
    },
    {
     "cell_type": "code",
     "collapsed": false,
     "input": [
      "len(ratings)"
     ],
     "language": "python",
     "metadata": {},
     "outputs": [
      {
       "output_type": "pyout",
       "prompt_number": 32,
       "text": [
        "68671"
       ]
      }
     ],
     "prompt_number": 32
    },
    {
     "cell_type": "code",
     "collapsed": false,
     "input": [
      "with open(\"data/ratings.pickle\", \"wb\") as f:\n",
      "    pickle.dump(ratings, f, pickle.HIGHEST_PROTOCOL)"
     ],
     "language": "python",
     "metadata": {},
     "outputs": [],
     "prompt_number": 36
    },
    {
     "cell_type": "code",
     "collapsed": false,
     "input": [
      "# does the number of person_ids match the set?\n",
      "ratings_persons = set()\n",
      "for rating in ratings:\n",
      "    ratings_persons.add(rating[1])\n",
      "len(ratings_persons)"
     ],
     "language": "python",
     "metadata": {},
     "outputs": [
      {
       "output_type": "pyout",
       "prompt_number": 38,
       "text": [
        "464"
       ]
      }
     ],
     "prompt_number": 38
    },
    {
     "cell_type": "code",
     "collapsed": false,
     "input": [],
     "language": "python",
     "metadata": {},
     "outputs": []
    }
   ],
   "metadata": {}
  }
 ]
}