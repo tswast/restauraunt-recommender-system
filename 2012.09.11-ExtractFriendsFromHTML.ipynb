{
 "metadata": {
  "name": "2012.09.11-ExtractFriendsFromHTML"
 },
 "nbformat": 3,
 "nbformat_minor": 0,
 "worksheets": [
  {
   "cells": [
    {
     "cell_type": "code",
     "collapsed": false,
     "input": [
      "import json\n",
      "import glob"
     ],
     "language": "python",
     "metadata": {},
     "outputs": [],
     "prompt_number": 2
    },
    {
     "cell_type": "code",
     "collapsed": false,
     "input": [
      "friends = {}\n",
      "for path in glob.glob(\"data/friends-json-201207/*.json\"):\n",
      "    user_id = path.split(\"/\")[-1].split(\".\")[0]\n",
      "    with open(path) as f:\n",
      "        users_friends = json.load(f)\n",
      "    friends[user_id] = [s.split(\"=\")[-1] for s in users_friends if s != \"#\"]"
     ],
     "language": "python",
     "metadata": {},
     "outputs": [],
     "prompt_number": 6
    },
    {
     "cell_type": "code",
     "collapsed": false,
     "input": [
      "# what are the edges?"
     ],
     "language": "python",
     "metadata": {},
     "outputs": [],
     "prompt_number": 8
    },
    {
     "cell_type": "code",
     "collapsed": false,
     "input": [],
     "language": "python",
     "metadata": {},
     "outputs": []
    }
   ],
   "metadata": {}
  }
 ]
}