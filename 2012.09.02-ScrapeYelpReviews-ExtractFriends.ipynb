{
 "metadata": {
  "name": "2012.09.02-ScrapeYelpReviews-ExtractFriends"
 },
 "nbformat": 3,
 "nbformat_minor": 0,
 "worksheets": [
  {
   "cells": [
    {
     "cell_type": "code",
     "collapsed": false,
     "input": [
      "from myurllib import urlopen\n",
      "import lxml.html\n",
      "import codecs"
     ],
     "language": "python",
     "metadata": {},
     "outputs": [],
     "prompt_number": 1
    },
    {
     "cell_type": "code",
     "collapsed": false,
     "input": [
      "import pickle\n",
      "with open(\"smallfriends.pickle\") as f:\n",
      "    friends = pickle.load(f)"
     ],
     "language": "python",
     "metadata": {},
     "outputs": [],
     "prompt_number": 2
    },
    {
     "cell_type": "code",
     "collapsed": false,
     "input": [
      "friend_ids = []\n",
      "for friend in friends:\n",
      "    friend_ids.append(friend.split(\"\\\\\")[1].split(\".\")[0])"
     ],
     "language": "python",
     "metadata": {},
     "outputs": [],
     "prompt_number": 3
    },
    {
     "cell_type": "code",
     "collapsed": false,
     "input": [
      "import json\n",
      "def extractfriends(id):\n",
      "    friendids = []\n",
      "    has_more = True\n",
      "    page = 0\n",
      "    while has_more:\n",
      "        f = open(\"/Users/tswast/friends-html/{id}.{}.html\".format(page, id=id))\n",
      "        try:\n",
      "            filecontent = (\"\".join(f.readlines())).strip().decode(\"utf-8\")\n",
      "        finally:\n",
      "            f.close()\n",
      "        # extract friend urls\n",
      "        doc = lxml.html.fromstring(filecontent)\n",
      "        frienddivs = doc.cssselect(\"div.user-passport\")\n",
      "        for frienddiv in frienddivs:\n",
      "            friendids.append(frienddiv.cssselect(\"div.photo-box a\")[0].get(\"href\"))\n",
      "        has_more = len(doc.cssselect(\"#pager_page_next\")) != 0\n",
      "        page = page + 1\n",
      "    with open(\"/Users/tswast/friends-json/{id}.json\".format(id=id), \"wb\") as f:\n",
      "        json.dump(friendids, f)"
     ],
     "language": "python",
     "metadata": {},
     "outputs": [],
     "prompt_number": 9
    },
    {
     "cell_type": "code",
     "collapsed": false,
     "input": [
      "def download_friends(ids):\n",
      "    for i, friend in enumerate(ids):\n",
      "        print \"--------------------------------------\"\n",
      "        print \"Starting friend:\", friend\n",
      "        print \"--------------------------------------\"\n",
      "        extractfriends(friend)"
     ],
     "language": "python",
     "metadata": {},
     "outputs": [],
     "prompt_number": 5
    },
    {
     "cell_type": "code",
     "collapsed": false,
     "input": [
      "download_friends(friend_ids)"
     ],
     "language": "python",
     "metadata": {},
     "outputs": [
      {
       "output_type": "stream",
       "stream": "stdout",
       "text": [
        "--------------------------------------\n",
        "Starting friend: 0lDl1Jg1Qz2KhvkfJKk6fw\n",
        "--------------------------------------\n",
        "--------------------------------------"
       ]
      },
      {
       "output_type": "stream",
       "stream": "stdout",
       "text": [
        "\n",
        "Starting friend: eTcdpCrU5qgp-e8Pwc3ZVQ\n",
        "--------------------------------------\n",
        "--------------------------------------\n",
        "Starting friend: yPv8qeP7agCPH9R7ag7GtA\n",
        "--------------------------------------\n",
        "--------------------------------------\n",
        "Starting friend: _cUtxCvCccwgNJzD5I0cDA\n",
        "--------------------------------------\n",
        "--------------------------------------"
       ]
      },
      {
       "output_type": "stream",
       "stream": "stdout",
       "text": [
        "\n",
        "Starting friend: PJxmFKPKnO3xJjmA5IdEKQ\n",
        "--------------------------------------\n",
        "--------------------------------------\n",
        "Starting friend: JP5uWDM3RmYF4GOzh0lobw\n",
        "--------------------------------------\n",
        "--------------------------------------"
       ]
      },
      {
       "output_type": "stream",
       "stream": "stdout",
       "text": [
        "\n",
        "Starting friend: LUiB72Pa35Re92_t0qnb4g\n",
        "--------------------------------------\n",
        "--------------------------------------"
       ]
      },
      {
       "output_type": "stream",
       "stream": "stdout",
       "text": [
        "\n",
        "Starting friend: T8Hg9GIF0mQa5tvNKmZL7Q\n",
        "--------------------------------------\n",
        "--------------------------------------"
       ]
      },
      {
       "output_type": "stream",
       "stream": "stdout",
       "text": [
        "\n",
        "Starting friend: nKD00v01LghQGuy0Jc4BhA\n",
        "--------------------------------------\n",
        "--------------------------------------"
       ]
      },
      {
       "output_type": "stream",
       "stream": "stdout",
       "text": [
        "\n",
        "Starting friend: wEqETrWwpsujK2r8ZueOFw\n",
        "--------------------------------------\n",
        "--------------------------------------"
       ]
      },
      {
       "output_type": "stream",
       "stream": "stdout",
       "text": [
        "\n",
        "Starting friend: uUVrIQ4f6KcIOO6xA0cgjA\n",
        "--------------------------------------\n",
        "--------------------------------------"
       ]
      },
      {
       "output_type": "stream",
       "stream": "stdout",
       "text": [
        "\n",
        "Starting friend: 1g_ajkmxzivqpY8E9s9sgQ\n",
        "--------------------------------------\n",
        "--------------------------------------\n",
        "Starting friend: pMh01Me0lAlbGEk0cbZ3Vg\n",
        "--------------------------------------\n",
        "--------------------------------------"
       ]
      },
      {
       "output_type": "stream",
       "stream": "stdout",
       "text": [
        "\n",
        "Starting friend: w3aofFfsDwGl9MOh5GJyNg\n",
        "--------------------------------------\n",
        "--------------------------------------\n",
        "Starting friend: EUtRUwSMZJ-Yc0lIixudDA\n",
        "--------------------------------------\n",
        "--------------------------------------"
       ]
      },
      {
       "output_type": "stream",
       "stream": "stdout",
       "text": [
        "\n",
        "Starting friend: PI51J_fKhEfZKhi-MjWBpg\n",
        "--------------------------------------\n",
        "--------------------------------------"
       ]
      },
      {
       "output_type": "stream",
       "stream": "stdout",
       "text": [
        "\n",
        "Starting friend: UUfzLGE-1ooNd9ELj-HfNQ\n",
        "--------------------------------------\n",
        "--------------------------------------"
       ]
      },
      {
       "output_type": "stream",
       "stream": "stdout",
       "text": [
        "\n",
        "Starting friend: 37Ywl8wZouGLjgdscVlWzw\n",
        "--------------------------------------\n",
        "--------------------------------------"
       ]
      },
      {
       "output_type": "stream",
       "stream": "stdout",
       "text": [
        "\n",
        "Starting friend: ee1XilXm-2clTtM5O_k0aA\n",
        "--------------------------------------\n",
        "--------------------------------------\n",
        "Starting friend: qyxYTJGe21eQrDYZoPfpQw\n",
        "--------------------------------------\n",
        "--------------------------------------\n",
        "Starting friend: wb1pZq2rOuQmf8I4qcA44g\n",
        "--------------------------------------\n",
        "--------------------------------------"
       ]
      },
      {
       "output_type": "stream",
       "stream": "stdout",
       "text": [
        "\n",
        "Starting friend: W0rNZQcMPdlkPa8NORg6ag\n",
        "--------------------------------------\n",
        "--------------------------------------\n",
        "Starting friend: GKcVFXfdSV1l5Sjm45niSA\n",
        "--------------------------------------\n",
        "--------------------------------------\n",
        "Starting friend: ixzsR2yViz6YEa-euZ7QpQ\n",
        "--------------------------------------\n",
        "--------------------------------------\n",
        "Starting friend: _IBF-vT04cjBnXYs-xMYJA\n",
        "--------------------------------------\n",
        "--------------------------------------"
       ]
      },
      {
       "output_type": "stream",
       "stream": "stdout",
       "text": [
        "\n",
        "Starting friend: 0D7wRhardcTqx3Do37WRyw\n",
        "--------------------------------------\n",
        "--------------------------------------\n",
        "Starting friend: FCTEAWv-QiGr0lfvayJcMQ\n",
        "--------------------------------------\n",
        "--------------------------------------"
       ]
      },
      {
       "output_type": "stream",
       "stream": "stdout",
       "text": [
        "\n",
        "Starting friend: XDnlriVXnZgFYXHqphBJ3g\n",
        "--------------------------------------\n",
        "--------------------------------------"
       ]
      },
      {
       "output_type": "stream",
       "stream": "stdout",
       "text": [
        "\n",
        "Starting friend: lS8FHMmWEnpEl2IaIrCNnw\n",
        "--------------------------------------\n",
        "--------------------------------------\n",
        "Starting friend: Loh2a6EQdppPr-VZ-toHpg\n",
        "--------------------------------------\n",
        "--------------------------------------"
       ]
      },
      {
       "output_type": "stream",
       "stream": "stdout",
       "text": [
        "\n",
        "Starting friend: nSKG4DqG3l9A3I05AZ8nIw\n",
        "--------------------------------------\n",
        "--------------------------------------"
       ]
      },
      {
       "output_type": "stream",
       "stream": "stdout",
       "text": [
        "\n",
        "Starting friend: _-18MX0miVYYMwLLIwuMqQ\n",
        "--------------------------------------\n",
        "--------------------------------------\n",
        "Starting friend: b3rLTyr7SOpME0uxReH9Xw\n",
        "--------------------------------------\n",
        "--------------------------------------"
       ]
      },
      {
       "output_type": "stream",
       "stream": "stdout",
       "text": [
        "\n",
        "Starting friend: -yHEt4nmx6SEWW0bhFAtKg\n",
        "--------------------------------------\n",
        "--------------------------------------"
       ]
      },
      {
       "output_type": "stream",
       "stream": "stdout",
       "text": [
        "\n",
        "Starting friend: fHS0bQ-l5rHME_xXKQSYXQ\n",
        "--------------------------------------\n",
        "--------------------------------------"
       ]
      },
      {
       "output_type": "stream",
       "stream": "stdout",
       "text": [
        "\n",
        "Starting friend: V3Vq2DVl3JYf9LQjZturzg\n",
        "--------------------------------------\n",
        "--------------------------------------"
       ]
      },
      {
       "output_type": "stream",
       "stream": "stdout",
       "text": [
        "\n",
        "Starting friend: in-gcEwHX3v6irCrP_N-_g\n",
        "--------------------------------------\n",
        "--------------------------------------"
       ]
      },
      {
       "output_type": "stream",
       "stream": "stdout",
       "text": [
        "\n",
        "Starting friend: hX5D5lXijHFcm4WGtaRKng\n",
        "--------------------------------------\n",
        "--------------------------------------\n",
        "Starting friend: IrC64HBNdFyAFHan9aUH_A\n",
        "--------------------------------------\n",
        "--------------------------------------"
       ]
      },
      {
       "output_type": "stream",
       "stream": "stdout",
       "text": [
        "\n",
        "Starting friend: VKBqbHrC1otbw2yejmWCbw\n",
        "--------------------------------------\n",
        "--------------------------------------\n",
        "Starting friend: DOj9NanlJP3xntULCy5Uow\n",
        "--------------------------------------\n",
        "--------------------------------------"
       ]
      },
      {
       "output_type": "stream",
       "stream": "stdout",
       "text": [
        "\n",
        "Starting friend: JI2HPIivGVUFVdTo3uXoYg\n",
        "--------------------------------------\n",
        "--------------------------------------"
       ]
      },
      {
       "output_type": "stream",
       "stream": "stdout",
       "text": [
        "\n",
        "Starting friend: ac5pvESEkNY73T0d3Fbz7Q\n",
        "--------------------------------------\n",
        "--------------------------------------\n",
        "Starting friend: ZNgekgB3B6sJWpYMiDZWVw\n",
        "--------------------------------------\n",
        "--------------------------------------"
       ]
      },
      {
       "output_type": "stream",
       "stream": "stdout",
       "text": [
        "\n",
        "Starting friend: 0_itmHmaMfJTR3aQoQF0Mg\n",
        "--------------------------------------\n",
        "--------------------------------------\n",
        "Starting friend: KESaslWmfZO5zLy0UHExAQ\n",
        "--------------------------------------\n",
        "--------------------------------------"
       ]
      },
      {
       "output_type": "stream",
       "stream": "stdout",
       "text": [
        "\n",
        "Starting friend: zonT-KQFJiejFNUrs2KR0Q\n",
        "--------------------------------------\n",
        "--------------------------------------"
       ]
      },
      {
       "output_type": "stream",
       "stream": "stdout",
       "text": [
        "\n",
        "Starting friend: QVHX-Jdn6eVCw41Hs7bZXg\n",
        "--------------------------------------\n",
        "--------------------------------------\n",
        "Starting friend: OrD_N8sWlBMbJ39bXeA5eA\n",
        "--------------------------------------\n",
        "--------------------------------------"
       ]
      },
      {
       "output_type": "stream",
       "stream": "stdout",
       "text": [
        "\n",
        "Starting friend: 1fbJ0SUgqVHoTz7SRJIdww\n",
        "--------------------------------------\n",
        "--------------------------------------\n",
        "Starting friend: _rMLw5GsF6i--Fi61KhlmQ\n",
        "--------------------------------------\n",
        "--------------------------------------"
       ]
      },
      {
       "output_type": "stream",
       "stream": "stdout",
       "text": [
        "\n",
        "Starting friend: Bc_bnoDsBRpqiMnDgV5ZHg\n",
        "--------------------------------------\n",
        "--------------------------------------"
       ]
      },
      {
       "output_type": "stream",
       "stream": "stdout",
       "text": [
        "\n",
        "Starting friend: BV9925KFD6KWxPpkSNN0dQ\n",
        "--------------------------------------\n",
        "--------------------------------------"
       ]
      },
      {
       "output_type": "stream",
       "stream": "stdout",
       "text": [
        "\n",
        "Starting friend: uqY0yL_zKk-4CcOdEDJ-Ow\n",
        "--------------------------------------\n",
        "--------------------------------------"
       ]
      },
      {
       "output_type": "stream",
       "stream": "stdout",
       "text": [
        "\n",
        "Starting friend: kA_F6Vc1d4IztJVLFmsJ8Q\n",
        "--------------------------------------\n",
        "--------------------------------------"
       ]
      },
      {
       "output_type": "stream",
       "stream": "stdout",
       "text": [
        "\n",
        "Starting friend: s6r05HIB4bHHA2UtK94u8g\n",
        "--------------------------------------\n",
        "--------------------------------------"
       ]
      },
      {
       "output_type": "stream",
       "stream": "stdout",
       "text": [
        "\n",
        "Starting friend: 9X3UsnAE8BdzwkwMchLpcw\n",
        "--------------------------------------\n",
        "--------------------------------------\n",
        "Starting friend: iRmKdB9Mge-TChWpi8ThnQ\n",
        "--------------------------------------\n",
        "--------------------------------------"
       ]
      },
      {
       "output_type": "stream",
       "stream": "stdout",
       "text": [
        "\n",
        "Starting friend: bRa5YawpNlrClzbwGy1hCw\n",
        "--------------------------------------\n",
        "--------------------------------------"
       ]
      },
      {
       "output_type": "stream",
       "stream": "stdout",
       "text": [
        "\n",
        "Starting friend: CytQOaUPC8rrsgvvfgjI-Q\n",
        "--------------------------------------\n",
        "--------------------------------------\n",
        "Starting friend: TXSuRkB0QFZOgE6PQ-TjPw\n",
        "--------------------------------------\n",
        "--------------------------------------\n",
        "Starting friend: sZYxLqJngI38GBEd9AYe2w\n",
        "--------------------------------------\n",
        "--------------------------------------"
       ]
      },
      {
       "output_type": "stream",
       "stream": "stdout",
       "text": [
        "\n",
        "Starting friend: C_wFEJJfpnXGY6fjdHZb5w\n",
        "--------------------------------------\n",
        "--------------------------------------\n",
        "Starting friend: bkJuUcTnpCUkp_80BfVAgQ\n",
        "--------------------------------------\n",
        "--------------------------------------\n",
        "Starting friend: IAa1DD0CNNK7DHvIGAX5kg\n",
        "--------------------------------------\n",
        "--------------------------------------"
       ]
      },
      {
       "output_type": "stream",
       "stream": "stdout",
       "text": [
        "\n",
        "Starting friend: K0MCIIwZLkME9EzlVaRNIg\n",
        "--------------------------------------\n",
        "--------------------------------------"
       ]
      },
      {
       "output_type": "stream",
       "stream": "stdout",
       "text": [
        "\n",
        "Starting friend: zKlKiufZABSt37EpK3YP1g\n",
        "--------------------------------------\n",
        "--------------------------------------\n",
        "Starting friend: vn4qgLybl50M72HcwVihhw\n",
        "--------------------------------------\n",
        "--------------------------------------"
       ]
      },
      {
       "output_type": "stream",
       "stream": "stdout",
       "text": [
        "\n",
        "Starting friend: ea_Wwhznhj-rxb1ueZgYZA\n",
        "--------------------------------------\n",
        "--------------------------------------"
       ]
      },
      {
       "output_type": "stream",
       "stream": "stdout",
       "text": [
        "\n",
        "Starting friend: fjart5PLsctT0QlDG88DlQ\n",
        "--------------------------------------\n",
        "--------------------------------------\n",
        "Starting friend: SvqQT8EyWPPvFTN9kC1JeQ\n",
        "--------------------------------------\n",
        "--------------------------------------\n",
        "Starting friend: Vlab9b73R5qPLIv6tE4DJA\n",
        "--------------------------------------\n",
        "--------------------------------------"
       ]
      },
      {
       "output_type": "stream",
       "stream": "stdout",
       "text": [
        "\n",
        "Starting friend: RBYuG_7PkcV1d1HUS0ppmA\n",
        "--------------------------------------\n",
        "--------------------------------------"
       ]
      },
      {
       "output_type": "stream",
       "stream": "stdout",
       "text": [
        "\n",
        "Starting friend: qeGNcAPb1agpoE2ZSNNGFw\n",
        "--------------------------------------\n",
        "--------------------------------------\n",
        "Starting friend: 4Ur-U8MaV0ZCojpmYb0tfw\n",
        "--------------------------------------\n",
        "--------------------------------------\n",
        "Starting friend: Z-kAdWZiOuU4PFJKBkZDzw\n",
        "--------------------------------------\n",
        "--------------------------------------"
       ]
      },
      {
       "output_type": "stream",
       "stream": "stdout",
       "text": [
        "\n",
        "Starting friend: UWn53Zon5qZiSHpWVYq1DQ\n",
        "--------------------------------------\n",
        "--------------------------------------"
       ]
      },
      {
       "output_type": "stream",
       "stream": "stdout",
       "text": [
        "\n",
        "Starting friend: nGrh5vt88ihnDX9W-rjz3A\n",
        "--------------------------------------\n",
        "--------------------------------------"
       ]
      },
      {
       "output_type": "stream",
       "stream": "stdout",
       "text": [
        "\n",
        "Starting friend: HbaLnY-0-hfv_CyXNbXPIA\n",
        "--------------------------------------\n",
        "--------------------------------------\n",
        "Starting friend: w4VL01b4klRkUiOMpNUOsA\n",
        "--------------------------------------\n",
        "--------------------------------------\n",
        "Starting friend: AG1ETqbneinRRJUeA8PfSA\n",
        "--------------------------------------\n"
       ]
      }
     ],
     "prompt_number": 10
    },
    {
     "cell_type": "code",
     "collapsed": false,
     "input": [],
     "language": "python",
     "metadata": {},
     "outputs": []
    }
   ],
   "metadata": {}
  }
 ]
}