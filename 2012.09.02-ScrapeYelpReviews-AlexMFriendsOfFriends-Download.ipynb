{
 "metadata": {
  "name": "2012.09.02-ScrapeYelpReviews-AlexMFriendsOfFriends-Download"
 },
 "nbformat": 3,
 "nbformat_minor": 0,
 "worksheets": [
  {
   "cells": [
    {
     "cell_type": "code",
     "collapsed": false,
     "input": [
      "from myurllib import urlopen\n",
      "import lxml.html\n",
      "import codecs\n",
      "import json"
     ],
     "language": "python",
     "metadata": {},
     "outputs": [],
     "prompt_number": 8
    },
    {
     "cell_type": "code",
     "collapsed": false,
     "input": [
      "def getratings(id):\n",
      "    has_more = True\n",
      "    page = 0\n",
      "    while has_more:\n",
      "        f = urlopen(\"http://www.yelp.com/user_details_reviews_self?userid={id}&rec_pagestart={}\".format(page * 10, id=id))\n",
      "        try:\n",
      "            filecontent = (\"\".join(f.readlines())).strip().decode(\"utf-8\")\n",
      "        finally:\n",
      "            f.close()\n",
      "        # save the file for later processing (text analysis, etc)\n",
      "        with codecs.open(\"/Users/tswast/reviews-friends-of-alexm-html/{id}.{page}.html\".format(id=id, page=page), \"wb\", \"utf8\") as outf:\n",
      "            outf.write(filecontent)\n",
      "        doc = lxml.html.fromstring(filecontent)\n",
      "        has_more = len(doc.cssselect(\"#pager_page_next\")) != 0\n",
      "        page = page + 1\n"
     ],
     "language": "python",
     "metadata": {},
     "outputs": [],
     "prompt_number": 9
    },
    {
     "cell_type": "code",
     "collapsed": false,
     "input": [
      "import pickle\n",
      "with open(\"smallfriends.pickle\") as f:\n",
      "    friends = pickle.load(f)"
     ],
     "language": "python",
     "metadata": {},
     "outputs": [],
     "prompt_number": 10
    },
    {
     "cell_type": "code",
     "collapsed": false,
     "input": [
      "friend_ids = []\n",
      "for friend in friends:\n",
      "    friend_ids.append(friend.split(\"\\\\\")[1].split(\".\")[0])"
     ],
     "language": "python",
     "metadata": {},
     "outputs": [],
     "prompt_number": 11
    },
    {
     "cell_type": "code",
     "collapsed": false,
     "input": [
      "already_downloaded = set(friend_ids)"
     ],
     "language": "python",
     "metadata": {},
     "outputs": [],
     "prompt_number": 12
    },
    {
     "cell_type": "code",
     "collapsed": false,
     "input": [
      "def download_ids(ids):\n",
      "    for i, friend in enumerate(ids):\n",
      "        print \"--------------------------------------\"\n",
      "        print \"Starting friend:\", friend\n",
      "        print \"--------------------------------------\"\n",
      "        getratings(friend)"
     ],
     "language": "python",
     "metadata": {},
     "outputs": [],
     "prompt_number": 13
    },
    {
     "cell_type": "code",
     "collapsed": false,
     "input": [
      "# get all ids which we wish to download\n",
      "all_ids = set()\n",
      "for friend in friend_ids:\n",
      "    with open(\"/Users/tswast/friends-json/{id}.json\".format(id=friend), \"rb\") as f:\n",
      "        friends_of_friend = json.load(f)\n",
      "    for fof in friends_of_friend:\n",
      "        all_ids.add(fof.split(\"=\")[-1])"
     ],
     "language": "python",
     "metadata": {},
     "outputs": [],
     "prompt_number": 14
    },
    {
     "cell_type": "code",
     "collapsed": false,
     "input": [
      "len(all_ids - already_downloaded)"
     ],
     "language": "python",
     "metadata": {},
     "outputs": [
      {
       "output_type": "pyout",
       "prompt_number": 17,
       "text": [
        "10895"
       ]
      }
     ],
     "prompt_number": 17
    },
    {
     "cell_type": "markdown",
     "metadata": {},
     "source": [
      "Over 10,000 friends of friends to download!?! If each averages 10MB each, as they have been, that's approximately 100GB of reviews to download! I think I'll run out of quota long before then.\n",
      "\n",
      "Perhaps what I'll do is take a random sampling of friends-of-friends. What's the best way to sample? I guess I just want random friends-of-friends, not anything more specific than that. I'll shuffle the list and get reviews from the first N friend-of-friends."
     ]
    },
    {
     "cell_type": "code",
     "collapsed": false,
     "input": [
      "import random\n",
      "friends_of_friends = list(all_ids - already_downloaded)\n",
      "random.shuffle(friends_of_friends)"
     ],
     "language": "python",
     "metadata": {},
     "outputs": [],
     "prompt_number": 18
    },
    {
     "cell_type": "code",
     "collapsed": false,
     "input": [
      "download_ids(friends_of_friends[:400])"
     ],
     "language": "python",
     "metadata": {},
     "outputs": [
      {
       "output_type": "stream",
       "stream": "stdout",
       "text": [
        "--------------------------------------\n",
        "Starting friend: zWGj3oOA_X8QPho_l5BRKg\n",
        "--------------------------------------\n",
        "urllib(mine) sleeping to throttle requests\n",
        "urllib(mine) sleeping to throttle requests"
       ]
      },
      {
       "output_type": "stream",
       "stream": "stdout",
       "text": [
        "\n",
        "urllib(mine) sleeping to throttle requests"
       ]
      },
      {
       "output_type": "stream",
       "stream": "stdout",
       "text": [
        "\n",
        "urllib(mine) sleeping to throttle requests"
       ]
      },
      {
       "output_type": "stream",
       "stream": "stdout",
       "text": [
        "\n",
        "urllib(mine) sleeping to throttle requests"
       ]
      },
      {
       "output_type": "stream",
       "stream": "stdout",
       "text": [
        "\n",
        "urllib(mine) sleeping to throttle requests"
       ]
      },
      {
       "output_type": "stream",
       "stream": "stdout",
       "text": [
        "\n",
        "urllib(mine) sleeping to throttle requests"
       ]
      },
      {
       "output_type": "stream",
       "stream": "stdout",
       "text": [
        "\n",
        "urllib(mine) sleeping to throttle requests"
       ]
      },
      {
       "output_type": "stream",
       "stream": "stdout",
       "text": [
        "\n",
        "urllib(mine) sleeping to throttle requests"
       ]
      },
      {
       "output_type": "stream",
       "stream": "stdout",
       "text": [
        "\n",
        "urllib(mine) sleeping to throttle requests"
       ]
      },
      {
       "output_type": "stream",
       "stream": "stdout",
       "text": [
        "\n",
        "urllib(mine) sleeping to throttle requests"
       ]
      },
      {
       "output_type": "stream",
       "stream": "stdout",
       "text": [
        "\n",
        "urllib(mine) sleeping to throttle requests"
       ]
      },
      {
       "output_type": "stream",
       "stream": "stdout",
       "text": [
        "\n",
        "urllib(mine) sleeping to throttle requests"
       ]
      },
      {
       "output_type": "stream",
       "stream": "stdout",
       "text": [
        "\n",
        "urllib(mine) sleeping to throttle requests"
       ]
      },
      {
       "output_type": "stream",
       "stream": "stdout",
       "text": [
        "\n",
        "urllib(mine) sleeping to throttle requests"
       ]
      },
      {
       "output_type": "stream",
       "stream": "stdout",
       "text": [
        "\n",
        "urllib(mine) sleeping to throttle requests"
       ]
      },
      {
       "output_type": "stream",
       "stream": "stdout",
       "text": [
        "\n",
        "urllib(mine) sleeping to throttle requests"
       ]
      },
      {
       "output_type": "stream",
       "stream": "stdout",
       "text": [
        "\n",
        "urllib(mine) sleeping to throttle requests"
       ]
      },
      {
       "output_type": "stream",
       "stream": "stdout",
       "text": [
        "\n",
        "urllib(mine) sleeping to throttle requests"
       ]
      },
      {
       "output_type": "stream",
       "stream": "stdout",
       "text": [
        "\n",
        "urllib(mine) sleeping to throttle requests"
       ]
      },
      {
       "output_type": "stream",
       "stream": "stdout",
       "text": [
        "\n",
        "urllib(mine) sleeping to throttle requests"
       ]
      },
      {
       "output_type": "stream",
       "stream": "stdout",
       "text": [
        "\n",
        "urllib(mine) sleeping to throttle requests"
       ]
      },
      {
       "output_type": "stream",
       "stream": "stdout",
       "text": [
        "\n",
        "urllib(mine) sleeping to throttle requests"
       ]
      },
      {
       "output_type": "stream",
       "stream": "stdout",
       "text": [
        "\n",
        "urllib(mine) sleeping to throttle requests"
       ]
      },
      {
       "output_type": "stream",
       "stream": "stdout",
       "text": [
        "\n",
        "urllib(mine) sleeping to throttle requests"
       ]
      },
      {
       "output_type": "stream",
       "stream": "stdout",
       "text": [
        "\n",
        "urllib(mine) sleeping to throttle requests"
       ]
      },
      {
       "output_type": "stream",
       "stream": "stdout",
       "text": [
        "\n",
        "urllib(mine) sleeping to throttle requests"
       ]
      },
      {
       "output_type": "stream",
       "stream": "stdout",
       "text": [
        "\n",
        "urllib(mine) sleeping to throttle requests"
       ]
      },
      {
       "output_type": "stream",
       "stream": "stdout",
       "text": [
        "\n",
        "urllib(mine) sleeping to throttle requests"
       ]
      },
      {
       "output_type": "stream",
       "stream": "stdout",
       "text": [
        "\n",
        "urllib(mine) sleeping to throttle requests"
       ]
      },
      {
       "output_type": "stream",
       "stream": "stdout",
       "text": [
        "\n",
        "urllib(mine) sleeping to throttle requests"
       ]
      },
      {
       "output_type": "stream",
       "stream": "stdout",
       "text": [
        "\n",
        "urllib(mine) sleeping to throttle requests"
       ]
      },
      {
       "output_type": "stream",
       "stream": "stdout",
       "text": [
        "\n",
        "urllib(mine) sleeping to throttle requests"
       ]
      },
      {
       "output_type": "stream",
       "stream": "stdout",
       "text": [
        "\n",
        "urllib(mine) sleeping to throttle requests"
       ]
      },
      {
       "output_type": "stream",
       "stream": "stdout",
       "text": [
        "\n",
        "urllib(mine) sleeping to throttle requests"
       ]
      },
      {
       "output_type": "stream",
       "stream": "stdout",
       "text": [
        "\n",
        "urllib(mine) sleeping to throttle requests"
       ]
      },
      {
       "output_type": "stream",
       "stream": "stdout",
       "text": [
        "\n",
        "urllib(mine) sleeping to throttle requests"
       ]
      },
      {
       "output_type": "stream",
       "stream": "stdout",
       "text": [
        "\n",
        "urllib(mine) sleeping to throttle requests"
       ]
      },
      {
       "output_type": "stream",
       "stream": "stdout",
       "text": [
        "\n",
        "urllib(mine) sleeping to throttle requests"
       ]
      },
      {
       "output_type": "stream",
       "stream": "stdout",
       "text": [
        "\n",
        "urllib(mine) sleeping to throttle requests"
       ]
      },
      {
       "output_type": "stream",
       "stream": "stdout",
       "text": [
        "\n",
        "urllib(mine) sleeping to throttle requests"
       ]
      },
      {
       "output_type": "stream",
       "stream": "stdout",
       "text": [
        "\n",
        "--------------------------------------"
       ]
      },
      {
       "output_type": "stream",
       "stream": "stdout",
       "text": [
        "\n",
        "Starting friend: YGK0hNTDD-eLXSA0ZdqYrQ\n",
        "--------------------------------------\n",
        "urllib(mine) sleeping to throttle requests\n",
        "urllib(mine) sleeping to throttle requests"
       ]
      },
      {
       "output_type": "stream",
       "stream": "stdout",
       "text": [
        "\n",
        "urllib(mine) sleeping to throttle requests"
       ]
      },
      {
       "output_type": "stream",
       "stream": "stdout",
       "text": [
        "\n",
        "urllib(mine) sleeping to throttle requests"
       ]
      },
      {
       "output_type": "stream",
       "stream": "stdout",
       "text": [
        "\n",
        "urllib(mine) sleeping to throttle requests"
       ]
      },
      {
       "output_type": "stream",
       "stream": "stdout",
       "text": [
        "\n",
        "urllib(mine) sleeping to throttle requests"
       ]
      },
      {
       "output_type": "stream",
       "stream": "stdout",
       "text": [
        "\n",
        "urllib(mine) sleeping to throttle requests"
       ]
      },
      {
       "output_type": "stream",
       "stream": "stdout",
       "text": [
        "\n",
        "urllib(mine) sleeping to throttle requests"
       ]
      },
      {
       "output_type": "stream",
       "stream": "stdout",
       "text": [
        "\n",
        "urllib(mine) sleeping to throttle requests"
       ]
      },
      {
       "output_type": "stream",
       "stream": "stdout",
       "text": [
        "\n",
        "urllib(mine) sleeping to throttle requests"
       ]
      },
      {
       "output_type": "stream",
       "stream": "stdout",
       "text": [
        "\n",
        "urllib(mine) sleeping to throttle requests"
       ]
      },
      {
       "output_type": "stream",
       "stream": "stdout",
       "text": [
        "\n",
        "urllib(mine) sleeping to throttle requests"
       ]
      },
      {
       "output_type": "stream",
       "stream": "stdout",
       "text": [
        "\n",
        "urllib(mine) sleeping to throttle requests"
       ]
      },
      {
       "output_type": "stream",
       "stream": "stdout",
       "text": [
        "\n",
        "--------------------------------------"
       ]
      },
      {
       "output_type": "stream",
       "stream": "stdout",
       "text": [
        "\n",
        "Starting friend: qd-KsEaJfH-U0EP6D8Np_Q\n",
        "--------------------------------------\n",
        "urllib(mine) sleeping to throttle requests\n",
        "urllib(mine) sleeping to throttle requests"
       ]
      },
      {
       "output_type": "stream",
       "stream": "stdout",
       "text": [
        "\n",
        "urllib(mine) sleeping to throttle requests"
       ]
      },
      {
       "output_type": "stream",
       "stream": "stdout",
       "text": [
        "\n",
        "urllib(mine) sleeping to throttle requests"
       ]
      },
      {
       "output_type": "stream",
       "stream": "stdout",
       "text": [
        "\n",
        "urllib(mine) sleeping to throttle requests"
       ]
      },
      {
       "output_type": "stream",
       "stream": "stdout",
       "text": [
        "\n",
        "urllib(mine) sleeping to throttle requests"
       ]
      },
      {
       "output_type": "stream",
       "stream": "stdout",
       "text": [
        "\n",
        "urllib(mine) sleeping to throttle requests"
       ]
      },
      {
       "output_type": "stream",
       "stream": "stdout",
       "text": [
        "\n",
        "urllib(mine) sleeping to throttle requests"
       ]
      },
      {
       "output_type": "stream",
       "stream": "stdout",
       "text": [
        "\n",
        "urllib(mine) sleeping to throttle requests"
       ]
      },
      {
       "output_type": "stream",
       "stream": "stdout",
       "text": [
        "\n",
        "urllib(mine) sleeping to throttle requests"
       ]
      },
      {
       "output_type": "stream",
       "stream": "stdout",
       "text": [
        "\n",
        "urllib(mine) sleeping to throttle requests"
       ]
      },
      {
       "output_type": "stream",
       "stream": "stdout",
       "text": [
        "\n",
        "urllib(mine) sleeping to throttle requests"
       ]
      },
      {
       "output_type": "stream",
       "stream": "stdout",
       "text": [
        "\n",
        "urllib(mine) sleeping to throttle requests"
       ]
      },
      {
       "output_type": "stream",
       "stream": "stdout",
       "text": [
        "\n",
        "urllib(mine) sleeping to throttle requests"
       ]
      },
      {
       "output_type": "stream",
       "stream": "stdout",
       "text": [
        "\n",
        "urllib(mine) sleeping to throttle requests"
       ]
      },
      {
       "output_type": "stream",
       "stream": "stdout",
       "text": [
        "\n",
        "urllib(mine) sleeping to throttle requests"
       ]
      },
      {
       "output_type": "stream",
       "stream": "stdout",
       "text": [
        "\n",
        "urllib(mine) sleeping to throttle requests"
       ]
      },
      {
       "output_type": "stream",
       "stream": "stdout",
       "text": [
        "\n",
        "urllib(mine) sleeping to throttle requests"
       ]
      },
      {
       "output_type": "stream",
       "stream": "stdout",
       "text": [
        "\n",
        "urllib(mine) sleeping to throttle requests"
       ]
      },
      {
       "output_type": "stream",
       "stream": "stdout",
       "text": [
        "\n",
        "--------------------------------------"
       ]
      },
      {
       "output_type": "stream",
       "stream": "stdout",
       "text": [
        "\n",
        "Starting friend: 4y0DLbSD9sbwkDwdKr3nVA\n",
        "--------------------------------------\n",
        "urllib(mine) sleeping to throttle requests\n",
        "urllib(mine) sleeping to throttle requests"
       ]
      },
      {
       "output_type": "stream",
       "stream": "stdout",
       "text": [
        "\n",
        "urllib(mine) sleeping to throttle requests"
       ]
      },
      {
       "output_type": "stream",
       "stream": "stdout",
       "text": [
        "\n",
        "--------------------------------------"
       ]
      },
      {
       "output_type": "stream",
       "stream": "stdout",
       "text": [
        "\n",
        "Starting friend: Wamb8OE6YOEYt6aty1vajA\n",
        "--------------------------------------\n",
        "urllib(mine) sleeping to throttle requests\n",
        "urllib(mine) sleeping to throttle requests"
       ]
      },
      {
       "output_type": "stream",
       "stream": "stdout",
       "text": [
        "\n",
        "urllib(mine) sleeping to throttle requests"
       ]
      },
      {
       "output_type": "stream",
       "stream": "stdout",
       "text": [
        "\n",
        "urllib(mine) sleeping to throttle requests"
       ]
      },
      {
       "output_type": "stream",
       "stream": "stdout",
       "text": [
        "\n",
        "urllib(mine) sleeping to throttle requests"
       ]
      },
      {
       "output_type": "stream",
       "stream": "stdout",
       "text": [
        "\n",
        "urllib(mine) sleeping to throttle requests"
       ]
      },
      {
       "output_type": "stream",
       "stream": "stdout",
       "text": [
        "\n",
        "urllib(mine) sleeping to throttle requests"
       ]
      },
      {
       "output_type": "stream",
       "stream": "stdout",
       "text": [
        "\n",
        "urllib(mine) sleeping to throttle requests"
       ]
      },
      {
       "output_type": "stream",
       "stream": "stdout",
       "text": [
        "\n",
        "urllib(mine) sleeping to throttle requests"
       ]
      },
      {
       "output_type": "stream",
       "stream": "stdout",
       "text": [
        "\n",
        "urllib(mine) sleeping to throttle requests"
       ]
      },
      {
       "output_type": "stream",
       "stream": "stdout",
       "text": [
        "\n",
        "urllib(mine) sleeping to throttle requests"
       ]
      },
      {
       "output_type": "stream",
       "stream": "stdout",
       "text": [
        "\n",
        "urllib(mine) sleeping to throttle requests"
       ]
      },
      {
       "output_type": "stream",
       "stream": "stdout",
       "text": [
        "\n",
        "urllib(mine) sleeping to throttle requests"
       ]
      },
      {
       "output_type": "stream",
       "stream": "stdout",
       "text": [
        "\n",
        "urllib(mine) sleeping to throttle requests"
       ]
      },
      {
       "output_type": "stream",
       "stream": "stdout",
       "text": [
        "\n",
        "urllib(mine) sleeping to throttle requests"
       ]
      },
      {
       "output_type": "stream",
       "stream": "stdout",
       "text": [
        "\n",
        "--------------------------------------"
       ]
      },
      {
       "output_type": "stream",
       "stream": "stdout",
       "text": [
        "\n",
        "Starting friend: mj7i2DjNXJF3jhTWAMzhZw\n",
        "--------------------------------------\n",
        "urllib(mine) sleeping to throttle requests\n",
        "--------------------------------------"
       ]
      },
      {
       "output_type": "stream",
       "stream": "stdout",
       "text": [
        "\n",
        "Starting friend: eoWnXjy8bRcXQOFBE4-DZw\n",
        "--------------------------------------\n",
        "urllib(mine) sleeping to throttle requests\n",
        "urllib(mine) sleeping to throttle requests"
       ]
      },
      {
       "output_type": "stream",
       "stream": "stdout",
       "text": [
        "\n",
        "--------------------------------------"
       ]
      },
      {
       "output_type": "stream",
       "stream": "stdout",
       "text": [
        "\n",
        "Starting friend: iFmi5k09IpJFwFbzQ84gTQ\n",
        "--------------------------------------\n",
        "urllib(mine) sleeping to throttle requests\n",
        "urllib(mine) sleeping to throttle requests"
       ]
      },
      {
       "output_type": "stream",
       "stream": "stdout",
       "text": [
        "\n",
        "urllib(mine) sleeping to throttle requests"
       ]
      },
      {
       "output_type": "stream",
       "stream": "stdout",
       "text": [
        "\n",
        "urllib(mine) sleeping to throttle requests"
       ]
      },
      {
       "output_type": "stream",
       "stream": "stdout",
       "text": [
        "\n",
        "urllib(mine) sleeping to throttle requests"
       ]
      },
      {
       "output_type": "stream",
       "stream": "stdout",
       "text": [
        "\n",
        "urllib(mine) sleeping to throttle requests"
       ]
      },
      {
       "output_type": "stream",
       "stream": "stdout",
       "text": [
        "\n",
        "urllib(mine) sleeping to throttle requests"
       ]
      },
      {
       "output_type": "stream",
       "stream": "stdout",
       "text": [
        "\n",
        "urllib(mine) sleeping to throttle requests"
       ]
      },
      {
       "output_type": "stream",
       "stream": "stdout",
       "text": [
        "\n",
        "urllib(mine) sleeping to throttle requests"
       ]
      },
      {
       "output_type": "stream",
       "stream": "stdout",
       "text": [
        "\n",
        "urllib(mine) sleeping to throttle requests"
       ]
      },
      {
       "output_type": "stream",
       "stream": "stdout",
       "text": [
        "\n",
        "urllib(mine) sleeping to throttle requests"
       ]
      },
      {
       "output_type": "stream",
       "stream": "stdout",
       "text": [
        "\n",
        "urllib(mine) sleeping to throttle requests"
       ]
      },
      {
       "output_type": "stream",
       "stream": "stdout",
       "text": [
        "\n",
        "urllib(mine) sleeping to throttle requests"
       ]
      },
      {
       "output_type": "stream",
       "stream": "stdout",
       "text": [
        "\n",
        "urllib(mine) sleeping to throttle requests"
       ]
      },
      {
       "output_type": "stream",
       "stream": "stdout",
       "text": [
        "\n",
        "urllib(mine) sleeping to throttle requests"
       ]
      },
      {
       "output_type": "stream",
       "stream": "stdout",
       "text": [
        "\n",
        "urllib(mine) sleeping to throttle requests"
       ]
      },
      {
       "output_type": "stream",
       "stream": "stdout",
       "text": [
        "\n",
        "urllib(mine) sleeping to throttle requests"
       ]
      },
      {
       "output_type": "stream",
       "stream": "stdout",
       "text": [
        "\n",
        "urllib(mine) sleeping to throttle requests"
       ]
      },
      {
       "output_type": "stream",
       "stream": "stdout",
       "text": [
        "\n",
        "urllib(mine) sleeping to throttle requests"
       ]
      },
      {
       "output_type": "stream",
       "stream": "stdout",
       "text": [
        "\n",
        "--------------------------------------"
       ]
      },
      {
       "output_type": "stream",
       "stream": "stdout",
       "text": [
        "\n",
        "Starting friend: y2XPvYkAIZWxyknRQYM_EA\n",
        "--------------------------------------\n",
        "urllib(mine) sleeping to throttle requests\n",
        "urllib(mine) sleeping to throttle requests"
       ]
      },
      {
       "output_type": "stream",
       "stream": "stdout",
       "text": [
        "\n",
        "urllib(mine) sleeping to throttle requests"
       ]
      },
      {
       "output_type": "stream",
       "stream": "stdout",
       "text": [
        "\n",
        "urllib(mine) sleeping to throttle requests"
       ]
      },
      {
       "output_type": "stream",
       "stream": "stdout",
       "text": [
        "\n",
        "urllib(mine) sleeping to throttle requests"
       ]
      },
      {
       "output_type": "stream",
       "stream": "stdout",
       "text": [
        "\n",
        "urllib(mine) sleeping to throttle requests"
       ]
      },
      {
       "output_type": "stream",
       "stream": "stdout",
       "text": [
        "\n",
        "urllib(mine) sleeping to throttle requests"
       ]
      },
      {
       "output_type": "stream",
       "stream": "stdout",
       "text": [
        "\n",
        "urllib(mine) sleeping to throttle requests"
       ]
      },
      {
       "output_type": "stream",
       "stream": "stdout",
       "text": [
        "\n",
        "urllib(mine) sleeping to throttle requests"
       ]
      },
      {
       "output_type": "stream",
       "stream": "stdout",
       "text": [
        "\n",
        "urllib(mine) sleeping to throttle requests"
       ]
      },
      {
       "output_type": "stream",
       "stream": "stdout",
       "text": [
        "\n",
        "urllib(mine) sleeping to throttle requests"
       ]
      },
      {
       "output_type": "stream",
       "stream": "stdout",
       "text": [
        "\n",
        "urllib(mine) sleeping to throttle requests"
       ]
      },
      {
       "output_type": "stream",
       "stream": "stdout",
       "text": [
        "\n",
        "urllib(mine) sleeping to throttle requests"
       ]
      },
      {
       "output_type": "stream",
       "stream": "stdout",
       "text": [
        "\n",
        "--------------------------------------"
       ]
      },
      {
       "output_type": "stream",
       "stream": "stdout",
       "text": [
        "\n",
        "Starting friend: DoSxGGRjKFFHNX1MN93t8Q\n",
        "--------------------------------------\n",
        "urllib(mine) sleeping to throttle requests\n",
        "--------------------------------------"
       ]
      },
      {
       "output_type": "stream",
       "stream": "stdout",
       "text": [
        "\n",
        "Starting friend: l9M8kV0wZ5iX63gO8wl6hg\n",
        "--------------------------------------\n",
        "urllib(mine) sleeping to throttle requests\n",
        "--------------------------------------"
       ]
      },
      {
       "output_type": "stream",
       "stream": "stdout",
       "text": [
        "\n",
        "Starting friend: li7pMdmbYj3zxUpQAjbg3w\n",
        "--------------------------------------\n",
        "urllib(mine) sleeping to throttle requests\n",
        "--------------------------------------"
       ]
      },
      {
       "output_type": "stream",
       "stream": "stdout",
       "text": [
        "\n",
        "Starting friend: imIrFvYzTq6FpYCsa3Wt5A\n",
        "--------------------------------------\n",
        "urllib(mine) sleeping to throttle requests\n",
        "urllib(mine) sleeping to throttle requests"
       ]
      },
      {
       "output_type": "stream",
       "stream": "stdout",
       "text": [
        "\n",
        "urllib(mine) sleeping to throttle requests"
       ]
      },
      {
       "output_type": "stream",
       "stream": "stdout",
       "text": [
        "\n",
        "--------------------------------------"
       ]
      },
      {
       "output_type": "stream",
       "stream": "stdout",
       "text": [
        "\n",
        "Starting friend: yN3cBeSdhtFRcFPdLgDlbw\n",
        "--------------------------------------\n",
        "urllib(mine) sleeping to throttle requests\n",
        "urllib(mine) sleeping to throttle requests"
       ]
      },
      {
       "output_type": "stream",
       "stream": "stdout",
       "text": [
        "\n",
        "urllib(mine) sleeping to throttle requests"
       ]
      },
      {
       "output_type": "stream",
       "stream": "stdout",
       "text": [
        "\n",
        "urllib(mine) sleeping to throttle requests"
       ]
      },
      {
       "output_type": "stream",
       "stream": "stdout",
       "text": [
        "\n",
        "urllib(mine) sleeping to throttle requests"
       ]
      },
      {
       "output_type": "stream",
       "stream": "stdout",
       "text": [
        "\n",
        "urllib(mine) sleeping to throttle requests"
       ]
      },
      {
       "output_type": "stream",
       "stream": "stdout",
       "text": [
        "\n",
        "urllib(mine) sleeping to throttle requests"
       ]
      },
      {
       "output_type": "stream",
       "stream": "stdout",
       "text": [
        "\n",
        "urllib(mine) sleeping to throttle requests"
       ]
      },
      {
       "output_type": "stream",
       "stream": "stdout",
       "text": [
        "\n",
        "urllib(mine) sleeping to throttle requests"
       ]
      },
      {
       "output_type": "stream",
       "stream": "stdout",
       "text": [
        "\n",
        "urllib(mine) sleeping to throttle requests"
       ]
      },
      {
       "output_type": "stream",
       "stream": "stdout",
       "text": [
        "\n",
        "urllib(mine) sleeping to throttle requests"
       ]
      },
      {
       "output_type": "stream",
       "stream": "stdout",
       "text": [
        "\n",
        "urllib(mine) sleeping to throttle requests"
       ]
      },
      {
       "output_type": "stream",
       "stream": "stdout",
       "text": [
        "\n",
        "urllib(mine) sleeping to throttle requests"
       ]
      },
      {
       "output_type": "stream",
       "stream": "stdout",
       "text": [
        "\n",
        "urllib(mine) sleeping to throttle requests"
       ]
      },
      {
       "output_type": "stream",
       "stream": "stdout",
       "text": [
        "\n",
        "urllib(mine) sleeping to throttle requests"
       ]
      },
      {
       "output_type": "stream",
       "stream": "stdout",
       "text": [
        "\n",
        "urllib(mine) sleeping to throttle requests"
       ]
      },
      {
       "output_type": "stream",
       "stream": "stdout",
       "text": [
        "\n",
        "urllib(mine) sleeping to throttle requests"
       ]
      },
      {
       "output_type": "stream",
       "stream": "stdout",
       "text": [
        "\n",
        "urllib(mine) sleeping to throttle requests"
       ]
      },
      {
       "output_type": "stream",
       "stream": "stdout",
       "text": [
        "\n",
        "urllib(mine) sleeping to throttle requests"
       ]
      },
      {
       "output_type": "stream",
       "stream": "stdout",
       "text": [
        "\n",
        "urllib(mine) sleeping to throttle requests"
       ]
      },
      {
       "output_type": "stream",
       "stream": "stdout",
       "text": [
        "\n",
        "urllib(mine) sleeping to throttle requests"
       ]
      },
      {
       "output_type": "stream",
       "stream": "stdout",
       "text": [
        "\n",
        "urllib(mine) sleeping to throttle requests"
       ]
      },
      {
       "output_type": "stream",
       "stream": "stdout",
       "text": [
        "\n",
        "urllib(mine) sleeping to throttle requests"
       ]
      },
      {
       "output_type": "stream",
       "stream": "stdout",
       "text": [
        "\n",
        "urllib(mine) sleeping to throttle requests"
       ]
      },
      {
       "output_type": "stream",
       "stream": "stdout",
       "text": [
        "\n",
        "urllib(mine) sleeping to throttle requests"
       ]
      },
      {
       "output_type": "stream",
       "stream": "stdout",
       "text": [
        "\n",
        "urllib(mine) sleeping to throttle requests"
       ]
      },
      {
       "output_type": "stream",
       "stream": "stdout",
       "text": [
        "\n",
        "--------------------------------------"
       ]
      },
      {
       "output_type": "stream",
       "stream": "stdout",
       "text": [
        "\n",
        "Starting friend: En-n-3kJKlmTGWgTeEEBkw\n",
        "--------------------------------------\n",
        "urllib(mine) sleeping to throttle requests\n",
        "urllib(mine) sleeping to throttle requests"
       ]
      },
      {
       "output_type": "stream",
       "stream": "stdout",
       "text": [
        "\n",
        "urllib(mine) sleeping to throttle requests"
       ]
      },
      {
       "output_type": "stream",
       "stream": "stdout",
       "text": [
        "\n",
        "urllib(mine) sleeping to throttle requests"
       ]
      },
      {
       "output_type": "stream",
       "stream": "stdout",
       "text": [
        "\n",
        "--------------------------------------"
       ]
      },
      {
       "output_type": "stream",
       "stream": "stdout",
       "text": [
        "\n",
        "Starting friend: HGuK9l1m6PahwDgjq_ySng\n",
        "--------------------------------------\n",
        "urllib(mine) sleeping to throttle requests\n",
        "urllib(mine) sleeping to throttle requests"
       ]
      },
      {
       "output_type": "stream",
       "stream": "stdout",
       "text": [
        "\n",
        "urllib(mine) sleeping to throttle requests"
       ]
      },
      {
       "output_type": "stream",
       "stream": "stdout",
       "text": [
        "\n",
        "urllib(mine) sleeping to throttle requests"
       ]
      },
      {
       "output_type": "stream",
       "stream": "stdout",
       "text": [
        "\n",
        "--------------------------------------"
       ]
      },
      {
       "output_type": "stream",
       "stream": "stdout",
       "text": [
        "\n",
        "Starting friend: GsVa2cVMqfhMMcQnJkGraA\n",
        "--------------------------------------\n",
        "urllib(mine) sleeping to throttle requests\n",
        "--------------------------------------"
       ]
      },
      {
       "output_type": "stream",
       "stream": "stdout",
       "text": [
        "\n",
        "Starting friend: 21M9itmohMb83Q_nupJE8A\n",
        "--------------------------------------\n",
        "urllib(mine) sleeping to throttle requests\n",
        "--------------------------------------"
       ]
      },
      {
       "output_type": "stream",
       "stream": "stdout",
       "text": [
        "\n",
        "Starting friend: sF0FI1W1Sn9NaWn8XmpdBg\n",
        "--------------------------------------\n",
        "urllib(mine) sleeping to throttle requests\n",
        "urllib(mine) sleeping to throttle requests"
       ]
      },
      {
       "output_type": "stream",
       "stream": "stdout",
       "text": [
        "\n",
        "urllib(mine) sleeping to throttle requests"
       ]
      },
      {
       "output_type": "stream",
       "stream": "stdout",
       "text": [
        "\n",
        "urllib(mine) sleeping to throttle requests"
       ]
      },
      {
       "output_type": "stream",
       "stream": "stdout",
       "text": [
        "\n",
        "urllib(mine) sleeping to throttle requests"
       ]
      },
      {
       "output_type": "stream",
       "stream": "stdout",
       "text": [
        "\n",
        "urllib(mine) sleeping to throttle requests"
       ]
      },
      {
       "output_type": "stream",
       "stream": "stdout",
       "text": [
        "\n",
        "urllib(mine) sleeping to throttle requests"
       ]
      },
      {
       "output_type": "stream",
       "stream": "stdout",
       "text": [
        "\n",
        "urllib(mine) sleeping to throttle requests"
       ]
      },
      {
       "output_type": "stream",
       "stream": "stdout",
       "text": [
        "\n",
        "urllib(mine) sleeping to throttle requests"
       ]
      },
      {
       "output_type": "stream",
       "stream": "stdout",
       "text": [
        "\n",
        "--------------------------------------"
       ]
      },
      {
       "output_type": "stream",
       "stream": "stdout",
       "text": [
        "\n",
        "Starting friend: YFG_qsnCwHTxgPAYYW-YQQ\n",
        "--------------------------------------\n",
        "urllib(mine) sleeping to throttle requests\n",
        "urllib(mine) sleeping to throttle requests"
       ]
      },
      {
       "output_type": "stream",
       "stream": "stdout",
       "text": [
        "\n",
        "urllib(mine) sleeping to throttle requests"
       ]
      },
      {
       "output_type": "stream",
       "stream": "stdout",
       "text": [
        "\n",
        "urllib(mine) sleeping to throttle requests"
       ]
      },
      {
       "output_type": "stream",
       "stream": "stdout",
       "text": [
        "\n",
        "urllib(mine) sleeping to throttle requests"
       ]
      },
      {
       "output_type": "stream",
       "stream": "stdout",
       "text": [
        "\n",
        "urllib(mine) sleeping to throttle requests"
       ]
      },
      {
       "output_type": "stream",
       "stream": "stdout",
       "text": [
        "\n",
        "urllib(mine) sleeping to throttle requests"
       ]
      },
      {
       "output_type": "stream",
       "stream": "stdout",
       "text": [
        "\n",
        "urllib(mine) sleeping to throttle requests"
       ]
      },
      {
       "output_type": "stream",
       "stream": "stdout",
       "text": [
        "\n",
        "urllib(mine) sleeping to throttle requests"
       ]
      },
      {
       "output_type": "stream",
       "stream": "stdout",
       "text": [
        "\n",
        "urllib(mine) sleeping to throttle requests"
       ]
      },
      {
       "output_type": "stream",
       "stream": "stdout",
       "text": [
        "\n",
        "urllib(mine) sleeping to throttle requests"
       ]
      },
      {
       "output_type": "stream",
       "stream": "stdout",
       "text": [
        "\n",
        "urllib(mine) sleeping to throttle requests"
       ]
      },
      {
       "output_type": "stream",
       "stream": "stdout",
       "text": [
        "\n",
        "urllib(mine) sleeping to throttle requests"
       ]
      },
      {
       "output_type": "stream",
       "stream": "stdout",
       "text": [
        "\n",
        "urllib(mine) sleeping to throttle requests"
       ]
      },
      {
       "output_type": "stream",
       "stream": "stdout",
       "text": [
        "\n",
        "urllib(mine) sleeping to throttle requests"
       ]
      },
      {
       "output_type": "stream",
       "stream": "stdout",
       "text": [
        "\n",
        "urllib(mine) sleeping to throttle requests"
       ]
      },
      {
       "output_type": "stream",
       "stream": "stdout",
       "text": [
        "\n",
        "urllib(mine) sleeping to throttle requests"
       ]
      },
      {
       "output_type": "stream",
       "stream": "stdout",
       "text": [
        "\n",
        "urllib(mine) sleeping to throttle requests"
       ]
      },
      {
       "output_type": "stream",
       "stream": "stdout",
       "text": [
        "\n",
        "urllib(mine) sleeping to throttle requests"
       ]
      },
      {
       "output_type": "stream",
       "stream": "stdout",
       "text": [
        "\n",
        "urllib(mine) sleeping to throttle requests"
       ]
      },
      {
       "output_type": "stream",
       "stream": "stdout",
       "text": [
        "\n",
        "urllib(mine) sleeping to throttle requests"
       ]
      },
      {
       "output_type": "stream",
       "stream": "stdout",
       "text": [
        "\n",
        "urllib(mine) sleeping to throttle requests"
       ]
      },
      {
       "output_type": "stream",
       "stream": "stdout",
       "text": [
        "\n",
        "urllib(mine) sleeping to throttle requests"
       ]
      },
      {
       "output_type": "stream",
       "stream": "stdout",
       "text": [
        "\n",
        "urllib(mine) sleeping to throttle requests"
       ]
      },
      {
       "output_type": "stream",
       "stream": "stdout",
       "text": [
        "\n",
        "urllib(mine) sleeping to throttle requests"
       ]
      },
      {
       "output_type": "stream",
       "stream": "stdout",
       "text": [
        "\n",
        "urllib(mine) sleeping to throttle requests"
       ]
      },
      {
       "output_type": "stream",
       "stream": "stdout",
       "text": [
        "\n",
        "urllib(mine) sleeping to throttle requests"
       ]
      },
      {
       "output_type": "stream",
       "stream": "stdout",
       "text": [
        "\n",
        "urllib(mine) sleeping to throttle requests"
       ]
      },
      {
       "output_type": "stream",
       "stream": "stdout",
       "text": [
        "\n",
        "--------------------------------------"
       ]
      },
      {
       "output_type": "stream",
       "stream": "stdout",
       "text": [
        "\n",
        "Starting friend: 2dwGSzILaZK8rysR-oFoXw\n",
        "--------------------------------------\n",
        "urllib(mine) sleeping to throttle requests\n",
        "urllib(mine) sleeping to throttle requests"
       ]
      },
      {
       "output_type": "stream",
       "stream": "stdout",
       "text": [
        "\n",
        "urllib(mine) sleeping to throttle requests"
       ]
      },
      {
       "output_type": "stream",
       "stream": "stdout",
       "text": [
        "\n",
        "urllib(mine) sleeping to throttle requests"
       ]
      },
      {
       "output_type": "stream",
       "stream": "stdout",
       "text": [
        "\n",
        "urllib(mine) sleeping to throttle requests"
       ]
      },
      {
       "output_type": "stream",
       "stream": "stdout",
       "text": [
        "\n",
        "urllib(mine) sleeping to throttle requests"
       ]
      },
      {
       "output_type": "stream",
       "stream": "stdout",
       "text": [
        "\n",
        "urllib(mine) sleeping to throttle requests"
       ]
      },
      {
       "output_type": "stream",
       "stream": "stdout",
       "text": [
        "\n",
        "urllib(mine) sleeping to throttle requests"
       ]
      },
      {
       "output_type": "stream",
       "stream": "stdout",
       "text": [
        "\n",
        "urllib(mine) sleeping to throttle requests"
       ]
      },
      {
       "output_type": "stream",
       "stream": "stdout",
       "text": [
        "\n",
        "urllib(mine) sleeping to throttle requests"
       ]
      },
      {
       "output_type": "stream",
       "stream": "stdout",
       "text": [
        "\n",
        "urllib(mine) sleeping to throttle requests"
       ]
      },
      {
       "output_type": "stream",
       "stream": "stdout",
       "text": [
        "\n",
        "urllib(mine) sleeping to throttle requests"
       ]
      },
      {
       "output_type": "stream",
       "stream": "stdout",
       "text": [
        "\n",
        "urllib(mine) sleeping to throttle requests"
       ]
      },
      {
       "output_type": "stream",
       "stream": "stdout",
       "text": [
        "\n",
        "urllib(mine) sleeping to throttle requests"
       ]
      },
      {
       "output_type": "stream",
       "stream": "stdout",
       "text": [
        "\n",
        "urllib(mine) sleeping to throttle requests"
       ]
      },
      {
       "output_type": "stream",
       "stream": "stdout",
       "text": [
        "\n",
        "urllib(mine) sleeping to throttle requests"
       ]
      },
      {
       "output_type": "stream",
       "stream": "stdout",
       "text": [
        "\n",
        "urllib(mine) sleeping to throttle requests"
       ]
      },
      {
       "output_type": "stream",
       "stream": "stdout",
       "text": [
        "\n",
        "urllib(mine) sleeping to throttle requests"
       ]
      },
      {
       "output_type": "stream",
       "stream": "stdout",
       "text": [
        "\n",
        "urllib(mine) sleeping to throttle requests"
       ]
      },
      {
       "output_type": "stream",
       "stream": "stdout",
       "text": [
        "\n",
        "urllib(mine) sleeping to throttle requests"
       ]
      },
      {
       "output_type": "stream",
       "stream": "stdout",
       "text": [
        "\n",
        "urllib(mine) sleeping to throttle requests"
       ]
      },
      {
       "output_type": "stream",
       "stream": "stdout",
       "text": [
        "\n",
        "urllib(mine) sleeping to throttle requests"
       ]
      },
      {
       "output_type": "stream",
       "stream": "stdout",
       "text": [
        "\n",
        "urllib(mine) sleeping to throttle requests"
       ]
      },
      {
       "output_type": "stream",
       "stream": "stdout",
       "text": [
        "\n",
        "--------------------------------------"
       ]
      },
      {
       "output_type": "stream",
       "stream": "stdout",
       "text": [
        "\n",
        "Starting friend: M969034i9bBk22xQmy4i7A\n",
        "--------------------------------------\n",
        "urllib(mine) sleeping to throttle requests\n",
        "urllib(mine) sleeping to throttle requests"
       ]
      },
      {
       "output_type": "stream",
       "stream": "stdout",
       "text": [
        "\n",
        "urllib(mine) sleeping to throttle requests"
       ]
      },
      {
       "output_type": "stream",
       "stream": "stdout",
       "text": [
        "\n",
        "urllib(mine) sleeping to throttle requests"
       ]
      },
      {
       "output_type": "stream",
       "stream": "stdout",
       "text": [
        "\n",
        "urllib(mine) sleeping to throttle requests"
       ]
      },
      {
       "output_type": "stream",
       "stream": "stdout",
       "text": [
        "\n",
        "urllib(mine) sleeping to throttle requests"
       ]
      },
      {
       "output_type": "stream",
       "stream": "stdout",
       "text": [
        "\n",
        "urllib(mine) sleeping to throttle requests"
       ]
      },
      {
       "output_type": "stream",
       "stream": "stdout",
       "text": [
        "\n",
        "urllib(mine) sleeping to throttle requests"
       ]
      },
      {
       "output_type": "stream",
       "stream": "stdout",
       "text": [
        "\n",
        "urllib(mine) sleeping to throttle requests"
       ]
      },
      {
       "output_type": "stream",
       "stream": "stdout",
       "text": [
        "\n",
        "urllib(mine) sleeping to throttle requests"
       ]
      },
      {
       "output_type": "stream",
       "stream": "stdout",
       "text": [
        "\n",
        "--------------------------------------"
       ]
      },
      {
       "output_type": "stream",
       "stream": "stdout",
       "text": [
        "\n",
        "Starting friend: bwald8vjY_inlHa_O25gtg\n",
        "--------------------------------------\n",
        "urllib(mine) sleeping to throttle requests\n",
        "urllib(mine) sleeping to throttle requests"
       ]
      },
      {
       "output_type": "stream",
       "stream": "stdout",
       "text": [
        "\n",
        "urllib(mine) sleeping to throttle requests"
       ]
      },
      {
       "output_type": "stream",
       "stream": "stdout",
       "text": [
        "\n",
        "urllib(mine) sleeping to throttle requests"
       ]
      },
      {
       "output_type": "stream",
       "stream": "stdout",
       "text": [
        "\n",
        "urllib(mine) sleeping to throttle requests"
       ]
      },
      {
       "output_type": "stream",
       "stream": "stdout",
       "text": [
        "\n",
        "--------------------------------------"
       ]
      },
      {
       "output_type": "stream",
       "stream": "stdout",
       "text": [
        "\n",
        "Starting friend: aP6Obl6ApEVg4vohdzdpRQ\n",
        "--------------------------------------\n",
        "urllib(mine) sleeping to throttle requests\n",
        "urllib(mine) sleeping to throttle requests"
       ]
      },
      {
       "output_type": "stream",
       "stream": "stdout",
       "text": [
        "\n",
        "--------------------------------------"
       ]
      },
      {
       "output_type": "stream",
       "stream": "stdout",
       "text": [
        "\n",
        "Starting friend: 6J5ErdyI6b66VtIOFI92YQ\n",
        "--------------------------------------\n",
        "urllib(mine) sleeping to throttle requests\n",
        "urllib(mine) sleeping to throttle requests"
       ]
      },
      {
       "output_type": "stream",
       "stream": "stdout",
       "text": [
        "\n",
        "urllib(mine) sleeping to throttle requests"
       ]
      },
      {
       "output_type": "stream",
       "stream": "stdout",
       "text": [
        "\n",
        "urllib(mine) sleeping to throttle requests"
       ]
      },
      {
       "output_type": "stream",
       "stream": "stdout",
       "text": [
        "\n",
        "urllib(mine) sleeping to throttle requests"
       ]
      },
      {
       "output_type": "stream",
       "stream": "stdout",
       "text": [
        "\n",
        "urllib(mine) sleeping to throttle requests"
       ]
      },
      {
       "output_type": "stream",
       "stream": "stdout",
       "text": [
        "\n",
        "urllib(mine) sleeping to throttle requests"
       ]
      },
      {
       "output_type": "stream",
       "stream": "stdout",
       "text": [
        "\n",
        "urllib(mine) sleeping to throttle requests"
       ]
      },
      {
       "output_type": "stream",
       "stream": "stdout",
       "text": [
        "\n",
        "urllib(mine) sleeping to throttle requests"
       ]
      },
      {
       "output_type": "stream",
       "stream": "stdout",
       "text": [
        "\n",
        "urllib(mine) sleeping to throttle requests"
       ]
      },
      {
       "output_type": "stream",
       "stream": "stdout",
       "text": [
        "\n",
        "urllib(mine) sleeping to throttle requests"
       ]
      },
      {
       "output_type": "stream",
       "stream": "stdout",
       "text": [
        "\n",
        "urllib(mine) sleeping to throttle requests"
       ]
      },
      {
       "output_type": "stream",
       "stream": "stdout",
       "text": [
        "\n",
        "urllib(mine) sleeping to throttle requests"
       ]
      },
      {
       "output_type": "stream",
       "stream": "stdout",
       "text": [
        "\n",
        "urllib(mine) sleeping to throttle requests"
       ]
      },
      {
       "output_type": "stream",
       "stream": "stdout",
       "text": [
        "\n",
        "urllib(mine) sleeping to throttle requests"
       ]
      },
      {
       "output_type": "stream",
       "stream": "stdout",
       "text": [
        "\n",
        "urllib(mine) sleeping to throttle requests"
       ]
      },
      {
       "output_type": "stream",
       "stream": "stdout",
       "text": [
        "\n",
        "urllib(mine) sleeping to throttle requests"
       ]
      },
      {
       "output_type": "stream",
       "stream": "stdout",
       "text": [
        "\n",
        "urllib(mine) sleeping to throttle requests"
       ]
      },
      {
       "output_type": "stream",
       "stream": "stdout",
       "text": [
        "\n",
        "urllib(mine) sleeping to throttle requests"
       ]
      },
      {
       "output_type": "stream",
       "stream": "stdout",
       "text": [
        "\n",
        "urllib(mine) sleeping to throttle requests"
       ]
      },
      {
       "output_type": "stream",
       "stream": "stdout",
       "text": [
        "\n",
        "urllib(mine) sleeping to throttle requests"
       ]
      },
      {
       "output_type": "stream",
       "stream": "stdout",
       "text": [
        "\n",
        "urllib(mine) sleeping to throttle requests"
       ]
      },
      {
       "output_type": "stream",
       "stream": "stdout",
       "text": [
        "\n",
        "urllib(mine) sleeping to throttle requests"
       ]
      },
      {
       "output_type": "stream",
       "stream": "stdout",
       "text": [
        "\n",
        "--------------------------------------"
       ]
      },
      {
       "output_type": "stream",
       "stream": "stdout",
       "text": [
        "\n",
        "Starting friend: oinfgBUYqC24glcCAQWi-Q\n",
        "--------------------------------------\n",
        "urllib(mine) sleeping to throttle requests\n",
        "urllib(mine) sleeping to throttle requests"
       ]
      },
      {
       "output_type": "stream",
       "stream": "stdout",
       "text": [
        "\n",
        "--------------------------------------"
       ]
      },
      {
       "output_type": "stream",
       "stream": "stdout",
       "text": [
        "\n",
        "Starting friend: FPyFm-5SvVlLClVpegtK9w\n",
        "--------------------------------------\n",
        "urllib(mine) sleeping to throttle requests\n",
        "--------------------------------------"
       ]
      },
      {
       "output_type": "stream",
       "stream": "stdout",
       "text": [
        "\n",
        "Starting friend: zpswu_OyqtF4ib1ydsCR3Q\n",
        "--------------------------------------\n",
        "urllib(mine) sleeping to throttle requests\n",
        "urllib(mine) sleeping to throttle requests"
       ]
      },
      {
       "output_type": "stream",
       "stream": "stdout",
       "text": [
        "\n",
        "urllib(mine) sleeping to throttle requests"
       ]
      },
      {
       "output_type": "stream",
       "stream": "stdout",
       "text": [
        "\n",
        "urllib(mine) sleeping to throttle requests"
       ]
      },
      {
       "output_type": "stream",
       "stream": "stdout",
       "text": [
        "\n",
        "urllib(mine) sleeping to throttle requests"
       ]
      },
      {
       "output_type": "stream",
       "stream": "stdout",
       "text": [
        "\n",
        "urllib(mine) sleeping to throttle requests"
       ]
      },
      {
       "output_type": "stream",
       "stream": "stdout",
       "text": [
        "\n",
        "urllib(mine) sleeping to throttle requests"
       ]
      },
      {
       "output_type": "stream",
       "stream": "stdout",
       "text": [
        "\n",
        "urllib(mine) sleeping to throttle requests"
       ]
      },
      {
       "output_type": "stream",
       "stream": "stdout",
       "text": [
        "\n",
        "urllib(mine) sleeping to throttle requests"
       ]
      },
      {
       "output_type": "stream",
       "stream": "stdout",
       "text": [
        "\n",
        "urllib(mine) sleeping to throttle requests"
       ]
      },
      {
       "output_type": "stream",
       "stream": "stdout",
       "text": [
        "\n",
        "urllib(mine) sleeping to throttle requests"
       ]
      },
      {
       "output_type": "stream",
       "stream": "stdout",
       "text": [
        "\n",
        "--------------------------------------"
       ]
      },
      {
       "output_type": "stream",
       "stream": "stdout",
       "text": [
        "\n",
        "Starting friend: yxDG0rObsqSDiIwo3gu7Iw\n",
        "--------------------------------------\n",
        "urllib(mine) sleeping to throttle requests\n",
        "urllib(mine) sleeping to throttle requests"
       ]
      },
      {
       "output_type": "stream",
       "stream": "stdout",
       "text": [
        "\n",
        "--------------------------------------"
       ]
      },
      {
       "output_type": "stream",
       "stream": "stdout",
       "text": [
        "\n",
        "Starting friend: v0O7miDEH4XX2diEr7ij2w\n",
        "--------------------------------------\n",
        "urllib(mine) sleeping to throttle requests\n",
        "urllib(mine) sleeping to throttle requests"
       ]
      },
      {
       "output_type": "stream",
       "stream": "stdout",
       "text": [
        "\n",
        "urllib(mine) sleeping to throttle requests"
       ]
      },
      {
       "output_type": "stream",
       "stream": "stdout",
       "text": [
        "\n",
        "urllib(mine) sleeping to throttle requests"
       ]
      },
      {
       "output_type": "stream",
       "stream": "stdout",
       "text": [
        "\n",
        "urllib(mine) sleeping to throttle requests"
       ]
      },
      {
       "output_type": "stream",
       "stream": "stdout",
       "text": [
        "\n",
        "urllib(mine) sleeping to throttle requests"
       ]
      },
      {
       "output_type": "stream",
       "stream": "stdout",
       "text": [
        "\n",
        "--------------------------------------"
       ]
      },
      {
       "output_type": "stream",
       "stream": "stdout",
       "text": [
        "\n",
        "Starting friend: AKe0YPPVeUT2DL6zcQ7ffw\n",
        "--------------------------------------\n",
        "urllib(mine) sleeping to throttle requests\n",
        "urllib(mine) sleeping to throttle requests"
       ]
      },
      {
       "output_type": "stream",
       "stream": "stdout",
       "text": [
        "\n",
        "urllib(mine) sleeping to throttle requests"
       ]
      },
      {
       "output_type": "stream",
       "stream": "stdout",
       "text": [
        "\n",
        "urllib(mine) sleeping to throttle requests"
       ]
      },
      {
       "output_type": "stream",
       "stream": "stdout",
       "text": [
        "\n",
        "urllib(mine) sleeping to throttle requests"
       ]
      },
      {
       "output_type": "stream",
       "stream": "stdout",
       "text": [
        "\n",
        "urllib(mine) sleeping to throttle requests"
       ]
      },
      {
       "output_type": "stream",
       "stream": "stdout",
       "text": [
        "\n",
        "urllib(mine) sleeping to throttle requests"
       ]
      },
      {
       "output_type": "stream",
       "stream": "stdout",
       "text": [
        "\n",
        "urllib(mine) sleeping to throttle requests"
       ]
      },
      {
       "output_type": "stream",
       "stream": "stdout",
       "text": [
        "\n",
        "urllib(mine) sleeping to throttle requests"
       ]
      },
      {
       "output_type": "stream",
       "stream": "stdout",
       "text": [
        "\n",
        "urllib(mine) sleeping to throttle requests"
       ]
      },
      {
       "output_type": "stream",
       "stream": "stdout",
       "text": [
        "\n",
        "--------------------------------------"
       ]
      },
      {
       "output_type": "stream",
       "stream": "stdout",
       "text": [
        "\n",
        "Starting friend: XeWIIUbGwxS6YKrbddBtFw\n",
        "--------------------------------------\n",
        "urllib(mine) sleeping to throttle requests\n",
        "urllib(mine) sleeping to throttle requests"
       ]
      },
      {
       "output_type": "stream",
       "stream": "stdout",
       "text": [
        "\n",
        "urllib(mine) sleeping to throttle requests"
       ]
      },
      {
       "output_type": "stream",
       "stream": "stdout",
       "text": [
        "\n",
        "urllib(mine) sleeping to throttle requests"
       ]
      },
      {
       "output_type": "stream",
       "stream": "stdout",
       "text": [
        "\n",
        "urllib(mine) sleeping to throttle requests"
       ]
      },
      {
       "output_type": "stream",
       "stream": "stdout",
       "text": [
        "\n",
        "urllib(mine) sleeping to throttle requests"
       ]
      },
      {
       "output_type": "stream",
       "stream": "stdout",
       "text": [
        "\n",
        "urllib(mine) sleeping to throttle requests"
       ]
      },
      {
       "output_type": "stream",
       "stream": "stdout",
       "text": [
        "\n",
        "urllib(mine) sleeping to throttle requests"
       ]
      },
      {
       "output_type": "stream",
       "stream": "stdout",
       "text": [
        "\n",
        "urllib(mine) sleeping to throttle requests"
       ]
      },
      {
       "output_type": "stream",
       "stream": "stdout",
       "text": [
        "\n",
        "urllib(mine) sleeping to throttle requests"
       ]
      },
      {
       "output_type": "stream",
       "stream": "stdout",
       "text": [
        "\n",
        "urllib(mine) sleeping to throttle requests"
       ]
      },
      {
       "output_type": "stream",
       "stream": "stdout",
       "text": [
        "\n",
        "urllib(mine) sleeping to throttle requests"
       ]
      },
      {
       "output_type": "stream",
       "stream": "stdout",
       "text": [
        "\n",
        "urllib(mine) sleeping to throttle requests"
       ]
      },
      {
       "output_type": "stream",
       "stream": "stdout",
       "text": [
        "\n",
        "urllib(mine) sleeping to throttle requests"
       ]
      },
      {
       "output_type": "stream",
       "stream": "stdout",
       "text": [
        "\n",
        "urllib(mine) sleeping to throttle requests"
       ]
      },
      {
       "output_type": "stream",
       "stream": "stdout",
       "text": [
        "\n",
        "urllib(mine) sleeping to throttle requests"
       ]
      },
      {
       "output_type": "stream",
       "stream": "stdout",
       "text": [
        "\n",
        "urllib(mine) sleeping to throttle requests"
       ]
      },
      {
       "output_type": "stream",
       "stream": "stdout",
       "text": [
        "\n",
        "urllib(mine) sleeping to throttle requests"
       ]
      },
      {
       "output_type": "stream",
       "stream": "stdout",
       "text": [
        "\n",
        "urllib(mine) sleeping to throttle requests"
       ]
      },
      {
       "output_type": "stream",
       "stream": "stdout",
       "text": [
        "\n",
        "urllib(mine) sleeping to throttle requests"
       ]
      },
      {
       "output_type": "stream",
       "stream": "stdout",
       "text": [
        "\n",
        "urllib(mine) sleeping to throttle requests"
       ]
      },
      {
       "output_type": "stream",
       "stream": "stdout",
       "text": [
        "\n",
        "urllib(mine) sleeping to throttle requests"
       ]
      },
      {
       "output_type": "stream",
       "stream": "stdout",
       "text": [
        "\n",
        "urllib(mine) sleeping to throttle requests"
       ]
      },
      {
       "output_type": "stream",
       "stream": "stdout",
       "text": [
        "\n",
        "urllib(mine) sleeping to throttle requests"
       ]
      },
      {
       "output_type": "stream",
       "stream": "stdout",
       "text": [
        "\n",
        "urllib(mine) sleeping to throttle requests"
       ]
      },
      {
       "output_type": "stream",
       "stream": "stdout",
       "text": [
        "\n",
        "urllib(mine) sleeping to throttle requests"
       ]
      },
      {
       "output_type": "stream",
       "stream": "stdout",
       "text": [
        "\n",
        "urllib(mine) sleeping to throttle requests"
       ]
      },
      {
       "output_type": "stream",
       "stream": "stdout",
       "text": [
        "\n",
        "urllib(mine) sleeping to throttle requests"
       ]
      },
      {
       "output_type": "stream",
       "stream": "stdout",
       "text": [
        "\n",
        "urllib(mine) sleeping to throttle requests"
       ]
      },
      {
       "output_type": "stream",
       "stream": "stdout",
       "text": [
        "\n",
        "urllib(mine) sleeping to throttle requests"
       ]
      },
      {
       "output_type": "stream",
       "stream": "stdout",
       "text": [
        "\n",
        "urllib(mine) sleeping to throttle requests"
       ]
      },
      {
       "output_type": "stream",
       "stream": "stdout",
       "text": [
        "\n",
        "urllib(mine) sleeping to throttle requests"
       ]
      },
      {
       "output_type": "stream",
       "stream": "stdout",
       "text": [
        "\n",
        "--------------------------------------"
       ]
      },
      {
       "output_type": "stream",
       "stream": "stdout",
       "text": [
        "\n",
        "Starting friend: fFAG_JniC3hOOTs_9162mQ\n",
        "--------------------------------------\n",
        "urllib(mine) sleeping to throttle requests\n",
        "urllib(mine) sleeping to throttle requests"
       ]
      },
      {
       "output_type": "stream",
       "stream": "stdout",
       "text": [
        "\n",
        "urllib(mine) sleeping to throttle requests"
       ]
      },
      {
       "output_type": "stream",
       "stream": "stdout",
       "text": [
        "\n",
        "--------------------------------------"
       ]
      },
      {
       "output_type": "stream",
       "stream": "stdout",
       "text": [
        "\n",
        "Starting friend: AHgHTaFLx6RBtE0G3WrKoQ\n",
        "--------------------------------------\n",
        "urllib(mine) sleeping to throttle requests\n",
        "--------------------------------------"
       ]
      },
      {
       "output_type": "stream",
       "stream": "stdout",
       "text": [
        "\n",
        "Starting friend: mmuRuaxqMYHksF7SXX0yUw\n",
        "--------------------------------------\n",
        "urllib(mine) sleeping to throttle requests\n",
        "urllib(mine) sleeping to throttle requests"
       ]
      },
      {
       "output_type": "stream",
       "stream": "stdout",
       "text": [
        "\n",
        "urllib(mine) sleeping to throttle requests"
       ]
      },
      {
       "output_type": "stream",
       "stream": "stdout",
       "text": [
        "\n",
        "urllib(mine) sleeping to throttle requests"
       ]
      },
      {
       "output_type": "stream",
       "stream": "stdout",
       "text": [
        "\n",
        "urllib(mine) sleeping to throttle requests"
       ]
      },
      {
       "output_type": "stream",
       "stream": "stdout",
       "text": [
        "\n",
        "urllib(mine) sleeping to throttle requests"
       ]
      },
      {
       "output_type": "stream",
       "stream": "stdout",
       "text": [
        "\n",
        "urllib(mine) sleeping to throttle requests"
       ]
      },
      {
       "output_type": "stream",
       "stream": "stdout",
       "text": [
        "\n",
        "urllib(mine) sleeping to throttle requests"
       ]
      },
      {
       "output_type": "stream",
       "stream": "stdout",
       "text": [
        "\n",
        "urllib(mine) sleeping to throttle requests"
       ]
      },
      {
       "output_type": "stream",
       "stream": "stdout",
       "text": [
        "\n",
        "urllib(mine) sleeping to throttle requests"
       ]
      },
      {
       "output_type": "stream",
       "stream": "stdout",
       "text": [
        "\n",
        "urllib(mine) sleeping to throttle requests"
       ]
      },
      {
       "output_type": "stream",
       "stream": "stdout",
       "text": [
        "\n",
        "urllib(mine) sleeping to throttle requests"
       ]
      },
      {
       "output_type": "stream",
       "stream": "stdout",
       "text": [
        "\n",
        "--------------------------------------"
       ]
      },
      {
       "output_type": "stream",
       "stream": "stdout",
       "text": [
        "\n",
        "Starting friend: hEKQqq2vCmb42Ekqmaz00Q\n",
        "--------------------------------------\n",
        "urllib(mine) sleeping to throttle requests\n",
        "--------------------------------------"
       ]
      },
      {
       "output_type": "stream",
       "stream": "stdout",
       "text": [
        "\n",
        "Starting friend: imMQ01U0KROC6ThDaZu-BQ\n",
        "--------------------------------------\n",
        "urllib(mine) sleeping to throttle requests\n",
        "urllib(mine) sleeping to throttle requests"
       ]
      },
      {
       "output_type": "stream",
       "stream": "stdout",
       "text": [
        "\n",
        "urllib(mine) sleeping to throttle requests"
       ]
      },
      {
       "output_type": "stream",
       "stream": "stdout",
       "text": [
        "\n",
        "urllib(mine) sleeping to throttle requests"
       ]
      },
      {
       "output_type": "stream",
       "stream": "stdout",
       "text": [
        "\n",
        "urllib(mine) sleeping to throttle requests"
       ]
      },
      {
       "output_type": "stream",
       "stream": "stdout",
       "text": [
        "\n",
        "--------------------------------------"
       ]
      },
      {
       "output_type": "stream",
       "stream": "stdout",
       "text": [
        "\n",
        "Starting friend: pEb2Gx5IMdDfZXHe-coXMQ\n",
        "--------------------------------------\n",
        "urllib(mine) sleeping to throttle requests\n",
        "urllib(mine) sleeping to throttle requests"
       ]
      },
      {
       "output_type": "stream",
       "stream": "stdout",
       "text": [
        "\n",
        "urllib(mine) sleeping to throttle requests"
       ]
      },
      {
       "output_type": "stream",
       "stream": "stdout",
       "text": [
        "\n",
        "urllib(mine) sleeping to throttle requests"
       ]
      },
      {
       "output_type": "stream",
       "stream": "stdout",
       "text": [
        "\n",
        "urllib(mine) sleeping to throttle requests"
       ]
      },
      {
       "output_type": "stream",
       "stream": "stdout",
       "text": [
        "\n",
        "urllib(mine) sleeping to throttle requests"
       ]
      },
      {
       "output_type": "stream",
       "stream": "stdout",
       "text": [
        "\n",
        "urllib(mine) sleeping to throttle requests"
       ]
      },
      {
       "output_type": "stream",
       "stream": "stdout",
       "text": [
        "\n",
        "urllib(mine) sleeping to throttle requests"
       ]
      },
      {
       "output_type": "stream",
       "stream": "stdout",
       "text": [
        "\n",
        "urllib(mine) sleeping to throttle requests"
       ]
      },
      {
       "output_type": "stream",
       "stream": "stdout",
       "text": [
        "\n",
        "urllib(mine) sleeping to throttle requests"
       ]
      },
      {
       "output_type": "stream",
       "stream": "stdout",
       "text": [
        "\n",
        "urllib(mine) sleeping to throttle requests"
       ]
      },
      {
       "output_type": "stream",
       "stream": "stdout",
       "text": [
        "\n",
        "urllib(mine) sleeping to throttle requests"
       ]
      },
      {
       "output_type": "stream",
       "stream": "stdout",
       "text": [
        "\n",
        "urllib(mine) sleeping to throttle requests"
       ]
      },
      {
       "output_type": "stream",
       "stream": "stdout",
       "text": [
        "\n",
        "urllib(mine) sleeping to throttle requests"
       ]
      },
      {
       "output_type": "stream",
       "stream": "stdout",
       "text": [
        "\n",
        "urllib(mine) sleeping to throttle requests"
       ]
      },
      {
       "output_type": "stream",
       "stream": "stdout",
       "text": [
        "\n",
        "urllib(mine) sleeping to throttle requests"
       ]
      },
      {
       "output_type": "stream",
       "stream": "stdout",
       "text": [
        "\n",
        "urllib(mine) sleeping to throttle requests"
       ]
      },
      {
       "output_type": "stream",
       "stream": "stdout",
       "text": [
        "\n",
        "urllib(mine) sleeping to throttle requests"
       ]
      },
      {
       "output_type": "stream",
       "stream": "stdout",
       "text": [
        "\n",
        "urllib(mine) sleeping to throttle requests"
       ]
      },
      {
       "output_type": "stream",
       "stream": "stdout",
       "text": [
        "\n",
        "urllib(mine) sleeping to throttle requests"
       ]
      },
      {
       "output_type": "stream",
       "stream": "stdout",
       "text": [
        "\n",
        "urllib(mine) sleeping to throttle requests"
       ]
      },
      {
       "output_type": "stream",
       "stream": "stdout",
       "text": [
        "\n",
        "urllib(mine) sleeping to throttle requests"
       ]
      },
      {
       "output_type": "stream",
       "stream": "stdout",
       "text": [
        "\n",
        "urllib(mine) sleeping to throttle requests"
       ]
      },
      {
       "output_type": "stream",
       "stream": "stdout",
       "text": [
        "\n",
        "urllib(mine) sleeping to throttle requests"
       ]
      },
      {
       "output_type": "stream",
       "stream": "stdout",
       "text": [
        "\n",
        "urllib(mine) sleeping to throttle requests"
       ]
      },
      {
       "output_type": "stream",
       "stream": "stdout",
       "text": [
        "\n",
        "urllib(mine) sleeping to throttle requests"
       ]
      },
      {
       "output_type": "stream",
       "stream": "stdout",
       "text": [
        "\n",
        "urllib(mine) sleeping to throttle requests"
       ]
      },
      {
       "output_type": "stream",
       "stream": "stdout",
       "text": [
        "\n",
        "urllib(mine) sleeping to throttle requests"
       ]
      },
      {
       "output_type": "stream",
       "stream": "stdout",
       "text": [
        "\n",
        "urllib(mine) sleeping to throttle requests"
       ]
      },
      {
       "output_type": "stream",
       "stream": "stdout",
       "text": [
        "\n",
        "urllib(mine) sleeping to throttle requests"
       ]
      },
      {
       "output_type": "stream",
       "stream": "stdout",
       "text": [
        "\n",
        "urllib(mine) sleeping to throttle requests"
       ]
      },
      {
       "output_type": "stream",
       "stream": "stdout",
       "text": [
        "\n",
        "urllib(mine) sleeping to throttle requests"
       ]
      },
      {
       "output_type": "stream",
       "stream": "stdout",
       "text": [
        "\n",
        "urllib(mine) sleeping to throttle requests"
       ]
      },
      {
       "output_type": "stream",
       "stream": "stdout",
       "text": [
        "\n",
        "urllib(mine) sleeping to throttle requests"
       ]
      },
      {
       "output_type": "stream",
       "stream": "stdout",
       "text": [
        "\n",
        "urllib(mine) sleeping to throttle requests"
       ]
      },
      {
       "output_type": "stream",
       "stream": "stdout",
       "text": [
        "\n",
        "urllib(mine) sleeping to throttle requests"
       ]
      },
      {
       "output_type": "stream",
       "stream": "stdout",
       "text": [
        "\n",
        "urllib(mine) sleeping to throttle requests"
       ]
      },
      {
       "output_type": "stream",
       "stream": "stdout",
       "text": [
        "\n",
        "urllib(mine) sleeping to throttle requests"
       ]
      },
      {
       "output_type": "stream",
       "stream": "stdout",
       "text": [
        "\n",
        "urllib(mine) sleeping to throttle requests"
       ]
      },
      {
       "output_type": "stream",
       "stream": "stdout",
       "text": [
        "\n",
        "urllib(mine) sleeping to throttle requests"
       ]
      },
      {
       "output_type": "stream",
       "stream": "stdout",
       "text": [
        "\n",
        "--------------------------------------"
       ]
      },
      {
       "output_type": "stream",
       "stream": "stdout",
       "text": [
        "\n",
        "Starting friend: pmPp2X8L1RO6_J4WgnjZdw\n",
        "--------------------------------------\n",
        "urllib(mine) sleeping to throttle requests\n",
        "urllib(mine) sleeping to throttle requests"
       ]
      },
      {
       "output_type": "stream",
       "stream": "stdout",
       "text": [
        "\n",
        "urllib(mine) sleeping to throttle requests"
       ]
      },
      {
       "output_type": "stream",
       "stream": "stdout",
       "text": [
        "\n",
        "urllib(mine) sleeping to throttle requests"
       ]
      },
      {
       "output_type": "stream",
       "stream": "stdout",
       "text": [
        "\n",
        "--------------------------------------"
       ]
      },
      {
       "output_type": "stream",
       "stream": "stdout",
       "text": [
        "\n",
        "Starting friend: URHf5mueYVR0vGuVPr1oUQ\n",
        "--------------------------------------\n",
        "urllib(mine) sleeping to throttle requests\n",
        "urllib(mine) sleeping to throttle requests"
       ]
      },
      {
       "output_type": "stream",
       "stream": "stdout",
       "text": [
        "\n",
        "urllib(mine) sleeping to throttle requests"
       ]
      },
      {
       "output_type": "stream",
       "stream": "stdout",
       "text": [
        "\n",
        "urllib(mine) sleeping to throttle requests"
       ]
      },
      {
       "output_type": "stream",
       "stream": "stdout",
       "text": [
        "\n",
        "urllib(mine) sleeping to throttle requests"
       ]
      },
      {
       "output_type": "stream",
       "stream": "stdout",
       "text": [
        "\n",
        "urllib(mine) sleeping to throttle requests"
       ]
      },
      {
       "output_type": "stream",
       "stream": "stdout",
       "text": [
        "\n",
        "urllib(mine) sleeping to throttle requests"
       ]
      },
      {
       "output_type": "stream",
       "stream": "stdout",
       "text": [
        "\n",
        "urllib(mine) sleeping to throttle requests"
       ]
      },
      {
       "output_type": "stream",
       "stream": "stdout",
       "text": [
        "\n",
        "urllib(mine) sleeping to throttle requests"
       ]
      },
      {
       "output_type": "stream",
       "stream": "stdout",
       "text": [
        "\n",
        "urllib(mine) sleeping to throttle requests"
       ]
      },
      {
       "output_type": "stream",
       "stream": "stdout",
       "text": [
        "\n",
        "urllib(mine) sleeping to throttle requests"
       ]
      },
      {
       "output_type": "stream",
       "stream": "stdout",
       "text": [
        "\n",
        "urllib(mine) sleeping to throttle requests"
       ]
      },
      {
       "output_type": "stream",
       "stream": "stdout",
       "text": [
        "\n",
        "urllib(mine) sleeping to throttle requests"
       ]
      },
      {
       "output_type": "stream",
       "stream": "stdout",
       "text": [
        "\n",
        "urllib(mine) sleeping to throttle requests"
       ]
      },
      {
       "output_type": "stream",
       "stream": "stdout",
       "text": [
        "\n",
        "urllib(mine) sleeping to throttle requests"
       ]
      },
      {
       "output_type": "stream",
       "stream": "stdout",
       "text": [
        "\n",
        "urllib(mine) sleeping to throttle requests"
       ]
      },
      {
       "output_type": "stream",
       "stream": "stdout",
       "text": [
        "\n",
        "urllib(mine) sleeping to throttle requests"
       ]
      },
      {
       "output_type": "stream",
       "stream": "stdout",
       "text": [
        "\n",
        "urllib(mine) sleeping to throttle requests"
       ]
      },
      {
       "output_type": "stream",
       "stream": "stdout",
       "text": [
        "\n",
        "urllib(mine) sleeping to throttle requests"
       ]
      },
      {
       "output_type": "stream",
       "stream": "stdout",
       "text": [
        "\n",
        "urllib(mine) sleeping to throttle requests"
       ]
      },
      {
       "output_type": "stream",
       "stream": "stdout",
       "text": [
        "\n",
        "urllib(mine) sleeping to throttle requests"
       ]
      },
      {
       "output_type": "stream",
       "stream": "stdout",
       "text": [
        "\n",
        "urllib(mine) sleeping to throttle requests"
       ]
      },
      {
       "output_type": "stream",
       "stream": "stdout",
       "text": [
        "\n",
        "urllib(mine) sleeping to throttle requests"
       ]
      },
      {
       "output_type": "stream",
       "stream": "stdout",
       "text": [
        "\n",
        "urllib(mine) sleeping to throttle requests"
       ]
      },
      {
       "output_type": "stream",
       "stream": "stdout",
       "text": [
        "\n",
        "urllib(mine) sleeping to throttle requests"
       ]
      },
      {
       "output_type": "stream",
       "stream": "stdout",
       "text": [
        "\n",
        "urllib(mine) sleeping to throttle requests"
       ]
      },
      {
       "output_type": "stream",
       "stream": "stdout",
       "text": [
        "\n",
        "urllib(mine) sleeping to throttle requests"
       ]
      },
      {
       "output_type": "stream",
       "stream": "stdout",
       "text": [
        "\n",
        "urllib(mine) sleeping to throttle requests"
       ]
      },
      {
       "output_type": "stream",
       "stream": "stdout",
       "text": [
        "\n",
        "urllib(mine) sleeping to throttle requests"
       ]
      },
      {
       "output_type": "stream",
       "stream": "stdout",
       "text": [
        "\n",
        "urllib(mine) sleeping to throttle requests"
       ]
      },
      {
       "output_type": "stream",
       "stream": "stdout",
       "text": [
        "\n",
        "urllib(mine) sleeping to throttle requests"
       ]
      },
      {
       "output_type": "stream",
       "stream": "stdout",
       "text": [
        "\n",
        "urllib(mine) sleeping to throttle requests"
       ]
      },
      {
       "output_type": "stream",
       "stream": "stdout",
       "text": [
        "\n",
        "urllib(mine) sleeping to throttle requests"
       ]
      },
      {
       "output_type": "stream",
       "stream": "stdout",
       "text": [
        "\n",
        "urllib(mine) sleeping to throttle requests"
       ]
      },
      {
       "output_type": "stream",
       "stream": "stdout",
       "text": [
        "\n",
        "urllib(mine) sleeping to throttle requests"
       ]
      },
      {
       "output_type": "stream",
       "stream": "stdout",
       "text": [
        "\n",
        "urllib(mine) sleeping to throttle requests"
       ]
      },
      {
       "output_type": "stream",
       "stream": "stdout",
       "text": [
        "\n",
        "urllib(mine) sleeping to throttle requests"
       ]
      },
      {
       "output_type": "stream",
       "stream": "stdout",
       "text": [
        "\n",
        "urllib(mine) sleeping to throttle requests"
       ]
      },
      {
       "output_type": "stream",
       "stream": "stdout",
       "text": [
        "\n",
        "urllib(mine) sleeping to throttle requests"
       ]
      },
      {
       "output_type": "stream",
       "stream": "stdout",
       "text": [
        "\n",
        "urllib(mine) sleeping to throttle requests"
       ]
      },
      {
       "output_type": "stream",
       "stream": "stdout",
       "text": [
        "\n",
        "urllib(mine) sleeping to throttle requests"
       ]
      },
      {
       "output_type": "stream",
       "stream": "stdout",
       "text": [
        "\n",
        "urllib(mine) sleeping to throttle requests"
       ]
      },
      {
       "output_type": "stream",
       "stream": "stdout",
       "text": [
        "\n",
        "urllib(mine) sleeping to throttle requests"
       ]
      },
      {
       "output_type": "stream",
       "stream": "stdout",
       "text": [
        "\n",
        "--------------------------------------"
       ]
      },
      {
       "output_type": "stream",
       "stream": "stdout",
       "text": [
        "\n",
        "Starting friend: WX7-tew24WcXjYvrnRFDBQ\n",
        "--------------------------------------\n",
        "urllib(mine) sleeping to throttle requests\n",
        "urllib(mine) sleeping to throttle requests"
       ]
      },
      {
       "output_type": "stream",
       "stream": "stdout",
       "text": [
        "\n",
        "urllib(mine) sleeping to throttle requests"
       ]
      },
      {
       "output_type": "stream",
       "stream": "stdout",
       "text": [
        "\n",
        "urllib(mine) sleeping to throttle requests"
       ]
      },
      {
       "output_type": "stream",
       "stream": "stdout",
       "text": [
        "\n",
        "urllib(mine) sleeping to throttle requests"
       ]
      },
      {
       "output_type": "stream",
       "stream": "stdout",
       "text": [
        "\n",
        "urllib(mine) sleeping to throttle requests"
       ]
      },
      {
       "output_type": "stream",
       "stream": "stdout",
       "text": [
        "\n",
        "urllib(mine) sleeping to throttle requests"
       ]
      },
      {
       "output_type": "stream",
       "stream": "stdout",
       "text": [
        "\n",
        "urllib(mine) sleeping to throttle requests"
       ]
      },
      {
       "output_type": "stream",
       "stream": "stdout",
       "text": [
        "\n",
        "urllib(mine) sleeping to throttle requests"
       ]
      },
      {
       "output_type": "stream",
       "stream": "stdout",
       "text": [
        "\n",
        "urllib(mine) sleeping to throttle requests"
       ]
      },
      {
       "output_type": "stream",
       "stream": "stdout",
       "text": [
        "\n",
        "urllib(mine) sleeping to throttle requests"
       ]
      },
      {
       "output_type": "stream",
       "stream": "stdout",
       "text": [
        "\n",
        "--------------------------------------"
       ]
      },
      {
       "output_type": "stream",
       "stream": "stdout",
       "text": [
        "\n",
        "Starting friend: WYqfv0ZyNcu0X3AF40NZNQ\n",
        "--------------------------------------\n",
        "urllib(mine) sleeping to throttle requests\n",
        "--------------------------------------"
       ]
      },
      {
       "output_type": "stream",
       "stream": "stdout",
       "text": [
        "\n",
        "Starting friend: DXwg16hsNnyJfqammdlWww\n",
        "--------------------------------------\n",
        "urllib(mine) sleeping to throttle requests\n",
        "--------------------------------------"
       ]
      },
      {
       "output_type": "stream",
       "stream": "stdout",
       "text": [
        "\n",
        "Starting friend: awtsYfE7_z5fnxQj8L6GfQ\n",
        "--------------------------------------\n",
        "urllib(mine) sleeping to throttle requests\n",
        "--------------------------------------"
       ]
      },
      {
       "output_type": "stream",
       "stream": "stdout",
       "text": [
        "\n",
        "Starting friend: yOEYmIfvY7-bWqR9SxHNfg\n",
        "--------------------------------------\n",
        "urllib(mine) sleeping to throttle requests\n",
        "urllib(mine) sleeping to throttle requests"
       ]
      },
      {
       "output_type": "stream",
       "stream": "stdout",
       "text": [
        "\n",
        "urllib(mine) sleeping to throttle requests"
       ]
      },
      {
       "output_type": "stream",
       "stream": "stdout",
       "text": [
        "\n",
        "--------------------------------------"
       ]
      },
      {
       "output_type": "stream",
       "stream": "stdout",
       "text": [
        "\n",
        "Starting friend: Da1BaLgVqtmYlMP7TaSUGw\n",
        "--------------------------------------\n",
        "urllib(mine) sleeping to throttle requests\n",
        "urllib(mine) sleeping to throttle requests"
       ]
      },
      {
       "output_type": "stream",
       "stream": "stdout",
       "text": [
        "\n",
        "--------------------------------------"
       ]
      },
      {
       "output_type": "stream",
       "stream": "stdout",
       "text": [
        "\n",
        "Starting friend: O_XUqQ-MukLbIVyus4p-qg\n",
        "--------------------------------------\n",
        "urllib(mine) sleeping to throttle requests\n",
        "urllib(mine) sleeping to throttle requests"
       ]
      },
      {
       "output_type": "stream",
       "stream": "stdout",
       "text": [
        "\n",
        "urllib(mine) sleeping to throttle requests"
       ]
      },
      {
       "output_type": "stream",
       "stream": "stdout",
       "text": [
        "\n",
        "urllib(mine) sleeping to throttle requests"
       ]
      },
      {
       "output_type": "stream",
       "stream": "stdout",
       "text": [
        "\n",
        "urllib(mine) sleeping to throttle requests"
       ]
      },
      {
       "output_type": "stream",
       "stream": "stdout",
       "text": [
        "\n",
        "urllib(mine) sleeping to throttle requests"
       ]
      },
      {
       "output_type": "stream",
       "stream": "stdout",
       "text": [
        "\n",
        "urllib(mine) sleeping to throttle requests"
       ]
      },
      {
       "output_type": "stream",
       "stream": "stdout",
       "text": [
        "\n",
        "urllib(mine) sleeping to throttle requests"
       ]
      },
      {
       "output_type": "stream",
       "stream": "stdout",
       "text": [
        "\n",
        "urllib(mine) sleeping to throttle requests"
       ]
      },
      {
       "output_type": "stream",
       "stream": "stdout",
       "text": [
        "\n",
        "urllib(mine) sleeping to throttle requests"
       ]
      },
      {
       "output_type": "stream",
       "stream": "stdout",
       "text": [
        "\n",
        "urllib(mine) sleeping to throttle requests"
       ]
      },
      {
       "output_type": "stream",
       "stream": "stdout",
       "text": [
        "\n",
        "urllib(mine) sleeping to throttle requests"
       ]
      },
      {
       "output_type": "stream",
       "stream": "stdout",
       "text": [
        "\n",
        "urllib(mine) sleeping to throttle requests"
       ]
      },
      {
       "output_type": "stream",
       "stream": "stdout",
       "text": [
        "\n",
        "urllib(mine) sleeping to throttle requests"
       ]
      },
      {
       "output_type": "stream",
       "stream": "stdout",
       "text": [
        "\n",
        "urllib(mine) sleeping to throttle requests"
       ]
      },
      {
       "output_type": "stream",
       "stream": "stdout",
       "text": [
        "\n",
        "urllib(mine) sleeping to throttle requests"
       ]
      },
      {
       "output_type": "stream",
       "stream": "stdout",
       "text": [
        "\n",
        "urllib(mine) sleeping to throttle requests"
       ]
      },
      {
       "output_type": "stream",
       "stream": "stdout",
       "text": [
        "\n",
        "urllib(mine) sleeping to throttle requests"
       ]
      },
      {
       "output_type": "stream",
       "stream": "stdout",
       "text": [
        "\n",
        "urllib(mine) sleeping to throttle requests"
       ]
      },
      {
       "output_type": "stream",
       "stream": "stdout",
       "text": [
        "\n",
        "urllib(mine) sleeping to throttle requests"
       ]
      },
      {
       "output_type": "stream",
       "stream": "stdout",
       "text": [
        "\n",
        "urllib(mine) sleeping to throttle requests"
       ]
      },
      {
       "output_type": "stream",
       "stream": "stdout",
       "text": [
        "\n",
        "urllib(mine) sleeping to throttle requests"
       ]
      },
      {
       "output_type": "stream",
       "stream": "stdout",
       "text": [
        "\n",
        "urllib(mine) sleeping to throttle requests"
       ]
      },
      {
       "output_type": "stream",
       "stream": "stdout",
       "text": [
        "\n",
        "urllib(mine) sleeping to throttle requests"
       ]
      },
      {
       "output_type": "stream",
       "stream": "stdout",
       "text": [
        "\n",
        "urllib(mine) sleeping to throttle requests"
       ]
      },
      {
       "output_type": "stream",
       "stream": "stdout",
       "text": [
        "\n",
        "urllib(mine) sleeping to throttle requests"
       ]
      },
      {
       "output_type": "stream",
       "stream": "stdout",
       "text": [
        "\n",
        "urllib(mine) sleeping to throttle requests"
       ]
      },
      {
       "output_type": "stream",
       "stream": "stdout",
       "text": [
        "\n",
        "urllib(mine) sleeping to throttle requests"
       ]
      },
      {
       "output_type": "stream",
       "stream": "stdout",
       "text": [
        "\n",
        "urllib(mine) sleeping to throttle requests"
       ]
      },
      {
       "output_type": "stream",
       "stream": "stdout",
       "text": [
        "\n",
        "urllib(mine) sleeping to throttle requests"
       ]
      },
      {
       "output_type": "stream",
       "stream": "stdout",
       "text": [
        "\n",
        "urllib(mine) sleeping to throttle requests"
       ]
      },
      {
       "output_type": "stream",
       "stream": "stdout",
       "text": [
        "\n",
        "urllib(mine) sleeping to throttle requests"
       ]
      },
      {
       "output_type": "stream",
       "stream": "stdout",
       "text": [
        "\n",
        "urllib(mine) sleeping to throttle requests"
       ]
      },
      {
       "output_type": "stream",
       "stream": "stdout",
       "text": [
        "\n",
        "--------------------------------------"
       ]
      },
      {
       "output_type": "stream",
       "stream": "stdout",
       "text": [
        "\n",
        "Starting friend: k0xZqmeT5Xs-xsWR6GFcYQ\n",
        "--------------------------------------\n",
        "urllib(mine) sleeping to throttle requests\n",
        "--------------------------------------"
       ]
      },
      {
       "output_type": "stream",
       "stream": "stdout",
       "text": [
        "\n",
        "Starting friend: vASaF47nWvCHEEDA8nfCVw\n",
        "--------------------------------------\n",
        "urllib(mine) sleeping to throttle requests\n",
        "urllib(mine) sleeping to throttle requests"
       ]
      },
      {
       "output_type": "stream",
       "stream": "stdout",
       "text": [
        "\n",
        "urllib(mine) sleeping to throttle requests"
       ]
      },
      {
       "output_type": "stream",
       "stream": "stdout",
       "text": [
        "\n",
        "urllib(mine) sleeping to throttle requests"
       ]
      },
      {
       "output_type": "stream",
       "stream": "stdout",
       "text": [
        "\n",
        "urllib(mine) sleeping to throttle requests"
       ]
      },
      {
       "output_type": "stream",
       "stream": "stdout",
       "text": [
        "\n",
        "urllib(mine) sleeping to throttle requests"
       ]
      },
      {
       "output_type": "stream",
       "stream": "stdout",
       "text": [
        "\n",
        "urllib(mine) sleeping to throttle requests"
       ]
      },
      {
       "output_type": "stream",
       "stream": "stdout",
       "text": [
        "\n",
        "urllib(mine) sleeping to throttle requests"
       ]
      },
      {
       "output_type": "stream",
       "stream": "stdout",
       "text": [
        "\n",
        "urllib(mine) sleeping to throttle requests"
       ]
      },
      {
       "output_type": "stream",
       "stream": "stdout",
       "text": [
        "\n",
        "urllib(mine) sleeping to throttle requests"
       ]
      },
      {
       "output_type": "stream",
       "stream": "stdout",
       "text": [
        "\n",
        "urllib(mine) sleeping to throttle requests"
       ]
      },
      {
       "output_type": "stream",
       "stream": "stdout",
       "text": [
        "\n",
        "urllib(mine) sleeping to throttle requests"
       ]
      },
      {
       "output_type": "stream",
       "stream": "stdout",
       "text": [
        "\n",
        "urllib(mine) sleeping to throttle requests"
       ]
      },
      {
       "output_type": "stream",
       "stream": "stdout",
       "text": [
        "\n",
        "urllib(mine) sleeping to throttle requests"
       ]
      },
      {
       "output_type": "stream",
       "stream": "stdout",
       "text": [
        "\n",
        "urllib(mine) sleeping to throttle requests"
       ]
      },
      {
       "output_type": "stream",
       "stream": "stdout",
       "text": [
        "\n",
        "urllib(mine) sleeping to throttle requests"
       ]
      },
      {
       "output_type": "stream",
       "stream": "stdout",
       "text": [
        "\n",
        "urllib(mine) sleeping to throttle requests"
       ]
      },
      {
       "output_type": "stream",
       "stream": "stdout",
       "text": [
        "\n",
        "urllib(mine) sleeping to throttle requests"
       ]
      },
      {
       "output_type": "stream",
       "stream": "stdout",
       "text": [
        "\n",
        "urllib(mine) sleeping to throttle requests"
       ]
      },
      {
       "output_type": "stream",
       "stream": "stdout",
       "text": [
        "\n",
        "urllib(mine) sleeping to throttle requests"
       ]
      },
      {
       "output_type": "stream",
       "stream": "stdout",
       "text": [
        "\n",
        "urllib(mine) sleeping to throttle requests"
       ]
      },
      {
       "output_type": "stream",
       "stream": "stdout",
       "text": [
        "\n",
        "urllib(mine) sleeping to throttle requests"
       ]
      },
      {
       "output_type": "stream",
       "stream": "stdout",
       "text": [
        "\n",
        "urllib(mine) sleeping to throttle requests"
       ]
      },
      {
       "output_type": "stream",
       "stream": "stdout",
       "text": [
        "\n",
        "urllib(mine) sleeping to throttle requests"
       ]
      },
      {
       "output_type": "stream",
       "stream": "stdout",
       "text": [
        "\n",
        "urllib(mine) sleeping to throttle requests"
       ]
      },
      {
       "output_type": "stream",
       "stream": "stdout",
       "text": [
        "\n",
        "urllib(mine) sleeping to throttle requests"
       ]
      },
      {
       "output_type": "stream",
       "stream": "stdout",
       "text": [
        "\n",
        "urllib(mine) sleeping to throttle requests"
       ]
      },
      {
       "output_type": "stream",
       "stream": "stdout",
       "text": [
        "\n",
        "urllib(mine) sleeping to throttle requests"
       ]
      },
      {
       "output_type": "stream",
       "stream": "stdout",
       "text": [
        "\n",
        "urllib(mine) sleeping to throttle requests"
       ]
      },
      {
       "output_type": "stream",
       "stream": "stdout",
       "text": [
        "\n",
        "urllib(mine) sleeping to throttle requests"
       ]
      },
      {
       "output_type": "stream",
       "stream": "stdout",
       "text": [
        "\n",
        "urllib(mine) sleeping to throttle requests"
       ]
      },
      {
       "output_type": "stream",
       "stream": "stdout",
       "text": [
        "\n",
        "urllib(mine) sleeping to throttle requests"
       ]
      },
      {
       "output_type": "stream",
       "stream": "stdout",
       "text": [
        "\n",
        "urllib(mine) sleeping to throttle requests"
       ]
      },
      {
       "output_type": "stream",
       "stream": "stdout",
       "text": [
        "\n",
        "urllib(mine) sleeping to throttle requests"
       ]
      },
      {
       "output_type": "stream",
       "stream": "stdout",
       "text": [
        "\n",
        "urllib(mine) sleeping to throttle requests"
       ]
      },
      {
       "output_type": "stream",
       "stream": "stdout",
       "text": [
        "\n",
        "urllib(mine) sleeping to throttle requests"
       ]
      },
      {
       "output_type": "stream",
       "stream": "stdout",
       "text": [
        "\n",
        "urllib(mine) sleeping to throttle requests"
       ]
      },
      {
       "output_type": "stream",
       "stream": "stdout",
       "text": [
        "\n",
        "urllib(mine) sleeping to throttle requests"
       ]
      },
      {
       "output_type": "stream",
       "stream": "stdout",
       "text": [
        "\n",
        "urllib(mine) sleeping to throttle requests"
       ]
      },
      {
       "output_type": "stream",
       "stream": "stdout",
       "text": [
        "\n",
        "urllib(mine) sleeping to throttle requests"
       ]
      },
      {
       "output_type": "stream",
       "stream": "stdout",
       "text": [
        "\n",
        "urllib(mine) sleeping to throttle requests"
       ]
      },
      {
       "output_type": "stream",
       "stream": "stdout",
       "text": [
        "\n",
        "urllib(mine) sleeping to throttle requests"
       ]
      },
      {
       "output_type": "stream",
       "stream": "stdout",
       "text": [
        "\n",
        "urllib(mine) sleeping to throttle requests"
       ]
      },
      {
       "output_type": "stream",
       "stream": "stdout",
       "text": [
        "\n",
        "urllib(mine) sleeping to throttle requests"
       ]
      },
      {
       "output_type": "stream",
       "stream": "stdout",
       "text": [
        "\n",
        "urllib(mine) sleeping to throttle requests"
       ]
      },
      {
       "output_type": "stream",
       "stream": "stdout",
       "text": [
        "\n",
        "urllib(mine) sleeping to throttle requests"
       ]
      },
      {
       "output_type": "stream",
       "stream": "stdout",
       "text": [
        "\n",
        "urllib(mine) sleeping to throttle requests"
       ]
      },
      {
       "output_type": "stream",
       "stream": "stdout",
       "text": [
        "\n",
        "urllib(mine) sleeping to throttle requests"
       ]
      },
      {
       "output_type": "stream",
       "stream": "stdout",
       "text": [
        "\n",
        "urllib(mine) sleeping to throttle requests"
       ]
      },
      {
       "output_type": "stream",
       "stream": "stdout",
       "text": [
        "\n",
        "urllib(mine) sleeping to throttle requests"
       ]
      },
      {
       "output_type": "stream",
       "stream": "stdout",
       "text": [
        "\n",
        "urllib(mine) sleeping to throttle requests"
       ]
      },
      {
       "output_type": "stream",
       "stream": "stdout",
       "text": [
        "\n",
        "urllib(mine) sleeping to throttle requests"
       ]
      },
      {
       "output_type": "stream",
       "stream": "stdout",
       "text": [
        "\n",
        "urllib(mine) sleeping to throttle requests"
       ]
      },
      {
       "output_type": "stream",
       "stream": "stdout",
       "text": [
        "\n",
        "urllib(mine) sleeping to throttle requests"
       ]
      },
      {
       "output_type": "stream",
       "stream": "stdout",
       "text": [
        "\n",
        "urllib(mine) sleeping to throttle requests"
       ]
      },
      {
       "output_type": "stream",
       "stream": "stdout",
       "text": [
        "\n",
        "urllib(mine) sleeping to throttle requests"
       ]
      },
      {
       "output_type": "stream",
       "stream": "stdout",
       "text": [
        "\n",
        "urllib(mine) sleeping to throttle requests"
       ]
      },
      {
       "output_type": "stream",
       "stream": "stdout",
       "text": [
        "\n",
        "urllib(mine) sleeping to throttle requests"
       ]
      },
      {
       "output_type": "stream",
       "stream": "stdout",
       "text": [
        "\n",
        "urllib(mine) sleeping to throttle requests"
       ]
      },
      {
       "output_type": "stream",
       "stream": "stdout",
       "text": [
        "\n",
        "urllib(mine) sleeping to throttle requests"
       ]
      },
      {
       "output_type": "stream",
       "stream": "stdout",
       "text": [
        "\n",
        "urllib(mine) sleeping to throttle requests"
       ]
      },
      {
       "output_type": "stream",
       "stream": "stdout",
       "text": [
        "\n",
        "urllib(mine) sleeping to throttle requests"
       ]
      },
      {
       "output_type": "stream",
       "stream": "stdout",
       "text": [
        "\n",
        "urllib(mine) sleeping to throttle requests"
       ]
      },
      {
       "output_type": "stream",
       "stream": "stdout",
       "text": [
        "\n",
        "urllib(mine) sleeping to throttle requests"
       ]
      },
      {
       "output_type": "stream",
       "stream": "stdout",
       "text": [
        "\n",
        "urllib(mine) sleeping to throttle requests"
       ]
      },
      {
       "output_type": "stream",
       "stream": "stdout",
       "text": [
        "\n",
        "urllib(mine) sleeping to throttle requests"
       ]
      },
      {
       "output_type": "stream",
       "stream": "stdout",
       "text": [
        "\n",
        "urllib(mine) sleeping to throttle requests"
       ]
      },
      {
       "output_type": "stream",
       "stream": "stdout",
       "text": [
        "\n",
        "urllib(mine) sleeping to throttle requests"
       ]
      },
      {
       "output_type": "stream",
       "stream": "stdout",
       "text": [
        "\n",
        "urllib(mine) sleeping to throttle requests"
       ]
      },
      {
       "output_type": "stream",
       "stream": "stdout",
       "text": [
        "\n",
        "urllib(mine) sleeping to throttle requests"
       ]
      },
      {
       "output_type": "stream",
       "stream": "stdout",
       "text": [
        "\n",
        "urllib(mine) sleeping to throttle requests"
       ]
      },
      {
       "output_type": "stream",
       "stream": "stdout",
       "text": [
        "\n",
        "urllib(mine) sleeping to throttle requests"
       ]
      },
      {
       "output_type": "stream",
       "stream": "stdout",
       "text": [
        "\n",
        "urllib(mine) sleeping to throttle requests"
       ]
      },
      {
       "output_type": "stream",
       "stream": "stdout",
       "text": [
        "\n",
        "urllib(mine) sleeping to throttle requests"
       ]
      },
      {
       "output_type": "stream",
       "stream": "stdout",
       "text": [
        "\n",
        "urllib(mine) sleeping to throttle requests"
       ]
      },
      {
       "output_type": "stream",
       "stream": "stdout",
       "text": [
        "\n",
        "urllib(mine) sleeping to throttle requests"
       ]
      },
      {
       "output_type": "stream",
       "stream": "stdout",
       "text": [
        "\n",
        "urllib(mine) sleeping to throttle requests"
       ]
      },
      {
       "output_type": "stream",
       "stream": "stdout",
       "text": [
        "\n",
        "urllib(mine) sleeping to throttle requests"
       ]
      },
      {
       "output_type": "stream",
       "stream": "stdout",
       "text": [
        "\n",
        "urllib(mine) sleeping to throttle requests"
       ]
      },
      {
       "output_type": "stream",
       "stream": "stdout",
       "text": [
        "\n",
        "urllib(mine) sleeping to throttle requests"
       ]
      },
      {
       "output_type": "stream",
       "stream": "stdout",
       "text": [
        "\n",
        "urllib(mine) sleeping to throttle requests"
       ]
      },
      {
       "output_type": "stream",
       "stream": "stdout",
       "text": [
        "\n",
        "urllib(mine) sleeping to throttle requests"
       ]
      },
      {
       "output_type": "stream",
       "stream": "stdout",
       "text": [
        "\n",
        "urllib(mine) sleeping to throttle requests"
       ]
      },
      {
       "output_type": "stream",
       "stream": "stdout",
       "text": [
        "\n",
        "urllib(mine) sleeping to throttle requests"
       ]
      },
      {
       "output_type": "stream",
       "stream": "stdout",
       "text": [
        "\n",
        "urllib(mine) sleeping to throttle requests"
       ]
      },
      {
       "output_type": "stream",
       "stream": "stdout",
       "text": [
        "\n",
        "--------------------------------------"
       ]
      },
      {
       "output_type": "stream",
       "stream": "stdout",
       "text": [
        "\n",
        "Starting friend: Nt_VD7usOkFes4wx4H6MeA\n",
        "--------------------------------------\n",
        "urllib(mine) sleeping to throttle requests\n",
        "urllib(mine) sleeping to throttle requests"
       ]
      },
      {
       "output_type": "stream",
       "stream": "stdout",
       "text": [
        "\n",
        "urllib(mine) sleeping to throttle requests"
       ]
      },
      {
       "output_type": "stream",
       "stream": "stdout",
       "text": [
        "\n",
        "urllib(mine) sleeping to throttle requests"
       ]
      },
      {
       "output_type": "stream",
       "stream": "stdout",
       "text": [
        "\n",
        "urllib(mine) sleeping to throttle requests"
       ]
      },
      {
       "output_type": "stream",
       "stream": "stdout",
       "text": [
        "\n",
        "urllib(mine) sleeping to throttle requests"
       ]
      },
      {
       "output_type": "stream",
       "stream": "stdout",
       "text": [
        "\n",
        "urllib(mine) sleeping to throttle requests"
       ]
      },
      {
       "output_type": "stream",
       "stream": "stdout",
       "text": [
        "\n",
        "urllib(mine) sleeping to throttle requests"
       ]
      },
      {
       "output_type": "stream",
       "stream": "stdout",
       "text": [
        "\n",
        "urllib(mine) sleeping to throttle requests"
       ]
      },
      {
       "output_type": "stream",
       "stream": "stdout",
       "text": [
        "\n",
        "urllib(mine) sleeping to throttle requests"
       ]
      },
      {
       "output_type": "stream",
       "stream": "stdout",
       "text": [
        "\n",
        "urllib(mine) sleeping to throttle requests"
       ]
      },
      {
       "output_type": "stream",
       "stream": "stdout",
       "text": [
        "\n",
        "urllib(mine) sleeping to throttle requests"
       ]
      },
      {
       "output_type": "stream",
       "stream": "stdout",
       "text": [
        "\n",
        "urllib(mine) sleeping to throttle requests"
       ]
      },
      {
       "output_type": "stream",
       "stream": "stdout",
       "text": [
        "\n",
        "urllib(mine) sleeping to throttle requests"
       ]
      },
      {
       "output_type": "stream",
       "stream": "stdout",
       "text": [
        "\n",
        "urllib(mine) sleeping to throttle requests"
       ]
      },
      {
       "output_type": "stream",
       "stream": "stdout",
       "text": [
        "\n",
        "urllib(mine) sleeping to throttle requests"
       ]
      },
      {
       "output_type": "stream",
       "stream": "stdout",
       "text": [
        "\n",
        "urllib(mine) sleeping to throttle requests"
       ]
      },
      {
       "output_type": "stream",
       "stream": "stdout",
       "text": [
        "\n",
        "urllib(mine) sleeping to throttle requests"
       ]
      },
      {
       "output_type": "stream",
       "stream": "stdout",
       "text": [
        "\n",
        "urllib(mine) sleeping to throttle requests"
       ]
      },
      {
       "output_type": "stream",
       "stream": "stdout",
       "text": [
        "\n",
        "urllib(mine) sleeping to throttle requests"
       ]
      },
      {
       "output_type": "stream",
       "stream": "stdout",
       "text": [
        "\n",
        "urllib(mine) sleeping to throttle requests"
       ]
      },
      {
       "output_type": "stream",
       "stream": "stdout",
       "text": [
        "\n",
        "urllib(mine) sleeping to throttle requests"
       ]
      },
      {
       "output_type": "stream",
       "stream": "stdout",
       "text": [
        "\n",
        "urllib(mine) sleeping to throttle requests"
       ]
      },
      {
       "output_type": "stream",
       "stream": "stdout",
       "text": [
        "\n",
        "urllib(mine) sleeping to throttle requests"
       ]
      },
      {
       "output_type": "stream",
       "stream": "stdout",
       "text": [
        "\n",
        "--------------------------------------"
       ]
      },
      {
       "output_type": "stream",
       "stream": "stdout",
       "text": [
        "\n",
        "Starting friend: -lzhDCGh9gOVnDSRJmluFg\n",
        "--------------------------------------\n",
        "urllib(mine) sleeping to throttle requests\n",
        "urllib(mine) sleeping to throttle requests"
       ]
      },
      {
       "output_type": "stream",
       "stream": "stdout",
       "text": [
        "\n",
        "urllib(mine) sleeping to throttle requests"
       ]
      },
      {
       "output_type": "stream",
       "stream": "stdout",
       "text": [
        "\n",
        "urllib(mine) sleeping to throttle requests"
       ]
      },
      {
       "output_type": "stream",
       "stream": "stdout",
       "text": [
        "\n",
        "urllib(mine) sleeping to throttle requests"
       ]
      },
      {
       "output_type": "stream",
       "stream": "stdout",
       "text": [
        "\n",
        "urllib(mine) sleeping to throttle requests"
       ]
      },
      {
       "output_type": "stream",
       "stream": "stdout",
       "text": [
        "\n",
        "urllib(mine) sleeping to throttle requests"
       ]
      },
      {
       "output_type": "stream",
       "stream": "stdout",
       "text": [
        "\n",
        "urllib(mine) sleeping to throttle requests"
       ]
      },
      {
       "output_type": "stream",
       "stream": "stdout",
       "text": [
        "\n",
        "urllib(mine) sleeping to throttle requests"
       ]
      },
      {
       "output_type": "stream",
       "stream": "stdout",
       "text": [
        "\n",
        "urllib(mine) sleeping to throttle requests"
       ]
      },
      {
       "output_type": "stream",
       "stream": "stdout",
       "text": [
        "\n",
        "--------------------------------------"
       ]
      },
      {
       "output_type": "stream",
       "stream": "stdout",
       "text": [
        "\n",
        "Starting friend: FCJXk6f47VydkbTv4f1o0g\n",
        "--------------------------------------\n",
        "urllib(mine) sleeping to throttle requests\n",
        "urllib(mine) sleeping to throttle requests"
       ]
      },
      {
       "output_type": "stream",
       "stream": "stdout",
       "text": [
        "\n",
        "urllib(mine) sleeping to throttle requests"
       ]
      },
      {
       "output_type": "stream",
       "stream": "stdout",
       "text": [
        "\n",
        "urllib(mine) sleeping to throttle requests"
       ]
      },
      {
       "output_type": "stream",
       "stream": "stdout",
       "text": [
        "\n",
        "urllib(mine) sleeping to throttle requests"
       ]
      },
      {
       "output_type": "stream",
       "stream": "stdout",
       "text": [
        "\n",
        "urllib(mine) sleeping to throttle requests"
       ]
      },
      {
       "output_type": "stream",
       "stream": "stdout",
       "text": [
        "\n",
        "urllib(mine) sleeping to throttle requests"
       ]
      },
      {
       "output_type": "stream",
       "stream": "stdout",
       "text": [
        "\n",
        "urllib(mine) sleeping to throttle requests"
       ]
      },
      {
       "output_type": "stream",
       "stream": "stdout",
       "text": [
        "\n",
        "urllib(mine) sleeping to throttle requests"
       ]
      },
      {
       "output_type": "stream",
       "stream": "stdout",
       "text": [
        "\n",
        "--------------------------------------"
       ]
      },
      {
       "output_type": "stream",
       "stream": "stdout",
       "text": [
        "\n",
        "Starting friend: XdnNApaPzgJUeMgbPFFeEg\n",
        "--------------------------------------\n",
        "urllib(mine) sleeping to throttle requests\n",
        "urllib(mine) sleeping to throttle requests"
       ]
      },
      {
       "output_type": "stream",
       "stream": "stdout",
       "text": [
        "\n",
        "--------------------------------------"
       ]
      },
      {
       "output_type": "stream",
       "stream": "stdout",
       "text": [
        "\n",
        "Starting friend: DAU00kHbnDsyONWqYf6Eww\n",
        "--------------------------------------\n",
        "urllib(mine) sleeping to throttle requests\n",
        "urllib(mine) sleeping to throttle requests"
       ]
      },
      {
       "output_type": "stream",
       "stream": "stdout",
       "text": [
        "\n",
        "--------------------------------------"
       ]
      },
      {
       "output_type": "stream",
       "stream": "stdout",
       "text": [
        "\n",
        "Starting friend: TGosES-ZAB24el62Y4Wypw\n",
        "--------------------------------------\n",
        "urllib(mine) sleeping to throttle requests\n",
        "urllib(mine) sleeping to throttle requests"
       ]
      },
      {
       "output_type": "stream",
       "stream": "stdout",
       "text": [
        "\n",
        "urllib(mine) sleeping to throttle requests"
       ]
      },
      {
       "output_type": "stream",
       "stream": "stdout",
       "text": [
        "\n",
        "urllib(mine) sleeping to throttle requests"
       ]
      },
      {
       "output_type": "stream",
       "stream": "stdout",
       "text": [
        "\n",
        "urllib(mine) sleeping to throttle requests"
       ]
      },
      {
       "output_type": "stream",
       "stream": "stdout",
       "text": [
        "\n",
        "urllib(mine) sleeping to throttle requests"
       ]
      },
      {
       "output_type": "stream",
       "stream": "stdout",
       "text": [
        "\n",
        "urllib(mine) sleeping to throttle requests"
       ]
      },
      {
       "output_type": "stream",
       "stream": "stdout",
       "text": [
        "\n",
        "--------------------------------------"
       ]
      },
      {
       "output_type": "stream",
       "stream": "stdout",
       "text": [
        "\n",
        "Starting friend: M6UCfVw-gOFhmns6aXw2eA\n",
        "--------------------------------------\n",
        "urllib(mine) sleeping to throttle requests\n",
        "urllib(mine) sleeping to throttle requests"
       ]
      },
      {
       "output_type": "stream",
       "stream": "stdout",
       "text": [
        "\n",
        "urllib(mine) sleeping to throttle requests"
       ]
      },
      {
       "output_type": "stream",
       "stream": "stdout",
       "text": [
        "\n",
        "urllib(mine) sleeping to throttle requests"
       ]
      },
      {
       "output_type": "stream",
       "stream": "stdout",
       "text": [
        "\n",
        "urllib(mine) sleeping to throttle requests"
       ]
      },
      {
       "output_type": "stream",
       "stream": "stdout",
       "text": [
        "\n",
        "urllib(mine) sleeping to throttle requests"
       ]
      },
      {
       "output_type": "stream",
       "stream": "stdout",
       "text": [
        "\n",
        "urllib(mine) sleeping to throttle requests"
       ]
      },
      {
       "output_type": "stream",
       "stream": "stdout",
       "text": [
        "\n",
        "urllib(mine) sleeping to throttle requests"
       ]
      },
      {
       "output_type": "stream",
       "stream": "stdout",
       "text": [
        "\n",
        "urllib(mine) sleeping to throttle requests"
       ]
      },
      {
       "output_type": "stream",
       "stream": "stdout",
       "text": [
        "\n",
        "urllib(mine) sleeping to throttle requests"
       ]
      },
      {
       "output_type": "stream",
       "stream": "stdout",
       "text": [
        "\n",
        "urllib(mine) sleeping to throttle requests"
       ]
      },
      {
       "output_type": "stream",
       "stream": "stdout",
       "text": [
        "\n",
        "urllib(mine) sleeping to throttle requests"
       ]
      },
      {
       "output_type": "stream",
       "stream": "stdout",
       "text": [
        "\n",
        "urllib(mine) sleeping to throttle requests"
       ]
      },
      {
       "output_type": "stream",
       "stream": "stdout",
       "text": [
        "\n",
        "urllib(mine) sleeping to throttle requests"
       ]
      },
      {
       "output_type": "stream",
       "stream": "stdout",
       "text": [
        "\n",
        "urllib(mine) sleeping to throttle requests"
       ]
      },
      {
       "output_type": "stream",
       "stream": "stdout",
       "text": [
        "\n",
        "urllib(mine) sleeping to throttle requests"
       ]
      },
      {
       "output_type": "stream",
       "stream": "stdout",
       "text": [
        "\n",
        "urllib(mine) sleeping to throttle requests"
       ]
      },
      {
       "output_type": "stream",
       "stream": "stdout",
       "text": [
        "\n",
        "urllib(mine) sleeping to throttle requests"
       ]
      },
      {
       "output_type": "stream",
       "stream": "stdout",
       "text": [
        "\n",
        "urllib(mine) sleeping to throttle requests"
       ]
      },
      {
       "output_type": "stream",
       "stream": "stdout",
       "text": [
        "\n",
        "urllib(mine) sleeping to throttle requests"
       ]
      },
      {
       "output_type": "stream",
       "stream": "stdout",
       "text": [
        "\n",
        "--------------------------------------"
       ]
      },
      {
       "output_type": "stream",
       "stream": "stdout",
       "text": [
        "\n",
        "Starting friend: cvM2ZkEJWAfUXxai_WL6FA\n",
        "--------------------------------------\n",
        "urllib(mine) sleeping to throttle requests\n",
        "urllib(mine) sleeping to throttle requests"
       ]
      },
      {
       "output_type": "stream",
       "stream": "stdout",
       "text": [
        "\n",
        "urllib(mine) sleeping to throttle requests"
       ]
      },
      {
       "output_type": "stream",
       "stream": "stdout",
       "text": [
        "\n",
        "urllib(mine) sleeping to throttle requests"
       ]
      },
      {
       "output_type": "stream",
       "stream": "stdout",
       "text": [
        "\n",
        "urllib(mine) sleeping to throttle requests"
       ]
      },
      {
       "output_type": "stream",
       "stream": "stdout",
       "text": [
        "\n",
        "urllib(mine) sleeping to throttle requests"
       ]
      },
      {
       "output_type": "stream",
       "stream": "stdout",
       "text": [
        "\n",
        "urllib(mine) sleeping to throttle requests"
       ]
      },
      {
       "output_type": "stream",
       "stream": "stdout",
       "text": [
        "\n",
        "urllib(mine) sleeping to throttle requests"
       ]
      },
      {
       "output_type": "stream",
       "stream": "stdout",
       "text": [
        "\n",
        "urllib(mine) sleeping to throttle requests"
       ]
      },
      {
       "output_type": "stream",
       "stream": "stdout",
       "text": [
        "\n",
        "urllib(mine) sleeping to throttle requests"
       ]
      },
      {
       "output_type": "stream",
       "stream": "stdout",
       "text": [
        "\n",
        "urllib(mine) sleeping to throttle requests"
       ]
      },
      {
       "output_type": "stream",
       "stream": "stdout",
       "text": [
        "\n",
        "urllib(mine) sleeping to throttle requests"
       ]
      },
      {
       "output_type": "stream",
       "stream": "stdout",
       "text": [
        "\n",
        "urllib(mine) sleeping to throttle requests"
       ]
      },
      {
       "output_type": "stream",
       "stream": "stdout",
       "text": [
        "\n",
        "urllib(mine) sleeping to throttle requests"
       ]
      },
      {
       "output_type": "stream",
       "stream": "stdout",
       "text": [
        "\n",
        "urllib(mine) sleeping to throttle requests"
       ]
      },
      {
       "output_type": "stream",
       "stream": "stdout",
       "text": [
        "\n",
        "urllib(mine) sleeping to throttle requests"
       ]
      },
      {
       "output_type": "stream",
       "stream": "stdout",
       "text": [
        "\n",
        "urllib(mine) sleeping to throttle requests"
       ]
      },
      {
       "output_type": "stream",
       "stream": "stdout",
       "text": [
        "\n",
        "urllib(mine) sleeping to throttle requests"
       ]
      },
      {
       "output_type": "stream",
       "stream": "stdout",
       "text": [
        "\n",
        "urllib(mine) sleeping to throttle requests"
       ]
      },
      {
       "output_type": "stream",
       "stream": "stdout",
       "text": [
        "\n",
        "urllib(mine) sleeping to throttle requests"
       ]
      },
      {
       "output_type": "stream",
       "stream": "stdout",
       "text": [
        "\n",
        "urllib(mine) sleeping to throttle requests"
       ]
      },
      {
       "output_type": "stream",
       "stream": "stdout",
       "text": [
        "\n",
        "urllib(mine) sleeping to throttle requests"
       ]
      },
      {
       "output_type": "stream",
       "stream": "stdout",
       "text": [
        "\n",
        "urllib(mine) sleeping to throttle requests"
       ]
      },
      {
       "output_type": "stream",
       "stream": "stdout",
       "text": [
        "\n",
        "urllib(mine) sleeping to throttle requests"
       ]
      },
      {
       "output_type": "stream",
       "stream": "stdout",
       "text": [
        "\n",
        "urllib(mine) sleeping to throttle requests"
       ]
      },
      {
       "output_type": "stream",
       "stream": "stdout",
       "text": [
        "\n",
        "urllib(mine) sleeping to throttle requests"
       ]
      },
      {
       "output_type": "stream",
       "stream": "stdout",
       "text": [
        "\n",
        "urllib(mine) sleeping to throttle requests"
       ]
      },
      {
       "output_type": "stream",
       "stream": "stdout",
       "text": [
        "\n",
        "urllib(mine) sleeping to throttle requests"
       ]
      },
      {
       "output_type": "stream",
       "stream": "stdout",
       "text": [
        "\n",
        "urllib(mine) sleeping to throttle requests"
       ]
      },
      {
       "output_type": "stream",
       "stream": "stdout",
       "text": [
        "\n",
        "urllib(mine) sleeping to throttle requests"
       ]
      },
      {
       "output_type": "stream",
       "stream": "stdout",
       "text": [
        "\n",
        "urllib(mine) sleeping to throttle requests"
       ]
      },
      {
       "output_type": "stream",
       "stream": "stdout",
       "text": [
        "\n",
        "urllib(mine) sleeping to throttle requests"
       ]
      },
      {
       "output_type": "stream",
       "stream": "stdout",
       "text": [
        "\n",
        "urllib(mine) sleeping to throttle requests"
       ]
      },
      {
       "output_type": "stream",
       "stream": "stdout",
       "text": [
        "\n",
        "urllib(mine) sleeping to throttle requests"
       ]
      },
      {
       "output_type": "stream",
       "stream": "stdout",
       "text": [
        "\n",
        "urllib(mine) sleeping to throttle requests"
       ]
      },
      {
       "output_type": "stream",
       "stream": "stdout",
       "text": [
        "\n",
        "urllib(mine) sleeping to throttle requests"
       ]
      },
      {
       "output_type": "stream",
       "stream": "stdout",
       "text": [
        "\n",
        "urllib(mine) sleeping to throttle requests"
       ]
      },
      {
       "output_type": "stream",
       "stream": "stdout",
       "text": [
        "\n",
        "urllib(mine) sleeping to throttle requests"
       ]
      },
      {
       "output_type": "stream",
       "stream": "stdout",
       "text": [
        "\n",
        "urllib(mine) sleeping to throttle requests"
       ]
      },
      {
       "output_type": "stream",
       "stream": "stdout",
       "text": [
        "\n",
        "urllib(mine) sleeping to throttle requests"
       ]
      },
      {
       "output_type": "stream",
       "stream": "stdout",
       "text": [
        "\n",
        "urllib(mine) sleeping to throttle requests"
       ]
      },
      {
       "output_type": "stream",
       "stream": "stdout",
       "text": [
        "\n",
        "urllib(mine) sleeping to throttle requests"
       ]
      },
      {
       "output_type": "stream",
       "stream": "stdout",
       "text": [
        "\n",
        "urllib(mine) sleeping to throttle requests"
       ]
      },
      {
       "output_type": "stream",
       "stream": "stdout",
       "text": [
        "\n",
        "urllib(mine) sleeping to throttle requests"
       ]
      },
      {
       "output_type": "stream",
       "stream": "stdout",
       "text": [
        "\n",
        "urllib(mine) sleeping to throttle requests"
       ]
      },
      {
       "output_type": "stream",
       "stream": "stdout",
       "text": [
        "\n",
        "urllib(mine) sleeping to throttle requests"
       ]
      },
      {
       "output_type": "stream",
       "stream": "stdout",
       "text": [
        "\n",
        "urllib(mine) sleeping to throttle requests"
       ]
      },
      {
       "output_type": "stream",
       "stream": "stdout",
       "text": [
        "\n",
        "--------------------------------------"
       ]
      },
      {
       "output_type": "stream",
       "stream": "stdout",
       "text": [
        "\n",
        "Starting friend: 24RijidFe51bCsELKzWKDw\n",
        "--------------------------------------\n",
        "urllib(mine) sleeping to throttle requests\n",
        "--------------------------------------"
       ]
      },
      {
       "output_type": "stream",
       "stream": "stdout",
       "text": [
        "\n",
        "Starting friend: qwf6GXy7c8pL1uexssDRgQ\n",
        "--------------------------------------\n",
        "urllib(mine) sleeping to throttle requests\n",
        "urllib(mine) sleeping to throttle requests"
       ]
      },
      {
       "output_type": "stream",
       "stream": "stdout",
       "text": [
        "\n",
        "urllib(mine) sleeping to throttle requests"
       ]
      },
      {
       "output_type": "stream",
       "stream": "stdout",
       "text": [
        "\n",
        "--------------------------------------"
       ]
      },
      {
       "output_type": "stream",
       "stream": "stdout",
       "text": [
        "\n",
        "Starting friend: JzQQbc3XdzcWf58V1eUbhg\n",
        "--------------------------------------\n",
        "urllib(mine) sleeping to throttle requests\n",
        "urllib(mine) sleeping to throttle requests"
       ]
      },
      {
       "output_type": "stream",
       "stream": "stdout",
       "text": [
        "\n",
        "urllib(mine) sleeping to throttle requests"
       ]
      },
      {
       "output_type": "stream",
       "stream": "stdout",
       "text": [
        "\n",
        "urllib(mine) sleeping to throttle requests"
       ]
      },
      {
       "output_type": "stream",
       "stream": "stdout",
       "text": [
        "\n",
        "urllib(mine) sleeping to throttle requests"
       ]
      },
      {
       "output_type": "stream",
       "stream": "stdout",
       "text": [
        "\n",
        "urllib(mine) sleeping to throttle requests"
       ]
      },
      {
       "output_type": "stream",
       "stream": "stdout",
       "text": [
        "\n",
        "urllib(mine) sleeping to throttle requests"
       ]
      },
      {
       "output_type": "stream",
       "stream": "stdout",
       "text": [
        "\n",
        "--------------------------------------"
       ]
      },
      {
       "output_type": "stream",
       "stream": "stdout",
       "text": [
        "\n",
        "Starting friend: EIt66bYmFr_2kbs5qsL-0Q\n",
        "--------------------------------------\n",
        "urllib(mine) sleeping to throttle requests\n",
        "urllib(mine) sleeping to throttle requests"
       ]
      },
      {
       "output_type": "stream",
       "stream": "stdout",
       "text": [
        "\n",
        "urllib(mine) sleeping to throttle requests"
       ]
      },
      {
       "output_type": "stream",
       "stream": "stdout",
       "text": [
        "\n",
        "urllib(mine) sleeping to throttle requests"
       ]
      },
      {
       "output_type": "stream",
       "stream": "stdout",
       "text": [
        "\n",
        "urllib(mine) sleeping to throttle requests"
       ]
      },
      {
       "output_type": "stream",
       "stream": "stdout",
       "text": [
        "\n",
        "urllib(mine) sleeping to throttle requests"
       ]
      },
      {
       "output_type": "stream",
       "stream": "stdout",
       "text": [
        "\n",
        "urllib(mine) sleeping to throttle requests"
       ]
      },
      {
       "output_type": "stream",
       "stream": "stdout",
       "text": [
        "\n",
        "urllib(mine) sleeping to throttle requests"
       ]
      },
      {
       "output_type": "stream",
       "stream": "stdout",
       "text": [
        "\n",
        "urllib(mine) sleeping to throttle requests"
       ]
      },
      {
       "output_type": "stream",
       "stream": "stdout",
       "text": [
        "\n",
        "urllib(mine) sleeping to throttle requests"
       ]
      },
      {
       "output_type": "stream",
       "stream": "stdout",
       "text": [
        "\n",
        "urllib(mine) sleeping to throttle requests"
       ]
      },
      {
       "output_type": "stream",
       "stream": "stdout",
       "text": [
        "\n",
        "urllib(mine) sleeping to throttle requests"
       ]
      },
      {
       "output_type": "stream",
       "stream": "stdout",
       "text": [
        "\n",
        "urllib(mine) sleeping to throttle requests"
       ]
      },
      {
       "output_type": "stream",
       "stream": "stdout",
       "text": [
        "\n",
        "urllib(mine) sleeping to throttle requests"
       ]
      },
      {
       "output_type": "stream",
       "stream": "stdout",
       "text": [
        "\n",
        "urllib(mine) sleeping to throttle requests"
       ]
      },
      {
       "output_type": "stream",
       "stream": "stdout",
       "text": [
        "\n",
        "urllib(mine) sleeping to throttle requests"
       ]
      },
      {
       "output_type": "stream",
       "stream": "stdout",
       "text": [
        "\n",
        "urllib(mine) sleeping to throttle requests"
       ]
      },
      {
       "output_type": "stream",
       "stream": "stdout",
       "text": [
        "\n",
        "urllib(mine) sleeping to throttle requests"
       ]
      },
      {
       "output_type": "stream",
       "stream": "stdout",
       "text": [
        "\n",
        "urllib(mine) sleeping to throttle requests"
       ]
      },
      {
       "output_type": "stream",
       "stream": "stdout",
       "text": [
        "\n",
        "urllib(mine) sleeping to throttle requests"
       ]
      },
      {
       "output_type": "stream",
       "stream": "stdout",
       "text": [
        "\n",
        "urllib(mine) sleeping to throttle requests"
       ]
      },
      {
       "output_type": "stream",
       "stream": "stdout",
       "text": [
        "\n",
        "urllib(mine) sleeping to throttle requests"
       ]
      },
      {
       "output_type": "stream",
       "stream": "stdout",
       "text": [
        "\n",
        "urllib(mine) sleeping to throttle requests"
       ]
      },
      {
       "output_type": "stream",
       "stream": "stdout",
       "text": [
        "\n",
        "urllib(mine) sleeping to throttle requests"
       ]
      },
      {
       "output_type": "stream",
       "stream": "stdout",
       "text": [
        "\n",
        "urllib(mine) sleeping to throttle requests"
       ]
      },
      {
       "output_type": "stream",
       "stream": "stdout",
       "text": [
        "\n",
        "urllib(mine) sleeping to throttle requests"
       ]
      },
      {
       "output_type": "stream",
       "stream": "stdout",
       "text": [
        "\n",
        "urllib(mine) sleeping to throttle requests"
       ]
      },
      {
       "output_type": "stream",
       "stream": "stdout",
       "text": [
        "\n",
        "urllib(mine) sleeping to throttle requests"
       ]
      },
      {
       "output_type": "stream",
       "stream": "stdout",
       "text": [
        "\n",
        "urllib(mine) sleeping to throttle requests"
       ]
      },
      {
       "output_type": "stream",
       "stream": "stdout",
       "text": [
        "\n",
        "urllib(mine) sleeping to throttle requests"
       ]
      },
      {
       "output_type": "stream",
       "stream": "stdout",
       "text": [
        "\n",
        "urllib(mine) sleeping to throttle requests"
       ]
      },
      {
       "output_type": "stream",
       "stream": "stdout",
       "text": [
        "\n",
        "urllib(mine) sleeping to throttle requests"
       ]
      },
      {
       "output_type": "stream",
       "stream": "stdout",
       "text": [
        "\n",
        "urllib(mine) sleeping to throttle requests"
       ]
      },
      {
       "output_type": "stream",
       "stream": "stdout",
       "text": [
        "\n",
        "urllib(mine) sleeping to throttle requests"
       ]
      },
      {
       "output_type": "stream",
       "stream": "stdout",
       "text": [
        "\n",
        "urllib(mine) sleeping to throttle requests"
       ]
      },
      {
       "output_type": "stream",
       "stream": "stdout",
       "text": [
        "\n",
        "urllib(mine) sleeping to throttle requests"
       ]
      },
      {
       "output_type": "stream",
       "stream": "stdout",
       "text": [
        "\n",
        "urllib(mine) sleeping to throttle requests"
       ]
      },
      {
       "output_type": "stream",
       "stream": "stdout",
       "text": [
        "\n",
        "urllib(mine) sleeping to throttle requests"
       ]
      },
      {
       "output_type": "stream",
       "stream": "stdout",
       "text": [
        "\n",
        "urllib(mine) sleeping to throttle requests"
       ]
      },
      {
       "output_type": "stream",
       "stream": "stdout",
       "text": [
        "\n",
        "urllib(mine) sleeping to throttle requests"
       ]
      },
      {
       "output_type": "stream",
       "stream": "stdout",
       "text": [
        "\n",
        "urllib(mine) sleeping to throttle requests"
       ]
      },
      {
       "output_type": "stream",
       "stream": "stdout",
       "text": [
        "\n",
        "urllib(mine) sleeping to throttle requests"
       ]
      },
      {
       "output_type": "stream",
       "stream": "stdout",
       "text": [
        "\n",
        "urllib(mine) sleeping to throttle requests"
       ]
      },
      {
       "output_type": "stream",
       "stream": "stdout",
       "text": [
        "\n",
        "urllib(mine) sleeping to throttle requests"
       ]
      },
      {
       "output_type": "stream",
       "stream": "stdout",
       "text": [
        "\n",
        "--------------------------------------"
       ]
      },
      {
       "output_type": "stream",
       "stream": "stdout",
       "text": [
        "\n",
        "Starting friend: yRtajw-lGYoOXdOdfwV9hQ\n",
        "--------------------------------------\n",
        "urllib(mine) sleeping to throttle requests\n",
        "urllib(mine) sleeping to throttle requests"
       ]
      },
      {
       "output_type": "stream",
       "stream": "stdout",
       "text": [
        "\n",
        "urllib(mine) sleeping to throttle requests"
       ]
      },
      {
       "output_type": "stream",
       "stream": "stdout",
       "text": [
        "\n",
        "urllib(mine) sleeping to throttle requests"
       ]
      },
      {
       "output_type": "stream",
       "stream": "stdout",
       "text": [
        "\n",
        "urllib(mine) sleeping to throttle requests"
       ]
      },
      {
       "output_type": "stream",
       "stream": "stdout",
       "text": [
        "\n",
        "urllib(mine) sleeping to throttle requests"
       ]
      },
      {
       "output_type": "stream",
       "stream": "stdout",
       "text": [
        "\n",
        "urllib(mine) sleeping to throttle requests"
       ]
      },
      {
       "output_type": "stream",
       "stream": "stdout",
       "text": [
        "\n",
        "urllib(mine) sleeping to throttle requests"
       ]
      },
      {
       "output_type": "stream",
       "stream": "stdout",
       "text": [
        "\n",
        "urllib(mine) sleeping to throttle requests"
       ]
      },
      {
       "output_type": "stream",
       "stream": "stdout",
       "text": [
        "\n",
        "urllib(mine) sleeping to throttle requests"
       ]
      },
      {
       "output_type": "stream",
       "stream": "stdout",
       "text": [
        "\n",
        "urllib(mine) sleeping to throttle requests"
       ]
      },
      {
       "output_type": "stream",
       "stream": "stdout",
       "text": [
        "\n",
        "urllib(mine) sleeping to throttle requests"
       ]
      },
      {
       "output_type": "stream",
       "stream": "stdout",
       "text": [
        "\n",
        "urllib(mine) sleeping to throttle requests"
       ]
      },
      {
       "output_type": "stream",
       "stream": "stdout",
       "text": [
        "\n",
        "urllib(mine) sleeping to throttle requests"
       ]
      },
      {
       "output_type": "stream",
       "stream": "stdout",
       "text": [
        "\n",
        "urllib(mine) sleeping to throttle requests"
       ]
      },
      {
       "output_type": "stream",
       "stream": "stdout",
       "text": [
        "\n",
        "urllib(mine) sleeping to throttle requests"
       ]
      },
      {
       "output_type": "stream",
       "stream": "stdout",
       "text": [
        "\n",
        "urllib(mine) sleeping to throttle requests"
       ]
      },
      {
       "output_type": "stream",
       "stream": "stdout",
       "text": [
        "\n",
        "urllib(mine) sleeping to throttle requests"
       ]
      },
      {
       "output_type": "stream",
       "stream": "stdout",
       "text": [
        "\n",
        "urllib(mine) sleeping to throttle requests"
       ]
      },
      {
       "output_type": "stream",
       "stream": "stdout",
       "text": [
        "\n",
        "urllib(mine) sleeping to throttle requests"
       ]
      },
      {
       "output_type": "stream",
       "stream": "stdout",
       "text": [
        "\n",
        "--------------------------------------"
       ]
      },
      {
       "output_type": "stream",
       "stream": "stdout",
       "text": [
        "\n",
        "Starting friend: Af9xlgxv4db-AoiCw5W98A\n",
        "--------------------------------------\n",
        "urllib(mine) sleeping to throttle requests\n",
        "urllib(mine) sleeping to throttle requests"
       ]
      },
      {
       "output_type": "stream",
       "stream": "stdout",
       "text": [
        "\n",
        "--------------------------------------"
       ]
      },
      {
       "output_type": "stream",
       "stream": "stdout",
       "text": [
        "\n",
        "Starting friend: sBkm5dZgoZXBNb5W6YQj7Q\n",
        "--------------------------------------\n",
        "urllib(mine) sleeping to throttle requests\n",
        "urllib(mine) sleeping to throttle requests"
       ]
      },
      {
       "output_type": "stream",
       "stream": "stdout",
       "text": [
        "\n",
        "urllib(mine) sleeping to throttle requests"
       ]
      },
      {
       "output_type": "stream",
       "stream": "stdout",
       "text": [
        "\n",
        "urllib(mine) sleeping to throttle requests"
       ]
      },
      {
       "output_type": "stream",
       "stream": "stdout",
       "text": [
        "\n",
        "urllib(mine) sleeping to throttle requests"
       ]
      },
      {
       "output_type": "stream",
       "stream": "stdout",
       "text": [
        "\n",
        "urllib(mine) sleeping to throttle requests"
       ]
      },
      {
       "output_type": "stream",
       "stream": "stdout",
       "text": [
        "\n",
        "urllib(mine) sleeping to throttle requests"
       ]
      },
      {
       "output_type": "stream",
       "stream": "stdout",
       "text": [
        "\n",
        "urllib(mine) sleeping to throttle requests"
       ]
      },
      {
       "output_type": "stream",
       "stream": "stdout",
       "text": [
        "\n",
        "urllib(mine) sleeping to throttle requests"
       ]
      },
      {
       "output_type": "stream",
       "stream": "stdout",
       "text": [
        "\n",
        "urllib(mine) sleeping to throttle requests"
       ]
      },
      {
       "output_type": "stream",
       "stream": "stdout",
       "text": [
        "\n",
        "urllib(mine) sleeping to throttle requests"
       ]
      },
      {
       "output_type": "stream",
       "stream": "stdout",
       "text": [
        "\n",
        "urllib(mine) sleeping to throttle requests"
       ]
      },
      {
       "output_type": "stream",
       "stream": "stdout",
       "text": [
        "\n",
        "urllib(mine) sleeping to throttle requests"
       ]
      },
      {
       "output_type": "stream",
       "stream": "stdout",
       "text": [
        "\n",
        "urllib(mine) sleeping to throttle requests"
       ]
      },
      {
       "output_type": "stream",
       "stream": "stdout",
       "text": [
        "\n",
        "urllib(mine) sleeping to throttle requests"
       ]
      },
      {
       "output_type": "stream",
       "stream": "stdout",
       "text": [
        "\n",
        "urllib(mine) sleeping to throttle requests"
       ]
      },
      {
       "output_type": "stream",
       "stream": "stdout",
       "text": [
        "\n",
        "urllib(mine) sleeping to throttle requests"
       ]
      },
      {
       "output_type": "stream",
       "stream": "stdout",
       "text": [
        "\n",
        "urllib(mine) sleeping to throttle requests"
       ]
      },
      {
       "output_type": "stream",
       "stream": "stdout",
       "text": [
        "\n",
        "urllib(mine) sleeping to throttle requests"
       ]
      },
      {
       "output_type": "stream",
       "stream": "stdout",
       "text": [
        "\n",
        "urllib(mine) sleeping to throttle requests"
       ]
      },
      {
       "output_type": "stream",
       "stream": "stdout",
       "text": [
        "\n",
        "urllib(mine) sleeping to throttle requests"
       ]
      },
      {
       "output_type": "stream",
       "stream": "stdout",
       "text": [
        "\n",
        "urllib(mine) sleeping to throttle requests"
       ]
      },
      {
       "output_type": "stream",
       "stream": "stdout",
       "text": [
        "\n",
        "urllib(mine) sleeping to throttle requests"
       ]
      },
      {
       "output_type": "stream",
       "stream": "stdout",
       "text": [
        "\n",
        "urllib(mine) sleeping to throttle requests"
       ]
      },
      {
       "output_type": "stream",
       "stream": "stdout",
       "text": [
        "\n",
        "urllib(mine) sleeping to throttle requests"
       ]
      },
      {
       "output_type": "stream",
       "stream": "stdout",
       "text": [
        "\n",
        "urllib(mine) sleeping to throttle requests"
       ]
      },
      {
       "output_type": "stream",
       "stream": "stdout",
       "text": [
        "\n",
        "urllib(mine) sleeping to throttle requests"
       ]
      },
      {
       "output_type": "stream",
       "stream": "stdout",
       "text": [
        "\n",
        "urllib(mine) sleeping to throttle requests"
       ]
      },
      {
       "output_type": "stream",
       "stream": "stdout",
       "text": [
        "\n",
        "urllib(mine) sleeping to throttle requests"
       ]
      },
      {
       "output_type": "stream",
       "stream": "stdout",
       "text": [
        "\n",
        "--------------------------------------"
       ]
      },
      {
       "output_type": "stream",
       "stream": "stdout",
       "text": [
        "\n",
        "Starting friend: cMICirZm69WlJHyasuUPTg\n",
        "--------------------------------------\n",
        "urllib(mine) sleeping to throttle requests\n",
        "urllib(mine) sleeping to throttle requests"
       ]
      },
      {
       "output_type": "stream",
       "stream": "stdout",
       "text": [
        "\n",
        "urllib(mine) sleeping to throttle requests"
       ]
      },
      {
       "output_type": "stream",
       "stream": "stdout",
       "text": [
        "\n",
        "urllib(mine) sleeping to throttle requests"
       ]
      },
      {
       "output_type": "stream",
       "stream": "stdout",
       "text": [
        "\n",
        "urllib(mine) sleeping to throttle requests"
       ]
      },
      {
       "output_type": "stream",
       "stream": "stdout",
       "text": [
        "\n",
        "urllib(mine) sleeping to throttle requests"
       ]
      },
      {
       "output_type": "stream",
       "stream": "stdout",
       "text": [
        "\n",
        "urllib(mine) sleeping to throttle requests"
       ]
      },
      {
       "output_type": "stream",
       "stream": "stdout",
       "text": [
        "\n",
        "urllib(mine) sleeping to throttle requests"
       ]
      },
      {
       "output_type": "stream",
       "stream": "stdout",
       "text": [
        "\n",
        "urllib(mine) sleeping to throttle requests"
       ]
      },
      {
       "output_type": "stream",
       "stream": "stdout",
       "text": [
        "\n",
        "urllib(mine) sleeping to throttle requests"
       ]
      },
      {
       "output_type": "stream",
       "stream": "stdout",
       "text": [
        "\n",
        "urllib(mine) sleeping to throttle requests"
       ]
      },
      {
       "output_type": "stream",
       "stream": "stdout",
       "text": [
        "\n",
        "urllib(mine) sleeping to throttle requests"
       ]
      },
      {
       "output_type": "stream",
       "stream": "stdout",
       "text": [
        "\n",
        "urllib(mine) sleeping to throttle requests"
       ]
      },
      {
       "output_type": "stream",
       "stream": "stdout",
       "text": [
        "\n",
        "urllib(mine) sleeping to throttle requests"
       ]
      },
      {
       "output_type": "stream",
       "stream": "stdout",
       "text": [
        "\n",
        "urllib(mine) sleeping to throttle requests"
       ]
      },
      {
       "output_type": "stream",
       "stream": "stdout",
       "text": [
        "\n",
        "urllib(mine) sleeping to throttle requests"
       ]
      },
      {
       "output_type": "stream",
       "stream": "stdout",
       "text": [
        "\n",
        "urllib(mine) sleeping to throttle requests"
       ]
      },
      {
       "output_type": "stream",
       "stream": "stdout",
       "text": [
        "\n",
        "urllib(mine) sleeping to throttle requests"
       ]
      },
      {
       "output_type": "stream",
       "stream": "stdout",
       "text": [
        "\n",
        "urllib(mine) sleeping to throttle requests"
       ]
      },
      {
       "output_type": "stream",
       "stream": "stdout",
       "text": [
        "\n",
        "urllib(mine) sleeping to throttle requests"
       ]
      },
      {
       "output_type": "stream",
       "stream": "stdout",
       "text": [
        "\n",
        "urllib(mine) sleeping to throttle requests"
       ]
      },
      {
       "output_type": "stream",
       "stream": "stdout",
       "text": [
        "\n",
        "urllib(mine) sleeping to throttle requests"
       ]
      },
      {
       "output_type": "stream",
       "stream": "stdout",
       "text": [
        "\n",
        "urllib(mine) sleeping to throttle requests"
       ]
      },
      {
       "output_type": "stream",
       "stream": "stdout",
       "text": [
        "\n",
        "urllib(mine) sleeping to throttle requests"
       ]
      },
      {
       "output_type": "stream",
       "stream": "stdout",
       "text": [
        "\n",
        "urllib(mine) sleeping to throttle requests"
       ]
      },
      {
       "output_type": "stream",
       "stream": "stdout",
       "text": [
        "\n",
        "urllib(mine) sleeping to throttle requests"
       ]
      },
      {
       "output_type": "stream",
       "stream": "stdout",
       "text": [
        "\n",
        "--------------------------------------"
       ]
      },
      {
       "output_type": "stream",
       "stream": "stdout",
       "text": [
        "\n",
        "Starting friend: NBhYiKFF-_bY7c5sNMtt2Q\n",
        "--------------------------------------\n",
        "urllib(mine) sleeping to throttle requests\n",
        "urllib(mine) sleeping to throttle requests"
       ]
      },
      {
       "output_type": "stream",
       "stream": "stdout",
       "text": [
        "\n",
        "urllib(mine) sleeping to throttle requests"
       ]
      },
      {
       "output_type": "stream",
       "stream": "stdout",
       "text": [
        "\n",
        "urllib(mine) sleeping to throttle requests"
       ]
      },
      {
       "output_type": "stream",
       "stream": "stdout",
       "text": [
        "\n",
        "urllib(mine) sleeping to throttle requests"
       ]
      },
      {
       "output_type": "stream",
       "stream": "stdout",
       "text": [
        "\n",
        "urllib(mine) sleeping to throttle requests"
       ]
      },
      {
       "output_type": "stream",
       "stream": "stdout",
       "text": [
        "\n",
        "urllib(mine) sleeping to throttle requests"
       ]
      },
      {
       "output_type": "stream",
       "stream": "stdout",
       "text": [
        "\n",
        "urllib(mine) sleeping to throttle requests"
       ]
      },
      {
       "output_type": "stream",
       "stream": "stdout",
       "text": [
        "\n",
        "urllib(mine) sleeping to throttle requests"
       ]
      },
      {
       "output_type": "stream",
       "stream": "stdout",
       "text": [
        "\n",
        "urllib(mine) sleeping to throttle requests"
       ]
      },
      {
       "output_type": "stream",
       "stream": "stdout",
       "text": [
        "\n",
        "urllib(mine) sleeping to throttle requests"
       ]
      },
      {
       "output_type": "stream",
       "stream": "stdout",
       "text": [
        "\n",
        "urllib(mine) sleeping to throttle requests"
       ]
      },
      {
       "output_type": "stream",
       "stream": "stdout",
       "text": [
        "\n",
        "--------------------------------------"
       ]
      },
      {
       "output_type": "stream",
       "stream": "stdout",
       "text": [
        "\n",
        "Starting friend: G-Xn6tk3mnMdhScdT2aVgA\n",
        "--------------------------------------\n",
        "urllib(mine) sleeping to throttle requests\n",
        "--------------------------------------"
       ]
      },
      {
       "output_type": "stream",
       "stream": "stdout",
       "text": [
        "\n",
        "Starting friend: SxuZiSPXQ4p-ZZ04SwRa5g\n",
        "--------------------------------------\n",
        "urllib(mine) sleeping to throttle requests\n",
        "--------------------------------------"
       ]
      },
      {
       "output_type": "stream",
       "stream": "stdout",
       "text": [
        "\n",
        "Starting friend: szP1v136Re8bH4iFD450Ag\n",
        "--------------------------------------\n",
        "urllib(mine) sleeping to throttle requests\n",
        "--------------------------------------"
       ]
      },
      {
       "output_type": "stream",
       "stream": "stdout",
       "text": [
        "\n",
        "Starting friend: kwccvl60EVW6_jRqMO-EBA\n",
        "--------------------------------------\n",
        "urllib(mine) sleeping to throttle requests\n",
        "urllib(mine) sleeping to throttle requests"
       ]
      },
      {
       "output_type": "stream",
       "stream": "stdout",
       "text": [
        "\n",
        "urllib(mine) sleeping to throttle requests"
       ]
      },
      {
       "output_type": "stream",
       "stream": "stdout",
       "text": [
        "\n",
        "urllib(mine) sleeping to throttle requests"
       ]
      },
      {
       "output_type": "stream",
       "stream": "stdout",
       "text": [
        "\n",
        "urllib(mine) sleeping to throttle requests"
       ]
      },
      {
       "output_type": "stream",
       "stream": "stdout",
       "text": [
        "\n",
        "--------------------------------------"
       ]
      },
      {
       "output_type": "stream",
       "stream": "stdout",
       "text": [
        "\n",
        "Starting friend: UDAHf-q0Sy4fhTgXYPcbtQ\n",
        "--------------------------------------\n",
        "urllib(mine) sleeping to throttle requests\n",
        "urllib(mine) sleeping to throttle requests"
       ]
      },
      {
       "output_type": "stream",
       "stream": "stdout",
       "text": [
        "\n",
        "urllib(mine) sleeping to throttle requests"
       ]
      },
      {
       "output_type": "stream",
       "stream": "stdout",
       "text": [
        "\n",
        "--------------------------------------"
       ]
      },
      {
       "output_type": "stream",
       "stream": "stdout",
       "text": [
        "\n",
        "Starting friend: Xkm9u5ZueQ4KofvpIwUNTQ\n",
        "--------------------------------------\n",
        "urllib(mine) sleeping to throttle requests\n",
        "urllib(mine) sleeping to throttle requests"
       ]
      },
      {
       "output_type": "stream",
       "stream": "stdout",
       "text": [
        "\n",
        "--------------------------------------"
       ]
      },
      {
       "output_type": "stream",
       "stream": "stdout",
       "text": [
        "\n",
        "Starting friend: r7zUJCHE7xKDmxhvjg3Nug\n",
        "--------------------------------------\n",
        "urllib(mine) sleeping to throttle requests\n",
        "urllib(mine) sleeping to throttle requests"
       ]
      },
      {
       "output_type": "stream",
       "stream": "stdout",
       "text": [
        "\n",
        "urllib(mine) sleeping to throttle requests"
       ]
      },
      {
       "output_type": "stream",
       "stream": "stdout",
       "text": [
        "\n",
        "urllib(mine) sleeping to throttle requests"
       ]
      },
      {
       "output_type": "stream",
       "stream": "stdout",
       "text": [
        "\n",
        "urllib(mine) sleeping to throttle requests"
       ]
      },
      {
       "output_type": "stream",
       "stream": "stdout",
       "text": [
        "\n",
        "urllib(mine) sleeping to throttle requests"
       ]
      },
      {
       "output_type": "stream",
       "stream": "stdout",
       "text": [
        "\n",
        "urllib(mine) sleeping to throttle requests"
       ]
      },
      {
       "output_type": "stream",
       "stream": "stdout",
       "text": [
        "\n",
        "urllib(mine) sleeping to throttle requests"
       ]
      },
      {
       "output_type": "stream",
       "stream": "stdout",
       "text": [
        "\n",
        "urllib(mine) sleeping to throttle requests"
       ]
      },
      {
       "output_type": "stream",
       "stream": "stdout",
       "text": [
        "\n",
        "urllib(mine) sleeping to throttle requests"
       ]
      },
      {
       "output_type": "stream",
       "stream": "stdout",
       "text": [
        "\n",
        "urllib(mine) sleeping to throttle requests"
       ]
      },
      {
       "output_type": "stream",
       "stream": "stdout",
       "text": [
        "\n",
        "urllib(mine) sleeping to throttle requests"
       ]
      },
      {
       "output_type": "stream",
       "stream": "stdout",
       "text": [
        "\n",
        "urllib(mine) sleeping to throttle requests"
       ]
      },
      {
       "output_type": "stream",
       "stream": "stdout",
       "text": [
        "\n",
        "urllib(mine) sleeping to throttle requests"
       ]
      },
      {
       "output_type": "stream",
       "stream": "stdout",
       "text": [
        "\n",
        "urllib(mine) sleeping to throttle requests"
       ]
      },
      {
       "output_type": "stream",
       "stream": "stdout",
       "text": [
        "\n",
        "urllib(mine) sleeping to throttle requests"
       ]
      },
      {
       "output_type": "stream",
       "stream": "stdout",
       "text": [
        "\n",
        "urllib(mine) sleeping to throttle requests"
       ]
      },
      {
       "output_type": "stream",
       "stream": "stdout",
       "text": [
        "\n",
        "urllib(mine) sleeping to throttle requests"
       ]
      },
      {
       "output_type": "stream",
       "stream": "stdout",
       "text": [
        "\n",
        "urllib(mine) sleeping to throttle requests"
       ]
      },
      {
       "output_type": "stream",
       "stream": "stdout",
       "text": [
        "\n",
        "urllib(mine) sleeping to throttle requests"
       ]
      },
      {
       "output_type": "stream",
       "stream": "stdout",
       "text": [
        "\n",
        "urllib(mine) sleeping to throttle requests"
       ]
      },
      {
       "output_type": "stream",
       "stream": "stdout",
       "text": [
        "\n",
        "urllib(mine) sleeping to throttle requests"
       ]
      },
      {
       "output_type": "stream",
       "stream": "stdout",
       "text": [
        "\n",
        "urllib(mine) sleeping to throttle requests"
       ]
      },
      {
       "output_type": "stream",
       "stream": "stdout",
       "text": [
        "\n",
        "urllib(mine) sleeping to throttle requests"
       ]
      },
      {
       "output_type": "stream",
       "stream": "stdout",
       "text": [
        "\n",
        "--------------------------------------"
       ]
      },
      {
       "output_type": "stream",
       "stream": "stdout",
       "text": [
        "\n",
        "Starting friend: o2XzZQW7detPEusv1y84KA\n",
        "--------------------------------------\n",
        "urllib(mine) sleeping to throttle requests\n",
        "urllib(mine) sleeping to throttle requests"
       ]
      },
      {
       "output_type": "stream",
       "stream": "stdout",
       "text": [
        "\n",
        "urllib(mine) sleeping to throttle requests"
       ]
      },
      {
       "output_type": "stream",
       "stream": "stdout",
       "text": [
        "\n",
        "urllib(mine) sleeping to throttle requests"
       ]
      },
      {
       "output_type": "stream",
       "stream": "stdout",
       "text": [
        "\n",
        "urllib(mine) sleeping to throttle requests"
       ]
      },
      {
       "output_type": "stream",
       "stream": "stdout",
       "text": [
        "\n",
        "urllib(mine) sleeping to throttle requests"
       ]
      },
      {
       "output_type": "stream",
       "stream": "stdout",
       "text": [
        "\n",
        "urllib(mine) sleeping to throttle requests"
       ]
      },
      {
       "output_type": "stream",
       "stream": "stdout",
       "text": [
        "\n",
        "urllib(mine) sleeping to throttle requests"
       ]
      },
      {
       "output_type": "stream",
       "stream": "stdout",
       "text": [
        "\n",
        "urllib(mine) sleeping to throttle requests"
       ]
      },
      {
       "output_type": "stream",
       "stream": "stdout",
       "text": [
        "\n",
        "urllib(mine) sleeping to throttle requests"
       ]
      },
      {
       "output_type": "stream",
       "stream": "stdout",
       "text": [
        "\n",
        "urllib(mine) sleeping to throttle requests"
       ]
      },
      {
       "output_type": "stream",
       "stream": "stdout",
       "text": [
        "\n",
        "urllib(mine) sleeping to throttle requests"
       ]
      },
      {
       "output_type": "stream",
       "stream": "stdout",
       "text": [
        "\n",
        "urllib(mine) sleeping to throttle requests"
       ]
      },
      {
       "output_type": "stream",
       "stream": "stdout",
       "text": [
        "\n",
        "urllib(mine) sleeping to throttle requests"
       ]
      },
      {
       "output_type": "stream",
       "stream": "stdout",
       "text": [
        "\n",
        "urllib(mine) sleeping to throttle requests"
       ]
      },
      {
       "output_type": "stream",
       "stream": "stdout",
       "text": [
        "\n",
        "--------------------------------------"
       ]
      },
      {
       "output_type": "stream",
       "stream": "stdout",
       "text": [
        "\n",
        "Starting friend: iNz0RAGoq_MBbrl2pEZUcg\n",
        "--------------------------------------\n",
        "urllib(mine) sleeping to throttle requests\n",
        "urllib(mine) sleeping to throttle requests"
       ]
      },
      {
       "output_type": "stream",
       "stream": "stdout",
       "text": [
        "\n",
        "--------------------------------------"
       ]
      },
      {
       "output_type": "stream",
       "stream": "stdout",
       "text": [
        "\n",
        "Starting friend: ci7Q6NvXQ8UZrBHusVX18g\n",
        "--------------------------------------\n",
        "urllib(mine) sleeping to throttle requests\n",
        "urllib(mine) sleeping to throttle requests"
       ]
      },
      {
       "output_type": "stream",
       "stream": "stdout",
       "text": [
        "\n",
        "urllib(mine) sleeping to throttle requests"
       ]
      },
      {
       "output_type": "stream",
       "stream": "stdout",
       "text": [
        "\n",
        "urllib(mine) sleeping to throttle requests"
       ]
      },
      {
       "output_type": "stream",
       "stream": "stdout",
       "text": [
        "\n",
        "urllib(mine) sleeping to throttle requests"
       ]
      },
      {
       "output_type": "stream",
       "stream": "stdout",
       "text": [
        "\n",
        "urllib(mine) sleeping to throttle requests"
       ]
      },
      {
       "output_type": "stream",
       "stream": "stdout",
       "text": [
        "\n",
        "urllib(mine) sleeping to throttle requests"
       ]
      },
      {
       "output_type": "stream",
       "stream": "stdout",
       "text": [
        "\n",
        "urllib(mine) sleeping to throttle requests"
       ]
      },
      {
       "output_type": "stream",
       "stream": "stdout",
       "text": [
        "\n",
        "urllib(mine) sleeping to throttle requests"
       ]
      },
      {
       "output_type": "stream",
       "stream": "stdout",
       "text": [
        "\n",
        "urllib(mine) sleeping to throttle requests"
       ]
      },
      {
       "output_type": "stream",
       "stream": "stdout",
       "text": [
        "\n",
        "urllib(mine) sleeping to throttle requests"
       ]
      },
      {
       "output_type": "stream",
       "stream": "stdout",
       "text": [
        "\n",
        "urllib(mine) sleeping to throttle requests"
       ]
      },
      {
       "output_type": "stream",
       "stream": "stdout",
       "text": [
        "\n",
        "urllib(mine) sleeping to throttle requests"
       ]
      },
      {
       "output_type": "stream",
       "stream": "stdout",
       "text": [
        "\n",
        "urllib(mine) sleeping to throttle requests"
       ]
      },
      {
       "output_type": "stream",
       "stream": "stdout",
       "text": [
        "\n",
        "urllib(mine) sleeping to throttle requests"
       ]
      },
      {
       "output_type": "stream",
       "stream": "stdout",
       "text": [
        "\n",
        "urllib(mine) sleeping to throttle requests"
       ]
      },
      {
       "output_type": "stream",
       "stream": "stdout",
       "text": [
        "\n",
        "urllib(mine) sleeping to throttle requests"
       ]
      },
      {
       "output_type": "stream",
       "stream": "stdout",
       "text": [
        "\n",
        "urllib(mine) sleeping to throttle requests"
       ]
      },
      {
       "output_type": "stream",
       "stream": "stdout",
       "text": [
        "\n",
        "urllib(mine) sleeping to throttle requests"
       ]
      },
      {
       "output_type": "stream",
       "stream": "stdout",
       "text": [
        "\n",
        "urllib(mine) sleeping to throttle requests"
       ]
      },
      {
       "output_type": "stream",
       "stream": "stdout",
       "text": [
        "\n",
        "urllib(mine) sleeping to throttle requests"
       ]
      },
      {
       "output_type": "stream",
       "stream": "stdout",
       "text": [
        "\n",
        "urllib(mine) sleeping to throttle requests"
       ]
      },
      {
       "output_type": "stream",
       "stream": "stdout",
       "text": [
        "\n",
        "urllib(mine) sleeping to throttle requests"
       ]
      },
      {
       "output_type": "stream",
       "stream": "stdout",
       "text": [
        "\n",
        "urllib(mine) sleeping to throttle requests"
       ]
      },
      {
       "output_type": "stream",
       "stream": "stdout",
       "text": [
        "\n",
        "urllib(mine) sleeping to throttle requests"
       ]
      },
      {
       "output_type": "stream",
       "stream": "stdout",
       "text": [
        "\n",
        "urllib(mine) sleeping to throttle requests"
       ]
      },
      {
       "output_type": "stream",
       "stream": "stdout",
       "text": [
        "\n",
        "urllib(mine) sleeping to throttle requests"
       ]
      },
      {
       "output_type": "stream",
       "stream": "stdout",
       "text": [
        "\n",
        "urllib(mine) sleeping to throttle requests"
       ]
      },
      {
       "output_type": "stream",
       "stream": "stdout",
       "text": [
        "\n",
        "urllib(mine) sleeping to throttle requests"
       ]
      },
      {
       "output_type": "stream",
       "stream": "stdout",
       "text": [
        "\n",
        "urllib(mine) sleeping to throttle requests"
       ]
      },
      {
       "output_type": "stream",
       "stream": "stdout",
       "text": [
        "\n",
        "urllib(mine) sleeping to throttle requests"
       ]
      },
      {
       "output_type": "stream",
       "stream": "stdout",
       "text": [
        "\n",
        "urllib(mine) sleeping to throttle requests"
       ]
      },
      {
       "output_type": "stream",
       "stream": "stdout",
       "text": [
        "\n",
        "urllib(mine) sleeping to throttle requests"
       ]
      },
      {
       "output_type": "stream",
       "stream": "stdout",
       "text": [
        "\n",
        "urllib(mine) sleeping to throttle requests"
       ]
      },
      {
       "output_type": "stream",
       "stream": "stdout",
       "text": [
        "\n",
        "urllib(mine) sleeping to throttle requests"
       ]
      },
      {
       "output_type": "stream",
       "stream": "stdout",
       "text": [
        "\n",
        "urllib(mine) sleeping to throttle requests"
       ]
      },
      {
       "output_type": "stream",
       "stream": "stdout",
       "text": [
        "\n",
        "urllib(mine) sleeping to throttle requests"
       ]
      },
      {
       "output_type": "stream",
       "stream": "stdout",
       "text": [
        "\n",
        "urllib(mine) sleeping to throttle requests"
       ]
      },
      {
       "output_type": "stream",
       "stream": "stdout",
       "text": [
        "\n",
        "urllib(mine) sleeping to throttle requests"
       ]
      },
      {
       "output_type": "stream",
       "stream": "stdout",
       "text": [
        "\n",
        "urllib(mine) sleeping to throttle requests"
       ]
      },
      {
       "output_type": "stream",
       "stream": "stdout",
       "text": [
        "\n",
        "urllib(mine) sleeping to throttle requests"
       ]
      },
      {
       "output_type": "stream",
       "stream": "stdout",
       "text": [
        "\n",
        "urllib(mine) sleeping to throttle requests"
       ]
      },
      {
       "output_type": "stream",
       "stream": "stdout",
       "text": [
        "\n",
        "urllib(mine) sleeping to throttle requests"
       ]
      },
      {
       "output_type": "stream",
       "stream": "stdout",
       "text": [
        "\n",
        "urllib(mine) sleeping to throttle requests"
       ]
      },
      {
       "output_type": "stream",
       "stream": "stdout",
       "text": [
        "\n",
        "urllib(mine) sleeping to throttle requests"
       ]
      },
      {
       "output_type": "stream",
       "stream": "stdout",
       "text": [
        "\n",
        "urllib(mine) sleeping to throttle requests"
       ]
      },
      {
       "output_type": "stream",
       "stream": "stdout",
       "text": [
        "\n",
        "urllib(mine) sleeping to throttle requests"
       ]
      },
      {
       "output_type": "stream",
       "stream": "stdout",
       "text": [
        "\n",
        "urllib(mine) sleeping to throttle requests"
       ]
      },
      {
       "output_type": "stream",
       "stream": "stdout",
       "text": [
        "\n",
        "--------------------------------------"
       ]
      },
      {
       "output_type": "stream",
       "stream": "stdout",
       "text": [
        "\n",
        "Starting friend: 50UnuA5UQaZeRkzFnrxHFQ\n",
        "--------------------------------------\n",
        "urllib(mine) sleeping to throttle requests\n",
        "urllib(mine) sleeping to throttle requests"
       ]
      },
      {
       "output_type": "stream",
       "stream": "stdout",
       "text": [
        "\n",
        "urllib(mine) sleeping to throttle requests"
       ]
      },
      {
       "output_type": "stream",
       "stream": "stdout",
       "text": [
        "\n",
        "urllib(mine) sleeping to throttle requests"
       ]
      },
      {
       "output_type": "stream",
       "stream": "stdout",
       "text": [
        "\n",
        "--------------------------------------"
       ]
      },
      {
       "output_type": "stream",
       "stream": "stdout",
       "text": [
        "\n",
        "Starting friend: liVvAQVkImnQcoNvkl_OgA\n",
        "--------------------------------------\n",
        "urllib(mine) sleeping to throttle requests\n",
        "--------------------------------------"
       ]
      },
      {
       "output_type": "stream",
       "stream": "stdout",
       "text": [
        "\n",
        "Starting friend: ki5onDUVwlWAYZxz6ZH3lg\n",
        "--------------------------------------\n",
        "urllib(mine) sleeping to throttle requests\n",
        "--------------------------------------"
       ]
      },
      {
       "output_type": "stream",
       "stream": "stdout",
       "text": [
        "\n",
        "Starting friend: Li9yyXH5xft0X_i3IMONUg\n",
        "--------------------------------------\n",
        "urllib(mine) sleeping to throttle requests\n",
        "urllib(mine) sleeping to throttle requests"
       ]
      },
      {
       "output_type": "stream",
       "stream": "stdout",
       "text": [
        "\n",
        "urllib(mine) sleeping to throttle requests"
       ]
      },
      {
       "output_type": "stream",
       "stream": "stdout",
       "text": [
        "\n",
        "urllib(mine) sleeping to throttle requests"
       ]
      },
      {
       "output_type": "stream",
       "stream": "stdout",
       "text": [
        "\n",
        "urllib(mine) sleeping to throttle requests"
       ]
      },
      {
       "output_type": "stream",
       "stream": "stdout",
       "text": [
        "\n",
        "urllib(mine) sleeping to throttle requests"
       ]
      },
      {
       "output_type": "stream",
       "stream": "stdout",
       "text": [
        "\n",
        "urllib(mine) sleeping to throttle requests"
       ]
      },
      {
       "output_type": "stream",
       "stream": "stdout",
       "text": [
        "\n",
        "urllib(mine) sleeping to throttle requests"
       ]
      },
      {
       "output_type": "stream",
       "stream": "stdout",
       "text": [
        "\n",
        "urllib(mine) sleeping to throttle requests"
       ]
      },
      {
       "output_type": "stream",
       "stream": "stdout",
       "text": [
        "\n",
        "--------------------------------------"
       ]
      },
      {
       "output_type": "stream",
       "stream": "stdout",
       "text": [
        "\n",
        "Starting friend: 2bHSZhM0huV8LRh3YHaOSQ\n",
        "--------------------------------------\n",
        "urllib(mine) sleeping to throttle requests\n",
        "urllib(mine) sleeping to throttle requests"
       ]
      },
      {
       "output_type": "stream",
       "stream": "stdout",
       "text": [
        "\n",
        "urllib(mine) sleeping to throttle requests"
       ]
      },
      {
       "output_type": "stream",
       "stream": "stdout",
       "text": [
        "\n",
        "urllib(mine) sleeping to throttle requests"
       ]
      },
      {
       "output_type": "stream",
       "stream": "stdout",
       "text": [
        "\n",
        "urllib(mine) sleeping to throttle requests"
       ]
      },
      {
       "output_type": "stream",
       "stream": "stdout",
       "text": [
        "\n",
        "urllib(mine) sleeping to throttle requests"
       ]
      },
      {
       "output_type": "stream",
       "stream": "stdout",
       "text": [
        "\n",
        "urllib(mine) sleeping to throttle requests"
       ]
      },
      {
       "output_type": "stream",
       "stream": "stdout",
       "text": [
        "\n",
        "urllib(mine) sleeping to throttle requests"
       ]
      },
      {
       "output_type": "stream",
       "stream": "stdout",
       "text": [
        "\n",
        "urllib(mine) sleeping to throttle requests"
       ]
      },
      {
       "output_type": "stream",
       "stream": "stdout",
       "text": [
        "\n",
        "urllib(mine) sleeping to throttle requests"
       ]
      },
      {
       "output_type": "stream",
       "stream": "stdout",
       "text": [
        "\n",
        "urllib(mine) sleeping to throttle requests"
       ]
      },
      {
       "output_type": "stream",
       "stream": "stdout",
       "text": [
        "\n",
        "urllib(mine) sleeping to throttle requests"
       ]
      },
      {
       "output_type": "stream",
       "stream": "stdout",
       "text": [
        "\n",
        "urllib(mine) sleeping to throttle requests"
       ]
      },
      {
       "output_type": "stream",
       "stream": "stdout",
       "text": [
        "\n",
        "urllib(mine) sleeping to throttle requests"
       ]
      },
      {
       "output_type": "stream",
       "stream": "stdout",
       "text": [
        "\n",
        "urllib(mine) sleeping to throttle requests"
       ]
      },
      {
       "output_type": "stream",
       "stream": "stdout",
       "text": [
        "\n",
        "urllib(mine) sleeping to throttle requests"
       ]
      },
      {
       "output_type": "stream",
       "stream": "stdout",
       "text": [
        "\n",
        "urllib(mine) sleeping to throttle requests"
       ]
      },
      {
       "output_type": "stream",
       "stream": "stdout",
       "text": [
        "\n",
        "urllib(mine) sleeping to throttle requests"
       ]
      },
      {
       "output_type": "stream",
       "stream": "stdout",
       "text": [
        "\n",
        "urllib(mine) sleeping to throttle requests"
       ]
      },
      {
       "output_type": "stream",
       "stream": "stdout",
       "text": [
        "\n",
        "urllib(mine) sleeping to throttle requests"
       ]
      },
      {
       "output_type": "stream",
       "stream": "stdout",
       "text": [
        "\n",
        "urllib(mine) sleeping to throttle requests"
       ]
      },
      {
       "output_type": "stream",
       "stream": "stdout",
       "text": [
        "\n",
        "urllib(mine) sleeping to throttle requests"
       ]
      },
      {
       "output_type": "stream",
       "stream": "stdout",
       "text": [
        "\n",
        "urllib(mine) sleeping to throttle requests"
       ]
      },
      {
       "output_type": "stream",
       "stream": "stdout",
       "text": [
        "\n",
        "urllib(mine) sleeping to throttle requests"
       ]
      },
      {
       "output_type": "stream",
       "stream": "stdout",
       "text": [
        "\n",
        "urllib(mine) sleeping to throttle requests"
       ]
      },
      {
       "output_type": "stream",
       "stream": "stdout",
       "text": [
        "\n",
        "urllib(mine) sleeping to throttle requests"
       ]
      },
      {
       "output_type": "stream",
       "stream": "stdout",
       "text": [
        "\n",
        "urllib(mine) sleeping to throttle requests"
       ]
      },
      {
       "output_type": "stream",
       "stream": "stdout",
       "text": [
        "\n",
        "urllib(mine) sleeping to throttle requests"
       ]
      },
      {
       "output_type": "stream",
       "stream": "stdout",
       "text": [
        "\n",
        "urllib(mine) sleeping to throttle requests"
       ]
      },
      {
       "output_type": "stream",
       "stream": "stdout",
       "text": [
        "\n",
        "urllib(mine) sleeping to throttle requests"
       ]
      },
      {
       "output_type": "stream",
       "stream": "stdout",
       "text": [
        "\n",
        "urllib(mine) sleeping to throttle requests"
       ]
      },
      {
       "output_type": "stream",
       "stream": "stdout",
       "text": [
        "\n",
        "urllib(mine) sleeping to throttle requests"
       ]
      },
      {
       "output_type": "stream",
       "stream": "stdout",
       "text": [
        "\n",
        "urllib(mine) sleeping to throttle requests"
       ]
      },
      {
       "output_type": "stream",
       "stream": "stdout",
       "text": [
        "\n",
        "urllib(mine) sleeping to throttle requests"
       ]
      },
      {
       "output_type": "stream",
       "stream": "stdout",
       "text": [
        "\n",
        "urllib(mine) sleeping to throttle requests"
       ]
      },
      {
       "output_type": "stream",
       "stream": "stdout",
       "text": [
        "\n",
        "urllib(mine) sleeping to throttle requests"
       ]
      },
      {
       "output_type": "stream",
       "stream": "stdout",
       "text": [
        "\n",
        "urllib(mine) sleeping to throttle requests"
       ]
      },
      {
       "output_type": "stream",
       "stream": "stdout",
       "text": [
        "\n",
        "urllib(mine) sleeping to throttle requests"
       ]
      },
      {
       "output_type": "stream",
       "stream": "stdout",
       "text": [
        "\n",
        "urllib(mine) sleeping to throttle requests"
       ]
      },
      {
       "output_type": "stream",
       "stream": "stdout",
       "text": [
        "\n",
        "urllib(mine) sleeping to throttle requests"
       ]
      },
      {
       "output_type": "stream",
       "stream": "stdout",
       "text": [
        "\n",
        "urllib(mine) sleeping to throttle requests"
       ]
      },
      {
       "output_type": "stream",
       "stream": "stdout",
       "text": [
        "\n",
        "urllib(mine) sleeping to throttle requests"
       ]
      },
      {
       "output_type": "stream",
       "stream": "stdout",
       "text": [
        "\n",
        "urllib(mine) sleeping to throttle requests"
       ]
      },
      {
       "output_type": "stream",
       "stream": "stdout",
       "text": [
        "\n",
        "urllib(mine) sleeping to throttle requests"
       ]
      },
      {
       "output_type": "stream",
       "stream": "stdout",
       "text": [
        "\n",
        "urllib(mine) sleeping to throttle requests"
       ]
      },
      {
       "output_type": "stream",
       "stream": "stdout",
       "text": [
        "\n",
        "urllib(mine) sleeping to throttle requests"
       ]
      },
      {
       "output_type": "stream",
       "stream": "stdout",
       "text": [
        "\n",
        "urllib(mine) sleeping to throttle requests"
       ]
      },
      {
       "output_type": "stream",
       "stream": "stdout",
       "text": [
        "\n",
        "urllib(mine) sleeping to throttle requests"
       ]
      },
      {
       "output_type": "stream",
       "stream": "stdout",
       "text": [
        "\n",
        "urllib(mine) sleeping to throttle requests"
       ]
      },
      {
       "output_type": "stream",
       "stream": "stdout",
       "text": [
        "\n",
        "urllib(mine) sleeping to throttle requests"
       ]
      },
      {
       "output_type": "stream",
       "stream": "stdout",
       "text": [
        "\n",
        "urllib(mine) sleeping to throttle requests"
       ]
      },
      {
       "output_type": "stream",
       "stream": "stdout",
       "text": [
        "\n",
        "urllib(mine) sleeping to throttle requests"
       ]
      },
      {
       "output_type": "stream",
       "stream": "stdout",
       "text": [
        "\n",
        "urllib(mine) sleeping to throttle requests"
       ]
      },
      {
       "output_type": "stream",
       "stream": "stdout",
       "text": [
        "\n",
        "urllib(mine) sleeping to throttle requests"
       ]
      },
      {
       "output_type": "stream",
       "stream": "stdout",
       "text": [
        "\n",
        "urllib(mine) sleeping to throttle requests"
       ]
      },
      {
       "output_type": "stream",
       "stream": "stdout",
       "text": [
        "\n",
        "urllib(mine) sleeping to throttle requests"
       ]
      },
      {
       "output_type": "stream",
       "stream": "stdout",
       "text": [
        "\n",
        "urllib(mine) sleeping to throttle requests"
       ]
      },
      {
       "output_type": "stream",
       "stream": "stdout",
       "text": [
        "\n",
        "urllib(mine) sleeping to throttle requests"
       ]
      },
      {
       "output_type": "stream",
       "stream": "stdout",
       "text": [
        "\n",
        "urllib(mine) sleeping to throttle requests"
       ]
      },
      {
       "output_type": "stream",
       "stream": "stdout",
       "text": [
        "\n",
        "urllib(mine) sleeping to throttle requests"
       ]
      },
      {
       "output_type": "stream",
       "stream": "stdout",
       "text": [
        "\n",
        "urllib(mine) sleeping to throttle requests"
       ]
      },
      {
       "output_type": "stream",
       "stream": "stdout",
       "text": [
        "\n",
        "urllib(mine) sleeping to throttle requests"
       ]
      },
      {
       "output_type": "stream",
       "stream": "stdout",
       "text": [
        "\n",
        "urllib(mine) sleeping to throttle requests"
       ]
      },
      {
       "output_type": "stream",
       "stream": "stdout",
       "text": [
        "\n",
        "urllib(mine) sleeping to throttle requests"
       ]
      },
      {
       "output_type": "stream",
       "stream": "stdout",
       "text": [
        "\n",
        "urllib(mine) sleeping to throttle requests"
       ]
      },
      {
       "output_type": "stream",
       "stream": "stdout",
       "text": [
        "\n",
        "urllib(mine) sleeping to throttle requests"
       ]
      },
      {
       "output_type": "stream",
       "stream": "stdout",
       "text": [
        "\n",
        "urllib(mine) sleeping to throttle requests"
       ]
      },
      {
       "output_type": "stream",
       "stream": "stdout",
       "text": [
        "\n",
        "urllib(mine) sleeping to throttle requests"
       ]
      },
      {
       "output_type": "stream",
       "stream": "stdout",
       "text": [
        "\n",
        "urllib(mine) sleeping to throttle requests"
       ]
      },
      {
       "output_type": "stream",
       "stream": "stdout",
       "text": [
        "\n",
        "urllib(mine) sleeping to throttle requests"
       ]
      },
      {
       "output_type": "stream",
       "stream": "stdout",
       "text": [
        "\n",
        "urllib(mine) sleeping to throttle requests"
       ]
      },
      {
       "output_type": "stream",
       "stream": "stdout",
       "text": [
        "\n",
        "urllib(mine) sleeping to throttle requests"
       ]
      },
      {
       "output_type": "stream",
       "stream": "stdout",
       "text": [
        "\n",
        "urllib(mine) sleeping to throttle requests"
       ]
      },
      {
       "output_type": "stream",
       "stream": "stdout",
       "text": [
        "\n",
        "urllib(mine) sleeping to throttle requests"
       ]
      },
      {
       "output_type": "stream",
       "stream": "stdout",
       "text": [
        "\n",
        "urllib(mine) sleeping to throttle requests"
       ]
      },
      {
       "output_type": "stream",
       "stream": "stdout",
       "text": [
        "\n",
        "urllib(mine) sleeping to throttle requests"
       ]
      },
      {
       "output_type": "stream",
       "stream": "stdout",
       "text": [
        "\n",
        "urllib(mine) sleeping to throttle requests"
       ]
      },
      {
       "output_type": "stream",
       "stream": "stdout",
       "text": [
        "\n",
        "urllib(mine) sleeping to throttle requests"
       ]
      },
      {
       "output_type": "stream",
       "stream": "stdout",
       "text": [
        "\n",
        "urllib(mine) sleeping to throttle requests"
       ]
      },
      {
       "output_type": "stream",
       "stream": "stdout",
       "text": [
        "\n",
        "urllib(mine) sleeping to throttle requests"
       ]
      },
      {
       "output_type": "stream",
       "stream": "stdout",
       "text": [
        "\n",
        "urllib(mine) sleeping to throttle requests"
       ]
      },
      {
       "output_type": "stream",
       "stream": "stdout",
       "text": [
        "\n",
        "urllib(mine) sleeping to throttle requests"
       ]
      },
      {
       "output_type": "stream",
       "stream": "stdout",
       "text": [
        "\n",
        "urllib(mine) sleeping to throttle requests"
       ]
      },
      {
       "output_type": "stream",
       "stream": "stdout",
       "text": [
        "\n",
        "urllib(mine) sleeping to throttle requests"
       ]
      },
      {
       "output_type": "stream",
       "stream": "stdout",
       "text": [
        "\n",
        "urllib(mine) sleeping to throttle requests"
       ]
      },
      {
       "output_type": "stream",
       "stream": "stdout",
       "text": [
        "\n",
        "urllib(mine) sleeping to throttle requests"
       ]
      },
      {
       "output_type": "stream",
       "stream": "stdout",
       "text": [
        "\n",
        "urllib(mine) sleeping to throttle requests"
       ]
      },
      {
       "output_type": "stream",
       "stream": "stdout",
       "text": [
        "\n",
        "urllib(mine) sleeping to throttle requests"
       ]
      },
      {
       "output_type": "stream",
       "stream": "stdout",
       "text": [
        "\n",
        "urllib(mine) sleeping to throttle requests"
       ]
      },
      {
       "output_type": "stream",
       "stream": "stdout",
       "text": [
        "\n",
        "urllib(mine) sleeping to throttle requests"
       ]
      },
      {
       "output_type": "stream",
       "stream": "stdout",
       "text": [
        "\n",
        "urllib(mine) sleeping to throttle requests"
       ]
      },
      {
       "output_type": "stream",
       "stream": "stdout",
       "text": [
        "\n",
        "urllib(mine) sleeping to throttle requests"
       ]
      },
      {
       "output_type": "stream",
       "stream": "stdout",
       "text": [
        "\n",
        "urllib(mine) sleeping to throttle requests"
       ]
      },
      {
       "output_type": "stream",
       "stream": "stdout",
       "text": [
        "\n",
        "urllib(mine) sleeping to throttle requests"
       ]
      },
      {
       "output_type": "stream",
       "stream": "stdout",
       "text": [
        "\n",
        "urllib(mine) sleeping to throttle requests"
       ]
      },
      {
       "output_type": "stream",
       "stream": "stdout",
       "text": [
        "\n",
        "urllib(mine) sleeping to throttle requests"
       ]
      },
      {
       "output_type": "stream",
       "stream": "stdout",
       "text": [
        "\n",
        "urllib(mine) sleeping to throttle requests"
       ]
      },
      {
       "output_type": "stream",
       "stream": "stdout",
       "text": [
        "\n",
        "urllib(mine) sleeping to throttle requests"
       ]
      },
      {
       "output_type": "stream",
       "stream": "stdout",
       "text": [
        "\n",
        "urllib(mine) sleeping to throttle requests"
       ]
      },
      {
       "output_type": "stream",
       "stream": "stdout",
       "text": [
        "\n",
        "urllib(mine) sleeping to throttle requests"
       ]
      },
      {
       "output_type": "stream",
       "stream": "stdout",
       "text": [
        "\n",
        "urllib(mine) sleeping to throttle requests"
       ]
      },
      {
       "output_type": "stream",
       "stream": "stdout",
       "text": [
        "\n",
        "urllib(mine) sleeping to throttle requests"
       ]
      },
      {
       "output_type": "stream",
       "stream": "stdout",
       "text": [
        "\n",
        "urllib(mine) sleeping to throttle requests"
       ]
      },
      {
       "output_type": "stream",
       "stream": "stdout",
       "text": [
        "\n",
        "urllib(mine) sleeping to throttle requests"
       ]
      },
      {
       "output_type": "stream",
       "stream": "stdout",
       "text": [
        "\n",
        "urllib(mine) sleeping to throttle requests"
       ]
      },
      {
       "output_type": "stream",
       "stream": "stdout",
       "text": [
        "\n",
        "urllib(mine) sleeping to throttle requests"
       ]
      },
      {
       "output_type": "stream",
       "stream": "stdout",
       "text": [
        "\n",
        "urllib(mine) sleeping to throttle requests"
       ]
      },
      {
       "output_type": "stream",
       "stream": "stdout",
       "text": [
        "\n",
        "urllib(mine) sleeping to throttle requests"
       ]
      },
      {
       "output_type": "stream",
       "stream": "stdout",
       "text": [
        "\n",
        "urllib(mine) sleeping to throttle requests"
       ]
      },
      {
       "output_type": "stream",
       "stream": "stdout",
       "text": [
        "\n",
        "urllib(mine) sleeping to throttle requests"
       ]
      },
      {
       "output_type": "stream",
       "stream": "stdout",
       "text": [
        "\n",
        "urllib(mine) sleeping to throttle requests"
       ]
      },
      {
       "output_type": "stream",
       "stream": "stdout",
       "text": [
        "\n",
        "urllib(mine) sleeping to throttle requests"
       ]
      },
      {
       "output_type": "stream",
       "stream": "stdout",
       "text": [
        "\n",
        "urllib(mine) sleeping to throttle requests"
       ]
      },
      {
       "output_type": "stream",
       "stream": "stdout",
       "text": [
        "\n",
        "urllib(mine) sleeping to throttle requests"
       ]
      },
      {
       "output_type": "stream",
       "stream": "stdout",
       "text": [
        "\n",
        "urllib(mine) sleeping to throttle requests"
       ]
      },
      {
       "output_type": "stream",
       "stream": "stdout",
       "text": [
        "\n",
        "urllib(mine) sleeping to throttle requests"
       ]
      },
      {
       "output_type": "stream",
       "stream": "stdout",
       "text": [
        "\n",
        "urllib(mine) sleeping to throttle requests"
       ]
      },
      {
       "output_type": "stream",
       "stream": "stdout",
       "text": [
        "\n",
        "urllib(mine) sleeping to throttle requests"
       ]
      },
      {
       "output_type": "stream",
       "stream": "stdout",
       "text": [
        "\n",
        "urllib(mine) sleeping to throttle requests"
       ]
      },
      {
       "output_type": "stream",
       "stream": "stdout",
       "text": [
        "\n",
        "--------------------------------------"
       ]
      },
      {
       "output_type": "stream",
       "stream": "stdout",
       "text": [
        "\n",
        "Starting friend: mrfiTbhM1mni9ulslW1idA\n",
        "--------------------------------------\n",
        "urllib(mine) sleeping to throttle requests\n",
        "urllib(mine) sleeping to throttle requests"
       ]
      },
      {
       "output_type": "stream",
       "stream": "stdout",
       "text": [
        "\n",
        "urllib(mine) sleeping to throttle requests"
       ]
      },
      {
       "output_type": "stream",
       "stream": "stdout",
       "text": [
        "\n",
        "--------------------------------------"
       ]
      },
      {
       "output_type": "stream",
       "stream": "stdout",
       "text": [
        "\n",
        "Starting friend: a7Gve8KjkWC_1vPIEtOAKw\n",
        "--------------------------------------\n",
        "urllib(mine) sleeping to throttle requests\n",
        "urllib(mine) sleeping to throttle requests"
       ]
      },
      {
       "output_type": "stream",
       "stream": "stdout",
       "text": [
        "\n",
        "urllib(mine) sleeping to throttle requests"
       ]
      },
      {
       "output_type": "stream",
       "stream": "stdout",
       "text": [
        "\n",
        "urllib(mine) sleeping to throttle requests"
       ]
      },
      {
       "output_type": "stream",
       "stream": "stdout",
       "text": [
        "\n",
        "urllib(mine) sleeping to throttle requests"
       ]
      },
      {
       "output_type": "stream",
       "stream": "stdout",
       "text": [
        "\n",
        "urllib(mine) sleeping to throttle requests"
       ]
      },
      {
       "output_type": "stream",
       "stream": "stdout",
       "text": [
        "\n",
        "urllib(mine) sleeping to throttle requests"
       ]
      },
      {
       "output_type": "stream",
       "stream": "stdout",
       "text": [
        "\n",
        "urllib(mine) sleeping to throttle requests"
       ]
      },
      {
       "output_type": "stream",
       "stream": "stdout",
       "text": [
        "\n",
        "urllib(mine) sleeping to throttle requests"
       ]
      },
      {
       "output_type": "stream",
       "stream": "stdout",
       "text": [
        "\n",
        "urllib(mine) sleeping to throttle requests"
       ]
      },
      {
       "output_type": "stream",
       "stream": "stdout",
       "text": [
        "\n",
        "urllib(mine) sleeping to throttle requests"
       ]
      },
      {
       "output_type": "stream",
       "stream": "stdout",
       "text": [
        "\n",
        "urllib(mine) sleeping to throttle requests"
       ]
      },
      {
       "output_type": "stream",
       "stream": "stdout",
       "text": [
        "\n",
        "urllib(mine) sleeping to throttle requests"
       ]
      },
      {
       "output_type": "stream",
       "stream": "stdout",
       "text": [
        "\n",
        "urllib(mine) sleeping to throttle requests"
       ]
      },
      {
       "output_type": "stream",
       "stream": "stdout",
       "text": [
        "\n",
        "urllib(mine) sleeping to throttle requests"
       ]
      },
      {
       "output_type": "stream",
       "stream": "stdout",
       "text": [
        "\n",
        "urllib(mine) sleeping to throttle requests"
       ]
      },
      {
       "output_type": "stream",
       "stream": "stdout",
       "text": [
        "\n",
        "urllib(mine) sleeping to throttle requests"
       ]
      },
      {
       "output_type": "stream",
       "stream": "stdout",
       "text": [
        "\n",
        "urllib(mine) sleeping to throttle requests"
       ]
      },
      {
       "output_type": "stream",
       "stream": "stdout",
       "text": [
        "\n",
        "urllib(mine) sleeping to throttle requests"
       ]
      },
      {
       "output_type": "stream",
       "stream": "stdout",
       "text": [
        "\n",
        "urllib(mine) sleeping to throttle requests"
       ]
      },
      {
       "output_type": "stream",
       "stream": "stdout",
       "text": [
        "\n",
        "urllib(mine) sleeping to throttle requests"
       ]
      },
      {
       "output_type": "stream",
       "stream": "stdout",
       "text": [
        "\n",
        "urllib(mine) sleeping to throttle requests"
       ]
      },
      {
       "output_type": "stream",
       "stream": "stdout",
       "text": [
        "\n",
        "urllib(mine) sleeping to throttle requests"
       ]
      },
      {
       "output_type": "stream",
       "stream": "stdout",
       "text": [
        "\n",
        "urllib(mine) sleeping to throttle requests"
       ]
      },
      {
       "output_type": "stream",
       "stream": "stdout",
       "text": [
        "\n",
        "urllib(mine) sleeping to throttle requests"
       ]
      },
      {
       "output_type": "stream",
       "stream": "stdout",
       "text": [
        "\n",
        "urllib(mine) sleeping to throttle requests"
       ]
      },
      {
       "output_type": "stream",
       "stream": "stdout",
       "text": [
        "\n",
        "urllib(mine) sleeping to throttle requests"
       ]
      },
      {
       "output_type": "stream",
       "stream": "stdout",
       "text": [
        "\n",
        "urllib(mine) sleeping to throttle requests"
       ]
      },
      {
       "output_type": "stream",
       "stream": "stdout",
       "text": [
        "\n",
        "urllib(mine) sleeping to throttle requests"
       ]
      },
      {
       "output_type": "stream",
       "stream": "stdout",
       "text": [
        "\n",
        "urllib(mine) sleeping to throttle requests"
       ]
      },
      {
       "output_type": "stream",
       "stream": "stdout",
       "text": [
        "\n",
        "urllib(mine) sleeping to throttle requests"
       ]
      },
      {
       "output_type": "stream",
       "stream": "stdout",
       "text": [
        "\n",
        "urllib(mine) sleeping to throttle requests"
       ]
      },
      {
       "output_type": "stream",
       "stream": "stdout",
       "text": [
        "\n",
        "urllib(mine) sleeping to throttle requests"
       ]
      },
      {
       "output_type": "stream",
       "stream": "stdout",
       "text": [
        "\n",
        "urllib(mine) sleeping to throttle requests"
       ]
      },
      {
       "output_type": "stream",
       "stream": "stdout",
       "text": [
        "\n",
        "urllib(mine) sleeping to throttle requests"
       ]
      },
      {
       "output_type": "stream",
       "stream": "stdout",
       "text": [
        "\n",
        "--------------------------------------"
       ]
      },
      {
       "output_type": "stream",
       "stream": "stdout",
       "text": [
        "\n",
        "Starting friend: dSfbreMGKVI8QUL_pwjOfQ\n",
        "--------------------------------------\n",
        "urllib(mine) sleeping to throttle requests\n",
        "urllib(mine) sleeping to throttle requests"
       ]
      },
      {
       "output_type": "stream",
       "stream": "stdout",
       "text": [
        "\n",
        "urllib(mine) sleeping to throttle requests"
       ]
      },
      {
       "output_type": "stream",
       "stream": "stdout",
       "text": [
        "\n",
        "urllib(mine) sleeping to throttle requests"
       ]
      },
      {
       "output_type": "stream",
       "stream": "stdout",
       "text": [
        "\n",
        "urllib(mine) sleeping to throttle requests"
       ]
      },
      {
       "output_type": "stream",
       "stream": "stdout",
       "text": [
        "\n",
        "urllib(mine) sleeping to throttle requests"
       ]
      },
      {
       "output_type": "stream",
       "stream": "stdout",
       "text": [
        "\n",
        "urllib(mine) sleeping to throttle requests"
       ]
      },
      {
       "output_type": "stream",
       "stream": "stdout",
       "text": [
        "\n",
        "urllib(mine) sleeping to throttle requests"
       ]
      },
      {
       "output_type": "stream",
       "stream": "stdout",
       "text": [
        "\n",
        "urllib(mine) sleeping to throttle requests"
       ]
      },
      {
       "output_type": "stream",
       "stream": "stdout",
       "text": [
        "\n",
        "urllib(mine) sleeping to throttle requests"
       ]
      },
      {
       "output_type": "stream",
       "stream": "stdout",
       "text": [
        "\n",
        "urllib(mine) sleeping to throttle requests"
       ]
      },
      {
       "output_type": "stream",
       "stream": "stdout",
       "text": [
        "\n",
        "urllib(mine) sleeping to throttle requests"
       ]
      },
      {
       "output_type": "stream",
       "stream": "stdout",
       "text": [
        "\n",
        "urllib(mine) sleeping to throttle requests"
       ]
      },
      {
       "output_type": "stream",
       "stream": "stdout",
       "text": [
        "\n",
        "urllib(mine) sleeping to throttle requests"
       ]
      },
      {
       "output_type": "stream",
       "stream": "stdout",
       "text": [
        "\n",
        "urllib(mine) sleeping to throttle requests"
       ]
      },
      {
       "output_type": "stream",
       "stream": "stdout",
       "text": [
        "\n",
        "urllib(mine) sleeping to throttle requests"
       ]
      },
      {
       "output_type": "stream",
       "stream": "stdout",
       "text": [
        "\n",
        "urllib(mine) sleeping to throttle requests"
       ]
      },
      {
       "output_type": "stream",
       "stream": "stdout",
       "text": [
        "\n",
        "urllib(mine) sleeping to throttle requests"
       ]
      },
      {
       "output_type": "stream",
       "stream": "stdout",
       "text": [
        "\n",
        "urllib(mine) sleeping to throttle requests"
       ]
      },
      {
       "output_type": "stream",
       "stream": "stdout",
       "text": [
        "\n",
        "urllib(mine) sleeping to throttle requests"
       ]
      },
      {
       "output_type": "stream",
       "stream": "stdout",
       "text": [
        "\n",
        "urllib(mine) sleeping to throttle requests"
       ]
      },
      {
       "output_type": "stream",
       "stream": "stdout",
       "text": [
        "\n",
        "urllib(mine) sleeping to throttle requests"
       ]
      },
      {
       "output_type": "stream",
       "stream": "stdout",
       "text": [
        "\n",
        "urllib(mine) sleeping to throttle requests"
       ]
      },
      {
       "output_type": "stream",
       "stream": "stdout",
       "text": [
        "\n",
        "urllib(mine) sleeping to throttle requests"
       ]
      },
      {
       "output_type": "stream",
       "stream": "stdout",
       "text": [
        "\n",
        "urllib(mine) sleeping to throttle requests"
       ]
      },
      {
       "output_type": "stream",
       "stream": "stdout",
       "text": [
        "\n",
        "urllib(mine) sleeping to throttle requests"
       ]
      },
      {
       "output_type": "stream",
       "stream": "stdout",
       "text": [
        "\n",
        "urllib(mine) sleeping to throttle requests"
       ]
      },
      {
       "output_type": "stream",
       "stream": "stdout",
       "text": [
        "\n",
        "urllib(mine) sleeping to throttle requests"
       ]
      },
      {
       "output_type": "stream",
       "stream": "stdout",
       "text": [
        "\n",
        "urllib(mine) sleeping to throttle requests"
       ]
      },
      {
       "output_type": "stream",
       "stream": "stdout",
       "text": [
        "\n",
        "urllib(mine) sleeping to throttle requests"
       ]
      },
      {
       "output_type": "stream",
       "stream": "stdout",
       "text": [
        "\n",
        "urllib(mine) sleeping to throttle requests"
       ]
      },
      {
       "output_type": "stream",
       "stream": "stdout",
       "text": [
        "\n",
        "urllib(mine) sleeping to throttle requests"
       ]
      },
      {
       "output_type": "stream",
       "stream": "stdout",
       "text": [
        "\n",
        "urllib(mine) sleeping to throttle requests"
       ]
      },
      {
       "output_type": "stream",
       "stream": "stdout",
       "text": [
        "\n",
        "urllib(mine) sleeping to throttle requests"
       ]
      },
      {
       "output_type": "stream",
       "stream": "stdout",
       "text": [
        "\n",
        "urllib(mine) sleeping to throttle requests"
       ]
      },
      {
       "output_type": "stream",
       "stream": "stdout",
       "text": [
        "\n",
        "urllib(mine) sleeping to throttle requests"
       ]
      },
      {
       "output_type": "stream",
       "stream": "stdout",
       "text": [
        "\n",
        "urllib(mine) sleeping to throttle requests"
       ]
      },
      {
       "output_type": "stream",
       "stream": "stdout",
       "text": [
        "\n",
        "urllib(mine) sleeping to throttle requests"
       ]
      },
      {
       "output_type": "stream",
       "stream": "stdout",
       "text": [
        "\n",
        "urllib(mine) sleeping to throttle requests"
       ]
      },
      {
       "output_type": "stream",
       "stream": "stdout",
       "text": [
        "\n",
        "urllib(mine) sleeping to throttle requests"
       ]
      },
      {
       "output_type": "stream",
       "stream": "stdout",
       "text": [
        "\n",
        "urllib(mine) sleeping to throttle requests"
       ]
      },
      {
       "output_type": "stream",
       "stream": "stdout",
       "text": [
        "\n",
        "urllib(mine) sleeping to throttle requests"
       ]
      },
      {
       "output_type": "stream",
       "stream": "stdout",
       "text": [
        "\n",
        "urllib(mine) sleeping to throttle requests"
       ]
      },
      {
       "output_type": "stream",
       "stream": "stdout",
       "text": [
        "\n",
        "urllib(mine) sleeping to throttle requests"
       ]
      },
      {
       "output_type": "stream",
       "stream": "stdout",
       "text": [
        "\n",
        "urllib(mine) sleeping to throttle requests"
       ]
      },
      {
       "output_type": "stream",
       "stream": "stdout",
       "text": [
        "\n",
        "urllib(mine) sleeping to throttle requests"
       ]
      },
      {
       "output_type": "stream",
       "stream": "stdout",
       "text": [
        "\n",
        "urllib(mine) sleeping to throttle requests"
       ]
      },
      {
       "output_type": "stream",
       "stream": "stdout",
       "text": [
        "\n",
        "urllib(mine) sleeping to throttle requests"
       ]
      },
      {
       "output_type": "stream",
       "stream": "stdout",
       "text": [
        "\n",
        "urllib(mine) sleeping to throttle requests"
       ]
      },
      {
       "output_type": "stream",
       "stream": "stdout",
       "text": [
        "\n",
        "urllib(mine) sleeping to throttle requests"
       ]
      },
      {
       "output_type": "stream",
       "stream": "stdout",
       "text": [
        "\n",
        "urllib(mine) sleeping to throttle requests"
       ]
      },
      {
       "output_type": "stream",
       "stream": "stdout",
       "text": [
        "\n",
        "urllib(mine) sleeping to throttle requests"
       ]
      },
      {
       "output_type": "stream",
       "stream": "stdout",
       "text": [
        "\n",
        "urllib(mine) sleeping to throttle requests"
       ]
      },
      {
       "output_type": "stream",
       "stream": "stdout",
       "text": [
        "\n",
        "urllib(mine) sleeping to throttle requests"
       ]
      },
      {
       "output_type": "stream",
       "stream": "stdout",
       "text": [
        "\n",
        "urllib(mine) sleeping to throttle requests"
       ]
      },
      {
       "output_type": "stream",
       "stream": "stdout",
       "text": [
        "\n",
        "urllib(mine) sleeping to throttle requests"
       ]
      },
      {
       "output_type": "stream",
       "stream": "stdout",
       "text": [
        "\n",
        "urllib(mine) sleeping to throttle requests"
       ]
      },
      {
       "output_type": "stream",
       "stream": "stdout",
       "text": [
        "\n",
        "urllib(mine) sleeping to throttle requests"
       ]
      },
      {
       "output_type": "stream",
       "stream": "stdout",
       "text": [
        "\n",
        "urllib(mine) sleeping to throttle requests"
       ]
      },
      {
       "output_type": "stream",
       "stream": "stdout",
       "text": [
        "\n",
        "urllib(mine) sleeping to throttle requests"
       ]
      },
      {
       "output_type": "stream",
       "stream": "stdout",
       "text": [
        "\n",
        "urllib(mine) sleeping to throttle requests"
       ]
      },
      {
       "output_type": "stream",
       "stream": "stdout",
       "text": [
        "\n",
        "urllib(mine) sleeping to throttle requests"
       ]
      },
      {
       "output_type": "stream",
       "stream": "stdout",
       "text": [
        "\n",
        "urllib(mine) sleeping to throttle requests"
       ]
      },
      {
       "output_type": "stream",
       "stream": "stdout",
       "text": [
        "\n",
        "urllib(mine) sleeping to throttle requests"
       ]
      },
      {
       "output_type": "stream",
       "stream": "stdout",
       "text": [
        "\n",
        "urllib(mine) sleeping to throttle requests"
       ]
      },
      {
       "output_type": "stream",
       "stream": "stdout",
       "text": [
        "\n",
        "urllib(mine) sleeping to throttle requests"
       ]
      },
      {
       "output_type": "stream",
       "stream": "stdout",
       "text": [
        "\n",
        "urllib(mine) sleeping to throttle requests"
       ]
      },
      {
       "output_type": "stream",
       "stream": "stdout",
       "text": [
        "\n",
        "urllib(mine) sleeping to throttle requests"
       ]
      },
      {
       "output_type": "stream",
       "stream": "stdout",
       "text": [
        "\n",
        "urllib(mine) sleeping to throttle requests"
       ]
      },
      {
       "output_type": "stream",
       "stream": "stdout",
       "text": [
        "\n",
        "urllib(mine) sleeping to throttle requests"
       ]
      },
      {
       "output_type": "stream",
       "stream": "stdout",
       "text": [
        "\n",
        "urllib(mine) sleeping to throttle requests"
       ]
      },
      {
       "output_type": "stream",
       "stream": "stdout",
       "text": [
        "\n",
        "urllib(mine) sleeping to throttle requests"
       ]
      },
      {
       "output_type": "stream",
       "stream": "stdout",
       "text": [
        "\n",
        "urllib(mine) sleeping to throttle requests"
       ]
      },
      {
       "output_type": "stream",
       "stream": "stdout",
       "text": [
        "\n",
        "urllib(mine) sleeping to throttle requests"
       ]
      },
      {
       "output_type": "stream",
       "stream": "stdout",
       "text": [
        "\n",
        "urllib(mine) sleeping to throttle requests"
       ]
      },
      {
       "output_type": "stream",
       "stream": "stdout",
       "text": [
        "\n",
        "urllib(mine) sleeping to throttle requests"
       ]
      },
      {
       "output_type": "stream",
       "stream": "stdout",
       "text": [
        "\n",
        "urllib(mine) sleeping to throttle requests"
       ]
      },
      {
       "output_type": "stream",
       "stream": "stdout",
       "text": [
        "\n",
        "urllib(mine) sleeping to throttle requests"
       ]
      },
      {
       "output_type": "stream",
       "stream": "stdout",
       "text": [
        "\n",
        "urllib(mine) sleeping to throttle requests"
       ]
      },
      {
       "output_type": "stream",
       "stream": "stdout",
       "text": [
        "\n",
        "urllib(mine) sleeping to throttle requests"
       ]
      },
      {
       "output_type": "stream",
       "stream": "stdout",
       "text": [
        "\n",
        "urllib(mine) sleeping to throttle requests"
       ]
      },
      {
       "output_type": "stream",
       "stream": "stdout",
       "text": [
        "\n",
        "urllib(mine) sleeping to throttle requests"
       ]
      },
      {
       "output_type": "stream",
       "stream": "stdout",
       "text": [
        "\n",
        "urllib(mine) sleeping to throttle requests"
       ]
      },
      {
       "output_type": "stream",
       "stream": "stdout",
       "text": [
        "\n",
        "urllib(mine) sleeping to throttle requests"
       ]
      },
      {
       "output_type": "stream",
       "stream": "stdout",
       "text": [
        "\n",
        "urllib(mine) sleeping to throttle requests"
       ]
      },
      {
       "output_type": "stream",
       "stream": "stdout",
       "text": [
        "\n",
        "urllib(mine) sleeping to throttle requests"
       ]
      },
      {
       "output_type": "stream",
       "stream": "stdout",
       "text": [
        "\n",
        "urllib(mine) sleeping to throttle requests"
       ]
      },
      {
       "output_type": "stream",
       "stream": "stdout",
       "text": [
        "\n",
        "urllib(mine) sleeping to throttle requests"
       ]
      },
      {
       "output_type": "stream",
       "stream": "stdout",
       "text": [
        "\n",
        "urllib(mine) sleeping to throttle requests"
       ]
      },
      {
       "output_type": "stream",
       "stream": "stdout",
       "text": [
        "\n",
        "urllib(mine) sleeping to throttle requests"
       ]
      },
      {
       "output_type": "stream",
       "stream": "stdout",
       "text": [
        "\n",
        "urllib(mine) sleeping to throttle requests"
       ]
      },
      {
       "output_type": "stream",
       "stream": "stdout",
       "text": [
        "\n",
        "urllib(mine) sleeping to throttle requests"
       ]
      },
      {
       "output_type": "stream",
       "stream": "stdout",
       "text": [
        "\n",
        "--------------------------------------"
       ]
      },
      {
       "output_type": "stream",
       "stream": "stdout",
       "text": [
        "\n",
        "Starting friend: kFY6wHG_KEIdnUOpR7QZng\n",
        "--------------------------------------\n",
        "urllib(mine) sleeping to throttle requests\n",
        "--------------------------------------"
       ]
      },
      {
       "output_type": "stream",
       "stream": "stdout",
       "text": [
        "\n",
        "Starting friend: NxX0bZYROJGYWAvZhSdteg\n",
        "--------------------------------------\n",
        "urllib(mine) sleeping to throttle requests\n",
        "--------------------------------------"
       ]
      },
      {
       "output_type": "stream",
       "stream": "stdout",
       "text": [
        "\n",
        "Starting friend: VJNDHJBqNTib_PwSxbec0Q\n",
        "--------------------------------------\n",
        "urllib(mine) sleeping to throttle requests\n",
        "--------------------------------------"
       ]
      },
      {
       "output_type": "stream",
       "stream": "stdout",
       "text": [
        "\n",
        "Starting friend: KXVZqQdcVpa-ZaIdrDpQPQ\n",
        "--------------------------------------\n",
        "urllib(mine) sleeping to throttle requests\n",
        "urllib(mine) sleeping to throttle requests"
       ]
      },
      {
       "output_type": "stream",
       "stream": "stdout",
       "text": [
        "\n",
        "urllib(mine) sleeping to throttle requests"
       ]
      },
      {
       "output_type": "stream",
       "stream": "stdout",
       "text": [
        "\n",
        "urllib(mine) sleeping to throttle requests"
       ]
      },
      {
       "output_type": "stream",
       "stream": "stdout",
       "text": [
        "\n",
        "urllib(mine) sleeping to throttle requests"
       ]
      },
      {
       "output_type": "stream",
       "stream": "stdout",
       "text": [
        "\n",
        "urllib(mine) sleeping to throttle requests"
       ]
      },
      {
       "output_type": "stream",
       "stream": "stdout",
       "text": [
        "\n",
        "urllib(mine) sleeping to throttle requests"
       ]
      },
      {
       "output_type": "stream",
       "stream": "stdout",
       "text": [
        "\n",
        "urllib(mine) sleeping to throttle requests"
       ]
      },
      {
       "output_type": "stream",
       "stream": "stdout",
       "text": [
        "\n",
        "urllib(mine) sleeping to throttle requests"
       ]
      },
      {
       "output_type": "stream",
       "stream": "stdout",
       "text": [
        "\n",
        "urllib(mine) sleeping to throttle requests"
       ]
      },
      {
       "output_type": "stream",
       "stream": "stdout",
       "text": [
        "\n",
        "urllib(mine) sleeping to throttle requests"
       ]
      },
      {
       "output_type": "stream",
       "stream": "stdout",
       "text": [
        "\n",
        "urllib(mine) sleeping to throttle requests"
       ]
      },
      {
       "output_type": "stream",
       "stream": "stdout",
       "text": [
        "\n",
        "urllib(mine) sleeping to throttle requests"
       ]
      },
      {
       "output_type": "stream",
       "stream": "stdout",
       "text": [
        "\n",
        "urllib(mine) sleeping to throttle requests"
       ]
      },
      {
       "output_type": "stream",
       "stream": "stdout",
       "text": [
        "\n",
        "urllib(mine) sleeping to throttle requests"
       ]
      },
      {
       "output_type": "stream",
       "stream": "stdout",
       "text": [
        "\n",
        "urllib(mine) sleeping to throttle requests"
       ]
      },
      {
       "output_type": "stream",
       "stream": "stdout",
       "text": [
        "\n",
        "urllib(mine) sleeping to throttle requests"
       ]
      },
      {
       "output_type": "stream",
       "stream": "stdout",
       "text": [
        "\n",
        "urllib(mine) sleeping to throttle requests"
       ]
      },
      {
       "output_type": "stream",
       "stream": "stdout",
       "text": [
        "\n",
        "urllib(mine) sleeping to throttle requests"
       ]
      },
      {
       "output_type": "stream",
       "stream": "stdout",
       "text": [
        "\n",
        "urllib(mine) sleeping to throttle requests"
       ]
      },
      {
       "output_type": "stream",
       "stream": "stdout",
       "text": [
        "\n",
        "urllib(mine) sleeping to throttle requests"
       ]
      },
      {
       "output_type": "stream",
       "stream": "stdout",
       "text": [
        "\n",
        "urllib(mine) sleeping to throttle requests"
       ]
      },
      {
       "output_type": "stream",
       "stream": "stdout",
       "text": [
        "\n",
        "urllib(mine) sleeping to throttle requests"
       ]
      },
      {
       "output_type": "stream",
       "stream": "stdout",
       "text": [
        "\n",
        "urllib(mine) sleeping to throttle requests"
       ]
      },
      {
       "output_type": "stream",
       "stream": "stdout",
       "text": [
        "\n",
        "urllib(mine) sleeping to throttle requests"
       ]
      },
      {
       "output_type": "stream",
       "stream": "stdout",
       "text": [
        "\n",
        "urllib(mine) sleeping to throttle requests"
       ]
      },
      {
       "output_type": "stream",
       "stream": "stdout",
       "text": [
        "\n",
        "--------------------------------------"
       ]
      },
      {
       "output_type": "stream",
       "stream": "stdout",
       "text": [
        "\n",
        "Starting friend: H9bkAgGTVkcbvey3P6DXgQ\n",
        "--------------------------------------\n",
        "urllib(mine) sleeping to throttle requests\n",
        "urllib(mine) sleeping to throttle requests"
       ]
      },
      {
       "output_type": "stream",
       "stream": "stdout",
       "text": [
        "\n",
        "urllib(mine) sleeping to throttle requests"
       ]
      },
      {
       "output_type": "stream",
       "stream": "stdout",
       "text": [
        "\n",
        "urllib(mine) sleeping to throttle requests"
       ]
      },
      {
       "output_type": "stream",
       "stream": "stdout",
       "text": [
        "\n",
        "--------------------------------------"
       ]
      },
      {
       "output_type": "stream",
       "stream": "stdout",
       "text": [
        "\n",
        "Starting friend: 9kEi_TTQSIgP52D7bto7EA\n",
        "--------------------------------------\n",
        "urllib(mine) sleeping to throttle requests\n",
        "urllib(mine) sleeping to throttle requests"
       ]
      },
      {
       "output_type": "stream",
       "stream": "stdout",
       "text": [
        "\n",
        "urllib(mine) sleeping to throttle requests"
       ]
      },
      {
       "output_type": "stream",
       "stream": "stdout",
       "text": [
        "\n",
        "urllib(mine) sleeping to throttle requests"
       ]
      },
      {
       "output_type": "stream",
       "stream": "stdout",
       "text": [
        "\n",
        "urllib(mine) sleeping to throttle requests"
       ]
      },
      {
       "output_type": "stream",
       "stream": "stdout",
       "text": [
        "\n",
        "urllib(mine) sleeping to throttle requests"
       ]
      },
      {
       "output_type": "stream",
       "stream": "stdout",
       "text": [
        "\n",
        "urllib(mine) sleeping to throttle requests"
       ]
      },
      {
       "output_type": "stream",
       "stream": "stdout",
       "text": [
        "\n",
        "urllib(mine) sleeping to throttle requests"
       ]
      },
      {
       "output_type": "stream",
       "stream": "stdout",
       "text": [
        "\n",
        "urllib(mine) sleeping to throttle requests"
       ]
      },
      {
       "output_type": "stream",
       "stream": "stdout",
       "text": [
        "\n",
        "urllib(mine) sleeping to throttle requests"
       ]
      },
      {
       "output_type": "stream",
       "stream": "stdout",
       "text": [
        "\n",
        "urllib(mine) sleeping to throttle requests"
       ]
      },
      {
       "output_type": "stream",
       "stream": "stdout",
       "text": [
        "\n",
        "urllib(mine) sleeping to throttle requests"
       ]
      },
      {
       "output_type": "stream",
       "stream": "stdout",
       "text": [
        "\n",
        "urllib(mine) sleeping to throttle requests"
       ]
      },
      {
       "output_type": "stream",
       "stream": "stdout",
       "text": [
        "\n",
        "urllib(mine) sleeping to throttle requests"
       ]
      },
      {
       "output_type": "stream",
       "stream": "stdout",
       "text": [
        "\n",
        "urllib(mine) sleeping to throttle requests"
       ]
      },
      {
       "output_type": "stream",
       "stream": "stdout",
       "text": [
        "\n",
        "urllib(mine) sleeping to throttle requests"
       ]
      },
      {
       "output_type": "stream",
       "stream": "stdout",
       "text": [
        "\n",
        "urllib(mine) sleeping to throttle requests"
       ]
      },
      {
       "output_type": "stream",
       "stream": "stdout",
       "text": [
        "\n",
        "urllib(mine) sleeping to throttle requests"
       ]
      },
      {
       "output_type": "stream",
       "stream": "stdout",
       "text": [
        "\n",
        "urllib(mine) sleeping to throttle requests"
       ]
      },
      {
       "output_type": "stream",
       "stream": "stdout",
       "text": [
        "\n",
        "urllib(mine) sleeping to throttle requests"
       ]
      },
      {
       "output_type": "stream",
       "stream": "stdout",
       "text": [
        "\n",
        "urllib(mine) sleeping to throttle requests"
       ]
      },
      {
       "output_type": "stream",
       "stream": "stdout",
       "text": [
        "\n",
        "urllib(mine) sleeping to throttle requests"
       ]
      },
      {
       "output_type": "stream",
       "stream": "stdout",
       "text": [
        "\n",
        "urllib(mine) sleeping to throttle requests"
       ]
      },
      {
       "output_type": "stream",
       "stream": "stdout",
       "text": [
        "\n",
        "urllib(mine) sleeping to throttle requests"
       ]
      },
      {
       "output_type": "stream",
       "stream": "stdout",
       "text": [
        "\n",
        "urllib(mine) sleeping to throttle requests"
       ]
      },
      {
       "output_type": "stream",
       "stream": "stdout",
       "text": [
        "\n",
        "urllib(mine) sleeping to throttle requests"
       ]
      },
      {
       "output_type": "stream",
       "stream": "stdout",
       "text": [
        "\n",
        "urllib(mine) sleeping to throttle requests"
       ]
      },
      {
       "output_type": "stream",
       "stream": "stdout",
       "text": [
        "\n",
        "urllib(mine) sleeping to throttle requests"
       ]
      },
      {
       "output_type": "stream",
       "stream": "stdout",
       "text": [
        "\n",
        "urllib(mine) sleeping to throttle requests"
       ]
      },
      {
       "output_type": "stream",
       "stream": "stdout",
       "text": [
        "\n",
        "urllib(mine) sleeping to throttle requests"
       ]
      },
      {
       "output_type": "stream",
       "stream": "stdout",
       "text": [
        "\n",
        "urllib(mine) sleeping to throttle requests"
       ]
      },
      {
       "output_type": "stream",
       "stream": "stdout",
       "text": [
        "\n",
        "urllib(mine) sleeping to throttle requests"
       ]
      },
      {
       "output_type": "stream",
       "stream": "stdout",
       "text": [
        "\n",
        "urllib(mine) sleeping to throttle requests"
       ]
      },
      {
       "output_type": "stream",
       "stream": "stdout",
       "text": [
        "\n",
        "urllib(mine) sleeping to throttle requests"
       ]
      },
      {
       "output_type": "stream",
       "stream": "stdout",
       "text": [
        "\n",
        "urllib(mine) sleeping to throttle requests"
       ]
      },
      {
       "output_type": "stream",
       "stream": "stdout",
       "text": [
        "\n",
        "urllib(mine) sleeping to throttle requests"
       ]
      },
      {
       "output_type": "stream",
       "stream": "stdout",
       "text": [
        "\n",
        "urllib(mine) sleeping to throttle requests"
       ]
      },
      {
       "output_type": "stream",
       "stream": "stdout",
       "text": [
        "\n",
        "urllib(mine) sleeping to throttle requests"
       ]
      },
      {
       "output_type": "stream",
       "stream": "stdout",
       "text": [
        "\n",
        "urllib(mine) sleeping to throttle requests"
       ]
      },
      {
       "output_type": "stream",
       "stream": "stdout",
       "text": [
        "\n",
        "urllib(mine) sleeping to throttle requests"
       ]
      },
      {
       "output_type": "stream",
       "stream": "stdout",
       "text": [
        "\n",
        "urllib(mine) sleeping to throttle requests"
       ]
      },
      {
       "output_type": "stream",
       "stream": "stdout",
       "text": [
        "\n",
        "--------------------------------------"
       ]
      },
      {
       "output_type": "stream",
       "stream": "stdout",
       "text": [
        "\n",
        "Starting friend: sBaMvmMj9Yia30b4c8xyFQ\n",
        "--------------------------------------\n",
        "urllib(mine) sleeping to throttle requests\n",
        "--------------------------------------"
       ]
      },
      {
       "output_type": "stream",
       "stream": "stdout",
       "text": [
        "\n",
        "Starting friend: BFSvzNHCoHgGbgpGv4y1eA\n",
        "--------------------------------------\n",
        "urllib(mine) sleeping to throttle requests\n",
        "urllib(mine) sleeping to throttle requests"
       ]
      },
      {
       "output_type": "stream",
       "stream": "stdout",
       "text": [
        "\n",
        "urllib(mine) sleeping to throttle requests"
       ]
      },
      {
       "output_type": "stream",
       "stream": "stdout",
       "text": [
        "\n",
        "urllib(mine) sleeping to throttle requests"
       ]
      },
      {
       "output_type": "stream",
       "stream": "stdout",
       "text": [
        "\n",
        "--------------------------------------"
       ]
      },
      {
       "output_type": "stream",
       "stream": "stdout",
       "text": [
        "\n",
        "Starting friend: 9Gdifl4r1t6lHdEu4gzhiA\n",
        "--------------------------------------\n",
        "urllib(mine) sleeping to throttle requests\n",
        "urllib(mine) sleeping to throttle requests"
       ]
      },
      {
       "output_type": "stream",
       "stream": "stdout",
       "text": [
        "\n",
        "urllib(mine) sleeping to throttle requests"
       ]
      },
      {
       "output_type": "stream",
       "stream": "stdout",
       "text": [
        "\n",
        "urllib(mine) sleeping to throttle requests"
       ]
      },
      {
       "output_type": "stream",
       "stream": "stdout",
       "text": [
        "\n",
        "urllib(mine) sleeping to throttle requests"
       ]
      },
      {
       "output_type": "stream",
       "stream": "stdout",
       "text": [
        "\n",
        "urllib(mine) sleeping to throttle requests"
       ]
      },
      {
       "output_type": "stream",
       "stream": "stdout",
       "text": [
        "\n",
        "urllib(mine) sleeping to throttle requests"
       ]
      },
      {
       "output_type": "stream",
       "stream": "stdout",
       "text": [
        "\n",
        "urllib(mine) sleeping to throttle requests"
       ]
      },
      {
       "output_type": "stream",
       "stream": "stdout",
       "text": [
        "\n",
        "urllib(mine) sleeping to throttle requests"
       ]
      },
      {
       "output_type": "stream",
       "stream": "stdout",
       "text": [
        "\n",
        "urllib(mine) sleeping to throttle requests"
       ]
      },
      {
       "output_type": "stream",
       "stream": "stdout",
       "text": [
        "\n",
        "urllib(mine) sleeping to throttle requests"
       ]
      },
      {
       "output_type": "stream",
       "stream": "stdout",
       "text": [
        "\n",
        "urllib(mine) sleeping to throttle requests"
       ]
      },
      {
       "output_type": "stream",
       "stream": "stdout",
       "text": [
        "\n",
        "urllib(mine) sleeping to throttle requests"
       ]
      },
      {
       "output_type": "stream",
       "stream": "stdout",
       "text": [
        "\n",
        "urllib(mine) sleeping to throttle requests"
       ]
      },
      {
       "output_type": "stream",
       "stream": "stdout",
       "text": [
        "\n",
        "urllib(mine) sleeping to throttle requests"
       ]
      },
      {
       "output_type": "stream",
       "stream": "stdout",
       "text": [
        "\n",
        "urllib(mine) sleeping to throttle requests"
       ]
      },
      {
       "output_type": "stream",
       "stream": "stdout",
       "text": [
        "\n",
        "urllib(mine) sleeping to throttle requests"
       ]
      },
      {
       "output_type": "stream",
       "stream": "stdout",
       "text": [
        "\n",
        "urllib(mine) sleeping to throttle requests"
       ]
      },
      {
       "output_type": "stream",
       "stream": "stdout",
       "text": [
        "\n",
        "urllib(mine) sleeping to throttle requests"
       ]
      },
      {
       "output_type": "stream",
       "stream": "stdout",
       "text": [
        "\n",
        "urllib(mine) sleeping to throttle requests"
       ]
      },
      {
       "output_type": "stream",
       "stream": "stdout",
       "text": [
        "\n",
        "urllib(mine) sleeping to throttle requests"
       ]
      },
      {
       "output_type": "stream",
       "stream": "stdout",
       "text": [
        "\n",
        "urllib(mine) sleeping to throttle requests"
       ]
      },
      {
       "output_type": "stream",
       "stream": "stdout",
       "text": [
        "\n",
        "urllib(mine) sleeping to throttle requests"
       ]
      },
      {
       "output_type": "stream",
       "stream": "stdout",
       "text": [
        "\n",
        "urllib(mine) sleeping to throttle requests"
       ]
      },
      {
       "output_type": "stream",
       "stream": "stdout",
       "text": [
        "\n",
        "urllib(mine) sleeping to throttle requests"
       ]
      },
      {
       "output_type": "stream",
       "stream": "stdout",
       "text": [
        "\n",
        "urllib(mine) sleeping to throttle requests"
       ]
      },
      {
       "output_type": "stream",
       "stream": "stdout",
       "text": [
        "\n",
        "urllib(mine) sleeping to throttle requests"
       ]
      },
      {
       "output_type": "stream",
       "stream": "stdout",
       "text": [
        "\n",
        "urllib(mine) sleeping to throttle requests"
       ]
      },
      {
       "output_type": "stream",
       "stream": "stdout",
       "text": [
        "\n",
        "urllib(mine) sleeping to throttle requests"
       ]
      },
      {
       "output_type": "stream",
       "stream": "stdout",
       "text": [
        "\n",
        "urllib(mine) sleeping to throttle requests"
       ]
      },
      {
       "output_type": "stream",
       "stream": "stdout",
       "text": [
        "\n",
        "urllib(mine) sleeping to throttle requests"
       ]
      },
      {
       "output_type": "stream",
       "stream": "stdout",
       "text": [
        "\n",
        "urllib(mine) sleeping to throttle requests"
       ]
      },
      {
       "output_type": "stream",
       "stream": "stdout",
       "text": [
        "\n",
        "urllib(mine) sleeping to throttle requests"
       ]
      },
      {
       "output_type": "stream",
       "stream": "stdout",
       "text": [
        "\n",
        "urllib(mine) sleeping to throttle requests"
       ]
      },
      {
       "output_type": "stream",
       "stream": "stdout",
       "text": [
        "\n",
        "urllib(mine) sleeping to throttle requests"
       ]
      },
      {
       "output_type": "stream",
       "stream": "stdout",
       "text": [
        "\n",
        "urllib(mine) sleeping to throttle requests"
       ]
      },
      {
       "output_type": "stream",
       "stream": "stdout",
       "text": [
        "\n",
        "urllib(mine) sleeping to throttle requests"
       ]
      },
      {
       "output_type": "stream",
       "stream": "stdout",
       "text": [
        "\n",
        "urllib(mine) sleeping to throttle requests"
       ]
      },
      {
       "output_type": "stream",
       "stream": "stdout",
       "text": [
        "\n",
        "urllib(mine) sleeping to throttle requests"
       ]
      },
      {
       "output_type": "stream",
       "stream": "stdout",
       "text": [
        "\n",
        "urllib(mine) sleeping to throttle requests"
       ]
      },
      {
       "output_type": "stream",
       "stream": "stdout",
       "text": [
        "\n",
        "urllib(mine) sleeping to throttle requests"
       ]
      },
      {
       "output_type": "stream",
       "stream": "stdout",
       "text": [
        "\n",
        "urllib(mine) sleeping to throttle requests"
       ]
      },
      {
       "output_type": "stream",
       "stream": "stdout",
       "text": [
        "\n",
        "urllib(mine) sleeping to throttle requests"
       ]
      },
      {
       "output_type": "stream",
       "stream": "stdout",
       "text": [
        "\n",
        "urllib(mine) sleeping to throttle requests"
       ]
      },
      {
       "output_type": "stream",
       "stream": "stdout",
       "text": [
        "\n",
        "urllib(mine) sleeping to throttle requests"
       ]
      },
      {
       "output_type": "stream",
       "stream": "stdout",
       "text": [
        "\n",
        "urllib(mine) sleeping to throttle requests"
       ]
      },
      {
       "output_type": "stream",
       "stream": "stdout",
       "text": [
        "\n",
        "urllib(mine) sleeping to throttle requests"
       ]
      },
      {
       "output_type": "stream",
       "stream": "stdout",
       "text": [
        "\n",
        "urllib(mine) sleeping to throttle requests"
       ]
      },
      {
       "output_type": "stream",
       "stream": "stdout",
       "text": [
        "\n",
        "urllib(mine) sleeping to throttle requests"
       ]
      },
      {
       "output_type": "stream",
       "stream": "stdout",
       "text": [
        "\n",
        "urllib(mine) sleeping to throttle requests"
       ]
      },
      {
       "output_type": "stream",
       "stream": "stdout",
       "text": [
        "\n",
        "urllib(mine) sleeping to throttle requests"
       ]
      },
      {
       "output_type": "stream",
       "stream": "stdout",
       "text": [
        "\n",
        "urllib(mine) sleeping to throttle requests"
       ]
      },
      {
       "output_type": "stream",
       "stream": "stdout",
       "text": [
        "\n",
        "urllib(mine) sleeping to throttle requests"
       ]
      },
      {
       "output_type": "stream",
       "stream": "stdout",
       "text": [
        "\n",
        "urllib(mine) sleeping to throttle requests"
       ]
      },
      {
       "output_type": "stream",
       "stream": "stdout",
       "text": [
        "\n",
        "urllib(mine) sleeping to throttle requests"
       ]
      },
      {
       "output_type": "stream",
       "stream": "stdout",
       "text": [
        "\n",
        "urllib(mine) sleeping to throttle requests"
       ]
      },
      {
       "output_type": "stream",
       "stream": "stdout",
       "text": [
        "\n",
        "urllib(mine) sleeping to throttle requests"
       ]
      },
      {
       "output_type": "stream",
       "stream": "stdout",
       "text": [
        "\n",
        "urllib(mine) sleeping to throttle requests"
       ]
      },
      {
       "output_type": "stream",
       "stream": "stdout",
       "text": [
        "\n",
        "urllib(mine) sleeping to throttle requests"
       ]
      },
      {
       "output_type": "stream",
       "stream": "stdout",
       "text": [
        "\n",
        "urllib(mine) sleeping to throttle requests"
       ]
      },
      {
       "output_type": "stream",
       "stream": "stdout",
       "text": [
        "\n",
        "urllib(mine) sleeping to throttle requests"
       ]
      },
      {
       "output_type": "stream",
       "stream": "stdout",
       "text": [
        "\n",
        "urllib(mine) sleeping to throttle requests"
       ]
      },
      {
       "output_type": "stream",
       "stream": "stdout",
       "text": [
        "\n",
        "urllib(mine) sleeping to throttle requests"
       ]
      },
      {
       "output_type": "stream",
       "stream": "stdout",
       "text": [
        "\n",
        "urllib(mine) sleeping to throttle requests"
       ]
      },
      {
       "output_type": "stream",
       "stream": "stdout",
       "text": [
        "\n",
        "urllib(mine) sleeping to throttle requests"
       ]
      },
      {
       "output_type": "stream",
       "stream": "stdout",
       "text": [
        "\n",
        "urllib(mine) sleeping to throttle requests"
       ]
      },
      {
       "output_type": "stream",
       "stream": "stdout",
       "text": [
        "\n",
        "urllib(mine) sleeping to throttle requests"
       ]
      },
      {
       "output_type": "stream",
       "stream": "stdout",
       "text": [
        "\n",
        "urllib(mine) sleeping to throttle requests"
       ]
      },
      {
       "output_type": "stream",
       "stream": "stdout",
       "text": [
        "\n",
        "urllib(mine) sleeping to throttle requests"
       ]
      },
      {
       "output_type": "stream",
       "stream": "stdout",
       "text": [
        "\n",
        "urllib(mine) sleeping to throttle requests"
       ]
      },
      {
       "output_type": "stream",
       "stream": "stdout",
       "text": [
        "\n",
        "urllib(mine) sleeping to throttle requests"
       ]
      },
      {
       "output_type": "stream",
       "stream": "stdout",
       "text": [
        "\n",
        "urllib(mine) sleeping to throttle requests"
       ]
      },
      {
       "output_type": "stream",
       "stream": "stdout",
       "text": [
        "\n",
        "urllib(mine) sleeping to throttle requests"
       ]
      },
      {
       "output_type": "stream",
       "stream": "stdout",
       "text": [
        "\n",
        "--------------------------------------"
       ]
      },
      {
       "output_type": "stream",
       "stream": "stdout",
       "text": [
        "\n",
        "Starting friend: EWOBXvDU0PBTZMop94H8dQ\n",
        "--------------------------------------\n",
        "urllib(mine) sleeping to throttle requests\n",
        "--------------------------------------"
       ]
      },
      {
       "output_type": "stream",
       "stream": "stdout",
       "text": [
        "\n",
        "Starting friend: nqAZS02ZwlkdFskqWH1xFg\n",
        "--------------------------------------\n",
        "urllib(mine) sleeping to throttle requests\n",
        "urllib(mine) sleeping to throttle requests"
       ]
      },
      {
       "output_type": "stream",
       "stream": "stdout",
       "text": [
        "\n",
        "urllib(mine) sleeping to throttle requests"
       ]
      },
      {
       "output_type": "stream",
       "stream": "stdout",
       "text": [
        "\n",
        "--------------------------------------"
       ]
      },
      {
       "output_type": "stream",
       "stream": "stdout",
       "text": [
        "\n",
        "Starting friend: fNdDgtI3ofzSSqjhR7Xp2w\n",
        "--------------------------------------\n",
        "urllib(mine) sleeping to throttle requests\n",
        "--------------------------------------"
       ]
      },
      {
       "output_type": "stream",
       "stream": "stdout",
       "text": [
        "\n",
        "Starting friend: zJgTQLOOn1-SO1ghvBtXpA\n",
        "--------------------------------------\n",
        "urllib(mine) sleeping to throttle requests\n",
        "urllib(mine) sleeping to throttle requests"
       ]
      },
      {
       "output_type": "stream",
       "stream": "stdout",
       "text": [
        "\n",
        "urllib(mine) sleeping to throttle requests"
       ]
      },
      {
       "output_type": "stream",
       "stream": "stdout",
       "text": [
        "\n",
        "urllib(mine) sleeping to throttle requests"
       ]
      },
      {
       "output_type": "stream",
       "stream": "stdout",
       "text": [
        "\n",
        "urllib(mine) sleeping to throttle requests"
       ]
      },
      {
       "output_type": "stream",
       "stream": "stdout",
       "text": [
        "\n",
        "urllib(mine) sleeping to throttle requests"
       ]
      },
      {
       "output_type": "stream",
       "stream": "stdout",
       "text": [
        "\n",
        "urllib(mine) sleeping to throttle requests"
       ]
      },
      {
       "output_type": "stream",
       "stream": "stdout",
       "text": [
        "\n",
        "urllib(mine) sleeping to throttle requests"
       ]
      },
      {
       "output_type": "stream",
       "stream": "stdout",
       "text": [
        "\n",
        "urllib(mine) sleeping to throttle requests"
       ]
      },
      {
       "output_type": "stream",
       "stream": "stdout",
       "text": [
        "\n",
        "urllib(mine) sleeping to throttle requests"
       ]
      },
      {
       "output_type": "stream",
       "stream": "stdout",
       "text": [
        "\n",
        "urllib(mine) sleeping to throttle requests"
       ]
      },
      {
       "output_type": "stream",
       "stream": "stdout",
       "text": [
        "\n",
        "urllib(mine) sleeping to throttle requests"
       ]
      },
      {
       "output_type": "stream",
       "stream": "stdout",
       "text": [
        "\n",
        "urllib(mine) sleeping to throttle requests"
       ]
      },
      {
       "output_type": "stream",
       "stream": "stdout",
       "text": [
        "\n",
        "urllib(mine) sleeping to throttle requests"
       ]
      },
      {
       "output_type": "stream",
       "stream": "stdout",
       "text": [
        "\n",
        "urllib(mine) sleeping to throttle requests"
       ]
      },
      {
       "output_type": "stream",
       "stream": "stdout",
       "text": [
        "\n",
        "urllib(mine) sleeping to throttle requests"
       ]
      },
      {
       "output_type": "stream",
       "stream": "stdout",
       "text": [
        "\n",
        "urllib(mine) sleeping to throttle requests"
       ]
      },
      {
       "output_type": "stream",
       "stream": "stdout",
       "text": [
        "\n",
        "urllib(mine) sleeping to throttle requests"
       ]
      },
      {
       "output_type": "stream",
       "stream": "stdout",
       "text": [
        "\n",
        "urllib(mine) sleeping to throttle requests"
       ]
      },
      {
       "output_type": "stream",
       "stream": "stdout",
       "text": [
        "\n",
        "urllib(mine) sleeping to throttle requests"
       ]
      },
      {
       "output_type": "stream",
       "stream": "stdout",
       "text": [
        "\n",
        "urllib(mine) sleeping to throttle requests"
       ]
      },
      {
       "output_type": "stream",
       "stream": "stdout",
       "text": [
        "\n",
        "urllib(mine) sleeping to throttle requests"
       ]
      },
      {
       "output_type": "stream",
       "stream": "stdout",
       "text": [
        "\n",
        "urllib(mine) sleeping to throttle requests"
       ]
      },
      {
       "output_type": "stream",
       "stream": "stdout",
       "text": [
        "\n",
        "urllib(mine) sleeping to throttle requests"
       ]
      },
      {
       "output_type": "stream",
       "stream": "stdout",
       "text": [
        "\n",
        "urllib(mine) sleeping to throttle requests"
       ]
      },
      {
       "output_type": "stream",
       "stream": "stdout",
       "text": [
        "\n",
        "urllib(mine) sleeping to throttle requests"
       ]
      },
      {
       "output_type": "stream",
       "stream": "stdout",
       "text": [
        "\n",
        "urllib(mine) sleeping to throttle requests"
       ]
      },
      {
       "output_type": "stream",
       "stream": "stdout",
       "text": [
        "\n",
        "urllib(mine) sleeping to throttle requests"
       ]
      },
      {
       "output_type": "stream",
       "stream": "stdout",
       "text": [
        "\n",
        "urllib(mine) sleeping to throttle requests"
       ]
      },
      {
       "output_type": "stream",
       "stream": "stdout",
       "text": [
        "\n",
        "urllib(mine) sleeping to throttle requests"
       ]
      },
      {
       "output_type": "stream",
       "stream": "stdout",
       "text": [
        "\n",
        "urllib(mine) sleeping to throttle requests"
       ]
      },
      {
       "output_type": "stream",
       "stream": "stdout",
       "text": [
        "\n",
        "urllib(mine) sleeping to throttle requests"
       ]
      },
      {
       "output_type": "stream",
       "stream": "stdout",
       "text": [
        "\n",
        "urllib(mine) sleeping to throttle requests"
       ]
      },
      {
       "output_type": "stream",
       "stream": "stdout",
       "text": [
        "\n",
        "urllib(mine) sleeping to throttle requests"
       ]
      },
      {
       "output_type": "stream",
       "stream": "stdout",
       "text": [
        "\n",
        "urllib(mine) sleeping to throttle requests"
       ]
      },
      {
       "output_type": "stream",
       "stream": "stdout",
       "text": [
        "\n",
        "urllib(mine) sleeping to throttle requests"
       ]
      },
      {
       "output_type": "stream",
       "stream": "stdout",
       "text": [
        "\n",
        "urllib(mine) sleeping to throttle requests"
       ]
      },
      {
       "output_type": "stream",
       "stream": "stdout",
       "text": [
        "\n",
        "--------------------------------------"
       ]
      },
      {
       "output_type": "stream",
       "stream": "stdout",
       "text": [
        "\n",
        "Starting friend: r0k9ZsjSZT7r6_bZDDqCqw\n",
        "--------------------------------------\n",
        "urllib(mine) sleeping to throttle requests\n",
        "urllib(mine) sleeping to throttle requests"
       ]
      },
      {
       "output_type": "stream",
       "stream": "stdout",
       "text": [
        "\n",
        "urllib(mine) sleeping to throttle requests"
       ]
      },
      {
       "output_type": "stream",
       "stream": "stdout",
       "text": [
        "\n",
        "urllib(mine) sleeping to throttle requests"
       ]
      },
      {
       "output_type": "stream",
       "stream": "stdout",
       "text": [
        "\n",
        "urllib(mine) sleeping to throttle requests"
       ]
      },
      {
       "output_type": "stream",
       "stream": "stdout",
       "text": [
        "\n",
        "urllib(mine) sleeping to throttle requests"
       ]
      },
      {
       "output_type": "stream",
       "stream": "stdout",
       "text": [
        "\n",
        "urllib(mine) sleeping to throttle requests"
       ]
      },
      {
       "output_type": "stream",
       "stream": "stdout",
       "text": [
        "\n",
        "urllib(mine) sleeping to throttle requests"
       ]
      },
      {
       "output_type": "stream",
       "stream": "stdout",
       "text": [
        "\n",
        "urllib(mine) sleeping to throttle requests"
       ]
      },
      {
       "output_type": "stream",
       "stream": "stdout",
       "text": [
        "\n",
        "urllib(mine) sleeping to throttle requests"
       ]
      },
      {
       "output_type": "stream",
       "stream": "stdout",
       "text": [
        "\n",
        "urllib(mine) sleeping to throttle requests"
       ]
      },
      {
       "output_type": "stream",
       "stream": "stdout",
       "text": [
        "\n",
        "--------------------------------------"
       ]
      },
      {
       "output_type": "stream",
       "stream": "stdout",
       "text": [
        "\n",
        "Starting friend: BP-PhtILS68hOkjQGcUKqg\n",
        "--------------------------------------\n",
        "urllib(mine) sleeping to throttle requests\n",
        "urllib(mine) sleeping to throttle requests"
       ]
      },
      {
       "output_type": "stream",
       "stream": "stdout",
       "text": [
        "\n",
        "urllib(mine) sleeping to throttle requests"
       ]
      },
      {
       "output_type": "stream",
       "stream": "stdout",
       "text": [
        "\n",
        "urllib(mine) sleeping to throttle requests"
       ]
      },
      {
       "output_type": "stream",
       "stream": "stdout",
       "text": [
        "\n",
        "urllib(mine) sleeping to throttle requests"
       ]
      },
      {
       "output_type": "stream",
       "stream": "stdout",
       "text": [
        "\n",
        "urllib(mine) sleeping to throttle requests"
       ]
      },
      {
       "output_type": "stream",
       "stream": "stdout",
       "text": [
        "\n",
        "urllib(mine) sleeping to throttle requests"
       ]
      },
      {
       "output_type": "stream",
       "stream": "stdout",
       "text": [
        "\n",
        "urllib(mine) sleeping to throttle requests"
       ]
      },
      {
       "output_type": "stream",
       "stream": "stdout",
       "text": [
        "\n",
        "urllib(mine) sleeping to throttle requests"
       ]
      },
      {
       "output_type": "stream",
       "stream": "stdout",
       "text": [
        "\n",
        "urllib(mine) sleeping to throttle requests"
       ]
      },
      {
       "output_type": "stream",
       "stream": "stdout",
       "text": [
        "\n",
        "urllib(mine) sleeping to throttle requests"
       ]
      },
      {
       "output_type": "stream",
       "stream": "stdout",
       "text": [
        "\n",
        "urllib(mine) sleeping to throttle requests"
       ]
      },
      {
       "output_type": "stream",
       "stream": "stdout",
       "text": [
        "\n",
        "urllib(mine) sleeping to throttle requests"
       ]
      },
      {
       "output_type": "stream",
       "stream": "stdout",
       "text": [
        "\n",
        "urllib(mine) sleeping to throttle requests"
       ]
      },
      {
       "output_type": "stream",
       "stream": "stdout",
       "text": [
        "\n",
        "urllib(mine) sleeping to throttle requests"
       ]
      },
      {
       "output_type": "stream",
       "stream": "stdout",
       "text": [
        "\n",
        "urllib(mine) sleeping to throttle requests"
       ]
      },
      {
       "output_type": "stream",
       "stream": "stdout",
       "text": [
        "\n",
        "urllib(mine) sleeping to throttle requests"
       ]
      },
      {
       "output_type": "stream",
       "stream": "stdout",
       "text": [
        "\n",
        "urllib(mine) sleeping to throttle requests"
       ]
      },
      {
       "output_type": "stream",
       "stream": "stdout",
       "text": [
        "\n",
        "urllib(mine) sleeping to throttle requests"
       ]
      },
      {
       "output_type": "stream",
       "stream": "stdout",
       "text": [
        "\n",
        "urllib(mine) sleeping to throttle requests"
       ]
      },
      {
       "output_type": "stream",
       "stream": "stdout",
       "text": [
        "\n",
        "urllib(mine) sleeping to throttle requests"
       ]
      },
      {
       "output_type": "stream",
       "stream": "stdout",
       "text": [
        "\n",
        "urllib(mine) sleeping to throttle requests"
       ]
      },
      {
       "output_type": "stream",
       "stream": "stdout",
       "text": [
        "\n",
        "urllib(mine) sleeping to throttle requests"
       ]
      },
      {
       "output_type": "stream",
       "stream": "stdout",
       "text": [
        "\n",
        "urllib(mine) sleeping to throttle requests"
       ]
      },
      {
       "output_type": "stream",
       "stream": "stdout",
       "text": [
        "\n",
        "urllib(mine) sleeping to throttle requests"
       ]
      },
      {
       "output_type": "stream",
       "stream": "stdout",
       "text": [
        "\n",
        "--------------------------------------"
       ]
      },
      {
       "output_type": "stream",
       "stream": "stdout",
       "text": [
        "\n",
        "Starting friend: 6kj6E099LKuDAyx5gxkfBA\n",
        "--------------------------------------\n",
        "urllib(mine) sleeping to throttle requests\n",
        "urllib(mine) sleeping to throttle requests"
       ]
      },
      {
       "output_type": "stream",
       "stream": "stdout",
       "text": [
        "\n",
        "urllib(mine) sleeping to throttle requests"
       ]
      },
      {
       "output_type": "stream",
       "stream": "stdout",
       "text": [
        "\n",
        "urllib(mine) sleeping to throttle requests"
       ]
      },
      {
       "output_type": "stream",
       "stream": "stdout",
       "text": [
        "\n",
        "urllib(mine) sleeping to throttle requests"
       ]
      },
      {
       "output_type": "stream",
       "stream": "stdout",
       "text": [
        "\n",
        "urllib(mine) sleeping to throttle requests"
       ]
      },
      {
       "output_type": "stream",
       "stream": "stdout",
       "text": [
        "\n",
        "urllib(mine) sleeping to throttle requests"
       ]
      },
      {
       "output_type": "stream",
       "stream": "stdout",
       "text": [
        "\n",
        "--------------------------------------"
       ]
      },
      {
       "output_type": "stream",
       "stream": "stdout",
       "text": [
        "\n",
        "Starting friend: ZY_LdeLdStxzR6pE354eww\n",
        "--------------------------------------\n",
        "urllib(mine) sleeping to throttle requests\n",
        "urllib(mine) sleeping to throttle requests"
       ]
      },
      {
       "output_type": "stream",
       "stream": "stdout",
       "text": [
        "\n",
        "urllib(mine) sleeping to throttle requests"
       ]
      },
      {
       "output_type": "stream",
       "stream": "stdout",
       "text": [
        "\n",
        "urllib(mine) sleeping to throttle requests"
       ]
      },
      {
       "output_type": "stream",
       "stream": "stdout",
       "text": [
        "\n",
        "urllib(mine) sleeping to throttle requests"
       ]
      },
      {
       "output_type": "stream",
       "stream": "stdout",
       "text": [
        "\n",
        "urllib(mine) sleeping to throttle requests"
       ]
      },
      {
       "output_type": "stream",
       "stream": "stdout",
       "text": [
        "\n",
        "urllib(mine) sleeping to throttle requests"
       ]
      },
      {
       "output_type": "stream",
       "stream": "stdout",
       "text": [
        "\n",
        "urllib(mine) sleeping to throttle requests"
       ]
      },
      {
       "output_type": "stream",
       "stream": "stdout",
       "text": [
        "\n",
        "urllib(mine) sleeping to throttle requests"
       ]
      },
      {
       "output_type": "stream",
       "stream": "stdout",
       "text": [
        "\n",
        "urllib(mine) sleeping to throttle requests"
       ]
      },
      {
       "output_type": "stream",
       "stream": "stdout",
       "text": [
        "\n",
        "urllib(mine) sleeping to throttle requests"
       ]
      },
      {
       "output_type": "stream",
       "stream": "stdout",
       "text": [
        "\n",
        "urllib(mine) sleeping to throttle requests"
       ]
      },
      {
       "output_type": "stream",
       "stream": "stdout",
       "text": [
        "\n",
        "urllib(mine) sleeping to throttle requests"
       ]
      },
      {
       "output_type": "stream",
       "stream": "stdout",
       "text": [
        "\n",
        "urllib(mine) sleeping to throttle requests"
       ]
      },
      {
       "output_type": "stream",
       "stream": "stdout",
       "text": [
        "\n",
        "urllib(mine) sleeping to throttle requests"
       ]
      },
      {
       "output_type": "stream",
       "stream": "stdout",
       "text": [
        "\n",
        "--------------------------------------"
       ]
      },
      {
       "output_type": "stream",
       "stream": "stdout",
       "text": [
        "\n",
        "Starting friend: oWd7wL340Z9JiGf5Wu_bSQ\n",
        "--------------------------------------\n",
        "urllib(mine) sleeping to throttle requests\n",
        "urllib(mine) sleeping to throttle requests"
       ]
      },
      {
       "output_type": "stream",
       "stream": "stdout",
       "text": [
        "\n",
        "urllib(mine) sleeping to throttle requests"
       ]
      },
      {
       "output_type": "stream",
       "stream": "stdout",
       "text": [
        "\n",
        "urllib(mine) sleeping to throttle requests"
       ]
      },
      {
       "output_type": "stream",
       "stream": "stdout",
       "text": [
        "\n",
        "urllib(mine) sleeping to throttle requests"
       ]
      },
      {
       "output_type": "stream",
       "stream": "stdout",
       "text": [
        "\n",
        "urllib(mine) sleeping to throttle requests"
       ]
      },
      {
       "output_type": "stream",
       "stream": "stdout",
       "text": [
        "\n",
        "urllib(mine) sleeping to throttle requests"
       ]
      },
      {
       "output_type": "stream",
       "stream": "stdout",
       "text": [
        "\n",
        "urllib(mine) sleeping to throttle requests"
       ]
      },
      {
       "output_type": "stream",
       "stream": "stdout",
       "text": [
        "\n",
        "urllib(mine) sleeping to throttle requests"
       ]
      },
      {
       "output_type": "stream",
       "stream": "stdout",
       "text": [
        "\n",
        "urllib(mine) sleeping to throttle requests"
       ]
      },
      {
       "output_type": "stream",
       "stream": "stdout",
       "text": [
        "\n",
        "urllib(mine) sleeping to throttle requests"
       ]
      },
      {
       "output_type": "stream",
       "stream": "stdout",
       "text": [
        "\n",
        "urllib(mine) sleeping to throttle requests"
       ]
      },
      {
       "output_type": "stream",
       "stream": "stdout",
       "text": [
        "\n",
        "urllib(mine) sleeping to throttle requests"
       ]
      },
      {
       "output_type": "stream",
       "stream": "stdout",
       "text": [
        "\n",
        "urllib(mine) sleeping to throttle requests"
       ]
      },
      {
       "output_type": "stream",
       "stream": "stdout",
       "text": [
        "\n",
        "urllib(mine) sleeping to throttle requests"
       ]
      },
      {
       "output_type": "stream",
       "stream": "stdout",
       "text": [
        "\n",
        "urllib(mine) sleeping to throttle requests"
       ]
      },
      {
       "output_type": "stream",
       "stream": "stdout",
       "text": [
        "\n",
        "urllib(mine) sleeping to throttle requests"
       ]
      },
      {
       "output_type": "stream",
       "stream": "stdout",
       "text": [
        "\n",
        "urllib(mine) sleeping to throttle requests"
       ]
      },
      {
       "output_type": "stream",
       "stream": "stdout",
       "text": [
        "\n",
        "urllib(mine) sleeping to throttle requests"
       ]
      },
      {
       "output_type": "stream",
       "stream": "stdout",
       "text": [
        "\n",
        "urllib(mine) sleeping to throttle requests"
       ]
      },
      {
       "output_type": "stream",
       "stream": "stdout",
       "text": [
        "\n",
        "urllib(mine) sleeping to throttle requests"
       ]
      },
      {
       "output_type": "stream",
       "stream": "stdout",
       "text": [
        "\n",
        "urllib(mine) sleeping to throttle requests"
       ]
      },
      {
       "output_type": "stream",
       "stream": "stdout",
       "text": [
        "\n",
        "urllib(mine) sleeping to throttle requests"
       ]
      },
      {
       "output_type": "stream",
       "stream": "stdout",
       "text": [
        "\n",
        "urllib(mine) sleeping to throttle requests"
       ]
      },
      {
       "output_type": "stream",
       "stream": "stdout",
       "text": [
        "\n",
        "urllib(mine) sleeping to throttle requests"
       ]
      },
      {
       "output_type": "stream",
       "stream": "stdout",
       "text": [
        "\n",
        "urllib(mine) sleeping to throttle requests"
       ]
      },
      {
       "output_type": "stream",
       "stream": "stdout",
       "text": [
        "\n",
        "urllib(mine) sleeping to throttle requests"
       ]
      },
      {
       "output_type": "stream",
       "stream": "stdout",
       "text": [
        "\n",
        "urllib(mine) sleeping to throttle requests"
       ]
      },
      {
       "output_type": "stream",
       "stream": "stdout",
       "text": [
        "\n",
        "urllib(mine) sleeping to throttle requests"
       ]
      },
      {
       "output_type": "stream",
       "stream": "stdout",
       "text": [
        "\n",
        "urllib(mine) sleeping to throttle requests"
       ]
      },
      {
       "output_type": "stream",
       "stream": "stdout",
       "text": [
        "\n",
        "urllib(mine) sleeping to throttle requests"
       ]
      },
      {
       "output_type": "stream",
       "stream": "stdout",
       "text": [
        "\n",
        "urllib(mine) sleeping to throttle requests"
       ]
      },
      {
       "output_type": "stream",
       "stream": "stdout",
       "text": [
        "\n",
        "urllib(mine) sleeping to throttle requests"
       ]
      },
      {
       "output_type": "stream",
       "stream": "stdout",
       "text": [
        "\n",
        "urllib(mine) sleeping to throttle requests"
       ]
      },
      {
       "output_type": "stream",
       "stream": "stdout",
       "text": [
        "\n",
        "urllib(mine) sleeping to throttle requests"
       ]
      },
      {
       "output_type": "stream",
       "stream": "stdout",
       "text": [
        "\n",
        "urllib(mine) sleeping to throttle requests"
       ]
      },
      {
       "output_type": "stream",
       "stream": "stdout",
       "text": [
        "\n",
        "urllib(mine) sleeping to throttle requests"
       ]
      },
      {
       "output_type": "stream",
       "stream": "stdout",
       "text": [
        "\n",
        "urllib(mine) sleeping to throttle requests"
       ]
      },
      {
       "output_type": "stream",
       "stream": "stdout",
       "text": [
        "\n",
        "urllib(mine) sleeping to throttle requests"
       ]
      },
      {
       "output_type": "stream",
       "stream": "stdout",
       "text": [
        "\n",
        "urllib(mine) sleeping to throttle requests"
       ]
      },
      {
       "output_type": "stream",
       "stream": "stdout",
       "text": [
        "\n",
        "urllib(mine) sleeping to throttle requests"
       ]
      },
      {
       "output_type": "stream",
       "stream": "stdout",
       "text": [
        "\n",
        "urllib(mine) sleeping to throttle requests"
       ]
      },
      {
       "output_type": "stream",
       "stream": "stdout",
       "text": [
        "\n",
        "urllib(mine) sleeping to throttle requests"
       ]
      },
      {
       "output_type": "stream",
       "stream": "stdout",
       "text": [
        "\n",
        "urllib(mine) sleeping to throttle requests"
       ]
      },
      {
       "output_type": "stream",
       "stream": "stdout",
       "text": [
        "\n",
        "urllib(mine) sleeping to throttle requests"
       ]
      },
      {
       "output_type": "stream",
       "stream": "stdout",
       "text": [
        "\n",
        "urllib(mine) sleeping to throttle requests"
       ]
      },
      {
       "output_type": "stream",
       "stream": "stdout",
       "text": [
        "\n",
        "--------------------------------------"
       ]
      },
      {
       "output_type": "stream",
       "stream": "stdout",
       "text": [
        "\n",
        "Starting friend: b00l5Gz8rEJPaWdKzYjH1A\n",
        "--------------------------------------\n",
        "urllib(mine) sleeping to throttle requests\n",
        "urllib(mine) sleeping to throttle requests"
       ]
      },
      {
       "output_type": "stream",
       "stream": "stdout",
       "text": [
        "\n",
        "urllib(mine) sleeping to throttle requests"
       ]
      },
      {
       "output_type": "stream",
       "stream": "stdout",
       "text": [
        "\n",
        "urllib(mine) sleeping to throttle requests"
       ]
      },
      {
       "output_type": "stream",
       "stream": "stdout",
       "text": [
        "\n",
        "urllib(mine) sleeping to throttle requests"
       ]
      },
      {
       "output_type": "stream",
       "stream": "stdout",
       "text": [
        "\n",
        "--------------------------------------"
       ]
      },
      {
       "output_type": "stream",
       "stream": "stdout",
       "text": [
        "\n",
        "Starting friend: XR9yrAgbwV9QLML66_36VA\n",
        "--------------------------------------\n",
        "urllib(mine) sleeping to throttle requests\n",
        "--------------------------------------"
       ]
      },
      {
       "output_type": "stream",
       "stream": "stdout",
       "text": [
        "\n",
        "Starting friend: rDotdytEeZvvJFNeOgazPA\n",
        "--------------------------------------\n",
        "urllib(mine) sleeping to throttle requests\n",
        "urllib(mine) sleeping to throttle requests"
       ]
      },
      {
       "output_type": "stream",
       "stream": "stdout",
       "text": [
        "\n",
        "urllib(mine) sleeping to throttle requests"
       ]
      },
      {
       "output_type": "stream",
       "stream": "stdout",
       "text": [
        "\n",
        "urllib(mine) sleeping to throttle requests"
       ]
      },
      {
       "output_type": "stream",
       "stream": "stdout",
       "text": [
        "\n",
        "urllib(mine) sleeping to throttle requests"
       ]
      },
      {
       "output_type": "stream",
       "stream": "stdout",
       "text": [
        "\n",
        "urllib(mine) sleeping to throttle requests"
       ]
      },
      {
       "output_type": "stream",
       "stream": "stdout",
       "text": [
        "\n",
        "urllib(mine) sleeping to throttle requests"
       ]
      },
      {
       "output_type": "stream",
       "stream": "stdout",
       "text": [
        "\n",
        "urllib(mine) sleeping to throttle requests"
       ]
      },
      {
       "output_type": "stream",
       "stream": "stdout",
       "text": [
        "\n",
        "urllib(mine) sleeping to throttle requests"
       ]
      },
      {
       "output_type": "stream",
       "stream": "stdout",
       "text": [
        "\n",
        "urllib(mine) sleeping to throttle requests"
       ]
      },
      {
       "output_type": "stream",
       "stream": "stdout",
       "text": [
        "\n",
        "urllib(mine) sleeping to throttle requests"
       ]
      },
      {
       "output_type": "stream",
       "stream": "stdout",
       "text": [
        "\n",
        "urllib(mine) sleeping to throttle requests"
       ]
      },
      {
       "output_type": "stream",
       "stream": "stdout",
       "text": [
        "\n",
        "urllib(mine) sleeping to throttle requests"
       ]
      },
      {
       "output_type": "stream",
       "stream": "stdout",
       "text": [
        "\n",
        "urllib(mine) sleeping to throttle requests"
       ]
      },
      {
       "output_type": "stream",
       "stream": "stdout",
       "text": [
        "\n",
        "urllib(mine) sleeping to throttle requests"
       ]
      },
      {
       "output_type": "stream",
       "stream": "stdout",
       "text": [
        "\n",
        "urllib(mine) sleeping to throttle requests"
       ]
      },
      {
       "output_type": "stream",
       "stream": "stdout",
       "text": [
        "\n",
        "urllib(mine) sleeping to throttle requests"
       ]
      },
      {
       "output_type": "stream",
       "stream": "stdout",
       "text": [
        "\n",
        "urllib(mine) sleeping to throttle requests"
       ]
      },
      {
       "output_type": "stream",
       "stream": "stdout",
       "text": [
        "\n",
        "urllib(mine) sleeping to throttle requests"
       ]
      },
      {
       "output_type": "stream",
       "stream": "stdout",
       "text": [
        "\n",
        "urllib(mine) sleeping to throttle requests"
       ]
      },
      {
       "output_type": "stream",
       "stream": "stdout",
       "text": [
        "\n",
        "urllib(mine) sleeping to throttle requests"
       ]
      },
      {
       "output_type": "stream",
       "stream": "stdout",
       "text": [
        "\n",
        "--------------------------------------"
       ]
      },
      {
       "output_type": "stream",
       "stream": "stdout",
       "text": [
        "\n",
        "Starting friend: TBEiWGQoVXCq5sYuOzeBkw\n",
        "--------------------------------------\n",
        "urllib(mine) sleeping to throttle requests\n",
        "urllib(mine) sleeping to throttle requests"
       ]
      },
      {
       "output_type": "stream",
       "stream": "stdout",
       "text": [
        "\n",
        "urllib(mine) sleeping to throttle requests"
       ]
      },
      {
       "output_type": "stream",
       "stream": "stdout",
       "text": [
        "\n",
        "urllib(mine) sleeping to throttle requests"
       ]
      },
      {
       "output_type": "stream",
       "stream": "stdout",
       "text": [
        "\n",
        "urllib(mine) sleeping to throttle requests"
       ]
      },
      {
       "output_type": "stream",
       "stream": "stdout",
       "text": [
        "\n",
        "urllib(mine) sleeping to throttle requests"
       ]
      },
      {
       "output_type": "stream",
       "stream": "stdout",
       "text": [
        "\n",
        "urllib(mine) sleeping to throttle requests"
       ]
      },
      {
       "output_type": "stream",
       "stream": "stdout",
       "text": [
        "\n",
        "urllib(mine) sleeping to throttle requests"
       ]
      },
      {
       "output_type": "stream",
       "stream": "stdout",
       "text": [
        "\n",
        "urllib(mine) sleeping to throttle requests"
       ]
      },
      {
       "output_type": "stream",
       "stream": "stdout",
       "text": [
        "\n",
        "urllib(mine) sleeping to throttle requests"
       ]
      },
      {
       "output_type": "stream",
       "stream": "stdout",
       "text": [
        "\n",
        "urllib(mine) sleeping to throttle requests"
       ]
      },
      {
       "output_type": "stream",
       "stream": "stdout",
       "text": [
        "\n",
        "urllib(mine) sleeping to throttle requests"
       ]
      },
      {
       "output_type": "stream",
       "stream": "stdout",
       "text": [
        "\n",
        "urllib(mine) sleeping to throttle requests"
       ]
      },
      {
       "output_type": "stream",
       "stream": "stdout",
       "text": [
        "\n",
        "urllib(mine) sleeping to throttle requests"
       ]
      },
      {
       "output_type": "stream",
       "stream": "stdout",
       "text": [
        "\n",
        "urllib(mine) sleeping to throttle requests"
       ]
      },
      {
       "output_type": "stream",
       "stream": "stdout",
       "text": [
        "\n",
        "urllib(mine) sleeping to throttle requests"
       ]
      },
      {
       "output_type": "stream",
       "stream": "stdout",
       "text": [
        "\n",
        "urllib(mine) sleeping to throttle requests"
       ]
      },
      {
       "output_type": "stream",
       "stream": "stdout",
       "text": [
        "\n",
        "urllib(mine) sleeping to throttle requests"
       ]
      },
      {
       "output_type": "stream",
       "stream": "stdout",
       "text": [
        "\n",
        "urllib(mine) sleeping to throttle requests"
       ]
      },
      {
       "output_type": "stream",
       "stream": "stdout",
       "text": [
        "\n",
        "urllib(mine) sleeping to throttle requests"
       ]
      },
      {
       "output_type": "stream",
       "stream": "stdout",
       "text": [
        "\n",
        "urllib(mine) sleeping to throttle requests"
       ]
      },
      {
       "output_type": "stream",
       "stream": "stdout",
       "text": [
        "\n",
        "urllib(mine) sleeping to throttle requests"
       ]
      },
      {
       "output_type": "stream",
       "stream": "stdout",
       "text": [
        "\n",
        "urllib(mine) sleeping to throttle requests"
       ]
      },
      {
       "output_type": "stream",
       "stream": "stdout",
       "text": [
        "\n",
        "urllib(mine) sleeping to throttle requests"
       ]
      },
      {
       "output_type": "stream",
       "stream": "stdout",
       "text": [
        "\n",
        "urllib(mine) sleeping to throttle requests"
       ]
      },
      {
       "output_type": "stream",
       "stream": "stdout",
       "text": [
        "\n",
        "urllib(mine) sleeping to throttle requests"
       ]
      },
      {
       "output_type": "stream",
       "stream": "stdout",
       "text": [
        "\n",
        "urllib(mine) sleeping to throttle requests"
       ]
      },
      {
       "output_type": "stream",
       "stream": "stdout",
       "text": [
        "\n",
        "urllib(mine) sleeping to throttle requests"
       ]
      },
      {
       "output_type": "stream",
       "stream": "stdout",
       "text": [
        "\n",
        "urllib(mine) sleeping to throttle requests"
       ]
      },
      {
       "output_type": "stream",
       "stream": "stdout",
       "text": [
        "\n",
        "urllib(mine) sleeping to throttle requests"
       ]
      },
      {
       "output_type": "stream",
       "stream": "stdout",
       "text": [
        "\n",
        "urllib(mine) sleeping to throttle requests"
       ]
      },
      {
       "output_type": "stream",
       "stream": "stdout",
       "text": [
        "\n",
        "urllib(mine) sleeping to throttle requests"
       ]
      },
      {
       "output_type": "stream",
       "stream": "stdout",
       "text": [
        "\n",
        "urllib(mine) sleeping to throttle requests"
       ]
      },
      {
       "output_type": "stream",
       "stream": "stdout",
       "text": [
        "\n",
        "urllib(mine) sleeping to throttle requests"
       ]
      },
      {
       "output_type": "stream",
       "stream": "stdout",
       "text": [
        "\n",
        "--------------------------------------"
       ]
      },
      {
       "output_type": "stream",
       "stream": "stdout",
       "text": [
        "\n",
        "Starting friend: -vvKB3G30HMNlne8D-kghA\n",
        "--------------------------------------\n",
        "urllib(mine) sleeping to throttle requests\n",
        "urllib(mine) sleeping to throttle requests"
       ]
      },
      {
       "output_type": "stream",
       "stream": "stdout",
       "text": [
        "\n",
        "urllib(mine) sleeping to throttle requests"
       ]
      },
      {
       "output_type": "stream",
       "stream": "stdout",
       "text": [
        "\n",
        "urllib(mine) sleeping to throttle requests"
       ]
      },
      {
       "output_type": "stream",
       "stream": "stdout",
       "text": [
        "\n",
        "urllib(mine) sleeping to throttle requests"
       ]
      },
      {
       "output_type": "stream",
       "stream": "stdout",
       "text": [
        "\n",
        "urllib(mine) sleeping to throttle requests"
       ]
      },
      {
       "output_type": "stream",
       "stream": "stdout",
       "text": [
        "\n",
        "urllib(mine) sleeping to throttle requests"
       ]
      },
      {
       "output_type": "stream",
       "stream": "stdout",
       "text": [
        "\n",
        "urllib(mine) sleeping to throttle requests"
       ]
      },
      {
       "output_type": "stream",
       "stream": "stdout",
       "text": [
        "\n",
        "urllib(mine) sleeping to throttle requests"
       ]
      },
      {
       "output_type": "stream",
       "stream": "stdout",
       "text": [
        "\n",
        "urllib(mine) sleeping to throttle requests"
       ]
      },
      {
       "output_type": "stream",
       "stream": "stdout",
       "text": [
        "\n",
        "urllib(mine) sleeping to throttle requests"
       ]
      },
      {
       "output_type": "stream",
       "stream": "stdout",
       "text": [
        "\n",
        "urllib(mine) sleeping to throttle requests"
       ]
      },
      {
       "output_type": "stream",
       "stream": "stdout",
       "text": [
        "\n",
        "urllib(mine) sleeping to throttle requests"
       ]
      },
      {
       "output_type": "stream",
       "stream": "stdout",
       "text": [
        "\n",
        "urllib(mine) sleeping to throttle requests"
       ]
      },
      {
       "output_type": "stream",
       "stream": "stdout",
       "text": [
        "\n",
        "urllib(mine) sleeping to throttle requests"
       ]
      },
      {
       "output_type": "stream",
       "stream": "stdout",
       "text": [
        "\n",
        "urllib(mine) sleeping to throttle requests"
       ]
      },
      {
       "output_type": "stream",
       "stream": "stdout",
       "text": [
        "\n",
        "urllib(mine) sleeping to throttle requests"
       ]
      },
      {
       "output_type": "stream",
       "stream": "stdout",
       "text": [
        "\n",
        "urllib(mine) sleeping to throttle requests"
       ]
      },
      {
       "output_type": "stream",
       "stream": "stdout",
       "text": [
        "\n",
        "urllib(mine) sleeping to throttle requests"
       ]
      },
      {
       "output_type": "stream",
       "stream": "stdout",
       "text": [
        "\n",
        "urllib(mine) sleeping to throttle requests"
       ]
      },
      {
       "output_type": "stream",
       "stream": "stdout",
       "text": [
        "\n",
        "--------------------------------------"
       ]
      },
      {
       "output_type": "stream",
       "stream": "stdout",
       "text": [
        "\n",
        "Starting friend: oEnbZIr7-RlsG3SdTkE3jw\n",
        "--------------------------------------\n",
        "urllib(mine) sleeping to throttle requests\n",
        "urllib(mine) sleeping to throttle requests"
       ]
      },
      {
       "output_type": "stream",
       "stream": "stdout",
       "text": [
        "\n",
        "--------------------------------------"
       ]
      },
      {
       "output_type": "stream",
       "stream": "stdout",
       "text": [
        "\n",
        "Starting friend: EPFFRq3SChHgoRlQEJeekg\n",
        "--------------------------------------\n",
        "urllib(mine) sleeping to throttle requests\n",
        "urllib(mine) sleeping to throttle requests"
       ]
      },
      {
       "output_type": "stream",
       "stream": "stdout",
       "text": [
        "\n",
        "urllib(mine) sleeping to throttle requests"
       ]
      },
      {
       "output_type": "stream",
       "stream": "stdout",
       "text": [
        "\n",
        "urllib(mine) sleeping to throttle requests"
       ]
      },
      {
       "output_type": "stream",
       "stream": "stdout",
       "text": [
        "\n",
        "urllib(mine) sleeping to throttle requests"
       ]
      },
      {
       "output_type": "stream",
       "stream": "stdout",
       "text": [
        "\n",
        "--------------------------------------"
       ]
      },
      {
       "output_type": "stream",
       "stream": "stdout",
       "text": [
        "\n",
        "Starting friend: UOMSN12IGpju4sKwIJQE_Q\n",
        "--------------------------------------\n",
        "urllib(mine) sleeping to throttle requests\n",
        "urllib(mine) sleeping to throttle requests"
       ]
      },
      {
       "output_type": "stream",
       "stream": "stdout",
       "text": [
        "\n",
        "urllib(mine) sleeping to throttle requests"
       ]
      },
      {
       "output_type": "stream",
       "stream": "stdout",
       "text": [
        "\n",
        "urllib(mine) sleeping to throttle requests"
       ]
      },
      {
       "output_type": "stream",
       "stream": "stdout",
       "text": [
        "\n",
        "urllib(mine) sleeping to throttle requests"
       ]
      },
      {
       "output_type": "stream",
       "stream": "stdout",
       "text": [
        "\n",
        "urllib(mine) sleeping to throttle requests"
       ]
      },
      {
       "output_type": "stream",
       "stream": "stdout",
       "text": [
        "\n",
        "urllib(mine) sleeping to throttle requests"
       ]
      },
      {
       "output_type": "stream",
       "stream": "stdout",
       "text": [
        "\n",
        "urllib(mine) sleeping to throttle requests"
       ]
      },
      {
       "output_type": "stream",
       "stream": "stdout",
       "text": [
        "\n",
        "urllib(mine) sleeping to throttle requests"
       ]
      },
      {
       "output_type": "stream",
       "stream": "stdout",
       "text": [
        "\n",
        "urllib(mine) sleeping to throttle requests"
       ]
      },
      {
       "output_type": "stream",
       "stream": "stdout",
       "text": [
        "\n",
        "urllib(mine) sleeping to throttle requests"
       ]
      },
      {
       "output_type": "stream",
       "stream": "stdout",
       "text": [
        "\n",
        "urllib(mine) sleeping to throttle requests"
       ]
      },
      {
       "output_type": "stream",
       "stream": "stdout",
       "text": [
        "\n",
        "urllib(mine) sleeping to throttle requests"
       ]
      },
      {
       "output_type": "stream",
       "stream": "stdout",
       "text": [
        "\n",
        "urllib(mine) sleeping to throttle requests"
       ]
      },
      {
       "output_type": "stream",
       "stream": "stdout",
       "text": [
        "\n",
        "urllib(mine) sleeping to throttle requests"
       ]
      },
      {
       "output_type": "stream",
       "stream": "stdout",
       "text": [
        "\n",
        "urllib(mine) sleeping to throttle requests"
       ]
      },
      {
       "output_type": "stream",
       "stream": "stdout",
       "text": [
        "\n",
        "urllib(mine) sleeping to throttle requests"
       ]
      },
      {
       "output_type": "stream",
       "stream": "stdout",
       "text": [
        "\n",
        "urllib(mine) sleeping to throttle requests"
       ]
      },
      {
       "output_type": "stream",
       "stream": "stdout",
       "text": [
        "\n",
        "urllib(mine) sleeping to throttle requests"
       ]
      },
      {
       "output_type": "stream",
       "stream": "stdout",
       "text": [
        "\n",
        "urllib(mine) sleeping to throttle requests"
       ]
      },
      {
       "output_type": "stream",
       "stream": "stdout",
       "text": [
        "\n",
        "urllib(mine) sleeping to throttle requests"
       ]
      },
      {
       "output_type": "stream",
       "stream": "stdout",
       "text": [
        "\n",
        "urllib(mine) sleeping to throttle requests"
       ]
      },
      {
       "output_type": "stream",
       "stream": "stdout",
       "text": [
        "\n",
        "urllib(mine) sleeping to throttle requests"
       ]
      },
      {
       "output_type": "stream",
       "stream": "stdout",
       "text": [
        "\n",
        "urllib(mine) sleeping to throttle requests"
       ]
      },
      {
       "output_type": "stream",
       "stream": "stdout",
       "text": [
        "\n",
        "urllib(mine) sleeping to throttle requests"
       ]
      },
      {
       "output_type": "stream",
       "stream": "stdout",
       "text": [
        "\n",
        "urllib(mine) sleeping to throttle requests"
       ]
      },
      {
       "output_type": "stream",
       "stream": "stdout",
       "text": [
        "\n",
        "urllib(mine) sleeping to throttle requests"
       ]
      },
      {
       "output_type": "stream",
       "stream": "stdout",
       "text": [
        "\n",
        "urllib(mine) sleeping to throttle requests"
       ]
      },
      {
       "output_type": "stream",
       "stream": "stdout",
       "text": [
        "\n",
        "urllib(mine) sleeping to throttle requests"
       ]
      },
      {
       "output_type": "stream",
       "stream": "stdout",
       "text": [
        "\n",
        "urllib(mine) sleeping to throttle requests"
       ]
      },
      {
       "output_type": "stream",
       "stream": "stdout",
       "text": [
        "\n",
        "urllib(mine) sleeping to throttle requests"
       ]
      },
      {
       "output_type": "stream",
       "stream": "stdout",
       "text": [
        "\n",
        "urllib(mine) sleeping to throttle requests"
       ]
      },
      {
       "output_type": "stream",
       "stream": "stdout",
       "text": [
        "\n",
        "urllib(mine) sleeping to throttle requests"
       ]
      },
      {
       "output_type": "stream",
       "stream": "stdout",
       "text": [
        "\n",
        "urllib(mine) sleeping to throttle requests"
       ]
      },
      {
       "output_type": "stream",
       "stream": "stdout",
       "text": [
        "\n",
        "urllib(mine) sleeping to throttle requests"
       ]
      },
      {
       "output_type": "stream",
       "stream": "stdout",
       "text": [
        "\n",
        "urllib(mine) sleeping to throttle requests"
       ]
      },
      {
       "output_type": "stream",
       "stream": "stdout",
       "text": [
        "\n",
        "urllib(mine) sleeping to throttle requests"
       ]
      },
      {
       "output_type": "stream",
       "stream": "stdout",
       "text": [
        "\n",
        "--------------------------------------"
       ]
      },
      {
       "output_type": "stream",
       "stream": "stdout",
       "text": [
        "\n",
        "Starting friend: 51oMB11zo_d1xbfMCq9U7A\n",
        "--------------------------------------\n",
        "urllib(mine) sleeping to throttle requests\n",
        "urllib(mine) sleeping to throttle requests"
       ]
      },
      {
       "output_type": "stream",
       "stream": "stdout",
       "text": [
        "\n",
        "urllib(mine) sleeping to throttle requests"
       ]
      },
      {
       "output_type": "stream",
       "stream": "stdout",
       "text": [
        "\n",
        "urllib(mine) sleeping to throttle requests"
       ]
      },
      {
       "output_type": "stream",
       "stream": "stdout",
       "text": [
        "\n",
        "urllib(mine) sleeping to throttle requests"
       ]
      },
      {
       "output_type": "stream",
       "stream": "stdout",
       "text": [
        "\n",
        "urllib(mine) sleeping to throttle requests"
       ]
      },
      {
       "output_type": "stream",
       "stream": "stdout",
       "text": [
        "\n",
        "urllib(mine) sleeping to throttle requests"
       ]
      },
      {
       "output_type": "stream",
       "stream": "stdout",
       "text": [
        "\n",
        "urllib(mine) sleeping to throttle requests"
       ]
      },
      {
       "output_type": "stream",
       "stream": "stdout",
       "text": [
        "\n",
        "urllib(mine) sleeping to throttle requests"
       ]
      },
      {
       "output_type": "stream",
       "stream": "stdout",
       "text": [
        "\n",
        "urllib(mine) sleeping to throttle requests"
       ]
      },
      {
       "output_type": "stream",
       "stream": "stdout",
       "text": [
        "\n",
        "urllib(mine) sleeping to throttle requests"
       ]
      },
      {
       "output_type": "stream",
       "stream": "stdout",
       "text": [
        "\n",
        "urllib(mine) sleeping to throttle requests"
       ]
      },
      {
       "output_type": "stream",
       "stream": "stdout",
       "text": [
        "\n",
        "--------------------------------------"
       ]
      },
      {
       "output_type": "stream",
       "stream": "stdout",
       "text": [
        "\n",
        "Starting friend: XIDHp_Bs__wKRbPyXcghLQ\n",
        "--------------------------------------\n",
        "urllib(mine) sleeping to throttle requests\n",
        "urllib(mine) sleeping to throttle requests"
       ]
      },
      {
       "output_type": "stream",
       "stream": "stdout",
       "text": [
        "\n",
        "urllib(mine) sleeping to throttle requests"
       ]
      },
      {
       "output_type": "stream",
       "stream": "stdout",
       "text": [
        "\n",
        "urllib(mine) sleeping to throttle requests"
       ]
      },
      {
       "output_type": "stream",
       "stream": "stdout",
       "text": [
        "\n",
        "urllib(mine) sleeping to throttle requests"
       ]
      },
      {
       "output_type": "stream",
       "stream": "stdout",
       "text": [
        "\n",
        "urllib(mine) sleeping to throttle requests"
       ]
      },
      {
       "output_type": "stream",
       "stream": "stdout",
       "text": [
        "\n",
        "urllib(mine) sleeping to throttle requests"
       ]
      },
      {
       "output_type": "stream",
       "stream": "stdout",
       "text": [
        "\n",
        "urllib(mine) sleeping to throttle requests"
       ]
      },
      {
       "output_type": "stream",
       "stream": "stdout",
       "text": [
        "\n",
        "urllib(mine) sleeping to throttle requests"
       ]
      },
      {
       "output_type": "stream",
       "stream": "stdout",
       "text": [
        "\n",
        "urllib(mine) sleeping to throttle requests"
       ]
      },
      {
       "output_type": "stream",
       "stream": "stdout",
       "text": [
        "\n",
        "--------------------------------------"
       ]
      },
      {
       "output_type": "stream",
       "stream": "stdout",
       "text": [
        "\n",
        "Starting friend: 0UNJ_6xZREkjYDuiJyQx4A\n",
        "--------------------------------------\n",
        "urllib(mine) sleeping to throttle requests\n",
        "urllib(mine) sleeping to throttle requests"
       ]
      },
      {
       "output_type": "stream",
       "stream": "stdout",
       "text": [
        "\n",
        "urllib(mine) sleeping to throttle requests"
       ]
      },
      {
       "output_type": "stream",
       "stream": "stdout",
       "text": [
        "\n",
        "urllib(mine) sleeping to throttle requests"
       ]
      },
      {
       "output_type": "stream",
       "stream": "stdout",
       "text": [
        "\n",
        "urllib(mine) sleeping to throttle requests"
       ]
      },
      {
       "output_type": "stream",
       "stream": "stdout",
       "text": [
        "\n",
        "urllib(mine) sleeping to throttle requests"
       ]
      },
      {
       "output_type": "stream",
       "stream": "stdout",
       "text": [
        "\n",
        "urllib(mine) sleeping to throttle requests"
       ]
      },
      {
       "output_type": "stream",
       "stream": "stdout",
       "text": [
        "\n",
        "urllib(mine) sleeping to throttle requests"
       ]
      },
      {
       "output_type": "stream",
       "stream": "stdout",
       "text": [
        "\n",
        "urllib(mine) sleeping to throttle requests"
       ]
      },
      {
       "output_type": "stream",
       "stream": "stdout",
       "text": [
        "\n",
        "urllib(mine) sleeping to throttle requests"
       ]
      },
      {
       "output_type": "stream",
       "stream": "stdout",
       "text": [
        "\n",
        "urllib(mine) sleeping to throttle requests"
       ]
      },
      {
       "output_type": "stream",
       "stream": "stdout",
       "text": [
        "\n",
        "urllib(mine) sleeping to throttle requests"
       ]
      },
      {
       "output_type": "stream",
       "stream": "stdout",
       "text": [
        "\n",
        "urllib(mine) sleeping to throttle requests"
       ]
      },
      {
       "output_type": "stream",
       "stream": "stdout",
       "text": [
        "\n",
        "--------------------------------------"
       ]
      },
      {
       "output_type": "stream",
       "stream": "stdout",
       "text": [
        "\n",
        "Starting friend: zfehmRXNW0f_x_BpmJ-T5Q\n",
        "--------------------------------------\n",
        "urllib(mine) sleeping to throttle requests\n",
        "urllib(mine) sleeping to throttle requests"
       ]
      },
      {
       "output_type": "stream",
       "stream": "stdout",
       "text": [
        "\n",
        "urllib(mine) sleeping to throttle requests"
       ]
      },
      {
       "output_type": "stream",
       "stream": "stdout",
       "text": [
        "\n",
        "urllib(mine) sleeping to throttle requests"
       ]
      },
      {
       "output_type": "stream",
       "stream": "stdout",
       "text": [
        "\n",
        "urllib(mine) sleeping to throttle requests"
       ]
      },
      {
       "output_type": "stream",
       "stream": "stdout",
       "text": [
        "\n",
        "urllib(mine) sleeping to throttle requests"
       ]
      },
      {
       "output_type": "stream",
       "stream": "stdout",
       "text": [
        "\n",
        "urllib(mine) sleeping to throttle requests"
       ]
      },
      {
       "output_type": "stream",
       "stream": "stdout",
       "text": [
        "\n",
        "urllib(mine) sleeping to throttle requests"
       ]
      },
      {
       "output_type": "stream",
       "stream": "stdout",
       "text": [
        "\n",
        "urllib(mine) sleeping to throttle requests"
       ]
      },
      {
       "output_type": "stream",
       "stream": "stdout",
       "text": [
        "\n",
        "urllib(mine) sleeping to throttle requests"
       ]
      },
      {
       "output_type": "stream",
       "stream": "stdout",
       "text": [
        "\n",
        "urllib(mine) sleeping to throttle requests"
       ]
      },
      {
       "output_type": "stream",
       "stream": "stdout",
       "text": [
        "\n",
        "urllib(mine) sleeping to throttle requests"
       ]
      },
      {
       "output_type": "stream",
       "stream": "stdout",
       "text": [
        "\n",
        "urllib(mine) sleeping to throttle requests"
       ]
      },
      {
       "output_type": "stream",
       "stream": "stdout",
       "text": [
        "\n",
        "urllib(mine) sleeping to throttle requests"
       ]
      },
      {
       "output_type": "stream",
       "stream": "stdout",
       "text": [
        "\n",
        "urllib(mine) sleeping to throttle requests"
       ]
      },
      {
       "output_type": "stream",
       "stream": "stdout",
       "text": [
        "\n",
        "urllib(mine) sleeping to throttle requests"
       ]
      },
      {
       "output_type": "stream",
       "stream": "stdout",
       "text": [
        "\n",
        "urllib(mine) sleeping to throttle requests"
       ]
      },
      {
       "output_type": "stream",
       "stream": "stdout",
       "text": [
        "\n",
        "urllib(mine) sleeping to throttle requests"
       ]
      },
      {
       "output_type": "stream",
       "stream": "stdout",
       "text": [
        "\n",
        "urllib(mine) sleeping to throttle requests"
       ]
      },
      {
       "output_type": "stream",
       "stream": "stdout",
       "text": [
        "\n",
        "urllib(mine) sleeping to throttle requests"
       ]
      },
      {
       "output_type": "stream",
       "stream": "stdout",
       "text": [
        "\n",
        "urllib(mine) sleeping to throttle requests"
       ]
      },
      {
       "output_type": "stream",
       "stream": "stdout",
       "text": [
        "\n",
        "urllib(mine) sleeping to throttle requests"
       ]
      },
      {
       "output_type": "stream",
       "stream": "stdout",
       "text": [
        "\n",
        "urllib(mine) sleeping to throttle requests"
       ]
      },
      {
       "output_type": "stream",
       "stream": "stdout",
       "text": [
        "\n",
        "--------------------------------------"
       ]
      },
      {
       "output_type": "stream",
       "stream": "stdout",
       "text": [
        "\n",
        "Starting friend: rtr8TtU_zpE231_5ErAfAg\n",
        "--------------------------------------\n",
        "urllib(mine) sleeping to throttle requests\n",
        "urllib(mine) sleeping to throttle requests"
       ]
      },
      {
       "output_type": "stream",
       "stream": "stdout",
       "text": [
        "\n",
        "urllib(mine) sleeping to throttle requests"
       ]
      },
      {
       "output_type": "stream",
       "stream": "stdout",
       "text": [
        "\n",
        "urllib(mine) sleeping to throttle requests"
       ]
      },
      {
       "output_type": "stream",
       "stream": "stdout",
       "text": [
        "\n",
        "urllib(mine) sleeping to throttle requests"
       ]
      },
      {
       "output_type": "stream",
       "stream": "stdout",
       "text": [
        "\n",
        "--------------------------------------"
       ]
      },
      {
       "output_type": "stream",
       "stream": "stdout",
       "text": [
        "\n",
        "Starting friend: IU86PZPgTDCFwJEuAg2j7g\n",
        "--------------------------------------\n",
        "urllib(mine) sleeping to throttle requests\n",
        "urllib(mine) sleeping to throttle requests"
       ]
      },
      {
       "output_type": "stream",
       "stream": "stdout",
       "text": [
        "\n",
        "urllib(mine) sleeping to throttle requests"
       ]
      },
      {
       "output_type": "stream",
       "stream": "stdout",
       "text": [
        "\n",
        "urllib(mine) sleeping to throttle requests"
       ]
      },
      {
       "output_type": "stream",
       "stream": "stdout",
       "text": [
        "\n",
        "urllib(mine) sleeping to throttle requests"
       ]
      },
      {
       "output_type": "stream",
       "stream": "stdout",
       "text": [
        "\n",
        "urllib(mine) sleeping to throttle requests"
       ]
      },
      {
       "output_type": "stream",
       "stream": "stdout",
       "text": [
        "\n",
        "urllib(mine) sleeping to throttle requests"
       ]
      },
      {
       "output_type": "stream",
       "stream": "stdout",
       "text": [
        "\n",
        "urllib(mine) sleeping to throttle requests"
       ]
      },
      {
       "output_type": "stream",
       "stream": "stdout",
       "text": [
        "\n",
        "urllib(mine) sleeping to throttle requests"
       ]
      },
      {
       "output_type": "stream",
       "stream": "stdout",
       "text": [
        "\n",
        "urllib(mine) sleeping to throttle requests"
       ]
      },
      {
       "output_type": "stream",
       "stream": "stdout",
       "text": [
        "\n",
        "urllib(mine) sleeping to throttle requests"
       ]
      },
      {
       "output_type": "stream",
       "stream": "stdout",
       "text": [
        "\n",
        "urllib(mine) sleeping to throttle requests"
       ]
      },
      {
       "output_type": "stream",
       "stream": "stdout",
       "text": [
        "\n",
        "urllib(mine) sleeping to throttle requests"
       ]
      },
      {
       "output_type": "stream",
       "stream": "stdout",
       "text": [
        "\n",
        "urllib(mine) sleeping to throttle requests"
       ]
      },
      {
       "output_type": "stream",
       "stream": "stdout",
       "text": [
        "\n",
        "urllib(mine) sleeping to throttle requests"
       ]
      },
      {
       "output_type": "stream",
       "stream": "stdout",
       "text": [
        "\n",
        "urllib(mine) sleeping to throttle requests"
       ]
      },
      {
       "output_type": "stream",
       "stream": "stdout",
       "text": [
        "\n",
        "urllib(mine) sleeping to throttle requests"
       ]
      },
      {
       "output_type": "stream",
       "stream": "stdout",
       "text": [
        "\n",
        "urllib(mine) sleeping to throttle requests"
       ]
      },
      {
       "output_type": "stream",
       "stream": "stdout",
       "text": [
        "\n",
        "urllib(mine) sleeping to throttle requests"
       ]
      },
      {
       "output_type": "stream",
       "stream": "stdout",
       "text": [
        "\n",
        "urllib(mine) sleeping to throttle requests"
       ]
      },
      {
       "output_type": "stream",
       "stream": "stdout",
       "text": [
        "\n",
        "urllib(mine) sleeping to throttle requests"
       ]
      },
      {
       "output_type": "stream",
       "stream": "stdout",
       "text": [
        "\n",
        "urllib(mine) sleeping to throttle requests"
       ]
      },
      {
       "output_type": "stream",
       "stream": "stdout",
       "text": [
        "\n",
        "urllib(mine) sleeping to throttle requests"
       ]
      },
      {
       "output_type": "stream",
       "stream": "stdout",
       "text": [
        "\n",
        "urllib(mine) sleeping to throttle requests"
       ]
      },
      {
       "output_type": "stream",
       "stream": "stdout",
       "text": [
        "\n",
        "urllib(mine) sleeping to throttle requests"
       ]
      },
      {
       "output_type": "stream",
       "stream": "stdout",
       "text": [
        "\n",
        "urllib(mine) sleeping to throttle requests"
       ]
      },
      {
       "output_type": "stream",
       "stream": "stdout",
       "text": [
        "\n",
        "urllib(mine) sleeping to throttle requests"
       ]
      },
      {
       "output_type": "stream",
       "stream": "stdout",
       "text": [
        "\n",
        "urllib(mine) sleeping to throttle requests"
       ]
      },
      {
       "output_type": "stream",
       "stream": "stdout",
       "text": [
        "\n",
        "urllib(mine) sleeping to throttle requests"
       ]
      },
      {
       "output_type": "stream",
       "stream": "stdout",
       "text": [
        "\n",
        "urllib(mine) sleeping to throttle requests"
       ]
      },
      {
       "output_type": "stream",
       "stream": "stdout",
       "text": [
        "\n",
        "urllib(mine) sleeping to throttle requests"
       ]
      },
      {
       "output_type": "stream",
       "stream": "stdout",
       "text": [
        "\n",
        "urllib(mine) sleeping to throttle requests"
       ]
      },
      {
       "output_type": "stream",
       "stream": "stdout",
       "text": [
        "\n",
        "urllib(mine) sleeping to throttle requests"
       ]
      },
      {
       "output_type": "stream",
       "stream": "stdout",
       "text": [
        "\n",
        "urllib(mine) sleeping to throttle requests"
       ]
      },
      {
       "output_type": "stream",
       "stream": "stdout",
       "text": [
        "\n",
        "urllib(mine) sleeping to throttle requests"
       ]
      },
      {
       "output_type": "stream",
       "stream": "stdout",
       "text": [
        "\n",
        "urllib(mine) sleeping to throttle requests"
       ]
      },
      {
       "output_type": "stream",
       "stream": "stdout",
       "text": [
        "\n",
        "urllib(mine) sleeping to throttle requests"
       ]
      },
      {
       "output_type": "stream",
       "stream": "stdout",
       "text": [
        "\n",
        "urllib(mine) sleeping to throttle requests"
       ]
      },
      {
       "output_type": "stream",
       "stream": "stdout",
       "text": [
        "\n",
        "urllib(mine) sleeping to throttle requests"
       ]
      },
      {
       "output_type": "stream",
       "stream": "stdout",
       "text": [
        "\n",
        "urllib(mine) sleeping to throttle requests"
       ]
      },
      {
       "output_type": "stream",
       "stream": "stdout",
       "text": [
        "\n",
        "urllib(mine) sleeping to throttle requests"
       ]
      },
      {
       "output_type": "stream",
       "stream": "stdout",
       "text": [
        "\n",
        "urllib(mine) sleeping to throttle requests"
       ]
      },
      {
       "output_type": "stream",
       "stream": "stdout",
       "text": [
        "\n",
        "urllib(mine) sleeping to throttle requests"
       ]
      },
      {
       "output_type": "stream",
       "stream": "stdout",
       "text": [
        "\n",
        "urllib(mine) sleeping to throttle requests"
       ]
      },
      {
       "output_type": "stream",
       "stream": "stdout",
       "text": [
        "\n",
        "urllib(mine) sleeping to throttle requests"
       ]
      },
      {
       "output_type": "stream",
       "stream": "stdout",
       "text": [
        "\n",
        "urllib(mine) sleeping to throttle requests"
       ]
      },
      {
       "output_type": "stream",
       "stream": "stdout",
       "text": [
        "\n",
        "urllib(mine) sleeping to throttle requests"
       ]
      },
      {
       "output_type": "stream",
       "stream": "stdout",
       "text": [
        "\n",
        "urllib(mine) sleeping to throttle requests"
       ]
      },
      {
       "output_type": "stream",
       "stream": "stdout",
       "text": [
        "\n",
        "urllib(mine) sleeping to throttle requests"
       ]
      },
      {
       "output_type": "stream",
       "stream": "stdout",
       "text": [
        "\n",
        "urllib(mine) sleeping to throttle requests"
       ]
      },
      {
       "output_type": "stream",
       "stream": "stdout",
       "text": [
        "\n",
        "urllib(mine) sleeping to throttle requests"
       ]
      },
      {
       "output_type": "stream",
       "stream": "stdout",
       "text": [
        "\n",
        "urllib(mine) sleeping to throttle requests"
       ]
      },
      {
       "output_type": "stream",
       "stream": "stdout",
       "text": [
        "\n",
        "urllib(mine) sleeping to throttle requests"
       ]
      },
      {
       "output_type": "stream",
       "stream": "stdout",
       "text": [
        "\n",
        "urllib(mine) sleeping to throttle requests"
       ]
      },
      {
       "output_type": "stream",
       "stream": "stdout",
       "text": [
        "\n",
        "urllib(mine) sleeping to throttle requests"
       ]
      },
      {
       "output_type": "stream",
       "stream": "stdout",
       "text": [
        "\n",
        "urllib(mine) sleeping to throttle requests"
       ]
      },
      {
       "output_type": "stream",
       "stream": "stdout",
       "text": [
        "\n",
        "urllib(mine) sleeping to throttle requests"
       ]
      },
      {
       "output_type": "stream",
       "stream": "stdout",
       "text": [
        "\n",
        "urllib(mine) sleeping to throttle requests"
       ]
      },
      {
       "output_type": "stream",
       "stream": "stdout",
       "text": [
        "\n",
        "urllib(mine) sleeping to throttle requests"
       ]
      },
      {
       "output_type": "stream",
       "stream": "stdout",
       "text": [
        "\n",
        "urllib(mine) sleeping to throttle requests"
       ]
      },
      {
       "output_type": "stream",
       "stream": "stdout",
       "text": [
        "\n",
        "urllib(mine) sleeping to throttle requests"
       ]
      },
      {
       "output_type": "stream",
       "stream": "stdout",
       "text": [
        "\n",
        "urllib(mine) sleeping to throttle requests"
       ]
      },
      {
       "output_type": "stream",
       "stream": "stdout",
       "text": [
        "\n",
        "urllib(mine) sleeping to throttle requests"
       ]
      },
      {
       "output_type": "stream",
       "stream": "stdout",
       "text": [
        "\n",
        "urllib(mine) sleeping to throttle requests"
       ]
      },
      {
       "output_type": "stream",
       "stream": "stdout",
       "text": [
        "\n",
        "urllib(mine) sleeping to throttle requests"
       ]
      },
      {
       "output_type": "stream",
       "stream": "stdout",
       "text": [
        "\n",
        "urllib(mine) sleeping to throttle requests"
       ]
      },
      {
       "output_type": "stream",
       "stream": "stdout",
       "text": [
        "\n",
        "urllib(mine) sleeping to throttle requests"
       ]
      },
      {
       "output_type": "stream",
       "stream": "stdout",
       "text": [
        "\n",
        "urllib(mine) sleeping to throttle requests"
       ]
      },
      {
       "output_type": "stream",
       "stream": "stdout",
       "text": [
        "\n",
        "urllib(mine) sleeping to throttle requests"
       ]
      },
      {
       "output_type": "stream",
       "stream": "stdout",
       "text": [
        "\n",
        "urllib(mine) sleeping to throttle requests"
       ]
      },
      {
       "output_type": "stream",
       "stream": "stdout",
       "text": [
        "\n",
        "urllib(mine) sleeping to throttle requests"
       ]
      },
      {
       "output_type": "stream",
       "stream": "stdout",
       "text": [
        "\n",
        "urllib(mine) sleeping to throttle requests"
       ]
      },
      {
       "output_type": "stream",
       "stream": "stdout",
       "text": [
        "\n",
        "urllib(mine) sleeping to throttle requests"
       ]
      },
      {
       "output_type": "stream",
       "stream": "stdout",
       "text": [
        "\n",
        "urllib(mine) sleeping to throttle requests"
       ]
      },
      {
       "output_type": "stream",
       "stream": "stdout",
       "text": [
        "\n",
        "urllib(mine) sleeping to throttle requests"
       ]
      },
      {
       "output_type": "stream",
       "stream": "stdout",
       "text": [
        "\n",
        "urllib(mine) sleeping to throttle requests"
       ]
      },
      {
       "output_type": "stream",
       "stream": "stdout",
       "text": [
        "\n",
        "urllib(mine) sleeping to throttle requests"
       ]
      },
      {
       "output_type": "stream",
       "stream": "stdout",
       "text": [
        "\n",
        "urllib(mine) sleeping to throttle requests"
       ]
      },
      {
       "output_type": "stream",
       "stream": "stdout",
       "text": [
        "\n",
        "urllib(mine) sleeping to throttle requests"
       ]
      },
      {
       "output_type": "stream",
       "stream": "stdout",
       "text": [
        "\n",
        "urllib(mine) sleeping to throttle requests"
       ]
      },
      {
       "output_type": "stream",
       "stream": "stdout",
       "text": [
        "\n",
        "urllib(mine) sleeping to throttle requests"
       ]
      },
      {
       "output_type": "stream",
       "stream": "stdout",
       "text": [
        "\n",
        "urllib(mine) sleeping to throttle requests"
       ]
      },
      {
       "output_type": "stream",
       "stream": "stdout",
       "text": [
        "\n",
        "urllib(mine) sleeping to throttle requests"
       ]
      },
      {
       "output_type": "stream",
       "stream": "stdout",
       "text": [
        "\n",
        "urllib(mine) sleeping to throttle requests"
       ]
      },
      {
       "output_type": "stream",
       "stream": "stdout",
       "text": [
        "\n",
        "urllib(mine) sleeping to throttle requests"
       ]
      },
      {
       "output_type": "stream",
       "stream": "stdout",
       "text": [
        "\n",
        "urllib(mine) sleeping to throttle requests"
       ]
      },
      {
       "output_type": "stream",
       "stream": "stdout",
       "text": [
        "\n",
        "urllib(mine) sleeping to throttle requests"
       ]
      },
      {
       "output_type": "stream",
       "stream": "stdout",
       "text": [
        "\n",
        "urllib(mine) sleeping to throttle requests"
       ]
      },
      {
       "output_type": "stream",
       "stream": "stdout",
       "text": [
        "\n",
        "urllib(mine) sleeping to throttle requests"
       ]
      },
      {
       "output_type": "stream",
       "stream": "stdout",
       "text": [
        "\n",
        "urllib(mine) sleeping to throttle requests"
       ]
      },
      {
       "output_type": "stream",
       "stream": "stdout",
       "text": [
        "\n",
        "urllib(mine) sleeping to throttle requests"
       ]
      },
      {
       "output_type": "stream",
       "stream": "stdout",
       "text": [
        "\n",
        "urllib(mine) sleeping to throttle requests"
       ]
      },
      {
       "output_type": "stream",
       "stream": "stdout",
       "text": [
        "\n",
        "urllib(mine) sleeping to throttle requests"
       ]
      },
      {
       "output_type": "stream",
       "stream": "stdout",
       "text": [
        "\n",
        "--------------------------------------"
       ]
      },
      {
       "output_type": "stream",
       "stream": "stdout",
       "text": [
        "\n",
        "Starting friend: xVuWU-ZrerHONUPnyCg3dA\n",
        "--------------------------------------\n",
        "urllib(mine) sleeping to throttle requests\n",
        "--------------------------------------"
       ]
      },
      {
       "output_type": "stream",
       "stream": "stdout",
       "text": [
        "\n",
        "Starting friend: JSQrvnnkcowbmViaVfpP0A\n",
        "--------------------------------------\n",
        "urllib(mine) sleeping to throttle requests\n",
        "urllib(mine) sleeping to throttle requests"
       ]
      },
      {
       "output_type": "stream",
       "stream": "stdout",
       "text": [
        "\n",
        "urllib(mine) sleeping to throttle requests"
       ]
      },
      {
       "output_type": "stream",
       "stream": "stdout",
       "text": [
        "\n",
        "urllib(mine) sleeping to throttle requests"
       ]
      },
      {
       "output_type": "stream",
       "stream": "stdout",
       "text": [
        "\n",
        "urllib(mine) sleeping to throttle requests"
       ]
      },
      {
       "output_type": "stream",
       "stream": "stdout",
       "text": [
        "\n",
        "urllib(mine) sleeping to throttle requests"
       ]
      },
      {
       "output_type": "stream",
       "stream": "stdout",
       "text": [
        "\n",
        "urllib(mine) sleeping to throttle requests"
       ]
      },
      {
       "output_type": "stream",
       "stream": "stdout",
       "text": [
        "\n",
        "urllib(mine) sleeping to throttle requests"
       ]
      },
      {
       "output_type": "stream",
       "stream": "stdout",
       "text": [
        "\n",
        "urllib(mine) sleeping to throttle requests"
       ]
      },
      {
       "output_type": "stream",
       "stream": "stdout",
       "text": [
        "\n",
        "urllib(mine) sleeping to throttle requests"
       ]
      },
      {
       "output_type": "stream",
       "stream": "stdout",
       "text": [
        "\n",
        "urllib(mine) sleeping to throttle requests"
       ]
      },
      {
       "output_type": "stream",
       "stream": "stdout",
       "text": [
        "\n",
        "urllib(mine) sleeping to throttle requests"
       ]
      },
      {
       "output_type": "stream",
       "stream": "stdout",
       "text": [
        "\n",
        "urllib(mine) sleeping to throttle requests"
       ]
      },
      {
       "output_type": "stream",
       "stream": "stdout",
       "text": [
        "\n",
        "urllib(mine) sleeping to throttle requests"
       ]
      },
      {
       "output_type": "stream",
       "stream": "stdout",
       "text": [
        "\n",
        "urllib(mine) sleeping to throttle requests"
       ]
      },
      {
       "output_type": "stream",
       "stream": "stdout",
       "text": [
        "\n",
        "urllib(mine) sleeping to throttle requests"
       ]
      },
      {
       "output_type": "stream",
       "stream": "stdout",
       "text": [
        "\n",
        "urllib(mine) sleeping to throttle requests"
       ]
      },
      {
       "output_type": "stream",
       "stream": "stdout",
       "text": [
        "\n",
        "urllib(mine) sleeping to throttle requests"
       ]
      },
      {
       "output_type": "stream",
       "stream": "stdout",
       "text": [
        "\n",
        "urllib(mine) sleeping to throttle requests"
       ]
      },
      {
       "output_type": "stream",
       "stream": "stdout",
       "text": [
        "\n",
        "urllib(mine) sleeping to throttle requests"
       ]
      },
      {
       "output_type": "stream",
       "stream": "stdout",
       "text": [
        "\n",
        "urllib(mine) sleeping to throttle requests"
       ]
      },
      {
       "output_type": "stream",
       "stream": "stdout",
       "text": [
        "\n",
        "--------------------------------------"
       ]
      },
      {
       "output_type": "stream",
       "stream": "stdout",
       "text": [
        "\n",
        "Starting friend: Ci-wibF4h9QgutIkKHaXQw\n",
        "--------------------------------------\n",
        "urllib(mine) sleeping to throttle requests\n",
        "urllib(mine) sleeping to throttle requests"
       ]
      },
      {
       "output_type": "stream",
       "stream": "stdout",
       "text": [
        "\n",
        "--------------------------------------"
       ]
      },
      {
       "output_type": "stream",
       "stream": "stdout",
       "text": [
        "\n",
        "Starting friend: 5X_-SKfzrasoDxNBJmaLzg\n",
        "--------------------------------------\n",
        "urllib(mine) sleeping to throttle requests\n",
        "urllib(mine) sleeping to throttle requests"
       ]
      },
      {
       "output_type": "stream",
       "stream": "stdout",
       "text": [
        "\n",
        "urllib(mine) sleeping to throttle requests"
       ]
      },
      {
       "output_type": "stream",
       "stream": "stdout",
       "text": [
        "\n",
        "urllib(mine) sleeping to throttle requests"
       ]
      },
      {
       "output_type": "stream",
       "stream": "stdout",
       "text": [
        "\n",
        "urllib(mine) sleeping to throttle requests"
       ]
      },
      {
       "output_type": "stream",
       "stream": "stdout",
       "text": [
        "\n",
        "urllib(mine) sleeping to throttle requests"
       ]
      },
      {
       "output_type": "stream",
       "stream": "stdout",
       "text": [
        "\n",
        "urllib(mine) sleeping to throttle requests"
       ]
      },
      {
       "output_type": "stream",
       "stream": "stdout",
       "text": [
        "\n",
        "urllib(mine) sleeping to throttle requests"
       ]
      },
      {
       "output_type": "stream",
       "stream": "stdout",
       "text": [
        "\n",
        "urllib(mine) sleeping to throttle requests"
       ]
      },
      {
       "output_type": "stream",
       "stream": "stdout",
       "text": [
        "\n",
        "--------------------------------------"
       ]
      },
      {
       "output_type": "stream",
       "stream": "stdout",
       "text": [
        "\n",
        "Starting friend: xbddTNpLvTT-Xar1jp4o2w\n",
        "--------------------------------------\n",
        "urllib(mine) sleeping to throttle requests\n",
        "--------------------------------------"
       ]
      },
      {
       "output_type": "stream",
       "stream": "stdout",
       "text": [
        "\n",
        "Starting friend: kEdYVivta6SG6jDe5tlfXw\n",
        "--------------------------------------\n",
        "urllib(mine) sleeping to throttle requests\n",
        "urllib(mine) sleeping to throttle requests"
       ]
      },
      {
       "output_type": "stream",
       "stream": "stdout",
       "text": [
        "\n",
        "urllib(mine) sleeping to throttle requests"
       ]
      },
      {
       "output_type": "stream",
       "stream": "stdout",
       "text": [
        "\n",
        "urllib(mine) sleeping to throttle requests"
       ]
      },
      {
       "output_type": "stream",
       "stream": "stdout",
       "text": [
        "\n",
        "--------------------------------------"
       ]
      },
      {
       "output_type": "stream",
       "stream": "stdout",
       "text": [
        "\n",
        "Starting friend: RJDC2uqaDPvRQX8lUV-CXg\n",
        "--------------------------------------\n",
        "urllib(mine) sleeping to throttle requests\n",
        "urllib(mine) sleeping to throttle requests"
       ]
      },
      {
       "output_type": "stream",
       "stream": "stdout",
       "text": [
        "\n",
        "--------------------------------------"
       ]
      },
      {
       "output_type": "stream",
       "stream": "stdout",
       "text": [
        "\n",
        "Starting friend: zXnCeJdntgtleHaSr8RIow\n",
        "--------------------------------------\n",
        "urllib(mine) sleeping to throttle requests\n",
        "--------------------------------------"
       ]
      },
      {
       "output_type": "stream",
       "stream": "stdout",
       "text": [
        "\n",
        "Starting friend: 9uTlBea8MUdQMqO3RkukXg\n",
        "--------------------------------------\n",
        "urllib(mine) sleeping to throttle requests\n",
        "urllib(mine) sleeping to throttle requests"
       ]
      },
      {
       "output_type": "stream",
       "stream": "stdout",
       "text": [
        "\n",
        "urllib(mine) sleeping to throttle requests"
       ]
      },
      {
       "output_type": "stream",
       "stream": "stdout",
       "text": [
        "\n",
        "urllib(mine) sleeping to throttle requests"
       ]
      },
      {
       "output_type": "stream",
       "stream": "stdout",
       "text": [
        "\n",
        "urllib(mine) sleeping to throttle requests"
       ]
      },
      {
       "output_type": "stream",
       "stream": "stdout",
       "text": [
        "\n",
        "urllib(mine) sleeping to throttle requests"
       ]
      },
      {
       "output_type": "stream",
       "stream": "stdout",
       "text": [
        "\n",
        "urllib(mine) sleeping to throttle requests"
       ]
      },
      {
       "output_type": "stream",
       "stream": "stdout",
       "text": [
        "\n",
        "urllib(mine) sleeping to throttle requests"
       ]
      },
      {
       "output_type": "stream",
       "stream": "stdout",
       "text": [
        "\n",
        "urllib(mine) sleeping to throttle requests"
       ]
      },
      {
       "output_type": "stream",
       "stream": "stdout",
       "text": [
        "\n",
        "--------------------------------------"
       ]
      },
      {
       "output_type": "stream",
       "stream": "stdout",
       "text": [
        "\n",
        "Starting friend: 76nE3rrVtDBHV-n-YIdpUw\n",
        "--------------------------------------\n",
        "urllib(mine) sleeping to throttle requests\n",
        "urllib(mine) sleeping to throttle requests"
       ]
      },
      {
       "output_type": "stream",
       "stream": "stdout",
       "text": [
        "\n",
        "--------------------------------------"
       ]
      },
      {
       "output_type": "stream",
       "stream": "stdout",
       "text": [
        "\n",
        "Starting friend: 638NIIIDkd2WXGPSzmFThA\n",
        "--------------------------------------\n",
        "urllib(mine) sleeping to throttle requests\n",
        "urllib(mine) sleeping to throttle requests"
       ]
      },
      {
       "output_type": "stream",
       "stream": "stdout",
       "text": [
        "\n",
        "--------------------------------------"
       ]
      },
      {
       "output_type": "stream",
       "stream": "stdout",
       "text": [
        "\n",
        "Starting friend: T2JNg4I6Z9rTNJ4L23YAQg\n",
        "--------------------------------------\n",
        "urllib(mine) sleeping to throttle requests\n",
        "urllib(mine) sleeping to throttle requests"
       ]
      },
      {
       "output_type": "stream",
       "stream": "stdout",
       "text": [
        "\n",
        "urllib(mine) sleeping to throttle requests"
       ]
      },
      {
       "output_type": "stream",
       "stream": "stdout",
       "text": [
        "\n",
        "urllib(mine) sleeping to throttle requests"
       ]
      },
      {
       "output_type": "stream",
       "stream": "stdout",
       "text": [
        "\n",
        "urllib(mine) sleeping to throttle requests"
       ]
      },
      {
       "output_type": "stream",
       "stream": "stdout",
       "text": [
        "\n",
        "urllib(mine) sleeping to throttle requests"
       ]
      },
      {
       "output_type": "stream",
       "stream": "stdout",
       "text": [
        "\n",
        "--------------------------------------"
       ]
      },
      {
       "output_type": "stream",
       "stream": "stdout",
       "text": [
        "\n",
        "Starting friend: F-dCmz6R-MRgazMyWwgMUQ\n",
        "--------------------------------------\n",
        "urllib(mine) sleeping to throttle requests\n",
        "urllib(mine) sleeping to throttle requests"
       ]
      },
      {
       "output_type": "stream",
       "stream": "stdout",
       "text": [
        "\n",
        "urllib(mine) sleeping to throttle requests"
       ]
      },
      {
       "output_type": "stream",
       "stream": "stdout",
       "text": [
        "\n",
        "urllib(mine) sleeping to throttle requests"
       ]
      },
      {
       "output_type": "stream",
       "stream": "stdout",
       "text": [
        "\n",
        "urllib(mine) sleeping to throttle requests"
       ]
      },
      {
       "output_type": "stream",
       "stream": "stdout",
       "text": [
        "\n",
        "urllib(mine) sleeping to throttle requests"
       ]
      },
      {
       "output_type": "stream",
       "stream": "stdout",
       "text": [
        "\n",
        "urllib(mine) sleeping to throttle requests"
       ]
      },
      {
       "output_type": "stream",
       "stream": "stdout",
       "text": [
        "\n",
        "urllib(mine) sleeping to throttle requests"
       ]
      },
      {
       "output_type": "stream",
       "stream": "stdout",
       "text": [
        "\n",
        "urllib(mine) sleeping to throttle requests"
       ]
      },
      {
       "output_type": "stream",
       "stream": "stdout",
       "text": [
        "\n",
        "--------------------------------------"
       ]
      },
      {
       "output_type": "stream",
       "stream": "stdout",
       "text": [
        "\n",
        "Starting friend: JNWT1jniA2dvtkBHT3g2sQ\n",
        "--------------------------------------\n",
        "urllib(mine) sleeping to throttle requests\n",
        "urllib(mine) sleeping to throttle requests"
       ]
      },
      {
       "output_type": "stream",
       "stream": "stdout",
       "text": [
        "\n",
        "urllib(mine) sleeping to throttle requests"
       ]
      },
      {
       "output_type": "stream",
       "stream": "stdout",
       "text": [
        "\n",
        "urllib(mine) sleeping to throttle requests"
       ]
      },
      {
       "output_type": "stream",
       "stream": "stdout",
       "text": [
        "\n",
        "urllib(mine) sleeping to throttle requests"
       ]
      },
      {
       "output_type": "stream",
       "stream": "stdout",
       "text": [
        "\n",
        "urllib(mine) sleeping to throttle requests"
       ]
      },
      {
       "output_type": "stream",
       "stream": "stdout",
       "text": [
        "\n",
        "urllib(mine) sleeping to throttle requests"
       ]
      },
      {
       "output_type": "stream",
       "stream": "stdout",
       "text": [
        "\n",
        "urllib(mine) sleeping to throttle requests"
       ]
      },
      {
       "output_type": "stream",
       "stream": "stdout",
       "text": [
        "\n",
        "urllib(mine) sleeping to throttle requests"
       ]
      },
      {
       "output_type": "stream",
       "stream": "stdout",
       "text": [
        "\n",
        "urllib(mine) sleeping to throttle requests"
       ]
      },
      {
       "output_type": "stream",
       "stream": "stdout",
       "text": [
        "\n",
        "urllib(mine) sleeping to throttle requests"
       ]
      },
      {
       "output_type": "stream",
       "stream": "stdout",
       "text": [
        "\n",
        "urllib(mine) sleeping to throttle requests"
       ]
      },
      {
       "output_type": "stream",
       "stream": "stdout",
       "text": [
        "\n",
        "urllib(mine) sleeping to throttle requests"
       ]
      },
      {
       "output_type": "stream",
       "stream": "stdout",
       "text": [
        "\n",
        "urllib(mine) sleeping to throttle requests"
       ]
      },
      {
       "output_type": "stream",
       "stream": "stdout",
       "text": [
        "\n",
        "urllib(mine) sleeping to throttle requests"
       ]
      },
      {
       "output_type": "stream",
       "stream": "stdout",
       "text": [
        "\n",
        "--------------------------------------"
       ]
      },
      {
       "output_type": "stream",
       "stream": "stdout",
       "text": [
        "\n",
        "Starting friend: 2BrTB8EW-jSHzIO0qm9H_A\n",
        "--------------------------------------\n",
        "urllib(mine) sleeping to throttle requests\n",
        "urllib(mine) sleeping to throttle requests"
       ]
      },
      {
       "output_type": "stream",
       "stream": "stdout",
       "text": [
        "\n",
        "urllib(mine) sleeping to throttle requests"
       ]
      },
      {
       "output_type": "stream",
       "stream": "stdout",
       "text": [
        "\n",
        "urllib(mine) sleeping to throttle requests"
       ]
      },
      {
       "output_type": "stream",
       "stream": "stdout",
       "text": [
        "\n",
        "--------------------------------------"
       ]
      },
      {
       "output_type": "stream",
       "stream": "stdout",
       "text": [
        "\n",
        "Starting friend: ittN9yxMPZveUksGt3sp0w\n",
        "--------------------------------------\n",
        "urllib(mine) sleeping to throttle requests\n",
        "urllib(mine) sleeping to throttle requests"
       ]
      },
      {
       "output_type": "stream",
       "stream": "stdout",
       "text": [
        "\n",
        "urllib(mine) sleeping to throttle requests"
       ]
      },
      {
       "output_type": "stream",
       "stream": "stdout",
       "text": [
        "\n",
        "urllib(mine) sleeping to throttle requests"
       ]
      },
      {
       "output_type": "stream",
       "stream": "stdout",
       "text": [
        "\n",
        "urllib(mine) sleeping to throttle requests"
       ]
      },
      {
       "output_type": "stream",
       "stream": "stdout",
       "text": [
        "\n",
        "urllib(mine) sleeping to throttle requests"
       ]
      },
      {
       "output_type": "stream",
       "stream": "stdout",
       "text": [
        "\n",
        "urllib(mine) sleeping to throttle requests"
       ]
      },
      {
       "output_type": "stream",
       "stream": "stdout",
       "text": [
        "\n",
        "urllib(mine) sleeping to throttle requests"
       ]
      },
      {
       "output_type": "stream",
       "stream": "stdout",
       "text": [
        "\n",
        "urllib(mine) sleeping to throttle requests"
       ]
      },
      {
       "output_type": "stream",
       "stream": "stdout",
       "text": [
        "\n",
        "urllib(mine) sleeping to throttle requests"
       ]
      },
      {
       "output_type": "stream",
       "stream": "stdout",
       "text": [
        "\n",
        "urllib(mine) sleeping to throttle requests"
       ]
      },
      {
       "output_type": "stream",
       "stream": "stdout",
       "text": [
        "\n",
        "--------------------------------------"
       ]
      },
      {
       "output_type": "stream",
       "stream": "stdout",
       "text": [
        "\n",
        "Starting friend: um6PWJOS4oNanCp3ypaQKQ\n",
        "--------------------------------------\n",
        "urllib(mine) sleeping to throttle requests\n",
        "urllib(mine) sleeping to throttle requests"
       ]
      },
      {
       "output_type": "stream",
       "stream": "stdout",
       "text": [
        "\n",
        "urllib(mine) sleeping to throttle requests"
       ]
      },
      {
       "output_type": "stream",
       "stream": "stdout",
       "text": [
        "\n",
        "urllib(mine) sleeping to throttle requests"
       ]
      },
      {
       "output_type": "stream",
       "stream": "stdout",
       "text": [
        "\n",
        "urllib(mine) sleeping to throttle requests"
       ]
      },
      {
       "output_type": "stream",
       "stream": "stdout",
       "text": [
        "\n",
        "urllib(mine) sleeping to throttle requests"
       ]
      },
      {
       "output_type": "stream",
       "stream": "stdout",
       "text": [
        "\n",
        "urllib(mine) sleeping to throttle requests"
       ]
      },
      {
       "output_type": "stream",
       "stream": "stdout",
       "text": [
        "\n",
        "urllib(mine) sleeping to throttle requests"
       ]
      },
      {
       "output_type": "stream",
       "stream": "stdout",
       "text": [
        "\n",
        "urllib(mine) sleeping to throttle requests"
       ]
      },
      {
       "output_type": "stream",
       "stream": "stdout",
       "text": [
        "\n",
        "urllib(mine) sleeping to throttle requests"
       ]
      },
      {
       "output_type": "stream",
       "stream": "stdout",
       "text": [
        "\n",
        "urllib(mine) sleeping to throttle requests"
       ]
      },
      {
       "output_type": "stream",
       "stream": "stdout",
       "text": [
        "\n",
        "urllib(mine) sleeping to throttle requests"
       ]
      },
      {
       "output_type": "stream",
       "stream": "stdout",
       "text": [
        "\n",
        "urllib(mine) sleeping to throttle requests"
       ]
      },
      {
       "output_type": "stream",
       "stream": "stdout",
       "text": [
        "\n",
        "--------------------------------------"
       ]
      },
      {
       "output_type": "stream",
       "stream": "stdout",
       "text": [
        "\n",
        "Starting friend: RZJd7l-GyqHT24F7dQFT2w\n",
        "--------------------------------------\n",
        "urllib(mine) sleeping to throttle requests\n",
        "urllib(mine) sleeping to throttle requests"
       ]
      },
      {
       "output_type": "stream",
       "stream": "stdout",
       "text": [
        "\n",
        "urllib(mine) sleeping to throttle requests"
       ]
      },
      {
       "output_type": "stream",
       "stream": "stdout",
       "text": [
        "\n",
        "urllib(mine) sleeping to throttle requests"
       ]
      },
      {
       "output_type": "stream",
       "stream": "stdout",
       "text": [
        "\n",
        "urllib(mine) sleeping to throttle requests"
       ]
      },
      {
       "output_type": "stream",
       "stream": "stdout",
       "text": [
        "\n",
        "urllib(mine) sleeping to throttle requests"
       ]
      },
      {
       "output_type": "stream",
       "stream": "stdout",
       "text": [
        "\n",
        "urllib(mine) sleeping to throttle requests"
       ]
      },
      {
       "output_type": "stream",
       "stream": "stdout",
       "text": [
        "\n",
        "urllib(mine) sleeping to throttle requests"
       ]
      },
      {
       "output_type": "stream",
       "stream": "stdout",
       "text": [
        "\n",
        "urllib(mine) sleeping to throttle requests"
       ]
      },
      {
       "output_type": "stream",
       "stream": "stdout",
       "text": [
        "\n",
        "urllib(mine) sleeping to throttle requests"
       ]
      },
      {
       "output_type": "stream",
       "stream": "stdout",
       "text": [
        "\n",
        "urllib(mine) sleeping to throttle requests"
       ]
      },
      {
       "output_type": "stream",
       "stream": "stdout",
       "text": [
        "\n",
        "urllib(mine) sleeping to throttle requests"
       ]
      },
      {
       "output_type": "stream",
       "stream": "stdout",
       "text": [
        "\n",
        "urllib(mine) sleeping to throttle requests"
       ]
      },
      {
       "output_type": "stream",
       "stream": "stdout",
       "text": [
        "\n",
        "urllib(mine) sleeping to throttle requests"
       ]
      },
      {
       "output_type": "stream",
       "stream": "stdout",
       "text": [
        "\n",
        "urllib(mine) sleeping to throttle requests"
       ]
      },
      {
       "output_type": "stream",
       "stream": "stdout",
       "text": [
        "\n",
        "urllib(mine) sleeping to throttle requests"
       ]
      },
      {
       "output_type": "stream",
       "stream": "stdout",
       "text": [
        "\n",
        "urllib(mine) sleeping to throttle requests"
       ]
      },
      {
       "output_type": "stream",
       "stream": "stdout",
       "text": [
        "\n",
        "urllib(mine) sleeping to throttle requests"
       ]
      },
      {
       "output_type": "stream",
       "stream": "stdout",
       "text": [
        "\n",
        "--------------------------------------"
       ]
      },
      {
       "output_type": "stream",
       "stream": "stdout",
       "text": [
        "\n",
        "Starting friend: -VMu2mJJDcOEw1DG3CbUkA\n",
        "--------------------------------------\n",
        "urllib(mine) sleeping to throttle requests\n",
        "urllib(mine) sleeping to throttle requests"
       ]
      },
      {
       "output_type": "stream",
       "stream": "stdout",
       "text": [
        "\n",
        "urllib(mine) sleeping to throttle requests"
       ]
      },
      {
       "output_type": "stream",
       "stream": "stdout",
       "text": [
        "\n",
        "--------------------------------------"
       ]
      },
      {
       "output_type": "stream",
       "stream": "stdout",
       "text": [
        "\n",
        "Starting friend: X8zC_KmIs9Up8UHc6S1xAQ\n",
        "--------------------------------------\n",
        "urllib(mine) sleeping to throttle requests\n",
        "--------------------------------------"
       ]
      },
      {
       "output_type": "stream",
       "stream": "stdout",
       "text": [
        "\n",
        "Starting friend: n_SufC7Ghp5-fgEc1QKTVQ\n",
        "--------------------------------------\n",
        "urllib(mine) sleeping to throttle requests\n",
        "--------------------------------------"
       ]
      },
      {
       "output_type": "stream",
       "stream": "stdout",
       "text": [
        "\n",
        "Starting friend: irvrA7mRB57LFxyqrealcA\n",
        "--------------------------------------\n",
        "urllib(mine) sleeping to throttle requests\n",
        "--------------------------------------"
       ]
      },
      {
       "output_type": "stream",
       "stream": "stdout",
       "text": [
        "\n",
        "Starting friend: d3B5yt0RZsl06awdiZkXoA\n",
        "--------------------------------------\n",
        "urllib(mine) sleeping to throttle requests\n",
        "urllib(mine) sleeping to throttle requests"
       ]
      },
      {
       "output_type": "stream",
       "stream": "stdout",
       "text": [
        "\n",
        "urllib(mine) sleeping to throttle requests"
       ]
      },
      {
       "output_type": "stream",
       "stream": "stdout",
       "text": [
        "\n",
        "urllib(mine) sleeping to throttle requests"
       ]
      },
      {
       "output_type": "stream",
       "stream": "stdout",
       "text": [
        "\n",
        "urllib(mine) sleeping to throttle requests"
       ]
      },
      {
       "output_type": "stream",
       "stream": "stdout",
       "text": [
        "\n",
        "urllib(mine) sleeping to throttle requests"
       ]
      },
      {
       "output_type": "stream",
       "stream": "stdout",
       "text": [
        "\n",
        "urllib(mine) sleeping to throttle requests"
       ]
      },
      {
       "output_type": "stream",
       "stream": "stdout",
       "text": [
        "\n",
        "urllib(mine) sleeping to throttle requests"
       ]
      },
      {
       "output_type": "stream",
       "stream": "stdout",
       "text": [
        "\n",
        "urllib(mine) sleeping to throttle requests"
       ]
      },
      {
       "output_type": "stream",
       "stream": "stdout",
       "text": [
        "\n",
        "urllib(mine) sleeping to throttle requests"
       ]
      },
      {
       "output_type": "stream",
       "stream": "stdout",
       "text": [
        "\n",
        "urllib(mine) sleeping to throttle requests"
       ]
      },
      {
       "output_type": "stream",
       "stream": "stdout",
       "text": [
        "\n",
        "urllib(mine) sleeping to throttle requests"
       ]
      },
      {
       "output_type": "stream",
       "stream": "stdout",
       "text": [
        "\n",
        "--------------------------------------"
       ]
      },
      {
       "output_type": "stream",
       "stream": "stdout",
       "text": [
        "\n",
        "Starting friend: FnDttHrOrL-KADXxbeVeLQ\n",
        "--------------------------------------\n",
        "urllib(mine) sleeping to throttle requests\n",
        "urllib(mine) sleeping to throttle requests"
       ]
      },
      {
       "output_type": "stream",
       "stream": "stdout",
       "text": [
        "\n",
        "urllib(mine) sleeping to throttle requests"
       ]
      },
      {
       "output_type": "stream",
       "stream": "stdout",
       "text": [
        "\n",
        "urllib(mine) sleeping to throttle requests"
       ]
      },
      {
       "output_type": "stream",
       "stream": "stdout",
       "text": [
        "\n",
        "urllib(mine) sleeping to throttle requests"
       ]
      },
      {
       "output_type": "stream",
       "stream": "stdout",
       "text": [
        "\n",
        "--------------------------------------"
       ]
      },
      {
       "output_type": "stream",
       "stream": "stdout",
       "text": [
        "\n",
        "Starting friend: bXjywxQEN-TPs99IG2s6EA\n",
        "--------------------------------------\n",
        "urllib(mine) sleeping to throttle requests\n",
        "urllib(mine) sleeping to throttle requests"
       ]
      },
      {
       "output_type": "stream",
       "stream": "stdout",
       "text": [
        "\n",
        "urllib(mine) sleeping to throttle requests"
       ]
      },
      {
       "output_type": "stream",
       "stream": "stdout",
       "text": [
        "\n",
        "urllib(mine) sleeping to throttle requests"
       ]
      },
      {
       "output_type": "stream",
       "stream": "stdout",
       "text": [
        "\n",
        "urllib(mine) sleeping to throttle requests"
       ]
      },
      {
       "output_type": "stream",
       "stream": "stdout",
       "text": [
        "\n",
        "urllib(mine) sleeping to throttle requests"
       ]
      },
      {
       "output_type": "stream",
       "stream": "stdout",
       "text": [
        "\n",
        "urllib(mine) sleeping to throttle requests"
       ]
      },
      {
       "output_type": "stream",
       "stream": "stdout",
       "text": [
        "\n",
        "urllib(mine) sleeping to throttle requests"
       ]
      },
      {
       "output_type": "stream",
       "stream": "stdout",
       "text": [
        "\n",
        "urllib(mine) sleeping to throttle requests"
       ]
      },
      {
       "output_type": "stream",
       "stream": "stdout",
       "text": [
        "\n",
        "urllib(mine) sleeping to throttle requests"
       ]
      },
      {
       "output_type": "stream",
       "stream": "stdout",
       "text": [
        "\n",
        "urllib(mine) sleeping to throttle requests"
       ]
      },
      {
       "output_type": "stream",
       "stream": "stdout",
       "text": [
        "\n",
        "urllib(mine) sleeping to throttle requests"
       ]
      },
      {
       "output_type": "stream",
       "stream": "stdout",
       "text": [
        "\n",
        "urllib(mine) sleeping to throttle requests"
       ]
      },
      {
       "output_type": "stream",
       "stream": "stdout",
       "text": [
        "\n",
        "urllib(mine) sleeping to throttle requests"
       ]
      },
      {
       "output_type": "stream",
       "stream": "stdout",
       "text": [
        "\n",
        "urllib(mine) sleeping to throttle requests"
       ]
      },
      {
       "output_type": "stream",
       "stream": "stdout",
       "text": [
        "\n",
        "urllib(mine) sleeping to throttle requests"
       ]
      },
      {
       "output_type": "stream",
       "stream": "stdout",
       "text": [
        "\n",
        "urllib(mine) sleeping to throttle requests"
       ]
      },
      {
       "output_type": "stream",
       "stream": "stdout",
       "text": [
        "\n",
        "urllib(mine) sleeping to throttle requests"
       ]
      },
      {
       "output_type": "stream",
       "stream": "stdout",
       "text": [
        "\n",
        "urllib(mine) sleeping to throttle requests"
       ]
      },
      {
       "output_type": "stream",
       "stream": "stdout",
       "text": [
        "\n",
        "urllib(mine) sleeping to throttle requests"
       ]
      },
      {
       "output_type": "stream",
       "stream": "stdout",
       "text": [
        "\n",
        "urllib(mine) sleeping to throttle requests"
       ]
      },
      {
       "output_type": "stream",
       "stream": "stdout",
       "text": [
        "\n",
        "urllib(mine) sleeping to throttle requests"
       ]
      },
      {
       "output_type": "stream",
       "stream": "stdout",
       "text": [
        "\n",
        "urllib(mine) sleeping to throttle requests"
       ]
      },
      {
       "output_type": "stream",
       "stream": "stdout",
       "text": [
        "\n",
        "urllib(mine) sleeping to throttle requests"
       ]
      },
      {
       "output_type": "stream",
       "stream": "stdout",
       "text": [
        "\n",
        "urllib(mine) sleeping to throttle requests"
       ]
      },
      {
       "output_type": "stream",
       "stream": "stdout",
       "text": [
        "\n",
        "urllib(mine) sleeping to throttle requests"
       ]
      },
      {
       "output_type": "stream",
       "stream": "stdout",
       "text": [
        "\n",
        "urllib(mine) sleeping to throttle requests"
       ]
      },
      {
       "output_type": "stream",
       "stream": "stdout",
       "text": [
        "\n",
        "urllib(mine) sleeping to throttle requests"
       ]
      },
      {
       "output_type": "stream",
       "stream": "stdout",
       "text": [
        "\n",
        "urllib(mine) sleeping to throttle requests"
       ]
      },
      {
       "output_type": "stream",
       "stream": "stdout",
       "text": [
        "\n",
        "urllib(mine) sleeping to throttle requests"
       ]
      },
      {
       "output_type": "stream",
       "stream": "stdout",
       "text": [
        "\n",
        "urllib(mine) sleeping to throttle requests"
       ]
      },
      {
       "output_type": "stream",
       "stream": "stdout",
       "text": [
        "\n",
        "urllib(mine) sleeping to throttle requests"
       ]
      },
      {
       "output_type": "stream",
       "stream": "stdout",
       "text": [
        "\n",
        "--------------------------------------"
       ]
      },
      {
       "output_type": "stream",
       "stream": "stdout",
       "text": [
        "\n",
        "Starting friend: 66nqONB1DvpXFQRvkQI5mQ\n",
        "--------------------------------------\n",
        "urllib(mine) sleeping to throttle requests\n",
        "--------------------------------------"
       ]
      },
      {
       "output_type": "stream",
       "stream": "stdout",
       "text": [
        "\n",
        "Starting friend: 7l-TAbiUAeROPjst0p2Icg\n",
        "--------------------------------------\n",
        "urllib(mine) sleeping to throttle requests\n",
        "urllib(mine) sleeping to throttle requests"
       ]
      },
      {
       "output_type": "stream",
       "stream": "stdout",
       "text": [
        "\n",
        "--------------------------------------"
       ]
      },
      {
       "output_type": "stream",
       "stream": "stdout",
       "text": [
        "\n",
        "Starting friend: LzCRz1uoWS6YPNFLcKzrGg\n",
        "--------------------------------------\n",
        "urllib(mine) sleeping to throttle requests\n",
        "urllib(mine) sleeping to throttle requests"
       ]
      },
      {
       "output_type": "stream",
       "stream": "stdout",
       "text": [
        "\n",
        "urllib(mine) sleeping to throttle requests"
       ]
      },
      {
       "output_type": "stream",
       "stream": "stdout",
       "text": [
        "\n",
        "urllib(mine) sleeping to throttle requests"
       ]
      },
      {
       "output_type": "stream",
       "stream": "stdout",
       "text": [
        "\n",
        "urllib(mine) sleeping to throttle requests"
       ]
      },
      {
       "output_type": "stream",
       "stream": "stdout",
       "text": [
        "\n",
        "urllib(mine) sleeping to throttle requests"
       ]
      },
      {
       "output_type": "stream",
       "stream": "stdout",
       "text": [
        "\n",
        "urllib(mine) sleeping to throttle requests"
       ]
      },
      {
       "output_type": "stream",
       "stream": "stdout",
       "text": [
        "\n",
        "urllib(mine) sleeping to throttle requests"
       ]
      },
      {
       "output_type": "stream",
       "stream": "stdout",
       "text": [
        "\n",
        "urllib(mine) sleeping to throttle requests"
       ]
      },
      {
       "output_type": "stream",
       "stream": "stdout",
       "text": [
        "\n",
        "urllib(mine) sleeping to throttle requests"
       ]
      },
      {
       "output_type": "stream",
       "stream": "stdout",
       "text": [
        "\n",
        "urllib(mine) sleeping to throttle requests"
       ]
      },
      {
       "output_type": "stream",
       "stream": "stdout",
       "text": [
        "\n",
        "urllib(mine) sleeping to throttle requests"
       ]
      },
      {
       "output_type": "stream",
       "stream": "stdout",
       "text": [
        "\n",
        "urllib(mine) sleeping to throttle requests"
       ]
      },
      {
       "output_type": "stream",
       "stream": "stdout",
       "text": [
        "\n",
        "urllib(mine) sleeping to throttle requests"
       ]
      },
      {
       "output_type": "stream",
       "stream": "stdout",
       "text": [
        "\n",
        "urllib(mine) sleeping to throttle requests"
       ]
      },
      {
       "output_type": "stream",
       "stream": "stdout",
       "text": [
        "\n",
        "urllib(mine) sleeping to throttle requests"
       ]
      },
      {
       "output_type": "stream",
       "stream": "stdout",
       "text": [
        "\n",
        "urllib(mine) sleeping to throttle requests"
       ]
      },
      {
       "output_type": "stream",
       "stream": "stdout",
       "text": [
        "\n",
        "urllib(mine) sleeping to throttle requests"
       ]
      },
      {
       "output_type": "stream",
       "stream": "stdout",
       "text": [
        "\n",
        "urllib(mine) sleeping to throttle requests"
       ]
      },
      {
       "output_type": "stream",
       "stream": "stdout",
       "text": [
        "\n",
        "urllib(mine) sleeping to throttle requests"
       ]
      },
      {
       "output_type": "stream",
       "stream": "stdout",
       "text": [
        "\n",
        "urllib(mine) sleeping to throttle requests"
       ]
      },
      {
       "output_type": "stream",
       "stream": "stdout",
       "text": [
        "\n",
        "urllib(mine) sleeping to throttle requests"
       ]
      },
      {
       "output_type": "stream",
       "stream": "stdout",
       "text": [
        "\n",
        "urllib(mine) sleeping to throttle requests"
       ]
      },
      {
       "output_type": "stream",
       "stream": "stdout",
       "text": [
        "\n",
        "urllib(mine) sleeping to throttle requests"
       ]
      },
      {
       "output_type": "stream",
       "stream": "stdout",
       "text": [
        "\n",
        "urllib(mine) sleeping to throttle requests"
       ]
      },
      {
       "output_type": "stream",
       "stream": "stdout",
       "text": [
        "\n",
        "urllib(mine) sleeping to throttle requests"
       ]
      },
      {
       "output_type": "stream",
       "stream": "stdout",
       "text": [
        "\n",
        "urllib(mine) sleeping to throttle requests"
       ]
      },
      {
       "output_type": "stream",
       "stream": "stdout",
       "text": [
        "\n",
        "urllib(mine) sleeping to throttle requests"
       ]
      },
      {
       "output_type": "stream",
       "stream": "stdout",
       "text": [
        "\n",
        "urllib(mine) sleeping to throttle requests"
       ]
      },
      {
       "output_type": "stream",
       "stream": "stdout",
       "text": [
        "\n",
        "urllib(mine) sleeping to throttle requests"
       ]
      },
      {
       "output_type": "stream",
       "stream": "stdout",
       "text": [
        "\n",
        "urllib(mine) sleeping to throttle requests"
       ]
      },
      {
       "output_type": "stream",
       "stream": "stdout",
       "text": [
        "\n",
        "urllib(mine) sleeping to throttle requests"
       ]
      },
      {
       "output_type": "stream",
       "stream": "stdout",
       "text": [
        "\n",
        "urllib(mine) sleeping to throttle requests"
       ]
      },
      {
       "output_type": "stream",
       "stream": "stdout",
       "text": [
        "\n",
        "urllib(mine) sleeping to throttle requests"
       ]
      },
      {
       "output_type": "stream",
       "stream": "stdout",
       "text": [
        "\n",
        "urllib(mine) sleeping to throttle requests"
       ]
      },
      {
       "output_type": "stream",
       "stream": "stdout",
       "text": [
        "\n",
        "urllib(mine) sleeping to throttle requests"
       ]
      },
      {
       "output_type": "stream",
       "stream": "stdout",
       "text": [
        "\n",
        "urllib(mine) sleeping to throttle requests"
       ]
      },
      {
       "output_type": "stream",
       "stream": "stdout",
       "text": [
        "\n",
        "urllib(mine) sleeping to throttle requests"
       ]
      },
      {
       "output_type": "stream",
       "stream": "stdout",
       "text": [
        "\n",
        "urllib(mine) sleeping to throttle requests"
       ]
      },
      {
       "output_type": "stream",
       "stream": "stdout",
       "text": [
        "\n",
        "urllib(mine) sleeping to throttle requests"
       ]
      },
      {
       "output_type": "stream",
       "stream": "stdout",
       "text": [
        "\n",
        "urllib(mine) sleeping to throttle requests"
       ]
      },
      {
       "output_type": "stream",
       "stream": "stdout",
       "text": [
        "\n",
        "urllib(mine) sleeping to throttle requests"
       ]
      },
      {
       "output_type": "stream",
       "stream": "stdout",
       "text": [
        "\n",
        "--------------------------------------"
       ]
      },
      {
       "output_type": "stream",
       "stream": "stdout",
       "text": [
        "\n",
        "Starting friend: 0iISgp12hYhVpLinm1Jofg\n",
        "--------------------------------------\n",
        "urllib(mine) sleeping to throttle requests\n",
        "urllib(mine) sleeping to throttle requests"
       ]
      },
      {
       "output_type": "stream",
       "stream": "stdout",
       "text": [
        "\n",
        "urllib(mine) sleeping to throttle requests"
       ]
      },
      {
       "output_type": "stream",
       "stream": "stdout",
       "text": [
        "\n",
        "urllib(mine) sleeping to throttle requests"
       ]
      },
      {
       "output_type": "stream",
       "stream": "stdout",
       "text": [
        "\n",
        "urllib(mine) sleeping to throttle requests"
       ]
      },
      {
       "output_type": "stream",
       "stream": "stdout",
       "text": [
        "\n",
        "urllib(mine) sleeping to throttle requests"
       ]
      },
      {
       "output_type": "stream",
       "stream": "stdout",
       "text": [
        "\n",
        "urllib(mine) sleeping to throttle requests"
       ]
      },
      {
       "output_type": "stream",
       "stream": "stdout",
       "text": [
        "\n",
        "urllib(mine) sleeping to throttle requests"
       ]
      },
      {
       "output_type": "stream",
       "stream": "stdout",
       "text": [
        "\n",
        "urllib(mine) sleeping to throttle requests"
       ]
      },
      {
       "output_type": "stream",
       "stream": "stdout",
       "text": [
        "\n",
        "urllib(mine) sleeping to throttle requests"
       ]
      },
      {
       "output_type": "stream",
       "stream": "stdout",
       "text": [
        "\n",
        "urllib(mine) sleeping to throttle requests"
       ]
      },
      {
       "output_type": "stream",
       "stream": "stdout",
       "text": [
        "\n",
        "--------------------------------------"
       ]
      },
      {
       "output_type": "stream",
       "stream": "stdout",
       "text": [
        "\n",
        "Starting friend: s2DZ2ebNDIgk-Dn8peDArQ\n",
        "--------------------------------------\n",
        "urllib(mine) sleeping to throttle requests\n",
        "urllib(mine) sleeping to throttle requests"
       ]
      },
      {
       "output_type": "stream",
       "stream": "stdout",
       "text": [
        "\n",
        "--------------------------------------"
       ]
      },
      {
       "output_type": "stream",
       "stream": "stdout",
       "text": [
        "\n",
        "Starting friend: aCc2wNSx0tg1800Nu-fVKw\n",
        "--------------------------------------\n",
        "urllib(mine) sleeping to throttle requests\n",
        "urllib(mine) sleeping to throttle requests"
       ]
      },
      {
       "output_type": "stream",
       "stream": "stdout",
       "text": [
        "\n",
        "urllib(mine) sleeping to throttle requests"
       ]
      },
      {
       "output_type": "stream",
       "stream": "stdout",
       "text": [
        "\n",
        "--------------------------------------"
       ]
      },
      {
       "output_type": "stream",
       "stream": "stdout",
       "text": [
        "\n",
        "Starting friend: HpgDCyQGSR0TzYi00-wLew\n",
        "--------------------------------------\n",
        "urllib(mine) sleeping to throttle requests\n",
        "urllib(mine) sleeping to throttle requests"
       ]
      },
      {
       "output_type": "stream",
       "stream": "stdout",
       "text": [
        "\n",
        "urllib(mine) sleeping to throttle requests"
       ]
      },
      {
       "output_type": "stream",
       "stream": "stdout",
       "text": [
        "\n",
        "urllib(mine) sleeping to throttle requests"
       ]
      },
      {
       "output_type": "stream",
       "stream": "stdout",
       "text": [
        "\n",
        "urllib(mine) sleeping to throttle requests"
       ]
      },
      {
       "output_type": "stream",
       "stream": "stdout",
       "text": [
        "\n",
        "urllib(mine) sleeping to throttle requests"
       ]
      },
      {
       "output_type": "stream",
       "stream": "stdout",
       "text": [
        "\n",
        "urllib(mine) sleeping to throttle requests"
       ]
      },
      {
       "output_type": "stream",
       "stream": "stdout",
       "text": [
        "\n",
        "--------------------------------------"
       ]
      },
      {
       "output_type": "stream",
       "stream": "stdout",
       "text": [
        "\n",
        "Starting friend: YpL_k2GqiH2ba28MoJ4PYA\n",
        "--------------------------------------\n",
        "urllib(mine) sleeping to throttle requests\n",
        "urllib(mine) sleeping to throttle requests"
       ]
      },
      {
       "output_type": "stream",
       "stream": "stdout",
       "text": [
        "\n",
        "urllib(mine) sleeping to throttle requests"
       ]
      },
      {
       "output_type": "stream",
       "stream": "stdout",
       "text": [
        "\n",
        "urllib(mine) sleeping to throttle requests"
       ]
      },
      {
       "output_type": "stream",
       "stream": "stdout",
       "text": [
        "\n",
        "urllib(mine) sleeping to throttle requests"
       ]
      },
      {
       "output_type": "stream",
       "stream": "stdout",
       "text": [
        "\n",
        "--------------------------------------"
       ]
      },
      {
       "output_type": "stream",
       "stream": "stdout",
       "text": [
        "\n",
        "Starting friend: NB-vq81wh-kgdKNWlrVmQA\n",
        "--------------------------------------\n",
        "urllib(mine) sleeping to throttle requests\n",
        "urllib(mine) sleeping to throttle requests"
       ]
      },
      {
       "output_type": "stream",
       "stream": "stdout",
       "text": [
        "\n",
        "--------------------------------------"
       ]
      },
      {
       "output_type": "stream",
       "stream": "stdout",
       "text": [
        "\n",
        "Starting friend: F9IgVXYhIDPd3b1l1tnatw\n",
        "--------------------------------------\n",
        "urllib(mine) sleeping to throttle requests\n",
        "urllib(mine) sleeping to throttle requests"
       ]
      },
      {
       "output_type": "stream",
       "stream": "stdout",
       "text": [
        "\n",
        "urllib(mine) sleeping to throttle requests"
       ]
      },
      {
       "output_type": "stream",
       "stream": "stdout",
       "text": [
        "\n",
        "urllib(mine) sleeping to throttle requests"
       ]
      },
      {
       "output_type": "stream",
       "stream": "stdout",
       "text": [
        "\n",
        "urllib(mine) sleeping to throttle requests"
       ]
      },
      {
       "output_type": "stream",
       "stream": "stdout",
       "text": [
        "\n",
        "urllib(mine) sleeping to throttle requests"
       ]
      },
      {
       "output_type": "stream",
       "stream": "stdout",
       "text": [
        "\n",
        "urllib(mine) sleeping to throttle requests"
       ]
      },
      {
       "output_type": "stream",
       "stream": "stdout",
       "text": [
        "\n",
        "urllib(mine) sleeping to throttle requests"
       ]
      },
      {
       "output_type": "stream",
       "stream": "stdout",
       "text": [
        "\n",
        "urllib(mine) sleeping to throttle requests"
       ]
      },
      {
       "output_type": "stream",
       "stream": "stdout",
       "text": [
        "\n",
        "urllib(mine) sleeping to throttle requests"
       ]
      },
      {
       "output_type": "stream",
       "stream": "stdout",
       "text": [
        "\n",
        "urllib(mine) sleeping to throttle requests"
       ]
      },
      {
       "output_type": "stream",
       "stream": "stdout",
       "text": [
        "\n",
        "urllib(mine) sleeping to throttle requests"
       ]
      },
      {
       "output_type": "stream",
       "stream": "stdout",
       "text": [
        "\n",
        "--------------------------------------"
       ]
      },
      {
       "output_type": "stream",
       "stream": "stdout",
       "text": [
        "\n",
        "Starting friend: tx407EtvKoXXEZqYQFQVJA\n",
        "--------------------------------------\n",
        "urllib(mine) sleeping to throttle requests\n",
        "urllib(mine) sleeping to throttle requests"
       ]
      },
      {
       "output_type": "stream",
       "stream": "stdout",
       "text": [
        "\n",
        "urllib(mine) sleeping to throttle requests"
       ]
      },
      {
       "output_type": "stream",
       "stream": "stdout",
       "text": [
        "\n",
        "urllib(mine) sleeping to throttle requests"
       ]
      },
      {
       "output_type": "stream",
       "stream": "stdout",
       "text": [
        "\n",
        "urllib(mine) sleeping to throttle requests"
       ]
      },
      {
       "output_type": "stream",
       "stream": "stdout",
       "text": [
        "\n",
        "urllib(mine) sleeping to throttle requests"
       ]
      },
      {
       "output_type": "stream",
       "stream": "stdout",
       "text": [
        "\n",
        "urllib(mine) sleeping to throttle requests"
       ]
      },
      {
       "output_type": "stream",
       "stream": "stdout",
       "text": [
        "\n",
        "urllib(mine) sleeping to throttle requests"
       ]
      },
      {
       "output_type": "stream",
       "stream": "stdout",
       "text": [
        "\n",
        "urllib(mine) sleeping to throttle requests"
       ]
      },
      {
       "output_type": "stream",
       "stream": "stdout",
       "text": [
        "\n",
        "urllib(mine) sleeping to throttle requests"
       ]
      },
      {
       "output_type": "stream",
       "stream": "stdout",
       "text": [
        "\n",
        "urllib(mine) sleeping to throttle requests"
       ]
      },
      {
       "output_type": "stream",
       "stream": "stdout",
       "text": [
        "\n",
        "urllib(mine) sleeping to throttle requests"
       ]
      },
      {
       "output_type": "stream",
       "stream": "stdout",
       "text": [
        "\n",
        "urllib(mine) sleeping to throttle requests"
       ]
      },
      {
       "output_type": "stream",
       "stream": "stdout",
       "text": [
        "\n",
        "urllib(mine) sleeping to throttle requests"
       ]
      },
      {
       "output_type": "stream",
       "stream": "stdout",
       "text": [
        "\n",
        "urllib(mine) sleeping to throttle requests"
       ]
      },
      {
       "output_type": "stream",
       "stream": "stdout",
       "text": [
        "\n",
        "urllib(mine) sleeping to throttle requests"
       ]
      },
      {
       "output_type": "stream",
       "stream": "stdout",
       "text": [
        "\n",
        "urllib(mine) sleeping to throttle requests"
       ]
      },
      {
       "output_type": "stream",
       "stream": "stdout",
       "text": [
        "\n",
        "urllib(mine) sleeping to throttle requests"
       ]
      },
      {
       "output_type": "stream",
       "stream": "stdout",
       "text": [
        "\n",
        "urllib(mine) sleeping to throttle requests"
       ]
      },
      {
       "output_type": "stream",
       "stream": "stdout",
       "text": [
        "\n",
        "urllib(mine) sleeping to throttle requests"
       ]
      },
      {
       "output_type": "stream",
       "stream": "stdout",
       "text": [
        "\n",
        "urllib(mine) sleeping to throttle requests"
       ]
      },
      {
       "output_type": "stream",
       "stream": "stdout",
       "text": [
        "\n",
        "urllib(mine) sleeping to throttle requests"
       ]
      },
      {
       "output_type": "stream",
       "stream": "stdout",
       "text": [
        "\n",
        "urllib(mine) sleeping to throttle requests"
       ]
      },
      {
       "output_type": "stream",
       "stream": "stdout",
       "text": [
        "\n",
        "urllib(mine) sleeping to throttle requests"
       ]
      },
      {
       "output_type": "stream",
       "stream": "stdout",
       "text": [
        "\n",
        "urllib(mine) sleeping to throttle requests"
       ]
      },
      {
       "output_type": "stream",
       "stream": "stdout",
       "text": [
        "\n",
        "urllib(mine) sleeping to throttle requests"
       ]
      },
      {
       "output_type": "stream",
       "stream": "stdout",
       "text": [
        "\n",
        "urllib(mine) sleeping to throttle requests"
       ]
      },
      {
       "output_type": "stream",
       "stream": "stdout",
       "text": [
        "\n",
        "urllib(mine) sleeping to throttle requests"
       ]
      },
      {
       "output_type": "stream",
       "stream": "stdout",
       "text": [
        "\n",
        "urllib(mine) sleeping to throttle requests"
       ]
      },
      {
       "output_type": "stream",
       "stream": "stdout",
       "text": [
        "\n",
        "urllib(mine) sleeping to throttle requests"
       ]
      },
      {
       "output_type": "stream",
       "stream": "stdout",
       "text": [
        "\n",
        "urllib(mine) sleeping to throttle requests"
       ]
      },
      {
       "output_type": "stream",
       "stream": "stdout",
       "text": [
        "\n",
        "--------------------------------------"
       ]
      },
      {
       "output_type": "stream",
       "stream": "stdout",
       "text": [
        "\n",
        "Starting friend: zG6CNNmoid_KeXMtxTJSlQ\n",
        "--------------------------------------\n",
        "urllib(mine) sleeping to throttle requests\n",
        "urllib(mine) sleeping to throttle requests"
       ]
      },
      {
       "output_type": "stream",
       "stream": "stdout",
       "text": [
        "\n",
        "urllib(mine) sleeping to throttle requests"
       ]
      },
      {
       "output_type": "stream",
       "stream": "stdout",
       "text": [
        "\n",
        "urllib(mine) sleeping to throttle requests"
       ]
      },
      {
       "output_type": "stream",
       "stream": "stdout",
       "text": [
        "\n",
        "urllib(mine) sleeping to throttle requests"
       ]
      },
      {
       "output_type": "stream",
       "stream": "stdout",
       "text": [
        "\n",
        "urllib(mine) sleeping to throttle requests"
       ]
      },
      {
       "output_type": "stream",
       "stream": "stdout",
       "text": [
        "\n",
        "urllib(mine) sleeping to throttle requests"
       ]
      },
      {
       "output_type": "stream",
       "stream": "stdout",
       "text": [
        "\n",
        "urllib(mine) sleeping to throttle requests"
       ]
      },
      {
       "output_type": "stream",
       "stream": "stdout",
       "text": [
        "\n",
        "urllib(mine) sleeping to throttle requests"
       ]
      },
      {
       "output_type": "stream",
       "stream": "stdout",
       "text": [
        "\n",
        "--------------------------------------"
       ]
      },
      {
       "output_type": "stream",
       "stream": "stdout",
       "text": [
        "\n",
        "Starting friend: 7X3wLYDoSgU-wp5_Jb98fw\n",
        "--------------------------------------\n",
        "urllib(mine) sleeping to throttle requests\n",
        "--------------------------------------"
       ]
      },
      {
       "output_type": "stream",
       "stream": "stdout",
       "text": [
        "\n",
        "Starting friend: XvCFNf-tbkCsFcQkfOxWJA\n",
        "--------------------------------------\n",
        "urllib(mine) sleeping to throttle requests\n",
        "urllib(mine) sleeping to throttle requests"
       ]
      },
      {
       "output_type": "stream",
       "stream": "stdout",
       "text": [
        "\n",
        "urllib(mine) sleeping to throttle requests"
       ]
      },
      {
       "output_type": "stream",
       "stream": "stdout",
       "text": [
        "\n",
        "urllib(mine) sleeping to throttle requests"
       ]
      },
      {
       "output_type": "stream",
       "stream": "stdout",
       "text": [
        "\n",
        "--------------------------------------"
       ]
      },
      {
       "output_type": "stream",
       "stream": "stdout",
       "text": [
        "\n",
        "Starting friend: fSP1sX1MtpXQkusFa_YaGA\n",
        "--------------------------------------\n",
        "urllib(mine) sleeping to throttle requests\n",
        "urllib(mine) sleeping to throttle requests"
       ]
      },
      {
       "output_type": "stream",
       "stream": "stdout",
       "text": [
        "\n",
        "urllib(mine) sleeping to throttle requests"
       ]
      },
      {
       "output_type": "stream",
       "stream": "stdout",
       "text": [
        "\n",
        "urllib(mine) sleeping to throttle requests"
       ]
      },
      {
       "output_type": "stream",
       "stream": "stdout",
       "text": [
        "\n",
        "urllib(mine) sleeping to throttle requests"
       ]
      },
      {
       "output_type": "stream",
       "stream": "stdout",
       "text": [
        "\n",
        "--------------------------------------"
       ]
      },
      {
       "output_type": "stream",
       "stream": "stdout",
       "text": [
        "\n",
        "Starting friend: rS0kFBsdwIN3WGu_ggLWkw\n",
        "--------------------------------------\n",
        "urllib(mine) sleeping to throttle requests\n",
        "urllib(mine) sleeping to throttle requests"
       ]
      },
      {
       "output_type": "stream",
       "stream": "stdout",
       "text": [
        "\n",
        "urllib(mine) sleeping to throttle requests"
       ]
      },
      {
       "output_type": "stream",
       "stream": "stdout",
       "text": [
        "\n",
        "--------------------------------------"
       ]
      },
      {
       "output_type": "stream",
       "stream": "stdout",
       "text": [
        "\n",
        "Starting friend: eCjr-6o-QTRFbChVAWSs3w\n",
        "--------------------------------------\n",
        "urllib(mine) sleeping to throttle requests\n",
        "--------------------------------------"
       ]
      },
      {
       "output_type": "stream",
       "stream": "stdout",
       "text": [
        "\n",
        "Starting friend: 0sidDfoTIHle5vvHEBvF0w\n",
        "--------------------------------------\n",
        "urllib(mine) sleeping to throttle requests\n",
        "urllib(mine) sleeping to throttle requests"
       ]
      },
      {
       "output_type": "stream",
       "stream": "stdout",
       "text": [
        "\n",
        "urllib(mine) sleeping to throttle requests"
       ]
      },
      {
       "output_type": "stream",
       "stream": "stdout",
       "text": [
        "\n",
        "urllib(mine) sleeping to throttle requests"
       ]
      },
      {
       "output_type": "stream",
       "stream": "stdout",
       "text": [
        "\n",
        "urllib(mine) sleeping to throttle requests"
       ]
      },
      {
       "output_type": "stream",
       "stream": "stdout",
       "text": [
        "\n",
        "urllib(mine) sleeping to throttle requests"
       ]
      },
      {
       "output_type": "stream",
       "stream": "stdout",
       "text": [
        "\n",
        "urllib(mine) sleeping to throttle requests"
       ]
      },
      {
       "output_type": "stream",
       "stream": "stdout",
       "text": [
        "\n",
        "urllib(mine) sleeping to throttle requests"
       ]
      },
      {
       "output_type": "stream",
       "stream": "stdout",
       "text": [
        "\n",
        "--------------------------------------"
       ]
      },
      {
       "output_type": "stream",
       "stream": "stdout",
       "text": [
        "\n",
        "Starting friend: zSIJ2uPpg-53lCoGNVUqvw\n",
        "--------------------------------------\n",
        "urllib(mine) sleeping to throttle requests\n",
        "urllib(mine) sleeping to throttle requests"
       ]
      },
      {
       "output_type": "stream",
       "stream": "stdout",
       "text": [
        "\n",
        "urllib(mine) sleeping to throttle requests"
       ]
      },
      {
       "output_type": "stream",
       "stream": "stdout",
       "text": [
        "\n",
        "urllib(mine) sleeping to throttle requests"
       ]
      },
      {
       "output_type": "stream",
       "stream": "stdout",
       "text": [
        "\n",
        "urllib(mine) sleeping to throttle requests"
       ]
      },
      {
       "output_type": "stream",
       "stream": "stdout",
       "text": [
        "\n",
        "urllib(mine) sleeping to throttle requests"
       ]
      },
      {
       "output_type": "stream",
       "stream": "stdout",
       "text": [
        "\n",
        "--------------------------------------"
       ]
      },
      {
       "output_type": "stream",
       "stream": "stdout",
       "text": [
        "\n",
        "Starting friend: JlrLxqrrOMq0jdgaDf1mrQ\n",
        "--------------------------------------\n",
        "urllib(mine) sleeping to throttle requests\n",
        "urllib(mine) sleeping to throttle requests"
       ]
      },
      {
       "output_type": "stream",
       "stream": "stdout",
       "text": [
        "\n",
        "urllib(mine) sleeping to throttle requests"
       ]
      },
      {
       "output_type": "stream",
       "stream": "stdout",
       "text": [
        "\n",
        "urllib(mine) sleeping to throttle requests"
       ]
      },
      {
       "output_type": "stream",
       "stream": "stdout",
       "text": [
        "\n",
        "urllib(mine) sleeping to throttle requests"
       ]
      },
      {
       "output_type": "stream",
       "stream": "stdout",
       "text": [
        "\n",
        "--------------------------------------"
       ]
      },
      {
       "output_type": "stream",
       "stream": "stdout",
       "text": [
        "\n",
        "Starting friend: S90cznhfdL29yMSEZ_EnJQ\n",
        "--------------------------------------\n",
        "urllib(mine) sleeping to throttle requests\n",
        "urllib(mine) sleeping to throttle requests"
       ]
      },
      {
       "output_type": "stream",
       "stream": "stdout",
       "text": [
        "\n",
        "urllib(mine) sleeping to throttle requests"
       ]
      },
      {
       "output_type": "stream",
       "stream": "stdout",
       "text": [
        "\n",
        "urllib(mine) sleeping to throttle requests"
       ]
      },
      {
       "output_type": "stream",
       "stream": "stdout",
       "text": [
        "\n",
        "urllib(mine) sleeping to throttle requests"
       ]
      },
      {
       "output_type": "stream",
       "stream": "stdout",
       "text": [
        "\n",
        "urllib(mine) sleeping to throttle requests"
       ]
      },
      {
       "output_type": "stream",
       "stream": "stdout",
       "text": [
        "\n",
        "urllib(mine) sleeping to throttle requests"
       ]
      },
      {
       "output_type": "stream",
       "stream": "stdout",
       "text": [
        "\n",
        "urllib(mine) sleeping to throttle requests"
       ]
      },
      {
       "output_type": "stream",
       "stream": "stdout",
       "text": [
        "\n",
        "urllib(mine) sleeping to throttle requests"
       ]
      },
      {
       "output_type": "stream",
       "stream": "stdout",
       "text": [
        "\n",
        "urllib(mine) sleeping to throttle requests"
       ]
      },
      {
       "output_type": "stream",
       "stream": "stdout",
       "text": [
        "\n",
        "urllib(mine) sleeping to throttle requests"
       ]
      },
      {
       "output_type": "stream",
       "stream": "stdout",
       "text": [
        "\n",
        "urllib(mine) sleeping to throttle requests"
       ]
      },
      {
       "output_type": "stream",
       "stream": "stdout",
       "text": [
        "\n",
        "urllib(mine) sleeping to throttle requests"
       ]
      },
      {
       "output_type": "stream",
       "stream": "stdout",
       "text": [
        "\n",
        "urllib(mine) sleeping to throttle requests"
       ]
      },
      {
       "output_type": "stream",
       "stream": "stdout",
       "text": [
        "\n",
        "urllib(mine) sleeping to throttle requests"
       ]
      },
      {
       "output_type": "stream",
       "stream": "stdout",
       "text": [
        "\n",
        "urllib(mine) sleeping to throttle requests"
       ]
      },
      {
       "output_type": "stream",
       "stream": "stdout",
       "text": [
        "\n",
        "urllib(mine) sleeping to throttle requests"
       ]
      },
      {
       "output_type": "stream",
       "stream": "stdout",
       "text": [
        "\n",
        "urllib(mine) sleeping to throttle requests"
       ]
      },
      {
       "output_type": "stream",
       "stream": "stdout",
       "text": [
        "\n",
        "urllib(mine) sleeping to throttle requests"
       ]
      },
      {
       "output_type": "stream",
       "stream": "stdout",
       "text": [
        "\n",
        "urllib(mine) sleeping to throttle requests"
       ]
      },
      {
       "output_type": "stream",
       "stream": "stdout",
       "text": [
        "\n",
        "urllib(mine) sleeping to throttle requests"
       ]
      },
      {
       "output_type": "stream",
       "stream": "stdout",
       "text": [
        "\n",
        "urllib(mine) sleeping to throttle requests"
       ]
      },
      {
       "output_type": "stream",
       "stream": "stdout",
       "text": [
        "\n",
        "urllib(mine) sleeping to throttle requests"
       ]
      },
      {
       "output_type": "stream",
       "stream": "stdout",
       "text": [
        "\n",
        "urllib(mine) sleeping to throttle requests"
       ]
      },
      {
       "output_type": "stream",
       "stream": "stdout",
       "text": [
        "\n",
        "urllib(mine) sleeping to throttle requests"
       ]
      },
      {
       "output_type": "stream",
       "stream": "stdout",
       "text": [
        "\n",
        "urllib(mine) sleeping to throttle requests"
       ]
      },
      {
       "output_type": "stream",
       "stream": "stdout",
       "text": [
        "\n",
        "urllib(mine) sleeping to throttle requests"
       ]
      },
      {
       "output_type": "stream",
       "stream": "stdout",
       "text": [
        "\n",
        "urllib(mine) sleeping to throttle requests"
       ]
      },
      {
       "output_type": "stream",
       "stream": "stdout",
       "text": [
        "\n",
        "urllib(mine) sleeping to throttle requests"
       ]
      },
      {
       "output_type": "stream",
       "stream": "stdout",
       "text": [
        "\n",
        "urllib(mine) sleeping to throttle requests"
       ]
      },
      {
       "output_type": "stream",
       "stream": "stdout",
       "text": [
        "\n",
        "urllib(mine) sleeping to throttle requests"
       ]
      },
      {
       "output_type": "stream",
       "stream": "stdout",
       "text": [
        "\n",
        "urllib(mine) sleeping to throttle requests"
       ]
      },
      {
       "output_type": "stream",
       "stream": "stdout",
       "text": [
        "\n",
        "urllib(mine) sleeping to throttle requests"
       ]
      },
      {
       "output_type": "stream",
       "stream": "stdout",
       "text": [
        "\n",
        "urllib(mine) sleeping to throttle requests"
       ]
      },
      {
       "output_type": "stream",
       "stream": "stdout",
       "text": [
        "\n",
        "urllib(mine) sleeping to throttle requests"
       ]
      },
      {
       "output_type": "stream",
       "stream": "stdout",
       "text": [
        "\n",
        "urllib(mine) sleeping to throttle requests"
       ]
      },
      {
       "output_type": "stream",
       "stream": "stdout",
       "text": [
        "\n",
        "urllib(mine) sleeping to throttle requests"
       ]
      },
      {
       "output_type": "stream",
       "stream": "stdout",
       "text": [
        "\n",
        "urllib(mine) sleeping to throttle requests"
       ]
      },
      {
       "output_type": "stream",
       "stream": "stdout",
       "text": [
        "\n",
        "urllib(mine) sleeping to throttle requests"
       ]
      },
      {
       "output_type": "stream",
       "stream": "stdout",
       "text": [
        "\n",
        "urllib(mine) sleeping to throttle requests"
       ]
      },
      {
       "output_type": "stream",
       "stream": "stdout",
       "text": [
        "\n",
        "urllib(mine) sleeping to throttle requests"
       ]
      },
      {
       "output_type": "stream",
       "stream": "stdout",
       "text": [
        "\n",
        "urllib(mine) sleeping to throttle requests"
       ]
      },
      {
       "output_type": "stream",
       "stream": "stdout",
       "text": [
        "\n",
        "urllib(mine) sleeping to throttle requests"
       ]
      },
      {
       "output_type": "stream",
       "stream": "stdout",
       "text": [
        "\n",
        "urllib(mine) sleeping to throttle requests"
       ]
      },
      {
       "output_type": "stream",
       "stream": "stdout",
       "text": [
        "\n",
        "urllib(mine) sleeping to throttle requests"
       ]
      },
      {
       "output_type": "stream",
       "stream": "stdout",
       "text": [
        "\n",
        "urllib(mine) sleeping to throttle requests"
       ]
      },
      {
       "output_type": "stream",
       "stream": "stdout",
       "text": [
        "\n",
        "urllib(mine) sleeping to throttle requests"
       ]
      },
      {
       "output_type": "stream",
       "stream": "stdout",
       "text": [
        "\n",
        "urllib(mine) sleeping to throttle requests"
       ]
      },
      {
       "output_type": "stream",
       "stream": "stdout",
       "text": [
        "\n",
        "urllib(mine) sleeping to throttle requests"
       ]
      },
      {
       "output_type": "stream",
       "stream": "stdout",
       "text": [
        "\n",
        "urllib(mine) sleeping to throttle requests"
       ]
      },
      {
       "output_type": "stream",
       "stream": "stdout",
       "text": [
        "\n",
        "urllib(mine) sleeping to throttle requests"
       ]
      },
      {
       "output_type": "stream",
       "stream": "stdout",
       "text": [
        "\n",
        "urllib(mine) sleeping to throttle requests"
       ]
      },
      {
       "output_type": "stream",
       "stream": "stdout",
       "text": [
        "\n",
        "urllib(mine) sleeping to throttle requests"
       ]
      },
      {
       "output_type": "stream",
       "stream": "stdout",
       "text": [
        "\n",
        "urllib(mine) sleeping to throttle requests"
       ]
      },
      {
       "output_type": "stream",
       "stream": "stdout",
       "text": [
        "\n",
        "urllib(mine) sleeping to throttle requests"
       ]
      },
      {
       "output_type": "stream",
       "stream": "stdout",
       "text": [
        "\n",
        "urllib(mine) sleeping to throttle requests"
       ]
      },
      {
       "output_type": "stream",
       "stream": "stdout",
       "text": [
        "\n",
        "urllib(mine) sleeping to throttle requests"
       ]
      },
      {
       "output_type": "stream",
       "stream": "stdout",
       "text": [
        "\n",
        "urllib(mine) sleeping to throttle requests"
       ]
      },
      {
       "output_type": "stream",
       "stream": "stdout",
       "text": [
        "\n",
        "urllib(mine) sleeping to throttle requests"
       ]
      },
      {
       "output_type": "stream",
       "stream": "stdout",
       "text": [
        "\n",
        "urllib(mine) sleeping to throttle requests"
       ]
      },
      {
       "output_type": "stream",
       "stream": "stdout",
       "text": [
        "\n",
        "urllib(mine) sleeping to throttle requests"
       ]
      },
      {
       "output_type": "stream",
       "stream": "stdout",
       "text": [
        "\n",
        "urllib(mine) sleeping to throttle requests"
       ]
      },
      {
       "output_type": "stream",
       "stream": "stdout",
       "text": [
        "\n",
        "urllib(mine) sleeping to throttle requests"
       ]
      },
      {
       "output_type": "stream",
       "stream": "stdout",
       "text": [
        "\n",
        "urllib(mine) sleeping to throttle requests"
       ]
      },
      {
       "output_type": "stream",
       "stream": "stdout",
       "text": [
        "\n",
        "urllib(mine) sleeping to throttle requests"
       ]
      },
      {
       "output_type": "stream",
       "stream": "stdout",
       "text": [
        "\n",
        "urllib(mine) sleeping to throttle requests"
       ]
      },
      {
       "output_type": "stream",
       "stream": "stdout",
       "text": [
        "\n",
        "urllib(mine) sleeping to throttle requests"
       ]
      },
      {
       "output_type": "stream",
       "stream": "stdout",
       "text": [
        "\n",
        "urllib(mine) sleeping to throttle requests"
       ]
      },
      {
       "output_type": "stream",
       "stream": "stdout",
       "text": [
        "\n",
        "urllib(mine) sleeping to throttle requests"
       ]
      },
      {
       "output_type": "stream",
       "stream": "stdout",
       "text": [
        "\n",
        "urllib(mine) sleeping to throttle requests"
       ]
      },
      {
       "output_type": "stream",
       "stream": "stdout",
       "text": [
        "\n",
        "urllib(mine) sleeping to throttle requests"
       ]
      },
      {
       "output_type": "stream",
       "stream": "stdout",
       "text": [
        "\n",
        "urllib(mine) sleeping to throttle requests"
       ]
      },
      {
       "output_type": "stream",
       "stream": "stdout",
       "text": [
        "\n",
        "urllib(mine) sleeping to throttle requests"
       ]
      },
      {
       "output_type": "stream",
       "stream": "stdout",
       "text": [
        "\n",
        "urllib(mine) sleeping to throttle requests"
       ]
      },
      {
       "output_type": "stream",
       "stream": "stdout",
       "text": [
        "\n",
        "urllib(mine) sleeping to throttle requests"
       ]
      },
      {
       "output_type": "stream",
       "stream": "stdout",
       "text": [
        "\n",
        "urllib(mine) sleeping to throttle requests"
       ]
      },
      {
       "output_type": "stream",
       "stream": "stdout",
       "text": [
        "\n",
        "urllib(mine) sleeping to throttle requests"
       ]
      },
      {
       "output_type": "stream",
       "stream": "stdout",
       "text": [
        "\n",
        "urllib(mine) sleeping to throttle requests"
       ]
      },
      {
       "output_type": "stream",
       "stream": "stdout",
       "text": [
        "\n",
        "urllib(mine) sleeping to throttle requests"
       ]
      },
      {
       "output_type": "stream",
       "stream": "stdout",
       "text": [
        "\n",
        "urllib(mine) sleeping to throttle requests"
       ]
      },
      {
       "output_type": "stream",
       "stream": "stdout",
       "text": [
        "\n",
        "urllib(mine) sleeping to throttle requests"
       ]
      },
      {
       "output_type": "stream",
       "stream": "stdout",
       "text": [
        "\n",
        "urllib(mine) sleeping to throttle requests"
       ]
      },
      {
       "output_type": "stream",
       "stream": "stdout",
       "text": [
        "\n",
        "urllib(mine) sleeping to throttle requests"
       ]
      },
      {
       "output_type": "stream",
       "stream": "stdout",
       "text": [
        "\n",
        "urllib(mine) sleeping to throttle requests"
       ]
      },
      {
       "output_type": "stream",
       "stream": "stdout",
       "text": [
        "\n",
        "urllib(mine) sleeping to throttle requests"
       ]
      },
      {
       "output_type": "stream",
       "stream": "stdout",
       "text": [
        "\n",
        "urllib(mine) sleeping to throttle requests"
       ]
      },
      {
       "output_type": "stream",
       "stream": "stdout",
       "text": [
        "\n",
        "urllib(mine) sleeping to throttle requests"
       ]
      },
      {
       "output_type": "stream",
       "stream": "stdout",
       "text": [
        "\n",
        "urllib(mine) sleeping to throttle requests"
       ]
      },
      {
       "output_type": "stream",
       "stream": "stdout",
       "text": [
        "\n",
        "urllib(mine) sleeping to throttle requests"
       ]
      },
      {
       "output_type": "stream",
       "stream": "stdout",
       "text": [
        "\n",
        "urllib(mine) sleeping to throttle requests"
       ]
      },
      {
       "output_type": "stream",
       "stream": "stdout",
       "text": [
        "\n",
        "urllib(mine) sleeping to throttle requests"
       ]
      },
      {
       "output_type": "stream",
       "stream": "stdout",
       "text": [
        "\n",
        "urllib(mine) sleeping to throttle requests"
       ]
      },
      {
       "output_type": "stream",
       "stream": "stdout",
       "text": [
        "\n",
        "urllib(mine) sleeping to throttle requests"
       ]
      },
      {
       "output_type": "stream",
       "stream": "stdout",
       "text": [
        "\n",
        "urllib(mine) sleeping to throttle requests"
       ]
      },
      {
       "output_type": "stream",
       "stream": "stdout",
       "text": [
        "\n",
        "urllib(mine) sleeping to throttle requests"
       ]
      },
      {
       "output_type": "stream",
       "stream": "stdout",
       "text": [
        "\n",
        "urllib(mine) sleeping to throttle requests"
       ]
      },
      {
       "output_type": "stream",
       "stream": "stdout",
       "text": [
        "\n",
        "urllib(mine) sleeping to throttle requests"
       ]
      },
      {
       "output_type": "stream",
       "stream": "stdout",
       "text": [
        "\n",
        "urllib(mine) sleeping to throttle requests"
       ]
      },
      {
       "output_type": "stream",
       "stream": "stdout",
       "text": [
        "\n",
        "urllib(mine) sleeping to throttle requests"
       ]
      },
      {
       "output_type": "stream",
       "stream": "stdout",
       "text": [
        "\n",
        "urllib(mine) sleeping to throttle requests"
       ]
      },
      {
       "output_type": "stream",
       "stream": "stdout",
       "text": [
        "\n",
        "urllib(mine) sleeping to throttle requests"
       ]
      },
      {
       "output_type": "stream",
       "stream": "stdout",
       "text": [
        "\n",
        "urllib(mine) sleeping to throttle requests"
       ]
      },
      {
       "output_type": "stream",
       "stream": "stdout",
       "text": [
        "\n",
        "urllib(mine) sleeping to throttle requests"
       ]
      },
      {
       "output_type": "stream",
       "stream": "stdout",
       "text": [
        "\n",
        "urllib(mine) sleeping to throttle requests"
       ]
      },
      {
       "output_type": "stream",
       "stream": "stdout",
       "text": [
        "\n",
        "urllib(mine) sleeping to throttle requests"
       ]
      },
      {
       "output_type": "stream",
       "stream": "stdout",
       "text": [
        "\n",
        "urllib(mine) sleeping to throttle requests"
       ]
      },
      {
       "output_type": "stream",
       "stream": "stdout",
       "text": [
        "\n",
        "urllib(mine) sleeping to throttle requests"
       ]
      },
      {
       "output_type": "stream",
       "stream": "stdout",
       "text": [
        "\n",
        "urllib(mine) sleeping to throttle requests"
       ]
      },
      {
       "output_type": "stream",
       "stream": "stdout",
       "text": [
        "\n",
        "urllib(mine) sleeping to throttle requests"
       ]
      },
      {
       "output_type": "stream",
       "stream": "stdout",
       "text": [
        "\n",
        "urllib(mine) sleeping to throttle requests"
       ]
      },
      {
       "output_type": "stream",
       "stream": "stdout",
       "text": [
        "\n",
        "urllib(mine) sleeping to throttle requests"
       ]
      },
      {
       "output_type": "stream",
       "stream": "stdout",
       "text": [
        "\n",
        "urllib(mine) sleeping to throttle requests"
       ]
      },
      {
       "output_type": "stream",
       "stream": "stdout",
       "text": [
        "\n",
        "urllib(mine) sleeping to throttle requests"
       ]
      },
      {
       "output_type": "stream",
       "stream": "stdout",
       "text": [
        "\n",
        "urllib(mine) sleeping to throttle requests"
       ]
      },
      {
       "output_type": "stream",
       "stream": "stdout",
       "text": [
        "\n",
        "urllib(mine) sleeping to throttle requests"
       ]
      },
      {
       "output_type": "stream",
       "stream": "stdout",
       "text": [
        "\n",
        "urllib(mine) sleeping to throttle requests"
       ]
      },
      {
       "output_type": "stream",
       "stream": "stdout",
       "text": [
        "\n",
        "urllib(mine) sleeping to throttle requests"
       ]
      },
      {
       "output_type": "stream",
       "stream": "stdout",
       "text": [
        "\n",
        "urllib(mine) sleeping to throttle requests"
       ]
      },
      {
       "output_type": "stream",
       "stream": "stdout",
       "text": [
        "\n",
        "urllib(mine) sleeping to throttle requests"
       ]
      },
      {
       "output_type": "stream",
       "stream": "stdout",
       "text": [
        "\n",
        "urllib(mine) sleeping to throttle requests"
       ]
      },
      {
       "output_type": "stream",
       "stream": "stdout",
       "text": [
        "\n",
        "urllib(mine) sleeping to throttle requests"
       ]
      },
      {
       "output_type": "stream",
       "stream": "stdout",
       "text": [
        "\n",
        "urllib(mine) sleeping to throttle requests"
       ]
      },
      {
       "output_type": "stream",
       "stream": "stdout",
       "text": [
        "\n",
        "urllib(mine) sleeping to throttle requests"
       ]
      },
      {
       "output_type": "stream",
       "stream": "stdout",
       "text": [
        "\n",
        "urllib(mine) sleeping to throttle requests"
       ]
      },
      {
       "output_type": "stream",
       "stream": "stdout",
       "text": [
        "\n",
        "urllib(mine) sleeping to throttle requests"
       ]
      },
      {
       "output_type": "stream",
       "stream": "stdout",
       "text": [
        "\n",
        "urllib(mine) sleeping to throttle requests"
       ]
      },
      {
       "output_type": "stream",
       "stream": "stdout",
       "text": [
        "\n",
        "urllib(mine) sleeping to throttle requests"
       ]
      },
      {
       "output_type": "stream",
       "stream": "stdout",
       "text": [
        "\n",
        "urllib(mine) sleeping to throttle requests"
       ]
      },
      {
       "output_type": "stream",
       "stream": "stdout",
       "text": [
        "\n",
        "urllib(mine) sleeping to throttle requests"
       ]
      },
      {
       "output_type": "stream",
       "stream": "stdout",
       "text": [
        "\n",
        "urllib(mine) sleeping to throttle requests"
       ]
      },
      {
       "output_type": "stream",
       "stream": "stdout",
       "text": [
        "\n",
        "urllib(mine) sleeping to throttle requests"
       ]
      },
      {
       "output_type": "stream",
       "stream": "stdout",
       "text": [
        "\n",
        "urllib(mine) sleeping to throttle requests"
       ]
      },
      {
       "output_type": "stream",
       "stream": "stdout",
       "text": [
        "\n",
        "urllib(mine) sleeping to throttle requests"
       ]
      },
      {
       "output_type": "stream",
       "stream": "stdout",
       "text": [
        "\n",
        "urllib(mine) sleeping to throttle requests"
       ]
      },
      {
       "output_type": "stream",
       "stream": "stdout",
       "text": [
        "\n",
        "urllib(mine) sleeping to throttle requests"
       ]
      },
      {
       "output_type": "stream",
       "stream": "stdout",
       "text": [
        "\n",
        "urllib(mine) sleeping to throttle requests"
       ]
      },
      {
       "output_type": "stream",
       "stream": "stdout",
       "text": [
        "\n",
        "urllib(mine) sleeping to throttle requests"
       ]
      },
      {
       "output_type": "stream",
       "stream": "stdout",
       "text": [
        "\n",
        "--------------------------------------"
       ]
      },
      {
       "output_type": "stream",
       "stream": "stdout",
       "text": [
        "\n",
        "Starting friend: DhaivS3V8hJfFmLlKf8jQg\n",
        "--------------------------------------\n",
        "urllib(mine) sleeping to throttle requests\n",
        "--------------------------------------"
       ]
      },
      {
       "output_type": "stream",
       "stream": "stdout",
       "text": [
        "\n",
        "Starting friend: PUSEzXY5KrCCdAUSfq-SKg\n",
        "--------------------------------------\n",
        "urllib(mine) sleeping to throttle requests\n",
        "--------------------------------------"
       ]
      },
      {
       "output_type": "stream",
       "stream": "stdout",
       "text": [
        "\n",
        "Starting friend: ASkAJgNv9-UfcGtKfypcgQ\n",
        "--------------------------------------\n",
        "urllib(mine) sleeping to throttle requests\n",
        "urllib(mine) sleeping to throttle requests"
       ]
      },
      {
       "output_type": "stream",
       "stream": "stdout",
       "text": [
        "\n",
        "urllib(mine) sleeping to throttle requests"
       ]
      },
      {
       "output_type": "stream",
       "stream": "stdout",
       "text": [
        "\n",
        "urllib(mine) sleeping to throttle requests"
       ]
      },
      {
       "output_type": "stream",
       "stream": "stdout",
       "text": [
        "\n",
        "urllib(mine) sleeping to throttle requests"
       ]
      },
      {
       "output_type": "stream",
       "stream": "stdout",
       "text": [
        "\n",
        "urllib(mine) sleeping to throttle requests"
       ]
      },
      {
       "output_type": "stream",
       "stream": "stdout",
       "text": [
        "\n",
        "urllib(mine) sleeping to throttle requests"
       ]
      },
      {
       "output_type": "stream",
       "stream": "stdout",
       "text": [
        "\n",
        "urllib(mine) sleeping to throttle requests"
       ]
      },
      {
       "output_type": "stream",
       "stream": "stdout",
       "text": [
        "\n",
        "urllib(mine) sleeping to throttle requests"
       ]
      },
      {
       "output_type": "stream",
       "stream": "stdout",
       "text": [
        "\n",
        "urllib(mine) sleeping to throttle requests"
       ]
      },
      {
       "output_type": "stream",
       "stream": "stdout",
       "text": [
        "\n",
        "urllib(mine) sleeping to throttle requests"
       ]
      },
      {
       "output_type": "stream",
       "stream": "stdout",
       "text": [
        "\n",
        "urllib(mine) sleeping to throttle requests"
       ]
      },
      {
       "output_type": "stream",
       "stream": "stdout",
       "text": [
        "\n",
        "urllib(mine) sleeping to throttle requests"
       ]
      },
      {
       "output_type": "stream",
       "stream": "stdout",
       "text": [
        "\n",
        "urllib(mine) sleeping to throttle requests"
       ]
      },
      {
       "output_type": "stream",
       "stream": "stdout",
       "text": [
        "\n",
        "urllib(mine) sleeping to throttle requests"
       ]
      },
      {
       "output_type": "stream",
       "stream": "stdout",
       "text": [
        "\n",
        "urllib(mine) sleeping to throttle requests"
       ]
      },
      {
       "output_type": "stream",
       "stream": "stdout",
       "text": [
        "\n",
        "urllib(mine) sleeping to throttle requests"
       ]
      },
      {
       "output_type": "stream",
       "stream": "stdout",
       "text": [
        "\n",
        "urllib(mine) sleeping to throttle requests"
       ]
      },
      {
       "output_type": "stream",
       "stream": "stdout",
       "text": [
        "\n",
        "urllib(mine) sleeping to throttle requests"
       ]
      },
      {
       "output_type": "stream",
       "stream": "stdout",
       "text": [
        "\n",
        "urllib(mine) sleeping to throttle requests"
       ]
      },
      {
       "output_type": "stream",
       "stream": "stdout",
       "text": [
        "\n",
        "urllib(mine) sleeping to throttle requests"
       ]
      },
      {
       "output_type": "stream",
       "stream": "stdout",
       "text": [
        "\n",
        "urllib(mine) sleeping to throttle requests"
       ]
      },
      {
       "output_type": "stream",
       "stream": "stdout",
       "text": [
        "\n",
        "urllib(mine) sleeping to throttle requests"
       ]
      },
      {
       "output_type": "stream",
       "stream": "stdout",
       "text": [
        "\n",
        "urllib(mine) sleeping to throttle requests"
       ]
      },
      {
       "output_type": "stream",
       "stream": "stdout",
       "text": [
        "\n",
        "urllib(mine) sleeping to throttle requests"
       ]
      },
      {
       "output_type": "stream",
       "stream": "stdout",
       "text": [
        "\n",
        "urllib(mine) sleeping to throttle requests"
       ]
      },
      {
       "output_type": "stream",
       "stream": "stdout",
       "text": [
        "\n",
        "urllib(mine) sleeping to throttle requests"
       ]
      },
      {
       "output_type": "stream",
       "stream": "stdout",
       "text": [
        "\n",
        "urllib(mine) sleeping to throttle requests"
       ]
      },
      {
       "output_type": "stream",
       "stream": "stdout",
       "text": [
        "\n",
        "urllib(mine) sleeping to throttle requests"
       ]
      },
      {
       "output_type": "stream",
       "stream": "stdout",
       "text": [
        "\n",
        "urllib(mine) sleeping to throttle requests"
       ]
      },
      {
       "output_type": "stream",
       "stream": "stdout",
       "text": [
        "\n",
        "--------------------------------------"
       ]
      },
      {
       "output_type": "stream",
       "stream": "stdout",
       "text": [
        "\n",
        "Starting friend: __BJUEzSTFOS74yA1igHJQ\n",
        "--------------------------------------\n",
        "urllib(mine) sleeping to throttle requests\n",
        "--------------------------------------"
       ]
      },
      {
       "output_type": "stream",
       "stream": "stdout",
       "text": [
        "\n",
        "Starting friend: xSiqVdjS6EwsEDBAybhFUw\n",
        "--------------------------------------\n",
        "urllib(mine) sleeping to throttle requests\n",
        "urllib(mine) sleeping to throttle requests"
       ]
      },
      {
       "output_type": "stream",
       "stream": "stdout",
       "text": [
        "\n",
        "--------------------------------------"
       ]
      },
      {
       "output_type": "stream",
       "stream": "stdout",
       "text": [
        "\n",
        "Starting friend: bzGufz03-j08IsqU2kfjJQ\n",
        "--------------------------------------\n",
        "urllib(mine) sleeping to throttle requests\n",
        "urllib(mine) sleeping to throttle requests"
       ]
      },
      {
       "output_type": "stream",
       "stream": "stdout",
       "text": [
        "\n",
        "urllib(mine) sleeping to throttle requests"
       ]
      },
      {
       "output_type": "stream",
       "stream": "stdout",
       "text": [
        "\n",
        "urllib(mine) sleeping to throttle requests"
       ]
      },
      {
       "output_type": "stream",
       "stream": "stdout",
       "text": [
        "\n",
        "urllib(mine) sleeping to throttle requests"
       ]
      },
      {
       "output_type": "stream",
       "stream": "stdout",
       "text": [
        "\n",
        "--------------------------------------"
       ]
      },
      {
       "output_type": "stream",
       "stream": "stdout",
       "text": [
        "\n",
        "Starting friend: 3hDjqzUv0y079_o7gAm65g\n",
        "--------------------------------------\n",
        "urllib(mine) sleeping to throttle requests\n",
        "urllib(mine) sleeping to throttle requests"
       ]
      },
      {
       "output_type": "stream",
       "stream": "stdout",
       "text": [
        "\n",
        "--------------------------------------"
       ]
      },
      {
       "output_type": "stream",
       "stream": "stdout",
       "text": [
        "\n",
        "Starting friend: N9raw8qET1b7nLHh_yzQZw\n",
        "--------------------------------------\n",
        "urllib(mine) sleeping to throttle requests\n",
        "--------------------------------------"
       ]
      },
      {
       "output_type": "stream",
       "stream": "stdout",
       "text": [
        "\n",
        "Starting friend: lYz0Y7fc71fhfWQw315atA\n",
        "--------------------------------------\n",
        "urllib(mine) sleeping to throttle requests\n",
        "--------------------------------------"
       ]
      },
      {
       "output_type": "stream",
       "stream": "stdout",
       "text": [
        "\n",
        "Starting friend: x-qYAgEHWUnIN4V2FQe6OQ\n",
        "--------------------------------------\n",
        "urllib(mine) sleeping to throttle requests\n",
        "urllib(mine) sleeping to throttle requests"
       ]
      },
      {
       "output_type": "stream",
       "stream": "stdout",
       "text": [
        "\n",
        "--------------------------------------"
       ]
      },
      {
       "output_type": "stream",
       "stream": "stdout",
       "text": [
        "\n",
        "Starting friend: s3Iw_luTB0_-GcpOHzDpKQ\n",
        "--------------------------------------\n",
        "urllib(mine) sleeping to throttle requests\n",
        "urllib(mine) sleeping to throttle requests"
       ]
      },
      {
       "output_type": "stream",
       "stream": "stdout",
       "text": [
        "\n",
        "urllib(mine) sleeping to throttle requests"
       ]
      },
      {
       "output_type": "stream",
       "stream": "stdout",
       "text": [
        "\n",
        "urllib(mine) sleeping to throttle requests"
       ]
      },
      {
       "output_type": "stream",
       "stream": "stdout",
       "text": [
        "\n",
        "--------------------------------------"
       ]
      },
      {
       "output_type": "stream",
       "stream": "stdout",
       "text": [
        "\n",
        "Starting friend: uzttV_gxyWWJZsvwr-RDsg\n",
        "--------------------------------------\n",
        "urllib(mine) sleeping to throttle requests\n",
        "--------------------------------------"
       ]
      },
      {
       "output_type": "stream",
       "stream": "stdout",
       "text": [
        "\n",
        "Starting friend: x0KuzZZFDQ4NUMnMOc83wQ\n",
        "--------------------------------------\n",
        "urllib(mine) sleeping to throttle requests\n",
        "urllib(mine) sleeping to throttle requests"
       ]
      },
      {
       "output_type": "stream",
       "stream": "stdout",
       "text": [
        "\n",
        "urllib(mine) sleeping to throttle requests"
       ]
      },
      {
       "output_type": "stream",
       "stream": "stdout",
       "text": [
        "\n",
        "urllib(mine) sleeping to throttle requests"
       ]
      },
      {
       "output_type": "stream",
       "stream": "stdout",
       "text": [
        "\n",
        "urllib(mine) sleeping to throttle requests"
       ]
      },
      {
       "output_type": "stream",
       "stream": "stdout",
       "text": [
        "\n",
        "urllib(mine) sleeping to throttle requests"
       ]
      },
      {
       "output_type": "stream",
       "stream": "stdout",
       "text": [
        "\n",
        "urllib(mine) sleeping to throttle requests"
       ]
      },
      {
       "output_type": "stream",
       "stream": "stdout",
       "text": [
        "\n",
        "urllib(mine) sleeping to throttle requests"
       ]
      },
      {
       "output_type": "stream",
       "stream": "stdout",
       "text": [
        "\n",
        "urllib(mine) sleeping to throttle requests"
       ]
      },
      {
       "output_type": "stream",
       "stream": "stdout",
       "text": [
        "\n",
        "urllib(mine) sleeping to throttle requests"
       ]
      },
      {
       "output_type": "stream",
       "stream": "stdout",
       "text": [
        "\n",
        "urllib(mine) sleeping to throttle requests"
       ]
      },
      {
       "output_type": "stream",
       "stream": "stdout",
       "text": [
        "\n",
        "urllib(mine) sleeping to throttle requests"
       ]
      },
      {
       "output_type": "stream",
       "stream": "stdout",
       "text": [
        "\n",
        "urllib(mine) sleeping to throttle requests"
       ]
      },
      {
       "output_type": "stream",
       "stream": "stdout",
       "text": [
        "\n",
        "urllib(mine) sleeping to throttle requests"
       ]
      },
      {
       "output_type": "stream",
       "stream": "stdout",
       "text": [
        "\n",
        "--------------------------------------"
       ]
      },
      {
       "output_type": "stream",
       "stream": "stdout",
       "text": [
        "\n",
        "Starting friend: eFPVAJp3jICBEjchM5yiPg\n",
        "--------------------------------------\n",
        "urllib(mine) sleeping to throttle requests\n",
        "urllib(mine) sleeping to throttle requests"
       ]
      },
      {
       "output_type": "stream",
       "stream": "stdout",
       "text": [
        "\n",
        "urllib(mine) sleeping to throttle requests"
       ]
      },
      {
       "output_type": "stream",
       "stream": "stdout",
       "text": [
        "\n",
        "urllib(mine) sleeping to throttle requests"
       ]
      },
      {
       "output_type": "stream",
       "stream": "stdout",
       "text": [
        "\n",
        "urllib(mine) sleeping to throttle requests"
       ]
      },
      {
       "output_type": "stream",
       "stream": "stdout",
       "text": [
        "\n",
        "urllib(mine) sleeping to throttle requests"
       ]
      },
      {
       "output_type": "stream",
       "stream": "stdout",
       "text": [
        "\n",
        "urllib(mine) sleeping to throttle requests"
       ]
      },
      {
       "output_type": "stream",
       "stream": "stdout",
       "text": [
        "\n",
        "urllib(mine) sleeping to throttle requests"
       ]
      },
      {
       "output_type": "stream",
       "stream": "stdout",
       "text": [
        "\n",
        "urllib(mine) sleeping to throttle requests"
       ]
      },
      {
       "output_type": "stream",
       "stream": "stdout",
       "text": [
        "\n",
        "urllib(mine) sleeping to throttle requests"
       ]
      },
      {
       "output_type": "stream",
       "stream": "stdout",
       "text": [
        "\n",
        "urllib(mine) sleeping to throttle requests"
       ]
      },
      {
       "output_type": "stream",
       "stream": "stdout",
       "text": [
        "\n",
        "urllib(mine) sleeping to throttle requests"
       ]
      },
      {
       "output_type": "stream",
       "stream": "stdout",
       "text": [
        "\n",
        "urllib(mine) sleeping to throttle requests"
       ]
      },
      {
       "output_type": "stream",
       "stream": "stdout",
       "text": [
        "\n",
        "urllib(mine) sleeping to throttle requests"
       ]
      },
      {
       "output_type": "stream",
       "stream": "stdout",
       "text": [
        "\n",
        "urllib(mine) sleeping to throttle requests"
       ]
      },
      {
       "output_type": "stream",
       "stream": "stdout",
       "text": [
        "\n",
        "urllib(mine) sleeping to throttle requests"
       ]
      },
      {
       "output_type": "stream",
       "stream": "stdout",
       "text": [
        "\n",
        "urllib(mine) sleeping to throttle requests"
       ]
      },
      {
       "output_type": "stream",
       "stream": "stdout",
       "text": [
        "\n",
        "urllib(mine) sleeping to throttle requests"
       ]
      },
      {
       "output_type": "stream",
       "stream": "stdout",
       "text": [
        "\n",
        "urllib(mine) sleeping to throttle requests"
       ]
      },
      {
       "output_type": "stream",
       "stream": "stdout",
       "text": [
        "\n",
        "urllib(mine) sleeping to throttle requests"
       ]
      },
      {
       "output_type": "stream",
       "stream": "stdout",
       "text": [
        "\n",
        "urllib(mine) sleeping to throttle requests"
       ]
      },
      {
       "output_type": "stream",
       "stream": "stdout",
       "text": [
        "\n",
        "urllib(mine) sleeping to throttle requests"
       ]
      },
      {
       "output_type": "stream",
       "stream": "stdout",
       "text": [
        "\n",
        "urllib(mine) sleeping to throttle requests"
       ]
      },
      {
       "output_type": "stream",
       "stream": "stdout",
       "text": [
        "\n",
        "urllib(mine) sleeping to throttle requests"
       ]
      },
      {
       "output_type": "stream",
       "stream": "stdout",
       "text": [
        "\n",
        "urllib(mine) sleeping to throttle requests"
       ]
      },
      {
       "output_type": "stream",
       "stream": "stdout",
       "text": [
        "\n",
        "urllib(mine) sleeping to throttle requests"
       ]
      },
      {
       "output_type": "stream",
       "stream": "stdout",
       "text": [
        "\n",
        "urllib(mine) sleeping to throttle requests"
       ]
      },
      {
       "output_type": "stream",
       "stream": "stdout",
       "text": [
        "\n",
        "urllib(mine) sleeping to throttle requests"
       ]
      },
      {
       "output_type": "stream",
       "stream": "stdout",
       "text": [
        "\n",
        "urllib(mine) sleeping to throttle requests"
       ]
      },
      {
       "output_type": "stream",
       "stream": "stdout",
       "text": [
        "\n",
        "urllib(mine) sleeping to throttle requests"
       ]
      },
      {
       "output_type": "stream",
       "stream": "stdout",
       "text": [
        "\n",
        "urllib(mine) sleeping to throttle requests"
       ]
      },
      {
       "output_type": "stream",
       "stream": "stdout",
       "text": [
        "\n",
        "urllib(mine) sleeping to throttle requests"
       ]
      },
      {
       "output_type": "stream",
       "stream": "stdout",
       "text": [
        "\n",
        "urllib(mine) sleeping to throttle requests"
       ]
      },
      {
       "output_type": "stream",
       "stream": "stdout",
       "text": [
        "\n",
        "urllib(mine) sleeping to throttle requests"
       ]
      },
      {
       "output_type": "stream",
       "stream": "stdout",
       "text": [
        "\n",
        "urllib(mine) sleeping to throttle requests"
       ]
      },
      {
       "output_type": "stream",
       "stream": "stdout",
       "text": [
        "\n",
        "urllib(mine) sleeping to throttle requests"
       ]
      },
      {
       "output_type": "stream",
       "stream": "stdout",
       "text": [
        "\n",
        "urllib(mine) sleeping to throttle requests"
       ]
      },
      {
       "output_type": "stream",
       "stream": "stdout",
       "text": [
        "\n",
        "urllib(mine) sleeping to throttle requests"
       ]
      },
      {
       "output_type": "stream",
       "stream": "stdout",
       "text": [
        "\n",
        "urllib(mine) sleeping to throttle requests"
       ]
      },
      {
       "output_type": "stream",
       "stream": "stdout",
       "text": [
        "\n",
        "urllib(mine) sleeping to throttle requests"
       ]
      },
      {
       "output_type": "stream",
       "stream": "stdout",
       "text": [
        "\n",
        "urllib(mine) sleeping to throttle requests"
       ]
      },
      {
       "output_type": "stream",
       "stream": "stdout",
       "text": [
        "\n",
        "urllib(mine) sleeping to throttle requests"
       ]
      },
      {
       "output_type": "stream",
       "stream": "stdout",
       "text": [
        "\n",
        "urllib(mine) sleeping to throttle requests"
       ]
      },
      {
       "output_type": "stream",
       "stream": "stdout",
       "text": [
        "\n",
        "urllib(mine) sleeping to throttle requests"
       ]
      },
      {
       "output_type": "stream",
       "stream": "stdout",
       "text": [
        "\n",
        "urllib(mine) sleeping to throttle requests"
       ]
      },
      {
       "output_type": "stream",
       "stream": "stdout",
       "text": [
        "\n",
        "urllib(mine) sleeping to throttle requests"
       ]
      },
      {
       "output_type": "stream",
       "stream": "stdout",
       "text": [
        "\n",
        "urllib(mine) sleeping to throttle requests"
       ]
      },
      {
       "output_type": "stream",
       "stream": "stdout",
       "text": [
        "\n",
        "urllib(mine) sleeping to throttle requests"
       ]
      },
      {
       "output_type": "stream",
       "stream": "stdout",
       "text": [
        "\n",
        "urllib(mine) sleeping to throttle requests"
       ]
      },
      {
       "output_type": "stream",
       "stream": "stdout",
       "text": [
        "\n",
        "urllib(mine) sleeping to throttle requests"
       ]
      },
      {
       "output_type": "stream",
       "stream": "stdout",
       "text": [
        "\n",
        "urllib(mine) sleeping to throttle requests"
       ]
      },
      {
       "output_type": "stream",
       "stream": "stdout",
       "text": [
        "\n",
        "urllib(mine) sleeping to throttle requests"
       ]
      },
      {
       "output_type": "stream",
       "stream": "stdout",
       "text": [
        "\n",
        "--------------------------------------"
       ]
      },
      {
       "output_type": "stream",
       "stream": "stdout",
       "text": [
        "\n",
        "Starting friend: 6vPfLWbyX-bOqgV3o9Vvrg\n",
        "--------------------------------------\n",
        "urllib(mine) sleeping to throttle requests\n",
        "urllib(mine) sleeping to throttle requests"
       ]
      },
      {
       "output_type": "stream",
       "stream": "stdout",
       "text": [
        "\n",
        "urllib(mine) sleeping to throttle requests"
       ]
      },
      {
       "output_type": "stream",
       "stream": "stdout",
       "text": [
        "\n",
        "urllib(mine) sleeping to throttle requests"
       ]
      },
      {
       "output_type": "stream",
       "stream": "stdout",
       "text": [
        "\n",
        "urllib(mine) sleeping to throttle requests"
       ]
      },
      {
       "output_type": "stream",
       "stream": "stdout",
       "text": [
        "\n",
        "urllib(mine) sleeping to throttle requests"
       ]
      },
      {
       "output_type": "stream",
       "stream": "stdout",
       "text": [
        "\n",
        "urllib(mine) sleeping to throttle requests"
       ]
      },
      {
       "output_type": "stream",
       "stream": "stdout",
       "text": [
        "\n",
        "--------------------------------------"
       ]
      },
      {
       "output_type": "stream",
       "stream": "stdout",
       "text": [
        "\n",
        "Starting friend: uXSVu2ldBncOGMcvI9SW2Q\n",
        "--------------------------------------\n",
        "urllib(mine) sleeping to throttle requests\n",
        "urllib(mine) sleeping to throttle requests"
       ]
      },
      {
       "output_type": "stream",
       "stream": "stdout",
       "text": [
        "\n",
        "urllib(mine) sleeping to throttle requests"
       ]
      },
      {
       "output_type": "stream",
       "stream": "stdout",
       "text": [
        "\n",
        "urllib(mine) sleeping to throttle requests"
       ]
      },
      {
       "output_type": "stream",
       "stream": "stdout",
       "text": [
        "\n",
        "urllib(mine) sleeping to throttle requests"
       ]
      },
      {
       "output_type": "stream",
       "stream": "stdout",
       "text": [
        "\n",
        "urllib(mine) sleeping to throttle requests"
       ]
      },
      {
       "output_type": "stream",
       "stream": "stdout",
       "text": [
        "\n",
        "urllib(mine) sleeping to throttle requests"
       ]
      },
      {
       "output_type": "stream",
       "stream": "stdout",
       "text": [
        "\n",
        "urllib(mine) sleeping to throttle requests"
       ]
      },
      {
       "output_type": "stream",
       "stream": "stdout",
       "text": [
        "\n",
        "urllib(mine) sleeping to throttle requests"
       ]
      },
      {
       "output_type": "stream",
       "stream": "stdout",
       "text": [
        "\n",
        "urllib(mine) sleeping to throttle requests"
       ]
      },
      {
       "output_type": "stream",
       "stream": "stdout",
       "text": [
        "\n",
        "urllib(mine) sleeping to throttle requests"
       ]
      },
      {
       "output_type": "stream",
       "stream": "stdout",
       "text": [
        "\n",
        "urllib(mine) sleeping to throttle requests"
       ]
      },
      {
       "output_type": "stream",
       "stream": "stdout",
       "text": [
        "\n",
        "urllib(mine) sleeping to throttle requests"
       ]
      },
      {
       "output_type": "stream",
       "stream": "stdout",
       "text": [
        "\n",
        "urllib(mine) sleeping to throttle requests"
       ]
      },
      {
       "output_type": "stream",
       "stream": "stdout",
       "text": [
        "\n",
        "urllib(mine) sleeping to throttle requests"
       ]
      },
      {
       "output_type": "stream",
       "stream": "stdout",
       "text": [
        "\n",
        "urllib(mine) sleeping to throttle requests"
       ]
      },
      {
       "output_type": "stream",
       "stream": "stdout",
       "text": [
        "\n",
        "urllib(mine) sleeping to throttle requests"
       ]
      },
      {
       "output_type": "stream",
       "stream": "stdout",
       "text": [
        "\n",
        "urllib(mine) sleeping to throttle requests"
       ]
      },
      {
       "output_type": "stream",
       "stream": "stdout",
       "text": [
        "\n",
        "urllib(mine) sleeping to throttle requests"
       ]
      },
      {
       "output_type": "stream",
       "stream": "stdout",
       "text": [
        "\n",
        "urllib(mine) sleeping to throttle requests"
       ]
      },
      {
       "output_type": "stream",
       "stream": "stdout",
       "text": [
        "\n",
        "urllib(mine) sleeping to throttle requests"
       ]
      },
      {
       "output_type": "stream",
       "stream": "stdout",
       "text": [
        "\n",
        "urllib(mine) sleeping to throttle requests"
       ]
      },
      {
       "output_type": "stream",
       "stream": "stdout",
       "text": [
        "\n",
        "urllib(mine) sleeping to throttle requests"
       ]
      },
      {
       "output_type": "stream",
       "stream": "stdout",
       "text": [
        "\n",
        "urllib(mine) sleeping to throttle requests"
       ]
      },
      {
       "output_type": "stream",
       "stream": "stdout",
       "text": [
        "\n",
        "urllib(mine) sleeping to throttle requests"
       ]
      },
      {
       "output_type": "stream",
       "stream": "stdout",
       "text": [
        "\n",
        "urllib(mine) sleeping to throttle requests"
       ]
      },
      {
       "output_type": "stream",
       "stream": "stdout",
       "text": [
        "\n",
        "urllib(mine) sleeping to throttle requests"
       ]
      },
      {
       "output_type": "stream",
       "stream": "stdout",
       "text": [
        "\n",
        "urllib(mine) sleeping to throttle requests"
       ]
      },
      {
       "output_type": "stream",
       "stream": "stdout",
       "text": [
        "\n",
        "urllib(mine) sleeping to throttle requests"
       ]
      },
      {
       "output_type": "stream",
       "stream": "stdout",
       "text": [
        "\n",
        "urllib(mine) sleeping to throttle requests"
       ]
      },
      {
       "output_type": "stream",
       "stream": "stdout",
       "text": [
        "\n",
        "urllib(mine) sleeping to throttle requests"
       ]
      },
      {
       "output_type": "stream",
       "stream": "stdout",
       "text": [
        "\n",
        "urllib(mine) sleeping to throttle requests"
       ]
      },
      {
       "output_type": "stream",
       "stream": "stdout",
       "text": [
        "\n",
        "urllib(mine) sleeping to throttle requests"
       ]
      },
      {
       "output_type": "stream",
       "stream": "stdout",
       "text": [
        "\n",
        "urllib(mine) sleeping to throttle requests"
       ]
      },
      {
       "output_type": "stream",
       "stream": "stdout",
       "text": [
        "\n",
        "urllib(mine) sleeping to throttle requests"
       ]
      },
      {
       "output_type": "stream",
       "stream": "stdout",
       "text": [
        "\n",
        "urllib(mine) sleeping to throttle requests"
       ]
      },
      {
       "output_type": "stream",
       "stream": "stdout",
       "text": [
        "\n",
        "--------------------------------------"
       ]
      },
      {
       "output_type": "stream",
       "stream": "stdout",
       "text": [
        "\n",
        "Starting friend: ZnBTVsQMCuHdp4qmwrZNeQ\n",
        "--------------------------------------\n",
        "urllib(mine) sleeping to throttle requests\n",
        "urllib(mine) sleeping to throttle requests"
       ]
      },
      {
       "output_type": "stream",
       "stream": "stdout",
       "text": [
        "\n",
        "urllib(mine) sleeping to throttle requests"
       ]
      },
      {
       "output_type": "stream",
       "stream": "stdout",
       "text": [
        "\n",
        "urllib(mine) sleeping to throttle requests"
       ]
      },
      {
       "output_type": "stream",
       "stream": "stdout",
       "text": [
        "\n",
        "urllib(mine) sleeping to throttle requests"
       ]
      },
      {
       "output_type": "stream",
       "stream": "stdout",
       "text": [
        "\n",
        "urllib(mine) sleeping to throttle requests"
       ]
      },
      {
       "output_type": "stream",
       "stream": "stdout",
       "text": [
        "\n",
        "urllib(mine) sleeping to throttle requests"
       ]
      },
      {
       "output_type": "stream",
       "stream": "stdout",
       "text": [
        "\n",
        "urllib(mine) sleeping to throttle requests"
       ]
      },
      {
       "output_type": "stream",
       "stream": "stdout",
       "text": [
        "\n",
        "urllib(mine) sleeping to throttle requests"
       ]
      },
      {
       "output_type": "stream",
       "stream": "stdout",
       "text": [
        "\n",
        "urllib(mine) sleeping to throttle requests"
       ]
      },
      {
       "output_type": "stream",
       "stream": "stdout",
       "text": [
        "\n",
        "urllib(mine) sleeping to throttle requests"
       ]
      },
      {
       "output_type": "stream",
       "stream": "stdout",
       "text": [
        "\n",
        "urllib(mine) sleeping to throttle requests"
       ]
      },
      {
       "output_type": "stream",
       "stream": "stdout",
       "text": [
        "\n",
        "urllib(mine) sleeping to throttle requests"
       ]
      },
      {
       "output_type": "stream",
       "stream": "stdout",
       "text": [
        "\n",
        "urllib(mine) sleeping to throttle requests"
       ]
      },
      {
       "output_type": "stream",
       "stream": "stdout",
       "text": [
        "\n",
        "urllib(mine) sleeping to throttle requests"
       ]
      },
      {
       "output_type": "stream",
       "stream": "stdout",
       "text": [
        "\n",
        "urllib(mine) sleeping to throttle requests"
       ]
      },
      {
       "output_type": "stream",
       "stream": "stdout",
       "text": [
        "\n",
        "urllib(mine) sleeping to throttle requests"
       ]
      },
      {
       "output_type": "stream",
       "stream": "stdout",
       "text": [
        "\n",
        "urllib(mine) sleeping to throttle requests"
       ]
      },
      {
       "output_type": "stream",
       "stream": "stdout",
       "text": [
        "\n",
        "urllib(mine) sleeping to throttle requests"
       ]
      },
      {
       "output_type": "stream",
       "stream": "stdout",
       "text": [
        "\n",
        "urllib(mine) sleeping to throttle requests"
       ]
      },
      {
       "output_type": "stream",
       "stream": "stdout",
       "text": [
        "\n",
        "urllib(mine) sleeping to throttle requests"
       ]
      },
      {
       "output_type": "stream",
       "stream": "stdout",
       "text": [
        "\n",
        "urllib(mine) sleeping to throttle requests"
       ]
      },
      {
       "output_type": "stream",
       "stream": "stdout",
       "text": [
        "\n",
        "urllib(mine) sleeping to throttle requests"
       ]
      },
      {
       "output_type": "stream",
       "stream": "stdout",
       "text": [
        "\n",
        "urllib(mine) sleeping to throttle requests"
       ]
      },
      {
       "output_type": "stream",
       "stream": "stdout",
       "text": [
        "\n",
        "urllib(mine) sleeping to throttle requests"
       ]
      },
      {
       "output_type": "stream",
       "stream": "stdout",
       "text": [
        "\n",
        "urllib(mine) sleeping to throttle requests"
       ]
      },
      {
       "output_type": "stream",
       "stream": "stdout",
       "text": [
        "\n",
        "urllib(mine) sleeping to throttle requests"
       ]
      },
      {
       "output_type": "stream",
       "stream": "stdout",
       "text": [
        "\n",
        "urllib(mine) sleeping to throttle requests"
       ]
      },
      {
       "output_type": "stream",
       "stream": "stdout",
       "text": [
        "\n",
        "urllib(mine) sleeping to throttle requests"
       ]
      },
      {
       "output_type": "stream",
       "stream": "stdout",
       "text": [
        "\n",
        "--------------------------------------"
       ]
      },
      {
       "output_type": "stream",
       "stream": "stdout",
       "text": [
        "\n",
        "Starting friend: -ZkwcNtpi9BoAmkv_bbDxQ\n",
        "--------------------------------------\n",
        "urllib(mine) sleeping to throttle requests\n",
        "--------------------------------------"
       ]
      },
      {
       "output_type": "stream",
       "stream": "stdout",
       "text": [
        "\n",
        "Starting friend: XqTF2kngx9tIGj60QRmB0w\n",
        "--------------------------------------\n",
        "urllib(mine) sleeping to throttle requests\n",
        "urllib(mine) sleeping to throttle requests"
       ]
      },
      {
       "output_type": "stream",
       "stream": "stdout",
       "text": [
        "\n",
        "urllib(mine) sleeping to throttle requests"
       ]
      },
      {
       "output_type": "stream",
       "stream": "stdout",
       "text": [
        "\n",
        "urllib(mine) sleeping to throttle requests"
       ]
      },
      {
       "output_type": "stream",
       "stream": "stdout",
       "text": [
        "\n",
        "urllib(mine) sleeping to throttle requests"
       ]
      },
      {
       "output_type": "stream",
       "stream": "stdout",
       "text": [
        "\n",
        "urllib(mine) sleeping to throttle requests"
       ]
      },
      {
       "output_type": "stream",
       "stream": "stdout",
       "text": [
        "\n",
        "urllib(mine) sleeping to throttle requests"
       ]
      },
      {
       "output_type": "stream",
       "stream": "stdout",
       "text": [
        "\n",
        "urllib(mine) sleeping to throttle requests"
       ]
      },
      {
       "output_type": "stream",
       "stream": "stdout",
       "text": [
        "\n",
        "urllib(mine) sleeping to throttle requests"
       ]
      },
      {
       "output_type": "stream",
       "stream": "stdout",
       "text": [
        "\n",
        "urllib(mine) sleeping to throttle requests"
       ]
      },
      {
       "output_type": "stream",
       "stream": "stdout",
       "text": [
        "\n",
        "urllib(mine) sleeping to throttle requests"
       ]
      },
      {
       "output_type": "stream",
       "stream": "stdout",
       "text": [
        "\n",
        "urllib(mine) sleeping to throttle requests"
       ]
      },
      {
       "output_type": "stream",
       "stream": "stdout",
       "text": [
        "\n",
        "urllib(mine) sleeping to throttle requests"
       ]
      },
      {
       "output_type": "stream",
       "stream": "stdout",
       "text": [
        "\n",
        "urllib(mine) sleeping to throttle requests"
       ]
      },
      {
       "output_type": "stream",
       "stream": "stdout",
       "text": [
        "\n",
        "urllib(mine) sleeping to throttle requests"
       ]
      },
      {
       "output_type": "stream",
       "stream": "stdout",
       "text": [
        "\n",
        "urllib(mine) sleeping to throttle requests"
       ]
      },
      {
       "output_type": "stream",
       "stream": "stdout",
       "text": [
        "\n",
        "urllib(mine) sleeping to throttle requests"
       ]
      },
      {
       "output_type": "stream",
       "stream": "stdout",
       "text": [
        "\n",
        "urllib(mine) sleeping to throttle requests"
       ]
      },
      {
       "output_type": "stream",
       "stream": "stdout",
       "text": [
        "\n",
        "urllib(mine) sleeping to throttle requests"
       ]
      },
      {
       "output_type": "stream",
       "stream": "stdout",
       "text": [
        "\n",
        "urllib(mine) sleeping to throttle requests"
       ]
      },
      {
       "output_type": "stream",
       "stream": "stdout",
       "text": [
        "\n",
        "--------------------------------------"
       ]
      },
      {
       "output_type": "stream",
       "stream": "stdout",
       "text": [
        "\n",
        "Starting friend: 3GxGGcfabW2GeDyBQkQx4w\n",
        "--------------------------------------\n",
        "urllib(mine) sleeping to throttle requests\n",
        "urllib(mine) sleeping to throttle requests"
       ]
      },
      {
       "output_type": "stream",
       "stream": "stdout",
       "text": [
        "\n",
        "urllib(mine) sleeping to throttle requests"
       ]
      },
      {
       "output_type": "stream",
       "stream": "stdout",
       "text": [
        "\n",
        "urllib(mine) sleeping to throttle requests"
       ]
      },
      {
       "output_type": "stream",
       "stream": "stdout",
       "text": [
        "\n",
        "urllib(mine) sleeping to throttle requests"
       ]
      },
      {
       "output_type": "stream",
       "stream": "stdout",
       "text": [
        "\n",
        "urllib(mine) sleeping to throttle requests"
       ]
      },
      {
       "output_type": "stream",
       "stream": "stdout",
       "text": [
        "\n",
        "urllib(mine) sleeping to throttle requests"
       ]
      },
      {
       "output_type": "stream",
       "stream": "stdout",
       "text": [
        "\n",
        "urllib(mine) sleeping to throttle requests"
       ]
      },
      {
       "output_type": "stream",
       "stream": "stdout",
       "text": [
        "\n",
        "urllib(mine) sleeping to throttle requests"
       ]
      },
      {
       "output_type": "stream",
       "stream": "stdout",
       "text": [
        "\n",
        "urllib(mine) sleeping to throttle requests"
       ]
      },
      {
       "output_type": "stream",
       "stream": "stdout",
       "text": [
        "\n",
        "urllib(mine) sleeping to throttle requests"
       ]
      },
      {
       "output_type": "stream",
       "stream": "stdout",
       "text": [
        "\n",
        "urllib(mine) sleeping to throttle requests"
       ]
      },
      {
       "output_type": "stream",
       "stream": "stdout",
       "text": [
        "\n",
        "urllib(mine) sleeping to throttle requests"
       ]
      },
      {
       "output_type": "stream",
       "stream": "stdout",
       "text": [
        "\n",
        "urllib(mine) sleeping to throttle requests"
       ]
      },
      {
       "output_type": "stream",
       "stream": "stdout",
       "text": [
        "\n",
        "urllib(mine) sleeping to throttle requests"
       ]
      },
      {
       "output_type": "stream",
       "stream": "stdout",
       "text": [
        "\n",
        "urllib(mine) sleeping to throttle requests"
       ]
      },
      {
       "output_type": "stream",
       "stream": "stdout",
       "text": [
        "\n",
        "urllib(mine) sleeping to throttle requests"
       ]
      },
      {
       "output_type": "stream",
       "stream": "stdout",
       "text": [
        "\n",
        "urllib(mine) sleeping to throttle requests"
       ]
      },
      {
       "output_type": "stream",
       "stream": "stdout",
       "text": [
        "\n",
        "urllib(mine) sleeping to throttle requests"
       ]
      },
      {
       "output_type": "stream",
       "stream": "stdout",
       "text": [
        "\n",
        "urllib(mine) sleeping to throttle requests"
       ]
      },
      {
       "output_type": "stream",
       "stream": "stdout",
       "text": [
        "\n",
        "urllib(mine) sleeping to throttle requests"
       ]
      },
      {
       "output_type": "stream",
       "stream": "stdout",
       "text": [
        "\n",
        "urllib(mine) sleeping to throttle requests"
       ]
      },
      {
       "output_type": "stream",
       "stream": "stdout",
       "text": [
        "\n",
        "urllib(mine) sleeping to throttle requests"
       ]
      },
      {
       "output_type": "stream",
       "stream": "stdout",
       "text": [
        "\n",
        "urllib(mine) sleeping to throttle requests"
       ]
      },
      {
       "output_type": "stream",
       "stream": "stdout",
       "text": [
        "\n",
        "--------------------------------------"
       ]
      },
      {
       "output_type": "stream",
       "stream": "stdout",
       "text": [
        "\n",
        "Starting friend: 6KLAeasSyvwM-k57VWYF0Q\n",
        "--------------------------------------\n",
        "urllib(mine) sleeping to throttle requests\n",
        "urllib(mine) sleeping to throttle requests"
       ]
      },
      {
       "output_type": "stream",
       "stream": "stdout",
       "text": [
        "\n",
        "urllib(mine) sleeping to throttle requests"
       ]
      },
      {
       "output_type": "stream",
       "stream": "stdout",
       "text": [
        "\n",
        "urllib(mine) sleeping to throttle requests"
       ]
      },
      {
       "output_type": "stream",
       "stream": "stdout",
       "text": [
        "\n",
        "urllib(mine) sleeping to throttle requests"
       ]
      },
      {
       "output_type": "stream",
       "stream": "stdout",
       "text": [
        "\n",
        "urllib(mine) sleeping to throttle requests"
       ]
      },
      {
       "output_type": "stream",
       "stream": "stdout",
       "text": [
        "\n",
        "urllib(mine) sleeping to throttle requests"
       ]
      },
      {
       "output_type": "stream",
       "stream": "stdout",
       "text": [
        "\n",
        "urllib(mine) sleeping to throttle requests"
       ]
      },
      {
       "output_type": "stream",
       "stream": "stdout",
       "text": [
        "\n",
        "urllib(mine) sleeping to throttle requests"
       ]
      },
      {
       "output_type": "stream",
       "stream": "stdout",
       "text": [
        "\n",
        "urllib(mine) sleeping to throttle requests"
       ]
      },
      {
       "output_type": "stream",
       "stream": "stdout",
       "text": [
        "\n",
        "urllib(mine) sleeping to throttle requests"
       ]
      },
      {
       "output_type": "stream",
       "stream": "stdout",
       "text": [
        "\n",
        "urllib(mine) sleeping to throttle requests"
       ]
      },
      {
       "output_type": "stream",
       "stream": "stdout",
       "text": [
        "\n",
        "urllib(mine) sleeping to throttle requests"
       ]
      },
      {
       "output_type": "stream",
       "stream": "stdout",
       "text": [
        "\n",
        "urllib(mine) sleeping to throttle requests"
       ]
      },
      {
       "output_type": "stream",
       "stream": "stdout",
       "text": [
        "\n",
        "urllib(mine) sleeping to throttle requests"
       ]
      },
      {
       "output_type": "stream",
       "stream": "stdout",
       "text": [
        "\n",
        "urllib(mine) sleeping to throttle requests"
       ]
      },
      {
       "output_type": "stream",
       "stream": "stdout",
       "text": [
        "\n",
        "urllib(mine) sleeping to throttle requests"
       ]
      },
      {
       "output_type": "stream",
       "stream": "stdout",
       "text": [
        "\n",
        "urllib(mine) sleeping to throttle requests"
       ]
      },
      {
       "output_type": "stream",
       "stream": "stdout",
       "text": [
        "\n",
        "urllib(mine) sleeping to throttle requests"
       ]
      },
      {
       "output_type": "stream",
       "stream": "stdout",
       "text": [
        "\n",
        "urllib(mine) sleeping to throttle requests"
       ]
      },
      {
       "output_type": "stream",
       "stream": "stdout",
       "text": [
        "\n",
        "urllib(mine) sleeping to throttle requests"
       ]
      },
      {
       "output_type": "stream",
       "stream": "stdout",
       "text": [
        "\n",
        "urllib(mine) sleeping to throttle requests"
       ]
      },
      {
       "output_type": "stream",
       "stream": "stdout",
       "text": [
        "\n",
        "urllib(mine) sleeping to throttle requests"
       ]
      },
      {
       "output_type": "stream",
       "stream": "stdout",
       "text": [
        "\n",
        "urllib(mine) sleeping to throttle requests"
       ]
      },
      {
       "output_type": "stream",
       "stream": "stdout",
       "text": [
        "\n",
        "urllib(mine) sleeping to throttle requests"
       ]
      },
      {
       "output_type": "stream",
       "stream": "stdout",
       "text": [
        "\n",
        "--------------------------------------"
       ]
      },
      {
       "output_type": "stream",
       "stream": "stdout",
       "text": [
        "\n",
        "Starting friend: qAxmS8J7Si4Iupvic0TDrw\n",
        "--------------------------------------\n",
        "urllib(mine) sleeping to throttle requests\n",
        "urllib(mine) sleeping to throttle requests"
       ]
      },
      {
       "output_type": "stream",
       "stream": "stdout",
       "text": [
        "\n",
        "urllib(mine) sleeping to throttle requests"
       ]
      },
      {
       "output_type": "stream",
       "stream": "stdout",
       "text": [
        "\n",
        "urllib(mine) sleeping to throttle requests"
       ]
      },
      {
       "output_type": "stream",
       "stream": "stdout",
       "text": [
        "\n",
        "urllib(mine) sleeping to throttle requests"
       ]
      },
      {
       "output_type": "stream",
       "stream": "stdout",
       "text": [
        "\n",
        "urllib(mine) sleeping to throttle requests"
       ]
      },
      {
       "output_type": "stream",
       "stream": "stdout",
       "text": [
        "\n",
        "urllib(mine) sleeping to throttle requests"
       ]
      },
      {
       "output_type": "stream",
       "stream": "stdout",
       "text": [
        "\n",
        "urllib(mine) sleeping to throttle requests"
       ]
      },
      {
       "output_type": "stream",
       "stream": "stdout",
       "text": [
        "\n",
        "--------------------------------------"
       ]
      },
      {
       "output_type": "stream",
       "stream": "stdout",
       "text": [
        "\n",
        "Starting friend: CwBh8Fmr07jFYBKZ2p6Mqg\n",
        "--------------------------------------\n",
        "urllib(mine) sleeping to throttle requests\n",
        "urllib(mine) sleeping to throttle requests"
       ]
      },
      {
       "output_type": "stream",
       "stream": "stdout",
       "text": [
        "\n",
        "urllib(mine) sleeping to throttle requests"
       ]
      },
      {
       "output_type": "stream",
       "stream": "stdout",
       "text": [
        "\n",
        "urllib(mine) sleeping to throttle requests"
       ]
      },
      {
       "output_type": "stream",
       "stream": "stdout",
       "text": [
        "\n",
        "urllib(mine) sleeping to throttle requests"
       ]
      },
      {
       "output_type": "stream",
       "stream": "stdout",
       "text": [
        "\n",
        "urllib(mine) sleeping to throttle requests"
       ]
      },
      {
       "output_type": "stream",
       "stream": "stdout",
       "text": [
        "\n",
        "urllib(mine) sleeping to throttle requests"
       ]
      },
      {
       "output_type": "stream",
       "stream": "stdout",
       "text": [
        "\n",
        "urllib(mine) sleeping to throttle requests"
       ]
      },
      {
       "output_type": "stream",
       "stream": "stdout",
       "text": [
        "\n",
        "urllib(mine) sleeping to throttle requests"
       ]
      },
      {
       "output_type": "stream",
       "stream": "stdout",
       "text": [
        "\n",
        "urllib(mine) sleeping to throttle requests"
       ]
      },
      {
       "output_type": "stream",
       "stream": "stdout",
       "text": [
        "\n",
        "urllib(mine) sleeping to throttle requests"
       ]
      },
      {
       "output_type": "stream",
       "stream": "stdout",
       "text": [
        "\n",
        "urllib(mine) sleeping to throttle requests"
       ]
      },
      {
       "output_type": "stream",
       "stream": "stdout",
       "text": [
        "\n",
        "urllib(mine) sleeping to throttle requests"
       ]
      },
      {
       "output_type": "stream",
       "stream": "stdout",
       "text": [
        "\n",
        "urllib(mine) sleeping to throttle requests"
       ]
      },
      {
       "output_type": "stream",
       "stream": "stdout",
       "text": [
        "\n",
        "urllib(mine) sleeping to throttle requests"
       ]
      },
      {
       "output_type": "stream",
       "stream": "stdout",
       "text": [
        "\n",
        "urllib(mine) sleeping to throttle requests"
       ]
      },
      {
       "output_type": "stream",
       "stream": "stdout",
       "text": [
        "\n",
        "urllib(mine) sleeping to throttle requests"
       ]
      },
      {
       "output_type": "stream",
       "stream": "stdout",
       "text": [
        "\n",
        "urllib(mine) sleeping to throttle requests"
       ]
      },
      {
       "output_type": "stream",
       "stream": "stdout",
       "text": [
        "\n",
        "urllib(mine) sleeping to throttle requests"
       ]
      },
      {
       "output_type": "stream",
       "stream": "stdout",
       "text": [
        "\n",
        "urllib(mine) sleeping to throttle requests"
       ]
      },
      {
       "output_type": "stream",
       "stream": "stdout",
       "text": [
        "\n",
        "urllib(mine) sleeping to throttle requests"
       ]
      },
      {
       "output_type": "stream",
       "stream": "stdout",
       "text": [
        "\n",
        "urllib(mine) sleeping to throttle requests"
       ]
      },
      {
       "output_type": "stream",
       "stream": "stdout",
       "text": [
        "\n",
        "urllib(mine) sleeping to throttle requests"
       ]
      },
      {
       "output_type": "stream",
       "stream": "stdout",
       "text": [
        "\n",
        "urllib(mine) sleeping to throttle requests"
       ]
      },
      {
       "output_type": "stream",
       "stream": "stdout",
       "text": [
        "\n",
        "urllib(mine) sleeping to throttle requests"
       ]
      },
      {
       "output_type": "stream",
       "stream": "stdout",
       "text": [
        "\n",
        "urllib(mine) sleeping to throttle requests"
       ]
      },
      {
       "output_type": "stream",
       "stream": "stdout",
       "text": [
        "\n",
        "urllib(mine) sleeping to throttle requests"
       ]
      },
      {
       "output_type": "stream",
       "stream": "stdout",
       "text": [
        "\n",
        "urllib(mine) sleeping to throttle requests"
       ]
      },
      {
       "output_type": "stream",
       "stream": "stdout",
       "text": [
        "\n",
        "urllib(mine) sleeping to throttle requests"
       ]
      },
      {
       "output_type": "stream",
       "stream": "stdout",
       "text": [
        "\n",
        "urllib(mine) sleeping to throttle requests"
       ]
      },
      {
       "output_type": "stream",
       "stream": "stdout",
       "text": [
        "\n",
        "urllib(mine) sleeping to throttle requests"
       ]
      },
      {
       "output_type": "stream",
       "stream": "stdout",
       "text": [
        "\n",
        "urllib(mine) sleeping to throttle requests"
       ]
      },
      {
       "output_type": "stream",
       "stream": "stdout",
       "text": [
        "\n",
        "urllib(mine) sleeping to throttle requests"
       ]
      },
      {
       "output_type": "stream",
       "stream": "stdout",
       "text": [
        "\n",
        "urllib(mine) sleeping to throttle requests"
       ]
      },
      {
       "output_type": "stream",
       "stream": "stdout",
       "text": [
        "\n",
        "urllib(mine) sleeping to throttle requests"
       ]
      },
      {
       "output_type": "stream",
       "stream": "stdout",
       "text": [
        "\n",
        "urllib(mine) sleeping to throttle requests"
       ]
      },
      {
       "output_type": "stream",
       "stream": "stdout",
       "text": [
        "\n",
        "urllib(mine) sleeping to throttle requests"
       ]
      },
      {
       "output_type": "stream",
       "stream": "stdout",
       "text": [
        "\n",
        "urllib(mine) sleeping to throttle requests"
       ]
      },
      {
       "output_type": "stream",
       "stream": "stdout",
       "text": [
        "\n",
        "urllib(mine) sleeping to throttle requests"
       ]
      },
      {
       "output_type": "stream",
       "stream": "stdout",
       "text": [
        "\n",
        "urllib(mine) sleeping to throttle requests"
       ]
      },
      {
       "output_type": "stream",
       "stream": "stdout",
       "text": [
        "\n",
        "urllib(mine) sleeping to throttle requests"
       ]
      },
      {
       "output_type": "stream",
       "stream": "stdout",
       "text": [
        "\n",
        "urllib(mine) sleeping to throttle requests"
       ]
      },
      {
       "output_type": "stream",
       "stream": "stdout",
       "text": [
        "\n",
        "urllib(mine) sleeping to throttle requests"
       ]
      },
      {
       "output_type": "stream",
       "stream": "stdout",
       "text": [
        "\n",
        "--------------------------------------"
       ]
      },
      {
       "output_type": "stream",
       "stream": "stdout",
       "text": [
        "\n",
        "Starting friend: 7jgB15D3lBKZoH2RyF43iw\n",
        "--------------------------------------\n",
        "urllib(mine) sleeping to throttle requests\n",
        "--------------------------------------"
       ]
      },
      {
       "output_type": "stream",
       "stream": "stdout",
       "text": [
        "\n",
        "Starting friend: 5--MI8h3CqtgwtVSGlbS-w\n",
        "--------------------------------------\n",
        "urllib(mine) sleeping to throttle requests\n",
        "urllib(mine) sleeping to throttle requests"
       ]
      },
      {
       "output_type": "stream",
       "stream": "stdout",
       "text": [
        "\n",
        "urllib(mine) sleeping to throttle requests"
       ]
      },
      {
       "output_type": "stream",
       "stream": "stdout",
       "text": [
        "\n",
        "urllib(mine) sleeping to throttle requests"
       ]
      },
      {
       "output_type": "stream",
       "stream": "stdout",
       "text": [
        "\n",
        "urllib(mine) sleeping to throttle requests"
       ]
      },
      {
       "output_type": "stream",
       "stream": "stdout",
       "text": [
        "\n",
        "urllib(mine) sleeping to throttle requests"
       ]
      },
      {
       "output_type": "stream",
       "stream": "stdout",
       "text": [
        "\n",
        "urllib(mine) sleeping to throttle requests"
       ]
      },
      {
       "output_type": "stream",
       "stream": "stdout",
       "text": [
        "\n",
        "urllib(mine) sleeping to throttle requests"
       ]
      },
      {
       "output_type": "stream",
       "stream": "stdout",
       "text": [
        "\n",
        "urllib(mine) sleeping to throttle requests"
       ]
      },
      {
       "output_type": "stream",
       "stream": "stdout",
       "text": [
        "\n",
        "urllib(mine) sleeping to throttle requests"
       ]
      },
      {
       "output_type": "stream",
       "stream": "stdout",
       "text": [
        "\n",
        "urllib(mine) sleeping to throttle requests"
       ]
      },
      {
       "output_type": "stream",
       "stream": "stdout",
       "text": [
        "\n",
        "urllib(mine) sleeping to throttle requests"
       ]
      },
      {
       "output_type": "stream",
       "stream": "stdout",
       "text": [
        "\n",
        "urllib(mine) sleeping to throttle requests"
       ]
      },
      {
       "output_type": "stream",
       "stream": "stdout",
       "text": [
        "\n",
        "urllib(mine) sleeping to throttle requests"
       ]
      },
      {
       "output_type": "stream",
       "stream": "stdout",
       "text": [
        "\n",
        "urllib(mine) sleeping to throttle requests"
       ]
      },
      {
       "output_type": "stream",
       "stream": "stdout",
       "text": [
        "\n",
        "urllib(mine) sleeping to throttle requests"
       ]
      },
      {
       "output_type": "stream",
       "stream": "stdout",
       "text": [
        "\n",
        "urllib(mine) sleeping to throttle requests"
       ]
      },
      {
       "output_type": "stream",
       "stream": "stdout",
       "text": [
        "\n",
        "urllib(mine) sleeping to throttle requests"
       ]
      },
      {
       "output_type": "stream",
       "stream": "stdout",
       "text": [
        "\n",
        "urllib(mine) sleeping to throttle requests"
       ]
      },
      {
       "output_type": "stream",
       "stream": "stdout",
       "text": [
        "\n",
        "urllib(mine) sleeping to throttle requests"
       ]
      },
      {
       "output_type": "stream",
       "stream": "stdout",
       "text": [
        "\n",
        "--------------------------------------"
       ]
      },
      {
       "output_type": "stream",
       "stream": "stdout",
       "text": [
        "\n",
        "Starting friend: WdX96YfO8eyfCyJvYCaoXw\n",
        "--------------------------------------\n",
        "urllib(mine) sleeping to throttle requests\n",
        "urllib(mine) sleeping to throttle requests"
       ]
      },
      {
       "output_type": "stream",
       "stream": "stdout",
       "text": [
        "\n",
        "urllib(mine) sleeping to throttle requests"
       ]
      },
      {
       "output_type": "stream",
       "stream": "stdout",
       "text": [
        "\n",
        "urllib(mine) sleeping to throttle requests"
       ]
      },
      {
       "output_type": "stream",
       "stream": "stdout",
       "text": [
        "\n",
        "urllib(mine) sleeping to throttle requests"
       ]
      },
      {
       "output_type": "stream",
       "stream": "stdout",
       "text": [
        "\n",
        "urllib(mine) sleeping to throttle requests"
       ]
      },
      {
       "output_type": "stream",
       "stream": "stdout",
       "text": [
        "\n",
        "urllib(mine) sleeping to throttle requests"
       ]
      },
      {
       "output_type": "stream",
       "stream": "stdout",
       "text": [
        "\n",
        "urllib(mine) sleeping to throttle requests"
       ]
      },
      {
       "output_type": "stream",
       "stream": "stdout",
       "text": [
        "\n",
        "urllib(mine) sleeping to throttle requests"
       ]
      },
      {
       "output_type": "stream",
       "stream": "stdout",
       "text": [
        "\n",
        "urllib(mine) sleeping to throttle requests"
       ]
      },
      {
       "output_type": "stream",
       "stream": "stdout",
       "text": [
        "\n",
        "urllib(mine) sleeping to throttle requests"
       ]
      },
      {
       "output_type": "stream",
       "stream": "stdout",
       "text": [
        "\n",
        "urllib(mine) sleeping to throttle requests"
       ]
      },
      {
       "output_type": "stream",
       "stream": "stdout",
       "text": [
        "\n",
        "urllib(mine) sleeping to throttle requests"
       ]
      },
      {
       "output_type": "stream",
       "stream": "stdout",
       "text": [
        "\n",
        "urllib(mine) sleeping to throttle requests"
       ]
      },
      {
       "output_type": "stream",
       "stream": "stdout",
       "text": [
        "\n",
        "urllib(mine) sleeping to throttle requests"
       ]
      },
      {
       "output_type": "stream",
       "stream": "stdout",
       "text": [
        "\n",
        "urllib(mine) sleeping to throttle requests"
       ]
      },
      {
       "output_type": "stream",
       "stream": "stdout",
       "text": [
        "\n",
        "urllib(mine) sleeping to throttle requests"
       ]
      },
      {
       "output_type": "stream",
       "stream": "stdout",
       "text": [
        "\n",
        "urllib(mine) sleeping to throttle requests"
       ]
      },
      {
       "output_type": "stream",
       "stream": "stdout",
       "text": [
        "\n",
        "urllib(mine) sleeping to throttle requests"
       ]
      },
      {
       "output_type": "stream",
       "stream": "stdout",
       "text": [
        "\n",
        "urllib(mine) sleeping to throttle requests"
       ]
      },
      {
       "output_type": "stream",
       "stream": "stdout",
       "text": [
        "\n",
        "urllib(mine) sleeping to throttle requests"
       ]
      },
      {
       "output_type": "stream",
       "stream": "stdout",
       "text": [
        "\n",
        "urllib(mine) sleeping to throttle requests"
       ]
      },
      {
       "output_type": "stream",
       "stream": "stdout",
       "text": [
        "\n",
        "urllib(mine) sleeping to throttle requests"
       ]
      },
      {
       "output_type": "stream",
       "stream": "stdout",
       "text": [
        "\n",
        "urllib(mine) sleeping to throttle requests"
       ]
      },
      {
       "output_type": "stream",
       "stream": "stdout",
       "text": [
        "\n",
        "urllib(mine) sleeping to throttle requests"
       ]
      },
      {
       "output_type": "stream",
       "stream": "stdout",
       "text": [
        "\n",
        "urllib(mine) sleeping to throttle requests"
       ]
      },
      {
       "output_type": "stream",
       "stream": "stdout",
       "text": [
        "\n",
        "urllib(mine) sleeping to throttle requests"
       ]
      },
      {
       "output_type": "stream",
       "stream": "stdout",
       "text": [
        "\n",
        "urllib(mine) sleeping to throttle requests"
       ]
      },
      {
       "output_type": "stream",
       "stream": "stdout",
       "text": [
        "\n",
        "urllib(mine) sleeping to throttle requests"
       ]
      },
      {
       "output_type": "stream",
       "stream": "stdout",
       "text": [
        "\n",
        "urllib(mine) sleeping to throttle requests"
       ]
      },
      {
       "output_type": "stream",
       "stream": "stdout",
       "text": [
        "\n",
        "urllib(mine) sleeping to throttle requests"
       ]
      },
      {
       "output_type": "stream",
       "stream": "stdout",
       "text": [
        "\n",
        "--------------------------------------"
       ]
      },
      {
       "output_type": "stream",
       "stream": "stdout",
       "text": [
        "\n",
        "Starting friend: VsqjHEVR40g1CEHouaJUcA\n",
        "--------------------------------------\n",
        "urllib(mine) sleeping to throttle requests\n",
        "--------------------------------------"
       ]
      },
      {
       "output_type": "stream",
       "stream": "stdout",
       "text": [
        "\n",
        "Starting friend: a59TuNRSbF7P5INNCEp4Xg\n",
        "--------------------------------------\n",
        "urllib(mine) sleeping to throttle requests\n",
        "urllib(mine) sleeping to throttle requests"
       ]
      },
      {
       "output_type": "stream",
       "stream": "stdout",
       "text": [
        "\n",
        "urllib(mine) sleeping to throttle requests"
       ]
      },
      {
       "output_type": "stream",
       "stream": "stdout",
       "text": [
        "\n",
        "urllib(mine) sleeping to throttle requests"
       ]
      },
      {
       "output_type": "stream",
       "stream": "stdout",
       "text": [
        "\n",
        "--------------------------------------"
       ]
      },
      {
       "output_type": "stream",
       "stream": "stdout",
       "text": [
        "\n",
        "Starting friend: QMtv7dfMZLNSCIFs4olHXQ\n",
        "--------------------------------------\n",
        "urllib(mine) sleeping to throttle requests\n",
        "urllib(mine) sleeping to throttle requests"
       ]
      },
      {
       "output_type": "stream",
       "stream": "stdout",
       "text": [
        "\n",
        "urllib(mine) sleeping to throttle requests"
       ]
      },
      {
       "output_type": "stream",
       "stream": "stdout",
       "text": [
        "\n",
        "--------------------------------------"
       ]
      },
      {
       "output_type": "stream",
       "stream": "stdout",
       "text": [
        "\n",
        "Starting friend: dE0A7ubjBu_bwkeRN5lCWg\n",
        "--------------------------------------\n",
        "urllib(mine) sleeping to throttle requests\n",
        "--------------------------------------"
       ]
      },
      {
       "output_type": "stream",
       "stream": "stdout",
       "text": [
        "\n",
        "Starting friend: WfIg1djOeHdJpEQFVRikog\n",
        "--------------------------------------\n",
        "urllib(mine) sleeping to throttle requests\n",
        "--------------------------------------"
       ]
      },
      {
       "output_type": "stream",
       "stream": "stdout",
       "text": [
        "\n",
        "Starting friend: lhdQbokUhRCllE-sWlfqaw\n",
        "--------------------------------------\n",
        "urllib(mine) sleeping to throttle requests\n",
        "urllib(mine) sleeping to throttle requests"
       ]
      },
      {
       "output_type": "stream",
       "stream": "stdout",
       "text": [
        "\n",
        "urllib(mine) sleeping to throttle requests"
       ]
      },
      {
       "output_type": "stream",
       "stream": "stdout",
       "text": [
        "\n",
        "urllib(mine) sleeping to throttle requests"
       ]
      },
      {
       "output_type": "stream",
       "stream": "stdout",
       "text": [
        "\n",
        "--------------------------------------"
       ]
      },
      {
       "output_type": "stream",
       "stream": "stdout",
       "text": [
        "\n",
        "Starting friend: 5vrsCDM2E5X6fEJO3aKl-w\n",
        "--------------------------------------\n",
        "urllib(mine) sleeping to throttle requests\n",
        "urllib(mine) sleeping to throttle requests"
       ]
      },
      {
       "output_type": "stream",
       "stream": "stdout",
       "text": [
        "\n",
        "urllib(mine) sleeping to throttle requests"
       ]
      },
      {
       "output_type": "stream",
       "stream": "stdout",
       "text": [
        "\n",
        "urllib(mine) sleeping to throttle requests"
       ]
      },
      {
       "output_type": "stream",
       "stream": "stdout",
       "text": [
        "\n",
        "urllib(mine) sleeping to throttle requests"
       ]
      },
      {
       "output_type": "stream",
       "stream": "stdout",
       "text": [
        "\n",
        "urllib(mine) sleeping to throttle requests"
       ]
      },
      {
       "output_type": "stream",
       "stream": "stdout",
       "text": [
        "\n",
        "urllib(mine) sleeping to throttle requests"
       ]
      },
      {
       "output_type": "stream",
       "stream": "stdout",
       "text": [
        "\n",
        "urllib(mine) sleeping to throttle requests"
       ]
      },
      {
       "output_type": "stream",
       "stream": "stdout",
       "text": [
        "\n",
        "urllib(mine) sleeping to throttle requests"
       ]
      },
      {
       "output_type": "stream",
       "stream": "stdout",
       "text": [
        "\n",
        "--------------------------------------"
       ]
      },
      {
       "output_type": "stream",
       "stream": "stdout",
       "text": [
        "\n",
        "Starting friend: COD6IERVtvqKyRqD3ZQLow\n",
        "--------------------------------------\n",
        "urllib(mine) sleeping to throttle requests\n",
        "urllib(mine) sleeping to throttle requests"
       ]
      },
      {
       "output_type": "stream",
       "stream": "stdout",
       "text": [
        "\n",
        "urllib(mine) sleeping to throttle requests"
       ]
      },
      {
       "output_type": "stream",
       "stream": "stdout",
       "text": [
        "\n",
        "urllib(mine) sleeping to throttle requests"
       ]
      },
      {
       "output_type": "stream",
       "stream": "stdout",
       "text": [
        "\n",
        "urllib(mine) sleeping to throttle requests"
       ]
      },
      {
       "output_type": "stream",
       "stream": "stdout",
       "text": [
        "\n",
        "urllib(mine) sleeping to throttle requests"
       ]
      },
      {
       "output_type": "stream",
       "stream": "stdout",
       "text": [
        "\n",
        "urllib(mine) sleeping to throttle requests"
       ]
      },
      {
       "output_type": "stream",
       "stream": "stdout",
       "text": [
        "\n",
        "urllib(mine) sleeping to throttle requests"
       ]
      },
      {
       "output_type": "stream",
       "stream": "stdout",
       "text": [
        "\n",
        "urllib(mine) sleeping to throttle requests"
       ]
      },
      {
       "output_type": "stream",
       "stream": "stdout",
       "text": [
        "\n",
        "urllib(mine) sleeping to throttle requests"
       ]
      },
      {
       "output_type": "stream",
       "stream": "stdout",
       "text": [
        "\n",
        "urllib(mine) sleeping to throttle requests"
       ]
      },
      {
       "output_type": "stream",
       "stream": "stdout",
       "text": [
        "\n",
        "urllib(mine) sleeping to throttle requests"
       ]
      },
      {
       "output_type": "stream",
       "stream": "stdout",
       "text": [
        "\n",
        "urllib(mine) sleeping to throttle requests"
       ]
      },
      {
       "output_type": "stream",
       "stream": "stdout",
       "text": [
        "\n",
        "urllib(mine) sleeping to throttle requests"
       ]
      },
      {
       "output_type": "stream",
       "stream": "stdout",
       "text": [
        "\n",
        "urllib(mine) sleeping to throttle requests"
       ]
      },
      {
       "output_type": "stream",
       "stream": "stdout",
       "text": [
        "\n",
        "urllib(mine) sleeping to throttle requests"
       ]
      },
      {
       "output_type": "stream",
       "stream": "stdout",
       "text": [
        "\n",
        "--------------------------------------"
       ]
      },
      {
       "output_type": "stream",
       "stream": "stdout",
       "text": [
        "\n",
        "Starting friend: Q3TBG3MquVltOG-orR8QYg\n",
        "--------------------------------------\n",
        "urllib(mine) sleeping to throttle requests\n",
        "urllib(mine) sleeping to throttle requests"
       ]
      },
      {
       "output_type": "stream",
       "stream": "stdout",
       "text": [
        "\n",
        "urllib(mine) sleeping to throttle requests"
       ]
      },
      {
       "output_type": "stream",
       "stream": "stdout",
       "text": [
        "\n",
        "urllib(mine) sleeping to throttle requests"
       ]
      },
      {
       "output_type": "stream",
       "stream": "stdout",
       "text": [
        "\n",
        "urllib(mine) sleeping to throttle requests"
       ]
      },
      {
       "output_type": "stream",
       "stream": "stdout",
       "text": [
        "\n",
        "urllib(mine) sleeping to throttle requests"
       ]
      },
      {
       "output_type": "stream",
       "stream": "stdout",
       "text": [
        "\n",
        "urllib(mine) sleeping to throttle requests"
       ]
      },
      {
       "output_type": "stream",
       "stream": "stdout",
       "text": [
        "\n",
        "urllib(mine) sleeping to throttle requests"
       ]
      },
      {
       "output_type": "stream",
       "stream": "stdout",
       "text": [
        "\n",
        "urllib(mine) sleeping to throttle requests"
       ]
      },
      {
       "output_type": "stream",
       "stream": "stdout",
       "text": [
        "\n",
        "urllib(mine) sleeping to throttle requests"
       ]
      },
      {
       "output_type": "stream",
       "stream": "stdout",
       "text": [
        "\n",
        "urllib(mine) sleeping to throttle requests"
       ]
      },
      {
       "output_type": "stream",
       "stream": "stdout",
       "text": [
        "\n",
        "urllib(mine) sleeping to throttle requests"
       ]
      },
      {
       "output_type": "stream",
       "stream": "stdout",
       "text": [
        "\n",
        "urllib(mine) sleeping to throttle requests"
       ]
      },
      {
       "output_type": "stream",
       "stream": "stdout",
       "text": [
        "\n",
        "urllib(mine) sleeping to throttle requests"
       ]
      },
      {
       "output_type": "stream",
       "stream": "stdout",
       "text": [
        "\n",
        "urllib(mine) sleeping to throttle requests"
       ]
      },
      {
       "output_type": "stream",
       "stream": "stdout",
       "text": [
        "\n",
        "--------------------------------------"
       ]
      },
      {
       "output_type": "stream",
       "stream": "stdout",
       "text": [
        "\n",
        "Starting friend: 994SE9NAuXI24y8oCPR71g\n",
        "--------------------------------------\n",
        "urllib(mine) sleeping to throttle requests\n",
        "urllib(mine) sleeping to throttle requests"
       ]
      },
      {
       "output_type": "stream",
       "stream": "stdout",
       "text": [
        "\n",
        "urllib(mine) sleeping to throttle requests"
       ]
      },
      {
       "output_type": "stream",
       "stream": "stdout",
       "text": [
        "\n",
        "urllib(mine) sleeping to throttle requests"
       ]
      },
      {
       "output_type": "stream",
       "stream": "stdout",
       "text": [
        "\n",
        "urllib(mine) sleeping to throttle requests"
       ]
      },
      {
       "output_type": "stream",
       "stream": "stdout",
       "text": [
        "\n",
        "urllib(mine) sleeping to throttle requests"
       ]
      },
      {
       "output_type": "stream",
       "stream": "stdout",
       "text": [
        "\n",
        "urllib(mine) sleeping to throttle requests"
       ]
      },
      {
       "output_type": "stream",
       "stream": "stdout",
       "text": [
        "\n",
        "urllib(mine) sleeping to throttle requests"
       ]
      },
      {
       "output_type": "stream",
       "stream": "stdout",
       "text": [
        "\n",
        "urllib(mine) sleeping to throttle requests"
       ]
      },
      {
       "output_type": "stream",
       "stream": "stdout",
       "text": [
        "\n",
        "urllib(mine) sleeping to throttle requests"
       ]
      },
      {
       "output_type": "stream",
       "stream": "stdout",
       "text": [
        "\n",
        "urllib(mine) sleeping to throttle requests"
       ]
      },
      {
       "output_type": "stream",
       "stream": "stdout",
       "text": [
        "\n",
        "urllib(mine) sleeping to throttle requests"
       ]
      },
      {
       "output_type": "stream",
       "stream": "stdout",
       "text": [
        "\n",
        "urllib(mine) sleeping to throttle requests"
       ]
      },
      {
       "output_type": "stream",
       "stream": "stdout",
       "text": [
        "\n",
        "urllib(mine) sleeping to throttle requests"
       ]
      },
      {
       "output_type": "stream",
       "stream": "stdout",
       "text": [
        "\n",
        "urllib(mine) sleeping to throttle requests"
       ]
      },
      {
       "output_type": "stream",
       "stream": "stdout",
       "text": [
        "\n",
        "urllib(mine) sleeping to throttle requests"
       ]
      },
      {
       "output_type": "stream",
       "stream": "stdout",
       "text": [
        "\n",
        "urllib(mine) sleeping to throttle requests"
       ]
      },
      {
       "output_type": "stream",
       "stream": "stdout",
       "text": [
        "\n",
        "urllib(mine) sleeping to throttle requests"
       ]
      },
      {
       "output_type": "stream",
       "stream": "stdout",
       "text": [
        "\n",
        "urllib(mine) sleeping to throttle requests"
       ]
      },
      {
       "output_type": "stream",
       "stream": "stdout",
       "text": [
        "\n",
        "urllib(mine) sleeping to throttle requests"
       ]
      },
      {
       "output_type": "stream",
       "stream": "stdout",
       "text": [
        "\n",
        "urllib(mine) sleeping to throttle requests"
       ]
      },
      {
       "output_type": "stream",
       "stream": "stdout",
       "text": [
        "\n",
        "urllib(mine) sleeping to throttle requests"
       ]
      },
      {
       "output_type": "stream",
       "stream": "stdout",
       "text": [
        "\n",
        "urllib(mine) sleeping to throttle requests"
       ]
      },
      {
       "output_type": "stream",
       "stream": "stdout",
       "text": [
        "\n",
        "urllib(mine) sleeping to throttle requests"
       ]
      },
      {
       "output_type": "stream",
       "stream": "stdout",
       "text": [
        "\n",
        "urllib(mine) sleeping to throttle requests"
       ]
      },
      {
       "output_type": "stream",
       "stream": "stdout",
       "text": [
        "\n",
        "urllib(mine) sleeping to throttle requests"
       ]
      },
      {
       "output_type": "stream",
       "stream": "stdout",
       "text": [
        "\n",
        "--------------------------------------"
       ]
      },
      {
       "output_type": "stream",
       "stream": "stdout",
       "text": [
        "\n",
        "Starting friend: xnSJan6KlGGEbhCKqtWhCA\n",
        "--------------------------------------\n",
        "urllib(mine) sleeping to throttle requests\n",
        "urllib(mine) sleeping to throttle requests"
       ]
      },
      {
       "output_type": "stream",
       "stream": "stdout",
       "text": [
        "\n",
        "--------------------------------------"
       ]
      },
      {
       "output_type": "stream",
       "stream": "stdout",
       "text": [
        "\n",
        "Starting friend: 0q1ZvHbbZ5kJ-TMi_2mclw\n",
        "--------------------------------------\n",
        "urllib(mine) sleeping to throttle requests\n",
        "urllib(mine) sleeping to throttle requests"
       ]
      },
      {
       "output_type": "stream",
       "stream": "stdout",
       "text": [
        "\n",
        "--------------------------------------"
       ]
      },
      {
       "output_type": "stream",
       "stream": "stdout",
       "text": [
        "\n",
        "Starting friend: 5QDNmWsrcaVrDIcomg5jVA\n",
        "--------------------------------------\n",
        "urllib(mine) sleeping to throttle requests\n",
        "--------------------------------------"
       ]
      },
      {
       "output_type": "stream",
       "stream": "stdout",
       "text": [
        "\n",
        "Starting friend: xp1MZpGEmV2XkBXdV7KSNg\n",
        "--------------------------------------\n",
        "urllib(mine) sleeping to throttle requests\n",
        "--------------------------------------"
       ]
      },
      {
       "output_type": "stream",
       "stream": "stdout",
       "text": [
        "\n",
        "Starting friend: BAyQKb6FkPzjpWgw9LO8MQ\n",
        "--------------------------------------\n",
        "urllib(mine) sleeping to throttle requests\n",
        "urllib(mine) sleeping to throttle requests"
       ]
      },
      {
       "output_type": "stream",
       "stream": "stdout",
       "text": [
        "\n",
        "--------------------------------------"
       ]
      },
      {
       "output_type": "stream",
       "stream": "stdout",
       "text": [
        "\n",
        "Starting friend: la-UaX6xCTiX8iMqbyv19A\n",
        "--------------------------------------\n",
        "urllib(mine) sleeping to throttle requests\n",
        "urllib(mine) sleeping to throttle requests"
       ]
      },
      {
       "output_type": "stream",
       "stream": "stdout",
       "text": [
        "\n",
        "urllib(mine) sleeping to throttle requests"
       ]
      },
      {
       "output_type": "stream",
       "stream": "stdout",
       "text": [
        "\n",
        "urllib(mine) sleeping to throttle requests"
       ]
      },
      {
       "output_type": "stream",
       "stream": "stdout",
       "text": [
        "\n",
        "urllib(mine) sleeping to throttle requests"
       ]
      },
      {
       "output_type": "stream",
       "stream": "stdout",
       "text": [
        "\n",
        "urllib(mine) sleeping to throttle requests"
       ]
      },
      {
       "output_type": "stream",
       "stream": "stdout",
       "text": [
        "\n",
        "urllib(mine) sleeping to throttle requests"
       ]
      },
      {
       "output_type": "stream",
       "stream": "stdout",
       "text": [
        "\n",
        "urllib(mine) sleeping to throttle requests"
       ]
      },
      {
       "output_type": "stream",
       "stream": "stdout",
       "text": [
        "\n",
        "urllib(mine) sleeping to throttle requests"
       ]
      },
      {
       "output_type": "stream",
       "stream": "stdout",
       "text": [
        "\n",
        "--------------------------------------"
       ]
      },
      {
       "output_type": "stream",
       "stream": "stdout",
       "text": [
        "\n",
        "Starting friend: Tb16HiCb4TkppSn-O5zqWg\n",
        "--------------------------------------\n",
        "urllib(mine) sleeping to throttle requests\n",
        "--------------------------------------"
       ]
      },
      {
       "output_type": "stream",
       "stream": "stdout",
       "text": [
        "\n",
        "Starting friend: oWIQMZUltpvohmQ8_zMmyA\n",
        "--------------------------------------\n",
        "urllib(mine) sleeping to throttle requests\n",
        "urllib(mine) sleeping to throttle requests"
       ]
      },
      {
       "output_type": "stream",
       "stream": "stdout",
       "text": [
        "\n",
        "urllib(mine) sleeping to throttle requests"
       ]
      },
      {
       "output_type": "stream",
       "stream": "stdout",
       "text": [
        "\n",
        "urllib(mine) sleeping to throttle requests"
       ]
      },
      {
       "output_type": "stream",
       "stream": "stdout",
       "text": [
        "\n",
        "urllib(mine) sleeping to throttle requests"
       ]
      },
      {
       "output_type": "stream",
       "stream": "stdout",
       "text": [
        "\n",
        "urllib(mine) sleeping to throttle requests"
       ]
      },
      {
       "output_type": "stream",
       "stream": "stdout",
       "text": [
        "\n",
        "urllib(mine) sleeping to throttle requests"
       ]
      },
      {
       "output_type": "stream",
       "stream": "stdout",
       "text": [
        "\n",
        "--------------------------------------"
       ]
      },
      {
       "output_type": "stream",
       "stream": "stdout",
       "text": [
        "\n",
        "Starting friend: kpdO3GzK1mM2HrACZU8PtQ\n",
        "--------------------------------------\n",
        "urllib(mine) sleeping to throttle requests\n",
        "urllib(mine) sleeping to throttle requests"
       ]
      },
      {
       "output_type": "stream",
       "stream": "stdout",
       "text": [
        "\n",
        "urllib(mine) sleeping to throttle requests"
       ]
      },
      {
       "output_type": "stream",
       "stream": "stdout",
       "text": [
        "\n",
        "urllib(mine) sleeping to throttle requests"
       ]
      },
      {
       "output_type": "stream",
       "stream": "stdout",
       "text": [
        "\n",
        "urllib(mine) sleeping to throttle requests"
       ]
      },
      {
       "output_type": "stream",
       "stream": "stdout",
       "text": [
        "\n",
        "--------------------------------------"
       ]
      },
      {
       "output_type": "stream",
       "stream": "stdout",
       "text": [
        "\n",
        "Starting friend: _3-s1AlxohxZFw3QvoZMWw\n",
        "--------------------------------------\n",
        "urllib(mine) sleeping to throttle requests\n",
        "urllib(mine) sleeping to throttle requests"
       ]
      },
      {
       "output_type": "stream",
       "stream": "stdout",
       "text": [
        "\n",
        "--------------------------------------"
       ]
      },
      {
       "output_type": "stream",
       "stream": "stdout",
       "text": [
        "\n",
        "Starting friend: GMhYdQZFRsDgXhgJpdYZrA\n",
        "--------------------------------------\n",
        "urllib(mine) sleeping to throttle requests\n",
        "urllib(mine) sleeping to throttle requests"
       ]
      },
      {
       "output_type": "stream",
       "stream": "stdout",
       "text": [
        "\n",
        "urllib(mine) sleeping to throttle requests"
       ]
      },
      {
       "output_type": "stream",
       "stream": "stdout",
       "text": [
        "\n",
        "--------------------------------------"
       ]
      },
      {
       "output_type": "stream",
       "stream": "stdout",
       "text": [
        "\n",
        "Starting friend: 3vmzwskQ2p_I6evx8gKtsg\n",
        "--------------------------------------\n",
        "urllib(mine) sleeping to throttle requests\n",
        "urllib(mine) sleeping to throttle requests"
       ]
      },
      {
       "output_type": "stream",
       "stream": "stdout",
       "text": [
        "\n",
        "urllib(mine) sleeping to throttle requests"
       ]
      },
      {
       "output_type": "stream",
       "stream": "stdout",
       "text": [
        "\n",
        "urllib(mine) sleeping to throttle requests"
       ]
      },
      {
       "output_type": "stream",
       "stream": "stdout",
       "text": [
        "\n",
        "urllib(mine) sleeping to throttle requests"
       ]
      },
      {
       "output_type": "stream",
       "stream": "stdout",
       "text": [
        "\n",
        "urllib(mine) sleeping to throttle requests"
       ]
      },
      {
       "output_type": "stream",
       "stream": "stdout",
       "text": [
        "\n",
        "urllib(mine) sleeping to throttle requests"
       ]
      },
      {
       "output_type": "stream",
       "stream": "stdout",
       "text": [
        "\n",
        "urllib(mine) sleeping to throttle requests"
       ]
      },
      {
       "output_type": "stream",
       "stream": "stdout",
       "text": [
        "\n",
        "urllib(mine) sleeping to throttle requests"
       ]
      },
      {
       "output_type": "stream",
       "stream": "stdout",
       "text": [
        "\n",
        "urllib(mine) sleeping to throttle requests"
       ]
      },
      {
       "output_type": "stream",
       "stream": "stdout",
       "text": [
        "\n",
        "urllib(mine) sleeping to throttle requests"
       ]
      },
      {
       "output_type": "stream",
       "stream": "stdout",
       "text": [
        "\n",
        "urllib(mine) sleeping to throttle requests"
       ]
      },
      {
       "output_type": "stream",
       "stream": "stdout",
       "text": [
        "\n",
        "urllib(mine) sleeping to throttle requests"
       ]
      },
      {
       "output_type": "stream",
       "stream": "stdout",
       "text": [
        "\n",
        "--------------------------------------"
       ]
      },
      {
       "output_type": "stream",
       "stream": "stdout",
       "text": [
        "\n",
        "Starting friend: nmqX1cxPOYHwql5e4U9LuA\n",
        "--------------------------------------\n",
        "urllib(mine) sleeping to throttle requests\n",
        "urllib(mine) sleeping to throttle requests"
       ]
      },
      {
       "output_type": "stream",
       "stream": "stdout",
       "text": [
        "\n",
        "urllib(mine) sleeping to throttle requests"
       ]
      },
      {
       "output_type": "stream",
       "stream": "stdout",
       "text": [
        "\n",
        "urllib(mine) sleeping to throttle requests"
       ]
      },
      {
       "output_type": "stream",
       "stream": "stdout",
       "text": [
        "\n",
        "urllib(mine) sleeping to throttle requests"
       ]
      },
      {
       "output_type": "stream",
       "stream": "stdout",
       "text": [
        "\n",
        "urllib(mine) sleeping to throttle requests"
       ]
      },
      {
       "output_type": "stream",
       "stream": "stdout",
       "text": [
        "\n",
        "urllib(mine) sleeping to throttle requests"
       ]
      },
      {
       "output_type": "stream",
       "stream": "stdout",
       "text": [
        "\n",
        "urllib(mine) sleeping to throttle requests"
       ]
      },
      {
       "output_type": "stream",
       "stream": "stdout",
       "text": [
        "\n",
        "urllib(mine) sleeping to throttle requests"
       ]
      },
      {
       "output_type": "stream",
       "stream": "stdout",
       "text": [
        "\n",
        "urllib(mine) sleeping to throttle requests"
       ]
      },
      {
       "output_type": "stream",
       "stream": "stdout",
       "text": [
        "\n",
        "urllib(mine) sleeping to throttle requests"
       ]
      },
      {
       "output_type": "stream",
       "stream": "stdout",
       "text": [
        "\n",
        "urllib(mine) sleeping to throttle requests"
       ]
      },
      {
       "output_type": "stream",
       "stream": "stdout",
       "text": [
        "\n",
        "urllib(mine) sleeping to throttle requests"
       ]
      },
      {
       "output_type": "stream",
       "stream": "stdout",
       "text": [
        "\n",
        "urllib(mine) sleeping to throttle requests"
       ]
      },
      {
       "output_type": "stream",
       "stream": "stdout",
       "text": [
        "\n",
        "urllib(mine) sleeping to throttle requests"
       ]
      },
      {
       "output_type": "stream",
       "stream": "stdout",
       "text": [
        "\n",
        "urllib(mine) sleeping to throttle requests"
       ]
      },
      {
       "output_type": "stream",
       "stream": "stdout",
       "text": [
        "\n",
        "urllib(mine) sleeping to throttle requests"
       ]
      },
      {
       "output_type": "stream",
       "stream": "stdout",
       "text": [
        "\n",
        "urllib(mine) sleeping to throttle requests"
       ]
      },
      {
       "output_type": "stream",
       "stream": "stdout",
       "text": [
        "\n",
        "urllib(mine) sleeping to throttle requests"
       ]
      },
      {
       "output_type": "stream",
       "stream": "stdout",
       "text": [
        "\n",
        "urllib(mine) sleeping to throttle requests"
       ]
      },
      {
       "output_type": "stream",
       "stream": "stdout",
       "text": [
        "\n",
        "urllib(mine) sleeping to throttle requests"
       ]
      },
      {
       "output_type": "stream",
       "stream": "stdout",
       "text": [
        "\n",
        "urllib(mine) sleeping to throttle requests"
       ]
      },
      {
       "output_type": "stream",
       "stream": "stdout",
       "text": [
        "\n",
        "urllib(mine) sleeping to throttle requests"
       ]
      },
      {
       "output_type": "stream",
       "stream": "stdout",
       "text": [
        "\n",
        "urllib(mine) sleeping to throttle requests"
       ]
      },
      {
       "output_type": "stream",
       "stream": "stdout",
       "text": [
        "\n",
        "urllib(mine) sleeping to throttle requests"
       ]
      },
      {
       "output_type": "stream",
       "stream": "stdout",
       "text": [
        "\n",
        "urllib(mine) sleeping to throttle requests"
       ]
      },
      {
       "output_type": "stream",
       "stream": "stdout",
       "text": [
        "\n",
        "urllib(mine) sleeping to throttle requests"
       ]
      },
      {
       "output_type": "stream",
       "stream": "stdout",
       "text": [
        "\n",
        "urllib(mine) sleeping to throttle requests"
       ]
      },
      {
       "output_type": "stream",
       "stream": "stdout",
       "text": [
        "\n",
        "urllib(mine) sleeping to throttle requests"
       ]
      },
      {
       "output_type": "stream",
       "stream": "stdout",
       "text": [
        "\n",
        "urllib(mine) sleeping to throttle requests"
       ]
      },
      {
       "output_type": "stream",
       "stream": "stdout",
       "text": [
        "\n",
        "urllib(mine) sleeping to throttle requests"
       ]
      },
      {
       "output_type": "stream",
       "stream": "stdout",
       "text": [
        "\n",
        "urllib(mine) sleeping to throttle requests"
       ]
      },
      {
       "output_type": "stream",
       "stream": "stdout",
       "text": [
        "\n",
        "urllib(mine) sleeping to throttle requests"
       ]
      },
      {
       "output_type": "stream",
       "stream": "stdout",
       "text": [
        "\n",
        "urllib(mine) sleeping to throttle requests"
       ]
      },
      {
       "output_type": "stream",
       "stream": "stdout",
       "text": [
        "\n",
        "urllib(mine) sleeping to throttle requests"
       ]
      },
      {
       "output_type": "stream",
       "stream": "stdout",
       "text": [
        "\n",
        "urllib(mine) sleeping to throttle requests"
       ]
      },
      {
       "output_type": "stream",
       "stream": "stdout",
       "text": [
        "\n",
        "urllib(mine) sleeping to throttle requests"
       ]
      },
      {
       "output_type": "stream",
       "stream": "stdout",
       "text": [
        "\n",
        "urllib(mine) sleeping to throttle requests"
       ]
      },
      {
       "output_type": "stream",
       "stream": "stdout",
       "text": [
        "\n",
        "urllib(mine) sleeping to throttle requests"
       ]
      },
      {
       "output_type": "stream",
       "stream": "stdout",
       "text": [
        "\n",
        "urllib(mine) sleeping to throttle requests"
       ]
      },
      {
       "output_type": "stream",
       "stream": "stdout",
       "text": [
        "\n",
        "urllib(mine) sleeping to throttle requests"
       ]
      },
      {
       "output_type": "stream",
       "stream": "stdout",
       "text": [
        "\n",
        "urllib(mine) sleeping to throttle requests"
       ]
      },
      {
       "output_type": "stream",
       "stream": "stdout",
       "text": [
        "\n",
        "urllib(mine) sleeping to throttle requests"
       ]
      },
      {
       "output_type": "stream",
       "stream": "stdout",
       "text": [
        "\n",
        "urllib(mine) sleeping to throttle requests"
       ]
      },
      {
       "output_type": "stream",
       "stream": "stdout",
       "text": [
        "\n",
        "urllib(mine) sleeping to throttle requests"
       ]
      },
      {
       "output_type": "stream",
       "stream": "stdout",
       "text": [
        "\n",
        "urllib(mine) sleeping to throttle requests"
       ]
      },
      {
       "output_type": "stream",
       "stream": "stdout",
       "text": [
        "\n",
        "urllib(mine) sleeping to throttle requests"
       ]
      },
      {
       "output_type": "stream",
       "stream": "stdout",
       "text": [
        "\n",
        "urllib(mine) sleeping to throttle requests"
       ]
      },
      {
       "output_type": "stream",
       "stream": "stdout",
       "text": [
        "\n",
        "urllib(mine) sleeping to throttle requests"
       ]
      },
      {
       "output_type": "stream",
       "stream": "stdout",
       "text": [
        "\n",
        "urllib(mine) sleeping to throttle requests"
       ]
      },
      {
       "output_type": "stream",
       "stream": "stdout",
       "text": [
        "\n",
        "urllib(mine) sleeping to throttle requests"
       ]
      },
      {
       "output_type": "stream",
       "stream": "stdout",
       "text": [
        "\n",
        "--------------------------------------"
       ]
      },
      {
       "output_type": "stream",
       "stream": "stdout",
       "text": [
        "\n",
        "Starting friend: pYc8tUrEnae9wBQ7b8tqfw\n",
        "--------------------------------------\n",
        "urllib(mine) sleeping to throttle requests\n",
        "urllib(mine) sleeping to throttle requests"
       ]
      },
      {
       "output_type": "stream",
       "stream": "stdout",
       "text": [
        "\n",
        "urllib(mine) sleeping to throttle requests"
       ]
      },
      {
       "output_type": "stream",
       "stream": "stdout",
       "text": [
        "\n",
        "--------------------------------------"
       ]
      },
      {
       "output_type": "stream",
       "stream": "stdout",
       "text": [
        "\n",
        "Starting friend: jUpelFEAMDznBtZi-4d-yg\n",
        "--------------------------------------\n",
        "urllib(mine) sleeping to throttle requests\n",
        "--------------------------------------"
       ]
      },
      {
       "output_type": "stream",
       "stream": "stdout",
       "text": [
        "\n",
        "Starting friend: IuYaSJ7VMeuHIRqGDtOlnQ\n",
        "--------------------------------------\n",
        "urllib(mine) sleeping to throttle requests\n",
        "--------------------------------------"
       ]
      },
      {
       "output_type": "stream",
       "stream": "stdout",
       "text": [
        "\n",
        "Starting friend: e1wLE2HI0X2wt4786SngNw\n",
        "--------------------------------------\n",
        "urllib(mine) sleeping to throttle requests\n",
        "urllib(mine) sleeping to throttle requests"
       ]
      },
      {
       "output_type": "stream",
       "stream": "stdout",
       "text": [
        "\n",
        "urllib(mine) sleeping to throttle requests"
       ]
      },
      {
       "output_type": "stream",
       "stream": "stdout",
       "text": [
        "\n",
        "urllib(mine) sleeping to throttle requests"
       ]
      },
      {
       "output_type": "stream",
       "stream": "stdout",
       "text": [
        "\n",
        "urllib(mine) sleeping to throttle requests"
       ]
      },
      {
       "output_type": "stream",
       "stream": "stdout",
       "text": [
        "\n",
        "--------------------------------------"
       ]
      },
      {
       "output_type": "stream",
       "stream": "stdout",
       "text": [
        "\n",
        "Starting friend: GI3yrcEBl3gctfeIQ82uWA\n",
        "--------------------------------------\n",
        "urllib(mine) sleeping to throttle requests\n",
        "urllib(mine) sleeping to throttle requests"
       ]
      },
      {
       "output_type": "stream",
       "stream": "stdout",
       "text": [
        "\n",
        "--------------------------------------"
       ]
      },
      {
       "output_type": "stream",
       "stream": "stdout",
       "text": [
        "\n",
        "Starting friend: UA3A8QZZaovuTz1E9aEeCw\n",
        "--------------------------------------\n",
        "urllib(mine) sleeping to throttle requests\n",
        "urllib(mine) sleeping to throttle requests"
       ]
      },
      {
       "output_type": "stream",
       "stream": "stdout",
       "text": [
        "\n",
        "--------------------------------------"
       ]
      },
      {
       "output_type": "stream",
       "stream": "stdout",
       "text": [
        "\n",
        "Starting friend: KXoWKboQvTD7EQekRpdyIA\n",
        "--------------------------------------\n",
        "urllib(mine) sleeping to throttle requests\n",
        "urllib(mine) sleeping to throttle requests"
       ]
      },
      {
       "output_type": "stream",
       "stream": "stdout",
       "text": [
        "\n",
        "urllib(mine) sleeping to throttle requests"
       ]
      },
      {
       "output_type": "stream",
       "stream": "stdout",
       "text": [
        "\n",
        "--------------------------------------"
       ]
      },
      {
       "output_type": "stream",
       "stream": "stdout",
       "text": [
        "\n",
        "Starting friend: Xa5PWxX0eiRENM8X1akK5Q\n",
        "--------------------------------------\n",
        "urllib(mine) sleeping to throttle requests\n",
        "urllib(mine) sleeping to throttle requests"
       ]
      },
      {
       "output_type": "stream",
       "stream": "stdout",
       "text": [
        "\n",
        "urllib(mine) sleeping to throttle requests"
       ]
      },
      {
       "output_type": "stream",
       "stream": "stdout",
       "text": [
        "\n",
        "urllib(mine) sleeping to throttle requests"
       ]
      },
      {
       "output_type": "stream",
       "stream": "stdout",
       "text": [
        "\n",
        "urllib(mine) sleeping to throttle requests"
       ]
      },
      {
       "output_type": "stream",
       "stream": "stdout",
       "text": [
        "\n",
        "urllib(mine) sleeping to throttle requests"
       ]
      },
      {
       "output_type": "stream",
       "stream": "stdout",
       "text": [
        "\n",
        "--------------------------------------"
       ]
      },
      {
       "output_type": "stream",
       "stream": "stdout",
       "text": [
        "\n",
        "Starting friend: ZBvIMkFVdS4VjUrUtObJcQ\n",
        "--------------------------------------\n",
        "urllib(mine) sleeping to throttle requests\n",
        "--------------------------------------"
       ]
      },
      {
       "output_type": "stream",
       "stream": "stdout",
       "text": [
        "\n",
        "Starting friend: dIgO4Or9l9J-yTDO-Em8BQ\n",
        "--------------------------------------\n",
        "urllib(mine) sleeping to throttle requests\n",
        "urllib(mine) sleeping to throttle requests"
       ]
      },
      {
       "output_type": "stream",
       "stream": "stdout",
       "text": [
        "\n",
        "urllib(mine) sleeping to throttle requests"
       ]
      },
      {
       "output_type": "stream",
       "stream": "stdout",
       "text": [
        "\n",
        "urllib(mine) sleeping to throttle requests"
       ]
      },
      {
       "output_type": "stream",
       "stream": "stdout",
       "text": [
        "\n",
        "urllib(mine) sleeping to throttle requests"
       ]
      },
      {
       "output_type": "stream",
       "stream": "stdout",
       "text": [
        "\n",
        "urllib(mine) sleeping to throttle requests"
       ]
      },
      {
       "output_type": "stream",
       "stream": "stdout",
       "text": [
        "\n",
        "urllib(mine) sleeping to throttle requests"
       ]
      },
      {
       "output_type": "stream",
       "stream": "stdout",
       "text": [
        "\n",
        "urllib(mine) sleeping to throttle requests"
       ]
      },
      {
       "output_type": "stream",
       "stream": "stdout",
       "text": [
        "\n",
        "urllib(mine) sleeping to throttle requests"
       ]
      },
      {
       "output_type": "stream",
       "stream": "stdout",
       "text": [
        "\n",
        "urllib(mine) sleeping to throttle requests"
       ]
      },
      {
       "output_type": "stream",
       "stream": "stdout",
       "text": [
        "\n",
        "urllib(mine) sleeping to throttle requests"
       ]
      },
      {
       "output_type": "stream",
       "stream": "stdout",
       "text": [
        "\n",
        "urllib(mine) sleeping to throttle requests"
       ]
      },
      {
       "output_type": "stream",
       "stream": "stdout",
       "text": [
        "\n",
        "urllib(mine) sleeping to throttle requests"
       ]
      },
      {
       "output_type": "stream",
       "stream": "stdout",
       "text": [
        "\n",
        "urllib(mine) sleeping to throttle requests"
       ]
      },
      {
       "output_type": "stream",
       "stream": "stdout",
       "text": [
        "\n",
        "urllib(mine) sleeping to throttle requests"
       ]
      },
      {
       "output_type": "stream",
       "stream": "stdout",
       "text": [
        "\n",
        "--------------------------------------"
       ]
      },
      {
       "output_type": "stream",
       "stream": "stdout",
       "text": [
        "\n",
        "Starting friend: FXzX4XMypuC8HocMB-ioZg\n",
        "--------------------------------------\n",
        "urllib(mine) sleeping to throttle requests\n",
        "urllib(mine) sleeping to throttle requests"
       ]
      },
      {
       "output_type": "stream",
       "stream": "stdout",
       "text": [
        "\n",
        "urllib(mine) sleeping to throttle requests"
       ]
      },
      {
       "output_type": "stream",
       "stream": "stdout",
       "text": [
        "\n",
        "--------------------------------------"
       ]
      },
      {
       "output_type": "stream",
       "stream": "stdout",
       "text": [
        "\n",
        "Starting friend: _w1VPGRQ57sFIyNg0PXS3g\n",
        "--------------------------------------\n",
        "urllib(mine) sleeping to throttle requests\n",
        "urllib(mine) sleeping to throttle requests"
       ]
      },
      {
       "output_type": "stream",
       "stream": "stdout",
       "text": [
        "\n",
        "urllib(mine) sleeping to throttle requests"
       ]
      },
      {
       "output_type": "stream",
       "stream": "stdout",
       "text": [
        "\n",
        "urllib(mine) sleeping to throttle requests"
       ]
      },
      {
       "output_type": "stream",
       "stream": "stdout",
       "text": [
        "\n",
        "urllib(mine) sleeping to throttle requests"
       ]
      },
      {
       "output_type": "stream",
       "stream": "stdout",
       "text": [
        "\n",
        "urllib(mine) sleeping to throttle requests"
       ]
      },
      {
       "output_type": "stream",
       "stream": "stdout",
       "text": [
        "\n",
        "urllib(mine) sleeping to throttle requests"
       ]
      },
      {
       "output_type": "stream",
       "stream": "stdout",
       "text": [
        "\n",
        "urllib(mine) sleeping to throttle requests"
       ]
      },
      {
       "output_type": "stream",
       "stream": "stdout",
       "text": [
        "\n",
        "urllib(mine) sleeping to throttle requests"
       ]
      },
      {
       "output_type": "stream",
       "stream": "stdout",
       "text": [
        "\n",
        "urllib(mine) sleeping to throttle requests"
       ]
      },
      {
       "output_type": "stream",
       "stream": "stdout",
       "text": [
        "\n",
        "urllib(mine) sleeping to throttle requests"
       ]
      },
      {
       "output_type": "stream",
       "stream": "stdout",
       "text": [
        "\n",
        "urllib(mine) sleeping to throttle requests"
       ]
      },
      {
       "output_type": "stream",
       "stream": "stdout",
       "text": [
        "\n",
        "urllib(mine) sleeping to throttle requests"
       ]
      },
      {
       "output_type": "stream",
       "stream": "stdout",
       "text": [
        "\n",
        "urllib(mine) sleeping to throttle requests"
       ]
      },
      {
       "output_type": "stream",
       "stream": "stdout",
       "text": [
        "\n",
        "urllib(mine) sleeping to throttle requests"
       ]
      },
      {
       "output_type": "stream",
       "stream": "stdout",
       "text": [
        "\n",
        "urllib(mine) sleeping to throttle requests"
       ]
      },
      {
       "output_type": "stream",
       "stream": "stdout",
       "text": [
        "\n",
        "urllib(mine) sleeping to throttle requests"
       ]
      },
      {
       "output_type": "stream",
       "stream": "stdout",
       "text": [
        "\n",
        "urllib(mine) sleeping to throttle requests"
       ]
      },
      {
       "output_type": "stream",
       "stream": "stdout",
       "text": [
        "\n",
        "urllib(mine) sleeping to throttle requests"
       ]
      },
      {
       "output_type": "stream",
       "stream": "stdout",
       "text": [
        "\n",
        "urllib(mine) sleeping to throttle requests"
       ]
      },
      {
       "output_type": "stream",
       "stream": "stdout",
       "text": [
        "\n",
        "urllib(mine) sleeping to throttle requests"
       ]
      },
      {
       "output_type": "stream",
       "stream": "stdout",
       "text": [
        "\n",
        "urllib(mine) sleeping to throttle requests"
       ]
      },
      {
       "output_type": "stream",
       "stream": "stdout",
       "text": [
        "\n",
        "urllib(mine) sleeping to throttle requests"
       ]
      },
      {
       "output_type": "stream",
       "stream": "stdout",
       "text": [
        "\n",
        "urllib(mine) sleeping to throttle requests"
       ]
      },
      {
       "output_type": "stream",
       "stream": "stdout",
       "text": [
        "\n",
        "urllib(mine) sleeping to throttle requests"
       ]
      },
      {
       "output_type": "stream",
       "stream": "stdout",
       "text": [
        "\n",
        "urllib(mine) sleeping to throttle requests"
       ]
      },
      {
       "output_type": "stream",
       "stream": "stdout",
       "text": [
        "\n",
        "urllib(mine) sleeping to throttle requests"
       ]
      },
      {
       "output_type": "stream",
       "stream": "stdout",
       "text": [
        "\n",
        "urllib(mine) sleeping to throttle requests"
       ]
      },
      {
       "output_type": "stream",
       "stream": "stdout",
       "text": [
        "\n",
        "urllib(mine) sleeping to throttle requests"
       ]
      },
      {
       "output_type": "stream",
       "stream": "stdout",
       "text": [
        "\n",
        "urllib(mine) sleeping to throttle requests"
       ]
      },
      {
       "output_type": "stream",
       "stream": "stdout",
       "text": [
        "\n",
        "urllib(mine) sleeping to throttle requests"
       ]
      },
      {
       "output_type": "stream",
       "stream": "stdout",
       "text": [
        "\n",
        "urllib(mine) sleeping to throttle requests"
       ]
      },
      {
       "output_type": "stream",
       "stream": "stdout",
       "text": [
        "\n",
        "urllib(mine) sleeping to throttle requests"
       ]
      },
      {
       "output_type": "stream",
       "stream": "stdout",
       "text": [
        "\n",
        "urllib(mine) sleeping to throttle requests"
       ]
      },
      {
       "output_type": "stream",
       "stream": "stdout",
       "text": [
        "\n",
        "--------------------------------------"
       ]
      },
      {
       "output_type": "stream",
       "stream": "stdout",
       "text": [
        "\n",
        "Starting friend: qYwJ8-iWPFHiVOHGBnS8cg\n",
        "--------------------------------------\n",
        "urllib(mine) sleeping to throttle requests\n",
        "urllib(mine) sleeping to throttle requests"
       ]
      },
      {
       "output_type": "stream",
       "stream": "stdout",
       "text": [
        "\n",
        "urllib(mine) sleeping to throttle requests"
       ]
      },
      {
       "output_type": "stream",
       "stream": "stdout",
       "text": [
        "\n",
        "urllib(mine) sleeping to throttle requests"
       ]
      },
      {
       "output_type": "stream",
       "stream": "stdout",
       "text": [
        "\n",
        "--------------------------------------"
       ]
      },
      {
       "output_type": "stream",
       "stream": "stdout",
       "text": [
        "\n",
        "Starting friend: ESiGYe5dzgjiPza7ejfPmg\n",
        "--------------------------------------\n",
        "urllib(mine) sleeping to throttle requests\n",
        "urllib(mine) sleeping to throttle requests"
       ]
      },
      {
       "output_type": "stream",
       "stream": "stdout",
       "text": [
        "\n",
        "urllib(mine) sleeping to throttle requests"
       ]
      },
      {
       "output_type": "stream",
       "stream": "stdout",
       "text": [
        "\n",
        "urllib(mine) sleeping to throttle requests"
       ]
      },
      {
       "output_type": "stream",
       "stream": "stdout",
       "text": [
        "\n",
        "urllib(mine) sleeping to throttle requests"
       ]
      },
      {
       "output_type": "stream",
       "stream": "stdout",
       "text": [
        "\n",
        "urllib(mine) sleeping to throttle requests"
       ]
      },
      {
       "output_type": "stream",
       "stream": "stdout",
       "text": [
        "\n",
        "--------------------------------------"
       ]
      },
      {
       "output_type": "stream",
       "stream": "stdout",
       "text": [
        "\n",
        "Starting friend: qtYffzrS_A7bbWfnT5LKjw\n",
        "--------------------------------------\n",
        "urllib(mine) sleeping to throttle requests\n",
        "--------------------------------------"
       ]
      },
      {
       "output_type": "stream",
       "stream": "stdout",
       "text": [
        "\n",
        "Starting friend: h0-uWim18PBUDfHq9BWx-Q\n",
        "--------------------------------------\n",
        "urllib(mine) sleeping to throttle requests\n",
        "urllib(mine) sleeping to throttle requests"
       ]
      },
      {
       "output_type": "stream",
       "stream": "stdout",
       "text": [
        "\n",
        "--------------------------------------"
       ]
      },
      {
       "output_type": "stream",
       "stream": "stdout",
       "text": [
        "\n",
        "Starting friend: dNIWQmJOoU9ZD_3V7DGm6Q\n",
        "--------------------------------------\n",
        "urllib(mine) sleeping to throttle requests\n",
        "urllib(mine) sleeping to throttle requests"
       ]
      },
      {
       "output_type": "stream",
       "stream": "stdout",
       "text": [
        "\n",
        "urllib(mine) sleeping to throttle requests"
       ]
      },
      {
       "output_type": "stream",
       "stream": "stdout",
       "text": [
        "\n",
        "urllib(mine) sleeping to throttle requests"
       ]
      },
      {
       "output_type": "stream",
       "stream": "stdout",
       "text": [
        "\n",
        "urllib(mine) sleeping to throttle requests"
       ]
      },
      {
       "output_type": "stream",
       "stream": "stdout",
       "text": [
        "\n",
        "urllib(mine) sleeping to throttle requests"
       ]
      },
      {
       "output_type": "stream",
       "stream": "stdout",
       "text": [
        "\n",
        "urllib(mine) sleeping to throttle requests"
       ]
      },
      {
       "output_type": "stream",
       "stream": "stdout",
       "text": [
        "\n",
        "urllib(mine) sleeping to throttle requests"
       ]
      },
      {
       "output_type": "stream",
       "stream": "stdout",
       "text": [
        "\n",
        "urllib(mine) sleeping to throttle requests"
       ]
      },
      {
       "output_type": "stream",
       "stream": "stdout",
       "text": [
        "\n",
        "urllib(mine) sleeping to throttle requests"
       ]
      },
      {
       "output_type": "stream",
       "stream": "stdout",
       "text": [
        "\n",
        "urllib(mine) sleeping to throttle requests"
       ]
      },
      {
       "output_type": "stream",
       "stream": "stdout",
       "text": [
        "\n",
        "urllib(mine) sleeping to throttle requests"
       ]
      },
      {
       "output_type": "stream",
       "stream": "stdout",
       "text": [
        "\n",
        "urllib(mine) sleeping to throttle requests"
       ]
      },
      {
       "output_type": "stream",
       "stream": "stdout",
       "text": [
        "\n",
        "urllib(mine) sleeping to throttle requests"
       ]
      },
      {
       "output_type": "stream",
       "stream": "stdout",
       "text": [
        "\n",
        "urllib(mine) sleeping to throttle requests"
       ]
      },
      {
       "output_type": "stream",
       "stream": "stdout",
       "text": [
        "\n",
        "urllib(mine) sleeping to throttle requests"
       ]
      },
      {
       "output_type": "stream",
       "stream": "stdout",
       "text": [
        "\n",
        "urllib(mine) sleeping to throttle requests"
       ]
      },
      {
       "output_type": "stream",
       "stream": "stdout",
       "text": [
        "\n",
        "urllib(mine) sleeping to throttle requests"
       ]
      },
      {
       "output_type": "stream",
       "stream": "stdout",
       "text": [
        "\n",
        "urllib(mine) sleeping to throttle requests"
       ]
      },
      {
       "output_type": "stream",
       "stream": "stdout",
       "text": [
        "\n",
        "--------------------------------------"
       ]
      },
      {
       "output_type": "stream",
       "stream": "stdout",
       "text": [
        "\n",
        "Starting friend: LIPL_tJQl3oYahwhHeqqoA\n",
        "--------------------------------------\n",
        "urllib(mine) sleeping to throttle requests\n",
        "urllib(mine) sleeping to throttle requests"
       ]
      },
      {
       "output_type": "stream",
       "stream": "stdout",
       "text": [
        "\n",
        "urllib(mine) sleeping to throttle requests"
       ]
      },
      {
       "output_type": "stream",
       "stream": "stdout",
       "text": [
        "\n",
        "urllib(mine) sleeping to throttle requests"
       ]
      },
      {
       "output_type": "stream",
       "stream": "stdout",
       "text": [
        "\n",
        "urllib(mine) sleeping to throttle requests"
       ]
      },
      {
       "output_type": "stream",
       "stream": "stdout",
       "text": [
        "\n",
        "--------------------------------------"
       ]
      },
      {
       "output_type": "stream",
       "stream": "stdout",
       "text": [
        "\n",
        "Starting friend: sU3nJCuTK1JikhWCWh70kA\n",
        "--------------------------------------\n",
        "urllib(mine) sleeping to throttle requests\n",
        "--------------------------------------"
       ]
      },
      {
       "output_type": "stream",
       "stream": "stdout",
       "text": [
        "\n",
        "Starting friend: EFwneLQMxW61h0iT9GM4ig\n",
        "--------------------------------------\n",
        "urllib(mine) sleeping to throttle requests\n",
        "--------------------------------------"
       ]
      },
      {
       "output_type": "stream",
       "stream": "stdout",
       "text": [
        "\n",
        "Starting friend: hS6mOM2PDLX7Llg4p3vjng\n",
        "--------------------------------------\n",
        "urllib(mine) sleeping to throttle requests\n",
        "urllib(mine) sleeping to throttle requests"
       ]
      },
      {
       "output_type": "stream",
       "stream": "stdout",
       "text": [
        "\n",
        "--------------------------------------"
       ]
      },
      {
       "output_type": "stream",
       "stream": "stdout",
       "text": [
        "\n",
        "Starting friend: 2jOEAeoqTcBaqDJDiOfC1g\n",
        "--------------------------------------\n",
        "urllib(mine) sleeping to throttle requests\n",
        "urllib(mine) sleeping to throttle requests"
       ]
      },
      {
       "output_type": "stream",
       "stream": "stdout",
       "text": [
        "\n",
        "urllib(mine) sleeping to throttle requests"
       ]
      },
      {
       "output_type": "stream",
       "stream": "stdout",
       "text": [
        "\n",
        "--------------------------------------"
       ]
      },
      {
       "output_type": "stream",
       "stream": "stdout",
       "text": [
        "\n",
        "Starting friend: 8rph_A-q3xw-jLl4Q3w4Xg\n",
        "--------------------------------------\n",
        "urllib(mine) sleeping to throttle requests\n",
        "urllib(mine) sleeping to throttle requests"
       ]
      },
      {
       "output_type": "stream",
       "stream": "stdout",
       "text": [
        "\n",
        "urllib(mine) sleeping to throttle requests"
       ]
      },
      {
       "output_type": "stream",
       "stream": "stdout",
       "text": [
        "\n",
        "urllib(mine) sleeping to throttle requests"
       ]
      },
      {
       "output_type": "stream",
       "stream": "stdout",
       "text": [
        "\n",
        "urllib(mine) sleeping to throttle requests"
       ]
      },
      {
       "output_type": "stream",
       "stream": "stdout",
       "text": [
        "\n",
        "urllib(mine) sleeping to throttle requests"
       ]
      },
      {
       "output_type": "stream",
       "stream": "stdout",
       "text": [
        "\n",
        "urllib(mine) sleeping to throttle requests"
       ]
      },
      {
       "output_type": "stream",
       "stream": "stdout",
       "text": [
        "\n",
        "urllib(mine) sleeping to throttle requests"
       ]
      },
      {
       "output_type": "stream",
       "stream": "stdout",
       "text": [
        "\n",
        "urllib(mine) sleeping to throttle requests"
       ]
      },
      {
       "output_type": "stream",
       "stream": "stdout",
       "text": [
        "\n",
        "urllib(mine) sleeping to throttle requests"
       ]
      },
      {
       "output_type": "stream",
       "stream": "stdout",
       "text": [
        "\n",
        "urllib(mine) sleeping to throttle requests"
       ]
      },
      {
       "output_type": "stream",
       "stream": "stdout",
       "text": [
        "\n",
        "urllib(mine) sleeping to throttle requests"
       ]
      },
      {
       "output_type": "stream",
       "stream": "stdout",
       "text": [
        "\n",
        "urllib(mine) sleeping to throttle requests"
       ]
      },
      {
       "output_type": "stream",
       "stream": "stdout",
       "text": [
        "\n",
        "urllib(mine) sleeping to throttle requests"
       ]
      },
      {
       "output_type": "stream",
       "stream": "stdout",
       "text": [
        "\n",
        "urllib(mine) sleeping to throttle requests"
       ]
      },
      {
       "output_type": "stream",
       "stream": "stdout",
       "text": [
        "\n",
        "urllib(mine) sleeping to throttle requests"
       ]
      },
      {
       "output_type": "stream",
       "stream": "stdout",
       "text": [
        "\n",
        "urllib(mine) sleeping to throttle requests"
       ]
      },
      {
       "output_type": "stream",
       "stream": "stdout",
       "text": [
        "\n",
        "urllib(mine) sleeping to throttle requests"
       ]
      },
      {
       "output_type": "stream",
       "stream": "stdout",
       "text": [
        "\n",
        "urllib(mine) sleeping to throttle requests"
       ]
      },
      {
       "output_type": "stream",
       "stream": "stdout",
       "text": [
        "\n",
        "urllib(mine) sleeping to throttle requests"
       ]
      },
      {
       "output_type": "stream",
       "stream": "stdout",
       "text": [
        "\n",
        "urllib(mine) sleeping to throttle requests"
       ]
      },
      {
       "output_type": "stream",
       "stream": "stdout",
       "text": [
        "\n",
        "urllib(mine) sleeping to throttle requests"
       ]
      },
      {
       "output_type": "stream",
       "stream": "stdout",
       "text": [
        "\n",
        "urllib(mine) sleeping to throttle requests"
       ]
      },
      {
       "output_type": "stream",
       "stream": "stdout",
       "text": [
        "\n",
        "urllib(mine) sleeping to throttle requests"
       ]
      },
      {
       "output_type": "stream",
       "stream": "stdout",
       "text": [
        "\n",
        "urllib(mine) sleeping to throttle requests"
       ]
      },
      {
       "output_type": "stream",
       "stream": "stdout",
       "text": [
        "\n",
        "urllib(mine) sleeping to throttle requests"
       ]
      },
      {
       "output_type": "stream",
       "stream": "stdout",
       "text": [
        "\n",
        "urllib(mine) sleeping to throttle requests"
       ]
      },
      {
       "output_type": "stream",
       "stream": "stdout",
       "text": [
        "\n",
        "urllib(mine) sleeping to throttle requests"
       ]
      },
      {
       "output_type": "stream",
       "stream": "stdout",
       "text": [
        "\n",
        "urllib(mine) sleeping to throttle requests"
       ]
      },
      {
       "output_type": "stream",
       "stream": "stdout",
       "text": [
        "\n",
        "urllib(mine) sleeping to throttle requests"
       ]
      },
      {
       "output_type": "stream",
       "stream": "stdout",
       "text": [
        "\n",
        "urllib(mine) sleeping to throttle requests"
       ]
      },
      {
       "output_type": "stream",
       "stream": "stdout",
       "text": [
        "\n",
        "urllib(mine) sleeping to throttle requests"
       ]
      },
      {
       "output_type": "stream",
       "stream": "stdout",
       "text": [
        "\n",
        "urllib(mine) sleeping to throttle requests"
       ]
      },
      {
       "output_type": "stream",
       "stream": "stdout",
       "text": [
        "\n",
        "urllib(mine) sleeping to throttle requests"
       ]
      },
      {
       "output_type": "stream",
       "stream": "stdout",
       "text": [
        "\n",
        "urllib(mine) sleeping to throttle requests"
       ]
      },
      {
       "output_type": "stream",
       "stream": "stdout",
       "text": [
        "\n",
        "urllib(mine) sleeping to throttle requests"
       ]
      },
      {
       "output_type": "stream",
       "stream": "stdout",
       "text": [
        "\n",
        "urllib(mine) sleeping to throttle requests"
       ]
      },
      {
       "output_type": "stream",
       "stream": "stdout",
       "text": [
        "\n",
        "urllib(mine) sleeping to throttle requests"
       ]
      },
      {
       "output_type": "stream",
       "stream": "stdout",
       "text": [
        "\n",
        "urllib(mine) sleeping to throttle requests"
       ]
      },
      {
       "output_type": "stream",
       "stream": "stdout",
       "text": [
        "\n",
        "urllib(mine) sleeping to throttle requests"
       ]
      },
      {
       "output_type": "stream",
       "stream": "stdout",
       "text": [
        "\n",
        "urllib(mine) sleeping to throttle requests"
       ]
      },
      {
       "output_type": "stream",
       "stream": "stdout",
       "text": [
        "\n",
        "urllib(mine) sleeping to throttle requests"
       ]
      },
      {
       "output_type": "stream",
       "stream": "stdout",
       "text": [
        "\n",
        "urllib(mine) sleeping to throttle requests"
       ]
      },
      {
       "output_type": "stream",
       "stream": "stdout",
       "text": [
        "\n",
        "urllib(mine) sleeping to throttle requests"
       ]
      },
      {
       "output_type": "stream",
       "stream": "stdout",
       "text": [
        "\n",
        "urllib(mine) sleeping to throttle requests"
       ]
      },
      {
       "output_type": "stream",
       "stream": "stdout",
       "text": [
        "\n",
        "--------------------------------------"
       ]
      },
      {
       "output_type": "stream",
       "stream": "stdout",
       "text": [
        "\n",
        "Starting friend: vlNP0z4cDi3tc2dcD6tyIQ\n",
        "--------------------------------------\n",
        "urllib(mine) sleeping to throttle requests\n",
        "--------------------------------------"
       ]
      },
      {
       "output_type": "stream",
       "stream": "stdout",
       "text": [
        "\n",
        "Starting friend: Lzd7FTvMOvfg9WmR4MoNxg\n",
        "--------------------------------------\n",
        "urllib(mine) sleeping to throttle requests\n",
        "urllib(mine) sleeping to throttle requests"
       ]
      },
      {
       "output_type": "stream",
       "stream": "stdout",
       "text": [
        "\n",
        "urllib(mine) sleeping to throttle requests"
       ]
      },
      {
       "output_type": "stream",
       "stream": "stdout",
       "text": [
        "\n",
        "urllib(mine) sleeping to throttle requests"
       ]
      },
      {
       "output_type": "stream",
       "stream": "stdout",
       "text": [
        "\n",
        "urllib(mine) sleeping to throttle requests"
       ]
      },
      {
       "output_type": "stream",
       "stream": "stdout",
       "text": [
        "\n",
        "urllib(mine) sleeping to throttle requests"
       ]
      },
      {
       "output_type": "stream",
       "stream": "stdout",
       "text": [
        "\n",
        "urllib(mine) sleeping to throttle requests"
       ]
      },
      {
       "output_type": "stream",
       "stream": "stdout",
       "text": [
        "\n",
        "urllib(mine) sleeping to throttle requests"
       ]
      },
      {
       "output_type": "stream",
       "stream": "stdout",
       "text": [
        "\n",
        "urllib(mine) sleeping to throttle requests"
       ]
      },
      {
       "output_type": "stream",
       "stream": "stdout",
       "text": [
        "\n",
        "urllib(mine) sleeping to throttle requests"
       ]
      },
      {
       "output_type": "stream",
       "stream": "stdout",
       "text": [
        "\n",
        "urllib(mine) sleeping to throttle requests"
       ]
      },
      {
       "output_type": "stream",
       "stream": "stdout",
       "text": [
        "\n",
        "urllib(mine) sleeping to throttle requests"
       ]
      },
      {
       "output_type": "stream",
       "stream": "stdout",
       "text": [
        "\n",
        "urllib(mine) sleeping to throttle requests"
       ]
      },
      {
       "output_type": "stream",
       "stream": "stdout",
       "text": [
        "\n",
        "urllib(mine) sleeping to throttle requests"
       ]
      },
      {
       "output_type": "stream",
       "stream": "stdout",
       "text": [
        "\n",
        "urllib(mine) sleeping to throttle requests"
       ]
      },
      {
       "output_type": "stream",
       "stream": "stdout",
       "text": [
        "\n",
        "urllib(mine) sleeping to throttle requests"
       ]
      },
      {
       "output_type": "stream",
       "stream": "stdout",
       "text": [
        "\n",
        "urllib(mine) sleeping to throttle requests"
       ]
      },
      {
       "output_type": "stream",
       "stream": "stdout",
       "text": [
        "\n",
        "urllib(mine) sleeping to throttle requests"
       ]
      },
      {
       "output_type": "stream",
       "stream": "stdout",
       "text": [
        "\n",
        "urllib(mine) sleeping to throttle requests"
       ]
      },
      {
       "output_type": "stream",
       "stream": "stdout",
       "text": [
        "\n",
        "urllib(mine) sleeping to throttle requests"
       ]
      },
      {
       "output_type": "stream",
       "stream": "stdout",
       "text": [
        "\n",
        "urllib(mine) sleeping to throttle requests"
       ]
      },
      {
       "output_type": "stream",
       "stream": "stdout",
       "text": [
        "\n",
        "urllib(mine) sleeping to throttle requests"
       ]
      },
      {
       "output_type": "stream",
       "stream": "stdout",
       "text": [
        "\n",
        "urllib(mine) sleeping to throttle requests"
       ]
      },
      {
       "output_type": "stream",
       "stream": "stdout",
       "text": [
        "\n",
        "urllib(mine) sleeping to throttle requests"
       ]
      },
      {
       "output_type": "stream",
       "stream": "stdout",
       "text": [
        "\n",
        "urllib(mine) sleeping to throttle requests"
       ]
      },
      {
       "output_type": "stream",
       "stream": "stdout",
       "text": [
        "\n",
        "urllib(mine) sleeping to throttle requests"
       ]
      },
      {
       "output_type": "stream",
       "stream": "stdout",
       "text": [
        "\n",
        "--------------------------------------"
       ]
      },
      {
       "output_type": "stream",
       "stream": "stdout",
       "text": [
        "\n",
        "Starting friend: eu19K9KfnvvubzWuv4l6Wg\n",
        "--------------------------------------\n",
        "urllib(mine) sleeping to throttle requests\n",
        "urllib(mine) sleeping to throttle requests"
       ]
      },
      {
       "output_type": "stream",
       "stream": "stdout",
       "text": [
        "\n",
        "urllib(mine) sleeping to throttle requests"
       ]
      },
      {
       "output_type": "stream",
       "stream": "stdout",
       "text": [
        "\n",
        "urllib(mine) sleeping to throttle requests"
       ]
      },
      {
       "output_type": "stream",
       "stream": "stdout",
       "text": [
        "\n",
        "urllib(mine) sleeping to throttle requests"
       ]
      },
      {
       "output_type": "stream",
       "stream": "stdout",
       "text": [
        "\n",
        "urllib(mine) sleeping to throttle requests"
       ]
      },
      {
       "output_type": "stream",
       "stream": "stdout",
       "text": [
        "\n",
        "urllib(mine) sleeping to throttle requests"
       ]
      },
      {
       "output_type": "stream",
       "stream": "stdout",
       "text": [
        "\n",
        "urllib(mine) sleeping to throttle requests"
       ]
      },
      {
       "output_type": "stream",
       "stream": "stdout",
       "text": [
        "\n",
        "urllib(mine) sleeping to throttle requests"
       ]
      },
      {
       "output_type": "stream",
       "stream": "stdout",
       "text": [
        "\n",
        "urllib(mine) sleeping to throttle requests"
       ]
      },
      {
       "output_type": "stream",
       "stream": "stdout",
       "text": [
        "\n",
        "urllib(mine) sleeping to throttle requests"
       ]
      },
      {
       "output_type": "stream",
       "stream": "stdout",
       "text": [
        "\n",
        "urllib(mine) sleeping to throttle requests"
       ]
      },
      {
       "output_type": "stream",
       "stream": "stdout",
       "text": [
        "\n",
        "urllib(mine) sleeping to throttle requests"
       ]
      },
      {
       "output_type": "stream",
       "stream": "stdout",
       "text": [
        "\n",
        "urllib(mine) sleeping to throttle requests"
       ]
      },
      {
       "output_type": "stream",
       "stream": "stdout",
       "text": [
        "\n",
        "urllib(mine) sleeping to throttle requests"
       ]
      },
      {
       "output_type": "stream",
       "stream": "stdout",
       "text": [
        "\n",
        "urllib(mine) sleeping to throttle requests"
       ]
      },
      {
       "output_type": "stream",
       "stream": "stdout",
       "text": [
        "\n",
        "urllib(mine) sleeping to throttle requests"
       ]
      },
      {
       "output_type": "stream",
       "stream": "stdout",
       "text": [
        "\n",
        "urllib(mine) sleeping to throttle requests"
       ]
      },
      {
       "output_type": "stream",
       "stream": "stdout",
       "text": [
        "\n",
        "urllib(mine) sleeping to throttle requests"
       ]
      },
      {
       "output_type": "stream",
       "stream": "stdout",
       "text": [
        "\n",
        "urllib(mine) sleeping to throttle requests"
       ]
      },
      {
       "output_type": "stream",
       "stream": "stdout",
       "text": [
        "\n",
        "urllib(mine) sleeping to throttle requests"
       ]
      },
      {
       "output_type": "stream",
       "stream": "stdout",
       "text": [
        "\n",
        "urllib(mine) sleeping to throttle requests"
       ]
      },
      {
       "output_type": "stream",
       "stream": "stdout",
       "text": [
        "\n",
        "urllib(mine) sleeping to throttle requests"
       ]
      },
      {
       "output_type": "stream",
       "stream": "stdout",
       "text": [
        "\n",
        "urllib(mine) sleeping to throttle requests"
       ]
      },
      {
       "output_type": "stream",
       "stream": "stdout",
       "text": [
        "\n",
        "urllib(mine) sleeping to throttle requests"
       ]
      },
      {
       "output_type": "stream",
       "stream": "stdout",
       "text": [
        "\n",
        "urllib(mine) sleeping to throttle requests"
       ]
      },
      {
       "output_type": "stream",
       "stream": "stdout",
       "text": [
        "\n",
        "urllib(mine) sleeping to throttle requests"
       ]
      },
      {
       "output_type": "stream",
       "stream": "stdout",
       "text": [
        "\n",
        "urllib(mine) sleeping to throttle requests"
       ]
      },
      {
       "output_type": "stream",
       "stream": "stdout",
       "text": [
        "\n",
        "urllib(mine) sleeping to throttle requests"
       ]
      },
      {
       "output_type": "stream",
       "stream": "stdout",
       "text": [
        "\n",
        "urllib(mine) sleeping to throttle requests"
       ]
      },
      {
       "output_type": "stream",
       "stream": "stdout",
       "text": [
        "\n",
        "urllib(mine) sleeping to throttle requests"
       ]
      },
      {
       "output_type": "stream",
       "stream": "stdout",
       "text": [
        "\n",
        "urllib(mine) sleeping to throttle requests"
       ]
      },
      {
       "output_type": "stream",
       "stream": "stdout",
       "text": [
        "\n",
        "urllib(mine) sleeping to throttle requests"
       ]
      },
      {
       "output_type": "stream",
       "stream": "stdout",
       "text": [
        "\n",
        "urllib(mine) sleeping to throttle requests"
       ]
      },
      {
       "output_type": "stream",
       "stream": "stdout",
       "text": [
        "\n",
        "urllib(mine) sleeping to throttle requests"
       ]
      },
      {
       "output_type": "stream",
       "stream": "stdout",
       "text": [
        "\n",
        "urllib(mine) sleeping to throttle requests"
       ]
      },
      {
       "output_type": "stream",
       "stream": "stdout",
       "text": [
        "\n",
        "urllib(mine) sleeping to throttle requests"
       ]
      },
      {
       "output_type": "stream",
       "stream": "stdout",
       "text": [
        "\n",
        "urllib(mine) sleeping to throttle requests"
       ]
      },
      {
       "output_type": "stream",
       "stream": "stdout",
       "text": [
        "\n",
        "urllib(mine) sleeping to throttle requests"
       ]
      },
      {
       "output_type": "stream",
       "stream": "stdout",
       "text": [
        "\n",
        "urllib(mine) sleeping to throttle requests"
       ]
      },
      {
       "output_type": "stream",
       "stream": "stdout",
       "text": [
        "\n",
        "urllib(mine) sleeping to throttle requests"
       ]
      },
      {
       "output_type": "stream",
       "stream": "stdout",
       "text": [
        "\n",
        "urllib(mine) sleeping to throttle requests"
       ]
      },
      {
       "output_type": "stream",
       "stream": "stdout",
       "text": [
        "\n",
        "urllib(mine) sleeping to throttle requests"
       ]
      },
      {
       "output_type": "stream",
       "stream": "stdout",
       "text": [
        "\n",
        "urllib(mine) sleeping to throttle requests"
       ]
      },
      {
       "output_type": "stream",
       "stream": "stdout",
       "text": [
        "\n",
        "urllib(mine) sleeping to throttle requests"
       ]
      },
      {
       "output_type": "stream",
       "stream": "stdout",
       "text": [
        "\n",
        "urllib(mine) sleeping to throttle requests"
       ]
      },
      {
       "output_type": "stream",
       "stream": "stdout",
       "text": [
        "\n",
        "urllib(mine) sleeping to throttle requests"
       ]
      },
      {
       "output_type": "stream",
       "stream": "stdout",
       "text": [
        "\n",
        "urllib(mine) sleeping to throttle requests"
       ]
      },
      {
       "output_type": "stream",
       "stream": "stdout",
       "text": [
        "\n",
        "urllib(mine) sleeping to throttle requests"
       ]
      },
      {
       "output_type": "stream",
       "stream": "stdout",
       "text": [
        "\n",
        "urllib(mine) sleeping to throttle requests"
       ]
      },
      {
       "output_type": "stream",
       "stream": "stdout",
       "text": [
        "\n",
        "urllib(mine) sleeping to throttle requests"
       ]
      },
      {
       "output_type": "stream",
       "stream": "stdout",
       "text": [
        "\n",
        "urllib(mine) sleeping to throttle requests"
       ]
      },
      {
       "output_type": "stream",
       "stream": "stdout",
       "text": [
        "\n",
        "urllib(mine) sleeping to throttle requests"
       ]
      },
      {
       "output_type": "stream",
       "stream": "stdout",
       "text": [
        "\n",
        "urllib(mine) sleeping to throttle requests"
       ]
      },
      {
       "output_type": "stream",
       "stream": "stdout",
       "text": [
        "\n",
        "urllib(mine) sleeping to throttle requests"
       ]
      },
      {
       "output_type": "stream",
       "stream": "stdout",
       "text": [
        "\n",
        "urllib(mine) sleeping to throttle requests"
       ]
      },
      {
       "output_type": "stream",
       "stream": "stdout",
       "text": [
        "\n",
        "urllib(mine) sleeping to throttle requests"
       ]
      },
      {
       "output_type": "stream",
       "stream": "stdout",
       "text": [
        "\n",
        "urllib(mine) sleeping to throttle requests"
       ]
      },
      {
       "output_type": "stream",
       "stream": "stdout",
       "text": [
        "\n",
        "urllib(mine) sleeping to throttle requests"
       ]
      },
      {
       "output_type": "stream",
       "stream": "stdout",
       "text": [
        "\n",
        "urllib(mine) sleeping to throttle requests"
       ]
      },
      {
       "output_type": "stream",
       "stream": "stdout",
       "text": [
        "\n",
        "urllib(mine) sleeping to throttle requests"
       ]
      },
      {
       "output_type": "stream",
       "stream": "stdout",
       "text": [
        "\n",
        "urllib(mine) sleeping to throttle requests"
       ]
      },
      {
       "output_type": "stream",
       "stream": "stdout",
       "text": [
        "\n",
        "urllib(mine) sleeping to throttle requests"
       ]
      },
      {
       "output_type": "stream",
       "stream": "stdout",
       "text": [
        "\n",
        "urllib(mine) sleeping to throttle requests"
       ]
      },
      {
       "output_type": "stream",
       "stream": "stdout",
       "text": [
        "\n",
        "urllib(mine) sleeping to throttle requests"
       ]
      },
      {
       "output_type": "stream",
       "stream": "stdout",
       "text": [
        "\n",
        "urllib(mine) sleeping to throttle requests"
       ]
      },
      {
       "output_type": "stream",
       "stream": "stdout",
       "text": [
        "\n",
        "urllib(mine) sleeping to throttle requests"
       ]
      },
      {
       "output_type": "stream",
       "stream": "stdout",
       "text": [
        "\n",
        "urllib(mine) sleeping to throttle requests"
       ]
      },
      {
       "output_type": "stream",
       "stream": "stdout",
       "text": [
        "\n",
        "urllib(mine) sleeping to throttle requests"
       ]
      },
      {
       "output_type": "stream",
       "stream": "stdout",
       "text": [
        "\n",
        "urllib(mine) sleeping to throttle requests"
       ]
      },
      {
       "output_type": "stream",
       "stream": "stdout",
       "text": [
        "\n",
        "urllib(mine) sleeping to throttle requests"
       ]
      },
      {
       "output_type": "stream",
       "stream": "stdout",
       "text": [
        "\n",
        "--------------------------------------"
       ]
      },
      {
       "output_type": "stream",
       "stream": "stdout",
       "text": [
        "\n",
        "Starting friend: I-hSNFLbksk_57Rk2wVw7A\n",
        "--------------------------------------\n",
        "urllib(mine) sleeping to throttle requests\n",
        "--------------------------------------"
       ]
      },
      {
       "output_type": "stream",
       "stream": "stdout",
       "text": [
        "\n",
        "Starting friend: CivLOrB36bhEgnOQEuUzWg\n",
        "--------------------------------------\n",
        "urllib(mine) sleeping to throttle requests\n",
        "urllib(mine) sleeping to throttle requests"
       ]
      },
      {
       "output_type": "stream",
       "stream": "stdout",
       "text": [
        "\n",
        "urllib(mine) sleeping to throttle requests"
       ]
      },
      {
       "output_type": "stream",
       "stream": "stdout",
       "text": [
        "\n",
        "urllib(mine) sleeping to throttle requests"
       ]
      },
      {
       "output_type": "stream",
       "stream": "stdout",
       "text": [
        "\n",
        "urllib(mine) sleeping to throttle requests"
       ]
      },
      {
       "output_type": "stream",
       "stream": "stdout",
       "text": [
        "\n",
        "urllib(mine) sleeping to throttle requests"
       ]
      },
      {
       "output_type": "stream",
       "stream": "stdout",
       "text": [
        "\n",
        "urllib(mine) sleeping to throttle requests"
       ]
      },
      {
       "output_type": "stream",
       "stream": "stdout",
       "text": [
        "\n",
        "urllib(mine) sleeping to throttle requests"
       ]
      },
      {
       "output_type": "stream",
       "stream": "stdout",
       "text": [
        "\n",
        "urllib(mine) sleeping to throttle requests"
       ]
      },
      {
       "output_type": "stream",
       "stream": "stdout",
       "text": [
        "\n",
        "urllib(mine) sleeping to throttle requests"
       ]
      },
      {
       "output_type": "stream",
       "stream": "stdout",
       "text": [
        "\n",
        "urllib(mine) sleeping to throttle requests"
       ]
      },
      {
       "output_type": "stream",
       "stream": "stdout",
       "text": [
        "\n",
        "urllib(mine) sleeping to throttle requests"
       ]
      },
      {
       "output_type": "stream",
       "stream": "stdout",
       "text": [
        "\n",
        "urllib(mine) sleeping to throttle requests"
       ]
      },
      {
       "output_type": "stream",
       "stream": "stdout",
       "text": [
        "\n",
        "urllib(mine) sleeping to throttle requests"
       ]
      },
      {
       "output_type": "stream",
       "stream": "stdout",
       "text": [
        "\n",
        "urllib(mine) sleeping to throttle requests"
       ]
      },
      {
       "output_type": "stream",
       "stream": "stdout",
       "text": [
        "\n",
        "urllib(mine) sleeping to throttle requests"
       ]
      },
      {
       "output_type": "stream",
       "stream": "stdout",
       "text": [
        "\n",
        "urllib(mine) sleeping to throttle requests"
       ]
      },
      {
       "output_type": "stream",
       "stream": "stdout",
       "text": [
        "\n",
        "urllib(mine) sleeping to throttle requests"
       ]
      },
      {
       "output_type": "stream",
       "stream": "stdout",
       "text": [
        "\n",
        "urllib(mine) sleeping to throttle requests"
       ]
      },
      {
       "output_type": "stream",
       "stream": "stdout",
       "text": [
        "\n",
        "urllib(mine) sleeping to throttle requests"
       ]
      },
      {
       "output_type": "stream",
       "stream": "stdout",
       "text": [
        "\n",
        "--------------------------------------"
       ]
      },
      {
       "output_type": "stream",
       "stream": "stdout",
       "text": [
        "\n",
        "Starting friend: OH03lHaTQnOx6shD5OZEJg\n",
        "--------------------------------------\n",
        "urllib(mine) sleeping to throttle requests\n",
        "urllib(mine) sleeping to throttle requests"
       ]
      },
      {
       "output_type": "stream",
       "stream": "stdout",
       "text": [
        "\n",
        "urllib(mine) sleeping to throttle requests"
       ]
      },
      {
       "output_type": "stream",
       "stream": "stdout",
       "text": [
        "\n",
        "urllib(mine) sleeping to throttle requests"
       ]
      },
      {
       "output_type": "stream",
       "stream": "stdout",
       "text": [
        "\n",
        "urllib(mine) sleeping to throttle requests"
       ]
      },
      {
       "output_type": "stream",
       "stream": "stdout",
       "text": [
        "\n",
        "urllib(mine) sleeping to throttle requests"
       ]
      },
      {
       "output_type": "stream",
       "stream": "stdout",
       "text": [
        "\n",
        "urllib(mine) sleeping to throttle requests"
       ]
      },
      {
       "output_type": "stream",
       "stream": "stdout",
       "text": [
        "\n",
        "urllib(mine) sleeping to throttle requests"
       ]
      },
      {
       "output_type": "stream",
       "stream": "stdout",
       "text": [
        "\n",
        "urllib(mine) sleeping to throttle requests"
       ]
      },
      {
       "output_type": "stream",
       "stream": "stdout",
       "text": [
        "\n",
        "urllib(mine) sleeping to throttle requests"
       ]
      },
      {
       "output_type": "stream",
       "stream": "stdout",
       "text": [
        "\n",
        "urllib(mine) sleeping to throttle requests"
       ]
      },
      {
       "output_type": "stream",
       "stream": "stdout",
       "text": [
        "\n",
        "urllib(mine) sleeping to throttle requests"
       ]
      },
      {
       "output_type": "stream",
       "stream": "stdout",
       "text": [
        "\n",
        "urllib(mine) sleeping to throttle requests"
       ]
      },
      {
       "output_type": "stream",
       "stream": "stdout",
       "text": [
        "\n",
        "urllib(mine) sleeping to throttle requests"
       ]
      },
      {
       "output_type": "stream",
       "stream": "stdout",
       "text": [
        "\n",
        "urllib(mine) sleeping to throttle requests"
       ]
      },
      {
       "output_type": "stream",
       "stream": "stdout",
       "text": [
        "\n",
        "urllib(mine) sleeping to throttle requests"
       ]
      },
      {
       "output_type": "stream",
       "stream": "stdout",
       "text": [
        "\n",
        "urllib(mine) sleeping to throttle requests"
       ]
      },
      {
       "output_type": "stream",
       "stream": "stdout",
       "text": [
        "\n",
        "urllib(mine) sleeping to throttle requests"
       ]
      },
      {
       "output_type": "stream",
       "stream": "stdout",
       "text": [
        "\n",
        "urllib(mine) sleeping to throttle requests"
       ]
      },
      {
       "output_type": "stream",
       "stream": "stdout",
       "text": [
        "\n",
        "urllib(mine) sleeping to throttle requests"
       ]
      },
      {
       "output_type": "stream",
       "stream": "stdout",
       "text": [
        "\n",
        "--------------------------------------"
       ]
      },
      {
       "output_type": "stream",
       "stream": "stdout",
       "text": [
        "\n",
        "Starting friend: xnymNJDtWnolDe1ZAc2VQA\n",
        "--------------------------------------\n",
        "urllib(mine) sleeping to throttle requests\n",
        "--------------------------------------"
       ]
      },
      {
       "output_type": "stream",
       "stream": "stdout",
       "text": [
        "\n",
        "Starting friend: fDk5DfePfZUQjqCyxFg49w\n",
        "--------------------------------------\n",
        "urllib(mine) sleeping to throttle requests\n",
        "urllib(mine) sleeping to throttle requests"
       ]
      },
      {
       "output_type": "stream",
       "stream": "stdout",
       "text": [
        "\n",
        "urllib(mine) sleeping to throttle requests"
       ]
      },
      {
       "output_type": "stream",
       "stream": "stdout",
       "text": [
        "\n",
        "urllib(mine) sleeping to throttle requests"
       ]
      },
      {
       "output_type": "stream",
       "stream": "stdout",
       "text": [
        "\n",
        "urllib(mine) sleeping to throttle requests"
       ]
      },
      {
       "output_type": "stream",
       "stream": "stdout",
       "text": [
        "\n",
        "urllib(mine) sleeping to throttle requests"
       ]
      },
      {
       "output_type": "stream",
       "stream": "stdout",
       "text": [
        "\n",
        "urllib(mine) sleeping to throttle requests"
       ]
      },
      {
       "output_type": "stream",
       "stream": "stdout",
       "text": [
        "\n",
        "urllib(mine) sleeping to throttle requests"
       ]
      },
      {
       "output_type": "stream",
       "stream": "stdout",
       "text": [
        "\n",
        "urllib(mine) sleeping to throttle requests"
       ]
      },
      {
       "output_type": "stream",
       "stream": "stdout",
       "text": [
        "\n",
        "urllib(mine) sleeping to throttle requests"
       ]
      },
      {
       "output_type": "stream",
       "stream": "stdout",
       "text": [
        "\n",
        "urllib(mine) sleeping to throttle requests"
       ]
      },
      {
       "output_type": "stream",
       "stream": "stdout",
       "text": [
        "\n",
        "urllib(mine) sleeping to throttle requests"
       ]
      },
      {
       "output_type": "stream",
       "stream": "stdout",
       "text": [
        "\n",
        "urllib(mine) sleeping to throttle requests"
       ]
      },
      {
       "output_type": "stream",
       "stream": "stdout",
       "text": [
        "\n",
        "urllib(mine) sleeping to throttle requests"
       ]
      },
      {
       "output_type": "stream",
       "stream": "stdout",
       "text": [
        "\n",
        "urllib(mine) sleeping to throttle requests"
       ]
      },
      {
       "output_type": "stream",
       "stream": "stdout",
       "text": [
        "\n",
        "urllib(mine) sleeping to throttle requests"
       ]
      },
      {
       "output_type": "stream",
       "stream": "stdout",
       "text": [
        "\n",
        "urllib(mine) sleeping to throttle requests"
       ]
      },
      {
       "output_type": "stream",
       "stream": "stdout",
       "text": [
        "\n",
        "urllib(mine) sleeping to throttle requests"
       ]
      },
      {
       "output_type": "stream",
       "stream": "stdout",
       "text": [
        "\n",
        "--------------------------------------"
       ]
      },
      {
       "output_type": "stream",
       "stream": "stdout",
       "text": [
        "\n",
        "Starting friend: tKAU5YISgzWJu85djFiB2w\n",
        "--------------------------------------\n",
        "urllib(mine) sleeping to throttle requests\n",
        "--------------------------------------"
       ]
      },
      {
       "output_type": "stream",
       "stream": "stdout",
       "text": [
        "\n",
        "Starting friend: jsJDgjMibR32GmtY8kiklQ\n",
        "--------------------------------------\n",
        "urllib(mine) sleeping to throttle requests\n",
        "--------------------------------------"
       ]
      },
      {
       "output_type": "stream",
       "stream": "stdout",
       "text": [
        "\n",
        "Starting friend: k_sSRgZCBq3g_wZywm9duQ\n",
        "--------------------------------------\n",
        "urllib(mine) sleeping to throttle requests\n",
        "--------------------------------------"
       ]
      },
      {
       "output_type": "stream",
       "stream": "stdout",
       "text": [
        "\n",
        "Starting friend: vDg_PGXANkxHsIk54vMwug\n",
        "--------------------------------------\n",
        "urllib(mine) sleeping to throttle requests\n",
        "urllib(mine) sleeping to throttle requests"
       ]
      },
      {
       "output_type": "stream",
       "stream": "stdout",
       "text": [
        "\n",
        "urllib(mine) sleeping to throttle requests"
       ]
      },
      {
       "output_type": "stream",
       "stream": "stdout",
       "text": [
        "\n",
        "urllib(mine) sleeping to throttle requests"
       ]
      },
      {
       "output_type": "stream",
       "stream": "stdout",
       "text": [
        "\n",
        "urllib(mine) sleeping to throttle requests"
       ]
      },
      {
       "output_type": "stream",
       "stream": "stdout",
       "text": [
        "\n",
        "urllib(mine) sleeping to throttle requests"
       ]
      },
      {
       "output_type": "stream",
       "stream": "stdout",
       "text": [
        "\n",
        "urllib(mine) sleeping to throttle requests"
       ]
      },
      {
       "output_type": "stream",
       "stream": "stdout",
       "text": [
        "\n",
        "urllib(mine) sleeping to throttle requests"
       ]
      },
      {
       "output_type": "stream",
       "stream": "stdout",
       "text": [
        "\n",
        "urllib(mine) sleeping to throttle requests"
       ]
      },
      {
       "output_type": "stream",
       "stream": "stdout",
       "text": [
        "\n",
        "urllib(mine) sleeping to throttle requests"
       ]
      },
      {
       "output_type": "stream",
       "stream": "stdout",
       "text": [
        "\n",
        "urllib(mine) sleeping to throttle requests"
       ]
      },
      {
       "output_type": "stream",
       "stream": "stdout",
       "text": [
        "\n",
        "urllib(mine) sleeping to throttle requests"
       ]
      },
      {
       "output_type": "stream",
       "stream": "stdout",
       "text": [
        "\n",
        "urllib(mine) sleeping to throttle requests"
       ]
      },
      {
       "output_type": "stream",
       "stream": "stdout",
       "text": [
        "\n",
        "--------------------------------------"
       ]
      },
      {
       "output_type": "stream",
       "stream": "stdout",
       "text": [
        "\n",
        "Starting friend: Z62bjNVG6RuzYjPlRbtDnQ\n",
        "--------------------------------------\n",
        "urllib(mine) sleeping to throttle requests\n",
        "urllib(mine) sleeping to throttle requests"
       ]
      },
      {
       "output_type": "stream",
       "stream": "stdout",
       "text": [
        "\n",
        "--------------------------------------"
       ]
      },
      {
       "output_type": "stream",
       "stream": "stdout",
       "text": [
        "\n",
        "Starting friend: csD9V4Gio_1i-Mukv9aG1Q\n",
        "--------------------------------------\n",
        "urllib(mine) sleeping to throttle requests\n",
        "urllib(mine) sleeping to throttle requests"
       ]
      },
      {
       "output_type": "stream",
       "stream": "stdout",
       "text": [
        "\n",
        "--------------------------------------"
       ]
      },
      {
       "output_type": "stream",
       "stream": "stdout",
       "text": [
        "\n",
        "Starting friend: KtWo9ht0kY6coXQfTmZiBw\n",
        "--------------------------------------\n",
        "urllib(mine) sleeping to throttle requests\n",
        "urllib(mine) sleeping to throttle requests"
       ]
      },
      {
       "output_type": "stream",
       "stream": "stdout",
       "text": [
        "\n",
        "urllib(mine) sleeping to throttle requests"
       ]
      },
      {
       "output_type": "stream",
       "stream": "stdout",
       "text": [
        "\n",
        "--------------------------------------"
       ]
      },
      {
       "output_type": "stream",
       "stream": "stdout",
       "text": [
        "\n",
        "Starting friend: YalRLFVGKqT9HVNu2oh9mw\n",
        "--------------------------------------\n",
        "urllib(mine) sleeping to throttle requests\n",
        "urllib(mine) sleeping to throttle requests"
       ]
      },
      {
       "output_type": "stream",
       "stream": "stdout",
       "text": [
        "\n",
        "urllib(mine) sleeping to throttle requests"
       ]
      },
      {
       "output_type": "stream",
       "stream": "stdout",
       "text": [
        "\n",
        "urllib(mine) sleeping to throttle requests"
       ]
      },
      {
       "output_type": "stream",
       "stream": "stdout",
       "text": [
        "\n",
        "urllib(mine) sleeping to throttle requests"
       ]
      },
      {
       "output_type": "stream",
       "stream": "stdout",
       "text": [
        "\n",
        "urllib(mine) sleeping to throttle requests"
       ]
      },
      {
       "output_type": "stream",
       "stream": "stdout",
       "text": [
        "\n",
        "urllib(mine) sleeping to throttle requests"
       ]
      },
      {
       "output_type": "stream",
       "stream": "stdout",
       "text": [
        "\n",
        "urllib(mine) sleeping to throttle requests"
       ]
      },
      {
       "output_type": "stream",
       "stream": "stdout",
       "text": [
        "\n",
        "urllib(mine) sleeping to throttle requests"
       ]
      },
      {
       "output_type": "stream",
       "stream": "stdout",
       "text": [
        "\n",
        "urllib(mine) sleeping to throttle requests"
       ]
      },
      {
       "output_type": "stream",
       "stream": "stdout",
       "text": [
        "\n",
        "urllib(mine) sleeping to throttle requests"
       ]
      },
      {
       "output_type": "stream",
       "stream": "stdout",
       "text": [
        "\n",
        "urllib(mine) sleeping to throttle requests"
       ]
      },
      {
       "output_type": "stream",
       "stream": "stdout",
       "text": [
        "\n",
        "urllib(mine) sleeping to throttle requests"
       ]
      },
      {
       "output_type": "stream",
       "stream": "stdout",
       "text": [
        "\n",
        "urllib(mine) sleeping to throttle requests"
       ]
      },
      {
       "output_type": "stream",
       "stream": "stdout",
       "text": [
        "\n",
        "urllib(mine) sleeping to throttle requests"
       ]
      },
      {
       "output_type": "stream",
       "stream": "stdout",
       "text": [
        "\n",
        "urllib(mine) sleeping to throttle requests"
       ]
      },
      {
       "output_type": "stream",
       "stream": "stdout",
       "text": [
        "\n",
        "urllib(mine) sleeping to throttle requests"
       ]
      },
      {
       "output_type": "stream",
       "stream": "stdout",
       "text": [
        "\n",
        "urllib(mine) sleeping to throttle requests"
       ]
      },
      {
       "output_type": "stream",
       "stream": "stdout",
       "text": [
        "\n",
        "urllib(mine) sleeping to throttle requests"
       ]
      },
      {
       "output_type": "stream",
       "stream": "stdout",
       "text": [
        "\n",
        "urllib(mine) sleeping to throttle requests"
       ]
      },
      {
       "output_type": "stream",
       "stream": "stdout",
       "text": [
        "\n",
        "urllib(mine) sleeping to throttle requests"
       ]
      },
      {
       "output_type": "stream",
       "stream": "stdout",
       "text": [
        "\n",
        "urllib(mine) sleeping to throttle requests"
       ]
      },
      {
       "output_type": "stream",
       "stream": "stdout",
       "text": [
        "\n",
        "urllib(mine) sleeping to throttle requests"
       ]
      },
      {
       "output_type": "stream",
       "stream": "stdout",
       "text": [
        "\n",
        "urllib(mine) sleeping to throttle requests"
       ]
      },
      {
       "output_type": "stream",
       "stream": "stdout",
       "text": [
        "\n",
        "urllib(mine) sleeping to throttle requests"
       ]
      },
      {
       "output_type": "stream",
       "stream": "stdout",
       "text": [
        "\n",
        "urllib(mine) sleeping to throttle requests"
       ]
      },
      {
       "output_type": "stream",
       "stream": "stdout",
       "text": [
        "\n",
        "urllib(mine) sleeping to throttle requests"
       ]
      },
      {
       "output_type": "stream",
       "stream": "stdout",
       "text": [
        "\n",
        "--------------------------------------"
       ]
      },
      {
       "output_type": "stream",
       "stream": "stdout",
       "text": [
        "\n",
        "Starting friend: NKQZMwH4DMWABDeFUQXxXg\n",
        "--------------------------------------\n",
        "urllib(mine) sleeping to throttle requests\n",
        "--------------------------------------"
       ]
      },
      {
       "output_type": "stream",
       "stream": "stdout",
       "text": [
        "\n",
        "Starting friend: 0nk27yjLMwITzPtsrzJMQQ\n",
        "--------------------------------------\n",
        "urllib(mine) sleeping to throttle requests\n",
        "--------------------------------------"
       ]
      },
      {
       "output_type": "stream",
       "stream": "stdout",
       "text": [
        "\n",
        "Starting friend: p3QcQNsnvZKUJR0D3bAUeA\n",
        "--------------------------------------\n",
        "urllib(mine) sleeping to throttle requests\n",
        "urllib(mine) sleeping to throttle requests"
       ]
      },
      {
       "output_type": "stream",
       "stream": "stdout",
       "text": [
        "\n",
        "--------------------------------------"
       ]
      },
      {
       "output_type": "stream",
       "stream": "stdout",
       "text": [
        "\n",
        "Starting friend: 4SdPhcblG7wuDLQlvOWrdw\n",
        "--------------------------------------\n",
        "urllib(mine) sleeping to throttle requests\n",
        "urllib(mine) sleeping to throttle requests"
       ]
      },
      {
       "output_type": "stream",
       "stream": "stdout",
       "text": [
        "\n",
        "urllib(mine) sleeping to throttle requests"
       ]
      },
      {
       "output_type": "stream",
       "stream": "stdout",
       "text": [
        "\n",
        "urllib(mine) sleeping to throttle requests"
       ]
      },
      {
       "output_type": "stream",
       "stream": "stdout",
       "text": [
        "\n",
        "urllib(mine) sleeping to throttle requests"
       ]
      },
      {
       "output_type": "stream",
       "stream": "stdout",
       "text": [
        "\n",
        "urllib(mine) sleeping to throttle requests"
       ]
      },
      {
       "output_type": "stream",
       "stream": "stdout",
       "text": [
        "\n",
        "urllib(mine) sleeping to throttle requests"
       ]
      },
      {
       "output_type": "stream",
       "stream": "stdout",
       "text": [
        "\n",
        "urllib(mine) sleeping to throttle requests"
       ]
      },
      {
       "output_type": "stream",
       "stream": "stdout",
       "text": [
        "\n",
        "urllib(mine) sleeping to throttle requests"
       ]
      },
      {
       "output_type": "stream",
       "stream": "stdout",
       "text": [
        "\n",
        "urllib(mine) sleeping to throttle requests"
       ]
      },
      {
       "output_type": "stream",
       "stream": "stdout",
       "text": [
        "\n",
        "urllib(mine) sleeping to throttle requests"
       ]
      },
      {
       "output_type": "stream",
       "stream": "stdout",
       "text": [
        "\n",
        "urllib(mine) sleeping to throttle requests"
       ]
      },
      {
       "output_type": "stream",
       "stream": "stdout",
       "text": [
        "\n",
        "urllib(mine) sleeping to throttle requests"
       ]
      },
      {
       "output_type": "stream",
       "stream": "stdout",
       "text": [
        "\n",
        "urllib(mine) sleeping to throttle requests"
       ]
      },
      {
       "output_type": "stream",
       "stream": "stdout",
       "text": [
        "\n",
        "urllib(mine) sleeping to throttle requests"
       ]
      },
      {
       "output_type": "stream",
       "stream": "stdout",
       "text": [
        "\n",
        "urllib(mine) sleeping to throttle requests"
       ]
      },
      {
       "output_type": "stream",
       "stream": "stdout",
       "text": [
        "\n",
        "urllib(mine) sleeping to throttle requests"
       ]
      },
      {
       "output_type": "stream",
       "stream": "stdout",
       "text": [
        "\n",
        "--------------------------------------"
       ]
      },
      {
       "output_type": "stream",
       "stream": "stdout",
       "text": [
        "\n",
        "Starting friend: 5Ak87KzB409zNImUehS7EQ\n",
        "--------------------------------------\n",
        "urllib(mine) sleeping to throttle requests\n",
        "urllib(mine) sleeping to throttle requests"
       ]
      },
      {
       "output_type": "stream",
       "stream": "stdout",
       "text": [
        "\n",
        "urllib(mine) sleeping to throttle requests"
       ]
      },
      {
       "output_type": "stream",
       "stream": "stdout",
       "text": [
        "\n",
        "urllib(mine) sleeping to throttle requests"
       ]
      },
      {
       "output_type": "stream",
       "stream": "stdout",
       "text": [
        "\n",
        "urllib(mine) sleeping to throttle requests"
       ]
      },
      {
       "output_type": "stream",
       "stream": "stdout",
       "text": [
        "\n",
        "urllib(mine) sleeping to throttle requests"
       ]
      },
      {
       "output_type": "stream",
       "stream": "stdout",
       "text": [
        "\n",
        "urllib(mine) sleeping to throttle requests"
       ]
      },
      {
       "output_type": "stream",
       "stream": "stdout",
       "text": [
        "\n",
        "urllib(mine) sleeping to throttle requests"
       ]
      },
      {
       "output_type": "stream",
       "stream": "stdout",
       "text": [
        "\n",
        "urllib(mine) sleeping to throttle requests"
       ]
      },
      {
       "output_type": "stream",
       "stream": "stdout",
       "text": [
        "\n",
        "urllib(mine) sleeping to throttle requests"
       ]
      },
      {
       "output_type": "stream",
       "stream": "stdout",
       "text": [
        "\n",
        "urllib(mine) sleeping to throttle requests"
       ]
      },
      {
       "output_type": "stream",
       "stream": "stdout",
       "text": [
        "\n",
        "urllib(mine) sleeping to throttle requests"
       ]
      },
      {
       "output_type": "stream",
       "stream": "stdout",
       "text": [
        "\n",
        "urllib(mine) sleeping to throttle requests"
       ]
      },
      {
       "output_type": "stream",
       "stream": "stdout",
       "text": [
        "\n",
        "urllib(mine) sleeping to throttle requests"
       ]
      },
      {
       "output_type": "stream",
       "stream": "stdout",
       "text": [
        "\n",
        "urllib(mine) sleeping to throttle requests"
       ]
      },
      {
       "output_type": "stream",
       "stream": "stdout",
       "text": [
        "\n",
        "urllib(mine) sleeping to throttle requests"
       ]
      },
      {
       "output_type": "stream",
       "stream": "stdout",
       "text": [
        "\n",
        "urllib(mine) sleeping to throttle requests"
       ]
      },
      {
       "output_type": "stream",
       "stream": "stdout",
       "text": [
        "\n",
        "urllib(mine) sleeping to throttle requests"
       ]
      },
      {
       "output_type": "stream",
       "stream": "stdout",
       "text": [
        "\n",
        "urllib(mine) sleeping to throttle requests"
       ]
      },
      {
       "output_type": "stream",
       "stream": "stdout",
       "text": [
        "\n",
        "urllib(mine) sleeping to throttle requests"
       ]
      },
      {
       "output_type": "stream",
       "stream": "stdout",
       "text": [
        "\n",
        "urllib(mine) sleeping to throttle requests"
       ]
      },
      {
       "output_type": "stream",
       "stream": "stdout",
       "text": [
        "\n",
        "urllib(mine) sleeping to throttle requests"
       ]
      },
      {
       "output_type": "stream",
       "stream": "stdout",
       "text": [
        "\n",
        "urllib(mine) sleeping to throttle requests"
       ]
      },
      {
       "output_type": "stream",
       "stream": "stdout",
       "text": [
        "\n",
        "urllib(mine) sleeping to throttle requests"
       ]
      },
      {
       "output_type": "stream",
       "stream": "stdout",
       "text": [
        "\n",
        "urllib(mine) sleeping to throttle requests"
       ]
      },
      {
       "output_type": "stream",
       "stream": "stdout",
       "text": [
        "\n",
        "urllib(mine) sleeping to throttle requests"
       ]
      },
      {
       "output_type": "stream",
       "stream": "stdout",
       "text": [
        "\n",
        "urllib(mine) sleeping to throttle requests"
       ]
      },
      {
       "output_type": "stream",
       "stream": "stdout",
       "text": [
        "\n",
        "urllib(mine) sleeping to throttle requests"
       ]
      },
      {
       "output_type": "stream",
       "stream": "stdout",
       "text": [
        "\n",
        "urllib(mine) sleeping to throttle requests"
       ]
      },
      {
       "output_type": "stream",
       "stream": "stdout",
       "text": [
        "\n",
        "urllib(mine) sleeping to throttle requests"
       ]
      },
      {
       "output_type": "stream",
       "stream": "stdout",
       "text": [
        "\n",
        "urllib(mine) sleeping to throttle requests"
       ]
      },
      {
       "output_type": "stream",
       "stream": "stdout",
       "text": [
        "\n",
        "urllib(mine) sleeping to throttle requests"
       ]
      },
      {
       "output_type": "stream",
       "stream": "stdout",
       "text": [
        "\n",
        "urllib(mine) sleeping to throttle requests"
       ]
      },
      {
       "output_type": "stream",
       "stream": "stdout",
       "text": [
        "\n",
        "--------------------------------------"
       ]
      },
      {
       "output_type": "stream",
       "stream": "stdout",
       "text": [
        "\n",
        "Starting friend: yulXOMg9DEgPdnZVbb2zHg\n",
        "--------------------------------------\n",
        "urllib(mine) sleeping to throttle requests\n",
        "urllib(mine) sleeping to throttle requests"
       ]
      },
      {
       "output_type": "stream",
       "stream": "stdout",
       "text": [
        "\n",
        "urllib(mine) sleeping to throttle requests"
       ]
      },
      {
       "output_type": "stream",
       "stream": "stdout",
       "text": [
        "\n",
        "urllib(mine) sleeping to throttle requests"
       ]
      },
      {
       "output_type": "stream",
       "stream": "stdout",
       "text": [
        "\n",
        "urllib(mine) sleeping to throttle requests"
       ]
      },
      {
       "output_type": "stream",
       "stream": "stdout",
       "text": [
        "\n",
        "urllib(mine) sleeping to throttle requests"
       ]
      },
      {
       "output_type": "stream",
       "stream": "stdout",
       "text": [
        "\n",
        "urllib(mine) sleeping to throttle requests"
       ]
      },
      {
       "output_type": "stream",
       "stream": "stdout",
       "text": [
        "\n",
        "urllib(mine) sleeping to throttle requests"
       ]
      },
      {
       "output_type": "stream",
       "stream": "stdout",
       "text": [
        "\n",
        "urllib(mine) sleeping to throttle requests"
       ]
      },
      {
       "output_type": "stream",
       "stream": "stdout",
       "text": [
        "\n",
        "urllib(mine) sleeping to throttle requests"
       ]
      },
      {
       "output_type": "stream",
       "stream": "stdout",
       "text": [
        "\n",
        "urllib(mine) sleeping to throttle requests"
       ]
      },
      {
       "output_type": "stream",
       "stream": "stdout",
       "text": [
        "\n",
        "urllib(mine) sleeping to throttle requests"
       ]
      },
      {
       "output_type": "stream",
       "stream": "stdout",
       "text": [
        "\n",
        "urllib(mine) sleeping to throttle requests"
       ]
      },
      {
       "output_type": "stream",
       "stream": "stdout",
       "text": [
        "\n",
        "urllib(mine) sleeping to throttle requests"
       ]
      },
      {
       "output_type": "stream",
       "stream": "stdout",
       "text": [
        "\n",
        "urllib(mine) sleeping to throttle requests"
       ]
      },
      {
       "output_type": "stream",
       "stream": "stdout",
       "text": [
        "\n",
        "urllib(mine) sleeping to throttle requests"
       ]
      },
      {
       "output_type": "stream",
       "stream": "stdout",
       "text": [
        "\n",
        "urllib(mine) sleeping to throttle requests"
       ]
      },
      {
       "output_type": "stream",
       "stream": "stdout",
       "text": [
        "\n",
        "urllib(mine) sleeping to throttle requests"
       ]
      },
      {
       "output_type": "stream",
       "stream": "stdout",
       "text": [
        "\n",
        "urllib(mine) sleeping to throttle requests"
       ]
      },
      {
       "output_type": "stream",
       "stream": "stdout",
       "text": [
        "\n",
        "urllib(mine) sleeping to throttle requests"
       ]
      },
      {
       "output_type": "stream",
       "stream": "stdout",
       "text": [
        "\n",
        "urllib(mine) sleeping to throttle requests"
       ]
      },
      {
       "output_type": "stream",
       "stream": "stdout",
       "text": [
        "\n",
        "urllib(mine) sleeping to throttle requests"
       ]
      },
      {
       "output_type": "stream",
       "stream": "stdout",
       "text": [
        "\n",
        "--------------------------------------"
       ]
      },
      {
       "output_type": "stream",
       "stream": "stdout",
       "text": [
        "\n",
        "Starting friend: 28fjhv15qDeGj6EwmR5woA\n",
        "--------------------------------------\n",
        "urllib(mine) sleeping to throttle requests\n",
        "--------------------------------------"
       ]
      },
      {
       "output_type": "stream",
       "stream": "stdout",
       "text": [
        "\n",
        "Starting friend: fbpjEkaALuGJo_dCYWPYRQ\n",
        "--------------------------------------\n",
        "urllib(mine) sleeping to throttle requests\n",
        "urllib(mine) sleeping to throttle requests"
       ]
      },
      {
       "output_type": "stream",
       "stream": "stdout",
       "text": [
        "\n",
        "urllib(mine) sleeping to throttle requests"
       ]
      },
      {
       "output_type": "stream",
       "stream": "stdout",
       "text": [
        "\n",
        "urllib(mine) sleeping to throttle requests"
       ]
      },
      {
       "output_type": "stream",
       "stream": "stdout",
       "text": [
        "\n",
        "urllib(mine) sleeping to throttle requests"
       ]
      },
      {
       "output_type": "stream",
       "stream": "stdout",
       "text": [
        "\n",
        "urllib(mine) sleeping to throttle requests"
       ]
      },
      {
       "output_type": "stream",
       "stream": "stdout",
       "text": [
        "\n",
        "urllib(mine) sleeping to throttle requests"
       ]
      },
      {
       "output_type": "stream",
       "stream": "stdout",
       "text": [
        "\n",
        "urllib(mine) sleeping to throttle requests"
       ]
      },
      {
       "output_type": "stream",
       "stream": "stdout",
       "text": [
        "\n",
        "urllib(mine) sleeping to throttle requests"
       ]
      },
      {
       "output_type": "stream",
       "stream": "stdout",
       "text": [
        "\n",
        "urllib(mine) sleeping to throttle requests"
       ]
      },
      {
       "output_type": "stream",
       "stream": "stdout",
       "text": [
        "\n",
        "urllib(mine) sleeping to throttle requests"
       ]
      },
      {
       "output_type": "stream",
       "stream": "stdout",
       "text": [
        "\n",
        "urllib(mine) sleeping to throttle requests"
       ]
      },
      {
       "output_type": "stream",
       "stream": "stdout",
       "text": [
        "\n",
        "urllib(mine) sleeping to throttle requests"
       ]
      },
      {
       "output_type": "stream",
       "stream": "stdout",
       "text": [
        "\n",
        "urllib(mine) sleeping to throttle requests"
       ]
      },
      {
       "output_type": "stream",
       "stream": "stdout",
       "text": [
        "\n",
        "urllib(mine) sleeping to throttle requests"
       ]
      },
      {
       "output_type": "stream",
       "stream": "stdout",
       "text": [
        "\n",
        "urllib(mine) sleeping to throttle requests"
       ]
      },
      {
       "output_type": "stream",
       "stream": "stdout",
       "text": [
        "\n",
        "urllib(mine) sleeping to throttle requests"
       ]
      },
      {
       "output_type": "stream",
       "stream": "stdout",
       "text": [
        "\n",
        "urllib(mine) sleeping to throttle requests"
       ]
      },
      {
       "output_type": "stream",
       "stream": "stdout",
       "text": [
        "\n",
        "urllib(mine) sleeping to throttle requests"
       ]
      },
      {
       "output_type": "stream",
       "stream": "stdout",
       "text": [
        "\n",
        "urllib(mine) sleeping to throttle requests"
       ]
      },
      {
       "output_type": "stream",
       "stream": "stdout",
       "text": [
        "\n",
        "urllib(mine) sleeping to throttle requests"
       ]
      },
      {
       "output_type": "stream",
       "stream": "stdout",
       "text": [
        "\n",
        "urllib(mine) sleeping to throttle requests"
       ]
      },
      {
       "output_type": "stream",
       "stream": "stdout",
       "text": [
        "\n",
        "urllib(mine) sleeping to throttle requests"
       ]
      },
      {
       "output_type": "stream",
       "stream": "stdout",
       "text": [
        "\n",
        "urllib(mine) sleeping to throttle requests"
       ]
      },
      {
       "output_type": "stream",
       "stream": "stdout",
       "text": [
        "\n",
        "urllib(mine) sleeping to throttle requests"
       ]
      },
      {
       "output_type": "stream",
       "stream": "stdout",
       "text": [
        "\n",
        "urllib(mine) sleeping to throttle requests"
       ]
      },
      {
       "output_type": "stream",
       "stream": "stdout",
       "text": [
        "\n",
        "urllib(mine) sleeping to throttle requests"
       ]
      },
      {
       "output_type": "stream",
       "stream": "stdout",
       "text": [
        "\n",
        "urllib(mine) sleeping to throttle requests"
       ]
      },
      {
       "output_type": "stream",
       "stream": "stdout",
       "text": [
        "\n",
        "urllib(mine) sleeping to throttle requests"
       ]
      },
      {
       "output_type": "stream",
       "stream": "stdout",
       "text": [
        "\n",
        "urllib(mine) sleeping to throttle requests"
       ]
      },
      {
       "output_type": "stream",
       "stream": "stdout",
       "text": [
        "\n",
        "urllib(mine) sleeping to throttle requests"
       ]
      },
      {
       "output_type": "stream",
       "stream": "stdout",
       "text": [
        "\n",
        "urllib(mine) sleeping to throttle requests"
       ]
      },
      {
       "output_type": "stream",
       "stream": "stdout",
       "text": [
        "\n",
        "urllib(mine) sleeping to throttle requests"
       ]
      },
      {
       "output_type": "stream",
       "stream": "stdout",
       "text": [
        "\n",
        "urllib(mine) sleeping to throttle requests"
       ]
      },
      {
       "output_type": "stream",
       "stream": "stdout",
       "text": [
        "\n",
        "urllib(mine) sleeping to throttle requests"
       ]
      },
      {
       "output_type": "stream",
       "stream": "stdout",
       "text": [
        "\n",
        "urllib(mine) sleeping to throttle requests"
       ]
      },
      {
       "output_type": "stream",
       "stream": "stdout",
       "text": [
        "\n",
        "urllib(mine) sleeping to throttle requests"
       ]
      },
      {
       "output_type": "stream",
       "stream": "stdout",
       "text": [
        "\n",
        "urllib(mine) sleeping to throttle requests"
       ]
      },
      {
       "output_type": "stream",
       "stream": "stdout",
       "text": [
        "\n",
        "urllib(mine) sleeping to throttle requests"
       ]
      },
      {
       "output_type": "stream",
       "stream": "stdout",
       "text": [
        "\n",
        "urllib(mine) sleeping to throttle requests"
       ]
      },
      {
       "output_type": "stream",
       "stream": "stdout",
       "text": [
        "\n",
        "urllib(mine) sleeping to throttle requests"
       ]
      },
      {
       "output_type": "stream",
       "stream": "stdout",
       "text": [
        "\n",
        "urllib(mine) sleeping to throttle requests"
       ]
      },
      {
       "output_type": "stream",
       "stream": "stdout",
       "text": [
        "\n",
        "urllib(mine) sleeping to throttle requests"
       ]
      },
      {
       "output_type": "stream",
       "stream": "stdout",
       "text": [
        "\n",
        "urllib(mine) sleeping to throttle requests"
       ]
      },
      {
       "output_type": "stream",
       "stream": "stdout",
       "text": [
        "\n",
        "urllib(mine) sleeping to throttle requests"
       ]
      },
      {
       "output_type": "stream",
       "stream": "stdout",
       "text": [
        "\n",
        "urllib(mine) sleeping to throttle requests"
       ]
      },
      {
       "output_type": "stream",
       "stream": "stdout",
       "text": [
        "\n",
        "urllib(mine) sleeping to throttle requests"
       ]
      },
      {
       "output_type": "stream",
       "stream": "stdout",
       "text": [
        "\n",
        "urllib(mine) sleeping to throttle requests"
       ]
      },
      {
       "output_type": "stream",
       "stream": "stdout",
       "text": [
        "\n",
        "urllib(mine) sleeping to throttle requests"
       ]
      },
      {
       "output_type": "stream",
       "stream": "stdout",
       "text": [
        "\n",
        "urllib(mine) sleeping to throttle requests"
       ]
      },
      {
       "output_type": "stream",
       "stream": "stdout",
       "text": [
        "\n",
        "urllib(mine) sleeping to throttle requests"
       ]
      },
      {
       "output_type": "stream",
       "stream": "stdout",
       "text": [
        "\n",
        "urllib(mine) sleeping to throttle requests"
       ]
      },
      {
       "output_type": "stream",
       "stream": "stdout",
       "text": [
        "\n",
        "urllib(mine) sleeping to throttle requests"
       ]
      },
      {
       "output_type": "stream",
       "stream": "stdout",
       "text": [
        "\n",
        "urllib(mine) sleeping to throttle requests"
       ]
      },
      {
       "output_type": "stream",
       "stream": "stdout",
       "text": [
        "\n",
        "urllib(mine) sleeping to throttle requests"
       ]
      },
      {
       "output_type": "stream",
       "stream": "stdout",
       "text": [
        "\n",
        "urllib(mine) sleeping to throttle requests"
       ]
      },
      {
       "output_type": "stream",
       "stream": "stdout",
       "text": [
        "\n",
        "urllib(mine) sleeping to throttle requests"
       ]
      },
      {
       "output_type": "stream",
       "stream": "stdout",
       "text": [
        "\n",
        "urllib(mine) sleeping to throttle requests"
       ]
      },
      {
       "output_type": "stream",
       "stream": "stdout",
       "text": [
        "\n",
        "urllib(mine) sleeping to throttle requests"
       ]
      },
      {
       "output_type": "stream",
       "stream": "stdout",
       "text": [
        "\n",
        "urllib(mine) sleeping to throttle requests"
       ]
      },
      {
       "output_type": "stream",
       "stream": "stdout",
       "text": [
        "\n",
        "urllib(mine) sleeping to throttle requests"
       ]
      },
      {
       "output_type": "stream",
       "stream": "stdout",
       "text": [
        "\n",
        "urllib(mine) sleeping to throttle requests"
       ]
      },
      {
       "output_type": "stream",
       "stream": "stdout",
       "text": [
        "\n",
        "urllib(mine) sleeping to throttle requests"
       ]
      },
      {
       "output_type": "stream",
       "stream": "stdout",
       "text": [
        "\n",
        "urllib(mine) sleeping to throttle requests"
       ]
      },
      {
       "output_type": "stream",
       "stream": "stdout",
       "text": [
        "\n",
        "urllib(mine) sleeping to throttle requests"
       ]
      },
      {
       "output_type": "stream",
       "stream": "stdout",
       "text": [
        "\n",
        "urllib(mine) sleeping to throttle requests"
       ]
      },
      {
       "output_type": "stream",
       "stream": "stdout",
       "text": [
        "\n",
        "--------------------------------------"
       ]
      },
      {
       "output_type": "stream",
       "stream": "stdout",
       "text": [
        "\n",
        "Starting friend: 8waf28S8qAilQloYZv5_Vw\n",
        "--------------------------------------\n",
        "urllib(mine) sleeping to throttle requests\n",
        "--------------------------------------"
       ]
      },
      {
       "output_type": "stream",
       "stream": "stdout",
       "text": [
        "\n",
        "Starting friend: AZj-VuXQLE-nddpLBSiwIQ\n",
        "--------------------------------------\n",
        "urllib(mine) sleeping to throttle requests\n",
        "urllib(mine) sleeping to throttle requests"
       ]
      },
      {
       "output_type": "stream",
       "stream": "stdout",
       "text": [
        "\n",
        "urllib(mine) sleeping to throttle requests"
       ]
      },
      {
       "output_type": "stream",
       "stream": "stdout",
       "text": [
        "\n",
        "urllib(mine) sleeping to throttle requests"
       ]
      },
      {
       "output_type": "stream",
       "stream": "stdout",
       "text": [
        "\n",
        "urllib(mine) sleeping to throttle requests"
       ]
      },
      {
       "output_type": "stream",
       "stream": "stdout",
       "text": [
        "\n",
        "urllib(mine) sleeping to throttle requests"
       ]
      },
      {
       "output_type": "stream",
       "stream": "stdout",
       "text": [
        "\n",
        "--------------------------------------"
       ]
      },
      {
       "output_type": "stream",
       "stream": "stdout",
       "text": [
        "\n",
        "Starting friend: KRGdGZEHVLejsaQuj8O8tg\n",
        "--------------------------------------\n",
        "urllib(mine) sleeping to throttle requests\n",
        "--------------------------------------"
       ]
      },
      {
       "output_type": "stream",
       "stream": "stdout",
       "text": [
        "\n",
        "Starting friend: 78Idp6_gsaS8XZtrhEtn6w\n",
        "--------------------------------------\n",
        "urllib(mine) sleeping to throttle requests\n",
        "--------------------------------------"
       ]
      },
      {
       "output_type": "stream",
       "stream": "stdout",
       "text": [
        "\n",
        "Starting friend: _T2vKNcvslsKwqPyISYzDg\n",
        "--------------------------------------\n",
        "urllib(mine) sleeping to throttle requests\n",
        "--------------------------------------"
       ]
      },
      {
       "output_type": "stream",
       "stream": "stdout",
       "text": [
        "\n",
        "Starting friend: JMUFH5hFT7qx_DMUgU5iwg\n",
        "--------------------------------------\n",
        "urllib(mine) sleeping to throttle requests\n",
        "--------------------------------------"
       ]
      },
      {
       "output_type": "stream",
       "stream": "stdout",
       "text": [
        "\n",
        "Starting friend: YCojkf140pN7s3R2kVM9VQ\n",
        "--------------------------------------\n",
        "urllib(mine) sleeping to throttle requests\n",
        "urllib(mine) sleeping to throttle requests"
       ]
      },
      {
       "output_type": "stream",
       "stream": "stdout",
       "text": [
        "\n",
        "urllib(mine) sleeping to throttle requests"
       ]
      },
      {
       "output_type": "stream",
       "stream": "stdout",
       "text": [
        "\n",
        "urllib(mine) sleeping to throttle requests"
       ]
      },
      {
       "output_type": "stream",
       "stream": "stdout",
       "text": [
        "\n",
        "urllib(mine) sleeping to throttle requests"
       ]
      },
      {
       "output_type": "stream",
       "stream": "stdout",
       "text": [
        "\n",
        "urllib(mine) sleeping to throttle requests"
       ]
      },
      {
       "output_type": "stream",
       "stream": "stdout",
       "text": [
        "\n",
        "urllib(mine) sleeping to throttle requests"
       ]
      },
      {
       "output_type": "stream",
       "stream": "stdout",
       "text": [
        "\n",
        "urllib(mine) sleeping to throttle requests"
       ]
      },
      {
       "output_type": "stream",
       "stream": "stdout",
       "text": [
        "\n",
        "urllib(mine) sleeping to throttle requests"
       ]
      },
      {
       "output_type": "stream",
       "stream": "stdout",
       "text": [
        "\n",
        "urllib(mine) sleeping to throttle requests"
       ]
      },
      {
       "output_type": "stream",
       "stream": "stdout",
       "text": [
        "\n",
        "urllib(mine) sleeping to throttle requests"
       ]
      },
      {
       "output_type": "stream",
       "stream": "stdout",
       "text": [
        "\n",
        "urllib(mine) sleeping to throttle requests"
       ]
      },
      {
       "output_type": "stream",
       "stream": "stdout",
       "text": [
        "\n",
        "urllib(mine) sleeping to throttle requests"
       ]
      },
      {
       "output_type": "stream",
       "stream": "stdout",
       "text": [
        "\n",
        "urllib(mine) sleeping to throttle requests"
       ]
      },
      {
       "output_type": "stream",
       "stream": "stdout",
       "text": [
        "\n",
        "urllib(mine) sleeping to throttle requests"
       ]
      },
      {
       "output_type": "stream",
       "stream": "stdout",
       "text": [
        "\n",
        "urllib(mine) sleeping to throttle requests"
       ]
      },
      {
       "output_type": "stream",
       "stream": "stdout",
       "text": [
        "\n",
        "urllib(mine) sleeping to throttle requests"
       ]
      },
      {
       "output_type": "stream",
       "stream": "stdout",
       "text": [
        "\n",
        "urllib(mine) sleeping to throttle requests"
       ]
      },
      {
       "output_type": "stream",
       "stream": "stdout",
       "text": [
        "\n",
        "urllib(mine) sleeping to throttle requests"
       ]
      },
      {
       "output_type": "stream",
       "stream": "stdout",
       "text": [
        "\n",
        "urllib(mine) sleeping to throttle requests"
       ]
      },
      {
       "output_type": "stream",
       "stream": "stdout",
       "text": [
        "\n",
        "urllib(mine) sleeping to throttle requests"
       ]
      },
      {
       "output_type": "stream",
       "stream": "stdout",
       "text": [
        "\n",
        "urllib(mine) sleeping to throttle requests"
       ]
      },
      {
       "output_type": "stream",
       "stream": "stdout",
       "text": [
        "\n",
        "urllib(mine) sleeping to throttle requests"
       ]
      },
      {
       "output_type": "stream",
       "stream": "stdout",
       "text": [
        "\n",
        "urllib(mine) sleeping to throttle requests"
       ]
      },
      {
       "output_type": "stream",
       "stream": "stdout",
       "text": [
        "\n",
        "urllib(mine) sleeping to throttle requests"
       ]
      },
      {
       "output_type": "stream",
       "stream": "stdout",
       "text": [
        "\n",
        "urllib(mine) sleeping to throttle requests"
       ]
      },
      {
       "output_type": "stream",
       "stream": "stdout",
       "text": [
        "\n",
        "urllib(mine) sleeping to throttle requests"
       ]
      },
      {
       "output_type": "stream",
       "stream": "stdout",
       "text": [
        "\n",
        "urllib(mine) sleeping to throttle requests"
       ]
      },
      {
       "output_type": "stream",
       "stream": "stdout",
       "text": [
        "\n",
        "urllib(mine) sleeping to throttle requests"
       ]
      },
      {
       "output_type": "stream",
       "stream": "stdout",
       "text": [
        "\n",
        "urllib(mine) sleeping to throttle requests"
       ]
      },
      {
       "output_type": "stream",
       "stream": "stdout",
       "text": [
        "\n",
        "urllib(mine) sleeping to throttle requests"
       ]
      },
      {
       "output_type": "stream",
       "stream": "stdout",
       "text": [
        "\n",
        "urllib(mine) sleeping to throttle requests"
       ]
      },
      {
       "output_type": "stream",
       "stream": "stdout",
       "text": [
        "\n",
        "urllib(mine) sleeping to throttle requests"
       ]
      },
      {
       "output_type": "stream",
       "stream": "stdout",
       "text": [
        "\n",
        "urllib(mine) sleeping to throttle requests"
       ]
      },
      {
       "output_type": "stream",
       "stream": "stdout",
       "text": [
        "\n",
        "urllib(mine) sleeping to throttle requests"
       ]
      },
      {
       "output_type": "stream",
       "stream": "stdout",
       "text": [
        "\n",
        "urllib(mine) sleeping to throttle requests"
       ]
      },
      {
       "output_type": "stream",
       "stream": "stdout",
       "text": [
        "\n",
        "urllib(mine) sleeping to throttle requests"
       ]
      },
      {
       "output_type": "stream",
       "stream": "stdout",
       "text": [
        "\n",
        "urllib(mine) sleeping to throttle requests"
       ]
      },
      {
       "output_type": "stream",
       "stream": "stdout",
       "text": [
        "\n",
        "urllib(mine) sleeping to throttle requests"
       ]
      },
      {
       "output_type": "stream",
       "stream": "stdout",
       "text": [
        "\n",
        "urllib(mine) sleeping to throttle requests"
       ]
      },
      {
       "output_type": "stream",
       "stream": "stdout",
       "text": [
        "\n",
        "urllib(mine) sleeping to throttle requests"
       ]
      },
      {
       "output_type": "stream",
       "stream": "stdout",
       "text": [
        "\n",
        "urllib(mine) sleeping to throttle requests"
       ]
      },
      {
       "output_type": "stream",
       "stream": "stdout",
       "text": [
        "\n",
        "urllib(mine) sleeping to throttle requests"
       ]
      },
      {
       "output_type": "stream",
       "stream": "stdout",
       "text": [
        "\n",
        "urllib(mine) sleeping to throttle requests"
       ]
      },
      {
       "output_type": "stream",
       "stream": "stdout",
       "text": [
        "\n",
        "urllib(mine) sleeping to throttle requests"
       ]
      },
      {
       "output_type": "stream",
       "stream": "stdout",
       "text": [
        "\n",
        "urllib(mine) sleeping to throttle requests"
       ]
      },
      {
       "output_type": "stream",
       "stream": "stdout",
       "text": [
        "\n",
        "urllib(mine) sleeping to throttle requests"
       ]
      },
      {
       "output_type": "stream",
       "stream": "stdout",
       "text": [
        "\n",
        "urllib(mine) sleeping to throttle requests"
       ]
      },
      {
       "output_type": "stream",
       "stream": "stdout",
       "text": [
        "\n",
        "urllib(mine) sleeping to throttle requests"
       ]
      },
      {
       "output_type": "stream",
       "stream": "stdout",
       "text": [
        "\n",
        "urllib(mine) sleeping to throttle requests"
       ]
      },
      {
       "output_type": "stream",
       "stream": "stdout",
       "text": [
        "\n",
        "urllib(mine) sleeping to throttle requests"
       ]
      },
      {
       "output_type": "stream",
       "stream": "stdout",
       "text": [
        "\n",
        "urllib(mine) sleeping to throttle requests"
       ]
      },
      {
       "output_type": "stream",
       "stream": "stdout",
       "text": [
        "\n",
        "urllib(mine) sleeping to throttle requests"
       ]
      },
      {
       "output_type": "stream",
       "stream": "stdout",
       "text": [
        "\n",
        "urllib(mine) sleeping to throttle requests"
       ]
      },
      {
       "output_type": "stream",
       "stream": "stdout",
       "text": [
        "\n",
        "urllib(mine) sleeping to throttle requests"
       ]
      },
      {
       "output_type": "stream",
       "stream": "stdout",
       "text": [
        "\n",
        "urllib(mine) sleeping to throttle requests"
       ]
      },
      {
       "output_type": "stream",
       "stream": "stdout",
       "text": [
        "\n",
        "urllib(mine) sleeping to throttle requests"
       ]
      },
      {
       "output_type": "stream",
       "stream": "stdout",
       "text": [
        "\n",
        "urllib(mine) sleeping to throttle requests"
       ]
      },
      {
       "output_type": "stream",
       "stream": "stdout",
       "text": [
        "\n",
        "urllib(mine) sleeping to throttle requests"
       ]
      },
      {
       "output_type": "stream",
       "stream": "stdout",
       "text": [
        "\n",
        "urllib(mine) sleeping to throttle requests"
       ]
      },
      {
       "output_type": "stream",
       "stream": "stdout",
       "text": [
        "\n",
        "urllib(mine) sleeping to throttle requests"
       ]
      },
      {
       "output_type": "stream",
       "stream": "stdout",
       "text": [
        "\n",
        "urllib(mine) sleeping to throttle requests"
       ]
      },
      {
       "output_type": "stream",
       "stream": "stdout",
       "text": [
        "\n",
        "urllib(mine) sleeping to throttle requests"
       ]
      },
      {
       "output_type": "stream",
       "stream": "stdout",
       "text": [
        "\n",
        "urllib(mine) sleeping to throttle requests"
       ]
      },
      {
       "output_type": "stream",
       "stream": "stdout",
       "text": [
        "\n",
        "urllib(mine) sleeping to throttle requests"
       ]
      },
      {
       "output_type": "stream",
       "stream": "stdout",
       "text": [
        "\n",
        "urllib(mine) sleeping to throttle requests"
       ]
      },
      {
       "output_type": "stream",
       "stream": "stdout",
       "text": [
        "\n",
        "urllib(mine) sleeping to throttle requests"
       ]
      },
      {
       "output_type": "stream",
       "stream": "stdout",
       "text": [
        "\n",
        "urllib(mine) sleeping to throttle requests"
       ]
      },
      {
       "output_type": "stream",
       "stream": "stdout",
       "text": [
        "\n",
        "urllib(mine) sleeping to throttle requests"
       ]
      },
      {
       "output_type": "stream",
       "stream": "stdout",
       "text": [
        "\n",
        "urllib(mine) sleeping to throttle requests"
       ]
      },
      {
       "output_type": "stream",
       "stream": "stdout",
       "text": [
        "\n",
        "urllib(mine) sleeping to throttle requests"
       ]
      },
      {
       "output_type": "stream",
       "stream": "stdout",
       "text": [
        "\n",
        "urllib(mine) sleeping to throttle requests"
       ]
      },
      {
       "output_type": "stream",
       "stream": "stdout",
       "text": [
        "\n",
        "urllib(mine) sleeping to throttle requests"
       ]
      },
      {
       "output_type": "stream",
       "stream": "stdout",
       "text": [
        "\n",
        "urllib(mine) sleeping to throttle requests"
       ]
      },
      {
       "output_type": "stream",
       "stream": "stdout",
       "text": [
        "\n",
        "urllib(mine) sleeping to throttle requests"
       ]
      },
      {
       "output_type": "stream",
       "stream": "stdout",
       "text": [
        "\n",
        "urllib(mine) sleeping to throttle requests"
       ]
      },
      {
       "output_type": "stream",
       "stream": "stdout",
       "text": [
        "\n",
        "urllib(mine) sleeping to throttle requests"
       ]
      },
      {
       "output_type": "stream",
       "stream": "stdout",
       "text": [
        "\n",
        "urllib(mine) sleeping to throttle requests"
       ]
      },
      {
       "output_type": "stream",
       "stream": "stdout",
       "text": [
        "\n",
        "urllib(mine) sleeping to throttle requests"
       ]
      },
      {
       "output_type": "stream",
       "stream": "stdout",
       "text": [
        "\n",
        "urllib(mine) sleeping to throttle requests"
       ]
      },
      {
       "output_type": "stream",
       "stream": "stdout",
       "text": [
        "\n",
        "urllib(mine) sleeping to throttle requests"
       ]
      },
      {
       "output_type": "stream",
       "stream": "stdout",
       "text": [
        "\n",
        "urllib(mine) sleeping to throttle requests"
       ]
      },
      {
       "output_type": "stream",
       "stream": "stdout",
       "text": [
        "\n",
        "urllib(mine) sleeping to throttle requests"
       ]
      },
      {
       "output_type": "stream",
       "stream": "stdout",
       "text": [
        "\n",
        "urllib(mine) sleeping to throttle requests"
       ]
      },
      {
       "output_type": "stream",
       "stream": "stdout",
       "text": [
        "\n",
        "urllib(mine) sleeping to throttle requests"
       ]
      },
      {
       "output_type": "stream",
       "stream": "stdout",
       "text": [
        "\n",
        "urllib(mine) sleeping to throttle requests"
       ]
      },
      {
       "output_type": "stream",
       "stream": "stdout",
       "text": [
        "\n",
        "--------------------------------------"
       ]
      },
      {
       "output_type": "stream",
       "stream": "stdout",
       "text": [
        "\n",
        "Starting friend: tjIrXpYpz7wfUQDuWPHpCg\n",
        "--------------------------------------\n",
        "urllib(mine) sleeping to throttle requests\n",
        "--------------------------------------"
       ]
      },
      {
       "output_type": "stream",
       "stream": "stdout",
       "text": [
        "\n",
        "Starting friend: dM5PIFyk2Me-GWpWm5cSSQ\n",
        "--------------------------------------\n",
        "urllib(mine) sleeping to throttle requests\n",
        "urllib(mine) sleeping to throttle requests"
       ]
      },
      {
       "output_type": "stream",
       "stream": "stdout",
       "text": [
        "\n",
        "urllib(mine) sleeping to throttle requests"
       ]
      },
      {
       "output_type": "stream",
       "stream": "stdout",
       "text": [
        "\n",
        "urllib(mine) sleeping to throttle requests"
       ]
      },
      {
       "output_type": "stream",
       "stream": "stdout",
       "text": [
        "\n",
        "urllib(mine) sleeping to throttle requests"
       ]
      },
      {
       "output_type": "stream",
       "stream": "stdout",
       "text": [
        "\n",
        "urllib(mine) sleeping to throttle requests"
       ]
      },
      {
       "output_type": "stream",
       "stream": "stdout",
       "text": [
        "\n",
        "urllib(mine) sleeping to throttle requests"
       ]
      },
      {
       "output_type": "stream",
       "stream": "stdout",
       "text": [
        "\n",
        "urllib(mine) sleeping to throttle requests"
       ]
      },
      {
       "output_type": "stream",
       "stream": "stdout",
       "text": [
        "\n",
        "urllib(mine) sleeping to throttle requests"
       ]
      },
      {
       "output_type": "stream",
       "stream": "stdout",
       "text": [
        "\n",
        "urllib(mine) sleeping to throttle requests"
       ]
      },
      {
       "output_type": "stream",
       "stream": "stdout",
       "text": [
        "\n",
        "--------------------------------------"
       ]
      },
      {
       "output_type": "stream",
       "stream": "stdout",
       "text": [
        "\n",
        "Starting friend: Wz2nKqB7xHFpr7L9z_ng0g\n",
        "--------------------------------------\n",
        "urllib(mine) sleeping to throttle requests\n",
        "urllib(mine) sleeping to throttle requests"
       ]
      },
      {
       "output_type": "stream",
       "stream": "stdout",
       "text": [
        "\n",
        "urllib(mine) sleeping to throttle requests"
       ]
      },
      {
       "output_type": "stream",
       "stream": "stdout",
       "text": [
        "\n",
        "urllib(mine) sleeping to throttle requests"
       ]
      },
      {
       "output_type": "stream",
       "stream": "stdout",
       "text": [
        "\n",
        "urllib(mine) sleeping to throttle requests"
       ]
      },
      {
       "output_type": "stream",
       "stream": "stdout",
       "text": [
        "\n",
        "urllib(mine) sleeping to throttle requests"
       ]
      },
      {
       "output_type": "stream",
       "stream": "stdout",
       "text": [
        "\n",
        "urllib(mine) sleeping to throttle requests"
       ]
      },
      {
       "output_type": "stream",
       "stream": "stdout",
       "text": [
        "\n",
        "urllib(mine) sleeping to throttle requests"
       ]
      },
      {
       "output_type": "stream",
       "stream": "stdout",
       "text": [
        "\n",
        "urllib(mine) sleeping to throttle requests"
       ]
      },
      {
       "output_type": "stream",
       "stream": "stdout",
       "text": [
        "\n",
        "urllib(mine) sleeping to throttle requests"
       ]
      },
      {
       "output_type": "stream",
       "stream": "stdout",
       "text": [
        "\n",
        "urllib(mine) sleeping to throttle requests"
       ]
      },
      {
       "output_type": "stream",
       "stream": "stdout",
       "text": [
        "\n",
        "urllib(mine) sleeping to throttle requests"
       ]
      },
      {
       "output_type": "stream",
       "stream": "stdout",
       "text": [
        "\n",
        "urllib(mine) sleeping to throttle requests"
       ]
      },
      {
       "output_type": "stream",
       "stream": "stdout",
       "text": [
        "\n",
        "urllib(mine) sleeping to throttle requests"
       ]
      },
      {
       "output_type": "stream",
       "stream": "stdout",
       "text": [
        "\n",
        "urllib(mine) sleeping to throttle requests"
       ]
      },
      {
       "output_type": "stream",
       "stream": "stdout",
       "text": [
        "\n",
        "urllib(mine) sleeping to throttle requests"
       ]
      },
      {
       "output_type": "stream",
       "stream": "stdout",
       "text": [
        "\n",
        "urllib(mine) sleeping to throttle requests"
       ]
      },
      {
       "output_type": "stream",
       "stream": "stdout",
       "text": [
        "\n",
        "--------------------------------------"
       ]
      },
      {
       "output_type": "stream",
       "stream": "stdout",
       "text": [
        "\n",
        "Starting friend: BEx7R4wisM4vMVIOstM6kg\n",
        "--------------------------------------\n",
        "urllib(mine) sleeping to throttle requests\n",
        "urllib(mine) sleeping to throttle requests"
       ]
      },
      {
       "output_type": "stream",
       "stream": "stdout",
       "text": [
        "\n",
        "urllib(mine) sleeping to throttle requests"
       ]
      },
      {
       "output_type": "stream",
       "stream": "stdout",
       "text": [
        "\n",
        "urllib(mine) sleeping to throttle requests"
       ]
      },
      {
       "output_type": "stream",
       "stream": "stdout",
       "text": [
        "\n",
        "--------------------------------------"
       ]
      },
      {
       "output_type": "stream",
       "stream": "stdout",
       "text": [
        "\n",
        "Starting friend: d1O4jcpiqEjdh1BqQGccsQ\n",
        "--------------------------------------\n",
        "urllib(mine) sleeping to throttle requests\n",
        "urllib(mine) sleeping to throttle requests"
       ]
      },
      {
       "output_type": "stream",
       "stream": "stdout",
       "text": [
        "\n",
        "--------------------------------------"
       ]
      },
      {
       "output_type": "stream",
       "stream": "stdout",
       "text": [
        "\n",
        "Starting friend: yubAVY-SZckvAuuT_ac61A\n",
        "--------------------------------------\n",
        "urllib(mine) sleeping to throttle requests\n",
        "urllib(mine) sleeping to throttle requests"
       ]
      },
      {
       "output_type": "stream",
       "stream": "stdout",
       "text": [
        "\n",
        "urllib(mine) sleeping to throttle requests"
       ]
      },
      {
       "output_type": "stream",
       "stream": "stdout",
       "text": [
        "\n",
        "urllib(mine) sleeping to throttle requests"
       ]
      },
      {
       "output_type": "stream",
       "stream": "stdout",
       "text": [
        "\n",
        "urllib(mine) sleeping to throttle requests"
       ]
      },
      {
       "output_type": "stream",
       "stream": "stdout",
       "text": [
        "\n",
        "urllib(mine) sleeping to throttle requests"
       ]
      },
      {
       "output_type": "stream",
       "stream": "stdout",
       "text": [
        "\n",
        "urllib(mine) sleeping to throttle requests"
       ]
      },
      {
       "output_type": "stream",
       "stream": "stdout",
       "text": [
        "\n",
        "urllib(mine) sleeping to throttle requests"
       ]
      },
      {
       "output_type": "stream",
       "stream": "stdout",
       "text": [
        "\n",
        "urllib(mine) sleeping to throttle requests"
       ]
      },
      {
       "output_type": "stream",
       "stream": "stdout",
       "text": [
        "\n",
        "urllib(mine) sleeping to throttle requests"
       ]
      },
      {
       "output_type": "stream",
       "stream": "stdout",
       "text": [
        "\n",
        "urllib(mine) sleeping to throttle requests"
       ]
      },
      {
       "output_type": "stream",
       "stream": "stdout",
       "text": [
        "\n",
        "--------------------------------------"
       ]
      },
      {
       "output_type": "stream",
       "stream": "stdout",
       "text": [
        "\n",
        "Starting friend: ddylKRx5quKbZp9sLUR-5Q\n",
        "--------------------------------------\n",
        "urllib(mine) sleeping to throttle requests\n",
        "urllib(mine) sleeping to throttle requests"
       ]
      },
      {
       "output_type": "stream",
       "stream": "stdout",
       "text": [
        "\n",
        "--------------------------------------"
       ]
      },
      {
       "output_type": "stream",
       "stream": "stdout",
       "text": [
        "\n",
        "Starting friend: _TCk2jVi-Ovaw-wYICFQog\n",
        "--------------------------------------\n",
        "urllib(mine) sleeping to throttle requests\n",
        "urllib(mine) sleeping to throttle requests"
       ]
      },
      {
       "output_type": "stream",
       "stream": "stdout",
       "text": [
        "\n",
        "urllib(mine) sleeping to throttle requests"
       ]
      },
      {
       "output_type": "stream",
       "stream": "stdout",
       "text": [
        "\n",
        "urllib(mine) sleeping to throttle requests"
       ]
      },
      {
       "output_type": "stream",
       "stream": "stdout",
       "text": [
        "\n",
        "urllib(mine) sleeping to throttle requests"
       ]
      },
      {
       "output_type": "stream",
       "stream": "stdout",
       "text": [
        "\n",
        "urllib(mine) sleeping to throttle requests"
       ]
      },
      {
       "output_type": "stream",
       "stream": "stdout",
       "text": [
        "\n",
        "urllib(mine) sleeping to throttle requests"
       ]
      },
      {
       "output_type": "stream",
       "stream": "stdout",
       "text": [
        "\n",
        "urllib(mine) sleeping to throttle requests"
       ]
      },
      {
       "output_type": "stream",
       "stream": "stdout",
       "text": [
        "\n",
        "urllib(mine) sleeping to throttle requests"
       ]
      },
      {
       "output_type": "stream",
       "stream": "stdout",
       "text": [
        "\n",
        "urllib(mine) sleeping to throttle requests"
       ]
      },
      {
       "output_type": "stream",
       "stream": "stdout",
       "text": [
        "\n",
        "urllib(mine) sleeping to throttle requests"
       ]
      },
      {
       "output_type": "stream",
       "stream": "stdout",
       "text": [
        "\n",
        "urllib(mine) sleeping to throttle requests"
       ]
      },
      {
       "output_type": "stream",
       "stream": "stdout",
       "text": [
        "\n",
        "urllib(mine) sleeping to throttle requests"
       ]
      },
      {
       "output_type": "stream",
       "stream": "stdout",
       "text": [
        "\n",
        "urllib(mine) sleeping to throttle requests"
       ]
      },
      {
       "output_type": "stream",
       "stream": "stdout",
       "text": [
        "\n",
        "urllib(mine) sleeping to throttle requests"
       ]
      },
      {
       "output_type": "stream",
       "stream": "stdout",
       "text": [
        "\n",
        "urllib(mine) sleeping to throttle requests"
       ]
      },
      {
       "output_type": "stream",
       "stream": "stdout",
       "text": [
        "\n",
        "urllib(mine) sleeping to throttle requests"
       ]
      },
      {
       "output_type": "stream",
       "stream": "stdout",
       "text": [
        "\n",
        "urllib(mine) sleeping to throttle requests"
       ]
      },
      {
       "output_type": "stream",
       "stream": "stdout",
       "text": [
        "\n",
        "urllib(mine) sleeping to throttle requests"
       ]
      },
      {
       "output_type": "stream",
       "stream": "stdout",
       "text": [
        "\n",
        "urllib(mine) sleeping to throttle requests"
       ]
      },
      {
       "output_type": "stream",
       "stream": "stdout",
       "text": [
        "\n",
        "urllib(mine) sleeping to throttle requests"
       ]
      },
      {
       "output_type": "stream",
       "stream": "stdout",
       "text": [
        "\n",
        "urllib(mine) sleeping to throttle requests"
       ]
      },
      {
       "output_type": "stream",
       "stream": "stdout",
       "text": [
        "\n",
        "--------------------------------------"
       ]
      },
      {
       "output_type": "stream",
       "stream": "stdout",
       "text": [
        "\n",
        "Starting friend: sr8p49veMGDP8NIB11REQw\n",
        "--------------------------------------\n",
        "urllib(mine) sleeping to throttle requests\n",
        "--------------------------------------"
       ]
      },
      {
       "output_type": "stream",
       "stream": "stdout",
       "text": [
        "\n",
        "Starting friend: hGGEeakVaxbecIDo7u4Y1A\n",
        "--------------------------------------\n",
        "urllib(mine) sleeping to throttle requests\n",
        "urllib(mine) sleeping to throttle requests"
       ]
      },
      {
       "output_type": "stream",
       "stream": "stdout",
       "text": [
        "\n",
        "urllib(mine) sleeping to throttle requests"
       ]
      },
      {
       "output_type": "stream",
       "stream": "stdout",
       "text": [
        "\n",
        "urllib(mine) sleeping to throttle requests"
       ]
      },
      {
       "output_type": "stream",
       "stream": "stdout",
       "text": [
        "\n",
        "urllib(mine) sleeping to throttle requests"
       ]
      },
      {
       "output_type": "stream",
       "stream": "stdout",
       "text": [
        "\n",
        "--------------------------------------"
       ]
      },
      {
       "output_type": "stream",
       "stream": "stdout",
       "text": [
        "\n",
        "Starting friend: QrRk2IHxRMcc4m9gdbFXIw\n",
        "--------------------------------------\n",
        "urllib(mine) sleeping to throttle requests\n",
        "--------------------------------------"
       ]
      },
      {
       "output_type": "stream",
       "stream": "stdout",
       "text": [
        "\n",
        "Starting friend: 45KPQfc6EnGsy-9-2_H3GQ\n",
        "--------------------------------------\n",
        "urllib(mine) sleeping to throttle requests\n",
        "--------------------------------------"
       ]
      },
      {
       "output_type": "stream",
       "stream": "stdout",
       "text": [
        "\n",
        "Starting friend: KOY0VSV4lthGCeIYrucxPA\n",
        "--------------------------------------\n",
        "urllib(mine) sleeping to throttle requests\n",
        "--------------------------------------"
       ]
      },
      {
       "output_type": "stream",
       "stream": "stdout",
       "text": [
        "\n",
        "Starting friend: qwhRknKif_p9i-mWsT8vOg\n",
        "--------------------------------------\n",
        "urllib(mine) sleeping to throttle requests\n",
        "--------------------------------------"
       ]
      },
      {
       "output_type": "stream",
       "stream": "stdout",
       "text": [
        "\n",
        "Starting friend: CKIUqVisJ2Nu_08kU9lJXg\n",
        "--------------------------------------\n",
        "urllib(mine) sleeping to throttle requests\n",
        "--------------------------------------"
       ]
      },
      {
       "output_type": "stream",
       "stream": "stdout",
       "text": [
        "\n",
        "Starting friend: 1Hyj7C2X85rz75KhsTTzEw\n",
        "--------------------------------------\n",
        "urllib(mine) sleeping to throttle requests\n",
        "urllib(mine) sleeping to throttle requests"
       ]
      },
      {
       "output_type": "stream",
       "stream": "stdout",
       "text": [
        "\n",
        "urllib(mine) sleeping to throttle requests"
       ]
      },
      {
       "output_type": "stream",
       "stream": "stdout",
       "text": [
        "\n",
        "--------------------------------------"
       ]
      },
      {
       "output_type": "stream",
       "stream": "stdout",
       "text": [
        "\n",
        "Starting friend: 9eD9tHPOSOJFVeetfonRxw\n",
        "--------------------------------------\n",
        "urllib(mine) sleeping to throttle requests\n",
        "urllib(mine) sleeping to throttle requests"
       ]
      },
      {
       "output_type": "stream",
       "stream": "stdout",
       "text": [
        "\n",
        "urllib(mine) sleeping to throttle requests"
       ]
      },
      {
       "output_type": "stream",
       "stream": "stdout",
       "text": [
        "\n",
        "urllib(mine) sleeping to throttle requests"
       ]
      },
      {
       "output_type": "stream",
       "stream": "stdout",
       "text": [
        "\n",
        "urllib(mine) sleeping to throttle requests"
       ]
      },
      {
       "output_type": "stream",
       "stream": "stdout",
       "text": [
        "\n",
        "urllib(mine) sleeping to throttle requests"
       ]
      },
      {
       "output_type": "stream",
       "stream": "stdout",
       "text": [
        "\n",
        "urllib(mine) sleeping to throttle requests"
       ]
      },
      {
       "output_type": "stream",
       "stream": "stdout",
       "text": [
        "\n",
        "urllib(mine) sleeping to throttle requests"
       ]
      },
      {
       "output_type": "stream",
       "stream": "stdout",
       "text": [
        "\n",
        "urllib(mine) sleeping to throttle requests"
       ]
      },
      {
       "output_type": "stream",
       "stream": "stdout",
       "text": [
        "\n",
        "urllib(mine) sleeping to throttle requests"
       ]
      },
      {
       "output_type": "stream",
       "stream": "stdout",
       "text": [
        "\n",
        "urllib(mine) sleeping to throttle requests"
       ]
      },
      {
       "output_type": "stream",
       "stream": "stdout",
       "text": [
        "\n",
        "urllib(mine) sleeping to throttle requests"
       ]
      },
      {
       "output_type": "stream",
       "stream": "stdout",
       "text": [
        "\n",
        "urllib(mine) sleeping to throttle requests"
       ]
      },
      {
       "output_type": "stream",
       "stream": "stdout",
       "text": [
        "\n",
        "urllib(mine) sleeping to throttle requests"
       ]
      },
      {
       "output_type": "stream",
       "stream": "stdout",
       "text": [
        "\n",
        "urllib(mine) sleeping to throttle requests"
       ]
      },
      {
       "output_type": "stream",
       "stream": "stdout",
       "text": [
        "\n",
        "urllib(mine) sleeping to throttle requests"
       ]
      },
      {
       "output_type": "stream",
       "stream": "stdout",
       "text": [
        "\n",
        "urllib(mine) sleeping to throttle requests"
       ]
      },
      {
       "output_type": "stream",
       "stream": "stdout",
       "text": [
        "\n",
        "urllib(mine) sleeping to throttle requests"
       ]
      },
      {
       "output_type": "stream",
       "stream": "stdout",
       "text": [
        "\n",
        "urllib(mine) sleeping to throttle requests"
       ]
      },
      {
       "output_type": "stream",
       "stream": "stdout",
       "text": [
        "\n",
        "urllib(mine) sleeping to throttle requests"
       ]
      },
      {
       "output_type": "stream",
       "stream": "stdout",
       "text": [
        "\n",
        "urllib(mine) sleeping to throttle requests"
       ]
      },
      {
       "output_type": "stream",
       "stream": "stdout",
       "text": [
        "\n",
        "urllib(mine) sleeping to throttle requests"
       ]
      },
      {
       "output_type": "stream",
       "stream": "stdout",
       "text": [
        "\n",
        "urllib(mine) sleeping to throttle requests"
       ]
      },
      {
       "output_type": "stream",
       "stream": "stdout",
       "text": [
        "\n",
        "urllib(mine) sleeping to throttle requests"
       ]
      },
      {
       "output_type": "stream",
       "stream": "stdout",
       "text": [
        "\n",
        "urllib(mine) sleeping to throttle requests"
       ]
      },
      {
       "output_type": "stream",
       "stream": "stdout",
       "text": [
        "\n",
        "urllib(mine) sleeping to throttle requests"
       ]
      },
      {
       "output_type": "stream",
       "stream": "stdout",
       "text": [
        "\n",
        "urllib(mine) sleeping to throttle requests"
       ]
      },
      {
       "output_type": "stream",
       "stream": "stdout",
       "text": [
        "\n",
        "urllib(mine) sleeping to throttle requests"
       ]
      },
      {
       "output_type": "stream",
       "stream": "stdout",
       "text": [
        "\n",
        "urllib(mine) sleeping to throttle requests"
       ]
      },
      {
       "output_type": "stream",
       "stream": "stdout",
       "text": [
        "\n",
        "urllib(mine) sleeping to throttle requests"
       ]
      },
      {
       "output_type": "stream",
       "stream": "stdout",
       "text": [
        "\n",
        "urllib(mine) sleeping to throttle requests"
       ]
      },
      {
       "output_type": "stream",
       "stream": "stdout",
       "text": [
        "\n",
        "urllib(mine) sleeping to throttle requests"
       ]
      },
      {
       "output_type": "stream",
       "stream": "stdout",
       "text": [
        "\n",
        "--------------------------------------"
       ]
      },
      {
       "output_type": "stream",
       "stream": "stdout",
       "text": [
        "\n",
        "Starting friend: kOCVkIY5hhCb0rLQca7zAQ\n",
        "--------------------------------------\n",
        "urllib(mine) sleeping to throttle requests\n",
        "urllib(mine) sleeping to throttle requests"
       ]
      },
      {
       "output_type": "stream",
       "stream": "stdout",
       "text": [
        "\n",
        "urllib(mine) sleeping to throttle requests"
       ]
      },
      {
       "output_type": "stream",
       "stream": "stdout",
       "text": [
        "\n",
        "urllib(mine) sleeping to throttle requests"
       ]
      },
      {
       "output_type": "stream",
       "stream": "stdout",
       "text": [
        "\n",
        "urllib(mine) sleeping to throttle requests"
       ]
      },
      {
       "output_type": "stream",
       "stream": "stdout",
       "text": [
        "\n",
        "urllib(mine) sleeping to throttle requests"
       ]
      },
      {
       "output_type": "stream",
       "stream": "stdout",
       "text": [
        "\n",
        "urllib(mine) sleeping to throttle requests"
       ]
      },
      {
       "output_type": "stream",
       "stream": "stdout",
       "text": [
        "\n",
        "urllib(mine) sleeping to throttle requests"
       ]
      },
      {
       "output_type": "stream",
       "stream": "stdout",
       "text": [
        "\n",
        "urllib(mine) sleeping to throttle requests"
       ]
      },
      {
       "output_type": "stream",
       "stream": "stdout",
       "text": [
        "\n",
        "urllib(mine) sleeping to throttle requests"
       ]
      },
      {
       "output_type": "stream",
       "stream": "stdout",
       "text": [
        "\n",
        "urllib(mine) sleeping to throttle requests"
       ]
      },
      {
       "output_type": "stream",
       "stream": "stdout",
       "text": [
        "\n",
        "urllib(mine) sleeping to throttle requests"
       ]
      },
      {
       "output_type": "stream",
       "stream": "stdout",
       "text": [
        "\n",
        "urllib(mine) sleeping to throttle requests"
       ]
      },
      {
       "output_type": "stream",
       "stream": "stdout",
       "text": [
        "\n",
        "urllib(mine) sleeping to throttle requests"
       ]
      },
      {
       "output_type": "stream",
       "stream": "stdout",
       "text": [
        "\n",
        "urllib(mine) sleeping to throttle requests"
       ]
      },
      {
       "output_type": "stream",
       "stream": "stdout",
       "text": [
        "\n",
        "urllib(mine) sleeping to throttle requests"
       ]
      },
      {
       "output_type": "stream",
       "stream": "stdout",
       "text": [
        "\n",
        "urllib(mine) sleeping to throttle requests"
       ]
      },
      {
       "output_type": "stream",
       "stream": "stdout",
       "text": [
        "\n",
        "urllib(mine) sleeping to throttle requests"
       ]
      },
      {
       "output_type": "stream",
       "stream": "stdout",
       "text": [
        "\n",
        "urllib(mine) sleeping to throttle requests"
       ]
      },
      {
       "output_type": "stream",
       "stream": "stdout",
       "text": [
        "\n",
        "urllib(mine) sleeping to throttle requests"
       ]
      },
      {
       "output_type": "stream",
       "stream": "stdout",
       "text": [
        "\n",
        "urllib(mine) sleeping to throttle requests"
       ]
      },
      {
       "output_type": "stream",
       "stream": "stdout",
       "text": [
        "\n",
        "urllib(mine) sleeping to throttle requests"
       ]
      },
      {
       "output_type": "stream",
       "stream": "stdout",
       "text": [
        "\n",
        "urllib(mine) sleeping to throttle requests"
       ]
      },
      {
       "output_type": "stream",
       "stream": "stdout",
       "text": [
        "\n",
        "urllib(mine) sleeping to throttle requests"
       ]
      },
      {
       "output_type": "stream",
       "stream": "stdout",
       "text": [
        "\n",
        "--------------------------------------"
       ]
      },
      {
       "output_type": "stream",
       "stream": "stdout",
       "text": [
        "\n",
        "Starting friend: zze77nEO2AP50S1q_qRYBA\n",
        "--------------------------------------\n",
        "urllib(mine) sleeping to throttle requests\n",
        "urllib(mine) sleeping to throttle requests"
       ]
      },
      {
       "output_type": "stream",
       "stream": "stdout",
       "text": [
        "\n",
        "urllib(mine) sleeping to throttle requests"
       ]
      },
      {
       "output_type": "stream",
       "stream": "stdout",
       "text": [
        "\n",
        "urllib(mine) sleeping to throttle requests"
       ]
      },
      {
       "output_type": "stream",
       "stream": "stdout",
       "text": [
        "\n",
        "urllib(mine) sleeping to throttle requests"
       ]
      },
      {
       "output_type": "stream",
       "stream": "stdout",
       "text": [
        "\n",
        "urllib(mine) sleeping to throttle requests"
       ]
      },
      {
       "output_type": "stream",
       "stream": "stdout",
       "text": [
        "\n",
        "urllib(mine) sleeping to throttle requests"
       ]
      },
      {
       "output_type": "stream",
       "stream": "stdout",
       "text": [
        "\n",
        "urllib(mine) sleeping to throttle requests"
       ]
      },
      {
       "output_type": "stream",
       "stream": "stdout",
       "text": [
        "\n",
        "urllib(mine) sleeping to throttle requests"
       ]
      },
      {
       "output_type": "stream",
       "stream": "stdout",
       "text": [
        "\n",
        "urllib(mine) sleeping to throttle requests"
       ]
      },
      {
       "output_type": "stream",
       "stream": "stdout",
       "text": [
        "\n",
        "urllib(mine) sleeping to throttle requests"
       ]
      },
      {
       "output_type": "stream",
       "stream": "stdout",
       "text": [
        "\n",
        "--------------------------------------"
       ]
      },
      {
       "output_type": "stream",
       "stream": "stdout",
       "text": [
        "\n",
        "Starting friend: pY2hKxkXzepgK7uUHSol_w\n",
        "--------------------------------------\n",
        "urllib(mine) sleeping to throttle requests\n",
        "urllib(mine) sleeping to throttle requests"
       ]
      },
      {
       "output_type": "stream",
       "stream": "stdout",
       "text": [
        "\n",
        "urllib(mine) sleeping to throttle requests"
       ]
      },
      {
       "output_type": "stream",
       "stream": "stdout",
       "text": [
        "\n",
        "urllib(mine) sleeping to throttle requests"
       ]
      },
      {
       "output_type": "stream",
       "stream": "stdout",
       "text": [
        "\n",
        "urllib(mine) sleeping to throttle requests"
       ]
      },
      {
       "output_type": "stream",
       "stream": "stdout",
       "text": [
        "\n",
        "urllib(mine) sleeping to throttle requests"
       ]
      },
      {
       "output_type": "stream",
       "stream": "stdout",
       "text": [
        "\n",
        "urllib(mine) sleeping to throttle requests"
       ]
      },
      {
       "output_type": "stream",
       "stream": "stdout",
       "text": [
        "\n",
        "urllib(mine) sleeping to throttle requests"
       ]
      },
      {
       "output_type": "stream",
       "stream": "stdout",
       "text": [
        "\n",
        "urllib(mine) sleeping to throttle requests"
       ]
      },
      {
       "output_type": "stream",
       "stream": "stdout",
       "text": [
        "\n",
        "urllib(mine) sleeping to throttle requests"
       ]
      },
      {
       "output_type": "stream",
       "stream": "stdout",
       "text": [
        "\n",
        "urllib(mine) sleeping to throttle requests"
       ]
      },
      {
       "output_type": "stream",
       "stream": "stdout",
       "text": [
        "\n",
        "urllib(mine) sleeping to throttle requests"
       ]
      },
      {
       "output_type": "stream",
       "stream": "stdout",
       "text": [
        "\n",
        "--------------------------------------"
       ]
      },
      {
       "output_type": "stream",
       "stream": "stdout",
       "text": [
        "\n",
        "Starting friend: lqY80XQ0qUOwNzvTYF1tSA\n",
        "--------------------------------------\n",
        "urllib(mine) sleeping to throttle requests\n",
        "urllib(mine) sleeping to throttle requests"
       ]
      },
      {
       "output_type": "stream",
       "stream": "stdout",
       "text": [
        "\n",
        "urllib(mine) sleeping to throttle requests"
       ]
      },
      {
       "output_type": "stream",
       "stream": "stdout",
       "text": [
        "\n",
        "urllib(mine) sleeping to throttle requests"
       ]
      },
      {
       "output_type": "stream",
       "stream": "stdout",
       "text": [
        "\n",
        "urllib(mine) sleeping to throttle requests"
       ]
      },
      {
       "output_type": "stream",
       "stream": "stdout",
       "text": [
        "\n",
        "urllib(mine) sleeping to throttle requests"
       ]
      },
      {
       "output_type": "stream",
       "stream": "stdout",
       "text": [
        "\n",
        "urllib(mine) sleeping to throttle requests"
       ]
      },
      {
       "output_type": "stream",
       "stream": "stdout",
       "text": [
        "\n",
        "--------------------------------------"
       ]
      },
      {
       "output_type": "stream",
       "stream": "stdout",
       "text": [
        "\n",
        "Starting friend: RwdFLa2zCuBUivdxv-KxzQ\n",
        "--------------------------------------\n",
        "urllib(mine) sleeping to throttle requests\n",
        "urllib(mine) sleeping to throttle requests"
       ]
      },
      {
       "output_type": "stream",
       "stream": "stdout",
       "text": [
        "\n",
        "urllib(mine) sleeping to throttle requests"
       ]
      },
      {
       "output_type": "stream",
       "stream": "stdout",
       "text": [
        "\n",
        "--------------------------------------"
       ]
      },
      {
       "output_type": "stream",
       "stream": "stdout",
       "text": [
        "\n",
        "Starting friend: xin5S7fQz6WqYBlM2uYXtg\n",
        "--------------------------------------\n",
        "urllib(mine) sleeping to throttle requests\n",
        "urllib(mine) sleeping to throttle requests"
       ]
      },
      {
       "output_type": "stream",
       "stream": "stdout",
       "text": [
        "\n",
        "urllib(mine) sleeping to throttle requests"
       ]
      },
      {
       "output_type": "stream",
       "stream": "stdout",
       "text": [
        "\n",
        "--------------------------------------"
       ]
      },
      {
       "output_type": "stream",
       "stream": "stdout",
       "text": [
        "\n",
        "Starting friend: Qq99_6637TjhfXv9_bFu-Q\n",
        "--------------------------------------\n",
        "urllib(mine) sleeping to throttle requests\n",
        "--------------------------------------"
       ]
      },
      {
       "output_type": "stream",
       "stream": "stdout",
       "text": [
        "\n",
        "Starting friend: yanWNAm0fBH9qhDSP5u7Sw\n",
        "--------------------------------------\n",
        "urllib(mine) sleeping to throttle requests\n",
        "urllib(mine) sleeping to throttle requests"
       ]
      },
      {
       "output_type": "stream",
       "stream": "stdout",
       "text": [
        "\n",
        "--------------------------------------"
       ]
      },
      {
       "output_type": "stream",
       "stream": "stdout",
       "text": [
        "\n",
        "Starting friend: uDtv033-4ubeCW3mxVQ7bw\n",
        "--------------------------------------\n",
        "urllib(mine) sleeping to throttle requests\n",
        "urllib(mine) sleeping to throttle requests"
       ]
      },
      {
       "output_type": "stream",
       "stream": "stdout",
       "text": [
        "\n",
        "urllib(mine) sleeping to throttle requests"
       ]
      },
      {
       "output_type": "stream",
       "stream": "stdout",
       "text": [
        "\n",
        "--------------------------------------"
       ]
      },
      {
       "output_type": "stream",
       "stream": "stdout",
       "text": [
        "\n",
        "Starting friend: gqRZrsiJScAKdg5BRsJw-g\n",
        "--------------------------------------\n",
        "urllib(mine) sleeping to throttle requests\n",
        "--------------------------------------"
       ]
      },
      {
       "output_type": "stream",
       "stream": "stdout",
       "text": [
        "\n",
        "Starting friend: qCNZXu0nA1m9_qQDSY9bfA\n",
        "--------------------------------------\n",
        "urllib(mine) sleeping to throttle requests\n",
        "urllib(mine) sleeping to throttle requests"
       ]
      },
      {
       "output_type": "stream",
       "stream": "stdout",
       "text": [
        "\n",
        "urllib(mine) sleeping to throttle requests"
       ]
      },
      {
       "output_type": "stream",
       "stream": "stdout",
       "text": [
        "\n",
        "urllib(mine) sleeping to throttle requests"
       ]
      },
      {
       "output_type": "stream",
       "stream": "stdout",
       "text": [
        "\n",
        "urllib(mine) sleeping to throttle requests"
       ]
      },
      {
       "output_type": "stream",
       "stream": "stdout",
       "text": [
        "\n",
        "urllib(mine) sleeping to throttle requests"
       ]
      },
      {
       "output_type": "stream",
       "stream": "stdout",
       "text": [
        "\n",
        "urllib(mine) sleeping to throttle requests"
       ]
      },
      {
       "output_type": "stream",
       "stream": "stdout",
       "text": [
        "\n",
        "urllib(mine) sleeping to throttle requests"
       ]
      },
      {
       "output_type": "stream",
       "stream": "stdout",
       "text": [
        "\n",
        "urllib(mine) sleeping to throttle requests"
       ]
      },
      {
       "output_type": "stream",
       "stream": "stdout",
       "text": [
        "\n",
        "urllib(mine) sleeping to throttle requests"
       ]
      },
      {
       "output_type": "stream",
       "stream": "stdout",
       "text": [
        "\n",
        "urllib(mine) sleeping to throttle requests"
       ]
      },
      {
       "output_type": "stream",
       "stream": "stdout",
       "text": [
        "\n",
        "urllib(mine) sleeping to throttle requests"
       ]
      },
      {
       "output_type": "stream",
       "stream": "stdout",
       "text": [
        "\n",
        "urllib(mine) sleeping to throttle requests"
       ]
      },
      {
       "output_type": "stream",
       "stream": "stdout",
       "text": [
        "\n",
        "urllib(mine) sleeping to throttle requests"
       ]
      },
      {
       "output_type": "stream",
       "stream": "stdout",
       "text": [
        "\n",
        "urllib(mine) sleeping to throttle requests"
       ]
      },
      {
       "output_type": "stream",
       "stream": "stdout",
       "text": [
        "\n",
        "urllib(mine) sleeping to throttle requests"
       ]
      },
      {
       "output_type": "stream",
       "stream": "stdout",
       "text": [
        "\n",
        "urllib(mine) sleeping to throttle requests"
       ]
      },
      {
       "output_type": "stream",
       "stream": "stdout",
       "text": [
        "\n",
        "urllib(mine) sleeping to throttle requests"
       ]
      },
      {
       "output_type": "stream",
       "stream": "stdout",
       "text": [
        "\n",
        "urllib(mine) sleeping to throttle requests"
       ]
      },
      {
       "output_type": "stream",
       "stream": "stdout",
       "text": [
        "\n",
        "urllib(mine) sleeping to throttle requests"
       ]
      },
      {
       "output_type": "stream",
       "stream": "stdout",
       "text": [
        "\n",
        "urllib(mine) sleeping to throttle requests"
       ]
      },
      {
       "output_type": "stream",
       "stream": "stdout",
       "text": [
        "\n",
        "urllib(mine) sleeping to throttle requests"
       ]
      },
      {
       "output_type": "stream",
       "stream": "stdout",
       "text": [
        "\n",
        "urllib(mine) sleeping to throttle requests"
       ]
      },
      {
       "output_type": "stream",
       "stream": "stdout",
       "text": [
        "\n",
        "urllib(mine) sleeping to throttle requests"
       ]
      },
      {
       "output_type": "stream",
       "stream": "stdout",
       "text": [
        "\n",
        "urllib(mine) sleeping to throttle requests"
       ]
      },
      {
       "output_type": "stream",
       "stream": "stdout",
       "text": [
        "\n",
        "urllib(mine) sleeping to throttle requests"
       ]
      },
      {
       "output_type": "stream",
       "stream": "stdout",
       "text": [
        "\n",
        "urllib(mine) sleeping to throttle requests"
       ]
      },
      {
       "output_type": "stream",
       "stream": "stdout",
       "text": [
        "\n",
        "urllib(mine) sleeping to throttle requests"
       ]
      },
      {
       "output_type": "stream",
       "stream": "stdout",
       "text": [
        "\n",
        "urllib(mine) sleeping to throttle requests"
       ]
      },
      {
       "output_type": "stream",
       "stream": "stdout",
       "text": [
        "\n",
        "urllib(mine) sleeping to throttle requests"
       ]
      },
      {
       "output_type": "stream",
       "stream": "stdout",
       "text": [
        "\n",
        "urllib(mine) sleeping to throttle requests"
       ]
      },
      {
       "output_type": "stream",
       "stream": "stdout",
       "text": [
        "\n",
        "urllib(mine) sleeping to throttle requests"
       ]
      },
      {
       "output_type": "stream",
       "stream": "stdout",
       "text": [
        "\n",
        "urllib(mine) sleeping to throttle requests"
       ]
      },
      {
       "output_type": "stream",
       "stream": "stdout",
       "text": [
        "\n",
        "urllib(mine) sleeping to throttle requests"
       ]
      },
      {
       "output_type": "stream",
       "stream": "stdout",
       "text": [
        "\n",
        "urllib(mine) sleeping to throttle requests"
       ]
      },
      {
       "output_type": "stream",
       "stream": "stdout",
       "text": [
        "\n",
        "urllib(mine) sleeping to throttle requests"
       ]
      },
      {
       "output_type": "stream",
       "stream": "stdout",
       "text": [
        "\n",
        "urllib(mine) sleeping to throttle requests"
       ]
      },
      {
       "output_type": "stream",
       "stream": "stdout",
       "text": [
        "\n",
        "urllib(mine) sleeping to throttle requests"
       ]
      },
      {
       "output_type": "stream",
       "stream": "stdout",
       "text": [
        "\n",
        "urllib(mine) sleeping to throttle requests"
       ]
      },
      {
       "output_type": "stream",
       "stream": "stdout",
       "text": [
        "\n",
        "urllib(mine) sleeping to throttle requests"
       ]
      },
      {
       "output_type": "stream",
       "stream": "stdout",
       "text": [
        "\n",
        "urllib(mine) sleeping to throttle requests"
       ]
      },
      {
       "output_type": "stream",
       "stream": "stdout",
       "text": [
        "\n",
        "urllib(mine) sleeping to throttle requests"
       ]
      },
      {
       "output_type": "stream",
       "stream": "stdout",
       "text": [
        "\n",
        "urllib(mine) sleeping to throttle requests"
       ]
      },
      {
       "output_type": "stream",
       "stream": "stdout",
       "text": [
        "\n",
        "urllib(mine) sleeping to throttle requests"
       ]
      },
      {
       "output_type": "stream",
       "stream": "stdout",
       "text": [
        "\n",
        "urllib(mine) sleeping to throttle requests"
       ]
      },
      {
       "output_type": "stream",
       "stream": "stdout",
       "text": [
        "\n",
        "urllib(mine) sleeping to throttle requests"
       ]
      },
      {
       "output_type": "stream",
       "stream": "stdout",
       "text": [
        "\n",
        "urllib(mine) sleeping to throttle requests"
       ]
      },
      {
       "output_type": "stream",
       "stream": "stdout",
       "text": [
        "\n",
        "urllib(mine) sleeping to throttle requests"
       ]
      },
      {
       "output_type": "stream",
       "stream": "stdout",
       "text": [
        "\n",
        "urllib(mine) sleeping to throttle requests"
       ]
      },
      {
       "output_type": "stream",
       "stream": "stdout",
       "text": [
        "\n",
        "urllib(mine) sleeping to throttle requests"
       ]
      },
      {
       "output_type": "stream",
       "stream": "stdout",
       "text": [
        "\n",
        "urllib(mine) sleeping to throttle requests"
       ]
      },
      {
       "output_type": "stream",
       "stream": "stdout",
       "text": [
        "\n",
        "urllib(mine) sleeping to throttle requests"
       ]
      },
      {
       "output_type": "stream",
       "stream": "stdout",
       "text": [
        "\n",
        "urllib(mine) sleeping to throttle requests"
       ]
      },
      {
       "output_type": "stream",
       "stream": "stdout",
       "text": [
        "\n",
        "urllib(mine) sleeping to throttle requests"
       ]
      },
      {
       "output_type": "stream",
       "stream": "stdout",
       "text": [
        "\n",
        "urllib(mine) sleeping to throttle requests"
       ]
      },
      {
       "output_type": "stream",
       "stream": "stdout",
       "text": [
        "\n",
        "urllib(mine) sleeping to throttle requests"
       ]
      },
      {
       "output_type": "stream",
       "stream": "stdout",
       "text": [
        "\n",
        "urllib(mine) sleeping to throttle requests"
       ]
      },
      {
       "output_type": "stream",
       "stream": "stdout",
       "text": [
        "\n",
        "urllib(mine) sleeping to throttle requests"
       ]
      },
      {
       "output_type": "stream",
       "stream": "stdout",
       "text": [
        "\n",
        "urllib(mine) sleeping to throttle requests"
       ]
      },
      {
       "output_type": "stream",
       "stream": "stdout",
       "text": [
        "\n",
        "urllib(mine) sleeping to throttle requests"
       ]
      },
      {
       "output_type": "stream",
       "stream": "stdout",
       "text": [
        "\n",
        "urllib(mine) sleeping to throttle requests"
       ]
      },
      {
       "output_type": "stream",
       "stream": "stdout",
       "text": [
        "\n",
        "urllib(mine) sleeping to throttle requests"
       ]
      },
      {
       "output_type": "stream",
       "stream": "stdout",
       "text": [
        "\n",
        "urllib(mine) sleeping to throttle requests"
       ]
      },
      {
       "output_type": "stream",
       "stream": "stdout",
       "text": [
        "\n",
        "urllib(mine) sleeping to throttle requests"
       ]
      },
      {
       "output_type": "stream",
       "stream": "stdout",
       "text": [
        "\n",
        "urllib(mine) sleeping to throttle requests"
       ]
      },
      {
       "output_type": "stream",
       "stream": "stdout",
       "text": [
        "\n",
        "--------------------------------------"
       ]
      },
      {
       "output_type": "stream",
       "stream": "stdout",
       "text": [
        "\n",
        "Starting friend: 608u33flNeT1Ofts1kFLpg\n",
        "--------------------------------------\n",
        "urllib(mine) sleeping to throttle requests\n",
        "urllib(mine) sleeping to throttle requests"
       ]
      },
      {
       "output_type": "stream",
       "stream": "stdout",
       "text": [
        "\n",
        "urllib(mine) sleeping to throttle requests"
       ]
      },
      {
       "output_type": "stream",
       "stream": "stdout",
       "text": [
        "\n",
        "urllib(mine) sleeping to throttle requests"
       ]
      },
      {
       "output_type": "stream",
       "stream": "stdout",
       "text": [
        "\n",
        "urllib(mine) sleeping to throttle requests"
       ]
      },
      {
       "output_type": "stream",
       "stream": "stdout",
       "text": [
        "\n",
        "urllib(mine) sleeping to throttle requests"
       ]
      },
      {
       "output_type": "stream",
       "stream": "stdout",
       "text": [
        "\n",
        "urllib(mine) sleeping to throttle requests"
       ]
      },
      {
       "output_type": "stream",
       "stream": "stdout",
       "text": [
        "\n",
        "urllib(mine) sleeping to throttle requests"
       ]
      },
      {
       "output_type": "stream",
       "stream": "stdout",
       "text": [
        "\n",
        "urllib(mine) sleeping to throttle requests"
       ]
      },
      {
       "output_type": "stream",
       "stream": "stdout",
       "text": [
        "\n",
        "urllib(mine) sleeping to throttle requests"
       ]
      },
      {
       "output_type": "stream",
       "stream": "stdout",
       "text": [
        "\n",
        "urllib(mine) sleeping to throttle requests"
       ]
      },
      {
       "output_type": "stream",
       "stream": "stdout",
       "text": [
        "\n",
        "urllib(mine) sleeping to throttle requests"
       ]
      },
      {
       "output_type": "stream",
       "stream": "stdout",
       "text": [
        "\n",
        "urllib(mine) sleeping to throttle requests"
       ]
      },
      {
       "output_type": "stream",
       "stream": "stdout",
       "text": [
        "\n",
        "urllib(mine) sleeping to throttle requests"
       ]
      },
      {
       "output_type": "stream",
       "stream": "stdout",
       "text": [
        "\n",
        "urllib(mine) sleeping to throttle requests"
       ]
      },
      {
       "output_type": "stream",
       "stream": "stdout",
       "text": [
        "\n",
        "urllib(mine) sleeping to throttle requests"
       ]
      },
      {
       "output_type": "stream",
       "stream": "stdout",
       "text": [
        "\n",
        "urllib(mine) sleeping to throttle requests"
       ]
      },
      {
       "output_type": "stream",
       "stream": "stdout",
       "text": [
        "\n",
        "urllib(mine) sleeping to throttle requests"
       ]
      },
      {
       "output_type": "stream",
       "stream": "stdout",
       "text": [
        "\n",
        "urllib(mine) sleeping to throttle requests"
       ]
      },
      {
       "output_type": "stream",
       "stream": "stdout",
       "text": [
        "\n",
        "urllib(mine) sleeping to throttle requests"
       ]
      },
      {
       "output_type": "stream",
       "stream": "stdout",
       "text": [
        "\n",
        "urllib(mine) sleeping to throttle requests"
       ]
      },
      {
       "output_type": "stream",
       "stream": "stdout",
       "text": [
        "\n",
        "urllib(mine) sleeping to throttle requests"
       ]
      },
      {
       "output_type": "stream",
       "stream": "stdout",
       "text": [
        "\n",
        "urllib(mine) sleeping to throttle requests"
       ]
      },
      {
       "output_type": "stream",
       "stream": "stdout",
       "text": [
        "\n",
        "--------------------------------------"
       ]
      },
      {
       "output_type": "stream",
       "stream": "stdout",
       "text": [
        "\n",
        "Starting friend: M0HHnq4l2UOl4q8wzjZMNg\n",
        "--------------------------------------\n",
        "urllib(mine) sleeping to throttle requests\n",
        "--------------------------------------"
       ]
      },
      {
       "output_type": "stream",
       "stream": "stdout",
       "text": [
        "\n",
        "Starting friend: LsdCccPySObaCcvtdyeOCQ\n",
        "--------------------------------------\n",
        "urllib(mine) sleeping to throttle requests\n",
        "urllib(mine) sleeping to throttle requests"
       ]
      },
      {
       "output_type": "stream",
       "stream": "stdout",
       "text": [
        "\n",
        "urllib(mine) sleeping to throttle requests"
       ]
      },
      {
       "output_type": "stream",
       "stream": "stdout",
       "text": [
        "\n",
        "urllib(mine) sleeping to throttle requests"
       ]
      },
      {
       "output_type": "stream",
       "stream": "stdout",
       "text": [
        "\n",
        "urllib(mine) sleeping to throttle requests"
       ]
      },
      {
       "output_type": "stream",
       "stream": "stdout",
       "text": [
        "\n",
        "urllib(mine) sleeping to throttle requests"
       ]
      },
      {
       "output_type": "stream",
       "stream": "stdout",
       "text": [
        "\n",
        "--------------------------------------"
       ]
      },
      {
       "output_type": "stream",
       "stream": "stdout",
       "text": [
        "\n",
        "Starting friend: 9VGECwLbj29RljD2WVSzaw\n",
        "--------------------------------------\n",
        "urllib(mine) sleeping to throttle requests\n",
        "urllib(mine) sleeping to throttle requests"
       ]
      },
      {
       "output_type": "stream",
       "stream": "stdout",
       "text": [
        "\n",
        "urllib(mine) sleeping to throttle requests"
       ]
      },
      {
       "output_type": "stream",
       "stream": "stdout",
       "text": [
        "\n",
        "urllib(mine) sleeping to throttle requests"
       ]
      },
      {
       "output_type": "stream",
       "stream": "stdout",
       "text": [
        "\n",
        "urllib(mine) sleeping to throttle requests"
       ]
      },
      {
       "output_type": "stream",
       "stream": "stdout",
       "text": [
        "\n",
        "urllib(mine) sleeping to throttle requests"
       ]
      },
      {
       "output_type": "stream",
       "stream": "stdout",
       "text": [
        "\n",
        "urllib(mine) sleeping to throttle requests"
       ]
      },
      {
       "output_type": "stream",
       "stream": "stdout",
       "text": [
        "\n",
        "urllib(mine) sleeping to throttle requests"
       ]
      },
      {
       "output_type": "stream",
       "stream": "stdout",
       "text": [
        "\n",
        "urllib(mine) sleeping to throttle requests"
       ]
      },
      {
       "output_type": "stream",
       "stream": "stdout",
       "text": [
        "\n",
        "urllib(mine) sleeping to throttle requests"
       ]
      },
      {
       "output_type": "stream",
       "stream": "stdout",
       "text": [
        "\n",
        "urllib(mine) sleeping to throttle requests"
       ]
      },
      {
       "output_type": "stream",
       "stream": "stdout",
       "text": [
        "\n",
        "urllib(mine) sleeping to throttle requests"
       ]
      },
      {
       "output_type": "stream",
       "stream": "stdout",
       "text": [
        "\n",
        "urllib(mine) sleeping to throttle requests"
       ]
      },
      {
       "output_type": "stream",
       "stream": "stdout",
       "text": [
        "\n",
        "urllib(mine) sleeping to throttle requests"
       ]
      },
      {
       "output_type": "stream",
       "stream": "stdout",
       "text": [
        "\n",
        "urllib(mine) sleeping to throttle requests"
       ]
      },
      {
       "output_type": "stream",
       "stream": "stdout",
       "text": [
        "\n",
        "urllib(mine) sleeping to throttle requests"
       ]
      },
      {
       "output_type": "stream",
       "stream": "stdout",
       "text": [
        "\n",
        "urllib(mine) sleeping to throttle requests"
       ]
      },
      {
       "output_type": "stream",
       "stream": "stdout",
       "text": [
        "\n",
        "urllib(mine) sleeping to throttle requests"
       ]
      },
      {
       "output_type": "stream",
       "stream": "stdout",
       "text": [
        "\n",
        "urllib(mine) sleeping to throttle requests"
       ]
      },
      {
       "output_type": "stream",
       "stream": "stdout",
       "text": [
        "\n",
        "urllib(mine) sleeping to throttle requests"
       ]
      },
      {
       "output_type": "stream",
       "stream": "stdout",
       "text": [
        "\n",
        "urllib(mine) sleeping to throttle requests"
       ]
      },
      {
       "output_type": "stream",
       "stream": "stdout",
       "text": [
        "\n",
        "urllib(mine) sleeping to throttle requests"
       ]
      },
      {
       "output_type": "stream",
       "stream": "stdout",
       "text": [
        "\n",
        "urllib(mine) sleeping to throttle requests"
       ]
      },
      {
       "output_type": "stream",
       "stream": "stdout",
       "text": [
        "\n",
        "urllib(mine) sleeping to throttle requests"
       ]
      },
      {
       "output_type": "stream",
       "stream": "stdout",
       "text": [
        "\n",
        "urllib(mine) sleeping to throttle requests"
       ]
      },
      {
       "output_type": "stream",
       "stream": "stdout",
       "text": [
        "\n",
        "urllib(mine) sleeping to throttle requests"
       ]
      },
      {
       "output_type": "stream",
       "stream": "stdout",
       "text": [
        "\n",
        "urllib(mine) sleeping to throttle requests"
       ]
      },
      {
       "output_type": "stream",
       "stream": "stdout",
       "text": [
        "\n",
        "urllib(mine) sleeping to throttle requests"
       ]
      },
      {
       "output_type": "stream",
       "stream": "stdout",
       "text": [
        "\n",
        "urllib(mine) sleeping to throttle requests"
       ]
      },
      {
       "output_type": "stream",
       "stream": "stdout",
       "text": [
        "\n",
        "urllib(mine) sleeping to throttle requests"
       ]
      },
      {
       "output_type": "stream",
       "stream": "stdout",
       "text": [
        "\n",
        "urllib(mine) sleeping to throttle requests"
       ]
      },
      {
       "output_type": "stream",
       "stream": "stdout",
       "text": [
        "\n",
        "urllib(mine) sleeping to throttle requests"
       ]
      },
      {
       "output_type": "stream",
       "stream": "stdout",
       "text": [
        "\n",
        "urllib(mine) sleeping to throttle requests"
       ]
      },
      {
       "output_type": "stream",
       "stream": "stdout",
       "text": [
        "\n",
        "urllib(mine) sleeping to throttle requests"
       ]
      },
      {
       "output_type": "stream",
       "stream": "stdout",
       "text": [
        "\n",
        "urllib(mine) sleeping to throttle requests"
       ]
      },
      {
       "output_type": "stream",
       "stream": "stdout",
       "text": [
        "\n",
        "urllib(mine) sleeping to throttle requests"
       ]
      },
      {
       "output_type": "stream",
       "stream": "stdout",
       "text": [
        "\n",
        "urllib(mine) sleeping to throttle requests"
       ]
      },
      {
       "output_type": "stream",
       "stream": "stdout",
       "text": [
        "\n",
        "urllib(mine) sleeping to throttle requests"
       ]
      },
      {
       "output_type": "stream",
       "stream": "stdout",
       "text": [
        "\n",
        "urllib(mine) sleeping to throttle requests"
       ]
      },
      {
       "output_type": "stream",
       "stream": "stdout",
       "text": [
        "\n",
        "urllib(mine) sleeping to throttle requests"
       ]
      },
      {
       "output_type": "stream",
       "stream": "stdout",
       "text": [
        "\n",
        "urllib(mine) sleeping to throttle requests"
       ]
      },
      {
       "output_type": "stream",
       "stream": "stdout",
       "text": [
        "\n",
        "urllib(mine) sleeping to throttle requests"
       ]
      },
      {
       "output_type": "stream",
       "stream": "stdout",
       "text": [
        "\n",
        "urllib(mine) sleeping to throttle requests"
       ]
      },
      {
       "output_type": "stream",
       "stream": "stdout",
       "text": [
        "\n",
        "urllib(mine) sleeping to throttle requests"
       ]
      },
      {
       "output_type": "stream",
       "stream": "stdout",
       "text": [
        "\n",
        "urllib(mine) sleeping to throttle requests"
       ]
      },
      {
       "output_type": "stream",
       "stream": "stdout",
       "text": [
        "\n",
        "--------------------------------------"
       ]
      },
      {
       "output_type": "stream",
       "stream": "stdout",
       "text": [
        "\n",
        "Starting friend: cvkLinqobaKn4jAh-SHS6w\n",
        "--------------------------------------\n",
        "urllib(mine) sleeping to throttle requests\n",
        "urllib(mine) sleeping to throttle requests"
       ]
      },
      {
       "output_type": "stream",
       "stream": "stdout",
       "text": [
        "\n",
        "urllib(mine) sleeping to throttle requests"
       ]
      },
      {
       "output_type": "stream",
       "stream": "stdout",
       "text": [
        "\n",
        "urllib(mine) sleeping to throttle requests"
       ]
      },
      {
       "output_type": "stream",
       "stream": "stdout",
       "text": [
        "\n",
        "urllib(mine) sleeping to throttle requests"
       ]
      },
      {
       "output_type": "stream",
       "stream": "stdout",
       "text": [
        "\n",
        "urllib(mine) sleeping to throttle requests"
       ]
      },
      {
       "output_type": "stream",
       "stream": "stdout",
       "text": [
        "\n",
        "urllib(mine) sleeping to throttle requests"
       ]
      },
      {
       "output_type": "stream",
       "stream": "stdout",
       "text": [
        "\n",
        "urllib(mine) sleeping to throttle requests"
       ]
      },
      {
       "output_type": "stream",
       "stream": "stdout",
       "text": [
        "\n",
        "urllib(mine) sleeping to throttle requests"
       ]
      },
      {
       "output_type": "stream",
       "stream": "stdout",
       "text": [
        "\n",
        "urllib(mine) sleeping to throttle requests"
       ]
      },
      {
       "output_type": "stream",
       "stream": "stdout",
       "text": [
        "\n",
        "urllib(mine) sleeping to throttle requests"
       ]
      },
      {
       "output_type": "stream",
       "stream": "stdout",
       "text": [
        "\n",
        "urllib(mine) sleeping to throttle requests"
       ]
      },
      {
       "output_type": "stream",
       "stream": "stdout",
       "text": [
        "\n",
        "urllib(mine) sleeping to throttle requests"
       ]
      },
      {
       "output_type": "stream",
       "stream": "stdout",
       "text": [
        "\n",
        "urllib(mine) sleeping to throttle requests"
       ]
      },
      {
       "output_type": "stream",
       "stream": "stdout",
       "text": [
        "\n",
        "urllib(mine) sleeping to throttle requests"
       ]
      },
      {
       "output_type": "stream",
       "stream": "stdout",
       "text": [
        "\n",
        "urllib(mine) sleeping to throttle requests"
       ]
      },
      {
       "output_type": "stream",
       "stream": "stdout",
       "text": [
        "\n",
        "urllib(mine) sleeping to throttle requests"
       ]
      },
      {
       "output_type": "stream",
       "stream": "stdout",
       "text": [
        "\n",
        "urllib(mine) sleeping to throttle requests"
       ]
      },
      {
       "output_type": "stream",
       "stream": "stdout",
       "text": [
        "\n",
        "urllib(mine) sleeping to throttle requests"
       ]
      },
      {
       "output_type": "stream",
       "stream": "stdout",
       "text": [
        "\n",
        "urllib(mine) sleeping to throttle requests"
       ]
      },
      {
       "output_type": "stream",
       "stream": "stdout",
       "text": [
        "\n",
        "urllib(mine) sleeping to throttle requests"
       ]
      },
      {
       "output_type": "stream",
       "stream": "stdout",
       "text": [
        "\n",
        "urllib(mine) sleeping to throttle requests"
       ]
      },
      {
       "output_type": "stream",
       "stream": "stdout",
       "text": [
        "\n",
        "urllib(mine) sleeping to throttle requests"
       ]
      },
      {
       "output_type": "stream",
       "stream": "stdout",
       "text": [
        "\n",
        "urllib(mine) sleeping to throttle requests"
       ]
      },
      {
       "output_type": "stream",
       "stream": "stdout",
       "text": [
        "\n",
        "urllib(mine) sleeping to throttle requests"
       ]
      },
      {
       "output_type": "stream",
       "stream": "stdout",
       "text": [
        "\n",
        "urllib(mine) sleeping to throttle requests"
       ]
      },
      {
       "output_type": "stream",
       "stream": "stdout",
       "text": [
        "\n",
        "urllib(mine) sleeping to throttle requests"
       ]
      },
      {
       "output_type": "stream",
       "stream": "stdout",
       "text": [
        "\n",
        "urllib(mine) sleeping to throttle requests"
       ]
      },
      {
       "output_type": "stream",
       "stream": "stdout",
       "text": [
        "\n",
        "urllib(mine) sleeping to throttle requests"
       ]
      },
      {
       "output_type": "stream",
       "stream": "stdout",
       "text": [
        "\n",
        "urllib(mine) sleeping to throttle requests"
       ]
      },
      {
       "output_type": "stream",
       "stream": "stdout",
       "text": [
        "\n",
        "urllib(mine) sleeping to throttle requests"
       ]
      },
      {
       "output_type": "stream",
       "stream": "stdout",
       "text": [
        "\n",
        "urllib(mine) sleeping to throttle requests"
       ]
      },
      {
       "output_type": "stream",
       "stream": "stdout",
       "text": [
        "\n",
        "--------------------------------------"
       ]
      },
      {
       "output_type": "stream",
       "stream": "stdout",
       "text": [
        "\n",
        "Starting friend: R7yNfuRK1WAYX1bvI9HM_A\n",
        "--------------------------------------\n",
        "urllib(mine) sleeping to throttle requests\n",
        "--------------------------------------"
       ]
      },
      {
       "output_type": "stream",
       "stream": "stdout",
       "text": [
        "\n",
        "Starting friend: pBttdyG4TJsfTFIU183OnA\n",
        "--------------------------------------\n",
        "urllib(mine) sleeping to throttle requests\n",
        "urllib(mine) sleeping to throttle requests"
       ]
      },
      {
       "output_type": "stream",
       "stream": "stdout",
       "text": [
        "\n",
        "urllib(mine) sleeping to throttle requests"
       ]
      },
      {
       "output_type": "stream",
       "stream": "stdout",
       "text": [
        "\n",
        "urllib(mine) sleeping to throttle requests"
       ]
      },
      {
       "output_type": "stream",
       "stream": "stdout",
       "text": [
        "\n",
        "urllib(mine) sleeping to throttle requests"
       ]
      },
      {
       "output_type": "stream",
       "stream": "stdout",
       "text": [
        "\n",
        "urllib(mine) sleeping to throttle requests"
       ]
      },
      {
       "output_type": "stream",
       "stream": "stdout",
       "text": [
        "\n",
        "urllib(mine) sleeping to throttle requests"
       ]
      },
      {
       "output_type": "stream",
       "stream": "stdout",
       "text": [
        "\n",
        "urllib(mine) sleeping to throttle requests"
       ]
      },
      {
       "output_type": "stream",
       "stream": "stdout",
       "text": [
        "\n",
        "urllib(mine) sleeping to throttle requests"
       ]
      },
      {
       "output_type": "stream",
       "stream": "stdout",
       "text": [
        "\n",
        "urllib(mine) sleeping to throttle requests"
       ]
      },
      {
       "output_type": "stream",
       "stream": "stdout",
       "text": [
        "\n",
        "urllib(mine) sleeping to throttle requests"
       ]
      },
      {
       "output_type": "stream",
       "stream": "stdout",
       "text": [
        "\n",
        "urllib(mine) sleeping to throttle requests"
       ]
      },
      {
       "output_type": "stream",
       "stream": "stdout",
       "text": [
        "\n",
        "urllib(mine) sleeping to throttle requests"
       ]
      },
      {
       "output_type": "stream",
       "stream": "stdout",
       "text": [
        "\n",
        "--------------------------------------"
       ]
      },
      {
       "output_type": "stream",
       "stream": "stdout",
       "text": [
        "\n",
        "Starting friend: lConjPFTZqz4zWELK_EJtw\n",
        "--------------------------------------\n",
        "urllib(mine) sleeping to throttle requests\n",
        "urllib(mine) sleeping to throttle requests"
       ]
      },
      {
       "output_type": "stream",
       "stream": "stdout",
       "text": [
        "\n",
        "urllib(mine) sleeping to throttle requests"
       ]
      },
      {
       "output_type": "stream",
       "stream": "stdout",
       "text": [
        "\n",
        "urllib(mine) sleeping to throttle requests"
       ]
      },
      {
       "output_type": "stream",
       "stream": "stdout",
       "text": [
        "\n",
        "urllib(mine) sleeping to throttle requests"
       ]
      },
      {
       "output_type": "stream",
       "stream": "stdout",
       "text": [
        "\n",
        "urllib(mine) sleeping to throttle requests"
       ]
      },
      {
       "output_type": "stream",
       "stream": "stdout",
       "text": [
        "\n",
        "urllib(mine) sleeping to throttle requests"
       ]
      },
      {
       "output_type": "stream",
       "stream": "stdout",
       "text": [
        "\n",
        "urllib(mine) sleeping to throttle requests"
       ]
      },
      {
       "output_type": "stream",
       "stream": "stdout",
       "text": [
        "\n",
        "urllib(mine) sleeping to throttle requests"
       ]
      },
      {
       "output_type": "stream",
       "stream": "stdout",
       "text": [
        "\n",
        "urllib(mine) sleeping to throttle requests"
       ]
      },
      {
       "output_type": "stream",
       "stream": "stdout",
       "text": [
        "\n",
        "urllib(mine) sleeping to throttle requests"
       ]
      },
      {
       "output_type": "stream",
       "stream": "stdout",
       "text": [
        "\n",
        "urllib(mine) sleeping to throttle requests"
       ]
      },
      {
       "output_type": "stream",
       "stream": "stdout",
       "text": [
        "\n",
        "urllib(mine) sleeping to throttle requests"
       ]
      },
      {
       "output_type": "stream",
       "stream": "stdout",
       "text": [
        "\n",
        "urllib(mine) sleeping to throttle requests"
       ]
      },
      {
       "output_type": "stream",
       "stream": "stdout",
       "text": [
        "\n",
        "urllib(mine) sleeping to throttle requests"
       ]
      },
      {
       "output_type": "stream",
       "stream": "stdout",
       "text": [
        "\n",
        "urllib(mine) sleeping to throttle requests"
       ]
      },
      {
       "output_type": "stream",
       "stream": "stdout",
       "text": [
        "\n",
        "urllib(mine) sleeping to throttle requests"
       ]
      },
      {
       "output_type": "stream",
       "stream": "stdout",
       "text": [
        "\n",
        "urllib(mine) sleeping to throttle requests"
       ]
      },
      {
       "output_type": "stream",
       "stream": "stdout",
       "text": [
        "\n",
        "urllib(mine) sleeping to throttle requests"
       ]
      },
      {
       "output_type": "stream",
       "stream": "stdout",
       "text": [
        "\n",
        "urllib(mine) sleeping to throttle requests"
       ]
      },
      {
       "output_type": "stream",
       "stream": "stdout",
       "text": [
        "\n",
        "urllib(mine) sleeping to throttle requests"
       ]
      },
      {
       "output_type": "stream",
       "stream": "stdout",
       "text": [
        "\n",
        "urllib(mine) sleeping to throttle requests"
       ]
      },
      {
       "output_type": "stream",
       "stream": "stdout",
       "text": [
        "\n",
        "urllib(mine) sleeping to throttle requests"
       ]
      },
      {
       "output_type": "stream",
       "stream": "stdout",
       "text": [
        "\n",
        "urllib(mine) sleeping to throttle requests"
       ]
      },
      {
       "output_type": "stream",
       "stream": "stdout",
       "text": [
        "\n",
        "urllib(mine) sleeping to throttle requests"
       ]
      },
      {
       "output_type": "stream",
       "stream": "stdout",
       "text": [
        "\n",
        "urllib(mine) sleeping to throttle requests"
       ]
      },
      {
       "output_type": "stream",
       "stream": "stdout",
       "text": [
        "\n",
        "urllib(mine) sleeping to throttle requests"
       ]
      },
      {
       "output_type": "stream",
       "stream": "stdout",
       "text": [
        "\n",
        "urllib(mine) sleeping to throttle requests"
       ]
      },
      {
       "output_type": "stream",
       "stream": "stdout",
       "text": [
        "\n",
        "urllib(mine) sleeping to throttle requests"
       ]
      },
      {
       "output_type": "stream",
       "stream": "stdout",
       "text": [
        "\n",
        "urllib(mine) sleeping to throttle requests"
       ]
      },
      {
       "output_type": "stream",
       "stream": "stdout",
       "text": [
        "\n",
        "urllib(mine) sleeping to throttle requests"
       ]
      },
      {
       "output_type": "stream",
       "stream": "stdout",
       "text": [
        "\n",
        "urllib(mine) sleeping to throttle requests"
       ]
      },
      {
       "output_type": "stream",
       "stream": "stdout",
       "text": [
        "\n",
        "urllib(mine) sleeping to throttle requests"
       ]
      },
      {
       "output_type": "stream",
       "stream": "stdout",
       "text": [
        "\n",
        "urllib(mine) sleeping to throttle requests"
       ]
      },
      {
       "output_type": "stream",
       "stream": "stdout",
       "text": [
        "\n",
        "urllib(mine) sleeping to throttle requests"
       ]
      },
      {
       "output_type": "stream",
       "stream": "stdout",
       "text": [
        "\n",
        "urllib(mine) sleeping to throttle requests"
       ]
      },
      {
       "output_type": "stream",
       "stream": "stdout",
       "text": [
        "\n",
        "urllib(mine) sleeping to throttle requests"
       ]
      },
      {
       "output_type": "stream",
       "stream": "stdout",
       "text": [
        "\n",
        "urllib(mine) sleeping to throttle requests"
       ]
      },
      {
       "output_type": "stream",
       "stream": "stdout",
       "text": [
        "\n",
        "urllib(mine) sleeping to throttle requests"
       ]
      },
      {
       "output_type": "stream",
       "stream": "stdout",
       "text": [
        "\n",
        "urllib(mine) sleeping to throttle requests"
       ]
      },
      {
       "output_type": "stream",
       "stream": "stdout",
       "text": [
        "\n",
        "urllib(mine) sleeping to throttle requests"
       ]
      },
      {
       "output_type": "stream",
       "stream": "stdout",
       "text": [
        "\n",
        "urllib(mine) sleeping to throttle requests"
       ]
      },
      {
       "output_type": "stream",
       "stream": "stdout",
       "text": [
        "\n",
        "urllib(mine) sleeping to throttle requests"
       ]
      },
      {
       "output_type": "stream",
       "stream": "stdout",
       "text": [
        "\n",
        "urllib(mine) sleeping to throttle requests"
       ]
      },
      {
       "output_type": "stream",
       "stream": "stdout",
       "text": [
        "\n",
        "urllib(mine) sleeping to throttle requests"
       ]
      },
      {
       "output_type": "stream",
       "stream": "stdout",
       "text": [
        "\n",
        "urllib(mine) sleeping to throttle requests"
       ]
      },
      {
       "output_type": "stream",
       "stream": "stdout",
       "text": [
        "\n",
        "urllib(mine) sleeping to throttle requests"
       ]
      },
      {
       "output_type": "stream",
       "stream": "stdout",
       "text": [
        "\n",
        "urllib(mine) sleeping to throttle requests"
       ]
      },
      {
       "output_type": "stream",
       "stream": "stdout",
       "text": [
        "\n",
        "urllib(mine) sleeping to throttle requests"
       ]
      },
      {
       "output_type": "stream",
       "stream": "stdout",
       "text": [
        "\n",
        "urllib(mine) sleeping to throttle requests"
       ]
      },
      {
       "output_type": "stream",
       "stream": "stdout",
       "text": [
        "\n",
        "urllib(mine) sleeping to throttle requests"
       ]
      },
      {
       "output_type": "stream",
       "stream": "stdout",
       "text": [
        "\n",
        "urllib(mine) sleeping to throttle requests"
       ]
      },
      {
       "output_type": "stream",
       "stream": "stdout",
       "text": [
        "\n",
        "urllib(mine) sleeping to throttle requests"
       ]
      },
      {
       "output_type": "stream",
       "stream": "stdout",
       "text": [
        "\n",
        "urllib(mine) sleeping to throttle requests"
       ]
      },
      {
       "output_type": "stream",
       "stream": "stdout",
       "text": [
        "\n",
        "urllib(mine) sleeping to throttle requests"
       ]
      },
      {
       "output_type": "stream",
       "stream": "stdout",
       "text": [
        "\n",
        "urllib(mine) sleeping to throttle requests"
       ]
      },
      {
       "output_type": "stream",
       "stream": "stdout",
       "text": [
        "\n",
        "urllib(mine) sleeping to throttle requests"
       ]
      },
      {
       "output_type": "stream",
       "stream": "stdout",
       "text": [
        "\n",
        "urllib(mine) sleeping to throttle requests"
       ]
      },
      {
       "output_type": "stream",
       "stream": "stdout",
       "text": [
        "\n",
        "urllib(mine) sleeping to throttle requests"
       ]
      },
      {
       "output_type": "stream",
       "stream": "stdout",
       "text": [
        "\n",
        "urllib(mine) sleeping to throttle requests"
       ]
      },
      {
       "output_type": "stream",
       "stream": "stdout",
       "text": [
        "\n",
        "urllib(mine) sleeping to throttle requests"
       ]
      },
      {
       "output_type": "stream",
       "stream": "stdout",
       "text": [
        "\n",
        "urllib(mine) sleeping to throttle requests"
       ]
      },
      {
       "output_type": "stream",
       "stream": "stdout",
       "text": [
        "\n",
        "urllib(mine) sleeping to throttle requests"
       ]
      },
      {
       "output_type": "stream",
       "stream": "stdout",
       "text": [
        "\n",
        "urllib(mine) sleeping to throttle requests"
       ]
      },
      {
       "output_type": "stream",
       "stream": "stdout",
       "text": [
        "\n",
        "urllib(mine) sleeping to throttle requests"
       ]
      },
      {
       "output_type": "stream",
       "stream": "stdout",
       "text": [
        "\n",
        "urllib(mine) sleeping to throttle requests"
       ]
      },
      {
       "output_type": "stream",
       "stream": "stdout",
       "text": [
        "\n",
        "urllib(mine) sleeping to throttle requests"
       ]
      },
      {
       "output_type": "stream",
       "stream": "stdout",
       "text": [
        "\n",
        "urllib(mine) sleeping to throttle requests"
       ]
      },
      {
       "output_type": "stream",
       "stream": "stdout",
       "text": [
        "\n",
        "urllib(mine) sleeping to throttle requests"
       ]
      },
      {
       "output_type": "stream",
       "stream": "stdout",
       "text": [
        "\n",
        "urllib(mine) sleeping to throttle requests"
       ]
      },
      {
       "output_type": "stream",
       "stream": "stdout",
       "text": [
        "\n",
        "urllib(mine) sleeping to throttle requests"
       ]
      },
      {
       "output_type": "stream",
       "stream": "stdout",
       "text": [
        "\n",
        "urllib(mine) sleeping to throttle requests"
       ]
      },
      {
       "output_type": "stream",
       "stream": "stdout",
       "text": [
        "\n",
        "urllib(mine) sleeping to throttle requests"
       ]
      },
      {
       "output_type": "stream",
       "stream": "stdout",
       "text": [
        "\n",
        "urllib(mine) sleeping to throttle requests"
       ]
      },
      {
       "output_type": "stream",
       "stream": "stdout",
       "text": [
        "\n",
        "urllib(mine) sleeping to throttle requests"
       ]
      },
      {
       "output_type": "stream",
       "stream": "stdout",
       "text": [
        "\n",
        "urllib(mine) sleeping to throttle requests"
       ]
      },
      {
       "output_type": "stream",
       "stream": "stdout",
       "text": [
        "\n",
        "urllib(mine) sleeping to throttle requests"
       ]
      },
      {
       "output_type": "stream",
       "stream": "stdout",
       "text": [
        "\n",
        "urllib(mine) sleeping to throttle requests"
       ]
      },
      {
       "output_type": "stream",
       "stream": "stdout",
       "text": [
        "\n",
        "--------------------------------------"
       ]
      },
      {
       "output_type": "stream",
       "stream": "stdout",
       "text": [
        "\n",
        "Starting friend: mWAZm-vaNZegD92gOqw-og\n",
        "--------------------------------------\n",
        "urllib(mine) sleeping to throttle requests\n",
        "urllib(mine) sleeping to throttle requests"
       ]
      },
      {
       "output_type": "stream",
       "stream": "stdout",
       "text": [
        "\n",
        "urllib(mine) sleeping to throttle requests"
       ]
      },
      {
       "output_type": "stream",
       "stream": "stdout",
       "text": [
        "\n",
        "urllib(mine) sleeping to throttle requests"
       ]
      },
      {
       "output_type": "stream",
       "stream": "stdout",
       "text": [
        "\n",
        "urllib(mine) sleeping to throttle requests"
       ]
      },
      {
       "output_type": "stream",
       "stream": "stdout",
       "text": [
        "\n",
        "urllib(mine) sleeping to throttle requests"
       ]
      },
      {
       "output_type": "stream",
       "stream": "stdout",
       "text": [
        "\n",
        "urllib(mine) sleeping to throttle requests"
       ]
      },
      {
       "output_type": "stream",
       "stream": "stdout",
       "text": [
        "\n",
        "urllib(mine) sleeping to throttle requests"
       ]
      },
      {
       "output_type": "stream",
       "stream": "stdout",
       "text": [
        "\n",
        "urllib(mine) sleeping to throttle requests"
       ]
      },
      {
       "output_type": "stream",
       "stream": "stdout",
       "text": [
        "\n",
        "--------------------------------------"
       ]
      },
      {
       "output_type": "stream",
       "stream": "stdout",
       "text": [
        "\n",
        "Starting friend: PjuDtqog3Q67aSq5x8vw4g\n",
        "--------------------------------------\n",
        "urllib(mine) sleeping to throttle requests\n",
        "urllib(mine) sleeping to throttle requests"
       ]
      },
      {
       "output_type": "stream",
       "stream": "stdout",
       "text": [
        "\n",
        "urllib(mine) sleeping to throttle requests"
       ]
      },
      {
       "output_type": "stream",
       "stream": "stdout",
       "text": [
        "\n",
        "urllib(mine) sleeping to throttle requests"
       ]
      },
      {
       "output_type": "stream",
       "stream": "stdout",
       "text": [
        "\n",
        "--------------------------------------"
       ]
      },
      {
       "output_type": "stream",
       "stream": "stdout",
       "text": [
        "\n",
        "Starting friend: mQyccITA8AScIzI5Nr83OA\n",
        "--------------------------------------\n",
        "urllib(mine) sleeping to throttle requests\n",
        "urllib(mine) sleeping to throttle requests"
       ]
      },
      {
       "output_type": "stream",
       "stream": "stdout",
       "text": [
        "\n",
        "urllib(mine) sleeping to throttle requests"
       ]
      },
      {
       "output_type": "stream",
       "stream": "stdout",
       "text": [
        "\n",
        "urllib(mine) sleeping to throttle requests"
       ]
      },
      {
       "output_type": "stream",
       "stream": "stdout",
       "text": [
        "\n",
        "urllib(mine) sleeping to throttle requests"
       ]
      },
      {
       "output_type": "stream",
       "stream": "stdout",
       "text": [
        "\n",
        "urllib(mine) sleeping to throttle requests"
       ]
      },
      {
       "output_type": "stream",
       "stream": "stdout",
       "text": [
        "\n",
        "urllib(mine) sleeping to throttle requests"
       ]
      },
      {
       "output_type": "stream",
       "stream": "stdout",
       "text": [
        "\n",
        "urllib(mine) sleeping to throttle requests"
       ]
      },
      {
       "output_type": "stream",
       "stream": "stdout",
       "text": [
        "\n",
        "urllib(mine) sleeping to throttle requests"
       ]
      },
      {
       "output_type": "stream",
       "stream": "stdout",
       "text": [
        "\n",
        "urllib(mine) sleeping to throttle requests"
       ]
      },
      {
       "output_type": "stream",
       "stream": "stdout",
       "text": [
        "\n",
        "urllib(mine) sleeping to throttle requests"
       ]
      },
      {
       "output_type": "stream",
       "stream": "stdout",
       "text": [
        "\n",
        "urllib(mine) sleeping to throttle requests"
       ]
      },
      {
       "output_type": "stream",
       "stream": "stdout",
       "text": [
        "\n",
        "urllib(mine) sleeping to throttle requests"
       ]
      },
      {
       "output_type": "stream",
       "stream": "stdout",
       "text": [
        "\n",
        "urllib(mine) sleeping to throttle requests"
       ]
      },
      {
       "output_type": "stream",
       "stream": "stdout",
       "text": [
        "\n",
        "--------------------------------------"
       ]
      },
      {
       "output_type": "stream",
       "stream": "stdout",
       "text": [
        "\n",
        "Starting friend: EQ3c49kzedyhZjbNzRfL_w\n",
        "--------------------------------------\n",
        "urllib(mine) sleeping to throttle requests\n",
        "urllib(mine) sleeping to throttle requests"
       ]
      },
      {
       "output_type": "stream",
       "stream": "stdout",
       "text": [
        "\n",
        "--------------------------------------"
       ]
      },
      {
       "output_type": "stream",
       "stream": "stdout",
       "text": [
        "\n",
        "Starting friend: -z2ufb5MJyo7bXGBy8C3Fw\n",
        "--------------------------------------\n",
        "urllib(mine) sleeping to throttle requests\n",
        "urllib(mine) sleeping to throttle requests"
       ]
      },
      {
       "output_type": "stream",
       "stream": "stdout",
       "text": [
        "\n",
        "urllib(mine) sleeping to throttle requests"
       ]
      },
      {
       "output_type": "stream",
       "stream": "stdout",
       "text": [
        "\n",
        "urllib(mine) sleeping to throttle requests"
       ]
      },
      {
       "output_type": "stream",
       "stream": "stdout",
       "text": [
        "\n",
        "urllib(mine) sleeping to throttle requests"
       ]
      },
      {
       "output_type": "stream",
       "stream": "stdout",
       "text": [
        "\n",
        "--------------------------------------"
       ]
      },
      {
       "output_type": "stream",
       "stream": "stdout",
       "text": [
        "\n",
        "Starting friend: TOxkUKRw2dY5a8-uOLdGxA\n",
        "--------------------------------------\n",
        "urllib(mine) sleeping to throttle requests\n",
        "urllib(mine) sleeping to throttle requests"
       ]
      },
      {
       "output_type": "stream",
       "stream": "stdout",
       "text": [
        "\n",
        "--------------------------------------"
       ]
      },
      {
       "output_type": "stream",
       "stream": "stdout",
       "text": [
        "\n",
        "Starting friend: ZzwimRrdesZX1hvWGkSJ0g\n",
        "--------------------------------------\n",
        "urllib(mine) sleeping to throttle requests\n",
        "--------------------------------------"
       ]
      },
      {
       "output_type": "stream",
       "stream": "stdout",
       "text": [
        "\n",
        "Starting friend: TKzFASCz7GLGUcwO1QG2jA\n",
        "--------------------------------------\n",
        "urllib(mine) sleeping to throttle requests\n",
        "urllib(mine) sleeping to throttle requests"
       ]
      },
      {
       "output_type": "stream",
       "stream": "stdout",
       "text": [
        "\n",
        "urllib(mine) sleeping to throttle requests"
       ]
      },
      {
       "output_type": "stream",
       "stream": "stdout",
       "text": [
        "\n",
        "urllib(mine) sleeping to throttle requests"
       ]
      },
      {
       "output_type": "stream",
       "stream": "stdout",
       "text": [
        "\n",
        "urllib(mine) sleeping to throttle requests"
       ]
      },
      {
       "output_type": "stream",
       "stream": "stdout",
       "text": [
        "\n",
        "urllib(mine) sleeping to throttle requests"
       ]
      },
      {
       "output_type": "stream",
       "stream": "stdout",
       "text": [
        "\n",
        "urllib(mine) sleeping to throttle requests"
       ]
      },
      {
       "output_type": "stream",
       "stream": "stdout",
       "text": [
        "\n",
        "urllib(mine) sleeping to throttle requests"
       ]
      },
      {
       "output_type": "stream",
       "stream": "stdout",
       "text": [
        "\n",
        "urllib(mine) sleeping to throttle requests"
       ]
      },
      {
       "output_type": "stream",
       "stream": "stdout",
       "text": [
        "\n",
        "urllib(mine) sleeping to throttle requests"
       ]
      },
      {
       "output_type": "stream",
       "stream": "stdout",
       "text": [
        "\n",
        "urllib(mine) sleeping to throttle requests"
       ]
      },
      {
       "output_type": "stream",
       "stream": "stdout",
       "text": [
        "\n",
        "urllib(mine) sleeping to throttle requests"
       ]
      },
      {
       "output_type": "stream",
       "stream": "stdout",
       "text": [
        "\n",
        "urllib(mine) sleeping to throttle requests"
       ]
      },
      {
       "output_type": "stream",
       "stream": "stdout",
       "text": [
        "\n",
        "urllib(mine) sleeping to throttle requests"
       ]
      },
      {
       "output_type": "stream",
       "stream": "stdout",
       "text": [
        "\n",
        "urllib(mine) sleeping to throttle requests"
       ]
      },
      {
       "output_type": "stream",
       "stream": "stdout",
       "text": [
        "\n",
        "urllib(mine) sleeping to throttle requests"
       ]
      },
      {
       "output_type": "stream",
       "stream": "stdout",
       "text": [
        "\n",
        "urllib(mine) sleeping to throttle requests"
       ]
      },
      {
       "output_type": "stream",
       "stream": "stdout",
       "text": [
        "\n",
        "urllib(mine) sleeping to throttle requests"
       ]
      },
      {
       "output_type": "stream",
       "stream": "stdout",
       "text": [
        "\n",
        "urllib(mine) sleeping to throttle requests"
       ]
      },
      {
       "output_type": "stream",
       "stream": "stdout",
       "text": [
        "\n",
        "urllib(mine) sleeping to throttle requests"
       ]
      },
      {
       "output_type": "stream",
       "stream": "stdout",
       "text": [
        "\n",
        "urllib(mine) sleeping to throttle requests"
       ]
      },
      {
       "output_type": "stream",
       "stream": "stdout",
       "text": [
        "\n",
        "urllib(mine) sleeping to throttle requests"
       ]
      },
      {
       "output_type": "stream",
       "stream": "stdout",
       "text": [
        "\n",
        "urllib(mine) sleeping to throttle requests"
       ]
      },
      {
       "output_type": "stream",
       "stream": "stdout",
       "text": [
        "\n",
        "urllib(mine) sleeping to throttle requests"
       ]
      },
      {
       "output_type": "stream",
       "stream": "stdout",
       "text": [
        "\n",
        "urllib(mine) sleeping to throttle requests"
       ]
      },
      {
       "output_type": "stream",
       "stream": "stdout",
       "text": [
        "\n",
        "urllib(mine) sleeping to throttle requests"
       ]
      },
      {
       "output_type": "stream",
       "stream": "stdout",
       "text": [
        "\n",
        "urllib(mine) sleeping to throttle requests"
       ]
      },
      {
       "output_type": "stream",
       "stream": "stdout",
       "text": [
        "\n",
        "urllib(mine) sleeping to throttle requests"
       ]
      },
      {
       "output_type": "stream",
       "stream": "stdout",
       "text": [
        "\n",
        "urllib(mine) sleeping to throttle requests"
       ]
      },
      {
       "output_type": "stream",
       "stream": "stdout",
       "text": [
        "\n",
        "urllib(mine) sleeping to throttle requests"
       ]
      },
      {
       "output_type": "stream",
       "stream": "stdout",
       "text": [
        "\n",
        "urllib(mine) sleeping to throttle requests"
       ]
      },
      {
       "output_type": "stream",
       "stream": "stdout",
       "text": [
        "\n",
        "urllib(mine) sleeping to throttle requests"
       ]
      },
      {
       "output_type": "stream",
       "stream": "stdout",
       "text": [
        "\n",
        "urllib(mine) sleeping to throttle requests"
       ]
      },
      {
       "output_type": "stream",
       "stream": "stdout",
       "text": [
        "\n",
        "urllib(mine) sleeping to throttle requests"
       ]
      },
      {
       "output_type": "stream",
       "stream": "stdout",
       "text": [
        "\n",
        "urllib(mine) sleeping to throttle requests"
       ]
      },
      {
       "output_type": "stream",
       "stream": "stdout",
       "text": [
        "\n",
        "urllib(mine) sleeping to throttle requests"
       ]
      },
      {
       "output_type": "stream",
       "stream": "stdout",
       "text": [
        "\n",
        "urllib(mine) sleeping to throttle requests"
       ]
      },
      {
       "output_type": "stream",
       "stream": "stdout",
       "text": [
        "\n",
        "urllib(mine) sleeping to throttle requests"
       ]
      },
      {
       "output_type": "stream",
       "stream": "stdout",
       "text": [
        "\n",
        "urllib(mine) sleeping to throttle requests"
       ]
      },
      {
       "output_type": "stream",
       "stream": "stdout",
       "text": [
        "\n",
        "urllib(mine) sleeping to throttle requests"
       ]
      },
      {
       "output_type": "stream",
       "stream": "stdout",
       "text": [
        "\n",
        "urllib(mine) sleeping to throttle requests"
       ]
      },
      {
       "output_type": "stream",
       "stream": "stdout",
       "text": [
        "\n",
        "urllib(mine) sleeping to throttle requests"
       ]
      },
      {
       "output_type": "stream",
       "stream": "stdout",
       "text": [
        "\n",
        "urllib(mine) sleeping to throttle requests"
       ]
      },
      {
       "output_type": "stream",
       "stream": "stdout",
       "text": [
        "\n",
        "urllib(mine) sleeping to throttle requests"
       ]
      },
      {
       "output_type": "stream",
       "stream": "stdout",
       "text": [
        "\n",
        "--------------------------------------"
       ]
      },
      {
       "output_type": "stream",
       "stream": "stdout",
       "text": [
        "\n",
        "Starting friend: X7z9epYPzj0OLrtYP-8I1w\n",
        "--------------------------------------\n",
        "urllib(mine) sleeping to throttle requests\n",
        "urllib(mine) sleeping to throttle requests"
       ]
      },
      {
       "output_type": "stream",
       "stream": "stdout",
       "text": [
        "\n",
        "urllib(mine) sleeping to throttle requests"
       ]
      },
      {
       "output_type": "stream",
       "stream": "stdout",
       "text": [
        "\n",
        "urllib(mine) sleeping to throttle requests"
       ]
      },
      {
       "output_type": "stream",
       "stream": "stdout",
       "text": [
        "\n",
        "urllib(mine) sleeping to throttle requests"
       ]
      },
      {
       "output_type": "stream",
       "stream": "stdout",
       "text": [
        "\n",
        "urllib(mine) sleeping to throttle requests"
       ]
      },
      {
       "output_type": "stream",
       "stream": "stdout",
       "text": [
        "\n",
        "urllib(mine) sleeping to throttle requests"
       ]
      },
      {
       "output_type": "stream",
       "stream": "stdout",
       "text": [
        "\n",
        "urllib(mine) sleeping to throttle requests"
       ]
      },
      {
       "output_type": "stream",
       "stream": "stdout",
       "text": [
        "\n",
        "urllib(mine) sleeping to throttle requests"
       ]
      },
      {
       "output_type": "stream",
       "stream": "stdout",
       "text": [
        "\n",
        "urllib(mine) sleeping to throttle requests"
       ]
      },
      {
       "output_type": "stream",
       "stream": "stdout",
       "text": [
        "\n",
        "urllib(mine) sleeping to throttle requests"
       ]
      },
      {
       "output_type": "stream",
       "stream": "stdout",
       "text": [
        "\n",
        "urllib(mine) sleeping to throttle requests"
       ]
      },
      {
       "output_type": "stream",
       "stream": "stdout",
       "text": [
        "\n",
        "urllib(mine) sleeping to throttle requests"
       ]
      },
      {
       "output_type": "stream",
       "stream": "stdout",
       "text": [
        "\n",
        "urllib(mine) sleeping to throttle requests"
       ]
      },
      {
       "output_type": "stream",
       "stream": "stdout",
       "text": [
        "\n",
        "urllib(mine) sleeping to throttle requests"
       ]
      },
      {
       "output_type": "stream",
       "stream": "stdout",
       "text": [
        "\n",
        "urllib(mine) sleeping to throttle requests"
       ]
      },
      {
       "output_type": "stream",
       "stream": "stdout",
       "text": [
        "\n",
        "urllib(mine) sleeping to throttle requests"
       ]
      },
      {
       "output_type": "stream",
       "stream": "stdout",
       "text": [
        "\n",
        "urllib(mine) sleeping to throttle requests"
       ]
      },
      {
       "output_type": "stream",
       "stream": "stdout",
       "text": [
        "\n",
        "urllib(mine) sleeping to throttle requests"
       ]
      },
      {
       "output_type": "stream",
       "stream": "stdout",
       "text": [
        "\n",
        "urllib(mine) sleeping to throttle requests"
       ]
      },
      {
       "output_type": "stream",
       "stream": "stdout",
       "text": [
        "\n",
        "urllib(mine) sleeping to throttle requests"
       ]
      },
      {
       "output_type": "stream",
       "stream": "stdout",
       "text": [
        "\n",
        "urllib(mine) sleeping to throttle requests"
       ]
      },
      {
       "output_type": "stream",
       "stream": "stdout",
       "text": [
        "\n",
        "urllib(mine) sleeping to throttle requests"
       ]
      },
      {
       "output_type": "stream",
       "stream": "stdout",
       "text": [
        "\n",
        "urllib(mine) sleeping to throttle requests"
       ]
      },
      {
       "output_type": "stream",
       "stream": "stdout",
       "text": [
        "\n",
        "urllib(mine) sleeping to throttle requests"
       ]
      },
      {
       "output_type": "stream",
       "stream": "stdout",
       "text": [
        "\n",
        "urllib(mine) sleeping to throttle requests"
       ]
      },
      {
       "output_type": "stream",
       "stream": "stdout",
       "text": [
        "\n",
        "--------------------------------------"
       ]
      },
      {
       "output_type": "stream",
       "stream": "stdout",
       "text": [
        "\n",
        "Starting friend: 7yRfp9XkcvzUcIjd36ixEA\n",
        "--------------------------------------\n",
        "urllib(mine) sleeping to throttle requests\n",
        "urllib(mine) sleeping to throttle requests"
       ]
      },
      {
       "output_type": "stream",
       "stream": "stdout",
       "text": [
        "\n",
        "urllib(mine) sleeping to throttle requests"
       ]
      },
      {
       "output_type": "stream",
       "stream": "stdout",
       "text": [
        "\n",
        "urllib(mine) sleeping to throttle requests"
       ]
      },
      {
       "output_type": "stream",
       "stream": "stdout",
       "text": [
        "\n",
        "--------------------------------------"
       ]
      },
      {
       "output_type": "stream",
       "stream": "stdout",
       "text": [
        "\n",
        "Starting friend: F4My7n5_jyzW99WqekxNqA\n",
        "--------------------------------------\n",
        "urllib(mine) sleeping to throttle requests\n",
        "--------------------------------------"
       ]
      },
      {
       "output_type": "stream",
       "stream": "stdout",
       "text": [
        "\n",
        "Starting friend: 2-A4HMd38NioUmylLFTqbA\n",
        "--------------------------------------\n",
        "urllib(mine) sleeping to throttle requests\n",
        "urllib(mine) sleeping to throttle requests"
       ]
      },
      {
       "output_type": "stream",
       "stream": "stdout",
       "text": [
        "\n",
        "urllib(mine) sleeping to throttle requests"
       ]
      },
      {
       "output_type": "stream",
       "stream": "stdout",
       "text": [
        "\n",
        "urllib(mine) sleeping to throttle requests"
       ]
      },
      {
       "output_type": "stream",
       "stream": "stdout",
       "text": [
        "\n",
        "urllib(mine) sleeping to throttle requests"
       ]
      },
      {
       "output_type": "stream",
       "stream": "stdout",
       "text": [
        "\n",
        "urllib(mine) sleeping to throttle requests"
       ]
      },
      {
       "output_type": "stream",
       "stream": "stdout",
       "text": [
        "\n",
        "urllib(mine) sleeping to throttle requests"
       ]
      },
      {
       "output_type": "stream",
       "stream": "stdout",
       "text": [
        "\n",
        "urllib(mine) sleeping to throttle requests"
       ]
      },
      {
       "output_type": "stream",
       "stream": "stdout",
       "text": [
        "\n",
        "urllib(mine) sleeping to throttle requests"
       ]
      },
      {
       "output_type": "stream",
       "stream": "stdout",
       "text": [
        "\n",
        "urllib(mine) sleeping to throttle requests"
       ]
      },
      {
       "output_type": "stream",
       "stream": "stdout",
       "text": [
        "\n",
        "urllib(mine) sleeping to throttle requests"
       ]
      },
      {
       "output_type": "stream",
       "stream": "stdout",
       "text": [
        "\n",
        "urllib(mine) sleeping to throttle requests"
       ]
      },
      {
       "output_type": "stream",
       "stream": "stdout",
       "text": [
        "\n",
        "urllib(mine) sleeping to throttle requests"
       ]
      },
      {
       "output_type": "stream",
       "stream": "stdout",
       "text": [
        "\n",
        "urllib(mine) sleeping to throttle requests"
       ]
      },
      {
       "output_type": "stream",
       "stream": "stdout",
       "text": [
        "\n",
        "--------------------------------------"
       ]
      },
      {
       "output_type": "stream",
       "stream": "stdout",
       "text": [
        "\n",
        "Starting friend: KEyEra-avhOXY09O39SnHQ\n",
        "--------------------------------------\n",
        "urllib(mine) sleeping to throttle requests\n",
        "--------------------------------------"
       ]
      },
      {
       "output_type": "stream",
       "stream": "stdout",
       "text": [
        "\n",
        "Starting friend: 5V93fLmgK5mUyFpITrHMOw\n",
        "--------------------------------------\n",
        "urllib(mine) sleeping to throttle requests\n",
        "urllib(mine) sleeping to throttle requests"
       ]
      },
      {
       "output_type": "stream",
       "stream": "stdout",
       "text": [
        "\n",
        "urllib(mine) sleeping to throttle requests"
       ]
      },
      {
       "output_type": "stream",
       "stream": "stdout",
       "text": [
        "\n",
        "urllib(mine) sleeping to throttle requests"
       ]
      },
      {
       "output_type": "stream",
       "stream": "stdout",
       "text": [
        "\n",
        "urllib(mine) sleeping to throttle requests"
       ]
      },
      {
       "output_type": "stream",
       "stream": "stdout",
       "text": [
        "\n",
        "urllib(mine) sleeping to throttle requests"
       ]
      },
      {
       "output_type": "stream",
       "stream": "stdout",
       "text": [
        "\n",
        "urllib(mine) sleeping to throttle requests"
       ]
      },
      {
       "output_type": "stream",
       "stream": "stdout",
       "text": [
        "\n",
        "--------------------------------------"
       ]
      },
      {
       "output_type": "stream",
       "stream": "stdout",
       "text": [
        "\n",
        "Starting friend: ngdP2MGufNnMrX90KumO1g\n",
        "--------------------------------------\n",
        "urllib(mine) sleeping to throttle requests\n",
        "urllib(mine) sleeping to throttle requests"
       ]
      },
      {
       "output_type": "stream",
       "stream": "stdout",
       "text": [
        "\n",
        "urllib(mine) sleeping to throttle requests"
       ]
      },
      {
       "output_type": "stream",
       "stream": "stdout",
       "text": [
        "\n",
        "urllib(mine) sleeping to throttle requests"
       ]
      },
      {
       "output_type": "stream",
       "stream": "stdout",
       "text": [
        "\n",
        "--------------------------------------"
       ]
      },
      {
       "output_type": "stream",
       "stream": "stdout",
       "text": [
        "\n",
        "Starting friend: bNQ-wOd_hQwg_T7v3Rx9lQ\n",
        "--------------------------------------\n",
        "urllib(mine) sleeping to throttle requests\n",
        "urllib(mine) sleeping to throttle requests"
       ]
      },
      {
       "output_type": "stream",
       "stream": "stdout",
       "text": [
        "\n",
        "urllib(mine) sleeping to throttle requests"
       ]
      },
      {
       "output_type": "stream",
       "stream": "stdout",
       "text": [
        "\n",
        "urllib(mine) sleeping to throttle requests"
       ]
      },
      {
       "output_type": "stream",
       "stream": "stdout",
       "text": [
        "\n",
        "--------------------------------------"
       ]
      },
      {
       "output_type": "stream",
       "stream": "stdout",
       "text": [
        "\n",
        "Starting friend: KT9-Emtiqng5VDgYy9oF9w\n",
        "--------------------------------------\n",
        "urllib(mine) sleeping to throttle requests\n",
        "urllib(mine) sleeping to throttle requests"
       ]
      },
      {
       "output_type": "stream",
       "stream": "stdout",
       "text": [
        "\n",
        "urllib(mine) sleeping to throttle requests"
       ]
      },
      {
       "output_type": "stream",
       "stream": "stdout",
       "text": [
        "\n",
        "urllib(mine) sleeping to throttle requests"
       ]
      },
      {
       "output_type": "stream",
       "stream": "stdout",
       "text": [
        "\n",
        "urllib(mine) sleeping to throttle requests"
       ]
      },
      {
       "output_type": "stream",
       "stream": "stdout",
       "text": [
        "\n",
        "urllib(mine) sleeping to throttle requests"
       ]
      },
      {
       "output_type": "stream",
       "stream": "stdout",
       "text": [
        "\n",
        "urllib(mine) sleeping to throttle requests"
       ]
      },
      {
       "output_type": "stream",
       "stream": "stdout",
       "text": [
        "\n",
        "urllib(mine) sleeping to throttle requests"
       ]
      },
      {
       "output_type": "stream",
       "stream": "stdout",
       "text": [
        "\n",
        "urllib(mine) sleeping to throttle requests"
       ]
      },
      {
       "output_type": "stream",
       "stream": "stdout",
       "text": [
        "\n",
        "urllib(mine) sleeping to throttle requests"
       ]
      },
      {
       "output_type": "stream",
       "stream": "stdout",
       "text": [
        "\n",
        "urllib(mine) sleeping to throttle requests"
       ]
      },
      {
       "output_type": "stream",
       "stream": "stdout",
       "text": [
        "\n",
        "--------------------------------------"
       ]
      },
      {
       "output_type": "stream",
       "stream": "stdout",
       "text": [
        "\n",
        "Starting friend: wkttdVkt1yr8fiQcE-BNbQ\n",
        "--------------------------------------\n",
        "urllib(mine) sleeping to throttle requests\n",
        "urllib(mine) sleeping to throttle requests"
       ]
      },
      {
       "output_type": "stream",
       "stream": "stdout",
       "text": [
        "\n",
        "urllib(mine) sleeping to throttle requests"
       ]
      },
      {
       "output_type": "stream",
       "stream": "stdout",
       "text": [
        "\n",
        "urllib(mine) sleeping to throttle requests"
       ]
      },
      {
       "output_type": "stream",
       "stream": "stdout",
       "text": [
        "\n",
        "urllib(mine) sleeping to throttle requests"
       ]
      },
      {
       "output_type": "stream",
       "stream": "stdout",
       "text": [
        "\n",
        "urllib(mine) sleeping to throttle requests"
       ]
      },
      {
       "output_type": "stream",
       "stream": "stdout",
       "text": [
        "\n",
        "--------------------------------------"
       ]
      },
      {
       "output_type": "stream",
       "stream": "stdout",
       "text": [
        "\n",
        "Starting friend: ts6h0PXkJ3VrhRbYEeTiyg\n",
        "--------------------------------------\n",
        "urllib(mine) sleeping to throttle requests\n",
        "urllib(mine) sleeping to throttle requests"
       ]
      },
      {
       "output_type": "stream",
       "stream": "stdout",
       "text": [
        "\n",
        "--------------------------------------"
       ]
      },
      {
       "output_type": "stream",
       "stream": "stdout",
       "text": [
        "\n",
        "Starting friend: ZYZNcugF3xUEGyLOVGiZ0Q\n",
        "--------------------------------------\n",
        "urllib(mine) sleeping to throttle requests\n",
        "urllib(mine) sleeping to throttle requests"
       ]
      },
      {
       "output_type": "stream",
       "stream": "stdout",
       "text": [
        "\n",
        "urllib(mine) sleeping to throttle requests"
       ]
      },
      {
       "output_type": "stream",
       "stream": "stdout",
       "text": [
        "\n",
        "urllib(mine) sleeping to throttle requests"
       ]
      },
      {
       "output_type": "stream",
       "stream": "stdout",
       "text": [
        "\n",
        "urllib(mine) sleeping to throttle requests"
       ]
      },
      {
       "output_type": "stream",
       "stream": "stdout",
       "text": [
        "\n",
        "urllib(mine) sleeping to throttle requests"
       ]
      },
      {
       "output_type": "stream",
       "stream": "stdout",
       "text": [
        "\n",
        "urllib(mine) sleeping to throttle requests"
       ]
      },
      {
       "output_type": "stream",
       "stream": "stdout",
       "text": [
        "\n",
        "urllib(mine) sleeping to throttle requests"
       ]
      },
      {
       "output_type": "stream",
       "stream": "stdout",
       "text": [
        "\n",
        "urllib(mine) sleeping to throttle requests"
       ]
      },
      {
       "output_type": "stream",
       "stream": "stdout",
       "text": [
        "\n",
        "urllib(mine) sleeping to throttle requests"
       ]
      },
      {
       "output_type": "stream",
       "stream": "stdout",
       "text": [
        "\n",
        "urllib(mine) sleeping to throttle requests"
       ]
      },
      {
       "output_type": "stream",
       "stream": "stdout",
       "text": [
        "\n",
        "urllib(mine) sleeping to throttle requests"
       ]
      },
      {
       "output_type": "stream",
       "stream": "stdout",
       "text": [
        "\n",
        "urllib(mine) sleeping to throttle requests"
       ]
      },
      {
       "output_type": "stream",
       "stream": "stdout",
       "text": [
        "\n",
        "urllib(mine) sleeping to throttle requests"
       ]
      },
      {
       "output_type": "stream",
       "stream": "stdout",
       "text": [
        "\n",
        "urllib(mine) sleeping to throttle requests"
       ]
      },
      {
       "output_type": "stream",
       "stream": "stdout",
       "text": [
        "\n",
        "urllib(mine) sleeping to throttle requests"
       ]
      },
      {
       "output_type": "stream",
       "stream": "stdout",
       "text": [
        "\n",
        "urllib(mine) sleeping to throttle requests"
       ]
      },
      {
       "output_type": "stream",
       "stream": "stdout",
       "text": [
        "\n",
        "urllib(mine) sleeping to throttle requests"
       ]
      },
      {
       "output_type": "stream",
       "stream": "stdout",
       "text": [
        "\n",
        "urllib(mine) sleeping to throttle requests"
       ]
      },
      {
       "output_type": "stream",
       "stream": "stdout",
       "text": [
        "\n",
        "urllib(mine) sleeping to throttle requests"
       ]
      },
      {
       "output_type": "stream",
       "stream": "stdout",
       "text": [
        "\n",
        "urllib(mine) sleeping to throttle requests"
       ]
      },
      {
       "output_type": "stream",
       "stream": "stdout",
       "text": [
        "\n",
        "urllib(mine) sleeping to throttle requests"
       ]
      },
      {
       "output_type": "stream",
       "stream": "stdout",
       "text": [
        "\n",
        "urllib(mine) sleeping to throttle requests"
       ]
      },
      {
       "output_type": "stream",
       "stream": "stdout",
       "text": [
        "\n",
        "urllib(mine) sleeping to throttle requests"
       ]
      },
      {
       "output_type": "stream",
       "stream": "stdout",
       "text": [
        "\n",
        "urllib(mine) sleeping to throttle requests"
       ]
      },
      {
       "output_type": "stream",
       "stream": "stdout",
       "text": [
        "\n",
        "urllib(mine) sleeping to throttle requests"
       ]
      },
      {
       "output_type": "stream",
       "stream": "stdout",
       "text": [
        "\n",
        "urllib(mine) sleeping to throttle requests"
       ]
      },
      {
       "output_type": "stream",
       "stream": "stdout",
       "text": [
        "\n",
        "urllib(mine) sleeping to throttle requests"
       ]
      },
      {
       "output_type": "stream",
       "stream": "stdout",
       "text": [
        "\n",
        "urllib(mine) sleeping to throttle requests"
       ]
      },
      {
       "output_type": "stream",
       "stream": "stdout",
       "text": [
        "\n",
        "urllib(mine) sleeping to throttle requests"
       ]
      },
      {
       "output_type": "stream",
       "stream": "stdout",
       "text": [
        "\n",
        "urllib(mine) sleeping to throttle requests"
       ]
      },
      {
       "output_type": "stream",
       "stream": "stdout",
       "text": [
        "\n",
        "urllib(mine) sleeping to throttle requests"
       ]
      },
      {
       "output_type": "stream",
       "stream": "stdout",
       "text": [
        "\n",
        "urllib(mine) sleeping to throttle requests"
       ]
      },
      {
       "output_type": "stream",
       "stream": "stdout",
       "text": [
        "\n",
        "urllib(mine) sleeping to throttle requests"
       ]
      },
      {
       "output_type": "stream",
       "stream": "stdout",
       "text": [
        "\n",
        "urllib(mine) sleeping to throttle requests"
       ]
      },
      {
       "output_type": "stream",
       "stream": "stdout",
       "text": [
        "\n",
        "urllib(mine) sleeping to throttle requests"
       ]
      },
      {
       "output_type": "stream",
       "stream": "stdout",
       "text": [
        "\n",
        "urllib(mine) sleeping to throttle requests"
       ]
      },
      {
       "output_type": "stream",
       "stream": "stdout",
       "text": [
        "\n",
        "urllib(mine) sleeping to throttle requests"
       ]
      },
      {
       "output_type": "stream",
       "stream": "stdout",
       "text": [
        "\n",
        "urllib(mine) sleeping to throttle requests"
       ]
      },
      {
       "output_type": "stream",
       "stream": "stdout",
       "text": [
        "\n",
        "urllib(mine) sleeping to throttle requests"
       ]
      },
      {
       "output_type": "stream",
       "stream": "stdout",
       "text": [
        "\n",
        "urllib(mine) sleeping to throttle requests"
       ]
      },
      {
       "output_type": "stream",
       "stream": "stdout",
       "text": [
        "\n",
        "urllib(mine) sleeping to throttle requests"
       ]
      },
      {
       "output_type": "stream",
       "stream": "stdout",
       "text": [
        "\n",
        "urllib(mine) sleeping to throttle requests"
       ]
      },
      {
       "output_type": "stream",
       "stream": "stdout",
       "text": [
        "\n",
        "urllib(mine) sleeping to throttle requests"
       ]
      },
      {
       "output_type": "stream",
       "stream": "stdout",
       "text": [
        "\n",
        "urllib(mine) sleeping to throttle requests"
       ]
      },
      {
       "output_type": "stream",
       "stream": "stdout",
       "text": [
        "\n",
        "urllib(mine) sleeping to throttle requests"
       ]
      },
      {
       "output_type": "stream",
       "stream": "stdout",
       "text": [
        "\n",
        "urllib(mine) sleeping to throttle requests"
       ]
      },
      {
       "output_type": "stream",
       "stream": "stdout",
       "text": [
        "\n",
        "urllib(mine) sleeping to throttle requests"
       ]
      },
      {
       "output_type": "stream",
       "stream": "stdout",
       "text": [
        "\n",
        "urllib(mine) sleeping to throttle requests"
       ]
      },
      {
       "output_type": "stream",
       "stream": "stdout",
       "text": [
        "\n",
        "urllib(mine) sleeping to throttle requests"
       ]
      },
      {
       "output_type": "stream",
       "stream": "stdout",
       "text": [
        "\n",
        "urllib(mine) sleeping to throttle requests"
       ]
      },
      {
       "output_type": "stream",
       "stream": "stdout",
       "text": [
        "\n",
        "urllib(mine) sleeping to throttle requests"
       ]
      },
      {
       "output_type": "stream",
       "stream": "stdout",
       "text": [
        "\n",
        "urllib(mine) sleeping to throttle requests"
       ]
      },
      {
       "output_type": "stream",
       "stream": "stdout",
       "text": [
        "\n",
        "urllib(mine) sleeping to throttle requests"
       ]
      },
      {
       "output_type": "stream",
       "stream": "stdout",
       "text": [
        "\n",
        "urllib(mine) sleeping to throttle requests"
       ]
      },
      {
       "output_type": "stream",
       "stream": "stdout",
       "text": [
        "\n",
        "urllib(mine) sleeping to throttle requests"
       ]
      },
      {
       "output_type": "stream",
       "stream": "stdout",
       "text": [
        "\n",
        "urllib(mine) sleeping to throttle requests"
       ]
      },
      {
       "output_type": "stream",
       "stream": "stdout",
       "text": [
        "\n",
        "urllib(mine) sleeping to throttle requests"
       ]
      },
      {
       "output_type": "stream",
       "stream": "stdout",
       "text": [
        "\n",
        "urllib(mine) sleeping to throttle requests"
       ]
      },
      {
       "output_type": "stream",
       "stream": "stdout",
       "text": [
        "\n",
        "urllib(mine) sleeping to throttle requests"
       ]
      },
      {
       "output_type": "stream",
       "stream": "stdout",
       "text": [
        "\n",
        "urllib(mine) sleeping to throttle requests"
       ]
      },
      {
       "output_type": "stream",
       "stream": "stdout",
       "text": [
        "\n",
        "urllib(mine) sleeping to throttle requests"
       ]
      },
      {
       "output_type": "stream",
       "stream": "stdout",
       "text": [
        "\n",
        "urllib(mine) sleeping to throttle requests"
       ]
      },
      {
       "output_type": "stream",
       "stream": "stdout",
       "text": [
        "\n",
        "urllib(mine) sleeping to throttle requests"
       ]
      },
      {
       "output_type": "stream",
       "stream": "stdout",
       "text": [
        "\n",
        "urllib(mine) sleeping to throttle requests"
       ]
      },
      {
       "output_type": "stream",
       "stream": "stdout",
       "text": [
        "\n",
        "urllib(mine) sleeping to throttle requests"
       ]
      },
      {
       "output_type": "stream",
       "stream": "stdout",
       "text": [
        "\n",
        "urllib(mine) sleeping to throttle requests"
       ]
      },
      {
       "output_type": "stream",
       "stream": "stdout",
       "text": [
        "\n",
        "urllib(mine) sleeping to throttle requests"
       ]
      },
      {
       "output_type": "stream",
       "stream": "stdout",
       "text": [
        "\n",
        "urllib(mine) sleeping to throttle requests"
       ]
      },
      {
       "output_type": "stream",
       "stream": "stdout",
       "text": [
        "\n",
        "urllib(mine) sleeping to throttle requests"
       ]
      },
      {
       "output_type": "stream",
       "stream": "stdout",
       "text": [
        "\n",
        "urllib(mine) sleeping to throttle requests"
       ]
      },
      {
       "output_type": "stream",
       "stream": "stdout",
       "text": [
        "\n",
        "urllib(mine) sleeping to throttle requests"
       ]
      },
      {
       "output_type": "stream",
       "stream": "stdout",
       "text": [
        "\n",
        "urllib(mine) sleeping to throttle requests"
       ]
      },
      {
       "output_type": "stream",
       "stream": "stdout",
       "text": [
        "\n",
        "urllib(mine) sleeping to throttle requests"
       ]
      },
      {
       "output_type": "stream",
       "stream": "stdout",
       "text": [
        "\n",
        "urllib(mine) sleeping to throttle requests"
       ]
      },
      {
       "output_type": "stream",
       "stream": "stdout",
       "text": [
        "\n",
        "urllib(mine) sleeping to throttle requests"
       ]
      },
      {
       "output_type": "stream",
       "stream": "stdout",
       "text": [
        "\n",
        "urllib(mine) sleeping to throttle requests"
       ]
      },
      {
       "output_type": "stream",
       "stream": "stdout",
       "text": [
        "\n",
        "urllib(mine) sleeping to throttle requests"
       ]
      },
      {
       "output_type": "stream",
       "stream": "stdout",
       "text": [
        "\n",
        "urllib(mine) sleeping to throttle requests"
       ]
      },
      {
       "output_type": "stream",
       "stream": "stdout",
       "text": [
        "\n",
        "urllib(mine) sleeping to throttle requests"
       ]
      },
      {
       "output_type": "stream",
       "stream": "stdout",
       "text": [
        "\n",
        "urllib(mine) sleeping to throttle requests"
       ]
      },
      {
       "output_type": "stream",
       "stream": "stdout",
       "text": [
        "\n",
        "urllib(mine) sleeping to throttle requests"
       ]
      },
      {
       "output_type": "stream",
       "stream": "stdout",
       "text": [
        "\n",
        "urllib(mine) sleeping to throttle requests"
       ]
      },
      {
       "output_type": "stream",
       "stream": "stdout",
       "text": [
        "\n",
        "urllib(mine) sleeping to throttle requests"
       ]
      },
      {
       "output_type": "stream",
       "stream": "stdout",
       "text": [
        "\n",
        "urllib(mine) sleeping to throttle requests"
       ]
      },
      {
       "output_type": "stream",
       "stream": "stdout",
       "text": [
        "\n",
        "urllib(mine) sleeping to throttle requests"
       ]
      },
      {
       "output_type": "stream",
       "stream": "stdout",
       "text": [
        "\n",
        "urllib(mine) sleeping to throttle requests"
       ]
      },
      {
       "output_type": "stream",
       "stream": "stdout",
       "text": [
        "\n",
        "urllib(mine) sleeping to throttle requests"
       ]
      },
      {
       "output_type": "stream",
       "stream": "stdout",
       "text": [
        "\n",
        "urllib(mine) sleeping to throttle requests"
       ]
      },
      {
       "output_type": "stream",
       "stream": "stdout",
       "text": [
        "\n",
        "urllib(mine) sleeping to throttle requests"
       ]
      },
      {
       "output_type": "stream",
       "stream": "stdout",
       "text": [
        "\n",
        "urllib(mine) sleeping to throttle requests"
       ]
      },
      {
       "output_type": "stream",
       "stream": "stdout",
       "text": [
        "\n",
        "urllib(mine) sleeping to throttle requests"
       ]
      },
      {
       "output_type": "stream",
       "stream": "stdout",
       "text": [
        "\n",
        "urllib(mine) sleeping to throttle requests"
       ]
      },
      {
       "output_type": "stream",
       "stream": "stdout",
       "text": [
        "\n",
        "urllib(mine) sleeping to throttle requests"
       ]
      },
      {
       "output_type": "stream",
       "stream": "stdout",
       "text": [
        "\n",
        "urllib(mine) sleeping to throttle requests"
       ]
      },
      {
       "output_type": "stream",
       "stream": "stdout",
       "text": [
        "\n",
        "urllib(mine) sleeping to throttle requests"
       ]
      },
      {
       "output_type": "stream",
       "stream": "stdout",
       "text": [
        "\n",
        "urllib(mine) sleeping to throttle requests"
       ]
      },
      {
       "output_type": "stream",
       "stream": "stdout",
       "text": [
        "\n",
        "urllib(mine) sleeping to throttle requests"
       ]
      },
      {
       "output_type": "stream",
       "stream": "stdout",
       "text": [
        "\n",
        "urllib(mine) sleeping to throttle requests"
       ]
      },
      {
       "output_type": "stream",
       "stream": "stdout",
       "text": [
        "\n",
        "urllib(mine) sleeping to throttle requests"
       ]
      },
      {
       "output_type": "stream",
       "stream": "stdout",
       "text": [
        "\n",
        "urllib(mine) sleeping to throttle requests"
       ]
      },
      {
       "output_type": "stream",
       "stream": "stdout",
       "text": [
        "\n",
        "urllib(mine) sleeping to throttle requests"
       ]
      },
      {
       "output_type": "stream",
       "stream": "stdout",
       "text": [
        "\n",
        "urllib(mine) sleeping to throttle requests"
       ]
      },
      {
       "output_type": "stream",
       "stream": "stdout",
       "text": [
        "\n",
        "urllib(mine) sleeping to throttle requests"
       ]
      },
      {
       "output_type": "stream",
       "stream": "stdout",
       "text": [
        "\n",
        "urllib(mine) sleeping to throttle requests"
       ]
      },
      {
       "output_type": "stream",
       "stream": "stdout",
       "text": [
        "\n",
        "urllib(mine) sleeping to throttle requests"
       ]
      },
      {
       "output_type": "stream",
       "stream": "stdout",
       "text": [
        "\n",
        "urllib(mine) sleeping to throttle requests"
       ]
      },
      {
       "output_type": "stream",
       "stream": "stdout",
       "text": [
        "\n",
        "urllib(mine) sleeping to throttle requests"
       ]
      },
      {
       "output_type": "stream",
       "stream": "stdout",
       "text": [
        "\n",
        "urllib(mine) sleeping to throttle requests"
       ]
      },
      {
       "output_type": "stream",
       "stream": "stdout",
       "text": [
        "\n",
        "urllib(mine) sleeping to throttle requests"
       ]
      },
      {
       "output_type": "stream",
       "stream": "stdout",
       "text": [
        "\n",
        "urllib(mine) sleeping to throttle requests"
       ]
      },
      {
       "output_type": "stream",
       "stream": "stdout",
       "text": [
        "\n",
        "urllib(mine) sleeping to throttle requests"
       ]
      },
      {
       "output_type": "stream",
       "stream": "stdout",
       "text": [
        "\n",
        "urllib(mine) sleeping to throttle requests"
       ]
      },
      {
       "output_type": "stream",
       "stream": "stdout",
       "text": [
        "\n",
        "urllib(mine) sleeping to throttle requests"
       ]
      },
      {
       "output_type": "stream",
       "stream": "stdout",
       "text": [
        "\n",
        "urllib(mine) sleeping to throttle requests"
       ]
      },
      {
       "output_type": "stream",
       "stream": "stdout",
       "text": [
        "\n",
        "urllib(mine) sleeping to throttle requests"
       ]
      },
      {
       "output_type": "stream",
       "stream": "stdout",
       "text": [
        "\n",
        "urllib(mine) sleeping to throttle requests"
       ]
      },
      {
       "output_type": "stream",
       "stream": "stdout",
       "text": [
        "\n",
        "urllib(mine) sleeping to throttle requests"
       ]
      },
      {
       "output_type": "stream",
       "stream": "stdout",
       "text": [
        "\n",
        "urllib(mine) sleeping to throttle requests"
       ]
      },
      {
       "output_type": "stream",
       "stream": "stdout",
       "text": [
        "\n",
        "urllib(mine) sleeping to throttle requests"
       ]
      },
      {
       "output_type": "stream",
       "stream": "stdout",
       "text": [
        "\n",
        "urllib(mine) sleeping to throttle requests"
       ]
      },
      {
       "output_type": "stream",
       "stream": "stdout",
       "text": [
        "\n",
        "urllib(mine) sleeping to throttle requests"
       ]
      },
      {
       "output_type": "stream",
       "stream": "stdout",
       "text": [
        "\n",
        "urllib(mine) sleeping to throttle requests"
       ]
      },
      {
       "output_type": "stream",
       "stream": "stdout",
       "text": [
        "\n",
        "urllib(mine) sleeping to throttle requests"
       ]
      },
      {
       "output_type": "stream",
       "stream": "stdout",
       "text": [
        "\n",
        "urllib(mine) sleeping to throttle requests"
       ]
      },
      {
       "output_type": "stream",
       "stream": "stdout",
       "text": [
        "\n",
        "urllib(mine) sleeping to throttle requests"
       ]
      },
      {
       "output_type": "stream",
       "stream": "stdout",
       "text": [
        "\n",
        "urllib(mine) sleeping to throttle requests"
       ]
      },
      {
       "output_type": "stream",
       "stream": "stdout",
       "text": [
        "\n",
        "urllib(mine) sleeping to throttle requests"
       ]
      },
      {
       "output_type": "stream",
       "stream": "stdout",
       "text": [
        "\n",
        "urllib(mine) sleeping to throttle requests"
       ]
      },
      {
       "output_type": "stream",
       "stream": "stdout",
       "text": [
        "\n",
        "urllib(mine) sleeping to throttle requests"
       ]
      },
      {
       "output_type": "stream",
       "stream": "stdout",
       "text": [
        "\n",
        "urllib(mine) sleeping to throttle requests"
       ]
      },
      {
       "output_type": "stream",
       "stream": "stdout",
       "text": [
        "\n",
        "urllib(mine) sleeping to throttle requests"
       ]
      },
      {
       "output_type": "stream",
       "stream": "stdout",
       "text": [
        "\n",
        "urllib(mine) sleeping to throttle requests"
       ]
      },
      {
       "output_type": "stream",
       "stream": "stdout",
       "text": [
        "\n",
        "urllib(mine) sleeping to throttle requests"
       ]
      },
      {
       "output_type": "stream",
       "stream": "stdout",
       "text": [
        "\n",
        "urllib(mine) sleeping to throttle requests"
       ]
      },
      {
       "output_type": "stream",
       "stream": "stdout",
       "text": [
        "\n",
        "urllib(mine) sleeping to throttle requests"
       ]
      },
      {
       "output_type": "stream",
       "stream": "stdout",
       "text": [
        "\n",
        "urllib(mine) sleeping to throttle requests"
       ]
      },
      {
       "output_type": "stream",
       "stream": "stdout",
       "text": [
        "\n",
        "urllib(mine) sleeping to throttle requests"
       ]
      },
      {
       "output_type": "stream",
       "stream": "stdout",
       "text": [
        "\n",
        "urllib(mine) sleeping to throttle requests"
       ]
      },
      {
       "output_type": "stream",
       "stream": "stdout",
       "text": [
        "\n",
        "urllib(mine) sleeping to throttle requests"
       ]
      },
      {
       "output_type": "stream",
       "stream": "stdout",
       "text": [
        "\n",
        "urllib(mine) sleeping to throttle requests"
       ]
      },
      {
       "output_type": "stream",
       "stream": "stdout",
       "text": [
        "\n",
        "urllib(mine) sleeping to throttle requests"
       ]
      },
      {
       "output_type": "stream",
       "stream": "stdout",
       "text": [
        "\n",
        "urllib(mine) sleeping to throttle requests"
       ]
      },
      {
       "output_type": "stream",
       "stream": "stdout",
       "text": [
        "\n",
        "urllib(mine) sleeping to throttle requests"
       ]
      },
      {
       "output_type": "stream",
       "stream": "stdout",
       "text": [
        "\n",
        "urllib(mine) sleeping to throttle requests"
       ]
      },
      {
       "output_type": "stream",
       "stream": "stdout",
       "text": [
        "\n",
        "urllib(mine) sleeping to throttle requests"
       ]
      },
      {
       "output_type": "stream",
       "stream": "stdout",
       "text": [
        "\n",
        "urllib(mine) sleeping to throttle requests"
       ]
      },
      {
       "output_type": "stream",
       "stream": "stdout",
       "text": [
        "\n",
        "urllib(mine) sleeping to throttle requests"
       ]
      },
      {
       "output_type": "stream",
       "stream": "stdout",
       "text": [
        "\n",
        "urllib(mine) sleeping to throttle requests"
       ]
      },
      {
       "output_type": "stream",
       "stream": "stdout",
       "text": [
        "\n",
        "urllib(mine) sleeping to throttle requests"
       ]
      },
      {
       "output_type": "stream",
       "stream": "stdout",
       "text": [
        "\n",
        "urllib(mine) sleeping to throttle requests"
       ]
      },
      {
       "output_type": "stream",
       "stream": "stdout",
       "text": [
        "\n",
        "urllib(mine) sleeping to throttle requests"
       ]
      },
      {
       "output_type": "stream",
       "stream": "stdout",
       "text": [
        "\n",
        "urllib(mine) sleeping to throttle requests"
       ]
      },
      {
       "output_type": "stream",
       "stream": "stdout",
       "text": [
        "\n",
        "urllib(mine) sleeping to throttle requests"
       ]
      },
      {
       "output_type": "stream",
       "stream": "stdout",
       "text": [
        "\n",
        "urllib(mine) sleeping to throttle requests"
       ]
      },
      {
       "output_type": "stream",
       "stream": "stdout",
       "text": [
        "\n",
        "urllib(mine) sleeping to throttle requests"
       ]
      },
      {
       "output_type": "stream",
       "stream": "stdout",
       "text": [
        "\n",
        "urllib(mine) sleeping to throttle requests"
       ]
      },
      {
       "output_type": "stream",
       "stream": "stdout",
       "text": [
        "\n",
        "urllib(mine) sleeping to throttle requests"
       ]
      },
      {
       "output_type": "stream",
       "stream": "stdout",
       "text": [
        "\n",
        "urllib(mine) sleeping to throttle requests"
       ]
      },
      {
       "output_type": "stream",
       "stream": "stdout",
       "text": [
        "\n",
        "urllib(mine) sleeping to throttle requests"
       ]
      },
      {
       "output_type": "stream",
       "stream": "stdout",
       "text": [
        "\n",
        "urllib(mine) sleeping to throttle requests"
       ]
      },
      {
       "output_type": "stream",
       "stream": "stdout",
       "text": [
        "\n",
        "urllib(mine) sleeping to throttle requests"
       ]
      },
      {
       "output_type": "stream",
       "stream": "stdout",
       "text": [
        "\n",
        "urllib(mine) sleeping to throttle requests"
       ]
      },
      {
       "output_type": "stream",
       "stream": "stdout",
       "text": [
        "\n",
        "urllib(mine) sleeping to throttle requests"
       ]
      },
      {
       "output_type": "stream",
       "stream": "stdout",
       "text": [
        "\n",
        "urllib(mine) sleeping to throttle requests"
       ]
      },
      {
       "output_type": "stream",
       "stream": "stdout",
       "text": [
        "\n",
        "urllib(mine) sleeping to throttle requests"
       ]
      },
      {
       "output_type": "stream",
       "stream": "stdout",
       "text": [
        "\n",
        "urllib(mine) sleeping to throttle requests"
       ]
      },
      {
       "output_type": "stream",
       "stream": "stdout",
       "text": [
        "\n",
        "urllib(mine) sleeping to throttle requests"
       ]
      },
      {
       "output_type": "stream",
       "stream": "stdout",
       "text": [
        "\n",
        "urllib(mine) sleeping to throttle requests"
       ]
      },
      {
       "output_type": "stream",
       "stream": "stdout",
       "text": [
        "\n",
        "urllib(mine) sleeping to throttle requests"
       ]
      },
      {
       "output_type": "stream",
       "stream": "stdout",
       "text": [
        "\n",
        "urllib(mine) sleeping to throttle requests"
       ]
      },
      {
       "output_type": "stream",
       "stream": "stdout",
       "text": [
        "\n",
        "urllib(mine) sleeping to throttle requests"
       ]
      },
      {
       "output_type": "stream",
       "stream": "stdout",
       "text": [
        "\n",
        "urllib(mine) sleeping to throttle requests"
       ]
      },
      {
       "output_type": "stream",
       "stream": "stdout",
       "text": [
        "\n",
        "urllib(mine) sleeping to throttle requests"
       ]
      },
      {
       "output_type": "stream",
       "stream": "stdout",
       "text": [
        "\n",
        "urllib(mine) sleeping to throttle requests"
       ]
      },
      {
       "output_type": "stream",
       "stream": "stdout",
       "text": [
        "\n",
        "urllib(mine) sleeping to throttle requests"
       ]
      },
      {
       "output_type": "stream",
       "stream": "stdout",
       "text": [
        "\n",
        "urllib(mine) sleeping to throttle requests"
       ]
      },
      {
       "output_type": "stream",
       "stream": "stdout",
       "text": [
        "\n",
        "urllib(mine) sleeping to throttle requests"
       ]
      },
      {
       "output_type": "stream",
       "stream": "stdout",
       "text": [
        "\n",
        "urllib(mine) sleeping to throttle requests"
       ]
      },
      {
       "output_type": "stream",
       "stream": "stdout",
       "text": [
        "\n",
        "urllib(mine) sleeping to throttle requests"
       ]
      },
      {
       "output_type": "stream",
       "stream": "stdout",
       "text": [
        "\n",
        "urllib(mine) sleeping to throttle requests"
       ]
      },
      {
       "output_type": "stream",
       "stream": "stdout",
       "text": [
        "\n",
        "--------------------------------------"
       ]
      },
      {
       "output_type": "stream",
       "stream": "stdout",
       "text": [
        "\n",
        "Starting friend: CHyEp-qe2vaqwlh6SBjJPg\n",
        "--------------------------------------\n",
        "urllib(mine) sleeping to throttle requests\n",
        "urllib(mine) sleeping to throttle requests"
       ]
      },
      {
       "output_type": "stream",
       "stream": "stdout",
       "text": [
        "\n",
        "urllib(mine) sleeping to throttle requests"
       ]
      },
      {
       "output_type": "stream",
       "stream": "stdout",
       "text": [
        "\n",
        "--------------------------------------"
       ]
      },
      {
       "output_type": "stream",
       "stream": "stdout",
       "text": [
        "\n",
        "Starting friend: PtyKfeNHzDaQy4n1cyjBxw\n",
        "--------------------------------------\n",
        "urllib(mine) sleeping to throttle requests\n",
        "--------------------------------------"
       ]
      },
      {
       "output_type": "stream",
       "stream": "stdout",
       "text": [
        "\n",
        "Starting friend: eg0cwrodeKGLeLIDTSCXoA\n",
        "--------------------------------------\n",
        "urllib(mine) sleeping to throttle requests\n",
        "urllib(mine) sleeping to throttle requests"
       ]
      },
      {
       "output_type": "stream",
       "stream": "stdout",
       "text": [
        "\n",
        "urllib(mine) sleeping to throttle requests"
       ]
      },
      {
       "output_type": "stream",
       "stream": "stdout",
       "text": [
        "\n",
        "urllib(mine) sleeping to throttle requests"
       ]
      },
      {
       "output_type": "stream",
       "stream": "stdout",
       "text": [
        "\n",
        "urllib(mine) sleeping to throttle requests"
       ]
      },
      {
       "output_type": "stream",
       "stream": "stdout",
       "text": [
        "\n",
        "urllib(mine) sleeping to throttle requests"
       ]
      },
      {
       "output_type": "stream",
       "stream": "stdout",
       "text": [
        "\n",
        "urllib(mine) sleeping to throttle requests"
       ]
      },
      {
       "output_type": "stream",
       "stream": "stdout",
       "text": [
        "\n",
        "urllib(mine) sleeping to throttle requests"
       ]
      },
      {
       "output_type": "stream",
       "stream": "stdout",
       "text": [
        "\n",
        "urllib(mine) sleeping to throttle requests"
       ]
      },
      {
       "output_type": "stream",
       "stream": "stdout",
       "text": [
        "\n",
        "urllib(mine) sleeping to throttle requests"
       ]
      },
      {
       "output_type": "stream",
       "stream": "stdout",
       "text": [
        "\n",
        "urllib(mine) sleeping to throttle requests"
       ]
      },
      {
       "output_type": "stream",
       "stream": "stdout",
       "text": [
        "\n",
        "urllib(mine) sleeping to throttle requests"
       ]
      },
      {
       "output_type": "stream",
       "stream": "stdout",
       "text": [
        "\n",
        "urllib(mine) sleeping to throttle requests"
       ]
      },
      {
       "output_type": "stream",
       "stream": "stdout",
       "text": [
        "\n",
        "urllib(mine) sleeping to throttle requests"
       ]
      },
      {
       "output_type": "stream",
       "stream": "stdout",
       "text": [
        "\n",
        "urllib(mine) sleeping to throttle requests"
       ]
      },
      {
       "output_type": "stream",
       "stream": "stdout",
       "text": [
        "\n",
        "urllib(mine) sleeping to throttle requests"
       ]
      },
      {
       "output_type": "stream",
       "stream": "stdout",
       "text": [
        "\n",
        "urllib(mine) sleeping to throttle requests"
       ]
      },
      {
       "output_type": "stream",
       "stream": "stdout",
       "text": [
        "\n",
        "--------------------------------------"
       ]
      },
      {
       "output_type": "stream",
       "stream": "stdout",
       "text": [
        "\n",
        "Starting friend: rGcj-byHUNxvDMf45TMWZg\n",
        "--------------------------------------\n",
        "urllib(mine) sleeping to throttle requests\n",
        "urllib(mine) sleeping to throttle requests"
       ]
      },
      {
       "output_type": "stream",
       "stream": "stdout",
       "text": [
        "\n",
        "--------------------------------------"
       ]
      },
      {
       "output_type": "stream",
       "stream": "stdout",
       "text": [
        "\n",
        "Starting friend: A-_s3pXP7Nx-D32wTkUwtw\n",
        "--------------------------------------\n",
        "urllib(mine) sleeping to throttle requests\n",
        "urllib(mine) sleeping to throttle requests"
       ]
      },
      {
       "output_type": "stream",
       "stream": "stdout",
       "text": [
        "\n",
        "--------------------------------------"
       ]
      },
      {
       "output_type": "stream",
       "stream": "stdout",
       "text": [
        "\n",
        "Starting friend: Y8z2Ri5z11wDzx9jY8Wk_w\n",
        "--------------------------------------\n",
        "urllib(mine) sleeping to throttle requests\n",
        "urllib(mine) sleeping to throttle requests"
       ]
      },
      {
       "output_type": "stream",
       "stream": "stdout",
       "text": [
        "\n",
        "urllib(mine) sleeping to throttle requests"
       ]
      },
      {
       "output_type": "stream",
       "stream": "stdout",
       "text": [
        "\n",
        "urllib(mine) sleeping to throttle requests"
       ]
      },
      {
       "output_type": "stream",
       "stream": "stdout",
       "text": [
        "\n",
        "--------------------------------------"
       ]
      },
      {
       "output_type": "stream",
       "stream": "stdout",
       "text": [
        "\n",
        "Starting friend: 8IYSvVDYh2pnJZFEzBPT9g\n",
        "--------------------------------------\n",
        "urllib(mine) sleeping to throttle requests\n",
        "--------------------------------------"
       ]
      },
      {
       "output_type": "stream",
       "stream": "stdout",
       "text": [
        "\n",
        "Starting friend: eUzFQF1V26Hg97EG_oMN6A\n",
        "--------------------------------------\n",
        "urllib(mine) sleeping to throttle requests\n",
        "urllib(mine) sleeping to throttle requests"
       ]
      },
      {
       "output_type": "stream",
       "stream": "stdout",
       "text": [
        "\n",
        "urllib(mine) sleeping to throttle requests"
       ]
      },
      {
       "output_type": "stream",
       "stream": "stdout",
       "text": [
        "\n",
        "urllib(mine) sleeping to throttle requests"
       ]
      },
      {
       "output_type": "stream",
       "stream": "stdout",
       "text": [
        "\n",
        "--------------------------------------"
       ]
      },
      {
       "output_type": "stream",
       "stream": "stdout",
       "text": [
        "\n",
        "Starting friend: 3x8ZM5KG8NPxMDAbRctWCw\n",
        "--------------------------------------\n",
        "urllib(mine) sleeping to throttle requests\n",
        "--------------------------------------"
       ]
      },
      {
       "output_type": "stream",
       "stream": "stdout",
       "text": [
        "\n",
        "Starting friend: mvK1pv-x0Z5rP4Hz9cWBWw\n",
        "--------------------------------------\n",
        "urllib(mine) sleeping to throttle requests\n",
        "urllib(mine) sleeping to throttle requests"
       ]
      },
      {
       "output_type": "stream",
       "stream": "stdout",
       "text": [
        "\n",
        "urllib(mine) sleeping to throttle requests"
       ]
      },
      {
       "output_type": "stream",
       "stream": "stdout",
       "text": [
        "\n",
        "urllib(mine) sleeping to throttle requests"
       ]
      },
      {
       "output_type": "stream",
       "stream": "stdout",
       "text": [
        "\n",
        "urllib(mine) sleeping to throttle requests"
       ]
      },
      {
       "output_type": "stream",
       "stream": "stdout",
       "text": [
        "\n",
        "urllib(mine) sleeping to throttle requests"
       ]
      },
      {
       "output_type": "stream",
       "stream": "stdout",
       "text": [
        "\n",
        "urllib(mine) sleeping to throttle requests"
       ]
      },
      {
       "output_type": "stream",
       "stream": "stdout",
       "text": [
        "\n",
        "urllib(mine) sleeping to throttle requests"
       ]
      },
      {
       "output_type": "stream",
       "stream": "stdout",
       "text": [
        "\n",
        "urllib(mine) sleeping to throttle requests"
       ]
      },
      {
       "output_type": "stream",
       "stream": "stdout",
       "text": [
        "\n",
        "urllib(mine) sleeping to throttle requests"
       ]
      },
      {
       "output_type": "stream",
       "stream": "stdout",
       "text": [
        "\n",
        "urllib(mine) sleeping to throttle requests"
       ]
      },
      {
       "output_type": "stream",
       "stream": "stdout",
       "text": [
        "\n",
        "urllib(mine) sleeping to throttle requests"
       ]
      },
      {
       "output_type": "stream",
       "stream": "stdout",
       "text": [
        "\n",
        "urllib(mine) sleeping to throttle requests"
       ]
      },
      {
       "output_type": "stream",
       "stream": "stdout",
       "text": [
        "\n",
        "urllib(mine) sleeping to throttle requests"
       ]
      },
      {
       "output_type": "stream",
       "stream": "stdout",
       "text": [
        "\n",
        "urllib(mine) sleeping to throttle requests"
       ]
      },
      {
       "output_type": "stream",
       "stream": "stdout",
       "text": [
        "\n",
        "urllib(mine) sleeping to throttle requests"
       ]
      },
      {
       "output_type": "stream",
       "stream": "stdout",
       "text": [
        "\n",
        "urllib(mine) sleeping to throttle requests"
       ]
      },
      {
       "output_type": "stream",
       "stream": "stdout",
       "text": [
        "\n",
        "urllib(mine) sleeping to throttle requests"
       ]
      },
      {
       "output_type": "stream",
       "stream": "stdout",
       "text": [
        "\n",
        "urllib(mine) sleeping to throttle requests"
       ]
      },
      {
       "output_type": "stream",
       "stream": "stdout",
       "text": [
        "\n",
        "urllib(mine) sleeping to throttle requests"
       ]
      },
      {
       "output_type": "stream",
       "stream": "stdout",
       "text": [
        "\n",
        "urllib(mine) sleeping to throttle requests"
       ]
      },
      {
       "output_type": "stream",
       "stream": "stdout",
       "text": [
        "\n",
        "urllib(mine) sleeping to throttle requests"
       ]
      },
      {
       "output_type": "stream",
       "stream": "stdout",
       "text": [
        "\n",
        "urllib(mine) sleeping to throttle requests"
       ]
      },
      {
       "output_type": "stream",
       "stream": "stdout",
       "text": [
        "\n",
        "urllib(mine) sleeping to throttle requests"
       ]
      },
      {
       "output_type": "stream",
       "stream": "stdout",
       "text": [
        "\n",
        "urllib(mine) sleeping to throttle requests"
       ]
      },
      {
       "output_type": "stream",
       "stream": "stdout",
       "text": [
        "\n",
        "urllib(mine) sleeping to throttle requests"
       ]
      },
      {
       "output_type": "stream",
       "stream": "stdout",
       "text": [
        "\n",
        "urllib(mine) sleeping to throttle requests"
       ]
      },
      {
       "output_type": "stream",
       "stream": "stdout",
       "text": [
        "\n",
        "urllib(mine) sleeping to throttle requests"
       ]
      },
      {
       "output_type": "stream",
       "stream": "stdout",
       "text": [
        "\n",
        "urllib(mine) sleeping to throttle requests"
       ]
      },
      {
       "output_type": "stream",
       "stream": "stdout",
       "text": [
        "\n",
        "urllib(mine) sleeping to throttle requests"
       ]
      },
      {
       "output_type": "stream",
       "stream": "stdout",
       "text": [
        "\n",
        "urllib(mine) sleeping to throttle requests"
       ]
      },
      {
       "output_type": "stream",
       "stream": "stdout",
       "text": [
        "\n",
        "urllib(mine) sleeping to throttle requests"
       ]
      },
      {
       "output_type": "stream",
       "stream": "stdout",
       "text": [
        "\n",
        "urllib(mine) sleeping to throttle requests"
       ]
      },
      {
       "output_type": "stream",
       "stream": "stdout",
       "text": [
        "\n",
        "urllib(mine) sleeping to throttle requests"
       ]
      },
      {
       "output_type": "stream",
       "stream": "stdout",
       "text": [
        "\n",
        "urllib(mine) sleeping to throttle requests"
       ]
      },
      {
       "output_type": "stream",
       "stream": "stdout",
       "text": [
        "\n",
        "urllib(mine) sleeping to throttle requests"
       ]
      },
      {
       "output_type": "stream",
       "stream": "stdout",
       "text": [
        "\n",
        "urllib(mine) sleeping to throttle requests"
       ]
      },
      {
       "output_type": "stream",
       "stream": "stdout",
       "text": [
        "\n",
        "urllib(mine) sleeping to throttle requests"
       ]
      },
      {
       "output_type": "stream",
       "stream": "stdout",
       "text": [
        "\n",
        "urllib(mine) sleeping to throttle requests"
       ]
      },
      {
       "output_type": "stream",
       "stream": "stdout",
       "text": [
        "\n",
        "urllib(mine) sleeping to throttle requests"
       ]
      },
      {
       "output_type": "stream",
       "stream": "stdout",
       "text": [
        "\n",
        "urllib(mine) sleeping to throttle requests"
       ]
      },
      {
       "output_type": "stream",
       "stream": "stdout",
       "text": [
        "\n",
        "urllib(mine) sleeping to throttle requests"
       ]
      },
      {
       "output_type": "stream",
       "stream": "stdout",
       "text": [
        "\n",
        "urllib(mine) sleeping to throttle requests"
       ]
      },
      {
       "output_type": "stream",
       "stream": "stdout",
       "text": [
        "\n",
        "urllib(mine) sleeping to throttle requests"
       ]
      },
      {
       "output_type": "stream",
       "stream": "stdout",
       "text": [
        "\n",
        "urllib(mine) sleeping to throttle requests"
       ]
      },
      {
       "output_type": "stream",
       "stream": "stdout",
       "text": [
        "\n",
        "urllib(mine) sleeping to throttle requests"
       ]
      },
      {
       "output_type": "stream",
       "stream": "stdout",
       "text": [
        "\n",
        "urllib(mine) sleeping to throttle requests"
       ]
      },
      {
       "output_type": "stream",
       "stream": "stdout",
       "text": [
        "\n",
        "urllib(mine) sleeping to throttle requests"
       ]
      },
      {
       "output_type": "stream",
       "stream": "stdout",
       "text": [
        "\n",
        "urllib(mine) sleeping to throttle requests"
       ]
      },
      {
       "output_type": "stream",
       "stream": "stdout",
       "text": [
        "\n",
        "urllib(mine) sleeping to throttle requests"
       ]
      },
      {
       "output_type": "stream",
       "stream": "stdout",
       "text": [
        "\n",
        "urllib(mine) sleeping to throttle requests"
       ]
      },
      {
       "output_type": "stream",
       "stream": "stdout",
       "text": [
        "\n",
        "urllib(mine) sleeping to throttle requests"
       ]
      },
      {
       "output_type": "stream",
       "stream": "stdout",
       "text": [
        "\n",
        "urllib(mine) sleeping to throttle requests"
       ]
      },
      {
       "output_type": "stream",
       "stream": "stdout",
       "text": [
        "\n",
        "urllib(mine) sleeping to throttle requests"
       ]
      },
      {
       "output_type": "stream",
       "stream": "stdout",
       "text": [
        "\n",
        "urllib(mine) sleeping to throttle requests"
       ]
      },
      {
       "output_type": "stream",
       "stream": "stdout",
       "text": [
        "\n",
        "urllib(mine) sleeping to throttle requests"
       ]
      },
      {
       "output_type": "stream",
       "stream": "stdout",
       "text": [
        "\n",
        "urllib(mine) sleeping to throttle requests"
       ]
      },
      {
       "output_type": "stream",
       "stream": "stdout",
       "text": [
        "\n",
        "urllib(mine) sleeping to throttle requests"
       ]
      },
      {
       "output_type": "stream",
       "stream": "stdout",
       "text": [
        "\n",
        "urllib(mine) sleeping to throttle requests"
       ]
      },
      {
       "output_type": "stream",
       "stream": "stdout",
       "text": [
        "\n",
        "urllib(mine) sleeping to throttle requests"
       ]
      },
      {
       "output_type": "stream",
       "stream": "stdout",
       "text": [
        "\n",
        "urllib(mine) sleeping to throttle requests"
       ]
      },
      {
       "output_type": "stream",
       "stream": "stdout",
       "text": [
        "\n",
        "urllib(mine) sleeping to throttle requests"
       ]
      },
      {
       "output_type": "stream",
       "stream": "stdout",
       "text": [
        "\n",
        "urllib(mine) sleeping to throttle requests"
       ]
      },
      {
       "output_type": "stream",
       "stream": "stdout",
       "text": [
        "\n",
        "urllib(mine) sleeping to throttle requests"
       ]
      },
      {
       "output_type": "stream",
       "stream": "stdout",
       "text": [
        "\n",
        "urllib(mine) sleeping to throttle requests"
       ]
      },
      {
       "output_type": "stream",
       "stream": "stdout",
       "text": [
        "\n",
        "urllib(mine) sleeping to throttle requests"
       ]
      },
      {
       "output_type": "stream",
       "stream": "stdout",
       "text": [
        "\n",
        "urllib(mine) sleeping to throttle requests"
       ]
      },
      {
       "output_type": "stream",
       "stream": "stdout",
       "text": [
        "\n",
        "urllib(mine) sleeping to throttle requests"
       ]
      },
      {
       "output_type": "stream",
       "stream": "stdout",
       "text": [
        "\n",
        "urllib(mine) sleeping to throttle requests"
       ]
      },
      {
       "output_type": "stream",
       "stream": "stdout",
       "text": [
        "\n",
        "urllib(mine) sleeping to throttle requests"
       ]
      },
      {
       "output_type": "stream",
       "stream": "stdout",
       "text": [
        "\n",
        "urllib(mine) sleeping to throttle requests"
       ]
      },
      {
       "output_type": "stream",
       "stream": "stdout",
       "text": [
        "\n",
        "urllib(mine) sleeping to throttle requests"
       ]
      },
      {
       "output_type": "stream",
       "stream": "stdout",
       "text": [
        "\n",
        "urllib(mine) sleeping to throttle requests"
       ]
      },
      {
       "output_type": "stream",
       "stream": "stdout",
       "text": [
        "\n",
        "urllib(mine) sleeping to throttle requests"
       ]
      },
      {
       "output_type": "stream",
       "stream": "stdout",
       "text": [
        "\n",
        "urllib(mine) sleeping to throttle requests"
       ]
      },
      {
       "output_type": "stream",
       "stream": "stdout",
       "text": [
        "\n",
        "urllib(mine) sleeping to throttle requests"
       ]
      },
      {
       "output_type": "stream",
       "stream": "stdout",
       "text": [
        "\n",
        "urllib(mine) sleeping to throttle requests"
       ]
      },
      {
       "output_type": "stream",
       "stream": "stdout",
       "text": [
        "\n",
        "urllib(mine) sleeping to throttle requests"
       ]
      },
      {
       "output_type": "stream",
       "stream": "stdout",
       "text": [
        "\n",
        "urllib(mine) sleeping to throttle requests"
       ]
      },
      {
       "output_type": "stream",
       "stream": "stdout",
       "text": [
        "\n",
        "urllib(mine) sleeping to throttle requests"
       ]
      },
      {
       "output_type": "stream",
       "stream": "stdout",
       "text": [
        "\n",
        "urllib(mine) sleeping to throttle requests"
       ]
      },
      {
       "output_type": "stream",
       "stream": "stdout",
       "text": [
        "\n",
        "urllib(mine) sleeping to throttle requests"
       ]
      },
      {
       "output_type": "stream",
       "stream": "stdout",
       "text": [
        "\n",
        "urllib(mine) sleeping to throttle requests"
       ]
      },
      {
       "output_type": "stream",
       "stream": "stdout",
       "text": [
        "\n",
        "urllib(mine) sleeping to throttle requests"
       ]
      },
      {
       "output_type": "stream",
       "stream": "stdout",
       "text": [
        "\n",
        "urllib(mine) sleeping to throttle requests"
       ]
      },
      {
       "output_type": "stream",
       "stream": "stdout",
       "text": [
        "\n",
        "urllib(mine) sleeping to throttle requests"
       ]
      },
      {
       "output_type": "stream",
       "stream": "stdout",
       "text": [
        "\n",
        "urllib(mine) sleeping to throttle requests"
       ]
      },
      {
       "output_type": "stream",
       "stream": "stdout",
       "text": [
        "\n",
        "urllib(mine) sleeping to throttle requests"
       ]
      },
      {
       "output_type": "stream",
       "stream": "stdout",
       "text": [
        "\n",
        "urllib(mine) sleeping to throttle requests"
       ]
      },
      {
       "output_type": "stream",
       "stream": "stdout",
       "text": [
        "\n",
        "urllib(mine) sleeping to throttle requests"
       ]
      },
      {
       "output_type": "stream",
       "stream": "stdout",
       "text": [
        "\n",
        "urllib(mine) sleeping to throttle requests"
       ]
      },
      {
       "output_type": "stream",
       "stream": "stdout",
       "text": [
        "\n",
        "urllib(mine) sleeping to throttle requests"
       ]
      },
      {
       "output_type": "stream",
       "stream": "stdout",
       "text": [
        "\n",
        "urllib(mine) sleeping to throttle requests"
       ]
      },
      {
       "output_type": "stream",
       "stream": "stdout",
       "text": [
        "\n",
        "urllib(mine) sleeping to throttle requests"
       ]
      },
      {
       "output_type": "stream",
       "stream": "stdout",
       "text": [
        "\n",
        "urllib(mine) sleeping to throttle requests"
       ]
      },
      {
       "output_type": "stream",
       "stream": "stdout",
       "text": [
        "\n",
        "urllib(mine) sleeping to throttle requests"
       ]
      },
      {
       "output_type": "stream",
       "stream": "stdout",
       "text": [
        "\n",
        "urllib(mine) sleeping to throttle requests"
       ]
      },
      {
       "output_type": "stream",
       "stream": "stdout",
       "text": [
        "\n",
        "urllib(mine) sleeping to throttle requests"
       ]
      },
      {
       "output_type": "stream",
       "stream": "stdout",
       "text": [
        "\n",
        "urllib(mine) sleeping to throttle requests"
       ]
      },
      {
       "output_type": "stream",
       "stream": "stdout",
       "text": [
        "\n",
        "urllib(mine) sleeping to throttle requests"
       ]
      },
      {
       "output_type": "stream",
       "stream": "stdout",
       "text": [
        "\n",
        "urllib(mine) sleeping to throttle requests"
       ]
      },
      {
       "output_type": "stream",
       "stream": "stdout",
       "text": [
        "\n",
        "--------------------------------------"
       ]
      },
      {
       "output_type": "stream",
       "stream": "stdout",
       "text": [
        "\n",
        "Starting friend: 22lC2mfyIFqgC0baVS7GqQ\n",
        "--------------------------------------\n",
        "urllib(mine) sleeping to throttle requests\n",
        "urllib(mine) sleeping to throttle requests"
       ]
      },
      {
       "output_type": "stream",
       "stream": "stdout",
       "text": [
        "\n",
        "urllib(mine) sleeping to throttle requests"
       ]
      },
      {
       "output_type": "stream",
       "stream": "stdout",
       "text": [
        "\n",
        "--------------------------------------"
       ]
      },
      {
       "output_type": "stream",
       "stream": "stdout",
       "text": [
        "\n",
        "Starting friend: mHnuVCDGYZHm-wsldecEtg\n",
        "--------------------------------------\n",
        "urllib(mine) sleeping to throttle requests\n",
        "urllib(mine) sleeping to throttle requests"
       ]
      },
      {
       "output_type": "stream",
       "stream": "stdout",
       "text": [
        "\n",
        "urllib(mine) sleeping to throttle requests"
       ]
      },
      {
       "output_type": "stream",
       "stream": "stdout",
       "text": [
        "\n",
        "urllib(mine) sleeping to throttle requests"
       ]
      },
      {
       "output_type": "stream",
       "stream": "stdout",
       "text": [
        "\n",
        "urllib(mine) sleeping to throttle requests"
       ]
      },
      {
       "output_type": "stream",
       "stream": "stdout",
       "text": [
        "\n",
        "urllib(mine) sleeping to throttle requests"
       ]
      },
      {
       "output_type": "stream",
       "stream": "stdout",
       "text": [
        "\n",
        "--------------------------------------"
       ]
      },
      {
       "output_type": "stream",
       "stream": "stdout",
       "text": [
        "\n",
        "Starting friend: J_61n6Dizs17OQNv7iXF9w\n",
        "--------------------------------------\n",
        "urllib(mine) sleeping to throttle requests\n",
        "--------------------------------------"
       ]
      },
      {
       "output_type": "stream",
       "stream": "stdout",
       "text": [
        "\n",
        "Starting friend: 9OuRwq8RjCtkBLK4suuNtA\n",
        "--------------------------------------\n",
        "urllib(mine) sleeping to throttle requests\n",
        "--------------------------------------"
       ]
      },
      {
       "output_type": "stream",
       "stream": "stdout",
       "text": [
        "\n",
        "Starting friend: jmFA9cOEjURO3rnseA7W9Q\n",
        "--------------------------------------\n",
        "urllib(mine) sleeping to throttle requests\n",
        "urllib(mine) sleeping to throttle requests"
       ]
      },
      {
       "output_type": "stream",
       "stream": "stdout",
       "text": [
        "\n",
        "urllib(mine) sleeping to throttle requests"
       ]
      },
      {
       "output_type": "stream",
       "stream": "stdout",
       "text": [
        "\n",
        "urllib(mine) sleeping to throttle requests"
       ]
      },
      {
       "output_type": "stream",
       "stream": "stdout",
       "text": [
        "\n",
        "urllib(mine) sleeping to throttle requests"
       ]
      },
      {
       "output_type": "stream",
       "stream": "stdout",
       "text": [
        "\n",
        "urllib(mine) sleeping to throttle requests"
       ]
      },
      {
       "output_type": "stream",
       "stream": "stdout",
       "text": [
        "\n",
        "urllib(mine) sleeping to throttle requests"
       ]
      },
      {
       "output_type": "stream",
       "stream": "stdout",
       "text": [
        "\n",
        "urllib(mine) sleeping to throttle requests"
       ]
      },
      {
       "output_type": "stream",
       "stream": "stdout",
       "text": [
        "\n",
        "urllib(mine) sleeping to throttle requests"
       ]
      },
      {
       "output_type": "stream",
       "stream": "stdout",
       "text": [
        "\n",
        "urllib(mine) sleeping to throttle requests"
       ]
      },
      {
       "output_type": "stream",
       "stream": "stdout",
       "text": [
        "\n",
        "urllib(mine) sleeping to throttle requests"
       ]
      },
      {
       "output_type": "stream",
       "stream": "stdout",
       "text": [
        "\n",
        "urllib(mine) sleeping to throttle requests"
       ]
      },
      {
       "output_type": "stream",
       "stream": "stdout",
       "text": [
        "\n",
        "urllib(mine) sleeping to throttle requests"
       ]
      },
      {
       "output_type": "stream",
       "stream": "stdout",
       "text": [
        "\n",
        "urllib(mine) sleeping to throttle requests"
       ]
      },
      {
       "output_type": "stream",
       "stream": "stdout",
       "text": [
        "\n",
        "urllib(mine) sleeping to throttle requests"
       ]
      },
      {
       "output_type": "stream",
       "stream": "stdout",
       "text": [
        "\n",
        "urllib(mine) sleeping to throttle requests"
       ]
      },
      {
       "output_type": "stream",
       "stream": "stdout",
       "text": [
        "\n",
        "urllib(mine) sleeping to throttle requests"
       ]
      },
      {
       "output_type": "stream",
       "stream": "stdout",
       "text": [
        "\n",
        "urllib(mine) sleeping to throttle requests"
       ]
      },
      {
       "output_type": "stream",
       "stream": "stdout",
       "text": [
        "\n",
        "urllib(mine) sleeping to throttle requests"
       ]
      },
      {
       "output_type": "stream",
       "stream": "stdout",
       "text": [
        "\n",
        "urllib(mine) sleeping to throttle requests"
       ]
      },
      {
       "output_type": "stream",
       "stream": "stdout",
       "text": [
        "\n",
        "urllib(mine) sleeping to throttle requests"
       ]
      },
      {
       "output_type": "stream",
       "stream": "stdout",
       "text": [
        "\n",
        "urllib(mine) sleeping to throttle requests"
       ]
      },
      {
       "output_type": "stream",
       "stream": "stdout",
       "text": [
        "\n",
        "urllib(mine) sleeping to throttle requests"
       ]
      },
      {
       "output_type": "stream",
       "stream": "stdout",
       "text": [
        "\n",
        "urllib(mine) sleeping to throttle requests"
       ]
      },
      {
       "output_type": "stream",
       "stream": "stdout",
       "text": [
        "\n",
        "urllib(mine) sleeping to throttle requests"
       ]
      },
      {
       "output_type": "stream",
       "stream": "stdout",
       "text": [
        "\n",
        "urllib(mine) sleeping to throttle requests"
       ]
      },
      {
       "output_type": "stream",
       "stream": "stdout",
       "text": [
        "\n",
        "urllib(mine) sleeping to throttle requests"
       ]
      },
      {
       "output_type": "stream",
       "stream": "stdout",
       "text": [
        "\n",
        "urllib(mine) sleeping to throttle requests"
       ]
      },
      {
       "output_type": "stream",
       "stream": "stdout",
       "text": [
        "\n",
        "urllib(mine) sleeping to throttle requests"
       ]
      },
      {
       "output_type": "stream",
       "stream": "stdout",
       "text": [
        "\n",
        "urllib(mine) sleeping to throttle requests"
       ]
      },
      {
       "output_type": "stream",
       "stream": "stdout",
       "text": [
        "\n",
        "urllib(mine) sleeping to throttle requests"
       ]
      },
      {
       "output_type": "stream",
       "stream": "stdout",
       "text": [
        "\n",
        "urllib(mine) sleeping to throttle requests"
       ]
      },
      {
       "output_type": "stream",
       "stream": "stdout",
       "text": [
        "\n",
        "urllib(mine) sleeping to throttle requests"
       ]
      },
      {
       "output_type": "stream",
       "stream": "stdout",
       "text": [
        "\n",
        "urllib(mine) sleeping to throttle requests"
       ]
      },
      {
       "output_type": "stream",
       "stream": "stdout",
       "text": [
        "\n",
        "urllib(mine) sleeping to throttle requests"
       ]
      },
      {
       "output_type": "stream",
       "stream": "stdout",
       "text": [
        "\n",
        "urllib(mine) sleeping to throttle requests"
       ]
      },
      {
       "output_type": "stream",
       "stream": "stdout",
       "text": [
        "\n",
        "urllib(mine) sleeping to throttle requests"
       ]
      },
      {
       "output_type": "stream",
       "stream": "stdout",
       "text": [
        "\n",
        "urllib(mine) sleeping to throttle requests"
       ]
      },
      {
       "output_type": "stream",
       "stream": "stdout",
       "text": [
        "\n",
        "urllib(mine) sleeping to throttle requests"
       ]
      },
      {
       "output_type": "stream",
       "stream": "stdout",
       "text": [
        "\n",
        "urllib(mine) sleeping to throttle requests"
       ]
      },
      {
       "output_type": "stream",
       "stream": "stdout",
       "text": [
        "\n",
        "urllib(mine) sleeping to throttle requests"
       ]
      },
      {
       "output_type": "stream",
       "stream": "stdout",
       "text": [
        "\n",
        "urllib(mine) sleeping to throttle requests"
       ]
      },
      {
       "output_type": "stream",
       "stream": "stdout",
       "text": [
        "\n",
        "urllib(mine) sleeping to throttle requests"
       ]
      },
      {
       "output_type": "stream",
       "stream": "stdout",
       "text": [
        "\n",
        "urllib(mine) sleeping to throttle requests"
       ]
      },
      {
       "output_type": "stream",
       "stream": "stdout",
       "text": [
        "\n",
        "urllib(mine) sleeping to throttle requests"
       ]
      },
      {
       "output_type": "stream",
       "stream": "stdout",
       "text": [
        "\n",
        "urllib(mine) sleeping to throttle requests"
       ]
      },
      {
       "output_type": "stream",
       "stream": "stdout",
       "text": [
        "\n",
        "urllib(mine) sleeping to throttle requests"
       ]
      },
      {
       "output_type": "stream",
       "stream": "stdout",
       "text": [
        "\n",
        "urllib(mine) sleeping to throttle requests"
       ]
      },
      {
       "output_type": "stream",
       "stream": "stdout",
       "text": [
        "\n",
        "urllib(mine) sleeping to throttle requests"
       ]
      },
      {
       "output_type": "stream",
       "stream": "stdout",
       "text": [
        "\n",
        "urllib(mine) sleeping to throttle requests"
       ]
      },
      {
       "output_type": "stream",
       "stream": "stdout",
       "text": [
        "\n",
        "urllib(mine) sleeping to throttle requests"
       ]
      },
      {
       "output_type": "stream",
       "stream": "stdout",
       "text": [
        "\n",
        "urllib(mine) sleeping to throttle requests"
       ]
      },
      {
       "output_type": "stream",
       "stream": "stdout",
       "text": [
        "\n",
        "urllib(mine) sleeping to throttle requests"
       ]
      },
      {
       "output_type": "stream",
       "stream": "stdout",
       "text": [
        "\n",
        "urllib(mine) sleeping to throttle requests"
       ]
      },
      {
       "output_type": "stream",
       "stream": "stdout",
       "text": [
        "\n",
        "urllib(mine) sleeping to throttle requests"
       ]
      },
      {
       "output_type": "stream",
       "stream": "stdout",
       "text": [
        "\n",
        "urllib(mine) sleeping to throttle requests"
       ]
      },
      {
       "output_type": "stream",
       "stream": "stdout",
       "text": [
        "\n",
        "urllib(mine) sleeping to throttle requests"
       ]
      },
      {
       "output_type": "stream",
       "stream": "stdout",
       "text": [
        "\n",
        "urllib(mine) sleeping to throttle requests"
       ]
      },
      {
       "output_type": "stream",
       "stream": "stdout",
       "text": [
        "\n",
        "urllib(mine) sleeping to throttle requests"
       ]
      },
      {
       "output_type": "stream",
       "stream": "stdout",
       "text": [
        "\n",
        "urllib(mine) sleeping to throttle requests"
       ]
      },
      {
       "output_type": "stream",
       "stream": "stdout",
       "text": [
        "\n",
        "urllib(mine) sleeping to throttle requests"
       ]
      },
      {
       "output_type": "stream",
       "stream": "stdout",
       "text": [
        "\n",
        "urllib(mine) sleeping to throttle requests"
       ]
      },
      {
       "output_type": "stream",
       "stream": "stdout",
       "text": [
        "\n",
        "urllib(mine) sleeping to throttle requests"
       ]
      },
      {
       "output_type": "stream",
       "stream": "stdout",
       "text": [
        "\n",
        "urllib(mine) sleeping to throttle requests"
       ]
      },
      {
       "output_type": "stream",
       "stream": "stdout",
       "text": [
        "\n",
        "urllib(mine) sleeping to throttle requests"
       ]
      },
      {
       "output_type": "stream",
       "stream": "stdout",
       "text": [
        "\n",
        "urllib(mine) sleeping to throttle requests"
       ]
      },
      {
       "output_type": "stream",
       "stream": "stdout",
       "text": [
        "\n",
        "urllib(mine) sleeping to throttle requests"
       ]
      },
      {
       "output_type": "stream",
       "stream": "stdout",
       "text": [
        "\n",
        "urllib(mine) sleeping to throttle requests"
       ]
      },
      {
       "output_type": "stream",
       "stream": "stdout",
       "text": [
        "\n",
        "urllib(mine) sleeping to throttle requests"
       ]
      },
      {
       "output_type": "stream",
       "stream": "stdout",
       "text": [
        "\n",
        "urllib(mine) sleeping to throttle requests"
       ]
      },
      {
       "output_type": "stream",
       "stream": "stdout",
       "text": [
        "\n",
        "urllib(mine) sleeping to throttle requests"
       ]
      },
      {
       "output_type": "stream",
       "stream": "stdout",
       "text": [
        "\n",
        "urllib(mine) sleeping to throttle requests"
       ]
      },
      {
       "output_type": "stream",
       "stream": "stdout",
       "text": [
        "\n",
        "urllib(mine) sleeping to throttle requests"
       ]
      },
      {
       "output_type": "stream",
       "stream": "stdout",
       "text": [
        "\n",
        "urllib(mine) sleeping to throttle requests"
       ]
      },
      {
       "output_type": "stream",
       "stream": "stdout",
       "text": [
        "\n",
        "urllib(mine) sleeping to throttle requests"
       ]
      },
      {
       "output_type": "stream",
       "stream": "stdout",
       "text": [
        "\n",
        "urllib(mine) sleeping to throttle requests"
       ]
      },
      {
       "output_type": "stream",
       "stream": "stdout",
       "text": [
        "\n",
        "urllib(mine) sleeping to throttle requests"
       ]
      },
      {
       "output_type": "stream",
       "stream": "stdout",
       "text": [
        "\n",
        "urllib(mine) sleeping to throttle requests"
       ]
      },
      {
       "output_type": "stream",
       "stream": "stdout",
       "text": [
        "\n",
        "urllib(mine) sleeping to throttle requests"
       ]
      },
      {
       "output_type": "stream",
       "stream": "stdout",
       "text": [
        "\n",
        "urllib(mine) sleeping to throttle requests"
       ]
      },
      {
       "output_type": "stream",
       "stream": "stdout",
       "text": [
        "\n",
        "urllib(mine) sleeping to throttle requests"
       ]
      },
      {
       "output_type": "stream",
       "stream": "stdout",
       "text": [
        "\n",
        "urllib(mine) sleeping to throttle requests"
       ]
      },
      {
       "output_type": "stream",
       "stream": "stdout",
       "text": [
        "\n",
        "urllib(mine) sleeping to throttle requests"
       ]
      },
      {
       "output_type": "stream",
       "stream": "stdout",
       "text": [
        "\n",
        "--------------------------------------"
       ]
      },
      {
       "output_type": "stream",
       "stream": "stdout",
       "text": [
        "\n",
        "Starting friend: pSn9UjT9vKle_xTGmdlgqQ\n",
        "--------------------------------------\n",
        "urllib(mine) sleeping to throttle requests\n",
        "urllib(mine) sleeping to throttle requests"
       ]
      },
      {
       "output_type": "stream",
       "stream": "stdout",
       "text": [
        "\n",
        "urllib(mine) sleeping to throttle requests"
       ]
      },
      {
       "output_type": "stream",
       "stream": "stdout",
       "text": [
        "\n",
        "urllib(mine) sleeping to throttle requests"
       ]
      },
      {
       "output_type": "stream",
       "stream": "stdout",
       "text": [
        "\n",
        "urllib(mine) sleeping to throttle requests"
       ]
      },
      {
       "output_type": "stream",
       "stream": "stdout",
       "text": [
        "\n",
        "urllib(mine) sleeping to throttle requests"
       ]
      },
      {
       "output_type": "stream",
       "stream": "stdout",
       "text": [
        "\n",
        "urllib(mine) sleeping to throttle requests"
       ]
      },
      {
       "output_type": "stream",
       "stream": "stdout",
       "text": [
        "\n",
        "--------------------------------------"
       ]
      },
      {
       "output_type": "stream",
       "stream": "stdout",
       "text": [
        "\n",
        "Starting friend: eB3rWRjsunrmYkO27A8-rw\n",
        "--------------------------------------\n",
        "urllib(mine) sleeping to throttle requests\n",
        "--------------------------------------"
       ]
      },
      {
       "output_type": "stream",
       "stream": "stdout",
       "text": [
        "\n",
        "Starting friend: utXjbDFcryC_tDDA2fQoYQ\n",
        "--------------------------------------\n",
        "urllib(mine) sleeping to throttle requests\n",
        "urllib(mine) sleeping to throttle requests"
       ]
      },
      {
       "output_type": "stream",
       "stream": "stdout",
       "text": [
        "\n",
        "urllib(mine) sleeping to throttle requests"
       ]
      },
      {
       "output_type": "stream",
       "stream": "stdout",
       "text": [
        "\n",
        "urllib(mine) sleeping to throttle requests"
       ]
      },
      {
       "output_type": "stream",
       "stream": "stdout",
       "text": [
        "\n",
        "urllib(mine) sleeping to throttle requests"
       ]
      },
      {
       "output_type": "stream",
       "stream": "stdout",
       "text": [
        "\n",
        "urllib(mine) sleeping to throttle requests"
       ]
      },
      {
       "output_type": "stream",
       "stream": "stdout",
       "text": [
        "\n",
        "urllib(mine) sleeping to throttle requests"
       ]
      },
      {
       "output_type": "stream",
       "stream": "stdout",
       "text": [
        "\n",
        "urllib(mine) sleeping to throttle requests"
       ]
      },
      {
       "output_type": "stream",
       "stream": "stdout",
       "text": [
        "\n",
        "urllib(mine) sleeping to throttle requests"
       ]
      },
      {
       "output_type": "stream",
       "stream": "stdout",
       "text": [
        "\n",
        "urllib(mine) sleeping to throttle requests"
       ]
      },
      {
       "output_type": "stream",
       "stream": "stdout",
       "text": [
        "\n",
        "urllib(mine) sleeping to throttle requests"
       ]
      },
      {
       "output_type": "stream",
       "stream": "stdout",
       "text": [
        "\n",
        "urllib(mine) sleeping to throttle requests"
       ]
      },
      {
       "output_type": "stream",
       "stream": "stdout",
       "text": [
        "\n",
        "urllib(mine) sleeping to throttle requests"
       ]
      },
      {
       "output_type": "stream",
       "stream": "stdout",
       "text": [
        "\n",
        "urllib(mine) sleeping to throttle requests"
       ]
      },
      {
       "output_type": "stream",
       "stream": "stdout",
       "text": [
        "\n",
        "urllib(mine) sleeping to throttle requests"
       ]
      },
      {
       "output_type": "stream",
       "stream": "stdout",
       "text": [
        "\n",
        "urllib(mine) sleeping to throttle requests"
       ]
      },
      {
       "output_type": "stream",
       "stream": "stdout",
       "text": [
        "\n",
        "urllib(mine) sleeping to throttle requests"
       ]
      },
      {
       "output_type": "stream",
       "stream": "stdout",
       "text": [
        "\n",
        "urllib(mine) sleeping to throttle requests"
       ]
      },
      {
       "output_type": "stream",
       "stream": "stdout",
       "text": [
        "\n",
        "urllib(mine) sleeping to throttle requests"
       ]
      },
      {
       "output_type": "stream",
       "stream": "stdout",
       "text": [
        "\n",
        "urllib(mine) sleeping to throttle requests"
       ]
      },
      {
       "output_type": "stream",
       "stream": "stdout",
       "text": [
        "\n",
        "urllib(mine) sleeping to throttle requests"
       ]
      },
      {
       "output_type": "stream",
       "stream": "stdout",
       "text": [
        "\n",
        "urllib(mine) sleeping to throttle requests"
       ]
      },
      {
       "output_type": "stream",
       "stream": "stdout",
       "text": [
        "\n",
        "--------------------------------------"
       ]
      },
      {
       "output_type": "stream",
       "stream": "stdout",
       "text": [
        "\n",
        "Starting friend: daEKn0SlW3j3-8zAXx3xBA\n",
        "--------------------------------------\n",
        "urllib(mine) sleeping to throttle requests\n",
        "urllib(mine) sleeping to throttle requests"
       ]
      },
      {
       "output_type": "stream",
       "stream": "stdout",
       "text": [
        "\n",
        "urllib(mine) sleeping to throttle requests"
       ]
      },
      {
       "output_type": "stream",
       "stream": "stdout",
       "text": [
        "\n",
        "urllib(mine) sleeping to throttle requests"
       ]
      },
      {
       "output_type": "stream",
       "stream": "stdout",
       "text": [
        "\n",
        "urllib(mine) sleeping to throttle requests"
       ]
      },
      {
       "output_type": "stream",
       "stream": "stdout",
       "text": [
        "\n",
        "urllib(mine) sleeping to throttle requests"
       ]
      },
      {
       "output_type": "stream",
       "stream": "stdout",
       "text": [
        "\n",
        "urllib(mine) sleeping to throttle requests"
       ]
      },
      {
       "output_type": "stream",
       "stream": "stdout",
       "text": [
        "\n",
        "urllib(mine) sleeping to throttle requests"
       ]
      },
      {
       "output_type": "stream",
       "stream": "stdout",
       "text": [
        "\n",
        "urllib(mine) sleeping to throttle requests"
       ]
      },
      {
       "output_type": "stream",
       "stream": "stdout",
       "text": [
        "\n",
        "urllib(mine) sleeping to throttle requests"
       ]
      },
      {
       "output_type": "stream",
       "stream": "stdout",
       "text": [
        "\n",
        "urllib(mine) sleeping to throttle requests"
       ]
      },
      {
       "output_type": "stream",
       "stream": "stdout",
       "text": [
        "\n",
        "urllib(mine) sleeping to throttle requests"
       ]
      },
      {
       "output_type": "stream",
       "stream": "stdout",
       "text": [
        "\n",
        "urllib(mine) sleeping to throttle requests"
       ]
      },
      {
       "output_type": "stream",
       "stream": "stdout",
       "text": [
        "\n",
        "urllib(mine) sleeping to throttle requests"
       ]
      },
      {
       "output_type": "stream",
       "stream": "stdout",
       "text": [
        "\n",
        "urllib(mine) sleeping to throttle requests"
       ]
      },
      {
       "output_type": "stream",
       "stream": "stdout",
       "text": [
        "\n",
        "urllib(mine) sleeping to throttle requests"
       ]
      },
      {
       "output_type": "stream",
       "stream": "stdout",
       "text": [
        "\n",
        "urllib(mine) sleeping to throttle requests"
       ]
      },
      {
       "output_type": "stream",
       "stream": "stdout",
       "text": [
        "\n",
        "urllib(mine) sleeping to throttle requests"
       ]
      },
      {
       "output_type": "stream",
       "stream": "stdout",
       "text": [
        "\n",
        "urllib(mine) sleeping to throttle requests"
       ]
      },
      {
       "output_type": "stream",
       "stream": "stdout",
       "text": [
        "\n",
        "urllib(mine) sleeping to throttle requests"
       ]
      },
      {
       "output_type": "stream",
       "stream": "stdout",
       "text": [
        "\n",
        "urllib(mine) sleeping to throttle requests"
       ]
      },
      {
       "output_type": "stream",
       "stream": "stdout",
       "text": [
        "\n",
        "urllib(mine) sleeping to throttle requests"
       ]
      },
      {
       "output_type": "stream",
       "stream": "stdout",
       "text": [
        "\n",
        "urllib(mine) sleeping to throttle requests"
       ]
      },
      {
       "output_type": "stream",
       "stream": "stdout",
       "text": [
        "\n",
        "urllib(mine) sleeping to throttle requests"
       ]
      },
      {
       "output_type": "stream",
       "stream": "stdout",
       "text": [
        "\n",
        "urllib(mine) sleeping to throttle requests"
       ]
      },
      {
       "output_type": "stream",
       "stream": "stdout",
       "text": [
        "\n",
        "urllib(mine) sleeping to throttle requests"
       ]
      },
      {
       "output_type": "stream",
       "stream": "stdout",
       "text": [
        "\n",
        "urllib(mine) sleeping to throttle requests"
       ]
      },
      {
       "output_type": "stream",
       "stream": "stdout",
       "text": [
        "\n",
        "urllib(mine) sleeping to throttle requests"
       ]
      },
      {
       "output_type": "stream",
       "stream": "stdout",
       "text": [
        "\n",
        "urllib(mine) sleeping to throttle requests"
       ]
      },
      {
       "output_type": "stream",
       "stream": "stdout",
       "text": [
        "\n",
        "urllib(mine) sleeping to throttle requests"
       ]
      },
      {
       "output_type": "stream",
       "stream": "stdout",
       "text": [
        "\n",
        "urllib(mine) sleeping to throttle requests"
       ]
      },
      {
       "output_type": "stream",
       "stream": "stdout",
       "text": [
        "\n",
        "urllib(mine) sleeping to throttle requests"
       ]
      },
      {
       "output_type": "stream",
       "stream": "stdout",
       "text": [
        "\n",
        "--------------------------------------"
       ]
      },
      {
       "output_type": "stream",
       "stream": "stdout",
       "text": [
        "\n",
        "Starting friend: 2ZiSwXWsyfhXlFb7x1sgJQ\n",
        "--------------------------------------\n",
        "urllib(mine) sleeping to throttle requests\n",
        "urllib(mine) sleeping to throttle requests"
       ]
      },
      {
       "output_type": "stream",
       "stream": "stdout",
       "text": [
        "\n",
        "urllib(mine) sleeping to throttle requests"
       ]
      },
      {
       "output_type": "stream",
       "stream": "stdout",
       "text": [
        "\n",
        "urllib(mine) sleeping to throttle requests"
       ]
      },
      {
       "output_type": "stream",
       "stream": "stdout",
       "text": [
        "\n",
        "urllib(mine) sleeping to throttle requests"
       ]
      },
      {
       "output_type": "stream",
       "stream": "stdout",
       "text": [
        "\n",
        "urllib(mine) sleeping to throttle requests"
       ]
      },
      {
       "output_type": "stream",
       "stream": "stdout",
       "text": [
        "\n",
        "urllib(mine) sleeping to throttle requests"
       ]
      },
      {
       "output_type": "stream",
       "stream": "stdout",
       "text": [
        "\n",
        "urllib(mine) sleeping to throttle requests"
       ]
      },
      {
       "output_type": "stream",
       "stream": "stdout",
       "text": [
        "\n",
        "urllib(mine) sleeping to throttle requests"
       ]
      },
      {
       "output_type": "stream",
       "stream": "stdout",
       "text": [
        "\n",
        "urllib(mine) sleeping to throttle requests"
       ]
      },
      {
       "output_type": "stream",
       "stream": "stdout",
       "text": [
        "\n",
        "urllib(mine) sleeping to throttle requests"
       ]
      },
      {
       "output_type": "stream",
       "stream": "stdout",
       "text": [
        "\n",
        "urllib(mine) sleeping to throttle requests"
       ]
      },
      {
       "output_type": "stream",
       "stream": "stdout",
       "text": [
        "\n",
        "urllib(mine) sleeping to throttle requests"
       ]
      },
      {
       "output_type": "stream",
       "stream": "stdout",
       "text": [
        "\n",
        "urllib(mine) sleeping to throttle requests"
       ]
      },
      {
       "output_type": "stream",
       "stream": "stdout",
       "text": [
        "\n",
        "urllib(mine) sleeping to throttle requests"
       ]
      },
      {
       "output_type": "stream",
       "stream": "stdout",
       "text": [
        "\n",
        "urllib(mine) sleeping to throttle requests"
       ]
      },
      {
       "output_type": "stream",
       "stream": "stdout",
       "text": [
        "\n",
        "urllib(mine) sleeping to throttle requests"
       ]
      },
      {
       "output_type": "stream",
       "stream": "stdout",
       "text": [
        "\n",
        "urllib(mine) sleeping to throttle requests"
       ]
      },
      {
       "output_type": "stream",
       "stream": "stdout",
       "text": [
        "\n",
        "urllib(mine) sleeping to throttle requests"
       ]
      },
      {
       "output_type": "stream",
       "stream": "stdout",
       "text": [
        "\n",
        "urllib(mine) sleeping to throttle requests"
       ]
      },
      {
       "output_type": "stream",
       "stream": "stdout",
       "text": [
        "\n",
        "urllib(mine) sleeping to throttle requests"
       ]
      },
      {
       "output_type": "stream",
       "stream": "stdout",
       "text": [
        "\n",
        "urllib(mine) sleeping to throttle requests"
       ]
      },
      {
       "output_type": "stream",
       "stream": "stdout",
       "text": [
        "\n",
        "urllib(mine) sleeping to throttle requests"
       ]
      },
      {
       "output_type": "stream",
       "stream": "stdout",
       "text": [
        "\n",
        "urllib(mine) sleeping to throttle requests"
       ]
      },
      {
       "output_type": "stream",
       "stream": "stdout",
       "text": [
        "\n",
        "urllib(mine) sleeping to throttle requests"
       ]
      },
      {
       "output_type": "stream",
       "stream": "stdout",
       "text": [
        "\n",
        "urllib(mine) sleeping to throttle requests"
       ]
      },
      {
       "output_type": "stream",
       "stream": "stdout",
       "text": [
        "\n",
        "urllib(mine) sleeping to throttle requests"
       ]
      },
      {
       "output_type": "stream",
       "stream": "stdout",
       "text": [
        "\n",
        "urllib(mine) sleeping to throttle requests"
       ]
      },
      {
       "output_type": "stream",
       "stream": "stdout",
       "text": [
        "\n",
        "urllib(mine) sleeping to throttle requests"
       ]
      },
      {
       "output_type": "stream",
       "stream": "stdout",
       "text": [
        "\n",
        "urllib(mine) sleeping to throttle requests"
       ]
      },
      {
       "output_type": "stream",
       "stream": "stdout",
       "text": [
        "\n",
        "urllib(mine) sleeping to throttle requests"
       ]
      },
      {
       "output_type": "stream",
       "stream": "stdout",
       "text": [
        "\n",
        "urllib(mine) sleeping to throttle requests"
       ]
      },
      {
       "output_type": "stream",
       "stream": "stdout",
       "text": [
        "\n",
        "urllib(mine) sleeping to throttle requests"
       ]
      },
      {
       "output_type": "stream",
       "stream": "stdout",
       "text": [
        "\n",
        "urllib(mine) sleeping to throttle requests"
       ]
      },
      {
       "output_type": "stream",
       "stream": "stdout",
       "text": [
        "\n",
        "urllib(mine) sleeping to throttle requests"
       ]
      },
      {
       "output_type": "stream",
       "stream": "stdout",
       "text": [
        "\n",
        "urllib(mine) sleeping to throttle requests"
       ]
      },
      {
       "output_type": "stream",
       "stream": "stdout",
       "text": [
        "\n",
        "urllib(mine) sleeping to throttle requests"
       ]
      },
      {
       "output_type": "stream",
       "stream": "stdout",
       "text": [
        "\n",
        "urllib(mine) sleeping to throttle requests"
       ]
      },
      {
       "output_type": "stream",
       "stream": "stdout",
       "text": [
        "\n",
        "urllib(mine) sleeping to throttle requests"
       ]
      },
      {
       "output_type": "stream",
       "stream": "stdout",
       "text": [
        "\n",
        "urllib(mine) sleeping to throttle requests"
       ]
      },
      {
       "output_type": "stream",
       "stream": "stdout",
       "text": [
        "\n",
        "urllib(mine) sleeping to throttle requests"
       ]
      },
      {
       "output_type": "stream",
       "stream": "stdout",
       "text": [
        "\n",
        "urllib(mine) sleeping to throttle requests"
       ]
      },
      {
       "output_type": "stream",
       "stream": "stdout",
       "text": [
        "\n",
        "urllib(mine) sleeping to throttle requests"
       ]
      },
      {
       "output_type": "stream",
       "stream": "stdout",
       "text": [
        "\n",
        "urllib(mine) sleeping to throttle requests"
       ]
      },
      {
       "output_type": "stream",
       "stream": "stdout",
       "text": [
        "\n",
        "urllib(mine) sleeping to throttle requests"
       ]
      },
      {
       "output_type": "stream",
       "stream": "stdout",
       "text": [
        "\n",
        "urllib(mine) sleeping to throttle requests"
       ]
      },
      {
       "output_type": "stream",
       "stream": "stdout",
       "text": [
        "\n",
        "urllib(mine) sleeping to throttle requests"
       ]
      },
      {
       "output_type": "stream",
       "stream": "stdout",
       "text": [
        "\n",
        "urllib(mine) sleeping to throttle requests"
       ]
      },
      {
       "output_type": "stream",
       "stream": "stdout",
       "text": [
        "\n",
        "urllib(mine) sleeping to throttle requests"
       ]
      },
      {
       "output_type": "stream",
       "stream": "stdout",
       "text": [
        "\n",
        "urllib(mine) sleeping to throttle requests"
       ]
      },
      {
       "output_type": "stream",
       "stream": "stdout",
       "text": [
        "\n",
        "urllib(mine) sleeping to throttle requests"
       ]
      },
      {
       "output_type": "stream",
       "stream": "stdout",
       "text": [
        "\n",
        "urllib(mine) sleeping to throttle requests"
       ]
      },
      {
       "output_type": "stream",
       "stream": "stdout",
       "text": [
        "\n",
        "urllib(mine) sleeping to throttle requests"
       ]
      },
      {
       "output_type": "stream",
       "stream": "stdout",
       "text": [
        "\n",
        "urllib(mine) sleeping to throttle requests"
       ]
      },
      {
       "output_type": "stream",
       "stream": "stdout",
       "text": [
        "\n",
        "urllib(mine) sleeping to throttle requests"
       ]
      },
      {
       "output_type": "stream",
       "stream": "stdout",
       "text": [
        "\n",
        "urllib(mine) sleeping to throttle requests"
       ]
      },
      {
       "output_type": "stream",
       "stream": "stdout",
       "text": [
        "\n",
        "urllib(mine) sleeping to throttle requests"
       ]
      },
      {
       "output_type": "stream",
       "stream": "stdout",
       "text": [
        "\n",
        "--------------------------------------"
       ]
      },
      {
       "output_type": "stream",
       "stream": "stdout",
       "text": [
        "\n",
        "Starting friend: ELdyMpZ8WDZY70IxFPlUnA\n",
        "--------------------------------------\n",
        "urllib(mine) sleeping to throttle requests\n",
        "--------------------------------------"
       ]
      },
      {
       "output_type": "stream",
       "stream": "stdout",
       "text": [
        "\n",
        "Starting friend: kdfnlAi3VPqAw64REgJh7w\n",
        "--------------------------------------\n",
        "urllib(mine) sleeping to throttle requests\n",
        "urllib(mine) sleeping to throttle requests"
       ]
      },
      {
       "output_type": "stream",
       "stream": "stdout",
       "text": [
        "\n",
        "urllib(mine) sleeping to throttle requests"
       ]
      },
      {
       "output_type": "stream",
       "stream": "stdout",
       "text": [
        "\n",
        "urllib(mine) sleeping to throttle requests"
       ]
      },
      {
       "output_type": "stream",
       "stream": "stdout",
       "text": [
        "\n",
        "urllib(mine) sleeping to throttle requests"
       ]
      },
      {
       "output_type": "stream",
       "stream": "stdout",
       "text": [
        "\n",
        "urllib(mine) sleeping to throttle requests"
       ]
      },
      {
       "output_type": "stream",
       "stream": "stdout",
       "text": [
        "\n",
        "urllib(mine) sleeping to throttle requests"
       ]
      },
      {
       "output_type": "stream",
       "stream": "stdout",
       "text": [
        "\n",
        "urllib(mine) sleeping to throttle requests"
       ]
      },
      {
       "output_type": "stream",
       "stream": "stdout",
       "text": [
        "\n",
        "urllib(mine) sleeping to throttle requests"
       ]
      },
      {
       "output_type": "stream",
       "stream": "stdout",
       "text": [
        "\n",
        "urllib(mine) sleeping to throttle requests"
       ]
      },
      {
       "output_type": "stream",
       "stream": "stdout",
       "text": [
        "\n",
        "urllib(mine) sleeping to throttle requests"
       ]
      },
      {
       "output_type": "stream",
       "stream": "stdout",
       "text": [
        "\n",
        "urllib(mine) sleeping to throttle requests"
       ]
      },
      {
       "output_type": "stream",
       "stream": "stdout",
       "text": [
        "\n",
        "urllib(mine) sleeping to throttle requests"
       ]
      },
      {
       "output_type": "stream",
       "stream": "stdout",
       "text": [
        "\n",
        "urllib(mine) sleeping to throttle requests"
       ]
      },
      {
       "output_type": "stream",
       "stream": "stdout",
       "text": [
        "\n",
        "--------------------------------------"
       ]
      },
      {
       "output_type": "stream",
       "stream": "stdout",
       "text": [
        "\n",
        "Starting friend: DZYppihG0n9Eprad3m1DiA\n",
        "--------------------------------------\n",
        "urllib(mine) sleeping to throttle requests\n",
        "urllib(mine) sleeping to throttle requests"
       ]
      },
      {
       "output_type": "stream",
       "stream": "stdout",
       "text": [
        "\n",
        "urllib(mine) sleeping to throttle requests"
       ]
      },
      {
       "output_type": "stream",
       "stream": "stdout",
       "text": [
        "\n",
        "urllib(mine) sleeping to throttle requests"
       ]
      },
      {
       "output_type": "stream",
       "stream": "stdout",
       "text": [
        "\n",
        "urllib(mine) sleeping to throttle requests"
       ]
      },
      {
       "output_type": "stream",
       "stream": "stdout",
       "text": [
        "\n",
        "urllib(mine) sleeping to throttle requests"
       ]
      },
      {
       "output_type": "stream",
       "stream": "stdout",
       "text": [
        "\n",
        "urllib(mine) sleeping to throttle requests"
       ]
      },
      {
       "output_type": "stream",
       "stream": "stdout",
       "text": [
        "\n",
        "urllib(mine) sleeping to throttle requests"
       ]
      },
      {
       "output_type": "stream",
       "stream": "stdout",
       "text": [
        "\n",
        "--------------------------------------"
       ]
      },
      {
       "output_type": "stream",
       "stream": "stdout",
       "text": [
        "\n",
        "Starting friend: y-9Uy_rz8V-q_TARbJxgXQ\n",
        "--------------------------------------\n",
        "urllib(mine) sleeping to throttle requests\n",
        "urllib(mine) sleeping to throttle requests"
       ]
      },
      {
       "output_type": "stream",
       "stream": "stdout",
       "text": [
        "\n",
        "urllib(mine) sleeping to throttle requests"
       ]
      },
      {
       "output_type": "stream",
       "stream": "stdout",
       "text": [
        "\n",
        "--------------------------------------"
       ]
      },
      {
       "output_type": "stream",
       "stream": "stdout",
       "text": [
        "\n",
        "Starting friend: FbGbCoTprnJziJKhF4QbmQ\n",
        "--------------------------------------\n",
        "urllib(mine) sleeping to throttle requests\n",
        "--------------------------------------"
       ]
      },
      {
       "output_type": "stream",
       "stream": "stdout",
       "text": [
        "\n",
        "Starting friend: DQ949ACrZZYbfmHV3RQh1A\n",
        "--------------------------------------\n",
        "urllib(mine) sleeping to throttle requests\n",
        "urllib(mine) sleeping to throttle requests"
       ]
      },
      {
       "output_type": "stream",
       "stream": "stdout",
       "text": [
        "\n",
        "urllib(mine) sleeping to throttle requests"
       ]
      },
      {
       "output_type": "stream",
       "stream": "stdout",
       "text": [
        "\n",
        "urllib(mine) sleeping to throttle requests"
       ]
      },
      {
       "output_type": "stream",
       "stream": "stdout",
       "text": [
        "\n",
        "urllib(mine) sleeping to throttle requests"
       ]
      },
      {
       "output_type": "stream",
       "stream": "stdout",
       "text": [
        "\n",
        "--------------------------------------"
       ]
      },
      {
       "output_type": "stream",
       "stream": "stdout",
       "text": [
        "\n",
        "Starting friend: 5jz-BicrPZGCp-Mi-oBRUw\n",
        "--------------------------------------\n",
        "urllib(mine) sleeping to throttle requests\n",
        "urllib(mine) sleeping to throttle requests"
       ]
      },
      {
       "output_type": "stream",
       "stream": "stdout",
       "text": [
        "\n",
        "urllib(mine) sleeping to throttle requests"
       ]
      },
      {
       "output_type": "stream",
       "stream": "stdout",
       "text": [
        "\n",
        "urllib(mine) sleeping to throttle requests"
       ]
      },
      {
       "output_type": "stream",
       "stream": "stdout",
       "text": [
        "\n",
        "urllib(mine) sleeping to throttle requests"
       ]
      },
      {
       "output_type": "stream",
       "stream": "stdout",
       "text": [
        "\n",
        "urllib(mine) sleeping to throttle requests"
       ]
      },
      {
       "output_type": "stream",
       "stream": "stdout",
       "text": [
        "\n",
        "urllib(mine) sleeping to throttle requests"
       ]
      },
      {
       "output_type": "stream",
       "stream": "stdout",
       "text": [
        "\n",
        "urllib(mine) sleeping to throttle requests"
       ]
      },
      {
       "output_type": "stream",
       "stream": "stdout",
       "text": [
        "\n",
        "urllib(mine) sleeping to throttle requests"
       ]
      },
      {
       "output_type": "stream",
       "stream": "stdout",
       "text": [
        "\n",
        "urllib(mine) sleeping to throttle requests"
       ]
      },
      {
       "output_type": "stream",
       "stream": "stdout",
       "text": [
        "\n",
        "urllib(mine) sleeping to throttle requests"
       ]
      },
      {
       "output_type": "stream",
       "stream": "stdout",
       "text": [
        "\n",
        "urllib(mine) sleeping to throttle requests"
       ]
      },
      {
       "output_type": "stream",
       "stream": "stdout",
       "text": [
        "\n",
        "urllib(mine) sleeping to throttle requests"
       ]
      },
      {
       "output_type": "stream",
       "stream": "stdout",
       "text": [
        "\n",
        "urllib(mine) sleeping to throttle requests"
       ]
      },
      {
       "output_type": "stream",
       "stream": "stdout",
       "text": [
        "\n",
        "urllib(mine) sleeping to throttle requests"
       ]
      },
      {
       "output_type": "stream",
       "stream": "stdout",
       "text": [
        "\n",
        "--------------------------------------"
       ]
      },
      {
       "output_type": "stream",
       "stream": "stdout",
       "text": [
        "\n",
        "Starting friend: GFbfa2T-vYsvVd6lC4QnXw\n",
        "--------------------------------------\n",
        "urllib(mine) sleeping to throttle requests\n",
        "urllib(mine) sleeping to throttle requests"
       ]
      },
      {
       "output_type": "stream",
       "stream": "stdout",
       "text": [
        "\n",
        "urllib(mine) sleeping to throttle requests"
       ]
      },
      {
       "output_type": "stream",
       "stream": "stdout",
       "text": [
        "\n",
        "urllib(mine) sleeping to throttle requests"
       ]
      },
      {
       "output_type": "stream",
       "stream": "stdout",
       "text": [
        "\n",
        "urllib(mine) sleeping to throttle requests"
       ]
      },
      {
       "output_type": "stream",
       "stream": "stdout",
       "text": [
        "\n",
        "urllib(mine) sleeping to throttle requests"
       ]
      },
      {
       "output_type": "stream",
       "stream": "stdout",
       "text": [
        "\n",
        "urllib(mine) sleeping to throttle requests"
       ]
      },
      {
       "output_type": "stream",
       "stream": "stdout",
       "text": [
        "\n",
        "--------------------------------------"
       ]
      },
      {
       "output_type": "stream",
       "stream": "stdout",
       "text": [
        "\n",
        "Starting friend: r0KvePHM3_VIgb7bPwx-pw\n",
        "--------------------------------------\n",
        "urllib(mine) sleeping to throttle requests\n",
        "urllib(mine) sleeping to throttle requests"
       ]
      },
      {
       "output_type": "stream",
       "stream": "stdout",
       "text": [
        "\n",
        "urllib(mine) sleeping to throttle requests"
       ]
      },
      {
       "output_type": "stream",
       "stream": "stdout",
       "text": [
        "\n",
        "urllib(mine) sleeping to throttle requests"
       ]
      },
      {
       "output_type": "stream",
       "stream": "stdout",
       "text": [
        "\n",
        "urllib(mine) sleeping to throttle requests"
       ]
      },
      {
       "output_type": "stream",
       "stream": "stdout",
       "text": [
        "\n",
        "urllib(mine) sleeping to throttle requests"
       ]
      },
      {
       "output_type": "stream",
       "stream": "stdout",
       "text": [
        "\n",
        "urllib(mine) sleeping to throttle requests"
       ]
      },
      {
       "output_type": "stream",
       "stream": "stdout",
       "text": [
        "\n",
        "urllib(mine) sleeping to throttle requests"
       ]
      },
      {
       "output_type": "stream",
       "stream": "stdout",
       "text": [
        "\n",
        "urllib(mine) sleeping to throttle requests"
       ]
      },
      {
       "output_type": "stream",
       "stream": "stdout",
       "text": [
        "\n",
        "urllib(mine) sleeping to throttle requests"
       ]
      },
      {
       "output_type": "stream",
       "stream": "stdout",
       "text": [
        "\n",
        "urllib(mine) sleeping to throttle requests"
       ]
      },
      {
       "output_type": "stream",
       "stream": "stdout",
       "text": [
        "\n",
        "urllib(mine) sleeping to throttle requests"
       ]
      },
      {
       "output_type": "stream",
       "stream": "stdout",
       "text": [
        "\n",
        "urllib(mine) sleeping to throttle requests"
       ]
      },
      {
       "output_type": "stream",
       "stream": "stdout",
       "text": [
        "\n",
        "urllib(mine) sleeping to throttle requests"
       ]
      },
      {
       "output_type": "stream",
       "stream": "stdout",
       "text": [
        "\n",
        "urllib(mine) sleeping to throttle requests"
       ]
      },
      {
       "output_type": "stream",
       "stream": "stdout",
       "text": [
        "\n",
        "urllib(mine) sleeping to throttle requests"
       ]
      },
      {
       "output_type": "stream",
       "stream": "stdout",
       "text": [
        "\n",
        "urllib(mine) sleeping to throttle requests"
       ]
      },
      {
       "output_type": "stream",
       "stream": "stdout",
       "text": [
        "\n",
        "urllib(mine) sleeping to throttle requests"
       ]
      },
      {
       "output_type": "stream",
       "stream": "stdout",
       "text": [
        "\n",
        "urllib(mine) sleeping to throttle requests"
       ]
      },
      {
       "output_type": "stream",
       "stream": "stdout",
       "text": [
        "\n",
        "urllib(mine) sleeping to throttle requests"
       ]
      },
      {
       "output_type": "stream",
       "stream": "stdout",
       "text": [
        "\n",
        "urllib(mine) sleeping to throttle requests"
       ]
      },
      {
       "output_type": "stream",
       "stream": "stdout",
       "text": [
        "\n",
        "urllib(mine) sleeping to throttle requests"
       ]
      },
      {
       "output_type": "stream",
       "stream": "stdout",
       "text": [
        "\n",
        "urllib(mine) sleeping to throttle requests"
       ]
      },
      {
       "output_type": "stream",
       "stream": "stdout",
       "text": [
        "\n",
        "urllib(mine) sleeping to throttle requests"
       ]
      },
      {
       "output_type": "stream",
       "stream": "stdout",
       "text": [
        "\n",
        "urllib(mine) sleeping to throttle requests"
       ]
      },
      {
       "output_type": "stream",
       "stream": "stdout",
       "text": [
        "\n",
        "urllib(mine) sleeping to throttle requests"
       ]
      },
      {
       "output_type": "stream",
       "stream": "stdout",
       "text": [
        "\n",
        "--------------------------------------"
       ]
      },
      {
       "output_type": "stream",
       "stream": "stdout",
       "text": [
        "\n",
        "Starting friend: vUQt2ZzDO2WvkwdLle9XhA\n",
        "--------------------------------------\n",
        "urllib(mine) sleeping to throttle requests\n",
        "urllib(mine) sleeping to throttle requests"
       ]
      },
      {
       "output_type": "stream",
       "stream": "stdout",
       "text": [
        "\n",
        "--------------------------------------"
       ]
      },
      {
       "output_type": "stream",
       "stream": "stdout",
       "text": [
        "\n",
        "Starting friend: 899EPLwXLsc5Y0eDjsrkRA\n",
        "--------------------------------------\n",
        "urllib(mine) sleeping to throttle requests\n",
        "urllib(mine) sleeping to throttle requests"
       ]
      },
      {
       "output_type": "stream",
       "stream": "stdout",
       "text": [
        "\n",
        "urllib(mine) sleeping to throttle requests"
       ]
      },
      {
       "output_type": "stream",
       "stream": "stdout",
       "text": [
        "\n",
        "--------------------------------------"
       ]
      },
      {
       "output_type": "stream",
       "stream": "stdout",
       "text": [
        "\n",
        "Starting friend: LI_bM_7kvi29-4FHMId1TA\n",
        "--------------------------------------\n",
        "urllib(mine) sleeping to throttle requests\n",
        "--------------------------------------"
       ]
      },
      {
       "output_type": "stream",
       "stream": "stdout",
       "text": [
        "\n",
        "Starting friend: oge2Zc9GCSZHLVU357Ag4A\n",
        "--------------------------------------\n",
        "urllib(mine) sleeping to throttle requests\n",
        "--------------------------------------"
       ]
      },
      {
       "output_type": "stream",
       "stream": "stdout",
       "text": [
        "\n",
        "Starting friend: da2BI2qvWI-XmOUF9wBKvQ\n",
        "--------------------------------------\n",
        "urllib(mine) sleeping to throttle requests\n",
        "--------------------------------------"
       ]
      },
      {
       "output_type": "stream",
       "stream": "stdout",
       "text": [
        "\n",
        "Starting friend: fn4toxlBoISq-_2tJUvzfQ\n",
        "--------------------------------------\n",
        "urllib(mine) sleeping to throttle requests\n",
        "--------------------------------------"
       ]
      },
      {
       "output_type": "stream",
       "stream": "stdout",
       "text": [
        "\n",
        "Starting friend: DP1IVQOLnv0zZqlG0vhN0A\n",
        "--------------------------------------\n",
        "urllib(mine) sleeping to throttle requests\n",
        "urllib(mine) sleeping to throttle requests"
       ]
      },
      {
       "output_type": "stream",
       "stream": "stdout",
       "text": [
        "\n",
        "urllib(mine) sleeping to throttle requests"
       ]
      },
      {
       "output_type": "stream",
       "stream": "stdout",
       "text": [
        "\n",
        "--------------------------------------"
       ]
      },
      {
       "output_type": "stream",
       "stream": "stdout",
       "text": [
        "\n",
        "Starting friend: nDXgzVo_rFbYV_qq9oaM0Q\n",
        "--------------------------------------\n",
        "urllib(mine) sleeping to throttle requests\n",
        "--------------------------------------"
       ]
      },
      {
       "output_type": "stream",
       "stream": "stdout",
       "text": [
        "\n",
        "Starting friend: 32M9czgPqVIuZWwJ87-mUQ\n",
        "--------------------------------------\n",
        "urllib(mine) sleeping to throttle requests\n",
        "urllib(mine) sleeping to throttle requests"
       ]
      },
      {
       "output_type": "stream",
       "stream": "stdout",
       "text": [
        "\n",
        "--------------------------------------"
       ]
      },
      {
       "output_type": "stream",
       "stream": "stdout",
       "text": [
        "\n",
        "Starting friend: EBC_zyaKnR00ZTkBpaZU7A\n",
        "--------------------------------------\n",
        "urllib(mine) sleeping to throttle requests\n",
        "--------------------------------------"
       ]
      },
      {
       "output_type": "stream",
       "stream": "stdout",
       "text": [
        "\n",
        "Starting friend: d01SZKYmReEar7varZB0HQ\n",
        "--------------------------------------\n",
        "urllib(mine) sleeping to throttle requests\n",
        "urllib(mine) sleeping to throttle requests"
       ]
      },
      {
       "output_type": "stream",
       "stream": "stdout",
       "text": [
        "\n",
        "urllib(mine) sleeping to throttle requests"
       ]
      },
      {
       "output_type": "stream",
       "stream": "stdout",
       "text": [
        "\n",
        "urllib(mine) sleeping to throttle requests"
       ]
      },
      {
       "output_type": "stream",
       "stream": "stdout",
       "text": [
        "\n",
        "urllib(mine) sleeping to throttle requests"
       ]
      },
      {
       "output_type": "stream",
       "stream": "stdout",
       "text": [
        "\n",
        "urllib(mine) sleeping to throttle requests"
       ]
      },
      {
       "output_type": "stream",
       "stream": "stdout",
       "text": [
        "\n",
        "urllib(mine) sleeping to throttle requests"
       ]
      },
      {
       "output_type": "stream",
       "stream": "stdout",
       "text": [
        "\n",
        "urllib(mine) sleeping to throttle requests"
       ]
      },
      {
       "output_type": "stream",
       "stream": "stdout",
       "text": [
        "\n",
        "urllib(mine) sleeping to throttle requests"
       ]
      },
      {
       "output_type": "stream",
       "stream": "stdout",
       "text": [
        "\n",
        "urllib(mine) sleeping to throttle requests"
       ]
      },
      {
       "output_type": "stream",
       "stream": "stdout",
       "text": [
        "\n",
        "urllib(mine) sleeping to throttle requests"
       ]
      },
      {
       "output_type": "stream",
       "stream": "stdout",
       "text": [
        "\n",
        "urllib(mine) sleeping to throttle requests"
       ]
      },
      {
       "output_type": "stream",
       "stream": "stdout",
       "text": [
        "\n",
        "urllib(mine) sleeping to throttle requests"
       ]
      },
      {
       "output_type": "stream",
       "stream": "stdout",
       "text": [
        "\n",
        "urllib(mine) sleeping to throttle requests"
       ]
      },
      {
       "output_type": "stream",
       "stream": "stdout",
       "text": [
        "\n",
        "urllib(mine) sleeping to throttle requests"
       ]
      },
      {
       "output_type": "stream",
       "stream": "stdout",
       "text": [
        "\n",
        "urllib(mine) sleeping to throttle requests"
       ]
      },
      {
       "output_type": "stream",
       "stream": "stdout",
       "text": [
        "\n",
        "urllib(mine) sleeping to throttle requests"
       ]
      },
      {
       "output_type": "stream",
       "stream": "stdout",
       "text": [
        "\n",
        "urllib(mine) sleeping to throttle requests"
       ]
      },
      {
       "output_type": "stream",
       "stream": "stdout",
       "text": [
        "\n",
        "urllib(mine) sleeping to throttle requests"
       ]
      },
      {
       "output_type": "stream",
       "stream": "stdout",
       "text": [
        "\n",
        "urllib(mine) sleeping to throttle requests"
       ]
      },
      {
       "output_type": "stream",
       "stream": "stdout",
       "text": [
        "\n",
        "--------------------------------------"
       ]
      },
      {
       "output_type": "stream",
       "stream": "stdout",
       "text": [
        "\n",
        "Starting friend: Zr4N9sG31fybEa-l3a_46Q\n",
        "--------------------------------------\n",
        "urllib(mine) sleeping to throttle requests\n",
        "urllib(mine) sleeping to throttle requests"
       ]
      },
      {
       "output_type": "stream",
       "stream": "stdout",
       "text": [
        "\n",
        "urllib(mine) sleeping to throttle requests"
       ]
      },
      {
       "output_type": "stream",
       "stream": "stdout",
       "text": [
        "\n",
        "urllib(mine) sleeping to throttle requests"
       ]
      },
      {
       "output_type": "stream",
       "stream": "stdout",
       "text": [
        "\n",
        "urllib(mine) sleeping to throttle requests"
       ]
      },
      {
       "output_type": "stream",
       "stream": "stdout",
       "text": [
        "\n",
        "urllib(mine) sleeping to throttle requests"
       ]
      },
      {
       "output_type": "stream",
       "stream": "stdout",
       "text": [
        "\n",
        "urllib(mine) sleeping to throttle requests"
       ]
      },
      {
       "output_type": "stream",
       "stream": "stdout",
       "text": [
        "\n",
        "urllib(mine) sleeping to throttle requests"
       ]
      },
      {
       "output_type": "stream",
       "stream": "stdout",
       "text": [
        "\n",
        "--------------------------------------"
       ]
      },
      {
       "output_type": "stream",
       "stream": "stdout",
       "text": [
        "\n",
        "Starting friend: of84RNiKqH74rp0xkyfASQ\n",
        "--------------------------------------\n",
        "urllib(mine) sleeping to throttle requests\n",
        "--------------------------------------"
       ]
      },
      {
       "output_type": "stream",
       "stream": "stdout",
       "text": [
        "\n",
        "Starting friend: KFYlDqG-xF1xZpAhQUB3EA\n",
        "--------------------------------------\n",
        "urllib(mine) sleeping to throttle requests\n",
        "urllib(mine) sleeping to throttle requests"
       ]
      },
      {
       "output_type": "stream",
       "stream": "stdout",
       "text": [
        "\n",
        "urllib(mine) sleeping to throttle requests"
       ]
      },
      {
       "output_type": "stream",
       "stream": "stdout",
       "text": [
        "\n",
        "urllib(mine) sleeping to throttle requests"
       ]
      },
      {
       "output_type": "stream",
       "stream": "stdout",
       "text": [
        "\n",
        "urllib(mine) sleeping to throttle requests"
       ]
      },
      {
       "output_type": "stream",
       "stream": "stdout",
       "text": [
        "\n",
        "urllib(mine) sleeping to throttle requests"
       ]
      },
      {
       "output_type": "stream",
       "stream": "stdout",
       "text": [
        "\n",
        "urllib(mine) sleeping to throttle requests"
       ]
      },
      {
       "output_type": "stream",
       "stream": "stdout",
       "text": [
        "\n",
        "urllib(mine) sleeping to throttle requests"
       ]
      },
      {
       "output_type": "stream",
       "stream": "stdout",
       "text": [
        "\n",
        "urllib(mine) sleeping to throttle requests"
       ]
      },
      {
       "output_type": "stream",
       "stream": "stdout",
       "text": [
        "\n",
        "urllib(mine) sleeping to throttle requests"
       ]
      },
      {
       "output_type": "stream",
       "stream": "stdout",
       "text": [
        "\n",
        "urllib(mine) sleeping to throttle requests"
       ]
      },
      {
       "output_type": "stream",
       "stream": "stdout",
       "text": [
        "\n",
        "urllib(mine) sleeping to throttle requests"
       ]
      },
      {
       "output_type": "stream",
       "stream": "stdout",
       "text": [
        "\n",
        "urllib(mine) sleeping to throttle requests"
       ]
      },
      {
       "output_type": "stream",
       "stream": "stdout",
       "text": [
        "\n",
        "urllib(mine) sleeping to throttle requests"
       ]
      },
      {
       "output_type": "stream",
       "stream": "stdout",
       "text": [
        "\n",
        "urllib(mine) sleeping to throttle requests"
       ]
      },
      {
       "output_type": "stream",
       "stream": "stdout",
       "text": [
        "\n",
        "urllib(mine) sleeping to throttle requests"
       ]
      },
      {
       "output_type": "stream",
       "stream": "stdout",
       "text": [
        "\n",
        "urllib(mine) sleeping to throttle requests"
       ]
      },
      {
       "output_type": "stream",
       "stream": "stdout",
       "text": [
        "\n",
        "urllib(mine) sleeping to throttle requests"
       ]
      },
      {
       "output_type": "stream",
       "stream": "stdout",
       "text": [
        "\n",
        "urllib(mine) sleeping to throttle requests"
       ]
      },
      {
       "output_type": "stream",
       "stream": "stdout",
       "text": [
        "\n",
        "urllib(mine) sleeping to throttle requests"
       ]
      },
      {
       "output_type": "stream",
       "stream": "stdout",
       "text": [
        "\n",
        "urllib(mine) sleeping to throttle requests"
       ]
      },
      {
       "output_type": "stream",
       "stream": "stdout",
       "text": [
        "\n",
        "urllib(mine) sleeping to throttle requests"
       ]
      },
      {
       "output_type": "stream",
       "stream": "stdout",
       "text": [
        "\n",
        "urllib(mine) sleeping to throttle requests"
       ]
      },
      {
       "output_type": "stream",
       "stream": "stdout",
       "text": [
        "\n",
        "urllib(mine) sleeping to throttle requests"
       ]
      },
      {
       "output_type": "stream",
       "stream": "stdout",
       "text": [
        "\n",
        "urllib(mine) sleeping to throttle requests"
       ]
      },
      {
       "output_type": "stream",
       "stream": "stdout",
       "text": [
        "\n",
        "urllib(mine) sleeping to throttle requests"
       ]
      },
      {
       "output_type": "stream",
       "stream": "stdout",
       "text": [
        "\n",
        "urllib(mine) sleeping to throttle requests"
       ]
      },
      {
       "output_type": "stream",
       "stream": "stdout",
       "text": [
        "\n",
        "urllib(mine) sleeping to throttle requests"
       ]
      },
      {
       "output_type": "stream",
       "stream": "stdout",
       "text": [
        "\n",
        "urllib(mine) sleeping to throttle requests"
       ]
      },
      {
       "output_type": "stream",
       "stream": "stdout",
       "text": [
        "\n",
        "urllib(mine) sleeping to throttle requests"
       ]
      },
      {
       "output_type": "stream",
       "stream": "stdout",
       "text": [
        "\n",
        "urllib(mine) sleeping to throttle requests"
       ]
      },
      {
       "output_type": "stream",
       "stream": "stdout",
       "text": [
        "\n",
        "urllib(mine) sleeping to throttle requests"
       ]
      },
      {
       "output_type": "stream",
       "stream": "stdout",
       "text": [
        "\n",
        "urllib(mine) sleeping to throttle requests"
       ]
      },
      {
       "output_type": "stream",
       "stream": "stdout",
       "text": [
        "\n",
        "urllib(mine) sleeping to throttle requests"
       ]
      },
      {
       "output_type": "stream",
       "stream": "stdout",
       "text": [
        "\n",
        "urllib(mine) sleeping to throttle requests"
       ]
      },
      {
       "output_type": "stream",
       "stream": "stdout",
       "text": [
        "\n",
        "urllib(mine) sleeping to throttle requests"
       ]
      },
      {
       "output_type": "stream",
       "stream": "stdout",
       "text": [
        "\n",
        "urllib(mine) sleeping to throttle requests"
       ]
      },
      {
       "output_type": "stream",
       "stream": "stdout",
       "text": [
        "\n",
        "urllib(mine) sleeping to throttle requests"
       ]
      },
      {
       "output_type": "stream",
       "stream": "stdout",
       "text": [
        "\n",
        "urllib(mine) sleeping to throttle requests"
       ]
      },
      {
       "output_type": "stream",
       "stream": "stdout",
       "text": [
        "\n",
        "urllib(mine) sleeping to throttle requests"
       ]
      },
      {
       "output_type": "stream",
       "stream": "stdout",
       "text": [
        "\n",
        "urllib(mine) sleeping to throttle requests"
       ]
      },
      {
       "output_type": "stream",
       "stream": "stdout",
       "text": [
        "\n",
        "urllib(mine) sleeping to throttle requests"
       ]
      },
      {
       "output_type": "stream",
       "stream": "stdout",
       "text": [
        "\n",
        "urllib(mine) sleeping to throttle requests"
       ]
      },
      {
       "output_type": "stream",
       "stream": "stdout",
       "text": [
        "\n",
        "urllib(mine) sleeping to throttle requests"
       ]
      },
      {
       "output_type": "stream",
       "stream": "stdout",
       "text": [
        "\n",
        "urllib(mine) sleeping to throttle requests"
       ]
      },
      {
       "output_type": "stream",
       "stream": "stdout",
       "text": [
        "\n",
        "urllib(mine) sleeping to throttle requests"
       ]
      },
      {
       "output_type": "stream",
       "stream": "stdout",
       "text": [
        "\n",
        "urllib(mine) sleeping to throttle requests"
       ]
      },
      {
       "output_type": "stream",
       "stream": "stdout",
       "text": [
        "\n",
        "urllib(mine) sleeping to throttle requests"
       ]
      },
      {
       "output_type": "stream",
       "stream": "stdout",
       "text": [
        "\n",
        "urllib(mine) sleeping to throttle requests"
       ]
      },
      {
       "output_type": "stream",
       "stream": "stdout",
       "text": [
        "\n",
        "urllib(mine) sleeping to throttle requests"
       ]
      },
      {
       "output_type": "stream",
       "stream": "stdout",
       "text": [
        "\n",
        "urllib(mine) sleeping to throttle requests"
       ]
      },
      {
       "output_type": "stream",
       "stream": "stdout",
       "text": [
        "\n",
        "--------------------------------------"
       ]
      },
      {
       "output_type": "stream",
       "stream": "stdout",
       "text": [
        "\n",
        "Starting friend: nc9lZENIHpHz-8VGOSvFRg\n",
        "--------------------------------------\n",
        "urllib(mine) sleeping to throttle requests\n",
        "--------------------------------------"
       ]
      },
      {
       "output_type": "stream",
       "stream": "stdout",
       "text": [
        "\n",
        "Starting friend: tuYPDR2rGWM6bL65E9XTrA\n",
        "--------------------------------------\n",
        "urllib(mine) sleeping to throttle requests\n",
        "--------------------------------------"
       ]
      },
      {
       "output_type": "stream",
       "stream": "stdout",
       "text": [
        "\n",
        "Starting friend: ID6l2LmXcxP_9fcuafUqFA\n",
        "--------------------------------------\n",
        "urllib(mine) sleeping to throttle requests\n",
        "--------------------------------------"
       ]
      },
      {
       "output_type": "stream",
       "stream": "stdout",
       "text": [
        "\n",
        "Starting friend: o-bynyv9GHdG0nHlQUeYUA\n",
        "--------------------------------------\n",
        "urllib(mine) sleeping to throttle requests\n",
        "urllib(mine) sleeping to throttle requests"
       ]
      },
      {
       "output_type": "stream",
       "stream": "stdout",
       "text": [
        "\n",
        "urllib(mine) sleeping to throttle requests"
       ]
      },
      {
       "output_type": "stream",
       "stream": "stdout",
       "text": [
        "\n",
        "urllib(mine) sleeping to throttle requests"
       ]
      },
      {
       "output_type": "stream",
       "stream": "stdout",
       "text": [
        "\n",
        "urllib(mine) sleeping to throttle requests"
       ]
      },
      {
       "output_type": "stream",
       "stream": "stdout",
       "text": [
        "\n",
        "urllib(mine) sleeping to throttle requests"
       ]
      },
      {
       "output_type": "stream",
       "stream": "stdout",
       "text": [
        "\n",
        "urllib(mine) sleeping to throttle requests"
       ]
      },
      {
       "output_type": "stream",
       "stream": "stdout",
       "text": [
        "\n",
        "urllib(mine) sleeping to throttle requests"
       ]
      },
      {
       "output_type": "stream",
       "stream": "stdout",
       "text": [
        "\n",
        "urllib(mine) sleeping to throttle requests"
       ]
      },
      {
       "output_type": "stream",
       "stream": "stdout",
       "text": [
        "\n",
        "urllib(mine) sleeping to throttle requests"
       ]
      },
      {
       "output_type": "stream",
       "stream": "stdout",
       "text": [
        "\n",
        "urllib(mine) sleeping to throttle requests"
       ]
      },
      {
       "output_type": "stream",
       "stream": "stdout",
       "text": [
        "\n",
        "urllib(mine) sleeping to throttle requests"
       ]
      },
      {
       "output_type": "stream",
       "stream": "stdout",
       "text": [
        "\n",
        "urllib(mine) sleeping to throttle requests"
       ]
      },
      {
       "output_type": "stream",
       "stream": "stdout",
       "text": [
        "\n",
        "urllib(mine) sleeping to throttle requests"
       ]
      },
      {
       "output_type": "stream",
       "stream": "stdout",
       "text": [
        "\n",
        "urllib(mine) sleeping to throttle requests"
       ]
      },
      {
       "output_type": "stream",
       "stream": "stdout",
       "text": [
        "\n",
        "urllib(mine) sleeping to throttle requests"
       ]
      },
      {
       "output_type": "stream",
       "stream": "stdout",
       "text": [
        "\n",
        "urllib(mine) sleeping to throttle requests"
       ]
      },
      {
       "output_type": "stream",
       "stream": "stdout",
       "text": [
        "\n",
        "urllib(mine) sleeping to throttle requests"
       ]
      },
      {
       "output_type": "stream",
       "stream": "stdout",
       "text": [
        "\n",
        "urllib(mine) sleeping to throttle requests"
       ]
      },
      {
       "output_type": "stream",
       "stream": "stdout",
       "text": [
        "\n",
        "urllib(mine) sleeping to throttle requests"
       ]
      },
      {
       "output_type": "stream",
       "stream": "stdout",
       "text": [
        "\n",
        "urllib(mine) sleeping to throttle requests"
       ]
      },
      {
       "output_type": "stream",
       "stream": "stdout",
       "text": [
        "\n",
        "urllib(mine) sleeping to throttle requests"
       ]
      },
      {
       "output_type": "stream",
       "stream": "stdout",
       "text": [
        "\n",
        "urllib(mine) sleeping to throttle requests"
       ]
      },
      {
       "output_type": "stream",
       "stream": "stdout",
       "text": [
        "\n",
        "urllib(mine) sleeping to throttle requests"
       ]
      },
      {
       "output_type": "stream",
       "stream": "stdout",
       "text": [
        "\n",
        "--------------------------------------"
       ]
      },
      {
       "output_type": "stream",
       "stream": "stdout",
       "text": [
        "\n",
        "Starting friend: RoyhOn6_zf5A3tRjjV8Qww\n",
        "--------------------------------------\n",
        "urllib(mine) sleeping to throttle requests\n",
        "--------------------------------------"
       ]
      },
      {
       "output_type": "stream",
       "stream": "stdout",
       "text": [
        "\n",
        "Starting friend: 1XM-kPp37G3cs2JJAPORhw\n",
        "--------------------------------------\n",
        "urllib(mine) sleeping to throttle requests\n",
        "urllib(mine) sleeping to throttle requests"
       ]
      },
      {
       "output_type": "stream",
       "stream": "stdout",
       "text": [
        "\n",
        "urllib(mine) sleeping to throttle requests"
       ]
      },
      {
       "output_type": "stream",
       "stream": "stdout",
       "text": [
        "\n",
        "urllib(mine) sleeping to throttle requests"
       ]
      },
      {
       "output_type": "stream",
       "stream": "stdout",
       "text": [
        "\n",
        "urllib(mine) sleeping to throttle requests"
       ]
      },
      {
       "output_type": "stream",
       "stream": "stdout",
       "text": [
        "\n",
        "urllib(mine) sleeping to throttle requests"
       ]
      },
      {
       "output_type": "stream",
       "stream": "stdout",
       "text": [
        "\n",
        "urllib(mine) sleeping to throttle requests"
       ]
      },
      {
       "output_type": "stream",
       "stream": "stdout",
       "text": [
        "\n",
        "urllib(mine) sleeping to throttle requests"
       ]
      },
      {
       "output_type": "stream",
       "stream": "stdout",
       "text": [
        "\n",
        "urllib(mine) sleeping to throttle requests"
       ]
      },
      {
       "output_type": "stream",
       "stream": "stdout",
       "text": [
        "\n",
        "urllib(mine) sleeping to throttle requests"
       ]
      },
      {
       "output_type": "stream",
       "stream": "stdout",
       "text": [
        "\n",
        "urllib(mine) sleeping to throttle requests"
       ]
      },
      {
       "output_type": "stream",
       "stream": "stdout",
       "text": [
        "\n",
        "urllib(mine) sleeping to throttle requests"
       ]
      },
      {
       "output_type": "stream",
       "stream": "stdout",
       "text": [
        "\n",
        "urllib(mine) sleeping to throttle requests"
       ]
      },
      {
       "output_type": "stream",
       "stream": "stdout",
       "text": [
        "\n",
        "urllib(mine) sleeping to throttle requests"
       ]
      },
      {
       "output_type": "stream",
       "stream": "stdout",
       "text": [
        "\n",
        "urllib(mine) sleeping to throttle requests"
       ]
      },
      {
       "output_type": "stream",
       "stream": "stdout",
       "text": [
        "\n",
        "urllib(mine) sleeping to throttle requests"
       ]
      },
      {
       "output_type": "stream",
       "stream": "stdout",
       "text": [
        "\n",
        "urllib(mine) sleeping to throttle requests"
       ]
      },
      {
       "output_type": "stream",
       "stream": "stdout",
       "text": [
        "\n",
        "urllib(mine) sleeping to throttle requests"
       ]
      },
      {
       "output_type": "stream",
       "stream": "stdout",
       "text": [
        "\n",
        "--------------------------------------"
       ]
      },
      {
       "output_type": "stream",
       "stream": "stdout",
       "text": [
        "\n",
        "Starting friend: pgftlWHkZdZCzA21fosd3Q\n",
        "--------------------------------------\n",
        "urllib(mine) sleeping to throttle requests\n",
        "urllib(mine) sleeping to throttle requests"
       ]
      },
      {
       "output_type": "stream",
       "stream": "stdout",
       "text": [
        "\n",
        "urllib(mine) sleeping to throttle requests"
       ]
      },
      {
       "output_type": "stream",
       "stream": "stdout",
       "text": [
        "\n",
        "urllib(mine) sleeping to throttle requests"
       ]
      },
      {
       "output_type": "stream",
       "stream": "stdout",
       "text": [
        "\n",
        "urllib(mine) sleeping to throttle requests"
       ]
      },
      {
       "output_type": "stream",
       "stream": "stdout",
       "text": [
        "\n",
        "urllib(mine) sleeping to throttle requests"
       ]
      },
      {
       "output_type": "stream",
       "stream": "stdout",
       "text": [
        "\n",
        "urllib(mine) sleeping to throttle requests"
       ]
      },
      {
       "output_type": "stream",
       "stream": "stdout",
       "text": [
        "\n",
        "urllib(mine) sleeping to throttle requests"
       ]
      },
      {
       "output_type": "stream",
       "stream": "stdout",
       "text": [
        "\n",
        "urllib(mine) sleeping to throttle requests"
       ]
      },
      {
       "output_type": "stream",
       "stream": "stdout",
       "text": [
        "\n",
        "urllib(mine) sleeping to throttle requests"
       ]
      },
      {
       "output_type": "stream",
       "stream": "stdout",
       "text": [
        "\n",
        "urllib(mine) sleeping to throttle requests"
       ]
      },
      {
       "output_type": "stream",
       "stream": "stdout",
       "text": [
        "\n",
        "urllib(mine) sleeping to throttle requests"
       ]
      },
      {
       "output_type": "stream",
       "stream": "stdout",
       "text": [
        "\n",
        "urllib(mine) sleeping to throttle requests"
       ]
      },
      {
       "output_type": "stream",
       "stream": "stdout",
       "text": [
        "\n",
        "urllib(mine) sleeping to throttle requests"
       ]
      },
      {
       "output_type": "stream",
       "stream": "stdout",
       "text": [
        "\n",
        "urllib(mine) sleeping to throttle requests"
       ]
      },
      {
       "output_type": "stream",
       "stream": "stdout",
       "text": [
        "\n",
        "urllib(mine) sleeping to throttle requests"
       ]
      },
      {
       "output_type": "stream",
       "stream": "stdout",
       "text": [
        "\n",
        "urllib(mine) sleeping to throttle requests"
       ]
      },
      {
       "output_type": "stream",
       "stream": "stdout",
       "text": [
        "\n",
        "urllib(mine) sleeping to throttle requests"
       ]
      },
      {
       "output_type": "stream",
       "stream": "stdout",
       "text": [
        "\n",
        "urllib(mine) sleeping to throttle requests"
       ]
      },
      {
       "output_type": "stream",
       "stream": "stdout",
       "text": [
        "\n",
        "urllib(mine) sleeping to throttle requests"
       ]
      },
      {
       "output_type": "stream",
       "stream": "stdout",
       "text": [
        "\n",
        "urllib(mine) sleeping to throttle requests"
       ]
      },
      {
       "output_type": "stream",
       "stream": "stdout",
       "text": [
        "\n",
        "urllib(mine) sleeping to throttle requests"
       ]
      },
      {
       "output_type": "stream",
       "stream": "stdout",
       "text": [
        "\n",
        "urllib(mine) sleeping to throttle requests"
       ]
      },
      {
       "output_type": "stream",
       "stream": "stdout",
       "text": [
        "\n",
        "urllib(mine) sleeping to throttle requests"
       ]
      },
      {
       "output_type": "stream",
       "stream": "stdout",
       "text": [
        "\n",
        "urllib(mine) sleeping to throttle requests"
       ]
      },
      {
       "output_type": "stream",
       "stream": "stdout",
       "text": [
        "\n",
        "--------------------------------------"
       ]
      },
      {
       "output_type": "stream",
       "stream": "stdout",
       "text": [
        "\n",
        "Starting friend: 48LKzWJJ2EpA6TOatnQQVA\n",
        "--------------------------------------\n",
        "urllib(mine) sleeping to throttle requests\n",
        "urllib(mine) sleeping to throttle requests"
       ]
      },
      {
       "output_type": "stream",
       "stream": "stdout",
       "text": [
        "\n",
        "urllib(mine) sleeping to throttle requests"
       ]
      },
      {
       "output_type": "stream",
       "stream": "stdout",
       "text": [
        "\n",
        "--------------------------------------"
       ]
      },
      {
       "output_type": "stream",
       "stream": "stdout",
       "text": [
        "\n",
        "Starting friend: CJkfadkPkA7j9ORJv5maDw\n",
        "--------------------------------------\n",
        "urllib(mine) sleeping to throttle requests\n",
        "urllib(mine) sleeping to throttle requests"
       ]
      },
      {
       "output_type": "stream",
       "stream": "stdout",
       "text": [
        "\n",
        "urllib(mine) sleeping to throttle requests"
       ]
      },
      {
       "output_type": "stream",
       "stream": "stdout",
       "text": [
        "\n",
        "urllib(mine) sleeping to throttle requests"
       ]
      },
      {
       "output_type": "stream",
       "stream": "stdout",
       "text": [
        "\n",
        "--------------------------------------"
       ]
      },
      {
       "output_type": "stream",
       "stream": "stdout",
       "text": [
        "\n",
        "Starting friend: jKJBqNXdFiQC1frKalfPFQ\n",
        "--------------------------------------\n",
        "urllib(mine) sleeping to throttle requests\n",
        "--------------------------------------"
       ]
      },
      {
       "output_type": "stream",
       "stream": "stdout",
       "text": [
        "\n",
        "Starting friend: ytUBQmlwkaFpcruYG9UTTQ\n",
        "--------------------------------------\n",
        "urllib(mine) sleeping to throttle requests\n",
        "urllib(mine) sleeping to throttle requests"
       ]
      },
      {
       "output_type": "stream",
       "stream": "stdout",
       "text": [
        "\n",
        "urllib(mine) sleeping to throttle requests"
       ]
      },
      {
       "output_type": "stream",
       "stream": "stdout",
       "text": [
        "\n",
        "urllib(mine) sleeping to throttle requests"
       ]
      },
      {
       "output_type": "stream",
       "stream": "stdout",
       "text": [
        "\n",
        "urllib(mine) sleeping to throttle requests"
       ]
      },
      {
       "output_type": "stream",
       "stream": "stdout",
       "text": [
        "\n",
        "--------------------------------------"
       ]
      },
      {
       "output_type": "stream",
       "stream": "stdout",
       "text": [
        "\n",
        "Starting friend: SFm6KK9GAcqRLaPR4vHBGQ\n",
        "--------------------------------------\n",
        "urllib(mine) sleeping to throttle requests\n",
        "urllib(mine) sleeping to throttle requests"
       ]
      },
      {
       "output_type": "stream",
       "stream": "stdout",
       "text": [
        "\n",
        "urllib(mine) sleeping to throttle requests"
       ]
      },
      {
       "output_type": "stream",
       "stream": "stdout",
       "text": [
        "\n",
        "urllib(mine) sleeping to throttle requests"
       ]
      },
      {
       "output_type": "stream",
       "stream": "stdout",
       "text": [
        "\n",
        "urllib(mine) sleeping to throttle requests"
       ]
      },
      {
       "output_type": "stream",
       "stream": "stdout",
       "text": [
        "\n",
        "urllib(mine) sleeping to throttle requests"
       ]
      },
      {
       "output_type": "stream",
       "stream": "stdout",
       "text": [
        "\n",
        "urllib(mine) sleeping to throttle requests"
       ]
      },
      {
       "output_type": "stream",
       "stream": "stdout",
       "text": [
        "\n",
        "--------------------------------------"
       ]
      },
      {
       "output_type": "stream",
       "stream": "stdout",
       "text": [
        "\n",
        "Starting friend: 1J3X_hgAzln4r6XiHXRwHQ\n",
        "--------------------------------------\n",
        "urllib(mine) sleeping to throttle requests\n",
        "--------------------------------------"
       ]
      },
      {
       "output_type": "stream",
       "stream": "stdout",
       "text": [
        "\n",
        "Starting friend: KYBEVBAP7QUlt1LjmatTJg\n",
        "--------------------------------------\n",
        "urllib(mine) sleeping to throttle requests\n",
        "urllib(mine) sleeping to throttle requests"
       ]
      },
      {
       "output_type": "stream",
       "stream": "stdout",
       "text": [
        "\n",
        "urllib(mine) sleeping to throttle requests"
       ]
      },
      {
       "output_type": "stream",
       "stream": "stdout",
       "text": [
        "\n",
        "urllib(mine) sleeping to throttle requests"
       ]
      },
      {
       "output_type": "stream",
       "stream": "stdout",
       "text": [
        "\n",
        "urllib(mine) sleeping to throttle requests"
       ]
      },
      {
       "output_type": "stream",
       "stream": "stdout",
       "text": [
        "\n",
        "urllib(mine) sleeping to throttle requests"
       ]
      },
      {
       "output_type": "stream",
       "stream": "stdout",
       "text": [
        "\n",
        "urllib(mine) sleeping to throttle requests"
       ]
      },
      {
       "output_type": "stream",
       "stream": "stdout",
       "text": [
        "\n",
        "urllib(mine) sleeping to throttle requests"
       ]
      },
      {
       "output_type": "stream",
       "stream": "stdout",
       "text": [
        "\n",
        "urllib(mine) sleeping to throttle requests"
       ]
      },
      {
       "output_type": "stream",
       "stream": "stdout",
       "text": [
        "\n",
        "urllib(mine) sleeping to throttle requests"
       ]
      },
      {
       "output_type": "stream",
       "stream": "stdout",
       "text": [
        "\n",
        "urllib(mine) sleeping to throttle requests"
       ]
      },
      {
       "output_type": "stream",
       "stream": "stdout",
       "text": [
        "\n",
        "urllib(mine) sleeping to throttle requests"
       ]
      },
      {
       "output_type": "stream",
       "stream": "stdout",
       "text": [
        "\n",
        "urllib(mine) sleeping to throttle requests"
       ]
      },
      {
       "output_type": "stream",
       "stream": "stdout",
       "text": [
        "\n",
        "urllib(mine) sleeping to throttle requests"
       ]
      },
      {
       "output_type": "stream",
       "stream": "stdout",
       "text": [
        "\n",
        "urllib(mine) sleeping to throttle requests"
       ]
      },
      {
       "output_type": "stream",
       "stream": "stdout",
       "text": [
        "\n",
        "urllib(mine) sleeping to throttle requests"
       ]
      },
      {
       "output_type": "stream",
       "stream": "stdout",
       "text": [
        "\n",
        "urllib(mine) sleeping to throttle requests"
       ]
      },
      {
       "output_type": "stream",
       "stream": "stdout",
       "text": [
        "\n",
        "urllib(mine) sleeping to throttle requests"
       ]
      },
      {
       "output_type": "stream",
       "stream": "stdout",
       "text": [
        "\n",
        "urllib(mine) sleeping to throttle requests"
       ]
      },
      {
       "output_type": "stream",
       "stream": "stdout",
       "text": [
        "\n",
        "urllib(mine) sleeping to throttle requests"
       ]
      },
      {
       "output_type": "stream",
       "stream": "stdout",
       "text": [
        "\n",
        "urllib(mine) sleeping to throttle requests"
       ]
      },
      {
       "output_type": "stream",
       "stream": "stdout",
       "text": [
        "\n",
        "urllib(mine) sleeping to throttle requests"
       ]
      },
      {
       "output_type": "stream",
       "stream": "stdout",
       "text": [
        "\n",
        "urllib(mine) sleeping to throttle requests"
       ]
      },
      {
       "output_type": "stream",
       "stream": "stdout",
       "text": [
        "\n",
        "urllib(mine) sleeping to throttle requests"
       ]
      },
      {
       "output_type": "stream",
       "stream": "stdout",
       "text": [
        "\n",
        "urllib(mine) sleeping to throttle requests"
       ]
      },
      {
       "output_type": "stream",
       "stream": "stdout",
       "text": [
        "\n",
        "urllib(mine) sleeping to throttle requests"
       ]
      },
      {
       "output_type": "stream",
       "stream": "stdout",
       "text": [
        "\n",
        "urllib(mine) sleeping to throttle requests"
       ]
      },
      {
       "output_type": "stream",
       "stream": "stdout",
       "text": [
        "\n",
        "urllib(mine) sleeping to throttle requests"
       ]
      },
      {
       "output_type": "stream",
       "stream": "stdout",
       "text": [
        "\n",
        "urllib(mine) sleeping to throttle requests"
       ]
      },
      {
       "output_type": "stream",
       "stream": "stdout",
       "text": [
        "\n",
        "urllib(mine) sleeping to throttle requests"
       ]
      },
      {
       "output_type": "stream",
       "stream": "stdout",
       "text": [
        "\n",
        "urllib(mine) sleeping to throttle requests"
       ]
      },
      {
       "output_type": "stream",
       "stream": "stdout",
       "text": [
        "\n",
        "urllib(mine) sleeping to throttle requests"
       ]
      },
      {
       "output_type": "stream",
       "stream": "stdout",
       "text": [
        "\n",
        "urllib(mine) sleeping to throttle requests"
       ]
      },
      {
       "output_type": "stream",
       "stream": "stdout",
       "text": [
        "\n",
        "urllib(mine) sleeping to throttle requests"
       ]
      },
      {
       "output_type": "stream",
       "stream": "stdout",
       "text": [
        "\n",
        "urllib(mine) sleeping to throttle requests"
       ]
      },
      {
       "output_type": "stream",
       "stream": "stdout",
       "text": [
        "\n",
        "urllib(mine) sleeping to throttle requests"
       ]
      },
      {
       "output_type": "stream",
       "stream": "stdout",
       "text": [
        "\n",
        "urllib(mine) sleeping to throttle requests"
       ]
      },
      {
       "output_type": "stream",
       "stream": "stdout",
       "text": [
        "\n",
        "urllib(mine) sleeping to throttle requests"
       ]
      },
      {
       "output_type": "stream",
       "stream": "stdout",
       "text": [
        "\n",
        "urllib(mine) sleeping to throttle requests"
       ]
      },
      {
       "output_type": "stream",
       "stream": "stdout",
       "text": [
        "\n",
        "urllib(mine) sleeping to throttle requests"
       ]
      },
      {
       "output_type": "stream",
       "stream": "stdout",
       "text": [
        "\n",
        "urllib(mine) sleeping to throttle requests"
       ]
      },
      {
       "output_type": "stream",
       "stream": "stdout",
       "text": [
        "\n",
        "urllib(mine) sleeping to throttle requests"
       ]
      },
      {
       "output_type": "stream",
       "stream": "stdout",
       "text": [
        "\n",
        "urllib(mine) sleeping to throttle requests"
       ]
      },
      {
       "output_type": "stream",
       "stream": "stdout",
       "text": [
        "\n",
        "urllib(mine) sleeping to throttle requests"
       ]
      },
      {
       "output_type": "stream",
       "stream": "stdout",
       "text": [
        "\n",
        "urllib(mine) sleeping to throttle requests"
       ]
      },
      {
       "output_type": "stream",
       "stream": "stdout",
       "text": [
        "\n",
        "urllib(mine) sleeping to throttle requests"
       ]
      },
      {
       "output_type": "stream",
       "stream": "stdout",
       "text": [
        "\n",
        "--------------------------------------"
       ]
      },
      {
       "output_type": "stream",
       "stream": "stdout",
       "text": [
        "\n",
        "Starting friend: WzZmHog0c3lUBOjK_gLkvQ\n",
        "--------------------------------------\n",
        "urllib(mine) sleeping to throttle requests\n",
        "--------------------------------------"
       ]
      },
      {
       "output_type": "stream",
       "stream": "stdout",
       "text": [
        "\n",
        "Starting friend: W9Ssls7ekwLOMscn4JSNgA\n",
        "--------------------------------------\n",
        "urllib(mine) sleeping to throttle requests\n",
        "urllib(mine) sleeping to throttle requests"
       ]
      },
      {
       "output_type": "stream",
       "stream": "stdout",
       "text": [
        "\n",
        "--------------------------------------"
       ]
      },
      {
       "output_type": "stream",
       "stream": "stdout",
       "text": [
        "\n",
        "Starting friend: -ra3kS_UbQyrkm53r8WfBg\n",
        "--------------------------------------\n",
        "urllib(mine) sleeping to throttle requests\n",
        "--------------------------------------"
       ]
      },
      {
       "output_type": "stream",
       "stream": "stdout",
       "text": [
        "\n",
        "Starting friend: Q8UCX7CBz8dp9X-wZefvLw\n",
        "--------------------------------------\n",
        "urllib(mine) sleeping to throttle requests\n",
        "urllib(mine) sleeping to throttle requests"
       ]
      },
      {
       "output_type": "stream",
       "stream": "stdout",
       "text": [
        "\n",
        "--------------------------------------"
       ]
      },
      {
       "output_type": "stream",
       "stream": "stdout",
       "text": [
        "\n",
        "Starting friend: BbEXgsgwPebpKMVlmeB3Yw\n",
        "--------------------------------------\n",
        "urllib(mine) sleeping to throttle requests\n",
        "--------------------------------------"
       ]
      },
      {
       "output_type": "stream",
       "stream": "stdout",
       "text": [
        "\n",
        "Starting friend: fLiGZDhHU5XyzO83cIKDrQ\n",
        "--------------------------------------\n",
        "urllib(mine) sleeping to throttle requests\n",
        "urllib(mine) sleeping to throttle requests"
       ]
      },
      {
       "output_type": "stream",
       "stream": "stdout",
       "text": [
        "\n",
        "urllib(mine) sleeping to throttle requests"
       ]
      },
      {
       "output_type": "stream",
       "stream": "stdout",
       "text": [
        "\n",
        "urllib(mine) sleeping to throttle requests"
       ]
      },
      {
       "output_type": "stream",
       "stream": "stdout",
       "text": [
        "\n",
        "--------------------------------------"
       ]
      },
      {
       "output_type": "stream",
       "stream": "stdout",
       "text": [
        "\n",
        "Starting friend: lQumH-DXRZCEtyuWGdh64g\n",
        "--------------------------------------\n",
        "urllib(mine) sleeping to throttle requests\n",
        "urllib(mine) sleeping to throttle requests"
       ]
      },
      {
       "output_type": "stream",
       "stream": "stdout",
       "text": [
        "\n",
        "--------------------------------------"
       ]
      },
      {
       "output_type": "stream",
       "stream": "stdout",
       "text": [
        "\n",
        "Starting friend: jI5grCzPrcpYgqtNVygWRQ\n",
        "--------------------------------------\n",
        "urllib(mine) sleeping to throttle requests\n",
        "urllib(mine) sleeping to throttle requests"
       ]
      },
      {
       "output_type": "stream",
       "stream": "stdout",
       "text": [
        "\n",
        "urllib(mine) sleeping to throttle requests"
       ]
      },
      {
       "output_type": "stream",
       "stream": "stdout",
       "text": [
        "\n",
        "urllib(mine) sleeping to throttle requests"
       ]
      },
      {
       "output_type": "stream",
       "stream": "stdout",
       "text": [
        "\n",
        "urllib(mine) sleeping to throttle requests"
       ]
      },
      {
       "output_type": "stream",
       "stream": "stdout",
       "text": [
        "\n",
        "urllib(mine) sleeping to throttle requests"
       ]
      },
      {
       "output_type": "stream",
       "stream": "stdout",
       "text": [
        "\n",
        "urllib(mine) sleeping to throttle requests"
       ]
      },
      {
       "output_type": "stream",
       "stream": "stdout",
       "text": [
        "\n",
        "urllib(mine) sleeping to throttle requests"
       ]
      },
      {
       "output_type": "stream",
       "stream": "stdout",
       "text": [
        "\n",
        "urllib(mine) sleeping to throttle requests"
       ]
      },
      {
       "output_type": "stream",
       "stream": "stdout",
       "text": [
        "\n",
        "urllib(mine) sleeping to throttle requests"
       ]
      },
      {
       "output_type": "stream",
       "stream": "stdout",
       "text": [
        "\n",
        "urllib(mine) sleeping to throttle requests"
       ]
      },
      {
       "output_type": "stream",
       "stream": "stdout",
       "text": [
        "\n",
        "urllib(mine) sleeping to throttle requests"
       ]
      },
      {
       "output_type": "stream",
       "stream": "stdout",
       "text": [
        "\n",
        "urllib(mine) sleeping to throttle requests"
       ]
      },
      {
       "output_type": "stream",
       "stream": "stdout",
       "text": [
        "\n",
        "urllib(mine) sleeping to throttle requests"
       ]
      },
      {
       "output_type": "stream",
       "stream": "stdout",
       "text": [
        "\n",
        "urllib(mine) sleeping to throttle requests"
       ]
      },
      {
       "output_type": "stream",
       "stream": "stdout",
       "text": [
        "\n",
        "urllib(mine) sleeping to throttle requests"
       ]
      },
      {
       "output_type": "stream",
       "stream": "stdout",
       "text": [
        "\n",
        "urllib(mine) sleeping to throttle requests"
       ]
      },
      {
       "output_type": "stream",
       "stream": "stdout",
       "text": [
        "\n",
        "urllib(mine) sleeping to throttle requests"
       ]
      },
      {
       "output_type": "stream",
       "stream": "stdout",
       "text": [
        "\n",
        "urllib(mine) sleeping to throttle requests"
       ]
      },
      {
       "output_type": "stream",
       "stream": "stdout",
       "text": [
        "\n",
        "urllib(mine) sleeping to throttle requests"
       ]
      },
      {
       "output_type": "stream",
       "stream": "stdout",
       "text": [
        "\n",
        "urllib(mine) sleeping to throttle requests"
       ]
      },
      {
       "output_type": "stream",
       "stream": "stdout",
       "text": [
        "\n",
        "urllib(mine) sleeping to throttle requests"
       ]
      },
      {
       "output_type": "stream",
       "stream": "stdout",
       "text": [
        "\n",
        "urllib(mine) sleeping to throttle requests"
       ]
      },
      {
       "output_type": "stream",
       "stream": "stdout",
       "text": [
        "\n",
        "urllib(mine) sleeping to throttle requests"
       ]
      },
      {
       "output_type": "stream",
       "stream": "stdout",
       "text": [
        "\n",
        "urllib(mine) sleeping to throttle requests"
       ]
      },
      {
       "output_type": "stream",
       "stream": "stdout",
       "text": [
        "\n",
        "urllib(mine) sleeping to throttle requests"
       ]
      },
      {
       "output_type": "stream",
       "stream": "stdout",
       "text": [
        "\n",
        "urllib(mine) sleeping to throttle requests"
       ]
      },
      {
       "output_type": "stream",
       "stream": "stdout",
       "text": [
        "\n",
        "urllib(mine) sleeping to throttle requests"
       ]
      },
      {
       "output_type": "stream",
       "stream": "stdout",
       "text": [
        "\n",
        "urllib(mine) sleeping to throttle requests"
       ]
      },
      {
       "output_type": "stream",
       "stream": "stdout",
       "text": [
        "\n",
        "urllib(mine) sleeping to throttle requests"
       ]
      },
      {
       "output_type": "stream",
       "stream": "stdout",
       "text": [
        "\n",
        "urllib(mine) sleeping to throttle requests"
       ]
      },
      {
       "output_type": "stream",
       "stream": "stdout",
       "text": [
        "\n",
        "urllib(mine) sleeping to throttle requests"
       ]
      },
      {
       "output_type": "stream",
       "stream": "stdout",
       "text": [
        "\n",
        "urllib(mine) sleeping to throttle requests"
       ]
      },
      {
       "output_type": "stream",
       "stream": "stdout",
       "text": [
        "\n",
        "urllib(mine) sleeping to throttle requests"
       ]
      },
      {
       "output_type": "stream",
       "stream": "stdout",
       "text": [
        "\n",
        "urllib(mine) sleeping to throttle requests"
       ]
      },
      {
       "output_type": "stream",
       "stream": "stdout",
       "text": [
        "\n",
        "urllib(mine) sleeping to throttle requests"
       ]
      },
      {
       "output_type": "stream",
       "stream": "stdout",
       "text": [
        "\n",
        "urllib(mine) sleeping to throttle requests"
       ]
      },
      {
       "output_type": "stream",
       "stream": "stdout",
       "text": [
        "\n",
        "urllib(mine) sleeping to throttle requests"
       ]
      },
      {
       "output_type": "stream",
       "stream": "stdout",
       "text": [
        "\n",
        "urllib(mine) sleeping to throttle requests"
       ]
      },
      {
       "output_type": "stream",
       "stream": "stdout",
       "text": [
        "\n",
        "urllib(mine) sleeping to throttle requests"
       ]
      },
      {
       "output_type": "stream",
       "stream": "stdout",
       "text": [
        "\n",
        "urllib(mine) sleeping to throttle requests"
       ]
      },
      {
       "output_type": "stream",
       "stream": "stdout",
       "text": [
        "\n",
        "urllib(mine) sleeping to throttle requests"
       ]
      },
      {
       "output_type": "stream",
       "stream": "stdout",
       "text": [
        "\n",
        "urllib(mine) sleeping to throttle requests"
       ]
      },
      {
       "output_type": "stream",
       "stream": "stdout",
       "text": [
        "\n",
        "urllib(mine) sleeping to throttle requests"
       ]
      },
      {
       "output_type": "stream",
       "stream": "stdout",
       "text": [
        "\n",
        "urllib(mine) sleeping to throttle requests"
       ]
      },
      {
       "output_type": "stream",
       "stream": "stdout",
       "text": [
        "\n",
        "urllib(mine) sleeping to throttle requests"
       ]
      },
      {
       "output_type": "stream",
       "stream": "stdout",
       "text": [
        "\n",
        "urllib(mine) sleeping to throttle requests"
       ]
      },
      {
       "output_type": "stream",
       "stream": "stdout",
       "text": [
        "\n",
        "urllib(mine) sleeping to throttle requests"
       ]
      },
      {
       "output_type": "stream",
       "stream": "stdout",
       "text": [
        "\n",
        "urllib(mine) sleeping to throttle requests"
       ]
      },
      {
       "output_type": "stream",
       "stream": "stdout",
       "text": [
        "\n",
        "urllib(mine) sleeping to throttle requests"
       ]
      },
      {
       "output_type": "stream",
       "stream": "stdout",
       "text": [
        "\n",
        "--------------------------------------"
       ]
      },
      {
       "output_type": "stream",
       "stream": "stdout",
       "text": [
        "\n",
        "Starting friend: nqfyNx21H2T3U1arCbIWsQ\n",
        "--------------------------------------\n",
        "urllib(mine) sleeping to throttle requests\n",
        "--------------------------------------"
       ]
      },
      {
       "output_type": "stream",
       "stream": "stdout",
       "text": [
        "\n",
        "Starting friend: HMJXDWtW-EmZe9ZGKx2PdQ\n",
        "--------------------------------------\n",
        "urllib(mine) sleeping to throttle requests\n",
        "urllib(mine) sleeping to throttle requests"
       ]
      },
      {
       "output_type": "stream",
       "stream": "stdout",
       "text": [
        "\n",
        "urllib(mine) sleeping to throttle requests"
       ]
      },
      {
       "output_type": "stream",
       "stream": "stdout",
       "text": [
        "\n",
        "urllib(mine) sleeping to throttle requests"
       ]
      },
      {
       "output_type": "stream",
       "stream": "stdout",
       "text": [
        "\n",
        "urllib(mine) sleeping to throttle requests"
       ]
      },
      {
       "output_type": "stream",
       "stream": "stdout",
       "text": [
        "\n",
        "urllib(mine) sleeping to throttle requests"
       ]
      },
      {
       "output_type": "stream",
       "stream": "stdout",
       "text": [
        "\n",
        "urllib(mine) sleeping to throttle requests"
       ]
      },
      {
       "output_type": "stream",
       "stream": "stdout",
       "text": [
        "\n",
        "urllib(mine) sleeping to throttle requests"
       ]
      },
      {
       "output_type": "stream",
       "stream": "stdout",
       "text": [
        "\n",
        "urllib(mine) sleeping to throttle requests"
       ]
      },
      {
       "output_type": "stream",
       "stream": "stdout",
       "text": [
        "\n",
        "urllib(mine) sleeping to throttle requests"
       ]
      },
      {
       "output_type": "stream",
       "stream": "stdout",
       "text": [
        "\n",
        "urllib(mine) sleeping to throttle requests"
       ]
      },
      {
       "output_type": "stream",
       "stream": "stdout",
       "text": [
        "\n",
        "urllib(mine) sleeping to throttle requests"
       ]
      },
      {
       "output_type": "stream",
       "stream": "stdout",
       "text": [
        "\n",
        "urllib(mine) sleeping to throttle requests"
       ]
      },
      {
       "output_type": "stream",
       "stream": "stdout",
       "text": [
        "\n",
        "urllib(mine) sleeping to throttle requests"
       ]
      },
      {
       "output_type": "stream",
       "stream": "stdout",
       "text": [
        "\n",
        "--------------------------------------"
       ]
      },
      {
       "output_type": "stream",
       "stream": "stdout",
       "text": [
        "\n",
        "Starting friend: D_yFIUn0mzMRc9LRWUSIQg\n",
        "--------------------------------------\n",
        "urllib(mine) sleeping to throttle requests\n",
        "--------------------------------------"
       ]
      },
      {
       "output_type": "stream",
       "stream": "stdout",
       "text": [
        "\n",
        "Starting friend: qt5jgELnT4Y1XFYYyvX5Sg\n",
        "--------------------------------------\n",
        "urllib(mine) sleeping to throttle requests\n",
        "urllib(mine) sleeping to throttle requests"
       ]
      },
      {
       "output_type": "stream",
       "stream": "stdout",
       "text": [
        "\n",
        "urllib(mine) sleeping to throttle requests"
       ]
      },
      {
       "output_type": "stream",
       "stream": "stdout",
       "text": [
        "\n",
        "urllib(mine) sleeping to throttle requests"
       ]
      },
      {
       "output_type": "stream",
       "stream": "stdout",
       "text": [
        "\n",
        "urllib(mine) sleeping to throttle requests"
       ]
      },
      {
       "output_type": "stream",
       "stream": "stdout",
       "text": [
        "\n",
        "urllib(mine) sleeping to throttle requests"
       ]
      },
      {
       "output_type": "stream",
       "stream": "stdout",
       "text": [
        "\n",
        "urllib(mine) sleeping to throttle requests"
       ]
      },
      {
       "output_type": "stream",
       "stream": "stdout",
       "text": [
        "\n",
        "urllib(mine) sleeping to throttle requests"
       ]
      },
      {
       "output_type": "stream",
       "stream": "stdout",
       "text": [
        "\n",
        "urllib(mine) sleeping to throttle requests"
       ]
      },
      {
       "output_type": "stream",
       "stream": "stdout",
       "text": [
        "\n",
        "urllib(mine) sleeping to throttle requests"
       ]
      },
      {
       "output_type": "stream",
       "stream": "stdout",
       "text": [
        "\n",
        "urllib(mine) sleeping to throttle requests"
       ]
      },
      {
       "output_type": "stream",
       "stream": "stdout",
       "text": [
        "\n",
        "urllib(mine) sleeping to throttle requests"
       ]
      },
      {
       "output_type": "stream",
       "stream": "stdout",
       "text": [
        "\n",
        "urllib(mine) sleeping to throttle requests"
       ]
      },
      {
       "output_type": "stream",
       "stream": "stdout",
       "text": [
        "\n",
        "urllib(mine) sleeping to throttle requests"
       ]
      },
      {
       "output_type": "stream",
       "stream": "stdout",
       "text": [
        "\n",
        "urllib(mine) sleeping to throttle requests"
       ]
      },
      {
       "output_type": "stream",
       "stream": "stdout",
       "text": [
        "\n",
        "urllib(mine) sleeping to throttle requests"
       ]
      },
      {
       "output_type": "stream",
       "stream": "stdout",
       "text": [
        "\n",
        "urllib(mine) sleeping to throttle requests"
       ]
      },
      {
       "output_type": "stream",
       "stream": "stdout",
       "text": [
        "\n",
        "urllib(mine) sleeping to throttle requests"
       ]
      },
      {
       "output_type": "stream",
       "stream": "stdout",
       "text": [
        "\n",
        "urllib(mine) sleeping to throttle requests"
       ]
      },
      {
       "output_type": "stream",
       "stream": "stdout",
       "text": [
        "\n",
        "urllib(mine) sleeping to throttle requests"
       ]
      },
      {
       "output_type": "stream",
       "stream": "stdout",
       "text": [
        "\n",
        "urllib(mine) sleeping to throttle requests"
       ]
      },
      {
       "output_type": "stream",
       "stream": "stdout",
       "text": [
        "\n",
        "urllib(mine) sleeping to throttle requests"
       ]
      },
      {
       "output_type": "stream",
       "stream": "stdout",
       "text": [
        "\n",
        "urllib(mine) sleeping to throttle requests"
       ]
      },
      {
       "output_type": "stream",
       "stream": "stdout",
       "text": [
        "\n",
        "urllib(mine) sleeping to throttle requests"
       ]
      },
      {
       "output_type": "stream",
       "stream": "stdout",
       "text": [
        "\n",
        "urllib(mine) sleeping to throttle requests"
       ]
      },
      {
       "output_type": "stream",
       "stream": "stdout",
       "text": [
        "\n",
        "urllib(mine) sleeping to throttle requests"
       ]
      },
      {
       "output_type": "stream",
       "stream": "stdout",
       "text": [
        "\n",
        "urllib(mine) sleeping to throttle requests"
       ]
      },
      {
       "output_type": "stream",
       "stream": "stdout",
       "text": [
        "\n",
        "urllib(mine) sleeping to throttle requests"
       ]
      },
      {
       "output_type": "stream",
       "stream": "stdout",
       "text": [
        "\n",
        "urllib(mine) sleeping to throttle requests"
       ]
      },
      {
       "output_type": "stream",
       "stream": "stdout",
       "text": [
        "\n",
        "urllib(mine) sleeping to throttle requests"
       ]
      },
      {
       "output_type": "stream",
       "stream": "stdout",
       "text": [
        "\n",
        "urllib(mine) sleeping to throttle requests"
       ]
      },
      {
       "output_type": "stream",
       "stream": "stdout",
       "text": [
        "\n",
        "urllib(mine) sleeping to throttle requests"
       ]
      },
      {
       "output_type": "stream",
       "stream": "stdout",
       "text": [
        "\n",
        "--------------------------------------"
       ]
      },
      {
       "output_type": "stream",
       "stream": "stdout",
       "text": [
        "\n",
        "Starting friend: Dh6yslKidleut8ycDDsCAg\n",
        "--------------------------------------\n",
        "urllib(mine) sleeping to throttle requests\n",
        "urllib(mine) sleeping to throttle requests"
       ]
      },
      {
       "output_type": "stream",
       "stream": "stdout",
       "text": [
        "\n",
        "urllib(mine) sleeping to throttle requests"
       ]
      },
      {
       "output_type": "stream",
       "stream": "stdout",
       "text": [
        "\n",
        "urllib(mine) sleeping to throttle requests"
       ]
      },
      {
       "output_type": "stream",
       "stream": "stdout",
       "text": [
        "\n",
        "urllib(mine) sleeping to throttle requests"
       ]
      },
      {
       "output_type": "stream",
       "stream": "stdout",
       "text": [
        "\n",
        "--------------------------------------"
       ]
      },
      {
       "output_type": "stream",
       "stream": "stdout",
       "text": [
        "\n",
        "Starting friend: kz9OX_kzE70MFsUKyWx5GQ\n",
        "--------------------------------------\n",
        "urllib(mine) sleeping to throttle requests\n",
        "urllib(mine) sleeping to throttle requests"
       ]
      },
      {
       "output_type": "stream",
       "stream": "stdout",
       "text": [
        "\n",
        "urllib(mine) sleeping to throttle requests"
       ]
      },
      {
       "output_type": "stream",
       "stream": "stdout",
       "text": [
        "\n",
        "--------------------------------------"
       ]
      },
      {
       "output_type": "stream",
       "stream": "stdout",
       "text": [
        "\n",
        "Starting friend: 3-fbZQYmi6ZrvGuSB5LVrQ\n",
        "--------------------------------------\n",
        "urllib(mine) sleeping to throttle requests\n",
        "urllib(mine) sleeping to throttle requests"
       ]
      },
      {
       "output_type": "stream",
       "stream": "stdout",
       "text": [
        "\n",
        "urllib(mine) sleeping to throttle requests"
       ]
      },
      {
       "output_type": "stream",
       "stream": "stdout",
       "text": [
        "\n",
        "urllib(mine) sleeping to throttle requests"
       ]
      },
      {
       "output_type": "stream",
       "stream": "stdout",
       "text": [
        "\n",
        "urllib(mine) sleeping to throttle requests"
       ]
      },
      {
       "output_type": "stream",
       "stream": "stdout",
       "text": [
        "\n",
        "urllib(mine) sleeping to throttle requests"
       ]
      },
      {
       "output_type": "stream",
       "stream": "stdout",
       "text": [
        "\n",
        "urllib(mine) sleeping to throttle requests"
       ]
      },
      {
       "output_type": "stream",
       "stream": "stdout",
       "text": [
        "\n",
        "--------------------------------------"
       ]
      },
      {
       "output_type": "stream",
       "stream": "stdout",
       "text": [
        "\n",
        "Starting friend: XfZ9TO6ZWJLp0vbUCm6g4w\n",
        "--------------------------------------\n",
        "urllib(mine) sleeping to throttle requests\n",
        "urllib(mine) sleeping to throttle requests"
       ]
      },
      {
       "output_type": "stream",
       "stream": "stdout",
       "text": [
        "\n",
        "urllib(mine) sleeping to throttle requests"
       ]
      },
      {
       "output_type": "stream",
       "stream": "stdout",
       "text": [
        "\n",
        "urllib(mine) sleeping to throttle requests"
       ]
      },
      {
       "output_type": "stream",
       "stream": "stdout",
       "text": [
        "\n",
        "urllib(mine) sleeping to throttle requests"
       ]
      },
      {
       "output_type": "stream",
       "stream": "stdout",
       "text": [
        "\n",
        "urllib(mine) sleeping to throttle requests"
       ]
      },
      {
       "output_type": "stream",
       "stream": "stdout",
       "text": [
        "\n",
        "urllib(mine) sleeping to throttle requests"
       ]
      },
      {
       "output_type": "stream",
       "stream": "stdout",
       "text": [
        "\n",
        "urllib(mine) sleeping to throttle requests"
       ]
      },
      {
       "output_type": "stream",
       "stream": "stdout",
       "text": [
        "\n",
        "urllib(mine) sleeping to throttle requests"
       ]
      },
      {
       "output_type": "stream",
       "stream": "stdout",
       "text": [
        "\n",
        "urllib(mine) sleeping to throttle requests"
       ]
      },
      {
       "output_type": "stream",
       "stream": "stdout",
       "text": [
        "\n",
        "urllib(mine) sleeping to throttle requests"
       ]
      },
      {
       "output_type": "stream",
       "stream": "stdout",
       "text": [
        "\n",
        "urllib(mine) sleeping to throttle requests"
       ]
      },
      {
       "output_type": "stream",
       "stream": "stdout",
       "text": [
        "\n",
        "urllib(mine) sleeping to throttle requests"
       ]
      },
      {
       "output_type": "stream",
       "stream": "stdout",
       "text": [
        "\n",
        "urllib(mine) sleeping to throttle requests"
       ]
      },
      {
       "output_type": "stream",
       "stream": "stdout",
       "text": [
        "\n",
        "urllib(mine) sleeping to throttle requests"
       ]
      },
      {
       "output_type": "stream",
       "stream": "stdout",
       "text": [
        "\n",
        "urllib(mine) sleeping to throttle requests"
       ]
      },
      {
       "output_type": "stream",
       "stream": "stdout",
       "text": [
        "\n",
        "urllib(mine) sleeping to throttle requests"
       ]
      },
      {
       "output_type": "stream",
       "stream": "stdout",
       "text": [
        "\n",
        "urllib(mine) sleeping to throttle requests"
       ]
      },
      {
       "output_type": "stream",
       "stream": "stdout",
       "text": [
        "\n",
        "--------------------------------------"
       ]
      },
      {
       "output_type": "stream",
       "stream": "stdout",
       "text": [
        "\n",
        "Starting friend: if2gmHIo_vc6a9c-mpDvGA\n",
        "--------------------------------------\n",
        "urllib(mine) sleeping to throttle requests\n",
        "--------------------------------------"
       ]
      },
      {
       "output_type": "stream",
       "stream": "stdout",
       "text": [
        "\n",
        "Starting friend: PmtIEpI-LQVJ7qVdpv2KlQ\n",
        "--------------------------------------\n",
        "urllib(mine) sleeping to throttle requests\n",
        "urllib(mine) sleeping to throttle requests"
       ]
      },
      {
       "output_type": "stream",
       "stream": "stdout",
       "text": [
        "\n",
        "urllib(mine) sleeping to throttle requests"
       ]
      },
      {
       "output_type": "stream",
       "stream": "stdout",
       "text": [
        "\n",
        "--------------------------------------"
       ]
      },
      {
       "output_type": "stream",
       "stream": "stdout",
       "text": [
        "\n",
        "Starting friend: yaBIVHDxaUBN2YHQ8-YiuQ\n",
        "--------------------------------------\n",
        "urllib(mine) sleeping to throttle requests\n",
        "urllib(mine) sleeping to throttle requests"
       ]
      },
      {
       "output_type": "stream",
       "stream": "stdout",
       "text": [
        "\n",
        "urllib(mine) sleeping to throttle requests"
       ]
      },
      {
       "output_type": "stream",
       "stream": "stdout",
       "text": [
        "\n",
        "urllib(mine) sleeping to throttle requests"
       ]
      },
      {
       "output_type": "stream",
       "stream": "stdout",
       "text": [
        "\n",
        "urllib(mine) sleeping to throttle requests"
       ]
      },
      {
       "output_type": "stream",
       "stream": "stdout",
       "text": [
        "\n",
        "urllib(mine) sleeping to throttle requests"
       ]
      },
      {
       "output_type": "stream",
       "stream": "stdout",
       "text": [
        "\n",
        "urllib(mine) sleeping to throttle requests"
       ]
      },
      {
       "output_type": "stream",
       "stream": "stdout",
       "text": [
        "\n",
        "urllib(mine) sleeping to throttle requests"
       ]
      },
      {
       "output_type": "stream",
       "stream": "stdout",
       "text": [
        "\n",
        "urllib(mine) sleeping to throttle requests"
       ]
      },
      {
       "output_type": "stream",
       "stream": "stdout",
       "text": [
        "\n",
        "urllib(mine) sleeping to throttle requests"
       ]
      },
      {
       "output_type": "stream",
       "stream": "stdout",
       "text": [
        "\n",
        "urllib(mine) sleeping to throttle requests"
       ]
      },
      {
       "output_type": "stream",
       "stream": "stdout",
       "text": [
        "\n",
        "urllib(mine) sleeping to throttle requests"
       ]
      },
      {
       "output_type": "stream",
       "stream": "stdout",
       "text": [
        "\n",
        "urllib(mine) sleeping to throttle requests"
       ]
      },
      {
       "output_type": "stream",
       "stream": "stdout",
       "text": [
        "\n",
        "urllib(mine) sleeping to throttle requests"
       ]
      },
      {
       "output_type": "stream",
       "stream": "stdout",
       "text": [
        "\n",
        "urllib(mine) sleeping to throttle requests"
       ]
      },
      {
       "output_type": "stream",
       "stream": "stdout",
       "text": [
        "\n",
        "urllib(mine) sleeping to throttle requests"
       ]
      },
      {
       "output_type": "stream",
       "stream": "stdout",
       "text": [
        "\n",
        "urllib(mine) sleeping to throttle requests"
       ]
      },
      {
       "output_type": "stream",
       "stream": "stdout",
       "text": [
        "\n",
        "urllib(mine) sleeping to throttle requests"
       ]
      },
      {
       "output_type": "stream",
       "stream": "stdout",
       "text": [
        "\n",
        "urllib(mine) sleeping to throttle requests"
       ]
      },
      {
       "output_type": "stream",
       "stream": "stdout",
       "text": [
        "\n",
        "urllib(mine) sleeping to throttle requests"
       ]
      },
      {
       "output_type": "stream",
       "stream": "stdout",
       "text": [
        "\n",
        "urllib(mine) sleeping to throttle requests"
       ]
      },
      {
       "output_type": "stream",
       "stream": "stdout",
       "text": [
        "\n",
        "urllib(mine) sleeping to throttle requests"
       ]
      },
      {
       "output_type": "stream",
       "stream": "stdout",
       "text": [
        "\n",
        "urllib(mine) sleeping to throttle requests"
       ]
      },
      {
       "output_type": "stream",
       "stream": "stdout",
       "text": [
        "\n",
        "urllib(mine) sleeping to throttle requests"
       ]
      },
      {
       "output_type": "stream",
       "stream": "stdout",
       "text": [
        "\n",
        "urllib(mine) sleeping to throttle requests"
       ]
      },
      {
       "output_type": "stream",
       "stream": "stdout",
       "text": [
        "\n",
        "urllib(mine) sleeping to throttle requests"
       ]
      },
      {
       "output_type": "stream",
       "stream": "stdout",
       "text": [
        "\n",
        "urllib(mine) sleeping to throttle requests"
       ]
      },
      {
       "output_type": "stream",
       "stream": "stdout",
       "text": [
        "\n",
        "urllib(mine) sleeping to throttle requests"
       ]
      },
      {
       "output_type": "stream",
       "stream": "stdout",
       "text": [
        "\n",
        "urllib(mine) sleeping to throttle requests"
       ]
      },
      {
       "output_type": "stream",
       "stream": "stdout",
       "text": [
        "\n",
        "urllib(mine) sleeping to throttle requests"
       ]
      },
      {
       "output_type": "stream",
       "stream": "stdout",
       "text": [
        "\n",
        "urllib(mine) sleeping to throttle requests"
       ]
      },
      {
       "output_type": "stream",
       "stream": "stdout",
       "text": [
        "\n",
        "urllib(mine) sleeping to throttle requests"
       ]
      },
      {
       "output_type": "stream",
       "stream": "stdout",
       "text": [
        "\n",
        "urllib(mine) sleeping to throttle requests"
       ]
      },
      {
       "output_type": "stream",
       "stream": "stdout",
       "text": [
        "\n",
        "urllib(mine) sleeping to throttle requests"
       ]
      },
      {
       "output_type": "stream",
       "stream": "stdout",
       "text": [
        "\n",
        "urllib(mine) sleeping to throttle requests"
       ]
      },
      {
       "output_type": "stream",
       "stream": "stdout",
       "text": [
        "\n",
        "urllib(mine) sleeping to throttle requests"
       ]
      },
      {
       "output_type": "stream",
       "stream": "stdout",
       "text": [
        "\n",
        "urllib(mine) sleeping to throttle requests"
       ]
      },
      {
       "output_type": "stream",
       "stream": "stdout",
       "text": [
        "\n",
        "urllib(mine) sleeping to throttle requests"
       ]
      },
      {
       "output_type": "stream",
       "stream": "stdout",
       "text": [
        "\n",
        "urllib(mine) sleeping to throttle requests"
       ]
      },
      {
       "output_type": "stream",
       "stream": "stdout",
       "text": [
        "\n",
        "urllib(mine) sleeping to throttle requests"
       ]
      },
      {
       "output_type": "stream",
       "stream": "stdout",
       "text": [
        "\n",
        "urllib(mine) sleeping to throttle requests"
       ]
      },
      {
       "output_type": "stream",
       "stream": "stdout",
       "text": [
        "\n",
        "urllib(mine) sleeping to throttle requests"
       ]
      },
      {
       "output_type": "stream",
       "stream": "stdout",
       "text": [
        "\n",
        "urllib(mine) sleeping to throttle requests"
       ]
      },
      {
       "output_type": "stream",
       "stream": "stdout",
       "text": [
        "\n",
        "urllib(mine) sleeping to throttle requests"
       ]
      },
      {
       "output_type": "stream",
       "stream": "stdout",
       "text": [
        "\n",
        "urllib(mine) sleeping to throttle requests"
       ]
      },
      {
       "output_type": "stream",
       "stream": "stdout",
       "text": [
        "\n",
        "urllib(mine) sleeping to throttle requests"
       ]
      },
      {
       "output_type": "stream",
       "stream": "stdout",
       "text": [
        "\n",
        "urllib(mine) sleeping to throttle requests"
       ]
      },
      {
       "output_type": "stream",
       "stream": "stdout",
       "text": [
        "\n",
        "urllib(mine) sleeping to throttle requests"
       ]
      },
      {
       "output_type": "stream",
       "stream": "stdout",
       "text": [
        "\n",
        "urllib(mine) sleeping to throttle requests"
       ]
      },
      {
       "output_type": "stream",
       "stream": "stdout",
       "text": [
        "\n",
        "urllib(mine) sleeping to throttle requests"
       ]
      },
      {
       "output_type": "stream",
       "stream": "stdout",
       "text": [
        "\n",
        "urllib(mine) sleeping to throttle requests"
       ]
      },
      {
       "output_type": "stream",
       "stream": "stdout",
       "text": [
        "\n",
        "--------------------------------------"
       ]
      },
      {
       "output_type": "stream",
       "stream": "stdout",
       "text": [
        "\n",
        "Starting friend: cwbjd4cT9jlQybaQ_orxoA\n",
        "--------------------------------------\n",
        "urllib(mine) sleeping to throttle requests\n",
        "urllib(mine) sleeping to throttle requests"
       ]
      },
      {
       "output_type": "stream",
       "stream": "stdout",
       "text": [
        "\n",
        "urllib(mine) sleeping to throttle requests"
       ]
      },
      {
       "output_type": "stream",
       "stream": "stdout",
       "text": [
        "\n",
        "urllib(mine) sleeping to throttle requests"
       ]
      },
      {
       "output_type": "stream",
       "stream": "stdout",
       "text": [
        "\n",
        "urllib(mine) sleeping to throttle requests"
       ]
      },
      {
       "output_type": "stream",
       "stream": "stdout",
       "text": [
        "\n",
        "urllib(mine) sleeping to throttle requests"
       ]
      },
      {
       "output_type": "stream",
       "stream": "stdout",
       "text": [
        "\n",
        "urllib(mine) sleeping to throttle requests"
       ]
      },
      {
       "output_type": "stream",
       "stream": "stdout",
       "text": [
        "\n",
        "urllib(mine) sleeping to throttle requests"
       ]
      },
      {
       "output_type": "stream",
       "stream": "stdout",
       "text": [
        "\n",
        "urllib(mine) sleeping to throttle requests"
       ]
      },
      {
       "output_type": "stream",
       "stream": "stdout",
       "text": [
        "\n",
        "urllib(mine) sleeping to throttle requests"
       ]
      },
      {
       "output_type": "stream",
       "stream": "stdout",
       "text": [
        "\n",
        "urllib(mine) sleeping to throttle requests"
       ]
      },
      {
       "output_type": "stream",
       "stream": "stdout",
       "text": [
        "\n",
        "urllib(mine) sleeping to throttle requests"
       ]
      },
      {
       "output_type": "stream",
       "stream": "stdout",
       "text": [
        "\n",
        "urllib(mine) sleeping to throttle requests"
       ]
      },
      {
       "output_type": "stream",
       "stream": "stdout",
       "text": [
        "\n",
        "urllib(mine) sleeping to throttle requests"
       ]
      },
      {
       "output_type": "stream",
       "stream": "stdout",
       "text": [
        "\n",
        "urllib(mine) sleeping to throttle requests"
       ]
      },
      {
       "output_type": "stream",
       "stream": "stdout",
       "text": [
        "\n",
        "urllib(mine) sleeping to throttle requests"
       ]
      },
      {
       "output_type": "stream",
       "stream": "stdout",
       "text": [
        "\n",
        "urllib(mine) sleeping to throttle requests"
       ]
      },
      {
       "output_type": "stream",
       "stream": "stdout",
       "text": [
        "\n",
        "urllib(mine) sleeping to throttle requests"
       ]
      },
      {
       "output_type": "stream",
       "stream": "stdout",
       "text": [
        "\n",
        "urllib(mine) sleeping to throttle requests"
       ]
      },
      {
       "output_type": "stream",
       "stream": "stdout",
       "text": [
        "\n",
        "urllib(mine) sleeping to throttle requests"
       ]
      },
      {
       "output_type": "stream",
       "stream": "stdout",
       "text": [
        "\n",
        "urllib(mine) sleeping to throttle requests"
       ]
      },
      {
       "output_type": "stream",
       "stream": "stdout",
       "text": [
        "\n",
        "urllib(mine) sleeping to throttle requests"
       ]
      },
      {
       "output_type": "stream",
       "stream": "stdout",
       "text": [
        "\n",
        "urllib(mine) sleeping to throttle requests"
       ]
      },
      {
       "output_type": "stream",
       "stream": "stdout",
       "text": [
        "\n",
        "urllib(mine) sleeping to throttle requests"
       ]
      },
      {
       "output_type": "stream",
       "stream": "stdout",
       "text": [
        "\n",
        "urllib(mine) sleeping to throttle requests"
       ]
      },
      {
       "output_type": "stream",
       "stream": "stdout",
       "text": [
        "\n",
        "urllib(mine) sleeping to throttle requests"
       ]
      },
      {
       "output_type": "stream",
       "stream": "stdout",
       "text": [
        "\n",
        "urllib(mine) sleeping to throttle requests"
       ]
      },
      {
       "output_type": "stream",
       "stream": "stdout",
       "text": [
        "\n",
        "urllib(mine) sleeping to throttle requests"
       ]
      },
      {
       "output_type": "stream",
       "stream": "stdout",
       "text": [
        "\n",
        "urllib(mine) sleeping to throttle requests"
       ]
      },
      {
       "output_type": "stream",
       "stream": "stdout",
       "text": [
        "\n",
        "urllib(mine) sleeping to throttle requests"
       ]
      },
      {
       "output_type": "stream",
       "stream": "stdout",
       "text": [
        "\n",
        "urllib(mine) sleeping to throttle requests"
       ]
      },
      {
       "output_type": "stream",
       "stream": "stdout",
       "text": [
        "\n",
        "urllib(mine) sleeping to throttle requests"
       ]
      },
      {
       "output_type": "stream",
       "stream": "stdout",
       "text": [
        "\n",
        "urllib(mine) sleeping to throttle requests"
       ]
      },
      {
       "output_type": "stream",
       "stream": "stdout",
       "text": [
        "\n",
        "urllib(mine) sleeping to throttle requests"
       ]
      },
      {
       "output_type": "stream",
       "stream": "stdout",
       "text": [
        "\n",
        "urllib(mine) sleeping to throttle requests"
       ]
      },
      {
       "output_type": "stream",
       "stream": "stdout",
       "text": [
        "\n",
        "urllib(mine) sleeping to throttle requests"
       ]
      },
      {
       "output_type": "stream",
       "stream": "stdout",
       "text": [
        "\n",
        "urllib(mine) sleeping to throttle requests"
       ]
      },
      {
       "output_type": "stream",
       "stream": "stdout",
       "text": [
        "\n",
        "urllib(mine) sleeping to throttle requests"
       ]
      },
      {
       "output_type": "stream",
       "stream": "stdout",
       "text": [
        "\n",
        "urllib(mine) sleeping to throttle requests"
       ]
      },
      {
       "output_type": "stream",
       "stream": "stdout",
       "text": [
        "\n",
        "urllib(mine) sleeping to throttle requests"
       ]
      },
      {
       "output_type": "stream",
       "stream": "stdout",
       "text": [
        "\n",
        "urllib(mine) sleeping to throttle requests"
       ]
      },
      {
       "output_type": "stream",
       "stream": "stdout",
       "text": [
        "\n",
        "urllib(mine) sleeping to throttle requests"
       ]
      },
      {
       "output_type": "stream",
       "stream": "stdout",
       "text": [
        "\n",
        "--------------------------------------"
       ]
      },
      {
       "output_type": "stream",
       "stream": "stdout",
       "text": [
        "\n",
        "Starting friend: qpqhpoCChWWaoiPzdJWoCw\n",
        "--------------------------------------\n",
        "urllib(mine) sleeping to throttle requests\n",
        "--------------------------------------"
       ]
      },
      {
       "output_type": "stream",
       "stream": "stdout",
       "text": [
        "\n",
        "Starting friend: bx--fF5wBDL0S1hsc2Kd8Q\n",
        "--------------------------------------\n",
        "urllib(mine) sleeping to throttle requests\n",
        "urllib(mine) sleeping to throttle requests"
       ]
      },
      {
       "output_type": "stream",
       "stream": "stdout",
       "text": [
        "\n",
        "urllib(mine) sleeping to throttle requests"
       ]
      },
      {
       "output_type": "stream",
       "stream": "stdout",
       "text": [
        "\n",
        "urllib(mine) sleeping to throttle requests"
       ]
      },
      {
       "output_type": "stream",
       "stream": "stdout",
       "text": [
        "\n",
        "urllib(mine) sleeping to throttle requests"
       ]
      },
      {
       "output_type": "stream",
       "stream": "stdout",
       "text": [
        "\n",
        "urllib(mine) sleeping to throttle requests"
       ]
      },
      {
       "output_type": "stream",
       "stream": "stdout",
       "text": [
        "\n"
       ]
      }
     ],
     "prompt_number": 20
    },
    {
     "cell_type": "code",
     "collapsed": false,
     "input": [
      "with open(\"friend-of-friend.json\", \"wb\") as f:\n",
      "    json.dump(friends_of_friends[:400], f)"
     ],
     "language": "python",
     "metadata": {},
     "outputs": [],
     "prompt_number": 23
    },
    {
     "cell_type": "code",
     "collapsed": false,
     "input": [],
     "language": "python",
     "metadata": {},
     "outputs": []
    }
   ],
   "metadata": {}
  }
 ]
}